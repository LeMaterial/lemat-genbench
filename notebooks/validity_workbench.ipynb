{
 "cells": [
  {
   "cell_type": "code",
   "execution_count": 1,
   "id": "4ded3c4a-f99e-4723-b5b5-2ba1e50e542e",
   "metadata": {},
   "outputs": [],
   "source": [
    "from lematerial_forgebench.metrics.validity_metrics import MinimumInteratomicDistanceMetric\n"
   ]
  },
  {
   "cell_type": "code",
   "execution_count": null,
   "id": "14e04372-e567-4557-98bd-4f4de03985d8",
   "metadata": {},
   "outputs": [],
   "source": [
    "# goals\n",
    "# add data driven values to validitity metrics (drawing from LeMat Bulk when possible) \n",
    "# start - very general (turn this from a v0 to a v1) \n",
    "# minimum interatomic distances - no more cutoff, lets look at the range in LeMatBulk and fit a kde \n",
    "# min and mean interatomic distance? also MAX??? \n",
    "\n",
    "# you've made some big promises here - Alex expects a good PR on sunday. Time to show him the best he's ever seen! "
   ]
  },
  {
   "cell_type": "code",
   "execution_count": null,
   "id": "e5a26748-4175-48af-a6c8-d5de319c6ca1",
   "metadata": {},
   "outputs": [],
   "source": []
  },
  {
   "cell_type": "code",
   "execution_count": null,
   "id": "fa522884-93dc-4874-b87e-d95078abbf21",
   "metadata": {},
   "outputs": [],
   "source": [
    "MinimumInteratomicDistanceMetric"
   ]
  }
 ],
 "metadata": {
  "kernelspec": {
   "display_name": "Python 3 (ipykernel)",
   "language": "python",
   "name": "python3"
  },
  "language_info": {
   "codemirror_mode": {
    "name": "ipython",
    "version": 3
   },
   "file_extension": ".py",
   "mimetype": "text/x-python",
   "name": "python",
   "nbconvert_exporter": "python",
   "pygments_lexer": "ipython3",
   "version": "3.11.11"
  }
 },
 "nbformat": 4,
 "nbformat_minor": 5
}
