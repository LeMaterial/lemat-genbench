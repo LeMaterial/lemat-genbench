{
  "cells": [
    {
      "cell_type": "markdown",
      "metadata": {},
      "source": [
        "# Exploring LeMat-Bulk (compatible_pbe)\n",
        "\n",
        "This notebook shows how to:\n",
        "- Stream the `LeMaterial/LeMat-Bulk` dataset (config: `compatible_pbe`)\n",
        "- Peek at the schema/features\n",
        "- Materialize a small sample to a DataFrame for quick iteration\n",
        "- Optionally save a local Parquet snapshot for faster repeated exploration\n",
        "\n",
        "Notes:\n",
        "- The full dataset is large (~5.34M rows). Use streaming and small samples.\n",
        "- Adjust `SAMPLE_SIZE` as needed.\n"
      ]
    },
    {
      "cell_type": "code",
      "execution_count": null,
      "metadata": {},
      "outputs": [],
      "source": [
        "from itertools import islice\n",
        "\n",
        "import pandas as pd\n",
        "from datasets import load_dataset\n",
        "\n",
        "pd.set_option('display.max_columns', None)\n",
        "DATASET = \"LeMaterial/LeMat-Bulk\"\n",
        "CONFIG = \"compatible_pbe\"\n",
        "\n",
        "ds_stream = load_dataset(DATASET, name=CONFIG, split=\"train\", streaming=True)\n",
        "rows = list(islice(ds_stream, 100))\n",
        "df = pd.DataFrame(rows)\n",
        "df.head()"
      ]
    },
    {
      "cell_type": "code",
      "execution_count": null,
      "metadata": {},
      "outputs": [],
      "source": [
        "df.columns"
      ]
    },
    {
      "cell_type": "code",
      "execution_count": null,
      "metadata": {},
      "outputs": [],
      "source": [
        "from typing import Any, Dict\n",
        "\n",
        "import numpy as np\n",
        "from pymatgen.core import Lattice, Structure\n",
        "\n",
        "\n",
        "def row_to_structure(row):\n",
        "    lattice = Lattice(row[\"lattice_vectors\"])\n",
        "\n",
        "    # positions: prefer cartesian\n",
        "    if row.get(\"cartesian_site_positions\"):\n",
        "        coords = row[\"cartesian_site_positions\"]\n",
        "        cart = True\n",
        "    else:\n",
        "        coords = row[\"fractional_site_positions\"]\n",
        "        cart = False\n",
        "\n",
        "    # species: prefer species_at_sites\n",
        "    species_raw = row.get(\"species_at_sites\", row.get(\"species\"))\n",
        "    species = [s[\"element\"] if isinstance(s, dict) and \"element\" in s else s for s in species_raw]\n",
        "\n",
        "    # sanity check\n",
        "    assert len(species) == len(coords), \"species/coords length mismatch\"\n",
        "\n",
        "    return Structure(lattice=lattice, species=species, coords=np.asarray(coords), coords_are_cartesian=cart)"
      ]
    },
    {
      "cell_type": "code",
      "execution_count": null,
      "metadata": {},
      "outputs": [],
      "source": [
        "structure = row_to_structure(df.iloc[0])"
      ]
    },
    {
      "cell_type": "code",
      "execution_count": null,
      "metadata": {},
      "outputs": [],
      "source": [
        "structure"
      ]
    },
    {
      "cell_type": "code",
      "execution_count": null,
      "metadata": {},
      "outputs": [],
      "source": [
        "from material_hasher.hasher.bawl import BAWLHasher\n",
        "from pymatgen.analysis.local_env import EconNN\n",
        "\n",
        "fingerprinter = BAWLHasher(\n",
        "                graphing_algorithm=\"WL\",\n",
        "                bonding_algorithm=EconNN,\n",
        "                bonding_kwargs={\n",
        "                    \"tol\": 0.2,\n",
        "                    \"cutoff\": 10,\n",
        "                    \"use_fictive_radius\": True,\n",
        "                },\n",
        "                include_composition=True,\n",
        "                symmetry_labeling=\"SPGLib\",\n",
        "                shorten_hash=False,\n",
        "            )\n",
        "fp = fingerprinter.get_material_hash(structure)"
      ]
    },
    {
      "cell_type": "code",
      "execution_count": null,
      "metadata": {},
      "outputs": [],
      "source": [
        "fp == df[\"entalpic_fingerprint\"][0]"
      ]
    },
    {
      "cell_type": "code",
      "execution_count": null,
      "metadata": {},
      "outputs": [],
      "source": []
    }
  ],
  "metadata": {
    "kernelspec": {
      "display_name": ".venv",
      "language": "python",
      "name": "python3"
    },
    "language_info": {
      "codemirror_mode": {
        "name": "ipython",
        "version": 3
      },
      "file_extension": ".py",
      "mimetype": "text/x-python",
      "name": "python",
      "nbconvert_exporter": "python",
      "pygments_lexer": "ipython3",
      "version": "3.11.0"
    }
  },
  "nbformat": 4,
  "nbformat_minor": 2
}
