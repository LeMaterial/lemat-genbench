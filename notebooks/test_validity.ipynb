{
 "cells": [
  {
   "cell_type": "code",
   "execution_count": 1,
   "id": "fa35e992-bd8b-4053-ba42-254b68dee80d",
   "metadata": {
    "scrolled": true
   },
   "outputs": [
    {
     "name": "stderr",
     "output_type": "stream",
     "text": [
      "ImportWarning: Failed to import SLICES. If you would like to use this module, please consider running uv pip install -r requirements_slices.txt\n",
      "UserWarning: pkg_resources is deprecated as an API. See https://setuptools.pypa.io/en/latest/pkg_resources.html. The pkg_resources package is slated for removal as early as 2025-11-30. Refrain from using this package or pin to Setuptools<81.\n",
      "DeprecationWarning: Deprecated call to `pkg_resources.declare_namespace('sphinxcontrib')`.\n",
      "Implementing implicit namespace packages (as specified in PEP 420) is preferred to `pkg_resources.declare_namespace`. See https://setuptools.pypa.io/en/latest/references/keywords.html#keyword-namespace-packages\n",
      "W0923 23:04:46.154000 53888 torch\\distributed\\elastic\\multiprocessing\\redirects.py:29] NOTE: Redirects are currently not supported in Windows or MacOs.\n",
      "--- Logging error ---\n",
      "Traceback (most recent call last):\n",
      "  File \"C:\\Users\\samue\\lemat-genbench\\.venv\\Lib\\site-packages\\material_hasher\\similarity\\__init__.py\", line 13, in <module>\n",
      "    from .eqv2 import EquiformerV2Similarity\n",
      "  File \"C:\\Users\\samue\\lemat-genbench\\.venv\\Lib\\site-packages\\material_hasher\\similarity\\eqv2.py\", line 12, in <module>\n",
      "    from fairchem.core import OCPCalculator\n",
      "ImportError: cannot import name 'OCPCalculator' from 'fairchem.core' (C:\\Users\\samue\\lemat-genbench\\.venv\\Lib\\site-packages\\fairchem\\core\\__init__.py)\n",
      "\n",
      "During handling of the above exception, another exception occurred:\n",
      "\n",
      "Traceback (most recent call last):\n",
      "  File \"C:\\Users\\samue\\AppData\\Roaming\\uv\\python\\cpython-3.11.11-windows-x86_64-none\\Lib\\logging\\__init__.py\", line 1110, in emit\n",
      "    msg = self.format(record)\n",
      "          ^^^^^^^^^^^^^^^^^^^\n",
      "  File \"C:\\Users\\samue\\AppData\\Roaming\\uv\\python\\cpython-3.11.11-windows-x86_64-none\\Lib\\logging\\__init__.py\", line 953, in format\n",
      "    return fmt.format(record)\n",
      "           ^^^^^^^^^^^^^^^^^^\n",
      "  File \"C:\\Users\\samue\\AppData\\Roaming\\uv\\python\\cpython-3.11.11-windows-x86_64-none\\Lib\\logging\\__init__.py\", line 687, in format\n",
      "    record.message = record.getMessage()\n",
      "                     ^^^^^^^^^^^^^^^^^^^\n",
      "  File \"C:\\Users\\samue\\AppData\\Roaming\\uv\\python\\cpython-3.11.11-windows-x86_64-none\\Lib\\logging\\__init__.py\", line 377, in getMessage\n",
      "    msg = msg % self.args\n",
      "          ~~~~^~~~~~~~~~~\n",
      "TypeError: not all arguments converted during string formatting\n",
      "Call stack:\n",
      "  File \"<frozen runpy>\", line 198, in _run_module_as_main\n",
      "  File \"<frozen runpy>\", line 88, in _run_code\n",
      "  File \"C:\\Users\\samue\\AppData\\Local\\uv\\cache\\archive-v0\\hZpxVp3fTpnteQW7a1KmN\\Lib\\site-packages\\ipykernel_launcher.py\", line 18, in <module>\n",
      "    app.launch_new_instance()\n",
      "  File \"C:\\Users\\samue\\AppData\\Local\\uv\\cache\\archive-v0\\hZpxVp3fTpnteQW7a1KmN\\Lib\\site-packages\\traitlets\\config\\application.py\", line 1075, in launch_instance\n",
      "    app.start()\n",
      "  File \"C:\\Users\\samue\\AppData\\Local\\uv\\cache\\archive-v0\\hZpxVp3fTpnteQW7a1KmN\\Lib\\site-packages\\ipykernel\\kernelapp.py\", line 739, in start\n",
      "    self.io_loop.start()\n",
      "  File \"C:\\Users\\samue\\AppData\\Local\\uv\\cache\\archive-v0\\hZpxVp3fTpnteQW7a1KmN\\Lib\\site-packages\\tornado\\platform\\asyncio.py\", line 211, in start\n",
      "    self.asyncio_loop.run_forever()\n",
      "  File \"C:\\Users\\samue\\AppData\\Roaming\\uv\\python\\cpython-3.11.11-windows-x86_64-none\\Lib\\asyncio\\base_events.py\", line 608, in run_forever\n",
      "    self._run_once()\n",
      "  File \"C:\\Users\\samue\\AppData\\Roaming\\uv\\python\\cpython-3.11.11-windows-x86_64-none\\Lib\\asyncio\\base_events.py\", line 1936, in _run_once\n",
      "    handle._run()\n",
      "  File \"C:\\Users\\samue\\AppData\\Roaming\\uv\\python\\cpython-3.11.11-windows-x86_64-none\\Lib\\asyncio\\events.py\", line 84, in _run\n",
      "    self._context.run(self._callback, *self._args)\n",
      "  File \"C:\\Users\\samue\\AppData\\Local\\uv\\cache\\archive-v0\\hZpxVp3fTpnteQW7a1KmN\\Lib\\site-packages\\ipykernel\\kernelbase.py\", line 519, in dispatch_queue\n",
      "    await self.process_one()\n",
      "  File \"C:\\Users\\samue\\AppData\\Local\\uv\\cache\\archive-v0\\hZpxVp3fTpnteQW7a1KmN\\Lib\\site-packages\\ipykernel\\kernelbase.py\", line 508, in process_one\n",
      "    await dispatch(*args)\n",
      "  File \"C:\\Users\\samue\\AppData\\Local\\uv\\cache\\archive-v0\\hZpxVp3fTpnteQW7a1KmN\\Lib\\site-packages\\ipykernel\\kernelbase.py\", line 400, in dispatch_shell\n",
      "    await result\n",
      "  File \"C:\\Users\\samue\\AppData\\Local\\uv\\cache\\archive-v0\\hZpxVp3fTpnteQW7a1KmN\\Lib\\site-packages\\ipykernel\\ipkernel.py\", line 368, in execute_request\n",
      "    await super().execute_request(stream, ident, parent)\n",
      "  File \"C:\\Users\\samue\\AppData\\Local\\uv\\cache\\archive-v0\\hZpxVp3fTpnteQW7a1KmN\\Lib\\site-packages\\ipykernel\\kernelbase.py\", line 767, in execute_request\n",
      "    reply_content = await reply_content\n",
      "  File \"C:\\Users\\samue\\AppData\\Local\\uv\\cache\\archive-v0\\hZpxVp3fTpnteQW7a1KmN\\Lib\\site-packages\\ipykernel\\ipkernel.py\", line 455, in do_execute\n",
      "    res = shell.run_cell(\n",
      "  File \"C:\\Users\\samue\\AppData\\Local\\uv\\cache\\archive-v0\\hZpxVp3fTpnteQW7a1KmN\\Lib\\site-packages\\ipykernel\\zmqshell.py\", line 577, in run_cell\n",
      "    return super().run_cell(*args, **kwargs)\n",
      "  File \"C:\\Users\\samue\\AppData\\Local\\uv\\cache\\archive-v0\\hZpxVp3fTpnteQW7a1KmN\\Lib\\site-packages\\IPython\\core\\interactiveshell.py\", line 3116, in run_cell\n",
      "    result = self._run_cell(\n",
      "  File \"C:\\Users\\samue\\AppData\\Local\\uv\\cache\\archive-v0\\hZpxVp3fTpnteQW7a1KmN\\Lib\\site-packages\\IPython\\core\\interactiveshell.py\", line 3171, in _run_cell\n",
      "    result = runner(coro)\n",
      "  File \"C:\\Users\\samue\\AppData\\Local\\uv\\cache\\archive-v0\\hZpxVp3fTpnteQW7a1KmN\\Lib\\site-packages\\IPython\\core\\async_helpers.py\", line 128, in _pseudo_sync_runner\n",
      "    coro.send(None)\n",
      "  File \"C:\\Users\\samue\\AppData\\Local\\uv\\cache\\archive-v0\\hZpxVp3fTpnteQW7a1KmN\\Lib\\site-packages\\IPython\\core\\interactiveshell.py\", line 3394, in run_cell_async\n",
      "    has_raised = await self.run_ast_nodes(code_ast.body, cell_name,\n",
      "  File \"C:\\Users\\samue\\AppData\\Local\\uv\\cache\\archive-v0\\hZpxVp3fTpnteQW7a1KmN\\Lib\\site-packages\\IPython\\core\\interactiveshell.py\", line 3639, in run_ast_nodes\n",
      "    if await self.run_code(code, result, async_=asy):\n",
      "  File \"C:\\Users\\samue\\AppData\\Local\\uv\\cache\\archive-v0\\hZpxVp3fTpnteQW7a1KmN\\Lib\\site-packages\\IPython\\core\\interactiveshell.py\", line 3699, in run_code\n",
      "    exec(code_obj, self.user_global_ns, self.user_ns)\n",
      "  File \"C:\\Users\\samue\\AppData\\Local\\Temp\\ipykernel_53888\\3909151190.py\", line 1, in <module>\n",
      "    from lemat_genbench.benchmarks.validity_benchmark import ValidityBenchmark\n",
      "  File \"<frozen importlib._bootstrap>\", line 1176, in _find_and_load\n",
      "  File \"<frozen importlib._bootstrap>\", line 1126, in _find_and_load_unlocked\n",
      "  File \"<frozen importlib._bootstrap>\", line 241, in _call_with_frames_removed\n",
      "  File \"<frozen importlib._bootstrap>\", line 1176, in _find_and_load\n",
      "  File \"<frozen importlib._bootstrap>\", line 1126, in _find_and_load_unlocked\n",
      "  File \"<frozen importlib._bootstrap>\", line 241, in _call_with_frames_removed\n",
      "  File \"<frozen importlib._bootstrap>\", line 1176, in _find_and_load\n",
      "  File \"<frozen importlib._bootstrap>\", line 1147, in _find_and_load_unlocked\n",
      "  File \"<frozen importlib._bootstrap>\", line 690, in _load_unlocked\n",
      "  File \"<frozen importlib._bootstrap_external>\", line 940, in exec_module\n",
      "  File \"<frozen importlib._bootstrap>\", line 241, in _call_with_frames_removed\n",
      "  File \"C:\\Users\\samue\\lemat-genbench\\src\\lemat_genbench\\__init__.py\", line 17, in <module>\n",
      "    from .cli import main\n",
      "  File \"<frozen importlib._bootstrap>\", line 1176, in _find_and_load\n",
      "  File \"<frozen importlib._bootstrap>\", line 1147, in _find_and_load_unlocked\n",
      "  File \"<frozen importlib._bootstrap>\", line 690, in _load_unlocked\n",
      "  File \"<frozen importlib._bootstrap_external>\", line 940, in exec_module\n",
      "  File \"<frozen importlib._bootstrap>\", line 241, in _call_with_frames_removed\n",
      "  File \"C:\\Users\\samue\\lemat-genbench\\src\\lemat_genbench\\cli.py\", line 14, in <module>\n",
      "    from lemat_genbench.benchmarks.distribution_benchmark import (\n",
      "  File \"<frozen importlib._bootstrap>\", line 1176, in _find_and_load\n",
      "  File \"<frozen importlib._bootstrap>\", line 1126, in _find_and_load_unlocked\n",
      "  File \"<frozen importlib._bootstrap>\", line 241, in _call_with_frames_removed\n",
      "  File \"<frozen importlib._bootstrap>\", line 1176, in _find_and_load\n",
      "  File \"<frozen importlib._bootstrap>\", line 1147, in _find_and_load_unlocked\n",
      "  File \"<frozen importlib._bootstrap>\", line 690, in _load_unlocked\n",
      "  File \"<frozen importlib._bootstrap_external>\", line 940, in exec_module\n",
      "  File \"<frozen importlib._bootstrap>\", line 241, in _call_with_frames_removed\n",
      "  File \"C:\\Users\\samue\\lemat-genbench\\src\\lemat_genbench\\benchmarks\\__init__.py\", line 13, in <module>\n",
      "    from .novelty_benchmark import NoveltyBenchmark\n",
      "  File \"<frozen importlib._bootstrap>\", line 1176, in _find_and_load\n",
      "  File \"<frozen importlib._bootstrap>\", line 1147, in _find_and_load_unlocked\n",
      "  File \"<frozen importlib._bootstrap>\", line 690, in _load_unlocked\n",
      "  File \"<frozen importlib._bootstrap_external>\", line 940, in exec_module\n",
      "  File \"<frozen importlib._bootstrap>\", line 241, in _call_with_frames_removed\n",
      "  File \"C:\\Users\\samue\\lemat-genbench\\src\\lemat_genbench\\benchmarks\\novelty_benchmark.py\", line 14, in <module>\n",
      "    from lemat_genbench.metrics.novelty_metric import NoveltyMetric\n",
      "  File \"<frozen importlib._bootstrap>\", line 1176, in _find_and_load\n",
      "  File \"<frozen importlib._bootstrap>\", line 1147, in _find_and_load_unlocked\n",
      "  File \"<frozen importlib._bootstrap>\", line 690, in _load_unlocked\n",
      "  File \"<frozen importlib._bootstrap_external>\", line 940, in exec_module\n",
      "  File \"<frozen importlib._bootstrap>\", line 241, in _call_with_frames_removed\n",
      "  File \"C:\\Users\\samue\\lemat-genbench\\src\\lemat_genbench\\metrics\\novelty_metric.py\", line 17, in <module>\n",
      "    from lemat_genbench.fingerprinting.encode_compositions import (\n",
      "  File \"<frozen importlib._bootstrap>\", line 1176, in _find_and_load\n",
      "  File \"<frozen importlib._bootstrap>\", line 1126, in _find_and_load_unlocked\n",
      "  File \"<frozen importlib._bootstrap>\", line 241, in _call_with_frames_removed\n",
      "  File \"<frozen importlib._bootstrap>\", line 1176, in _find_and_load\n",
      "  File \"<frozen importlib._bootstrap>\", line 1147, in _find_and_load_unlocked\n",
      "  File \"<frozen importlib._bootstrap>\", line 690, in _load_unlocked\n",
      "  File \"<frozen importlib._bootstrap_external>\", line 940, in exec_module\n",
      "  File \"<frozen importlib._bootstrap>\", line 241, in _call_with_frames_removed\n",
      "  File \"C:\\Users\\samue\\lemat-genbench\\src\\lemat_genbench\\fingerprinting\\__init__.py\", line 28, in <module>\n",
      "    from .utils import get_fingerprint, get_fingerprinter\n",
      "  File \"<frozen importlib._bootstrap>\", line 1176, in _find_and_load\n",
      "  File \"<frozen importlib._bootstrap>\", line 1147, in _find_and_load_unlocked\n",
      "  File \"<frozen importlib._bootstrap>\", line 690, in _load_unlocked\n",
      "  File \"<frozen importlib._bootstrap_external>\", line 940, in exec_module\n",
      "  File \"<frozen importlib._bootstrap>\", line 241, in _call_with_frames_removed\n",
      "  File \"C:\\Users\\samue\\lemat-genbench\\src\\lemat_genbench\\fingerprinting\\utils.py\", line 9, in <module>\n",
      "    from material_hasher.similarity.pdd import PointwiseDistanceDistributionSimilarity\n",
      "  File \"<frozen importlib._bootstrap>\", line 1176, in _find_and_load\n",
      "  File \"<frozen importlib._bootstrap>\", line 1126, in _find_and_load_unlocked\n",
      "  File \"<frozen importlib._bootstrap>\", line 241, in _call_with_frames_removed\n",
      "  File \"<frozen importlib._bootstrap>\", line 1176, in _find_and_load\n",
      "  File \"<frozen importlib._bootstrap>\", line 1147, in _find_and_load_unlocked\n",
      "  File \"<frozen importlib._bootstrap>\", line 690, in _load_unlocked\n",
      "  File \"<frozen importlib._bootstrap_external>\", line 940, in exec_module\n",
      "  File \"<frozen importlib._bootstrap>\", line 241, in _call_with_frames_removed\n",
      "  File \"C:\\Users\\samue\\lemat-genbench\\.venv\\Lib\\site-packages\\material_hasher\\similarity\\__init__.py\", line 18, in <module>\n",
      "    logging.warning(\n",
      "Message: \"EquiformerV2Similarity is not available. You need to install fairchem-core and its dependencies. This issue is known to affect MacOS systems. If you're not using MacOS, please ensure the optional dependencies required for this feature are installed. uv sync --extra fairchem and uv sync --extra geometricFor more information, refer to issue #4: https://github.com/Entalpic/material-hasher/issues/4\"\n",
      "Arguments: (\"Error: cannot import name 'OCPCalculator' from 'fairchem.core' (C:\\\\Users\\\\samue\\\\lemat-genbench\\\\.venv\\\\Lib\\\\site-packages\\\\fairchem\\\\core\\\\__init__.py)\",)\n"
     ]
    }
   ],
   "source": [
    "from lemat_genbench.benchmarks.validity_benchmark import ValidityBenchmark\n",
    "from typing import Any, Dict, List\n",
    "\n",
    "from lemat_genbench.preprocess.validity_preprocess import ValidityPreprocessor\n",
    "from lemat_genbench.utils.logging import logger\n",
    "from pathlib import Path\n",
    "from tqdm import tqdm\n",
    "from datasets import load_dataset\n",
    "import numpy as np\n",
    "import pandas as pd\n",
    "from pymatgen.core import Structure\n",
    "import time \n",
    "import gc\n",
    "import torch"
   ]
  },
  {
   "cell_type": "code",
   "execution_count": 2,
   "id": "de29e469-791e-48e4-b4be-330d78f66451",
   "metadata": {},
   "outputs": [],
   "source": [
    "def lematbulk_item_to_structure(item: dict):\n",
    "    sites = item[\"species_at_sites\"]\n",
    "    coords = item[\"cartesian_site_positions\"]\n",
    "    cell = item[\"lattice_vectors\"]\n",
    "\n",
    "    structure = Structure(\n",
    "        species=sites, coords=coords, lattice=cell, coords_are_cartesian=True\n",
    "    )\n",
    "\n",
    "    return structure"
   ]
  },
  {
   "cell_type": "code",
   "execution_count": 3,
   "id": "de9d1bc3-610c-4c8c-93a0-c714e992b7f3",
   "metadata": {},
   "outputs": [],
   "source": [
    "def run_validity_preprocessing_and_filtering(\n",
    "    structures, config: Dict[str, Any], monitor_memory: bool = False\n",
    "):\n",
    "    \"\"\"Run validity benchmark and preprocessing, then filter to valid structures only.\n",
    "\n",
    "    Returns\n",
    "    -------\n",
    "    tuple\n",
    "        (validity_benchmark_result, valid_structures, validity_filtering_metadata)\n",
    "    \"\"\"\n",
    "    # Log initial memory usage\n",
    "\n",
    "    n_total_structures = len(structures)\n",
    "    logger.info(\n",
    "        f\"🔍 Starting MANDATORY validity processing for {n_total_structures} structures...\"\n",
    "    )\n",
    "\n",
    "    # Step 1: Run validity benchmark on ALL structures\n",
    "    logger.info(\"🔍 Running MANDATORY validity benchmark on ALL structures...\")\n",
    "    start_time = time.time()\n",
    "\n",
    "    validity_settings = config.get(\"validity_settings\", {})\n",
    "    validity_benchmark = ValidityBenchmark(\n",
    "        charge_tolerance=validity_settings.get(\"charge_tolerance\", 0.1),\n",
    "        distance_scaling=validity_settings.get(\"distance_scaling\", 0.5),\n",
    "        min_density=validity_settings.get(\"min_density\", 0.01),\n",
    "        max_density=validity_settings.get(\"max_density\", 25.0),\n",
    "        check_format=validity_settings.get(\"check_format\", True),\n",
    "        check_symmetry=validity_settings.get(\"check_symmetry\", True),\n",
    "    )\n",
    "\n",
    "    validity_benchmark_result = validity_benchmark.evaluate(structures)\n",
    "\n",
    "    elapsed_time = time.time() - start_time\n",
    "    logger.info(\n",
    "        f\"✅ MANDATORY validity benchmark complete for {n_total_structures} structures in {elapsed_time:.1f}s\"\n",
    "    )\n",
    "\n",
    "    # Clean up after validity benchmark\n",
    "    cleanup_after_benchmark(\"validity\", monitor_memory)\n",
    "\n",
    "    # Step 2: Run validity preprocessor on ALL structures\n",
    "    logger.info(\"🔍 Running MANDATORY validity preprocessor on ALL structures...\")\n",
    "    start_time = time.time()\n",
    "\n",
    "    charge_tolerance = validity_settings.get(\"charge_tolerance\", 0.1)\n",
    "    distance_scaling = validity_settings.get(\"distance_scaling\", 0.5)\n",
    "    min_density = validity_settings.get(\"min_density\", 0.01)\n",
    "    max_density = validity_settings.get(\"max_density\", 25.0)\n",
    "    check_format = validity_settings.get(\"check_format\", True)\n",
    "    check_symmetry = validity_settings.get(\"check_symmetry\", True)\n",
    "\n",
    "    validity_preprocessor = ValidityPreprocessor(\n",
    "        charge_tolerance=charge_tolerance,\n",
    "        distance_scaling_factor=distance_scaling,\n",
    "        plausibility_min_density=min_density,\n",
    "        plausibility_max_density=max_density,\n",
    "        plausibility_check_format=check_format,\n",
    "        plausibility_check_symmetry=check_symmetry,\n",
    "    )\n",
    "\n",
    "    # Create source IDs for tracking\n",
    "    structure_sources = [f\"structure_{i}\" for i in range(len(structures))]\n",
    "    validity_preprocessor_result = validity_preprocessor.run(\n",
    "        structures, structure_sources=structure_sources\n",
    "    )\n",
    "    processed_structures = validity_preprocessor_result.processed_structures\n",
    "\n",
    "    elapsed_time = time.time() - start_time\n",
    "    logger.info(\n",
    "        f\"✅ MANDATORY validity preprocessing complete for {len(processed_structures)} structures in {elapsed_time:.1f}s\"\n",
    "    )\n",
    "\n",
    "    # Clean up after validity preprocessor\n",
    "    cleanup_after_preprocessor(\"validity\", monitor_memory)\n",
    "\n",
    "    # Step 3: Filter to only valid structures\n",
    "    logger.info(\"🔍 Filtering to valid structures only...\")\n",
    "\n",
    "    valid_structures = []\n",
    "    valid_structure_ids = []\n",
    "    valid_structure_sources = []\n",
    "\n",
    "    for structure in processed_structures:\n",
    "        is_valid = structure.properties.get(\"overall_valid\", False)\n",
    "        if is_valid:\n",
    "            valid_structures.append(structure)\n",
    "            valid_structure_ids.append(\n",
    "                structure.properties.get(\"structure_id\", \"unknown\")\n",
    "            )\n",
    "            valid_structure_sources.append(\n",
    "                structure.properties.get(\"original_source\", \"unknown\")\n",
    "            )\n",
    "\n",
    "    n_valid_structures = len(valid_structures)\n",
    "    n_invalid_structures = n_total_structures - n_valid_structures\n",
    "\n",
    "    # Log filtering results\n",
    "    logger.info(\n",
    "        f\"✅ Filtering complete: {n_valid_structures} valid structures out of {n_total_structures} total\"\n",
    "    )\n",
    "    logger.info(f\"📊 Valid: {n_valid_structures}, Invalid: {n_invalid_structures}\")\n",
    "\n",
    "    if n_valid_structures == 0:\n",
    "        logger.warning(\n",
    "            \"⚠️  No valid structures found! All subsequent benchmarks will be skipped.\"\n",
    "        )\n",
    "\n",
    "    # Create filtering metadata\n",
    "    validity_filtering_metadata = {\n",
    "        \"total_input_structures\": n_total_structures,\n",
    "        \"valid_structures\": n_valid_structures,\n",
    "        \"invalid_structures\": n_invalid_structures,\n",
    "        \"validity_rate\": n_valid_structures / n_total_structures\n",
    "        if n_total_structures > 0\n",
    "        else 0.0,\n",
    "        \"valid_structure_ids\": valid_structure_ids,\n",
    "        \"valid_structure_sources\": valid_structure_sources,\n",
    "    }\n",
    "\n",
    "    # Log final memory usage\n",
    "    # log_memory_usage(\"after validity filtering\", force_log=monitor_memory)\n",
    "\n",
    "    return validity_benchmark_result, valid_structures, validity_filtering_metadata, processed_structures"
   ]
  },
  {
   "cell_type": "code",
   "execution_count": 4,
   "id": "c2c8fac5-5452-4421-9f31-2f3b7a20484f",
   "metadata": {},
   "outputs": [],
   "source": [
    "def cleanup_after_benchmark(benchmark_name: str, monitor_memory: bool = False):\n",
    "    \"\"\"Clean up memory after running a benchmark.\"\"\"\n",
    "    logger.info(f\"🧹 Cleaning up after {benchmark_name} benchmark...\")\n",
    "\n",
    "    # Clear memory\n",
    "    clear_memory()\n",
    "\n",
    "    # Log memory usage\n",
    "    # log_memory_usage(f\"after {benchmark_name} cleanup\", force_log=monitor_memory)"
   ]
  },
  {
   "cell_type": "code",
   "execution_count": 5,
   "id": "45055ddf-f292-445a-8eb3-069e9bf72275",
   "metadata": {},
   "outputs": [],
   "source": [
    "def clear_memory():\n",
    "    \"\"\"Clear memory by running garbage collection and clearing PyTorch cache.\"\"\"\n",
    "    # Run Python garbage collection\n",
    "    gc.collect()\n",
    "\n",
    "    # Clear PyTorch cache if available\n",
    "    if torch.cuda.is_available():\n",
    "        torch.cuda.empty_cache()\n",
    "\n",
    "    # Force garbage collection again\n",
    "    gc.collect()\n",
    "\n",
    "    logger.debug(\"🧹 Memory cleared (garbage collection + PyTorch cache)\")"
   ]
  },
  {
   "cell_type": "code",
   "execution_count": 6,
   "id": "2a81ee3e-258c-40aa-b56d-c36d4626b56b",
   "metadata": {},
   "outputs": [],
   "source": [
    "def cleanup_after_preprocessor(preprocessor_name: str, monitor_memory: bool = False):\n",
    "    \"\"\"Clean up memory after running a preprocessor.\"\"\"\n",
    "    logger.info(f\"🧹 Cleaning up after {preprocessor_name} preprocessor...\")\n",
    "\n",
    "    # Clear memory\n",
    "    clear_memory()\n",
    "\n",
    "    # Clear MLIP models if it was a MLIP preprocessor\n",
    "    if \"mlip\" in preprocessor_name.lower():\n",
    "        clear_mlip_models()\n",
    "\n",
    "    # Log memory usage\n",
    "    # log_memory_usage(f\"after {preprocessor_name} cleanup\", force_log=monitor_memory)"
   ]
  },
  {
   "cell_type": "code",
   "execution_count": 7,
   "id": "f209fcb7-6f53-4e7a-9d07-2bc05f4d9b32",
   "metadata": {},
   "outputs": [
    {
     "data": {
      "application/vnd.jupyter.widget-view+json": {
       "model_id": "fb7fb29c5dfe47b79a8a6c35d4880be4",
       "version_major": 2,
       "version_minor": 0
      },
      "text/plain": [
       "Resolving data files:   0%|          | 0/17 [00:00<?, ?it/s]"
      ]
     },
     "metadata": {},
     "output_type": "display_data"
    },
    {
     "data": {
      "application/vnd.jupyter.widget-view+json": {
       "model_id": "413c156527cc44b581c7e5addcf98a80",
       "version_major": 2,
       "version_minor": 0
      },
      "text/plain": [
       "Resolving data files:   0%|          | 0/17 [00:00<?, ?it/s]"
      ]
     },
     "metadata": {},
     "output_type": "display_data"
    },
    {
     "data": {
      "application/vnd.jupyter.widget-view+json": {
       "model_id": "4bc1df53149c48a89536dffc17cb3008",
       "version_major": 2,
       "version_minor": 0
      },
      "text/plain": [
       "Loading dataset shards:   0%|          | 0/17 [00:00<?, ?it/s]"
      ]
     },
     "metadata": {},
     "output_type": "display_data"
    }
   ],
   "source": [
    "dataset_name = \"Lematerial/LeMat-Bulk\"\n",
    "name = \"compatible_pbe\"\n",
    "split = \"train\"\n",
    "dataset = load_dataset(dataset_name, name=name, split=split, streaming=False)"
   ]
  },
  {
   "cell_type": "code",
   "execution_count": 20,
   "id": "4c4f53b0-0168-45c6-9776-3497bf148406",
   "metadata": {},
   "outputs": [],
   "source": [
    "np.random.seed(32)\n",
    "indicies = np.random.randint(0, len(dataset), 6000)"
   ]
  },
  {
   "cell_type": "code",
   "execution_count": 31,
   "id": "3fd2e2ff-a8df-4d7a-8988-4cf1a3e1e740",
   "metadata": {},
   "outputs": [
    {
     "data": {
      "text/plain": [
       "np.int32(384403)"
      ]
     },
     "execution_count": 31,
     "metadata": {},
     "output_type": "execute_result"
    }
   ],
   "source": [
    "indicies[5]"
   ]
  },
  {
   "cell_type": "code",
   "execution_count": 32,
   "id": "fbce179b-88e6-4beb-8473-02a5c649de74",
   "metadata": {},
   "outputs": [
    {
     "data": {
      "text/plain": [
       "{'elements': ['Ho', 'In', 'N', 'Pm'],\n",
       " 'nsites': 5,\n",
       " 'chemical_formula_anonymous': 'A2BCD',\n",
       " 'chemical_formula_reduced': 'Ho2InNPm',\n",
       " 'chemical_formula_descriptive': 'Pm1 Ho2 In1 N1',\n",
       " 'nelements': 4,\n",
       " 'dimension_types': [1, 1, 1],\n",
       " 'nperiodic_dimensions': 3,\n",
       " 'lattice_vectors': [[4.97859257, 0.0, 0.0],\n",
       "  [0.0, 4.80446104, 0.0],\n",
       "  [0.0, 0.0, 4.80446104]],\n",
       " 'immutable_id': 'agm005014102',\n",
       " 'cartesian_site_positions': [[2.489296285, 0.0, 0.0],\n",
       "  [0.0, 0.0, 2.40223052],\n",
       "  [0.0, 2.40223052, 0.0],\n",
       "  [2.489296285, 2.40223052, 2.40223052],\n",
       "  [0.0, 0.0, 0.0]],\n",
       " 'species': '[{\"mass\": null, \"name\": \"In\", \"attached\": null, \"nattached\": null, \"concentration\": [1], \"original_name\": null, \"chemical_symbols\": [\"In\"]}, {\"mass\": null, \"name\": \"Ho\", \"attached\": null, \"nattached\": null, \"concentration\": [1], \"original_name\": null, \"chemical_symbols\": [\"Ho\"]}, {\"mass\": null, \"name\": \"Pm\", \"attached\": null, \"nattached\": null, \"concentration\": [1], \"original_name\": null, \"chemical_symbols\": [\"Pm\"]}, {\"mass\": null, \"name\": \"N\", \"attached\": null, \"nattached\": null, \"concentration\": [1], \"original_name\": null, \"chemical_symbols\": [\"N\"]}]',\n",
       " 'species_at_sites': ['Pm', 'Ho', 'Ho', 'In', 'N'],\n",
       " 'last_modified': '2023-11-16 06:57:59',\n",
       " 'elements_ratios': [0.4, 0.2, 0.2, 0.2],\n",
       " 'stress_tensor': [[0.22890726, 0.0, 0.0],\n",
       "  [0.0, 0.06289557, 0.0],\n",
       "  [0.0, 0.0, 0.06289557]],\n",
       " 'energy': -29.78296246,\n",
       " 'magnetic_moments': [0.0, 0.0, 0.0, 0.0, 0.0],\n",
       " 'forces': [[0.0, 0.0, 0.0],\n",
       "  [0.0, 0.0, 0.0],\n",
       "  [0.0, 0.0, 0.0],\n",
       "  [0.0, 0.0, 0.0],\n",
       "  [0.0, 0.0, 0.0]],\n",
       " 'total_magnetization': 4.4e-06,\n",
       " 'dos_ef': 2.436266,\n",
       " 'functional': 'pbe',\n",
       " 'cross_compatibility': True,\n",
       " 'entalpic_fingerprint': '515defbc0b06708d05f9da6ff10d1d46_123_Pm1Ho2In1N1'}"
      ]
     },
     "execution_count": 32,
     "metadata": {},
     "output_type": "execute_result"
    }
   ],
   "source": [
    "dataset[384403]"
   ]
  },
  {
   "cell_type": "code",
   "execution_count": 21,
   "id": "f58cc91f-56cc-4d51-b1e5-1374b1ec151b",
   "metadata": {},
   "outputs": [
    {
     "name": "stderr",
     "output_type": "stream",
     "text": [
      "100%|███████████████████████████████████████████████████████████████████████████| 6000/6000 [00:05<00:00, 1147.37it/s]\n"
     ]
    }
   ],
   "source": [
    "# row = []\n",
    "structures = []\n",
    "for i in tqdm(range(len(indicies))):\n",
    "    # print(index)\n",
    "    index = int(indicies[i])\n",
    "    strut = lematbulk_item_to_structure(dataset[index])\n",
    "    structures.append(strut)\n",
    "    # name = dataset[index][\"immutable_id\"]\n",
    "    # row.append([name, strut])"
   ]
  },
  {
   "cell_type": "code",
   "execution_count": 22,
   "id": "b4dd067f-0cb1-4bb9-b022-385a26cab471",
   "metadata": {},
   "outputs": [],
   "source": [
    "# lematbulk_df = pd.DataFrame(row, columns = [\"immutable_id\", \"LeMatStructs\"])\n",
    "# lematbulk_df.to_csv(\"lematbulk_sample_df.csv\")"
   ]
  },
  {
   "cell_type": "code",
   "execution_count": 23,
   "id": "740da904-2038-43b5-bf53-76f7207d7d4a",
   "metadata": {},
   "outputs": [],
   "source": [
    "# lematbulk_df = pd.read_csv(\"lematbulk_sample_df.csv\")"
   ]
  },
  {
   "cell_type": "code",
   "execution_count": 24,
   "id": "00b22839-323c-446b-989b-34afcfbcce71",
   "metadata": {},
   "outputs": [],
   "source": [
    "config = {\n",
    "    \"validity\": True,  # ALWAYS run validity preprocessing\n",
    "    \"distribution\": False,\n",
    "    \"stability\": False,\n",
    "    \"embeddings\": False,\n",
    "    \"fingerprint\": False,\n",
    "}"
   ]
  },
  {
   "cell_type": "code",
   "execution_count": 25,
   "id": "35fb9162-927f-4d26-9ad0-942b27e38143",
   "metadata": {
    "scrolled": true
   },
   "outputs": [
    {
     "data": {
      "text/html": [
       "<pre style=\"white-space:pre;overflow-x:auto;line-height:normal;font-family:Menlo,'DejaVu Sans Mono',consolas,'Courier New',monospace\"><span style=\"color: #7fbfbf; text-decoration-color: #7fbfbf\">[23:12:15] </span><span style=\"color: #000080; text-decoration-color: #000080\">INFO    </span> 🔍 Starting MANDATORY validity processing for <span style=\"color: #008080; text-decoration-color: #008080; font-weight: bold\">6000</span> structures<span style=\"color: #808000; text-decoration-color: #808000\">...</span>               <a href=\"file://C:\\Users\\samue\\AppData\\Local\\Temp\\ipykernel_53888\\2631243110.py\" target=\"_blank\"><span style=\"color: #7f7f7f; text-decoration-color: #7f7f7f\">2631243110.py</span></a><span style=\"color: #7f7f7f; text-decoration-color: #7f7f7f\">:</span><a href=\"file://C:\\Users\\samue\\AppData\\Local\\Temp\\ipykernel_53888\\2631243110.py#14\" target=\"_blank\"><span style=\"color: #7f7f7f; text-decoration-color: #7f7f7f\">14</span></a>\n",
       "</pre>\n"
      ],
      "text/plain": [
       "\u001b[2;36m[23:12:15]\u001b[0m\u001b[2;36m \u001b[0m\u001b[34mINFO    \u001b[0m 🔍 Starting MANDATORY validity processing for \u001b[1;36m6000\u001b[0m structures\u001b[33m...\u001b[0m               \u001b]8;id=917245;file://C:\\Users\\samue\\AppData\\Local\\Temp\\ipykernel_53888\\2631243110.py\u001b\\\u001b[2m2631243110.py\u001b[0m\u001b]8;;\u001b\\\u001b[2m:\u001b[0m\u001b]8;id=306863;file://C:\\Users\\samue\\AppData\\Local\\Temp\\ipykernel_53888\\2631243110.py#14\u001b\\\u001b[2m14\u001b[0m\u001b]8;;\u001b\\\n"
      ]
     },
     "metadata": {},
     "output_type": "display_data"
    },
    {
     "data": {
      "text/html": [
       "<pre style=\"white-space:pre;overflow-x:auto;line-height:normal;font-family:Menlo,'DejaVu Sans Mono',consolas,'Courier New',monospace\"><span style=\"color: #7fbfbf; text-decoration-color: #7fbfbf\">           </span><span style=\"color: #000080; text-decoration-color: #000080\">INFO    </span> 🔍 Running MANDATORY validity benchmark on ALL structures<span style=\"color: #808000; text-decoration-color: #808000\">...</span>                   <a href=\"file://C:\\Users\\samue\\AppData\\Local\\Temp\\ipykernel_53888\\2631243110.py\" target=\"_blank\"><span style=\"color: #7f7f7f; text-decoration-color: #7f7f7f\">2631243110.py</span></a><span style=\"color: #7f7f7f; text-decoration-color: #7f7f7f\">:</span><a href=\"file://C:\\Users\\samue\\AppData\\Local\\Temp\\ipykernel_53888\\2631243110.py#19\" target=\"_blank\"><span style=\"color: #7f7f7f; text-decoration-color: #7f7f7f\">19</span></a>\n",
       "</pre>\n"
      ],
      "text/plain": [
       "\u001b[2;36m          \u001b[0m\u001b[2;36m \u001b[0m\u001b[34mINFO    \u001b[0m 🔍 Running MANDATORY validity benchmark on ALL structures\u001b[33m...\u001b[0m                   \u001b]8;id=347133;file://C:\\Users\\samue\\AppData\\Local\\Temp\\ipykernel_53888\\2631243110.py\u001b\\\u001b[2m2631243110.py\u001b[0m\u001b]8;;\u001b\\\u001b[2m:\u001b[0m\u001b]8;id=457530;file://C:\\Users\\samue\\AppData\\Local\\Temp\\ipykernel_53888\\2631243110.py#19\u001b\\\u001b[2m19\u001b[0m\u001b]8;;\u001b\\\n"
      ]
     },
     "metadata": {},
     "output_type": "display_data"
    },
    {
     "name": "stdout",
     "output_type": "stream",
     "text": [
      "IndexError\n",
      "IndexError\n",
      "IndexError\n",
      "IndexError\n",
      "IndexError\n",
      "IndexError\n",
      "IndexError\n",
      "IndexError\n",
      "IndexError\n",
      "IndexError\n",
      "IndexError\n",
      "IndexError\n",
      "IndexError\n",
      "IndexError\n",
      "IndexError\n",
      "IndexError\n",
      "IndexError\n",
      "IndexError\n",
      "IndexError\n",
      "IndexError\n",
      "IndexError\n",
      "IndexError\n",
      "IndexError\n",
      "IndexError\n",
      "IndexError\n",
      "IndexError\n",
      "IndexError\n",
      "IndexError\n",
      "IndexError\n",
      "IndexError\n",
      "IndexError\n",
      "IndexError\n",
      "IndexError\n",
      "IndexError\n",
      "IndexError\n",
      "IndexError\n",
      "IndexError\n",
      "IndexError\n",
      "IndexError\n",
      "IndexError\n",
      "IndexError\n",
      "IndexError\n",
      "IndexError\n",
      "IndexError\n",
      "IndexError\n",
      "IndexError\n",
      "IndexError\n",
      "IndexError\n",
      "IndexError\n",
      "IndexError\n",
      "IndexError\n",
      "IndexError\n",
      "IndexError\n",
      "IndexError\n",
      "IndexError\n",
      "IndexError\n",
      "IndexError\n",
      "IndexError\n",
      "IndexError\n",
      "IndexError\n",
      "IndexError\n",
      "IndexError\n",
      "IndexError\n",
      "IndexError\n",
      "IndexError\n",
      "IndexError\n",
      "IndexError\n",
      "IndexError\n",
      "IndexError\n",
      "IndexError\n",
      "IndexError\n",
      "IndexError\n",
      "IndexError\n",
      "IndexError\n",
      "IndexError\n",
      "IndexError\n",
      "IndexError\n",
      "IndexError\n",
      "IndexError\n",
      "IndexError\n",
      "IndexError\n",
      "IndexError\n",
      "IndexError\n",
      "IndexError\n",
      "IndexError\n",
      "IndexError\n",
      "IndexError\n",
      "IndexError\n",
      "IndexError\n",
      "IndexError\n",
      "IndexError\n",
      "IndexError\n",
      "IndexError\n",
      "IndexError\n",
      "IndexError\n",
      "IndexError\n",
      "IndexError\n",
      "IndexError\n",
      "IndexError\n",
      "IndexError\n",
      "IndexError\n",
      "IndexError\n",
      "IndexError\n",
      "IndexError\n",
      "IndexError\n",
      "IndexError\n",
      "IndexError\n",
      "IndexError\n",
      "IndexError\n",
      "IndexError\n",
      "IndexError\n",
      "IndexError\n",
      "IndexError\n",
      "IndexError\n",
      "IndexError\n",
      "IndexError\n",
      "IndexError\n",
      "IndexError\n",
      "IndexError\n",
      "IndexError\n",
      "IndexError\n",
      "IndexError\n",
      "IndexError\n",
      "IndexError\n",
      "IndexError\n",
      "IndexError\n",
      "IndexError\n",
      "IndexError\n",
      "IndexError\n",
      "IndexError\n",
      "IndexError\n",
      "IndexError\n",
      "IndexError\n",
      "IndexError\n",
      "IndexError\n",
      "IndexError\n",
      "IndexError\n",
      "IndexError\n",
      "IndexError\n",
      "IndexError\n",
      "IndexError\n",
      "IndexError\n",
      "IndexError\n",
      "IndexError\n",
      "IndexError\n",
      "IndexError\n",
      "IndexError\n",
      "IndexError\n",
      "IndexError\n",
      "IndexError\n",
      "IndexError\n",
      "IndexError\n",
      "IndexError\n",
      "IndexError\n",
      "IndexError\n",
      "IndexError\n",
      "IndexError\n",
      "IndexError\n",
      "IndexError\n",
      "IndexError\n",
      "IndexError\n",
      "IndexError\n",
      "IndexError\n",
      "IndexError\n",
      "IndexError\n",
      "IndexError\n",
      "IndexError\n",
      "IndexError\n",
      "IndexError\n",
      "IndexError\n",
      "IndexError\n",
      "IndexError\n",
      "IndexError\n",
      "IndexError\n",
      "IndexError\n",
      "IndexError\n",
      "IndexError\n",
      "IndexError\n",
      "IndexError\n",
      "IndexError\n",
      "IndexError\n",
      "IndexError\n",
      "IndexError\n",
      "IndexError\n",
      "IndexError\n",
      "IndexError\n",
      "IndexError\n",
      "IndexError\n",
      "IndexError\n",
      "IndexError\n",
      "IndexError\n",
      "IndexError\n",
      "IndexError\n",
      "IndexError\n",
      "IndexError\n",
      "IndexError\n",
      "IndexError\n",
      "IndexError\n",
      "IndexError\n",
      "IndexError\n",
      "IndexError\n",
      "IndexError\n",
      "IndexError\n",
      "IndexError\n",
      "IndexError\n",
      "IndexError\n",
      "IndexError\n",
      "IndexError\n",
      "IndexError\n",
      "IndexError\n",
      "IndexError\n",
      "IndexError\n",
      "IndexError\n",
      "IndexError\n",
      "IndexError\n",
      "IndexError\n",
      "IndexError\n",
      "IndexError\n",
      "IndexError\n",
      "IndexError\n",
      "IndexError\n",
      "IndexError\n",
      "IndexError\n",
      "IndexError\n",
      "IndexError\n",
      "IndexError\n",
      "IndexError\n",
      "IndexError\n",
      "IndexError\n",
      "IndexError\n",
      "IndexError\n",
      "IndexError\n",
      "IndexError\n",
      "IndexError\n",
      "IndexError\n",
      "IndexError\n",
      "IndexError\n",
      "IndexError\n",
      "IndexError\n",
      "IndexError\n",
      "IndexError\n",
      "IndexError\n",
      "IndexError\n",
      "IndexError\n",
      "IndexError\n",
      "IndexError\n",
      "IndexError\n",
      "IndexError\n",
      "IndexError\n",
      "IndexError\n",
      "IndexError\n",
      "IndexError\n",
      "IndexError\n",
      "IndexError\n",
      "IndexError\n",
      "IndexError\n",
      "IndexError\n",
      "IndexError\n",
      "IndexError\n",
      "IndexError\n",
      "IndexError\n",
      "IndexError\n",
      "IndexError\n",
      "IndexError\n",
      "IndexError\n",
      "IndexError\n",
      "IndexError\n",
      "IndexError\n",
      "IndexError\n",
      "IndexError\n",
      "IndexError\n",
      "IndexError\n",
      "IndexError\n",
      "IndexError\n",
      "IndexError\n",
      "IndexError\n",
      "IndexError\n",
      "IndexError\n",
      "IndexError\n",
      "IndexError\n",
      "IndexError\n",
      "IndexError\n",
      "IndexError\n",
      "IndexError\n",
      "IndexError\n",
      "IndexError\n",
      "IndexError\n",
      "IndexError\n",
      "IndexError\n",
      "IndexError\n",
      "IndexError\n",
      "IndexError\n",
      "IndexError\n",
      "IndexError\n",
      "IndexError\n",
      "IndexError\n",
      "IndexError\n",
      "IndexError\n",
      "IndexError\n",
      "IndexError\n",
      "IndexError\n",
      "IndexError\n",
      "IndexError\n",
      "IndexError\n",
      "IndexError\n",
      "IndexError\n",
      "IndexError\n",
      "IndexError\n",
      "IndexError\n",
      "IndexError\n",
      "IndexError\n",
      "IndexError\n",
      "IndexError\n",
      "IndexError\n",
      "IndexError\n",
      "IndexError\n",
      "IndexError\n",
      "IndexError\n",
      "IndexError\n",
      "IndexError\n",
      "IndexError\n",
      "IndexError\n",
      "IndexError\n",
      "IndexError\n",
      "IndexError\n",
      "IndexError\n",
      "IndexError\n",
      "IndexError\n",
      "IndexError\n",
      "IndexError\n",
      "IndexError\n",
      "IndexError\n",
      "IndexError\n",
      "IndexError\n",
      "IndexError\n",
      "IndexError\n",
      "IndexError\n",
      "IndexError\n",
      "IndexError\n",
      "IndexError\n",
      "IndexError\n",
      "IndexError\n",
      "IndexError\n",
      "IndexError\n",
      "IndexError\n",
      "IndexError\n",
      "IndexError\n",
      "IndexError\n",
      "IndexError\n",
      "IndexError\n",
      "IndexError\n",
      "IndexError\n",
      "IndexError\n",
      "IndexError\n",
      "IndexError\n",
      "IndexError\n",
      "IndexError\n",
      "IndexError\n",
      "IndexError\n",
      "IndexError\n",
      "IndexError\n",
      "IndexError\n",
      "IndexError\n",
      "IndexError\n",
      "IndexError\n",
      "IndexError\n",
      "IndexError\n",
      "IndexError\n",
      "IndexError\n",
      "IndexError\n",
      "IndexError\n",
      "IndexError\n",
      "IndexError\n",
      "IndexError\n",
      "IndexError\n",
      "IndexError\n",
      "IndexError\n",
      "IndexError\n",
      "IndexError\n",
      "IndexError\n",
      "IndexError\n",
      "IndexError\n",
      "IndexError\n",
      "IndexError\n",
      "IndexError\n",
      "IndexError\n",
      "IndexError\n",
      "IndexError\n",
      "IndexError\n",
      "IndexError\n",
      "IndexError\n",
      "IndexError\n",
      "IndexError\n",
      "IndexError\n",
      "IndexError\n",
      "IndexError\n",
      "IndexError\n",
      "IndexError\n",
      "IndexError\n",
      "IndexError\n",
      "IndexError\n",
      "IndexError\n",
      "IndexError\n",
      "IndexError\n",
      "IndexError\n",
      "IndexError\n",
      "IndexError\n",
      "IndexError\n",
      "IndexError\n",
      "IndexError\n",
      "IndexError\n",
      "IndexError\n",
      "IndexError\n",
      "IndexError\n",
      "IndexError\n",
      "IndexError\n",
      "IndexError\n",
      "IndexError\n",
      "IndexError\n",
      "IndexError\n",
      "IndexError\n",
      "IndexError\n",
      "IndexError\n",
      "IndexError\n",
      "IndexError\n",
      "IndexError\n",
      "IndexError\n",
      "IndexError\n",
      "IndexError\n",
      "IndexError\n",
      "IndexError\n",
      "IndexError\n",
      "IndexError\n",
      "IndexError\n",
      "IndexError\n",
      "IndexError\n",
      "IndexError\n",
      "IndexError\n",
      "IndexError\n",
      "IndexError\n",
      "IndexError\n",
      "IndexError\n",
      "IndexError\n",
      "IndexError\n",
      "IndexError\n",
      "IndexError\n",
      "IndexError\n",
      "IndexError\n",
      "IndexError\n",
      "IndexError\n",
      "IndexError\n",
      "IndexError\n",
      "IndexError\n",
      "IndexError\n",
      "IndexError\n",
      "IndexError\n",
      "IndexError\n",
      "IndexError\n",
      "IndexError\n",
      "IndexError\n",
      "IndexError\n",
      "IndexError\n",
      "IndexError\n",
      "IndexError\n",
      "IndexError\n",
      "IndexError\n",
      "IndexError\n",
      "IndexError\n",
      "IndexError\n",
      "IndexError\n",
      "IndexError\n",
      "IndexError\n",
      "IndexError\n",
      "IndexError\n",
      "IndexError\n",
      "IndexError\n",
      "IndexError\n",
      "IndexError\n",
      "IndexError\n",
      "IndexError\n",
      "IndexError\n",
      "IndexError\n",
      "IndexError\n",
      "IndexError\n",
      "IndexError\n",
      "IndexError\n",
      "IndexError\n",
      "IndexError\n",
      "IndexError\n",
      "IndexError\n",
      "IndexError\n",
      "IndexError\n",
      "IndexError\n",
      "IndexError\n",
      "IndexError\n",
      "IndexError\n",
      "IndexError\n",
      "IndexError\n",
      "IndexError\n",
      "IndexError\n",
      "IndexError\n",
      "IndexError\n",
      "IndexError\n",
      "IndexError\n",
      "IndexError\n",
      "IndexError\n",
      "IndexError\n",
      "IndexError\n",
      "IndexError\n",
      "IndexError\n",
      "IndexError\n",
      "IndexError\n",
      "IndexError\n",
      "IndexError\n",
      "IndexError\n",
      "IndexError\n",
      "IndexError\n",
      "IndexError\n",
      "IndexError\n",
      "IndexError\n",
      "IndexError\n",
      "IndexError\n",
      "IndexError\n",
      "IndexError\n",
      "IndexError\n",
      "IndexError\n",
      "IndexError\n",
      "IndexError\n",
      "IndexError\n",
      "IndexError\n",
      "IndexError\n",
      "IndexError\n",
      "IndexError\n",
      "IndexError\n",
      "IndexError\n",
      "IndexError\n",
      "IndexError\n",
      "IndexError\n",
      "IndexError\n",
      "IndexError\n",
      "IndexError\n",
      "IndexError\n",
      "IndexError\n",
      "IndexError\n",
      "IndexError\n",
      "IndexError\n",
      "IndexError\n",
      "IndexError\n",
      "IndexError\n",
      "IndexError\n",
      "IndexError\n",
      "IndexError\n",
      "IndexError\n",
      "IndexError\n",
      "IndexError\n",
      "IndexError\n",
      "IndexError\n",
      "IndexError\n",
      "IndexError\n",
      "IndexError\n",
      "IndexError\n",
      "IndexError\n",
      "IndexError\n",
      "IndexError\n",
      "IndexError\n",
      "IndexError\n",
      "IndexError\n",
      "IndexError\n",
      "IndexError\n",
      "IndexError\n",
      "IndexError\n",
      "IndexError\n",
      "IndexError\n",
      "IndexError\n",
      "IndexError\n",
      "IndexError\n",
      "IndexError\n",
      "IndexError\n",
      "IndexError\n",
      "IndexError\n",
      "IndexError\n",
      "IndexError\n",
      "IndexError\n",
      "IndexError\n",
      "IndexError\n",
      "IndexError\n",
      "IndexError\n",
      "IndexError\n",
      "IndexError\n",
      "IndexError\n",
      "IndexError\n",
      "IndexError\n",
      "IndexError\n",
      "IndexError\n",
      "IndexError\n",
      "IndexError\n",
      "IndexError\n",
      "IndexError\n",
      "IndexError\n",
      "IndexError\n",
      "IndexError\n",
      "IndexError\n",
      "IndexError\n",
      "IndexError\n",
      "IndexError\n",
      "IndexError\n",
      "IndexError\n",
      "IndexError\n",
      "IndexError\n",
      "IndexError\n",
      "IndexError\n",
      "IndexError\n",
      "IndexError\n",
      "IndexError\n",
      "IndexError\n",
      "IndexError\n",
      "IndexError\n",
      "IndexError\n",
      "IndexError\n",
      "IndexError\n",
      "IndexError\n",
      "IndexError\n",
      "IndexError\n",
      "IndexError\n",
      "IndexError\n",
      "IndexError\n",
      "IndexError\n",
      "IndexError\n",
      "IndexError\n",
      "IndexError\n",
      "IndexError\n",
      "IndexError\n",
      "IndexError\n",
      "IndexError\n",
      "IndexError\n",
      "IndexError\n",
      "IndexError\n",
      "IndexError\n",
      "IndexError\n",
      "IndexError\n",
      "IndexError\n",
      "IndexError\n",
      "IndexError\n",
      "IndexError\n",
      "IndexError\n",
      "IndexError\n",
      "IndexError\n",
      "IndexError\n",
      "IndexError\n",
      "IndexError\n",
      "IndexError\n",
      "IndexError\n",
      "IndexError\n",
      "IndexError\n",
      "IndexError\n",
      "IndexError\n",
      "IndexError\n",
      "IndexError\n",
      "IndexError\n",
      "IndexError\n",
      "IndexError\n",
      "IndexError\n",
      "IndexError\n",
      "IndexError\n",
      "IndexError\n",
      "IndexError\n",
      "IndexError\n",
      "IndexError\n",
      "IndexError\n",
      "IndexError\n",
      "IndexError\n",
      "IndexError\n",
      "IndexError\n",
      "IndexError\n",
      "IndexError\n",
      "IndexError\n",
      "IndexError\n",
      "IndexError\n",
      "IndexError\n",
      "IndexError\n",
      "IndexError\n",
      "IndexError\n",
      "IndexError\n",
      "IndexError\n",
      "IndexError\n",
      "IndexError\n",
      "IndexError\n",
      "IndexError\n",
      "IndexError\n",
      "IndexError\n",
      "IndexError\n",
      "IndexError\n",
      "IndexError\n",
      "IndexError\n",
      "IndexError\n",
      "IndexError\n",
      "IndexError\n",
      "IndexError\n",
      "IndexError\n",
      "IndexError\n",
      "IndexError\n",
      "IndexError\n",
      "IndexError\n",
      "IndexError\n",
      "IndexError\n",
      "IndexError\n",
      "IndexError\n",
      "IndexError\n",
      "IndexError\n",
      "IndexError\n",
      "IndexError\n",
      "IndexError\n",
      "IndexError\n",
      "IndexError\n",
      "IndexError\n",
      "IndexError\n",
      "IndexError\n",
      "IndexError\n",
      "IndexError\n",
      "IndexError\n",
      "IndexError\n",
      "IndexError\n",
      "IndexError\n",
      "IndexError\n",
      "IndexError\n",
      "IndexError\n",
      "IndexError\n",
      "IndexError\n",
      "IndexError\n",
      "IndexError\n",
      "IndexError\n",
      "IndexError\n",
      "IndexError\n",
      "IndexError\n",
      "IndexError\n",
      "IndexError\n",
      "IndexError\n",
      "IndexError\n",
      "IndexError\n",
      "IndexError\n",
      "IndexError\n",
      "IndexError\n",
      "IndexError\n",
      "IndexError\n",
      "IndexError\n",
      "IndexError\n",
      "IndexError\n",
      "IndexError\n",
      "IndexError\n",
      "IndexError\n",
      "IndexError\n",
      "IndexError\n",
      "IndexError\n",
      "IndexError\n",
      "IndexError\n",
      "IndexError\n",
      "IndexError\n",
      "IndexError\n",
      "IndexError\n",
      "IndexError\n",
      "IndexError\n",
      "IndexError\n",
      "IndexError\n",
      "IndexError\n",
      "IndexError\n",
      "IndexError\n",
      "IndexError\n",
      "IndexError\n",
      "IndexError\n",
      "IndexError\n",
      "IndexError\n",
      "IndexError\n",
      "IndexError\n",
      "IndexError\n",
      "IndexError\n",
      "IndexError\n",
      "IndexError\n",
      "IndexError\n",
      "IndexError\n",
      "IndexError\n",
      "IndexError\n",
      "IndexError\n",
      "IndexError\n",
      "IndexError\n",
      "IndexError\n",
      "IndexError\n",
      "IndexError\n",
      "IndexError\n",
      "IndexError\n",
      "IndexError\n",
      "IndexError\n",
      "IndexError\n",
      "IndexError\n",
      "IndexError\n",
      "IndexError\n",
      "IndexError\n",
      "IndexError\n",
      "IndexError\n",
      "IndexError\n",
      "IndexError\n",
      "IndexError\n",
      "IndexError\n",
      "IndexError\n",
      "IndexError\n",
      "IndexError\n",
      "IndexError\n",
      "IndexError\n",
      "IndexError\n",
      "IndexError\n",
      "IndexError\n",
      "IndexError\n",
      "IndexError\n",
      "IndexError\n",
      "IndexError\n",
      "IndexError\n",
      "IndexError\n",
      "IndexError\n",
      "IndexError\n",
      "IndexError\n",
      "IndexError\n",
      "IndexError\n",
      "IndexError\n",
      "IndexError\n",
      "IndexError\n",
      "IndexError\n",
      "IndexError\n",
      "IndexError\n",
      "IndexError\n",
      "IndexError\n",
      "IndexError\n",
      "IndexError\n",
      "IndexError\n",
      "IndexError\n",
      "IndexError\n",
      "IndexError\n",
      "IndexError\n",
      "IndexError\n",
      "IndexError\n",
      "IndexError\n",
      "IndexError\n",
      "IndexError\n",
      "IndexError\n",
      "IndexError\n",
      "IndexError\n",
      "IndexError\n",
      "IndexError\n",
      "IndexError\n",
      "IndexError\n",
      "IndexError\n",
      "IndexError\n",
      "IndexError\n",
      "IndexError\n",
      "IndexError\n",
      "IndexError\n",
      "IndexError\n",
      "IndexError\n",
      "IndexError\n",
      "IndexError\n",
      "IndexError\n",
      "IndexError\n",
      "IndexError\n",
      "IndexError\n",
      "IndexError\n",
      "IndexError\n",
      "IndexError\n",
      "IndexError\n",
      "IndexError\n",
      "IndexError\n",
      "IndexError\n",
      "IndexError\n",
      "IndexError\n",
      "IndexError\n",
      "IndexError\n",
      "IndexError\n",
      "IndexError\n",
      "IndexError\n",
      "IndexError\n",
      "IndexError\n",
      "IndexError\n",
      "IndexError\n",
      "IndexError\n",
      "IndexError\n",
      "IndexError\n",
      "IndexError\n",
      "IndexError\n",
      "IndexError\n",
      "IndexError\n",
      "IndexError\n",
      "IndexError\n",
      "IndexError\n",
      "IndexError\n",
      "IndexError\n",
      "IndexError\n",
      "IndexError\n",
      "IndexError\n",
      "IndexError\n",
      "IndexError\n",
      "IndexError\n",
      "IndexError\n",
      "IndexError\n",
      "IndexError\n",
      "IndexError\n",
      "IndexError\n",
      "IndexError\n",
      "IndexError\n",
      "IndexError\n",
      "IndexError\n",
      "IndexError\n",
      "IndexError\n",
      "IndexError\n",
      "IndexError\n",
      "IndexError\n",
      "IndexError\n",
      "IndexError\n",
      "IndexError\n",
      "IndexError\n",
      "IndexError\n",
      "IndexError\n",
      "IndexError\n",
      "IndexError\n",
      "IndexError\n",
      "IndexError\n",
      "IndexError\n",
      "IndexError\n",
      "IndexError\n",
      "IndexError\n",
      "IndexError\n",
      "IndexError\n",
      "IndexError\n",
      "IndexError\n",
      "IndexError\n",
      "IndexError\n",
      "IndexError\n",
      "IndexError\n",
      "IndexError\n",
      "IndexError\n",
      "IndexError\n",
      "IndexError\n",
      "IndexError\n",
      "IndexError\n",
      "IndexError\n",
      "IndexError\n",
      "IndexError\n",
      "IndexError\n",
      "IndexError\n",
      "IndexError\n",
      "IndexError\n",
      "IndexError\n",
      "IndexError\n",
      "IndexError\n",
      "IndexError\n",
      "IndexError\n",
      "IndexError\n",
      "IndexError\n",
      "IndexError\n",
      "IndexError\n",
      "IndexError\n",
      "IndexError\n",
      "IndexError\n",
      "IndexError\n",
      "IndexError\n",
      "IndexError\n",
      "IndexError\n",
      "IndexError\n",
      "IndexError\n",
      "IndexError\n",
      "IndexError\n",
      "IndexError\n",
      "IndexError\n",
      "IndexError\n",
      "IndexError\n",
      "IndexError\n",
      "IndexError\n",
      "IndexError\n",
      "IndexError\n",
      "IndexError\n",
      "IndexError\n",
      "IndexError\n",
      "IndexError\n",
      "IndexError\n",
      "IndexError\n",
      "IndexError\n",
      "IndexError\n",
      "IndexError\n",
      "IndexError\n",
      "IndexError\n",
      "IndexError\n",
      "IndexError\n",
      "IndexError\n",
      "IndexError\n",
      "IndexError\n",
      "IndexError\n",
      "IndexError\n",
      "IndexError\n",
      "IndexError\n",
      "IndexError\n",
      "IndexError\n",
      "IndexError\n",
      "IndexError\n",
      "IndexError\n",
      "IndexError\n",
      "IndexError\n",
      "IndexError\n",
      "IndexError\n",
      "IndexError\n",
      "IndexError\n",
      "IndexError\n",
      "IndexError\n",
      "IndexError\n",
      "IndexError\n",
      "IndexError\n",
      "IndexError\n",
      "IndexError\n",
      "IndexError\n",
      "IndexError\n",
      "IndexError\n",
      "IndexError\n",
      "IndexError\n",
      "IndexError\n",
      "IndexError\n",
      "IndexError\n",
      "IndexError\n",
      "IndexError\n",
      "IndexError\n",
      "IndexError\n",
      "IndexError\n",
      "IndexError\n",
      "IndexError\n",
      "IndexError\n",
      "IndexError\n",
      "IndexError\n",
      "IndexError\n",
      "IndexError\n",
      "IndexError\n",
      "IndexError\n",
      "IndexError\n",
      "IndexError\n",
      "IndexError\n",
      "IndexError\n",
      "IndexError\n",
      "IndexError\n",
      "IndexError\n",
      "IndexError\n",
      "IndexError\n",
      "IndexError\n",
      "IndexError\n",
      "IndexError\n",
      "IndexError\n",
      "IndexError\n",
      "IndexError\n",
      "IndexError\n",
      "IndexError\n",
      "IndexError\n",
      "IndexError\n",
      "IndexError\n",
      "IndexError\n",
      "IndexError\n",
      "IndexError\n",
      "IndexError\n",
      "IndexError\n",
      "IndexError\n",
      "IndexError\n",
      "IndexError\n",
      "IndexError\n",
      "IndexError\n",
      "IndexError\n",
      "IndexError\n",
      "IndexError\n",
      "IndexError\n",
      "IndexError\n",
      "IndexError\n",
      "IndexError\n",
      "IndexError\n",
      "IndexError\n",
      "IndexError\n",
      "IndexError\n",
      "IndexError\n",
      "IndexError\n",
      "IndexError\n",
      "IndexError\n",
      "IndexError\n",
      "IndexError\n",
      "IndexError\n",
      "IndexError\n",
      "IndexError\n",
      "IndexError\n",
      "IndexError\n",
      "IndexError\n",
      "IndexError\n",
      "IndexError\n",
      "IndexError\n",
      "IndexError\n",
      "IndexError\n",
      "IndexError\n",
      "IndexError\n",
      "IndexError\n",
      "IndexError\n",
      "IndexError\n",
      "IndexError\n",
      "IndexError\n",
      "IndexError\n",
      "IndexError\n",
      "IndexError\n",
      "IndexError\n",
      "IndexError\n",
      "IndexError\n",
      "IndexError\n",
      "IndexError\n",
      "IndexError\n",
      "IndexError\n",
      "IndexError\n",
      "IndexError\n",
      "IndexError\n",
      "IndexError\n",
      "IndexError\n",
      "IndexError\n",
      "IndexError\n",
      "IndexError\n",
      "IndexError\n",
      "IndexError\n",
      "IndexError\n",
      "IndexError\n",
      "IndexError\n",
      "IndexError\n",
      "IndexError\n",
      "IndexError\n",
      "IndexError\n",
      "IndexError\n",
      "IndexError\n",
      "IndexError\n",
      "IndexError\n",
      "IndexError\n",
      "IndexError\n",
      "IndexError\n",
      "IndexError\n",
      "IndexError\n",
      "IndexError\n",
      "IndexError\n",
      "IndexError\n",
      "IndexError\n",
      "IndexError\n",
      "IndexError\n",
      "IndexError\n",
      "IndexError\n",
      "IndexError\n",
      "IndexError\n",
      "IndexError\n",
      "IndexError\n",
      "IndexError\n",
      "IndexError\n",
      "IndexError\n",
      "IndexError\n",
      "IndexError\n",
      "IndexError\n",
      "IndexError\n",
      "IndexError\n",
      "IndexError\n",
      "IndexError\n",
      "IndexError\n",
      "IndexError\n",
      "IndexError\n",
      "IndexError\n",
      "IndexError\n",
      "IndexError\n",
      "IndexError\n",
      "IndexError\n",
      "IndexError\n",
      "IndexError\n",
      "IndexError\n",
      "IndexError\n",
      "IndexError\n",
      "IndexError\n",
      "IndexError\n",
      "IndexError\n",
      "IndexError\n",
      "IndexError\n",
      "IndexError\n",
      "IndexError\n",
      "IndexError\n",
      "IndexError\n",
      "IndexError\n",
      "IndexError\n",
      "IndexError\n",
      "IndexError\n",
      "IndexError\n",
      "IndexError\n",
      "IndexError\n",
      "IndexError\n",
      "IndexError\n",
      "IndexError\n",
      "IndexError\n",
      "IndexError\n",
      "IndexError\n",
      "IndexError\n",
      "IndexError\n",
      "IndexError\n",
      "IndexError\n",
      "IndexError\n",
      "IndexError\n",
      "IndexError\n",
      "IndexError\n",
      "IndexError\n",
      "IndexError\n",
      "IndexError\n",
      "IndexError\n",
      "IndexError\n",
      "IndexError\n",
      "IndexError\n",
      "IndexError\n",
      "IndexError\n",
      "IndexError\n",
      "IndexError\n",
      "IndexError\n",
      "IndexError\n",
      "IndexError\n",
      "IndexError\n",
      "IndexError\n",
      "IndexError\n",
      "IndexError\n",
      "IndexError\n",
      "IndexError\n",
      "IndexError\n",
      "IndexError\n",
      "IndexError\n",
      "IndexError\n",
      "IndexError\n",
      "IndexError\n",
      "IndexError\n",
      "IndexError\n",
      "IndexError\n",
      "IndexError\n",
      "IndexError\n",
      "IndexError\n",
      "IndexError\n",
      "IndexError\n",
      "IndexError\n",
      "IndexError\n",
      "IndexError\n",
      "IndexError\n",
      "IndexError\n",
      "IndexError\n",
      "IndexError\n",
      "IndexError\n",
      "IndexError\n",
      "IndexError\n",
      "IndexError\n",
      "IndexError\n",
      "IndexError\n",
      "IndexError\n",
      "IndexError\n",
      "IndexError\n",
      "IndexError\n",
      "IndexError\n",
      "IndexError\n",
      "IndexError\n",
      "IndexError\n",
      "IndexError\n",
      "IndexError\n",
      "IndexError\n",
      "IndexError\n",
      "IndexError\n",
      "IndexError\n",
      "IndexError\n",
      "IndexError\n",
      "IndexError\n",
      "IndexError\n",
      "IndexError\n",
      "IndexError\n",
      "IndexError\n",
      "IndexError\n",
      "IndexError\n",
      "IndexError\n",
      "IndexError\n",
      "IndexError\n",
      "IndexError\n",
      "IndexError\n",
      "IndexError\n",
      "IndexError\n",
      "IndexError\n",
      "IndexError\n",
      "IndexError\n",
      "IndexError\n",
      "IndexError\n",
      "IndexError\n",
      "IndexError\n",
      "IndexError\n",
      "IndexError\n",
      "IndexError\n",
      "IndexError\n",
      "IndexError\n",
      "IndexError\n",
      "IndexError\n",
      "IndexError\n",
      "IndexError\n",
      "IndexError\n",
      "IndexError\n",
      "IndexError\n",
      "IndexError\n",
      "IndexError\n",
      "IndexError\n",
      "IndexError\n",
      "IndexError\n",
      "IndexError\n",
      "IndexError\n",
      "IndexError\n",
      "IndexError\n",
      "IndexError\n",
      "IndexError\n",
      "IndexError\n",
      "IndexError\n",
      "IndexError\n",
      "IndexError\n",
      "IndexError\n",
      "IndexError\n",
      "IndexError\n",
      "IndexError\n",
      "IndexError\n",
      "IndexError\n",
      "IndexError\n",
      "IndexError\n",
      "IndexError\n",
      "IndexError\n",
      "IndexError\n",
      "IndexError\n",
      "IndexError\n",
      "IndexError\n",
      "IndexError\n",
      "IndexError\n",
      "IndexError\n",
      "IndexError\n",
      "IndexError\n",
      "IndexError\n",
      "IndexError\n",
      "IndexError\n",
      "IndexError\n",
      "IndexError\n",
      "IndexError\n",
      "IndexError\n",
      "IndexError\n",
      "IndexError\n",
      "IndexError\n",
      "IndexError\n",
      "IndexError\n",
      "IndexError\n",
      "IndexError\n",
      "IndexError\n",
      "IndexError\n",
      "IndexError\n",
      "IndexError\n",
      "IndexError\n",
      "IndexError\n",
      "IndexError\n",
      "IndexError\n",
      "IndexError\n",
      "IndexError\n",
      "IndexError\n",
      "IndexError\n",
      "IndexError\n",
      "IndexError\n",
      "IndexError\n",
      "IndexError\n",
      "IndexError\n",
      "IndexError\n",
      "IndexError\n",
      "IndexError\n",
      "IndexError\n",
      "IndexError\n",
      "IndexError\n",
      "IndexError\n",
      "IndexError\n",
      "IndexError\n",
      "IndexError\n",
      "IndexError\n",
      "IndexError\n",
      "IndexError\n",
      "IndexError\n",
      "IndexError\n",
      "IndexError\n",
      "IndexError\n",
      "IndexError\n",
      "IndexError\n",
      "IndexError\n",
      "IndexError\n",
      "IndexError\n",
      "IndexError\n",
      "IndexError\n",
      "IndexError\n",
      "IndexError\n",
      "IndexError\n",
      "IndexError\n",
      "IndexError\n",
      "IndexError\n",
      "IndexError\n",
      "IndexError\n",
      "IndexError\n",
      "IndexError\n",
      "IndexError\n",
      "IndexError\n",
      "IndexError\n",
      "IndexError\n",
      "IndexError\n",
      "IndexError\n",
      "IndexError\n",
      "IndexError\n",
      "IndexError\n",
      "IndexError\n",
      "IndexError\n",
      "IndexError\n",
      "IndexError\n",
      "IndexError\n",
      "IndexError\n",
      "IndexError\n",
      "IndexError\n",
      "IndexError\n",
      "IndexError\n",
      "IndexError\n",
      "IndexError\n",
      "IndexError\n",
      "IndexError\n",
      "IndexError\n",
      "IndexError\n",
      "IndexError\n",
      "IndexError\n",
      "IndexError\n",
      "IndexError\n",
      "IndexError\n",
      "IndexError\n",
      "IndexError\n",
      "IndexError\n",
      "IndexError\n",
      "IndexError\n",
      "IndexError\n",
      "IndexError\n",
      "IndexError\n",
      "IndexError\n",
      "IndexError\n",
      "IndexError\n",
      "IndexError\n",
      "IndexError\n",
      "IndexError\n",
      "IndexError\n",
      "IndexError\n",
      "IndexError\n",
      "IndexError\n",
      "IndexError\n",
      "IndexError\n",
      "IndexError\n",
      "IndexError\n",
      "IndexError\n",
      "IndexError\n",
      "IndexError\n",
      "IndexError\n",
      "IndexError\n",
      "IndexError\n",
      "IndexError\n",
      "IndexError\n",
      "IndexError\n",
      "IndexError\n",
      "IndexError\n",
      "IndexError\n",
      "IndexError\n",
      "IndexError\n",
      "IndexError\n",
      "IndexError\n",
      "IndexError\n",
      "IndexError\n",
      "IndexError\n",
      "IndexError\n",
      "IndexError\n",
      "IndexError\n",
      "IndexError\n",
      "IndexError\n",
      "IndexError\n",
      "IndexError\n",
      "IndexError\n",
      "IndexError\n",
      "IndexError\n",
      "IndexError\n",
      "IndexError\n",
      "IndexError\n",
      "IndexError\n",
      "IndexError\n",
      "IndexError\n",
      "IndexError\n",
      "IndexError\n",
      "IndexError\n",
      "IndexError\n",
      "IndexError\n",
      "IndexError\n",
      "IndexError\n",
      "IndexError\n",
      "IndexError\n",
      "IndexError\n",
      "IndexError\n",
      "IndexError\n",
      "IndexError\n",
      "IndexError\n",
      "IndexError\n",
      "IndexError\n",
      "IndexError\n",
      "IndexError\n",
      "IndexError\n",
      "IndexError\n",
      "IndexError\n",
      "IndexError\n",
      "IndexError\n",
      "IndexError\n",
      "IndexError\n",
      "IndexError\n",
      "IndexError\n",
      "IndexError\n",
      "IndexError\n",
      "IndexError\n",
      "IndexError\n",
      "IndexError\n",
      "IndexError\n",
      "IndexError\n",
      "IndexError\n",
      "IndexError\n",
      "IndexError\n",
      "IndexError\n",
      "IndexError\n",
      "IndexError\n",
      "IndexError\n",
      "IndexError\n",
      "IndexError\n",
      "IndexError\n",
      "IndexError\n",
      "IndexError\n",
      "IndexError\n",
      "IndexError\n",
      "IndexError\n",
      "IndexError\n",
      "IndexError\n",
      "IndexError\n",
      "IndexError\n",
      "IndexError\n",
      "IndexError\n",
      "IndexError\n",
      "IndexError\n",
      "IndexError\n",
      "IndexError\n",
      "IndexError\n",
      "IndexError\n",
      "IndexError\n",
      "IndexError\n",
      "IndexError\n",
      "IndexError\n",
      "IndexError\n",
      "IndexError\n",
      "IndexError\n",
      "IndexError\n",
      "IndexError\n",
      "IndexError\n",
      "IndexError\n",
      "IndexError\n",
      "IndexError\n",
      "IndexError\n",
      "IndexError\n",
      "IndexError\n",
      "IndexError\n",
      "IndexError\n",
      "IndexError\n",
      "IndexError\n",
      "IndexError\n",
      "IndexError\n",
      "IndexError\n",
      "IndexError\n",
      "IndexError\n",
      "IndexError\n",
      "IndexError\n",
      "IndexError\n",
      "IndexError\n",
      "IndexError\n",
      "IndexError\n",
      "IndexError\n",
      "IndexError\n",
      "IndexError\n",
      "IndexError\n",
      "IndexError\n",
      "IndexError\n",
      "IndexError\n",
      "IndexError\n",
      "IndexError\n",
      "IndexError\n",
      "IndexError\n",
      "IndexError\n",
      "IndexError\n",
      "IndexError\n",
      "IndexError\n",
      "IndexError\n",
      "IndexError\n",
      "IndexError\n",
      "IndexError\n",
      "IndexError\n",
      "IndexError\n",
      "IndexError\n",
      "IndexError\n",
      "IndexError\n",
      "IndexError\n",
      "IndexError\n",
      "IndexError\n",
      "IndexError\n",
      "IndexError\n",
      "IndexError\n",
      "IndexError\n",
      "IndexError\n",
      "IndexError\n",
      "IndexError\n",
      "IndexError\n",
      "IndexError\n",
      "IndexError\n",
      "IndexError\n",
      "IndexError\n",
      "IndexError\n",
      "IndexError\n",
      "IndexError\n",
      "IndexError\n",
      "IndexError\n",
      "IndexError\n",
      "IndexError\n",
      "IndexError\n",
      "IndexError\n",
      "IndexError\n",
      "IndexError\n",
      "IndexError\n",
      "IndexError\n",
      "IndexError\n",
      "IndexError\n",
      "IndexError\n",
      "IndexError\n",
      "IndexError\n",
      "IndexError\n",
      "IndexError\n",
      "IndexError\n",
      "IndexError\n",
      "IndexError\n",
      "IndexError\n",
      "IndexError\n",
      "IndexError\n",
      "IndexError\n",
      "IndexError\n",
      "IndexError\n",
      "IndexError\n",
      "IndexError\n",
      "IndexError\n",
      "IndexError\n",
      "IndexError\n",
      "IndexError\n",
      "IndexError\n",
      "IndexError\n",
      "IndexError\n",
      "IndexError\n",
      "IndexError\n",
      "IndexError\n",
      "IndexError\n",
      "IndexError\n",
      "IndexError\n",
      "IndexError\n",
      "IndexError\n",
      "IndexError\n",
      "IndexError\n",
      "IndexError\n",
      "IndexError\n",
      "IndexError\n",
      "IndexError\n",
      "IndexError\n",
      "IndexError\n",
      "IndexError\n",
      "IndexError\n",
      "IndexError\n",
      "IndexError\n",
      "IndexError\n",
      "IndexError\n",
      "IndexError\n",
      "IndexError\n",
      "IndexError\n",
      "IndexError\n",
      "IndexError\n",
      "IndexError\n",
      "IndexError\n",
      "IndexError\n",
      "IndexError\n",
      "IndexError\n",
      "IndexError\n",
      "IndexError\n",
      "IndexError\n",
      "IndexError\n",
      "IndexError\n",
      "IndexError\n",
      "IndexError\n",
      "IndexError\n",
      "IndexError\n",
      "IndexError\n",
      "IndexError\n",
      "IndexError\n",
      "IndexError\n",
      "IndexError\n",
      "IndexError\n",
      "IndexError\n",
      "IndexError\n",
      "IndexError\n",
      "IndexError\n",
      "IndexError\n",
      "IndexError\n",
      "IndexError\n",
      "IndexError\n",
      "IndexError\n",
      "IndexError\n",
      "IndexError\n",
      "IndexError\n",
      "IndexError\n",
      "IndexError\n",
      "IndexError\n",
      "IndexError\n",
      "IndexError\n",
      "IndexError\n",
      "IndexError\n",
      "IndexError\n",
      "IndexError\n",
      "IndexError\n",
      "IndexError\n",
      "IndexError\n",
      "IndexError\n",
      "IndexError\n",
      "IndexError\n",
      "IndexError\n",
      "IndexError\n",
      "IndexError\n",
      "IndexError\n",
      "IndexError\n",
      "IndexError\n",
      "IndexError\n",
      "IndexError\n",
      "IndexError\n",
      "IndexError\n",
      "IndexError\n",
      "IndexError\n"
     ]
    },
    {
     "data": {
      "text/html": [
       "<pre style=\"white-space:pre;overflow-x:auto;line-height:normal;font-family:Menlo,'DejaVu Sans Mono',consolas,'Courier New',monospace\"><span style=\"color: #7fbfbf; text-decoration-color: #7fbfbf\">[23:18:35] </span><span style=\"color: #000080; text-decoration-color: #000080\">INFO    </span> ✅ MANDATORY validity benchmark complete for <span style=\"color: #008080; text-decoration-color: #008080; font-weight: bold\">6000</span> structures in <span style=\"color: #008080; text-decoration-color: #008080; font-weight: bold\">380.</span>0s         <a href=\"file://C:\\Users\\samue\\AppData\\Local\\Temp\\ipykernel_53888\\2631243110.py\" target=\"_blank\"><span style=\"color: #7f7f7f; text-decoration-color: #7f7f7f\">2631243110.py</span></a><span style=\"color: #7f7f7f; text-decoration-color: #7f7f7f\">:</span><a href=\"file://C:\\Users\\samue\\AppData\\Local\\Temp\\ipykernel_53888\\2631243110.py#35\" target=\"_blank\"><span style=\"color: #7f7f7f; text-decoration-color: #7f7f7f\">35</span></a>\n",
       "</pre>\n"
      ],
      "text/plain": [
       "\u001b[2;36m[23:18:35]\u001b[0m\u001b[2;36m \u001b[0m\u001b[34mINFO    \u001b[0m ✅ MANDATORY validity benchmark complete for \u001b[1;36m6000\u001b[0m structures in \u001b[1;36m380.\u001b[0m0s         \u001b]8;id=309934;file://C:\\Users\\samue\\AppData\\Local\\Temp\\ipykernel_53888\\2631243110.py\u001b\\\u001b[2m2631243110.py\u001b[0m\u001b]8;;\u001b\\\u001b[2m:\u001b[0m\u001b]8;id=581052;file://C:\\Users\\samue\\AppData\\Local\\Temp\\ipykernel_53888\\2631243110.py#35\u001b\\\u001b[2m35\u001b[0m\u001b]8;;\u001b\\\n"
      ]
     },
     "metadata": {},
     "output_type": "display_data"
    },
    {
     "data": {
      "text/html": [
       "<pre style=\"white-space:pre;overflow-x:auto;line-height:normal;font-family:Menlo,'DejaVu Sans Mono',consolas,'Courier New',monospace\"><span style=\"color: #7fbfbf; text-decoration-color: #7fbfbf\">           </span><span style=\"color: #000080; text-decoration-color: #000080\">INFO    </span> 🧹 Cleaning up after validity benchmark<span style=\"color: #808000; text-decoration-color: #808000\">...</span>                                       <a href=\"file://C:\\Users\\samue\\AppData\\Local\\Temp\\ipykernel_53888\\307847465.py\" target=\"_blank\"><span style=\"color: #7f7f7f; text-decoration-color: #7f7f7f\">307847465.py</span></a><span style=\"color: #7f7f7f; text-decoration-color: #7f7f7f\">:</span><a href=\"file://C:\\Users\\samue\\AppData\\Local\\Temp\\ipykernel_53888\\307847465.py#3\" target=\"_blank\"><span style=\"color: #7f7f7f; text-decoration-color: #7f7f7f\">3</span></a>\n",
       "</pre>\n"
      ],
      "text/plain": [
       "\u001b[2;36m          \u001b[0m\u001b[2;36m \u001b[0m\u001b[34mINFO    \u001b[0m 🧹 Cleaning up after validity benchmark\u001b[33m...\u001b[0m                                       \u001b]8;id=96221;file://C:\\Users\\samue\\AppData\\Local\\Temp\\ipykernel_53888\\307847465.py\u001b\\\u001b[2m307847465.py\u001b[0m\u001b]8;;\u001b\\\u001b[2m:\u001b[0m\u001b]8;id=766323;file://C:\\Users\\samue\\AppData\\Local\\Temp\\ipykernel_53888\\307847465.py#3\u001b\\\u001b[2m3\u001b[0m\u001b]8;;\u001b\\\n"
      ]
     },
     "metadata": {},
     "output_type": "display_data"
    },
    {
     "data": {
      "text/html": [
       "<pre style=\"white-space:pre;overflow-x:auto;line-height:normal;font-family:Menlo,'DejaVu Sans Mono',consolas,'Courier New',monospace\"><span style=\"color: #7fbfbf; text-decoration-color: #7fbfbf\">[23:18:36] </span><span style=\"color: #000080; text-decoration-color: #000080\">INFO    </span> 🔍 Running MANDATORY validity preprocessor on ALL structures<span style=\"color: #808000; text-decoration-color: #808000\">...</span>                <a href=\"file://C:\\Users\\samue\\AppData\\Local\\Temp\\ipykernel_53888\\2631243110.py\" target=\"_blank\"><span style=\"color: #7f7f7f; text-decoration-color: #7f7f7f\">2631243110.py</span></a><span style=\"color: #7f7f7f; text-decoration-color: #7f7f7f\">:</span><a href=\"file://C:\\Users\\samue\\AppData\\Local\\Temp\\ipykernel_53888\\2631243110.py#43\" target=\"_blank\"><span style=\"color: #7f7f7f; text-decoration-color: #7f7f7f\">43</span></a>\n",
       "</pre>\n"
      ],
      "text/plain": [
       "\u001b[2;36m[23:18:36]\u001b[0m\u001b[2;36m \u001b[0m\u001b[34mINFO    \u001b[0m 🔍 Running MANDATORY validity preprocessor on ALL structures\u001b[33m...\u001b[0m                \u001b]8;id=451327;file://C:\\Users\\samue\\AppData\\Local\\Temp\\ipykernel_53888\\2631243110.py\u001b\\\u001b[2m2631243110.py\u001b[0m\u001b]8;;\u001b\\\u001b[2m:\u001b[0m\u001b]8;id=223001;file://C:\\Users\\samue\\AppData\\Local\\Temp\\ipykernel_53888\\2631243110.py#43\u001b\\\u001b[2m43\u001b[0m\u001b]8;;\u001b\\\n"
      ]
     },
     "metadata": {},
     "output_type": "display_data"
    },
    {
     "name": "stderr",
     "output_type": "stream",
     "text": [
      "Processing ValidityPreprocessor:   0%|                                               | 6/6000 [00:00<01:43, 57.91it/s]"
     ]
    },
    {
     "name": "stdout",
     "output_type": "stream",
     "text": [
      "IndexError\n",
      "IndexError\n"
     ]
    },
    {
     "name": "stderr",
     "output_type": "stream",
     "text": [
      "Processing ValidityPreprocessor:   0%|▏                                             | 24/6000 [00:00<02:08, 46.57it/s]"
     ]
    },
    {
     "name": "stdout",
     "output_type": "stream",
     "text": [
      "IndexError\n",
      "IndexError\n",
      "IndexError\n"
     ]
    },
    {
     "name": "stderr",
     "output_type": "stream",
     "text": [
      "Processing ValidityPreprocessor:   1%|▎                                             | 45/6000 [00:00<01:37, 60.98it/s]"
     ]
    },
    {
     "name": "stdout",
     "output_type": "stream",
     "text": [
      "IndexError\n",
      "IndexError\n",
      "IndexError\n"
     ]
    },
    {
     "name": "stderr",
     "output_type": "stream",
     "text": [
      "Processing ValidityPreprocessor:   1%|▌                                             | 76/6000 [00:02<02:54, 34.03it/s]"
     ]
    },
    {
     "name": "stdout",
     "output_type": "stream",
     "text": [
      "IndexError\n",
      "IndexError\n",
      "IndexError\n",
      "IndexError\n"
     ]
    },
    {
     "name": "stderr",
     "output_type": "stream",
     "text": [
      "Processing ValidityPreprocessor:   2%|▊                                            | 102/6000 [00:02<02:13, 44.10it/s]"
     ]
    },
    {
     "name": "stdout",
     "output_type": "stream",
     "text": [
      "IndexError\n",
      "IndexError\n",
      "IndexError\n"
     ]
    },
    {
     "name": "stderr",
     "output_type": "stream",
     "text": [
      "Processing ValidityPreprocessor:   2%|▊                                            | 114/6000 [00:02<01:56, 50.65it/s]"
     ]
    },
    {
     "name": "stdout",
     "output_type": "stream",
     "text": [
      "IndexError\n",
      "IndexError\n"
     ]
    },
    {
     "name": "stderr",
     "output_type": "stream",
     "text": [
      "Processing ValidityPreprocessor:   2%|█                                            | 147/6000 [00:03<01:46, 54.91it/s]"
     ]
    },
    {
     "name": "stdout",
     "output_type": "stream",
     "text": [
      "IndexError\n",
      "IndexError\n"
     ]
    },
    {
     "name": "stderr",
     "output_type": "stream",
     "text": [
      "Processing ValidityPreprocessor:   3%|█▎                                           | 168/6000 [00:04<01:50, 52.80it/s]"
     ]
    },
    {
     "name": "stdout",
     "output_type": "stream",
     "text": [
      "IndexError\n",
      "IndexError\n",
      "IndexError\n"
     ]
    },
    {
     "name": "stderr",
     "output_type": "stream",
     "text": [
      "Processing ValidityPreprocessor:   3%|█▎                                           | 179/6000 [00:04<02:21, 41.03it/s]"
     ]
    },
    {
     "name": "stdout",
     "output_type": "stream",
     "text": [
      "IndexError\n",
      "IndexError\n",
      "IndexError\n"
     ]
    },
    {
     "name": "stderr",
     "output_type": "stream",
     "text": [
      "Processing ValidityPreprocessor:   3%|█▍                                           | 186/6000 [00:04<02:09, 44.78it/s]"
     ]
    },
    {
     "name": "stdout",
     "output_type": "stream",
     "text": [
      "IndexError\n",
      "IndexError\n",
      "IndexError\n"
     ]
    },
    {
     "name": "stderr",
     "output_type": "stream",
     "text": [
      "Processing ValidityPreprocessor:   3%|█▍                                           | 198/6000 [00:04<02:14, 42.99it/s]"
     ]
    },
    {
     "name": "stdout",
     "output_type": "stream",
     "text": [
      "IndexError\n",
      "IndexError\n",
      "IndexError\n"
     ]
    },
    {
     "name": "stderr",
     "output_type": "stream",
     "text": [
      "Processing ValidityPreprocessor:   4%|█▌                                           | 211/6000 [00:05<02:07, 45.41it/s]"
     ]
    },
    {
     "name": "stdout",
     "output_type": "stream",
     "text": [
      "IndexError\n",
      "IndexError\n"
     ]
    },
    {
     "name": "stderr",
     "output_type": "stream",
     "text": [
      "Processing ValidityPreprocessor:   4%|█▋                                           | 232/6000 [00:05<01:41, 56.91it/s]"
     ]
    },
    {
     "name": "stdout",
     "output_type": "stream",
     "text": [
      "IndexError\n",
      "IndexError\n",
      "IndexError\n",
      "IndexError\n"
     ]
    },
    {
     "name": "stderr",
     "output_type": "stream",
     "text": [
      "Processing ValidityPreprocessor:   4%|█▊                                           | 245/6000 [00:05<01:50, 52.22it/s]"
     ]
    },
    {
     "name": "stdout",
     "output_type": "stream",
     "text": [
      "IndexError\n",
      "IndexError\n"
     ]
    },
    {
     "name": "stderr",
     "output_type": "stream",
     "text": [
      "Processing ValidityPreprocessor:   4%|█▉                                           | 265/6000 [00:05<01:36, 59.52it/s]"
     ]
    },
    {
     "name": "stdout",
     "output_type": "stream",
     "text": [
      "IndexError\n",
      "IndexError\n",
      "IndexError\n"
     ]
    },
    {
     "name": "stderr",
     "output_type": "stream",
     "text": [
      "Processing ValidityPreprocessor:   5%|██                                           | 279/6000 [00:06<01:54, 50.01it/s]"
     ]
    },
    {
     "name": "stdout",
     "output_type": "stream",
     "text": [
      "IndexError\n",
      "IndexError\n",
      "IndexError\n",
      "IndexError\n"
     ]
    },
    {
     "name": "stderr",
     "output_type": "stream",
     "text": [
      "Processing ValidityPreprocessor:   5%|██▏                                          | 285/6000 [00:06<02:05, 45.55it/s]"
     ]
    },
    {
     "name": "stdout",
     "output_type": "stream",
     "text": [
      "IndexError\n",
      "IndexError\n"
     ]
    },
    {
     "name": "stderr",
     "output_type": "stream",
     "text": [
      "Processing ValidityPreprocessor:   5%|██▏                                          | 298/6000 [00:06<02:15, 42.05it/s]"
     ]
    },
    {
     "name": "stdout",
     "output_type": "stream",
     "text": [
      "IndexError\n",
      "IndexError\n",
      "IndexError\n"
     ]
    },
    {
     "name": "stderr",
     "output_type": "stream",
     "text": [
      "Processing ValidityPreprocessor:   5%|██▎                                          | 313/6000 [00:07<03:20, 28.31it/s]"
     ]
    },
    {
     "name": "stdout",
     "output_type": "stream",
     "text": [
      "IndexError\n",
      "IndexError\n",
      "IndexError\n"
     ]
    },
    {
     "name": "stderr",
     "output_type": "stream",
     "text": [
      "Processing ValidityPreprocessor:   5%|██▍                                          | 327/6000 [00:07<02:15, 41.88it/s]"
     ]
    },
    {
     "name": "stdout",
     "output_type": "stream",
     "text": [
      "IndexError\n",
      "IndexError\n",
      "IndexError\n"
     ]
    },
    {
     "name": "stderr",
     "output_type": "stream",
     "text": [
      "Processing ValidityPreprocessor:   6%|██▌                                          | 345/6000 [00:08<02:09, 43.65it/s]"
     ]
    },
    {
     "name": "stdout",
     "output_type": "stream",
     "text": [
      "IndexError\n",
      "IndexError\n"
     ]
    },
    {
     "name": "stderr",
     "output_type": "stream",
     "text": [
      "Processing ValidityPreprocessor:   6%|██▊                                          | 369/6000 [00:08<02:17, 40.87it/s]"
     ]
    },
    {
     "name": "stdout",
     "output_type": "stream",
     "text": [
      "IndexError\n"
     ]
    },
    {
     "name": "stderr",
     "output_type": "stream",
     "text": [
      "Processing ValidityPreprocessor:   6%|██▊                                          | 382/6000 [00:09<01:54, 49.25it/s]"
     ]
    },
    {
     "name": "stdout",
     "output_type": "stream",
     "text": [
      "IndexError\n",
      "IndexError\n"
     ]
    },
    {
     "name": "stderr",
     "output_type": "stream",
     "text": [
      "Processing ValidityPreprocessor:   6%|██▉                                          | 388/6000 [00:09<01:59, 46.80it/s]"
     ]
    },
    {
     "name": "stdout",
     "output_type": "stream",
     "text": [
      "IndexError\n",
      "IndexError\n"
     ]
    },
    {
     "name": "stderr",
     "output_type": "stream",
     "text": [
      "Processing ValidityPreprocessor:   7%|███                                          | 401/6000 [00:09<02:02, 45.84it/s]"
     ]
    },
    {
     "name": "stdout",
     "output_type": "stream",
     "text": [
      "IndexError\n",
      "IndexError\n",
      "IndexError\n",
      "IndexError\n"
     ]
    },
    {
     "name": "stderr",
     "output_type": "stream",
     "text": [
      "Processing ValidityPreprocessor:   7%|███                                          | 407/6000 [00:09<01:57, 47.65it/s]"
     ]
    },
    {
     "name": "stdout",
     "output_type": "stream",
     "text": [
      "IndexError\n"
     ]
    },
    {
     "name": "stderr",
     "output_type": "stream",
     "text": [
      "Processing ValidityPreprocessor:   7%|███▎                                         | 445/6000 [00:10<01:32, 60.08it/s]"
     ]
    },
    {
     "name": "stdout",
     "output_type": "stream",
     "text": [
      "IndexError\n",
      "IndexError\n",
      "IndexError\n"
     ]
    },
    {
     "name": "stderr",
     "output_type": "stream",
     "text": [
      "Processing ValidityPreprocessor:   8%|███▍                                         | 458/6000 [00:10<01:46, 52.25it/s]"
     ]
    },
    {
     "name": "stdout",
     "output_type": "stream",
     "text": [
      "IndexError\n"
     ]
    },
    {
     "name": "stderr",
     "output_type": "stream",
     "text": [
      "Processing ValidityPreprocessor:   8%|███▌                                         | 472/6000 [00:10<01:47, 51.65it/s]"
     ]
    },
    {
     "name": "stdout",
     "output_type": "stream",
     "text": [
      "IndexError\n",
      "IndexError\n"
     ]
    },
    {
     "name": "stderr",
     "output_type": "stream",
     "text": [
      "Processing ValidityPreprocessor:   8%|███▌                                         | 478/6000 [00:11<01:43, 53.34it/s]"
     ]
    },
    {
     "name": "stdout",
     "output_type": "stream",
     "text": [
      "IndexError\n",
      "IndexError\n",
      "IndexError\n"
     ]
    },
    {
     "name": "stderr",
     "output_type": "stream",
     "text": [
      "Processing ValidityPreprocessor:   8%|███▋                                         | 496/6000 [00:11<01:54, 48.19it/s]"
     ]
    },
    {
     "name": "stdout",
     "output_type": "stream",
     "text": [
      "IndexError\n",
      "IndexError\n"
     ]
    },
    {
     "name": "stderr",
     "output_type": "stream",
     "text": [
      "Processing ValidityPreprocessor:   8%|███▊                                         | 510/6000 [00:11<01:39, 55.11it/s]"
     ]
    },
    {
     "name": "stdout",
     "output_type": "stream",
     "text": [
      "IndexError\n",
      "IndexError\n"
     ]
    },
    {
     "name": "stderr",
     "output_type": "stream",
     "text": [
      "Processing ValidityPreprocessor:   9%|███▉                                         | 530/6000 [00:12<01:43, 52.92it/s]"
     ]
    },
    {
     "name": "stdout",
     "output_type": "stream",
     "text": [
      "IndexError\n",
      "IndexError\n",
      "IndexError\n",
      "IndexError\n"
     ]
    },
    {
     "name": "stderr",
     "output_type": "stream",
     "text": [
      "Processing ValidityPreprocessor:   9%|████                                         | 543/6000 [00:12<01:46, 51.48it/s]"
     ]
    },
    {
     "name": "stdout",
     "output_type": "stream",
     "text": [
      "IndexError\n",
      "IndexError\n"
     ]
    },
    {
     "name": "stderr",
     "output_type": "stream",
     "text": [
      "Processing ValidityPreprocessor:   9%|████▏                                        | 554/6000 [00:12<02:38, 34.43it/s]"
     ]
    },
    {
     "name": "stdout",
     "output_type": "stream",
     "text": [
      "IndexError\n"
     ]
    },
    {
     "name": "stderr",
     "output_type": "stream",
     "text": [
      "Processing ValidityPreprocessor:  10%|████▍                                        | 586/6000 [00:13<01:54, 47.32it/s]"
     ]
    },
    {
     "name": "stdout",
     "output_type": "stream",
     "text": [
      "IndexError\n",
      "IndexError\n",
      "IndexError\n",
      "IndexError\n",
      "IndexError\n"
     ]
    },
    {
     "name": "stderr",
     "output_type": "stream",
     "text": [
      "Processing ValidityPreprocessor:  10%|████▍                                        | 596/6000 [00:13<02:23, 37.56it/s]"
     ]
    },
    {
     "name": "stdout",
     "output_type": "stream",
     "text": [
      "IndexError\n",
      "IndexError\n"
     ]
    },
    {
     "name": "stderr",
     "output_type": "stream",
     "text": [
      "Processing ValidityPreprocessor:  10%|████▌                                        | 616/6000 [00:14<01:54, 47.08it/s]"
     ]
    },
    {
     "name": "stdout",
     "output_type": "stream",
     "text": [
      "IndexError\n",
      "IndexError\n",
      "IndexError\n"
     ]
    },
    {
     "name": "stderr",
     "output_type": "stream",
     "text": [
      "Processing ValidityPreprocessor:  11%|████▋                                        | 631/6000 [00:14<02:02, 43.80it/s]"
     ]
    },
    {
     "name": "stdout",
     "output_type": "stream",
     "text": [
      "IndexError\n",
      "IndexError\n",
      "IndexError\n"
     ]
    },
    {
     "name": "stderr",
     "output_type": "stream",
     "text": [
      "Processing ValidityPreprocessor:  11%|████▊                                        | 647/6000 [00:14<01:57, 45.51it/s]"
     ]
    },
    {
     "name": "stdout",
     "output_type": "stream",
     "text": [
      "IndexError\n"
     ]
    },
    {
     "name": "stderr",
     "output_type": "stream",
     "text": [
      "Processing ValidityPreprocessor:  11%|████▉                                        | 661/6000 [00:15<01:36, 55.50it/s]"
     ]
    },
    {
     "name": "stdout",
     "output_type": "stream",
     "text": [
      "IndexError\n",
      "IndexError\n",
      "IndexError\n",
      "IndexError\n"
     ]
    },
    {
     "name": "stderr",
     "output_type": "stream",
     "text": [
      "Processing ValidityPreprocessor:  11%|█████▏                                       | 686/6000 [00:15<01:34, 56.48it/s]"
     ]
    },
    {
     "name": "stdout",
     "output_type": "stream",
     "text": [
      "IndexError\n",
      "IndexError\n",
      "IndexError\n"
     ]
    },
    {
     "name": "stderr",
     "output_type": "stream",
     "text": [
      "Processing ValidityPreprocessor:  12%|█████▎                                       | 703/6000 [00:15<01:56, 45.48it/s]"
     ]
    },
    {
     "name": "stdout",
     "output_type": "stream",
     "text": [
      "IndexError\n",
      "IndexError\n"
     ]
    },
    {
     "name": "stderr",
     "output_type": "stream",
     "text": [
      "Processing ValidityPreprocessor:  12%|█████▌                                       | 737/6000 [00:19<05:03, 17.35it/s]"
     ]
    },
    {
     "name": "stdout",
     "output_type": "stream",
     "text": [
      "IndexError\n",
      "IndexError\n"
     ]
    },
    {
     "name": "stderr",
     "output_type": "stream",
     "text": [
      "Processing ValidityPreprocessor:  13%|█████▋                                       | 754/6000 [00:19<02:46, 31.52it/s]"
     ]
    },
    {
     "name": "stdout",
     "output_type": "stream",
     "text": [
      "IndexError\n"
     ]
    },
    {
     "name": "stderr",
     "output_type": "stream",
     "text": [
      "Processing ValidityPreprocessor:  13%|█████▊                                       | 772/6000 [00:20<02:21, 36.87it/s]"
     ]
    },
    {
     "name": "stdout",
     "output_type": "stream",
     "text": [
      "IndexError\n",
      "IndexError\n"
     ]
    },
    {
     "name": "stderr",
     "output_type": "stream",
     "text": [
      "Processing ValidityPreprocessor:  13%|█████▊                                       | 778/6000 [00:20<02:08, 40.69it/s]"
     ]
    },
    {
     "name": "stdout",
     "output_type": "stream",
     "text": [
      "IndexError\n"
     ]
    },
    {
     "name": "stderr",
     "output_type": "stream",
     "text": [
      "Processing ValidityPreprocessor:  13%|█████▉                                       | 796/6000 [00:20<01:58, 44.02it/s]"
     ]
    },
    {
     "name": "stdout",
     "output_type": "stream",
     "text": [
      "IndexError\n",
      "IndexError\n"
     ]
    },
    {
     "name": "stderr",
     "output_type": "stream",
     "text": [
      "Processing ValidityPreprocessor:  14%|██████▏                                      | 827/6000 [00:21<02:14, 38.47it/s]"
     ]
    },
    {
     "name": "stdout",
     "output_type": "stream",
     "text": [
      "IndexError\n"
     ]
    },
    {
     "name": "stderr",
     "output_type": "stream",
     "text": [
      "Processing ValidityPreprocessor:  14%|██████▎                                      | 845/6000 [00:22<01:55, 44.58it/s]"
     ]
    },
    {
     "name": "stdout",
     "output_type": "stream",
     "text": [
      "IndexError\n",
      "IndexError\n",
      "IndexError\n"
     ]
    },
    {
     "name": "stderr",
     "output_type": "stream",
     "text": [
      "Processing ValidityPreprocessor:  14%|██████▍                                      | 865/6000 [00:22<01:58, 43.25it/s]"
     ]
    },
    {
     "name": "stdout",
     "output_type": "stream",
     "text": [
      "IndexError\n",
      "IndexError\n"
     ]
    },
    {
     "name": "stderr",
     "output_type": "stream",
     "text": [
      "Processing ValidityPreprocessor:  15%|██████▌                                      | 880/6000 [00:22<01:33, 54.73it/s]"
     ]
    },
    {
     "name": "stdout",
     "output_type": "stream",
     "text": [
      "IndexError\n"
     ]
    },
    {
     "name": "stderr",
     "output_type": "stream",
     "text": [
      "Processing ValidityPreprocessor:  15%|██████▋                                      | 899/6000 [00:23<01:31, 55.98it/s]"
     ]
    },
    {
     "name": "stdout",
     "output_type": "stream",
     "text": [
      "IndexError\n",
      "IndexError\n",
      "IndexError\n",
      "IndexError\n"
     ]
    },
    {
     "name": "stderr",
     "output_type": "stream",
     "text": [
      "Processing ValidityPreprocessor:  15%|██████▊                                      | 911/6000 [00:23<01:36, 52.90it/s]"
     ]
    },
    {
     "name": "stdout",
     "output_type": "stream",
     "text": [
      "IndexError\n",
      "IndexError\n"
     ]
    },
    {
     "name": "stderr",
     "output_type": "stream",
     "text": [
      "Processing ValidityPreprocessor:  15%|██████▉                                      | 924/6000 [00:23<01:35, 53.22it/s]"
     ]
    },
    {
     "name": "stdout",
     "output_type": "stream",
     "text": [
      "IndexError\n",
      "IndexError\n",
      "IndexError\n"
     ]
    },
    {
     "name": "stderr",
     "output_type": "stream",
     "text": [
      "Processing ValidityPreprocessor:  16%|███████                                      | 948/6000 [00:24<01:40, 50.38it/s]"
     ]
    },
    {
     "name": "stdout",
     "output_type": "stream",
     "text": [
      "IndexError\n",
      "IndexError\n",
      "IndexError\n"
     ]
    },
    {
     "name": "stderr",
     "output_type": "stream",
     "text": [
      "Processing ValidityPreprocessor:  16%|███████▏                                     | 954/6000 [00:24<01:37, 51.81it/s]"
     ]
    },
    {
     "name": "stdout",
     "output_type": "stream",
     "text": [
      "IndexError\n",
      "IndexError\n",
      "IndexError\n"
     ]
    },
    {
     "name": "stderr",
     "output_type": "stream",
     "text": [
      "Processing ValidityPreprocessor:  16%|███████▎                                     | 976/6000 [00:24<01:24, 59.32it/s]"
     ]
    },
    {
     "name": "stdout",
     "output_type": "stream",
     "text": [
      "IndexError\n"
     ]
    },
    {
     "name": "stderr",
     "output_type": "stream",
     "text": [
      "Processing ValidityPreprocessor:  16%|███████▎                                     | 982/6000 [00:24<01:27, 57.15it/s]"
     ]
    },
    {
     "name": "stdout",
     "output_type": "stream",
     "text": [
      "IndexError\n",
      "IndexError\n",
      "IndexError\n"
     ]
    },
    {
     "name": "stderr",
     "output_type": "stream",
     "text": [
      "Processing ValidityPreprocessor:  17%|███████▍                                     | 999/6000 [00:25<02:01, 41.18it/s]"
     ]
    },
    {
     "name": "stdout",
     "output_type": "stream",
     "text": [
      "IndexError\n",
      "IndexError\n"
     ]
    },
    {
     "name": "stderr",
     "output_type": "stream",
     "text": [
      "Processing ValidityPreprocessor:  17%|███████▍                                    | 1016/6000 [00:25<01:28, 56.45it/s]"
     ]
    },
    {
     "name": "stdout",
     "output_type": "stream",
     "text": [
      "IndexError\n"
     ]
    },
    {
     "name": "stderr",
     "output_type": "stream",
     "text": [
      "Processing ValidityPreprocessor:  17%|███████▍                                    | 1022/6000 [00:25<02:02, 40.80it/s]"
     ]
    },
    {
     "name": "stdout",
     "output_type": "stream",
     "text": [
      "IndexError\n",
      "IndexError\n",
      "IndexError\n"
     ]
    },
    {
     "name": "stderr",
     "output_type": "stream",
     "text": [
      "Processing ValidityPreprocessor:  17%|███████▌                                    | 1034/6000 [00:26<02:11, 37.62it/s]"
     ]
    },
    {
     "name": "stdout",
     "output_type": "stream",
     "text": [
      "IndexError\n",
      "IndexError\n"
     ]
    },
    {
     "name": "stderr",
     "output_type": "stream",
     "text": [
      "Processing ValidityPreprocessor:  18%|███████▋                                    | 1053/6000 [00:26<01:43, 47.69it/s]"
     ]
    },
    {
     "name": "stdout",
     "output_type": "stream",
     "text": [
      "IndexError\n"
     ]
    },
    {
     "name": "stderr",
     "output_type": "stream",
     "text": [
      "Processing ValidityPreprocessor:  18%|███████▊                                    | 1066/6000 [00:26<01:40, 48.97it/s]"
     ]
    },
    {
     "name": "stdout",
     "output_type": "stream",
     "text": [
      "IndexError\n",
      "IndexError\n"
     ]
    },
    {
     "name": "stderr",
     "output_type": "stream",
     "text": [
      "Processing ValidityPreprocessor:  18%|███████▉                                    | 1079/6000 [00:26<01:28, 55.33it/s]"
     ]
    },
    {
     "name": "stdout",
     "output_type": "stream",
     "text": [
      "IndexError\n",
      "IndexError\n",
      "IndexError\n"
     ]
    },
    {
     "name": "stderr",
     "output_type": "stream",
     "text": [
      "Processing ValidityPreprocessor:  18%|████████                                    | 1096/6000 [00:27<01:49, 44.84it/s]"
     ]
    },
    {
     "name": "stdout",
     "output_type": "stream",
     "text": [
      "IndexError\n",
      "IndexError\n"
     ]
    },
    {
     "name": "stderr",
     "output_type": "stream",
     "text": [
      "Processing ValidityPreprocessor:  18%|████████                                    | 1101/6000 [00:27<02:01, 40.25it/s]"
     ]
    },
    {
     "name": "stdout",
     "output_type": "stream",
     "text": [
      "IndexError\n"
     ]
    },
    {
     "name": "stderr",
     "output_type": "stream",
     "text": [
      "Processing ValidityPreprocessor:  18%|████████                                    | 1106/6000 [00:27<02:33, 31.92it/s]"
     ]
    },
    {
     "name": "stdout",
     "output_type": "stream",
     "text": [
      "IndexError\n"
     ]
    },
    {
     "name": "stderr",
     "output_type": "stream",
     "text": [
      "Processing ValidityPreprocessor:  18%|████████▏                                   | 1110/6000 [00:27<02:58, 27.37it/s]"
     ]
    },
    {
     "name": "stdout",
     "output_type": "stream",
     "text": [
      "IndexError\n"
     ]
    },
    {
     "name": "stderr",
     "output_type": "stream",
     "text": [
      "Processing ValidityPreprocessor:  19%|████████▎                                   | 1126/6000 [00:30<06:26, 12.61it/s]"
     ]
    },
    {
     "name": "stdout",
     "output_type": "stream",
     "text": [
      "IndexError\n",
      "IndexError\n",
      "IndexError\n",
      "IndexError\n",
      "IndexError\n"
     ]
    },
    {
     "name": "stderr",
     "output_type": "stream",
     "text": [
      "Processing ValidityPreprocessor:  19%|████████▍                                   | 1156/6000 [00:30<02:16, 35.51it/s]"
     ]
    },
    {
     "name": "stdout",
     "output_type": "stream",
     "text": [
      "IndexError\n",
      "IndexError\n",
      "IndexError\n",
      "IndexError\n"
     ]
    },
    {
     "name": "stderr",
     "output_type": "stream",
     "text": [
      "Processing ValidityPreprocessor:  19%|████████▌                                   | 1168/6000 [00:31<02:09, 37.22it/s]"
     ]
    },
    {
     "name": "stdout",
     "output_type": "stream",
     "text": [
      "IndexError\n"
     ]
    },
    {
     "name": "stderr",
     "output_type": "stream",
     "text": [
      "Processing ValidityPreprocessor:  20%|████████▋                                   | 1183/6000 [00:31<01:37, 49.34it/s]"
     ]
    },
    {
     "name": "stdout",
     "output_type": "stream",
     "text": [
      "IndexError\n",
      "IndexError\n",
      "IndexError\n"
     ]
    },
    {
     "name": "stderr",
     "output_type": "stream",
     "text": [
      "Processing ValidityPreprocessor:  20%|████████▊                                   | 1196/6000 [00:31<01:47, 44.65it/s]"
     ]
    },
    {
     "name": "stdout",
     "output_type": "stream",
     "text": [
      "IndexError\n",
      "IndexError\n"
     ]
    },
    {
     "name": "stderr",
     "output_type": "stream",
     "text": [
      "Processing ValidityPreprocessor:  20%|████████▊                                   | 1210/6000 [00:31<01:32, 51.86it/s]"
     ]
    },
    {
     "name": "stdout",
     "output_type": "stream",
     "text": [
      "IndexError\n",
      "IndexError\n"
     ]
    },
    {
     "name": "stderr",
     "output_type": "stream",
     "text": [
      "Processing ValidityPreprocessor:  20%|█████████                                   | 1229/6000 [00:32<01:29, 53.04it/s]"
     ]
    },
    {
     "name": "stdout",
     "output_type": "stream",
     "text": [
      "IndexError\n",
      "IndexError\n"
     ]
    },
    {
     "name": "stderr",
     "output_type": "stream",
     "text": [
      "Processing ValidityPreprocessor:  21%|█████████                                   | 1235/6000 [00:32<01:53, 41.96it/s]"
     ]
    },
    {
     "name": "stdout",
     "output_type": "stream",
     "text": [
      "IndexError\n",
      "IndexError\n",
      "IndexError\n"
     ]
    },
    {
     "name": "stderr",
     "output_type": "stream",
     "text": [
      "Processing ValidityPreprocessor:  21%|█████████▏                                  | 1259/6000 [00:38<08:54,  8.86it/s]"
     ]
    },
    {
     "name": "stdout",
     "output_type": "stream",
     "text": [
      "IndexError\n"
     ]
    },
    {
     "name": "stderr",
     "output_type": "stream",
     "text": [
      "Processing ValidityPreprocessor:  21%|█████████▎                                  | 1270/6000 [00:38<05:46, 13.65it/s]"
     ]
    },
    {
     "name": "stdout",
     "output_type": "stream",
     "text": [
      "IndexError\n",
      "IndexError\n"
     ]
    },
    {
     "name": "stderr",
     "output_type": "stream",
     "text": [
      "Processing ValidityPreprocessor:  21%|█████████▍                                  | 1280/6000 [00:38<03:55, 20.04it/s]"
     ]
    },
    {
     "name": "stdout",
     "output_type": "stream",
     "text": [
      "IndexError\n",
      "IndexError\n",
      "IndexError\n"
     ]
    },
    {
     "name": "stderr",
     "output_type": "stream",
     "text": [
      "Processing ValidityPreprocessor:  22%|█████████▌                                  | 1298/6000 [00:39<02:25, 32.35it/s]"
     ]
    },
    {
     "name": "stdout",
     "output_type": "stream",
     "text": [
      "IndexError\n"
     ]
    },
    {
     "name": "stderr",
     "output_type": "stream",
     "text": [
      "Processing ValidityPreprocessor:  22%|█████████▌                                  | 1308/6000 [00:39<02:23, 32.74it/s]"
     ]
    },
    {
     "name": "stdout",
     "output_type": "stream",
     "text": [
      "IndexError\n"
     ]
    },
    {
     "name": "stderr",
     "output_type": "stream",
     "text": [
      "Processing ValidityPreprocessor:  22%|█████████▋                                  | 1328/6000 [00:40<02:12, 35.19it/s]"
     ]
    },
    {
     "name": "stdout",
     "output_type": "stream",
     "text": [
      "IndexError\n",
      "IndexError\n",
      "IndexError\n",
      "IndexError\n"
     ]
    },
    {
     "name": "stderr",
     "output_type": "stream",
     "text": [
      "Processing ValidityPreprocessor:  22%|█████████▊                                  | 1339/6000 [00:40<01:54, 40.72it/s]"
     ]
    },
    {
     "name": "stdout",
     "output_type": "stream",
     "text": [
      "IndexError\n"
     ]
    },
    {
     "name": "stderr",
     "output_type": "stream",
     "text": [
      "Processing ValidityPreprocessor:  23%|██████████                                  | 1377/6000 [00:41<01:53, 40.75it/s]"
     ]
    },
    {
     "name": "stdout",
     "output_type": "stream",
     "text": [
      "IndexError\n",
      "IndexError\n",
      "IndexError\n"
     ]
    },
    {
     "name": "stderr",
     "output_type": "stream",
     "text": [
      "Processing ValidityPreprocessor:  23%|██████████▏                                 | 1388/6000 [00:42<02:55, 26.32it/s]"
     ]
    },
    {
     "name": "stdout",
     "output_type": "stream",
     "text": [
      "IndexError\n"
     ]
    },
    {
     "name": "stderr",
     "output_type": "stream",
     "text": [
      "Processing ValidityPreprocessor:  23%|██████████▎                                 | 1407/6000 [00:42<01:55, 39.91it/s]"
     ]
    },
    {
     "name": "stdout",
     "output_type": "stream",
     "text": [
      "IndexError\n",
      "IndexError\n"
     ]
    },
    {
     "name": "stderr",
     "output_type": "stream",
     "text": [
      "Processing ValidityPreprocessor:  24%|██████████▍                                 | 1422/6000 [00:42<01:48, 42.39it/s]"
     ]
    },
    {
     "name": "stdout",
     "output_type": "stream",
     "text": [
      "IndexError\n",
      "IndexError\n",
      "IndexError\n"
     ]
    },
    {
     "name": "stderr",
     "output_type": "stream",
     "text": [
      "Processing ValidityPreprocessor:  24%|██████████▌                                 | 1433/6000 [00:43<01:59, 38.23it/s]"
     ]
    },
    {
     "name": "stdout",
     "output_type": "stream",
     "text": [
      "IndexError\n",
      "IndexError\n",
      "IndexError\n"
     ]
    },
    {
     "name": "stderr",
     "output_type": "stream",
     "text": [
      "Processing ValidityPreprocessor:  24%|██████████▋                                 | 1460/6000 [00:43<01:25, 53.18it/s]"
     ]
    },
    {
     "name": "stdout",
     "output_type": "stream",
     "text": [
      "IndexError\n",
      "IndexError\n",
      "IndexError\n"
     ]
    },
    {
     "name": "stderr",
     "output_type": "stream",
     "text": [
      "Processing ValidityPreprocessor:  25%|██████████▉                                 | 1485/6000 [00:44<01:48, 41.64it/s]"
     ]
    },
    {
     "name": "stdout",
     "output_type": "stream",
     "text": [
      "IndexError\n",
      "IndexError\n",
      "IndexError\n",
      "IndexError\n"
     ]
    },
    {
     "name": "stderr",
     "output_type": "stream",
     "text": [
      "Processing ValidityPreprocessor:  25%|██████████▉                                 | 1496/6000 [00:44<01:42, 43.95it/s]"
     ]
    },
    {
     "name": "stdout",
     "output_type": "stream",
     "text": [
      "IndexError\n"
     ]
    },
    {
     "name": "stderr",
     "output_type": "stream",
     "text": [
      "Processing ValidityPreprocessor:  25%|███████████                                 | 1513/6000 [00:49<10:25,  7.17it/s]"
     ]
    },
    {
     "name": "stdout",
     "output_type": "stream",
     "text": [
      "IndexError\n"
     ]
    },
    {
     "name": "stderr",
     "output_type": "stream",
     "text": [
      "Processing ValidityPreprocessor:  26%|███████████▎                                | 1535/6000 [00:50<03:57, 18.80it/s]"
     ]
    },
    {
     "name": "stdout",
     "output_type": "stream",
     "text": [
      "IndexError\n",
      "IndexError\n",
      "IndexError\n",
      "IndexError\n",
      "IndexError\n"
     ]
    },
    {
     "name": "stderr",
     "output_type": "stream",
     "text": [
      "Processing ValidityPreprocessor:  26%|███████████▎                                | 1549/6000 [00:50<02:37, 28.29it/s]"
     ]
    },
    {
     "name": "stdout",
     "output_type": "stream",
     "text": [
      "IndexError\n",
      "IndexError\n",
      "IndexError\n"
     ]
    },
    {
     "name": "stderr",
     "output_type": "stream",
     "text": [
      "Processing ValidityPreprocessor:  26%|███████████▍                                | 1562/6000 [00:50<02:09, 34.15it/s]"
     ]
    },
    {
     "name": "stdout",
     "output_type": "stream",
     "text": [
      "IndexError\n"
     ]
    },
    {
     "name": "stderr",
     "output_type": "stream",
     "text": [
      "Processing ValidityPreprocessor:  26%|███████████▋                                | 1588/6000 [00:51<01:41, 43.46it/s]"
     ]
    },
    {
     "name": "stdout",
     "output_type": "stream",
     "text": [
      "IndexError\n",
      "IndexError\n",
      "IndexError\n",
      "IndexError\n"
     ]
    },
    {
     "name": "stderr",
     "output_type": "stream",
     "text": [
      "Processing ValidityPreprocessor:  27%|███████████▊                                | 1613/6000 [00:51<01:12, 60.78it/s]"
     ]
    },
    {
     "name": "stdout",
     "output_type": "stream",
     "text": [
      "IndexError\n"
     ]
    },
    {
     "name": "stderr",
     "output_type": "stream",
     "text": [
      "Processing ValidityPreprocessor:  27%|███████████▉                                | 1628/6000 [00:52<01:05, 66.64it/s]"
     ]
    },
    {
     "name": "stdout",
     "output_type": "stream",
     "text": [
      "IndexError\n",
      "IndexError\n",
      "IndexError\n"
     ]
    },
    {
     "name": "stderr",
     "output_type": "stream",
     "text": [
      "Processing ValidityPreprocessor:  27%|████████████                                | 1642/6000 [00:52<01:09, 62.64it/s]"
     ]
    },
    {
     "name": "stdout",
     "output_type": "stream",
     "text": [
      "IndexError\n",
      "IndexError\n",
      "IndexError\n"
     ]
    },
    {
     "name": "stderr",
     "output_type": "stream",
     "text": [
      "Processing ValidityPreprocessor:  28%|████████████▏                               | 1669/6000 [00:52<01:22, 52.24it/s]"
     ]
    },
    {
     "name": "stdout",
     "output_type": "stream",
     "text": [
      "IndexError\n",
      "IndexError\n",
      "IndexError\n"
     ]
    },
    {
     "name": "stderr",
     "output_type": "stream",
     "text": [
      "Processing ValidityPreprocessor:  28%|████████████▎                               | 1681/6000 [00:53<01:22, 52.07it/s]"
     ]
    },
    {
     "name": "stdout",
     "output_type": "stream",
     "text": [
      "IndexError\n"
     ]
    },
    {
     "name": "stderr",
     "output_type": "stream",
     "text": [
      "Processing ValidityPreprocessor:  28%|████████████▌                               | 1708/6000 [00:53<01:28, 48.43it/s]"
     ]
    },
    {
     "name": "stdout",
     "output_type": "stream",
     "text": [
      "IndexError\n"
     ]
    },
    {
     "name": "stderr",
     "output_type": "stream",
     "text": [
      "Processing ValidityPreprocessor:  29%|████████████▌                               | 1719/6000 [00:54<02:41, 26.50it/s]"
     ]
    },
    {
     "name": "stdout",
     "output_type": "stream",
     "text": [
      "IndexError\n",
      "IndexError\n"
     ]
    },
    {
     "name": "stderr",
     "output_type": "stream",
     "text": [
      "Processing ValidityPreprocessor:  29%|████████████▊                               | 1742/6000 [00:54<01:56, 36.54it/s]"
     ]
    },
    {
     "name": "stdout",
     "output_type": "stream",
     "text": [
      "IndexError\n"
     ]
    },
    {
     "name": "stderr",
     "output_type": "stream",
     "text": [
      "Processing ValidityPreprocessor:  29%|████████████▉                               | 1760/6000 [00:55<01:33, 45.29it/s]"
     ]
    },
    {
     "name": "stdout",
     "output_type": "stream",
     "text": [
      "IndexError\n",
      "IndexError\n",
      "IndexError\n"
     ]
    },
    {
     "name": "stderr",
     "output_type": "stream",
     "text": [
      "Processing ValidityPreprocessor:  30%|████████████▉                               | 1770/6000 [00:55<01:38, 42.85it/s]"
     ]
    },
    {
     "name": "stdout",
     "output_type": "stream",
     "text": [
      "IndexError\n",
      "IndexError\n",
      "IndexError\n",
      "IndexError\n"
     ]
    },
    {
     "name": "stderr",
     "output_type": "stream",
     "text": [
      "Processing ValidityPreprocessor:  30%|█████████████▏                              | 1793/6000 [00:56<01:38, 42.52it/s]"
     ]
    },
    {
     "name": "stdout",
     "output_type": "stream",
     "text": [
      "IndexError\n",
      "IndexError\n",
      "IndexError\n"
     ]
    },
    {
     "name": "stderr",
     "output_type": "stream",
     "text": [
      "Processing ValidityPreprocessor:  30%|█████████████▏                              | 1802/6000 [00:56<02:08, 32.55it/s]"
     ]
    },
    {
     "name": "stdout",
     "output_type": "stream",
     "text": [
      "IndexError\n",
      "IndexError\n"
     ]
    },
    {
     "name": "stderr",
     "output_type": "stream",
     "text": [
      "Processing ValidityPreprocessor:  30%|█████████████▎                              | 1822/6000 [00:56<01:35, 43.54it/s]"
     ]
    },
    {
     "name": "stdout",
     "output_type": "stream",
     "text": [
      "IndexError\n",
      "IndexError\n"
     ]
    },
    {
     "name": "stderr",
     "output_type": "stream",
     "text": [
      "Processing ValidityPreprocessor:  31%|█████████████▍                              | 1836/6000 [00:57<01:19, 52.58it/s]"
     ]
    },
    {
     "name": "stdout",
     "output_type": "stream",
     "text": [
      "IndexError\n"
     ]
    },
    {
     "name": "stderr",
     "output_type": "stream",
     "text": [
      "Processing ValidityPreprocessor:  31%|█████████████▋                              | 1859/6000 [00:57<01:26, 48.12it/s]"
     ]
    },
    {
     "name": "stdout",
     "output_type": "stream",
     "text": [
      "IndexError\n",
      "IndexError\n",
      "IndexError\n",
      "IndexError\n"
     ]
    },
    {
     "name": "stderr",
     "output_type": "stream",
     "text": [
      "Processing ValidityPreprocessor:  31%|█████████████▋                              | 1870/6000 [00:57<01:37, 42.50it/s]"
     ]
    },
    {
     "name": "stdout",
     "output_type": "stream",
     "text": [
      "IndexError\n",
      "IndexError\n"
     ]
    },
    {
     "name": "stderr",
     "output_type": "stream",
     "text": [
      "Processing ValidityPreprocessor:  31%|█████████████▊                              | 1882/6000 [00:58<01:28, 46.65it/s]"
     ]
    },
    {
     "name": "stdout",
     "output_type": "stream",
     "text": [
      "IndexError\n",
      "IndexError\n"
     ]
    },
    {
     "name": "stderr",
     "output_type": "stream",
     "text": [
      "Processing ValidityPreprocessor:  32%|█████████████▉                              | 1907/6000 [00:58<01:12, 56.65it/s]"
     ]
    },
    {
     "name": "stdout",
     "output_type": "stream",
     "text": [
      "IndexError\n",
      "IndexError\n"
     ]
    },
    {
     "name": "stderr",
     "output_type": "stream",
     "text": [
      "Processing ValidityPreprocessor:  32%|██████████████▏                             | 1931/6000 [00:58<01:03, 64.28it/s]"
     ]
    },
    {
     "name": "stdout",
     "output_type": "stream",
     "text": [
      "IndexError\n"
     ]
    },
    {
     "name": "stderr",
     "output_type": "stream",
     "text": [
      "Processing ValidityPreprocessor:  33%|██████████████▎                             | 1958/6000 [00:59<01:16, 52.86it/s]"
     ]
    },
    {
     "name": "stdout",
     "output_type": "stream",
     "text": [
      "IndexError\n",
      "IndexError\n",
      "IndexError\n"
     ]
    },
    {
     "name": "stderr",
     "output_type": "stream",
     "text": [
      "Processing ValidityPreprocessor:  33%|██████████████▍                             | 1976/6000 [01:00<01:21, 49.48it/s]"
     ]
    },
    {
     "name": "stdout",
     "output_type": "stream",
     "text": [
      "IndexError\n"
     ]
    },
    {
     "name": "stderr",
     "output_type": "stream",
     "text": [
      "Processing ValidityPreprocessor:  33%|██████████████▌                             | 1988/6000 [01:00<01:18, 51.21it/s]"
     ]
    },
    {
     "name": "stdout",
     "output_type": "stream",
     "text": [
      "IndexError\n"
     ]
    },
    {
     "name": "stderr",
     "output_type": "stream",
     "text": [
      "Processing ValidityPreprocessor:  33%|██████████████▌                             | 1994/6000 [01:00<01:40, 39.85it/s]"
     ]
    },
    {
     "name": "stdout",
     "output_type": "stream",
     "text": [
      "IndexError\n"
     ]
    },
    {
     "name": "stderr",
     "output_type": "stream",
     "text": [
      "Processing ValidityPreprocessor:  33%|██████████████▋                             | 2004/6000 [01:00<01:42, 39.17it/s]"
     ]
    },
    {
     "name": "stdout",
     "output_type": "stream",
     "text": [
      "IndexError\n",
      "IndexError\n",
      "IndexError\n"
     ]
    },
    {
     "name": "stderr",
     "output_type": "stream",
     "text": [
      "Processing ValidityPreprocessor:  34%|██████████████▊                             | 2023/6000 [01:01<01:19, 49.91it/s]"
     ]
    },
    {
     "name": "stdout",
     "output_type": "stream",
     "text": [
      "IndexError\n",
      "IndexError\n",
      "IndexError\n",
      "IndexError\n"
     ]
    },
    {
     "name": "stderr",
     "output_type": "stream",
     "text": [
      "Processing ValidityPreprocessor:  34%|██████████████▉                             | 2036/6000 [01:01<01:16, 52.00it/s]"
     ]
    },
    {
     "name": "stdout",
     "output_type": "stream",
     "text": [
      "IndexError\n",
      "IndexError\n"
     ]
    },
    {
     "name": "stderr",
     "output_type": "stream",
     "text": [
      "Processing ValidityPreprocessor:  34%|██████████████▉                             | 2045/6000 [01:01<01:13, 53.76it/s]"
     ]
    },
    {
     "name": "stdout",
     "output_type": "stream",
     "text": [
      "IndexError\n",
      "IndexError\n",
      "IndexError\n",
      "IndexError\n"
     ]
    },
    {
     "name": "stderr",
     "output_type": "stream",
     "text": [
      "Processing ValidityPreprocessor:  34%|███████████████▏                            | 2064/6000 [01:01<01:21, 48.05it/s]"
     ]
    },
    {
     "name": "stdout",
     "output_type": "stream",
     "text": [
      "IndexError\n",
      "IndexError\n"
     ]
    },
    {
     "name": "stderr",
     "output_type": "stream",
     "text": [
      "Processing ValidityPreprocessor:  35%|███████████████▏                            | 2075/6000 [01:02<01:27, 44.75it/s]"
     ]
    },
    {
     "name": "stdout",
     "output_type": "stream",
     "text": [
      "IndexError\n",
      "IndexError\n"
     ]
    },
    {
     "name": "stderr",
     "output_type": "stream",
     "text": [
      "Processing ValidityPreprocessor:  35%|███████████████▎                            | 2080/6000 [01:02<01:51, 35.07it/s]"
     ]
    },
    {
     "name": "stdout",
     "output_type": "stream",
     "text": [
      "IndexError\n"
     ]
    },
    {
     "name": "stderr",
     "output_type": "stream",
     "text": [
      "Processing ValidityPreprocessor:  35%|███████████████▎                            | 2095/6000 [01:02<01:18, 49.99it/s]"
     ]
    },
    {
     "name": "stdout",
     "output_type": "stream",
     "text": [
      "IndexError\n",
      "IndexError\n"
     ]
    },
    {
     "name": "stderr",
     "output_type": "stream",
     "text": [
      "Processing ValidityPreprocessor:  35%|███████████████▍                            | 2107/6000 [01:02<01:24, 46.01it/s]"
     ]
    },
    {
     "name": "stdout",
     "output_type": "stream",
     "text": [
      "IndexError\n",
      "IndexError\n",
      "IndexError\n",
      "IndexError\n",
      "IndexError\n"
     ]
    },
    {
     "name": "stderr",
     "output_type": "stream",
     "text": [
      "Processing ValidityPreprocessor:  35%|███████████████▌                            | 2129/6000 [01:03<01:08, 56.91it/s]"
     ]
    },
    {
     "name": "stdout",
     "output_type": "stream",
     "text": [
      "IndexError\n",
      "IndexError\n",
      "IndexError\n",
      "IndexError\n"
     ]
    },
    {
     "name": "stderr",
     "output_type": "stream",
     "text": [
      "Processing ValidityPreprocessor:  36%|███████████████▋                            | 2135/6000 [01:03<01:28, 43.51it/s]"
     ]
    },
    {
     "name": "stdout",
     "output_type": "stream",
     "text": [
      "IndexError\n"
     ]
    },
    {
     "name": "stderr",
     "output_type": "stream",
     "text": [
      "Processing ValidityPreprocessor:  36%|███████████████▋                            | 2146/6000 [01:03<01:26, 44.36it/s]"
     ]
    },
    {
     "name": "stdout",
     "output_type": "stream",
     "text": [
      "IndexError\n",
      "IndexError\n",
      "IndexError\n",
      "IndexError\n",
      "IndexError\n"
     ]
    },
    {
     "name": "stderr",
     "output_type": "stream",
     "text": [
      "Processing ValidityPreprocessor:  36%|███████████████▉                            | 2165/6000 [01:03<01:14, 51.72it/s]"
     ]
    },
    {
     "name": "stdout",
     "output_type": "stream",
     "text": [
      "IndexError\n",
      "IndexError\n",
      "IndexError\n"
     ]
    },
    {
     "name": "stderr",
     "output_type": "stream",
     "text": [
      "Processing ValidityPreprocessor:  37%|████████████████▏                           | 2203/6000 [01:04<01:03, 60.10it/s]"
     ]
    },
    {
     "name": "stdout",
     "output_type": "stream",
     "text": [
      "IndexError\n",
      "IndexError\n",
      "IndexError\n",
      "IndexError\n"
     ]
    },
    {
     "name": "stderr",
     "output_type": "stream",
     "text": [
      "Processing ValidityPreprocessor:  37%|████████████████▎                           | 2217/6000 [01:04<01:01, 61.10it/s]"
     ]
    },
    {
     "name": "stdout",
     "output_type": "stream",
     "text": [
      "IndexError\n",
      "IndexError\n"
     ]
    },
    {
     "name": "stderr",
     "output_type": "stream",
     "text": [
      "Processing ValidityPreprocessor:  37%|████████████████▍                           | 2244/6000 [01:06<02:31, 24.75it/s]"
     ]
    },
    {
     "name": "stdout",
     "output_type": "stream",
     "text": [
      "IndexError\n",
      "IndexError\n",
      "IndexError\n",
      "IndexError\n"
     ]
    },
    {
     "name": "stderr",
     "output_type": "stream",
     "text": [
      "Processing ValidityPreprocessor:  38%|████████████████▌                           | 2266/6000 [01:06<01:31, 40.64it/s]"
     ]
    },
    {
     "name": "stdout",
     "output_type": "stream",
     "text": [
      "IndexError\n",
      "IndexError\n",
      "IndexError\n"
     ]
    },
    {
     "name": "stderr",
     "output_type": "stream",
     "text": [
      "Processing ValidityPreprocessor:  38%|████████████████▉                           | 2304/6000 [01:06<01:06, 55.35it/s]"
     ]
    },
    {
     "name": "stdout",
     "output_type": "stream",
     "text": [
      "IndexError\n"
     ]
    },
    {
     "name": "stderr",
     "output_type": "stream",
     "text": [
      "Processing ValidityPreprocessor:  39%|█████████████████                           | 2325/6000 [01:07<01:17, 47.37it/s]"
     ]
    },
    {
     "name": "stdout",
     "output_type": "stream",
     "text": [
      "IndexError\n",
      "IndexError\n"
     ]
    },
    {
     "name": "stderr",
     "output_type": "stream",
     "text": [
      "Processing ValidityPreprocessor:  39%|█████████████████▏                          | 2347/6000 [01:07<01:07, 53.76it/s]"
     ]
    },
    {
     "name": "stdout",
     "output_type": "stream",
     "text": [
      "IndexError\n",
      "IndexError\n",
      "IndexError\n"
     ]
    },
    {
     "name": "stderr",
     "output_type": "stream",
     "text": [
      "Processing ValidityPreprocessor:  40%|█████████████████▍                          | 2372/6000 [01:08<01:14, 48.49it/s]"
     ]
    },
    {
     "name": "stdout",
     "output_type": "stream",
     "text": [
      "IndexError\n",
      "IndexError\n"
     ]
    },
    {
     "name": "stderr",
     "output_type": "stream",
     "text": [
      "Processing ValidityPreprocessor:  40%|█████████████████▌                          | 2392/6000 [01:08<01:11, 50.34it/s]"
     ]
    },
    {
     "name": "stdout",
     "output_type": "stream",
     "text": [
      "IndexError\n",
      "IndexError\n",
      "IndexError\n",
      "IndexError\n"
     ]
    },
    {
     "name": "stderr",
     "output_type": "stream",
     "text": [
      "Processing ValidityPreprocessor:  40%|█████████████████▋                          | 2406/6000 [01:09<01:09, 51.68it/s]"
     ]
    },
    {
     "name": "stdout",
     "output_type": "stream",
     "text": [
      "IndexError\n",
      "IndexError\n",
      "IndexError\n"
     ]
    },
    {
     "name": "stderr",
     "output_type": "stream",
     "text": [
      "Processing ValidityPreprocessor:  40%|█████████████████▊                          | 2426/6000 [01:09<01:19, 44.91it/s]"
     ]
    },
    {
     "name": "stdout",
     "output_type": "stream",
     "text": [
      "IndexError\n"
     ]
    },
    {
     "name": "stderr",
     "output_type": "stream",
     "text": [
      "Processing ValidityPreprocessor:  41%|█████████████████▊                          | 2431/6000 [01:09<01:32, 38.75it/s]"
     ]
    },
    {
     "name": "stdout",
     "output_type": "stream",
     "text": [
      "IndexError\n",
      "IndexError\n"
     ]
    },
    {
     "name": "stderr",
     "output_type": "stream",
     "text": [
      "Processing ValidityPreprocessor:  41%|█████████████████▉                          | 2454/6000 [01:10<01:14, 47.83it/s]"
     ]
    },
    {
     "name": "stdout",
     "output_type": "stream",
     "text": [
      "IndexError\n",
      "IndexError\n"
     ]
    },
    {
     "name": "stderr",
     "output_type": "stream",
     "text": [
      "Processing ValidityPreprocessor:  41%|██████████████████                          | 2466/6000 [01:10<01:14, 47.34it/s]"
     ]
    },
    {
     "name": "stdout",
     "output_type": "stream",
     "text": [
      "IndexError\n",
      "IndexError\n",
      "IndexError\n"
     ]
    },
    {
     "name": "stderr",
     "output_type": "stream",
     "text": [
      "Processing ValidityPreprocessor:  41%|██████████████████▏                         | 2481/6000 [01:10<00:58, 59.94it/s]"
     ]
    },
    {
     "name": "stdout",
     "output_type": "stream",
     "text": [
      "IndexError\n",
      "IndexError\n"
     ]
    },
    {
     "name": "stderr",
     "output_type": "stream",
     "text": [
      "Processing ValidityPreprocessor:  42%|██████████████████▎                         | 2495/6000 [01:10<00:56, 61.73it/s]"
     ]
    },
    {
     "name": "stdout",
     "output_type": "stream",
     "text": [
      "IndexError\n",
      "IndexError\n"
     ]
    },
    {
     "name": "stderr",
     "output_type": "stream",
     "text": [
      "Processing ValidityPreprocessor:  42%|██████████████████▍                         | 2511/6000 [01:11<01:07, 51.71it/s]"
     ]
    },
    {
     "name": "stdout",
     "output_type": "stream",
     "text": [
      "IndexError\n",
      "IndexError\n"
     ]
    },
    {
     "name": "stderr",
     "output_type": "stream",
     "text": [
      "Processing ValidityPreprocessor:  42%|██████████████████▌                         | 2529/6000 [01:11<01:16, 45.54it/s]"
     ]
    },
    {
     "name": "stdout",
     "output_type": "stream",
     "text": [
      "IndexError\n",
      "IndexError\n",
      "IndexError\n",
      "IndexError\n"
     ]
    },
    {
     "name": "stderr",
     "output_type": "stream",
     "text": [
      "Processing ValidityPreprocessor:  42%|██████████████████▌                         | 2537/6000 [01:11<01:06, 51.85it/s]"
     ]
    },
    {
     "name": "stdout",
     "output_type": "stream",
     "text": [
      "IndexError\n"
     ]
    },
    {
     "name": "stderr",
     "output_type": "stream",
     "text": [
      "Processing ValidityPreprocessor:  42%|██████████████████▋                         | 2549/6000 [01:12<01:07, 50.84it/s]"
     ]
    },
    {
     "name": "stdout",
     "output_type": "stream",
     "text": [
      "IndexError\n",
      "IndexError\n"
     ]
    },
    {
     "name": "stderr",
     "output_type": "stream",
     "text": [
      "Processing ValidityPreprocessor:  43%|██████████████████▊                         | 2568/6000 [01:12<01:01, 55.45it/s]"
     ]
    },
    {
     "name": "stdout",
     "output_type": "stream",
     "text": [
      "IndexError\n"
     ]
    },
    {
     "name": "stderr",
     "output_type": "stream",
     "text": [
      "Processing ValidityPreprocessor:  43%|███████████████████                         | 2592/6000 [01:12<00:51, 66.42it/s]"
     ]
    },
    {
     "name": "stdout",
     "output_type": "stream",
     "text": [
      "IndexError\n",
      "IndexError\n",
      "IndexError\n"
     ]
    },
    {
     "name": "stderr",
     "output_type": "stream",
     "text": [
      "Processing ValidityPreprocessor:  44%|███████████████████▏                        | 2620/6000 [01:16<03:29, 16.15it/s]"
     ]
    },
    {
     "name": "stdout",
     "output_type": "stream",
     "text": [
      "IndexError\n",
      "IndexError\n"
     ]
    },
    {
     "name": "stderr",
     "output_type": "stream",
     "text": [
      "Processing ValidityPreprocessor:  44%|███████████████████▎                        | 2633/6000 [01:16<02:28, 22.65it/s]"
     ]
    },
    {
     "name": "stdout",
     "output_type": "stream",
     "text": [
      "IndexError\n",
      "IndexError\n"
     ]
    },
    {
     "name": "stderr",
     "output_type": "stream",
     "text": [
      "Processing ValidityPreprocessor:  44%|███████████████████▌                        | 2660/6000 [01:17<01:22, 40.68it/s]"
     ]
    },
    {
     "name": "stdout",
     "output_type": "stream",
     "text": [
      "IndexError\n",
      "IndexError\n",
      "IndexError\n"
     ]
    },
    {
     "name": "stderr",
     "output_type": "stream",
     "text": [
      "Processing ValidityPreprocessor:  45%|███████████████████▋                        | 2682/6000 [01:17<01:00, 55.17it/s]"
     ]
    },
    {
     "name": "stdout",
     "output_type": "stream",
     "text": [
      "IndexError\n",
      "IndexError\n",
      "IndexError\n"
     ]
    },
    {
     "name": "stderr",
     "output_type": "stream",
     "text": [
      "Processing ValidityPreprocessor:  45%|███████████████████▋                        | 2689/6000 [01:17<00:59, 55.62it/s]"
     ]
    },
    {
     "name": "stdout",
     "output_type": "stream",
     "text": [
      "IndexError\n",
      "IndexError\n",
      "IndexError\n"
     ]
    },
    {
     "name": "stderr",
     "output_type": "stream",
     "text": [
      "Processing ValidityPreprocessor:  45%|███████████████████▊                        | 2704/6000 [01:17<01:03, 51.89it/s]"
     ]
    },
    {
     "name": "stdout",
     "output_type": "stream",
     "text": [
      "IndexError\n",
      "IndexError\n"
     ]
    },
    {
     "name": "stderr",
     "output_type": "stream",
     "text": [
      "Processing ValidityPreprocessor:  45%|███████████████████▉                        | 2715/6000 [01:18<02:07, 25.70it/s]"
     ]
    },
    {
     "name": "stdout",
     "output_type": "stream",
     "text": [
      "IndexError\n"
     ]
    },
    {
     "name": "stderr",
     "output_type": "stream",
     "text": [
      "Processing ValidityPreprocessor:  46%|████████████████████                        | 2731/6000 [01:19<01:43, 31.58it/s]"
     ]
    },
    {
     "name": "stdout",
     "output_type": "stream",
     "text": [
      "IndexError\n"
     ]
    },
    {
     "name": "stderr",
     "output_type": "stream",
     "text": [
      "Processing ValidityPreprocessor:  46%|████████████████████                        | 2742/6000 [01:21<06:31,  8.31it/s]"
     ]
    },
    {
     "name": "stdout",
     "output_type": "stream",
     "text": [
      "IndexError\n",
      "IndexError\n"
     ]
    },
    {
     "name": "stderr",
     "output_type": "stream",
     "text": [
      "Processing ValidityPreprocessor:  46%|████████████████████▏                       | 2753/6000 [01:22<04:01, 13.44it/s]"
     ]
    },
    {
     "name": "stdout",
     "output_type": "stream",
     "text": [
      "IndexError\n",
      "IndexError\n",
      "IndexError\n",
      "IndexError\n"
     ]
    },
    {
     "name": "stderr",
     "output_type": "stream",
     "text": [
      "Processing ValidityPreprocessor:  46%|████████████████████▎                       | 2766/6000 [01:22<02:25, 22.23it/s]"
     ]
    },
    {
     "name": "stdout",
     "output_type": "stream",
     "text": [
      "IndexError\n",
      "IndexError\n",
      "IndexError\n"
     ]
    },
    {
     "name": "stderr",
     "output_type": "stream",
     "text": [
      "Processing ValidityPreprocessor:  46%|████████████████████▎                       | 2771/6000 [01:22<02:23, 22.52it/s]"
     ]
    },
    {
     "name": "stdout",
     "output_type": "stream",
     "text": [
      "IndexError\n",
      "IndexError\n",
      "IndexError\n"
     ]
    },
    {
     "name": "stderr",
     "output_type": "stream",
     "text": [
      "Processing ValidityPreprocessor:  46%|████████████████████▍                       | 2783/6000 [01:22<01:41, 31.62it/s]"
     ]
    },
    {
     "name": "stdout",
     "output_type": "stream",
     "text": [
      "IndexError\n",
      "IndexError\n",
      "IndexError\n"
     ]
    },
    {
     "name": "stderr",
     "output_type": "stream",
     "text": [
      "Processing ValidityPreprocessor:  47%|████████████████████▌                       | 2803/6000 [01:23<01:18, 40.56it/s]"
     ]
    },
    {
     "name": "stdout",
     "output_type": "stream",
     "text": [
      "IndexError\n",
      "IndexError\n"
     ]
    },
    {
     "name": "stderr",
     "output_type": "stream",
     "text": [
      "Processing ValidityPreprocessor:  47%|████████████████████▋                       | 2818/6000 [01:23<01:02, 50.60it/s]"
     ]
    },
    {
     "name": "stdout",
     "output_type": "stream",
     "text": [
      "IndexError\n"
     ]
    },
    {
     "name": "stderr",
     "output_type": "stream",
     "text": [
      "Processing ValidityPreprocessor:  47%|████████████████████▊                       | 2830/6000 [01:23<01:04, 49.16it/s]"
     ]
    },
    {
     "name": "stdout",
     "output_type": "stream",
     "text": [
      "IndexError\n",
      "IndexError\n",
      "IndexError\n",
      "IndexError\n"
     ]
    },
    {
     "name": "stderr",
     "output_type": "stream",
     "text": [
      "Processing ValidityPreprocessor:  47%|████████████████████▉                       | 2849/6000 [01:24<00:59, 52.72it/s]"
     ]
    },
    {
     "name": "stdout",
     "output_type": "stream",
     "text": [
      "IndexError\n",
      "IndexError\n"
     ]
    },
    {
     "name": "stderr",
     "output_type": "stream",
     "text": [
      "Processing ValidityPreprocessor:  48%|████████████████████▉                       | 2855/6000 [01:24<01:26, 36.32it/s]"
     ]
    },
    {
     "name": "stdout",
     "output_type": "stream",
     "text": [
      "IndexError\n"
     ]
    },
    {
     "name": "stderr",
     "output_type": "stream",
     "text": [
      "Processing ValidityPreprocessor:  48%|█████████████████████                       | 2875/6000 [01:24<01:04, 48.34it/s]"
     ]
    },
    {
     "name": "stdout",
     "output_type": "stream",
     "text": [
      "IndexError\n",
      "IndexError\n"
     ]
    },
    {
     "name": "stderr",
     "output_type": "stream",
     "text": [
      "Processing ValidityPreprocessor:  48%|█████████████████████▏                      | 2893/6000 [01:26<02:41, 19.20it/s]"
     ]
    },
    {
     "name": "stdout",
     "output_type": "stream",
     "text": [
      "IndexError\n",
      "IndexError\n"
     ]
    },
    {
     "name": "stderr",
     "output_type": "stream",
     "text": [
      "Processing ValidityPreprocessor:  48%|█████████████████████▎                      | 2904/6000 [01:26<02:01, 25.54it/s]"
     ]
    },
    {
     "name": "stdout",
     "output_type": "stream",
     "text": [
      "IndexError\n",
      "IndexError\n"
     ]
    },
    {
     "name": "stderr",
     "output_type": "stream",
     "text": [
      "Processing ValidityPreprocessor:  49%|█████████████████████▍                      | 2925/6000 [01:27<01:12, 42.21it/s]"
     ]
    },
    {
     "name": "stdout",
     "output_type": "stream",
     "text": [
      "IndexError\n",
      "IndexError\n",
      "IndexError\n",
      "IndexError\n",
      "IndexError\n"
     ]
    },
    {
     "name": "stderr",
     "output_type": "stream",
     "text": [
      "Processing ValidityPreprocessor:  49%|█████████████████████▌                      | 2937/6000 [01:27<01:05, 46.56it/s]"
     ]
    },
    {
     "name": "stdout",
     "output_type": "stream",
     "text": [
      "IndexError\n",
      "IndexError\n"
     ]
    },
    {
     "name": "stderr",
     "output_type": "stream",
     "text": [
      "Processing ValidityPreprocessor:  49%|█████████████████████▋                      | 2961/6000 [01:28<01:01, 49.29it/s]"
     ]
    },
    {
     "name": "stdout",
     "output_type": "stream",
     "text": [
      "IndexError\n",
      "IndexError\n"
     ]
    },
    {
     "name": "stderr",
     "output_type": "stream",
     "text": [
      "Processing ValidityPreprocessor:  50%|█████████████████████▉                      | 2991/6000 [01:28<00:52, 57.15it/s]"
     ]
    },
    {
     "name": "stdout",
     "output_type": "stream",
     "text": [
      "IndexError\n",
      "IndexError\n",
      "IndexError\n",
      "IndexError\n"
     ]
    },
    {
     "name": "stderr",
     "output_type": "stream",
     "text": [
      "Processing ValidityPreprocessor:  50%|██████████████████████                      | 3006/6000 [01:28<00:52, 56.94it/s]"
     ]
    },
    {
     "name": "stdout",
     "output_type": "stream",
     "text": [
      "IndexError\n",
      "IndexError\n"
     ]
    },
    {
     "name": "stderr",
     "output_type": "stream",
     "text": [
      "Processing ValidityPreprocessor:  50%|██████████████████████▏                     | 3027/6000 [01:41<13:01,  3.80it/s]"
     ]
    },
    {
     "name": "stdout",
     "output_type": "stream",
     "text": [
      "IndexError\n",
      "IndexError\n"
     ]
    },
    {
     "name": "stderr",
     "output_type": "stream",
     "text": [
      "Processing ValidityPreprocessor:  51%|██████████████████████▎                     | 3039/6000 [01:41<07:31,  6.56it/s]"
     ]
    },
    {
     "name": "stdout",
     "output_type": "stream",
     "text": [
      "IndexError\n"
     ]
    },
    {
     "name": "stderr",
     "output_type": "stream",
     "text": [
      "Processing ValidityPreprocessor:  51%|██████████████████████▎                     | 3050/6000 [01:41<04:32, 10.83it/s]"
     ]
    },
    {
     "name": "stdout",
     "output_type": "stream",
     "text": [
      "IndexError\n",
      "IndexError\n"
     ]
    },
    {
     "name": "stderr",
     "output_type": "stream",
     "text": [
      "Processing ValidityPreprocessor:  51%|██████████████████████▌                     | 3072/6000 [01:42<01:56, 25.23it/s]"
     ]
    },
    {
     "name": "stdout",
     "output_type": "stream",
     "text": [
      "IndexError\n",
      "IndexError\n"
     ]
    },
    {
     "name": "stderr",
     "output_type": "stream",
     "text": [
      "Processing ValidityPreprocessor:  51%|██████████████████████▋                     | 3087/6000 [01:42<01:36, 30.06it/s]"
     ]
    },
    {
     "name": "stdout",
     "output_type": "stream",
     "text": [
      "IndexError\n",
      "IndexError\n"
     ]
    },
    {
     "name": "stderr",
     "output_type": "stream",
     "text": [
      "Processing ValidityPreprocessor:  52%|██████████████████████▊                     | 3107/6000 [01:44<02:31, 19.15it/s]"
     ]
    },
    {
     "name": "stdout",
     "output_type": "stream",
     "text": [
      "IndexError\n",
      "IndexError\n",
      "IndexError\n",
      "IndexError\n"
     ]
    },
    {
     "name": "stderr",
     "output_type": "stream",
     "text": [
      "Processing ValidityPreprocessor:  52%|██████████████████████▉                     | 3121/6000 [01:44<01:37, 29.41it/s]"
     ]
    },
    {
     "name": "stdout",
     "output_type": "stream",
     "text": [
      "IndexError\n",
      "IndexError\n"
     ]
    },
    {
     "name": "stderr",
     "output_type": "stream",
     "text": [
      "Processing ValidityPreprocessor:  52%|███████████████████████                     | 3144/6000 [01:44<01:04, 44.33it/s]"
     ]
    },
    {
     "name": "stdout",
     "output_type": "stream",
     "text": [
      "IndexError\n",
      "IndexError\n",
      "IndexError\n"
     ]
    },
    {
     "name": "stderr",
     "output_type": "stream",
     "text": [
      "Processing ValidityPreprocessor:  53%|███████████████████████▏                    | 3158/6000 [01:45<00:56, 50.56it/s]"
     ]
    },
    {
     "name": "stdout",
     "output_type": "stream",
     "text": [
      "IndexError\n",
      "IndexError\n"
     ]
    },
    {
     "name": "stderr",
     "output_type": "stream",
     "text": [
      "Processing ValidityPreprocessor:  53%|███████████████████████▎                    | 3171/6000 [01:45<00:54, 52.28it/s]"
     ]
    },
    {
     "name": "stdout",
     "output_type": "stream",
     "text": [
      "IndexError\n"
     ]
    },
    {
     "name": "stderr",
     "output_type": "stream",
     "text": [
      "Processing ValidityPreprocessor:  53%|███████████████████████▎                    | 3183/6000 [01:45<01:02, 44.98it/s]"
     ]
    },
    {
     "name": "stdout",
     "output_type": "stream",
     "text": [
      "IndexError\n",
      "IndexError\n",
      "IndexError\n",
      "IndexError\n"
     ]
    },
    {
     "name": "stderr",
     "output_type": "stream",
     "text": [
      "Processing ValidityPreprocessor:  53%|███████████████████████▍                    | 3202/6000 [01:45<00:54, 51.17it/s]"
     ]
    },
    {
     "name": "stdout",
     "output_type": "stream",
     "text": [
      "IndexError\n",
      "IndexError\n"
     ]
    },
    {
     "name": "stderr",
     "output_type": "stream",
     "text": [
      "Processing ValidityPreprocessor:  54%|███████████████████████▌                    | 3217/6000 [01:46<00:45, 60.54it/s]"
     ]
    },
    {
     "name": "stdout",
     "output_type": "stream",
     "text": [
      "IndexError\n",
      "IndexError\n"
     ]
    },
    {
     "name": "stderr",
     "output_type": "stream",
     "text": [
      "Processing ValidityPreprocessor:  54%|███████████████████████▋                    | 3232/6000 [01:46<00:43, 63.46it/s]"
     ]
    },
    {
     "name": "stdout",
     "output_type": "stream",
     "text": [
      "IndexError\n",
      "IndexError\n"
     ]
    },
    {
     "name": "stderr",
     "output_type": "stream",
     "text": [
      "Processing ValidityPreprocessor:  54%|███████████████████████▊                    | 3253/6000 [01:46<00:53, 51.26it/s]"
     ]
    },
    {
     "name": "stdout",
     "output_type": "stream",
     "text": [
      "IndexError\n",
      "IndexError\n",
      "IndexError\n"
     ]
    },
    {
     "name": "stderr",
     "output_type": "stream",
     "text": [
      "Processing ValidityPreprocessor:  54%|███████████████████████▉                    | 3259/6000 [01:46<00:51, 53.22it/s]"
     ]
    },
    {
     "name": "stdout",
     "output_type": "stream",
     "text": [
      "IndexError\n",
      "IndexError\n",
      "IndexError\n",
      "IndexError\n"
     ]
    },
    {
     "name": "stderr",
     "output_type": "stream",
     "text": [
      "Processing ValidityPreprocessor:  55%|████████████████████████                    | 3273/6000 [01:47<00:53, 50.62it/s]"
     ]
    },
    {
     "name": "stdout",
     "output_type": "stream",
     "text": [
      "IndexError\n",
      "IndexError\n",
      "IndexError\n"
     ]
    },
    {
     "name": "stderr",
     "output_type": "stream",
     "text": [
      "Processing ValidityPreprocessor:  55%|████████████████████████                    | 3286/6000 [01:47<00:51, 52.21it/s]"
     ]
    },
    {
     "name": "stdout",
     "output_type": "stream",
     "text": [
      "IndexError\n",
      "IndexError\n",
      "IndexError\n",
      "IndexError\n"
     ]
    },
    {
     "name": "stderr",
     "output_type": "stream",
     "text": [
      "Processing ValidityPreprocessor:  55%|████████████████████████▏                   | 3300/6000 [01:47<00:47, 56.57it/s]"
     ]
    },
    {
     "name": "stdout",
     "output_type": "stream",
     "text": [
      "IndexError\n",
      "IndexError\n",
      "IndexError\n"
     ]
    },
    {
     "name": "stderr",
     "output_type": "stream",
     "text": [
      "Processing ValidityPreprocessor:  55%|████████████████████████▎                   | 3312/6000 [01:48<00:50, 53.33it/s]"
     ]
    },
    {
     "name": "stdout",
     "output_type": "stream",
     "text": [
      "IndexError\n",
      "IndexError\n"
     ]
    },
    {
     "name": "stderr",
     "output_type": "stream",
     "text": [
      "Processing ValidityPreprocessor:  56%|████████████████████████▍                   | 3332/6000 [01:48<00:51, 51.94it/s]"
     ]
    },
    {
     "name": "stdout",
     "output_type": "stream",
     "text": [
      "IndexError\n",
      "IndexError\n"
     ]
    },
    {
     "name": "stderr",
     "output_type": "stream",
     "text": [
      "Processing ValidityPreprocessor:  56%|████████████████████████▋                   | 3358/6000 [01:48<00:53, 49.16it/s]"
     ]
    },
    {
     "name": "stdout",
     "output_type": "stream",
     "text": [
      "IndexError\n",
      "IndexError\n",
      "IndexError\n"
     ]
    },
    {
     "name": "stderr",
     "output_type": "stream",
     "text": [
      "Processing ValidityPreprocessor:  56%|████████████████████████▋                   | 3364/6000 [01:49<00:54, 47.99it/s]"
     ]
    },
    {
     "name": "stdout",
     "output_type": "stream",
     "text": [
      "IndexError\n",
      "IndexError\n"
     ]
    },
    {
     "name": "stderr",
     "output_type": "stream",
     "text": [
      "Processing ValidityPreprocessor:  56%|████████████████████████▊                   | 3379/6000 [01:49<01:09, 37.75it/s]"
     ]
    },
    {
     "name": "stdout",
     "output_type": "stream",
     "text": [
      "IndexError\n",
      "IndexError\n"
     ]
    },
    {
     "name": "stderr",
     "output_type": "stream",
     "text": [
      "Processing ValidityPreprocessor:  57%|████████████████████████▉                   | 3397/6000 [01:49<00:55, 46.97it/s]"
     ]
    },
    {
     "name": "stdout",
     "output_type": "stream",
     "text": [
      "IndexError\n",
      "IndexError\n"
     ]
    },
    {
     "name": "stderr",
     "output_type": "stream",
     "text": [
      "Processing ValidityPreprocessor:  57%|████████████████████████▉                   | 3407/6000 [01:50<01:03, 40.92it/s]"
     ]
    },
    {
     "name": "stdout",
     "output_type": "stream",
     "text": [
      "IndexError\n",
      "IndexError\n"
     ]
    },
    {
     "name": "stderr",
     "output_type": "stream",
     "text": [
      "Processing ValidityPreprocessor:  57%|█████████████████████████                   | 3419/6000 [01:50<00:55, 46.43it/s]"
     ]
    },
    {
     "name": "stdout",
     "output_type": "stream",
     "text": [
      "IndexError\n",
      "IndexError\n"
     ]
    },
    {
     "name": "stderr",
     "output_type": "stream",
     "text": [
      "Processing ValidityPreprocessor:  57%|█████████████████████████▏                  | 3438/6000 [01:50<00:46, 54.95it/s]"
     ]
    },
    {
     "name": "stdout",
     "output_type": "stream",
     "text": [
      "IndexError\n",
      "IndexError\n",
      "IndexError\n"
     ]
    },
    {
     "name": "stderr",
     "output_type": "stream",
     "text": [
      "Processing ValidityPreprocessor:  58%|█████████████████████████▎                  | 3451/6000 [01:51<00:58, 43.75it/s]"
     ]
    },
    {
     "name": "stdout",
     "output_type": "stream",
     "text": [
      "IndexError\n"
     ]
    },
    {
     "name": "stderr",
     "output_type": "stream",
     "text": [
      "Processing ValidityPreprocessor:  58%|█████████████████████████▍                  | 3465/6000 [01:51<00:48, 52.18it/s]"
     ]
    },
    {
     "name": "stdout",
     "output_type": "stream",
     "text": [
      "IndexError\n",
      "IndexError\n",
      "IndexError\n",
      "IndexError\n",
      "IndexError\n",
      "IndexError\n"
     ]
    },
    {
     "name": "stderr",
     "output_type": "stream",
     "text": [
      "Processing ValidityPreprocessor:  58%|█████████████████████████▌                  | 3489/6000 [01:51<00:39, 63.33it/s]"
     ]
    },
    {
     "name": "stdout",
     "output_type": "stream",
     "text": [
      "IndexError\n",
      "IndexError\n"
     ]
    },
    {
     "name": "stderr",
     "output_type": "stream",
     "text": [
      "Processing ValidityPreprocessor:  58%|█████████████████████████▋                  | 3503/6000 [01:51<00:41, 59.48it/s]"
     ]
    },
    {
     "name": "stdout",
     "output_type": "stream",
     "text": [
      "IndexError\n"
     ]
    },
    {
     "name": "stderr",
     "output_type": "stream",
     "text": [
      "Processing ValidityPreprocessor:  59%|█████████████████████████▊                  | 3517/6000 [01:52<00:55, 45.04it/s]"
     ]
    },
    {
     "name": "stdout",
     "output_type": "stream",
     "text": [
      "IndexError\n",
      "IndexError\n"
     ]
    },
    {
     "name": "stderr",
     "output_type": "stream",
     "text": [
      "Processing ValidityPreprocessor:  59%|█████████████████████████▊                  | 3523/6000 [01:52<01:06, 37.38it/s]"
     ]
    },
    {
     "name": "stdout",
     "output_type": "stream",
     "text": [
      "IndexError\n"
     ]
    },
    {
     "name": "stderr",
     "output_type": "stream",
     "text": [
      "Processing ValidityPreprocessor:  59%|█████████████████████████▉                  | 3534/6000 [01:53<01:45, 23.45it/s]"
     ]
    },
    {
     "name": "stdout",
     "output_type": "stream",
     "text": [
      "IndexError\n",
      "IndexError\n"
     ]
    },
    {
     "name": "stderr",
     "output_type": "stream",
     "text": [
      "Processing ValidityPreprocessor:  59%|██████████████████████████                  | 3552/6000 [01:53<01:15, 32.56it/s]"
     ]
    },
    {
     "name": "stdout",
     "output_type": "stream",
     "text": [
      "IndexError\n",
      "IndexError\n"
     ]
    },
    {
     "name": "stderr",
     "output_type": "stream",
     "text": [
      "Processing ValidityPreprocessor:  60%|██████████████████████████▏                 | 3571/6000 [01:54<01:15, 32.12it/s]"
     ]
    },
    {
     "name": "stdout",
     "output_type": "stream",
     "text": [
      "IndexError\n",
      "IndexError\n"
     ]
    },
    {
     "name": "stderr",
     "output_type": "stream",
     "text": [
      "Processing ValidityPreprocessor:  60%|██████████████████████████▎                 | 3587/6000 [01:54<00:59, 40.43it/s]"
     ]
    },
    {
     "name": "stdout",
     "output_type": "stream",
     "text": [
      "IndexError\n"
     ]
    },
    {
     "name": "stderr",
     "output_type": "stream",
     "text": [
      "Processing ValidityPreprocessor:  60%|██████████████████████████▍                 | 3597/6000 [01:55<01:16, 31.46it/s]"
     ]
    },
    {
     "name": "stdout",
     "output_type": "stream",
     "text": [
      "IndexError\n",
      "IndexError\n",
      "IndexError\n"
     ]
    },
    {
     "name": "stderr",
     "output_type": "stream",
     "text": [
      "Processing ValidityPreprocessor:  60%|██████████████████████████▍                 | 3601/6000 [01:55<01:29, 26.75it/s]"
     ]
    },
    {
     "name": "stdout",
     "output_type": "stream",
     "text": [
      "IndexError\n",
      "IndexError\n",
      "IndexError\n"
     ]
    },
    {
     "name": "stderr",
     "output_type": "stream",
     "text": [
      "Processing ValidityPreprocessor:  60%|██████████████████████████▍                 | 3605/6000 [01:55<01:22, 28.89it/s]"
     ]
    },
    {
     "name": "stdout",
     "output_type": "stream",
     "text": [
      "IndexError\n",
      "IndexError\n"
     ]
    },
    {
     "name": "stderr",
     "output_type": "stream",
     "text": [
      "Processing ValidityPreprocessor:  60%|██████████████████████████▌                 | 3630/6000 [01:55<00:55, 42.53it/s]"
     ]
    },
    {
     "name": "stdout",
     "output_type": "stream",
     "text": [
      "IndexError\n",
      "IndexError\n"
     ]
    },
    {
     "name": "stderr",
     "output_type": "stream",
     "text": [
      "Processing ValidityPreprocessor:  61%|██████████████████████████▊                 | 3649/6000 [01:56<01:06, 35.30it/s]"
     ]
    },
    {
     "name": "stdout",
     "output_type": "stream",
     "text": [
      "IndexError\n"
     ]
    },
    {
     "name": "stderr",
     "output_type": "stream",
     "text": [
      "Processing ValidityPreprocessor:  61%|██████████████████████████▉                 | 3668/6000 [01:56<00:48, 48.01it/s]"
     ]
    },
    {
     "name": "stdout",
     "output_type": "stream",
     "text": [
      "IndexError\n",
      "IndexError\n"
     ]
    },
    {
     "name": "stderr",
     "output_type": "stream",
     "text": [
      "Processing ValidityPreprocessor:  61%|██████████████████████████▉                 | 3679/6000 [01:57<00:52, 44.41it/s]"
     ]
    },
    {
     "name": "stdout",
     "output_type": "stream",
     "text": [
      "IndexError\n",
      "IndexError\n",
      "IndexError\n"
     ]
    },
    {
     "name": "stderr",
     "output_type": "stream",
     "text": [
      "Processing ValidityPreprocessor:  62%|███████████████████████████                 | 3693/6000 [01:57<00:44, 51.77it/s]"
     ]
    },
    {
     "name": "stdout",
     "output_type": "stream",
     "text": [
      "IndexError\n"
     ]
    },
    {
     "name": "stderr",
     "output_type": "stream",
     "text": [
      "Processing ValidityPreprocessor:  62%|███████████████████████████▏                | 3705/6000 [01:57<01:06, 34.47it/s]"
     ]
    },
    {
     "name": "stdout",
     "output_type": "stream",
     "text": [
      "IndexError\n",
      "IndexError\n"
     ]
    },
    {
     "name": "stderr",
     "output_type": "stream",
     "text": [
      "Processing ValidityPreprocessor:  62%|███████████████████████████▎                | 3719/6000 [01:58<00:52, 43.41it/s]"
     ]
    },
    {
     "name": "stdout",
     "output_type": "stream",
     "text": [
      "IndexError\n"
     ]
    },
    {
     "name": "stderr",
     "output_type": "stream",
     "text": [
      "Processing ValidityPreprocessor:  62%|███████████████████████████▍                | 3737/6000 [01:58<00:43, 51.64it/s]"
     ]
    },
    {
     "name": "stdout",
     "output_type": "stream",
     "text": [
      "IndexError\n",
      "IndexError\n",
      "IndexError\n"
     ]
    },
    {
     "name": "stderr",
     "output_type": "stream",
     "text": [
      "Processing ValidityPreprocessor:  63%|███████████████████████████▌                | 3758/6000 [01:58<00:42, 52.72it/s]"
     ]
    },
    {
     "name": "stdout",
     "output_type": "stream",
     "text": [
      "IndexError\n",
      "IndexError\n"
     ]
    },
    {
     "name": "stderr",
     "output_type": "stream",
     "text": [
      "Processing ValidityPreprocessor:  63%|███████████████████████████▋                | 3776/6000 [01:59<00:43, 51.17it/s]"
     ]
    },
    {
     "name": "stdout",
     "output_type": "stream",
     "text": [
      "IndexError\n",
      "IndexError\n",
      "IndexError\n"
     ]
    },
    {
     "name": "stderr",
     "output_type": "stream",
     "text": [
      "Processing ValidityPreprocessor:  63%|███████████████████████████▊                | 3792/6000 [01:59<00:49, 44.71it/s]"
     ]
    },
    {
     "name": "stdout",
     "output_type": "stream",
     "text": [
      "IndexError\n",
      "IndexError\n"
     ]
    },
    {
     "name": "stderr",
     "output_type": "stream",
     "text": [
      "Processing ValidityPreprocessor:  63%|███████████████████████████▉                | 3808/6000 [01:59<00:38, 56.98it/s]"
     ]
    },
    {
     "name": "stdout",
     "output_type": "stream",
     "text": [
      "IndexError\n"
     ]
    },
    {
     "name": "stderr",
     "output_type": "stream",
     "text": [
      "Processing ValidityPreprocessor:  64%|████████████████████████████                | 3826/6000 [02:00<00:43, 50.01it/s]"
     ]
    },
    {
     "name": "stdout",
     "output_type": "stream",
     "text": [
      "IndexError\n",
      "IndexError\n"
     ]
    },
    {
     "name": "stderr",
     "output_type": "stream",
     "text": [
      "Processing ValidityPreprocessor:  64%|████████████████████████████▎               | 3856/6000 [02:01<00:51, 41.99it/s]"
     ]
    },
    {
     "name": "stdout",
     "output_type": "stream",
     "text": [
      "IndexError\n",
      "IndexError\n"
     ]
    },
    {
     "name": "stderr",
     "output_type": "stream",
     "text": [
      "Processing ValidityPreprocessor:  65%|████████████████████████████▍               | 3873/6000 [02:01<00:41, 51.58it/s]"
     ]
    },
    {
     "name": "stdout",
     "output_type": "stream",
     "text": [
      "IndexError\n"
     ]
    },
    {
     "name": "stderr",
     "output_type": "stream",
     "text": [
      "Processing ValidityPreprocessor:  65%|████████████████████████████▍               | 3884/6000 [02:02<01:43, 20.37it/s]"
     ]
    },
    {
     "name": "stdout",
     "output_type": "stream",
     "text": [
      "IndexError\n",
      "IndexError\n",
      "IndexError\n"
     ]
    },
    {
     "name": "stderr",
     "output_type": "stream",
     "text": [
      "Processing ValidityPreprocessor:  65%|████████████████████████████▌               | 3902/6000 [02:02<00:59, 35.40it/s]"
     ]
    },
    {
     "name": "stdout",
     "output_type": "stream",
     "text": [
      "IndexError\n",
      "IndexError\n",
      "IndexError\n"
     ]
    },
    {
     "name": "stderr",
     "output_type": "stream",
     "text": [
      "Processing ValidityPreprocessor:  66%|████████████████████████████▉               | 3940/6000 [02:03<00:43, 47.77it/s]"
     ]
    },
    {
     "name": "stdout",
     "output_type": "stream",
     "text": [
      "IndexError\n",
      "IndexError\n",
      "IndexError\n"
     ]
    },
    {
     "name": "stderr",
     "output_type": "stream",
     "text": [
      "Processing ValidityPreprocessor:  66%|█████████████████████████████               | 3970/6000 [02:04<00:35, 57.58it/s]"
     ]
    },
    {
     "name": "stdout",
     "output_type": "stream",
     "text": [
      "IndexError\n",
      "IndexError\n",
      "IndexError\n",
      "IndexError\n"
     ]
    },
    {
     "name": "stderr",
     "output_type": "stream",
     "text": [
      "Processing ValidityPreprocessor:  66%|█████████████████████████████▏              | 3978/6000 [02:04<00:32, 63.11it/s]"
     ]
    },
    {
     "name": "stdout",
     "output_type": "stream",
     "text": [
      "IndexError\n",
      "IndexError\n"
     ]
    },
    {
     "name": "stderr",
     "output_type": "stream",
     "text": [
      "Processing ValidityPreprocessor:  67%|█████████████████████████████▎              | 3997/6000 [02:04<00:41, 48.83it/s]"
     ]
    },
    {
     "name": "stdout",
     "output_type": "stream",
     "text": [
      "IndexError\n",
      "IndexError\n"
     ]
    },
    {
     "name": "stderr",
     "output_type": "stream",
     "text": [
      "Processing ValidityPreprocessor:  67%|█████████████████████████████▎              | 4003/6000 [02:04<00:43, 46.10it/s]"
     ]
    },
    {
     "name": "stdout",
     "output_type": "stream",
     "text": [
      "IndexError\n",
      "IndexError\n"
     ]
    },
    {
     "name": "stderr",
     "output_type": "stream",
     "text": [
      "Processing ValidityPreprocessor:  67%|█████████████████████████████▍              | 4010/6000 [02:04<00:41, 47.78it/s]"
     ]
    },
    {
     "name": "stdout",
     "output_type": "stream",
     "text": [
      "IndexError\n",
      "IndexError\n"
     ]
    },
    {
     "name": "stderr",
     "output_type": "stream",
     "text": [
      "Processing ValidityPreprocessor:  67%|█████████████████████████████▍              | 4021/6000 [02:05<01:01, 32.29it/s]"
     ]
    },
    {
     "name": "stdout",
     "output_type": "stream",
     "text": [
      "IndexError\n",
      "IndexError\n"
     ]
    },
    {
     "name": "stderr",
     "output_type": "stream",
     "text": [
      "Processing ValidityPreprocessor:  67%|█████████████████████████████▌              | 4034/6000 [02:05<00:57, 33.96it/s]"
     ]
    },
    {
     "name": "stdout",
     "output_type": "stream",
     "text": [
      "IndexError\n",
      "IndexError\n",
      "IndexError\n"
     ]
    },
    {
     "name": "stderr",
     "output_type": "stream",
     "text": [
      "Processing ValidityPreprocessor:  68%|█████████████████████████████▊              | 4063/6000 [02:06<00:39, 48.68it/s]"
     ]
    },
    {
     "name": "stdout",
     "output_type": "stream",
     "text": [
      "IndexError\n",
      "IndexError\n"
     ]
    },
    {
     "name": "stderr",
     "output_type": "stream",
     "text": [
      "Processing ValidityPreprocessor:  68%|█████████████████████████████▊              | 4069/6000 [02:06<00:40, 48.10it/s]"
     ]
    },
    {
     "name": "stdout",
     "output_type": "stream",
     "text": [
      "IndexError\n",
      "IndexError\n",
      "IndexError\n"
     ]
    },
    {
     "name": "stderr",
     "output_type": "stream",
     "text": [
      "Processing ValidityPreprocessor:  68%|█████████████████████████████▉              | 4089/6000 [02:06<00:38, 49.53it/s]"
     ]
    },
    {
     "name": "stdout",
     "output_type": "stream",
     "text": [
      "IndexError\n"
     ]
    },
    {
     "name": "stderr",
     "output_type": "stream",
     "text": [
      "Processing ValidityPreprocessor:  69%|██████████████████████████████▏             | 4116/6000 [02:07<00:38, 49.25it/s]"
     ]
    },
    {
     "name": "stdout",
     "output_type": "stream",
     "text": [
      "IndexError\n",
      "IndexError\n",
      "IndexError\n"
     ]
    },
    {
     "name": "stderr",
     "output_type": "stream",
     "text": [
      "Processing ValidityPreprocessor:  69%|██████████████████████████████▎             | 4136/6000 [02:07<00:38, 48.98it/s]"
     ]
    },
    {
     "name": "stdout",
     "output_type": "stream",
     "text": [
      "IndexError\n",
      "IndexError\n",
      "IndexError\n",
      "IndexError\n"
     ]
    },
    {
     "name": "stderr",
     "output_type": "stream",
     "text": [
      "Processing ValidityPreprocessor:  69%|██████████████████████████████▍             | 4148/6000 [02:08<00:35, 52.09it/s]"
     ]
    },
    {
     "name": "stdout",
     "output_type": "stream",
     "text": [
      "IndexError\n",
      "IndexError\n"
     ]
    },
    {
     "name": "stderr",
     "output_type": "stream",
     "text": [
      "Processing ValidityPreprocessor:  69%|██████████████████████████████▌             | 4161/6000 [02:08<00:34, 53.92it/s]"
     ]
    },
    {
     "name": "stdout",
     "output_type": "stream",
     "text": [
      "IndexError\n",
      "IndexError\n"
     ]
    },
    {
     "name": "stderr",
     "output_type": "stream",
     "text": [
      "Processing ValidityPreprocessor:  70%|██████████████████████████████▌             | 4173/6000 [02:08<00:42, 43.35it/s]"
     ]
    },
    {
     "name": "stdout",
     "output_type": "stream",
     "text": [
      "IndexError\n"
     ]
    },
    {
     "name": "stderr",
     "output_type": "stream",
     "text": [
      "Processing ValidityPreprocessor:  70%|██████████████████████████████▋             | 4192/6000 [02:09<00:48, 36.96it/s]"
     ]
    },
    {
     "name": "stdout",
     "output_type": "stream",
     "text": [
      "IndexError\n",
      "IndexError\n",
      "IndexError\n",
      "IndexError\n"
     ]
    },
    {
     "name": "stderr",
     "output_type": "stream",
     "text": [
      "Processing ValidityPreprocessor:  70%|██████████████████████████████▊             | 4207/6000 [02:09<00:36, 49.24it/s]"
     ]
    },
    {
     "name": "stdout",
     "output_type": "stream",
     "text": [
      "IndexError\n"
     ]
    },
    {
     "name": "stderr",
     "output_type": "stream",
     "text": [
      "Processing ValidityPreprocessor:  70%|██████████████████████████████▉             | 4227/6000 [02:09<00:33, 53.19it/s]"
     ]
    },
    {
     "name": "stdout",
     "output_type": "stream",
     "text": [
      "IndexError\n",
      "IndexError\n"
     ]
    },
    {
     "name": "stderr",
     "output_type": "stream",
     "text": [
      "Processing ValidityPreprocessor:  71%|███████████████████████████████             | 4240/6000 [02:10<00:32, 54.05it/s]"
     ]
    },
    {
     "name": "stdout",
     "output_type": "stream",
     "text": [
      "IndexError\n",
      "IndexError\n",
      "IndexError\n",
      "IndexError\n",
      "IndexError\n",
      "IndexError\n"
     ]
    },
    {
     "name": "stderr",
     "output_type": "stream",
     "text": [
      "Processing ValidityPreprocessor:  71%|███████████████████████████████▏            | 4254/6000 [02:10<00:29, 58.94it/s]"
     ]
    },
    {
     "name": "stdout",
     "output_type": "stream",
     "text": [
      "IndexError\n",
      "IndexError\n",
      "IndexError\n"
     ]
    },
    {
     "name": "stderr",
     "output_type": "stream",
     "text": [
      "Processing ValidityPreprocessor:  71%|███████████████████████████████▎            | 4269/6000 [02:10<00:41, 41.63it/s]"
     ]
    },
    {
     "name": "stdout",
     "output_type": "stream",
     "text": [
      "IndexError\n",
      "IndexError\n",
      "IndexError\n"
     ]
    },
    {
     "name": "stderr",
     "output_type": "stream",
     "text": [
      "Processing ValidityPreprocessor:  72%|███████████████████████████████▋            | 4322/6000 [02:11<00:27, 61.68it/s]"
     ]
    },
    {
     "name": "stdout",
     "output_type": "stream",
     "text": [
      "IndexError\n"
     ]
    },
    {
     "name": "stderr",
     "output_type": "stream",
     "text": [
      "Processing ValidityPreprocessor:  72%|███████████████████████████████▊            | 4343/6000 [02:12<00:27, 59.85it/s]"
     ]
    },
    {
     "name": "stdout",
     "output_type": "stream",
     "text": [
      "IndexError\n",
      "IndexError\n",
      "IndexError\n",
      "IndexError\n",
      "IndexError\n",
      "IndexError\n"
     ]
    },
    {
     "name": "stderr",
     "output_type": "stream",
     "text": [
      "Processing ValidityPreprocessor:  73%|███████████████████████████████▉            | 4357/6000 [02:12<00:28, 56.71it/s]"
     ]
    },
    {
     "name": "stdout",
     "output_type": "stream",
     "text": [
      "IndexError\n",
      "IndexError\n",
      "IndexError\n",
      "IndexError\n"
     ]
    },
    {
     "name": "stderr",
     "output_type": "stream",
     "text": [
      "Processing ValidityPreprocessor:  73%|████████████████████████████████▏           | 4383/6000 [02:17<03:46,  7.14it/s]"
     ]
    },
    {
     "name": "stdout",
     "output_type": "stream",
     "text": [
      "IndexError\n"
     ]
    },
    {
     "name": "stderr",
     "output_type": "stream",
     "text": [
      "Processing ValidityPreprocessor:  73%|████████████████████████████████▏           | 4397/6000 [02:17<01:48, 14.75it/s]"
     ]
    },
    {
     "name": "stdout",
     "output_type": "stream",
     "text": [
      "IndexError\n",
      "IndexError\n"
     ]
    },
    {
     "name": "stderr",
     "output_type": "stream",
     "text": [
      "Processing ValidityPreprocessor:  74%|████████████████████████████████▎           | 4411/6000 [02:17<01:03, 25.03it/s]"
     ]
    },
    {
     "name": "stdout",
     "output_type": "stream",
     "text": [
      "IndexError\n"
     ]
    },
    {
     "name": "stderr",
     "output_type": "stream",
     "text": [
      "Processing ValidityPreprocessor:  74%|████████████████████████████████▍           | 4423/6000 [02:17<00:47, 32.89it/s]"
     ]
    },
    {
     "name": "stdout",
     "output_type": "stream",
     "text": [
      "IndexError\n",
      "IndexError\n"
     ]
    },
    {
     "name": "stderr",
     "output_type": "stream",
     "text": [
      "Processing ValidityPreprocessor:  74%|████████████████████████████████▌           | 4435/6000 [02:18<00:42, 36.46it/s]"
     ]
    },
    {
     "name": "stdout",
     "output_type": "stream",
     "text": [
      "IndexError\n",
      "IndexError\n",
      "IndexError\n"
     ]
    },
    {
     "name": "stderr",
     "output_type": "stream",
     "text": [
      "Processing ValidityPreprocessor:  74%|████████████████████████████████▌           | 4447/6000 [02:18<00:36, 42.59it/s]"
     ]
    },
    {
     "name": "stdout",
     "output_type": "stream",
     "text": [
      "IndexError\n",
      "IndexError\n"
     ]
    },
    {
     "name": "stderr",
     "output_type": "stream",
     "text": [
      "Processing ValidityPreprocessor:  74%|████████████████████████████████▋           | 4460/6000 [02:18<00:30, 50.72it/s]"
     ]
    },
    {
     "name": "stdout",
     "output_type": "stream",
     "text": [
      "IndexError\n",
      "IndexError\n"
     ]
    },
    {
     "name": "stderr",
     "output_type": "stream",
     "text": [
      "Processing ValidityPreprocessor:  74%|████████████████████████████████▊           | 4466/6000 [02:18<00:37, 40.75it/s]"
     ]
    },
    {
     "name": "stdout",
     "output_type": "stream",
     "text": [
      "IndexError\n"
     ]
    },
    {
     "name": "stderr",
     "output_type": "stream",
     "text": [
      "Processing ValidityPreprocessor:  75%|████████████████████████████████▊           | 4477/6000 [02:19<00:40, 37.76it/s]"
     ]
    },
    {
     "name": "stdout",
     "output_type": "stream",
     "text": [
      "IndexError\n",
      "IndexError\n",
      "IndexError\n"
     ]
    },
    {
     "name": "stderr",
     "output_type": "stream",
     "text": [
      "Processing ValidityPreprocessor:  75%|████████████████████████████████▉           | 4493/6000 [02:19<00:29, 50.44it/s]"
     ]
    },
    {
     "name": "stdout",
     "output_type": "stream",
     "text": [
      "IndexError\n",
      "IndexError\n",
      "IndexError\n"
     ]
    },
    {
     "name": "stderr",
     "output_type": "stream",
     "text": [
      "Processing ValidityPreprocessor:  76%|█████████████████████████████████▏          | 4530/6000 [02:20<00:24, 59.68it/s]"
     ]
    },
    {
     "name": "stdout",
     "output_type": "stream",
     "text": [
      "IndexError\n"
     ]
    },
    {
     "name": "stderr",
     "output_type": "stream",
     "text": [
      "Processing ValidityPreprocessor:  76%|█████████████████████████████████▍          | 4562/6000 [02:20<00:21, 65.43it/s]"
     ]
    },
    {
     "name": "stdout",
     "output_type": "stream",
     "text": [
      "IndexError\n",
      "IndexError\n"
     ]
    },
    {
     "name": "stderr",
     "output_type": "stream",
     "text": [
      "Processing ValidityPreprocessor:  76%|█████████████████████████████████▌          | 4569/6000 [02:20<00:27, 52.87it/s]"
     ]
    },
    {
     "name": "stdout",
     "output_type": "stream",
     "text": [
      "IndexError\n",
      "IndexError\n"
     ]
    },
    {
     "name": "stderr",
     "output_type": "stream",
     "text": [
      "Processing ValidityPreprocessor:  77%|█████████████████████████████████▋          | 4594/6000 [02:21<00:32, 43.87it/s]"
     ]
    },
    {
     "name": "stdout",
     "output_type": "stream",
     "text": [
      "IndexError\n",
      "IndexError\n"
     ]
    },
    {
     "name": "stderr",
     "output_type": "stream",
     "text": [
      "Processing ValidityPreprocessor:  77%|█████████████████████████████████▊          | 4606/6000 [02:21<00:39, 35.33it/s]"
     ]
    },
    {
     "name": "stdout",
     "output_type": "stream",
     "text": [
      "IndexError\n"
     ]
    },
    {
     "name": "stderr",
     "output_type": "stream",
     "text": [
      "Processing ValidityPreprocessor:  77%|█████████████████████████████████▉          | 4620/6000 [02:22<00:31, 43.82it/s]"
     ]
    },
    {
     "name": "stdout",
     "output_type": "stream",
     "text": [
      "IndexError\n",
      "IndexError\n",
      "IndexError\n"
     ]
    },
    {
     "name": "stderr",
     "output_type": "stream",
     "text": [
      "Processing ValidityPreprocessor:  77%|█████████████████████████████████▉          | 4634/6000 [02:22<00:26, 51.15it/s]"
     ]
    },
    {
     "name": "stdout",
     "output_type": "stream",
     "text": [
      "IndexError\n"
     ]
    },
    {
     "name": "stderr",
     "output_type": "stream",
     "text": [
      "Processing ValidityPreprocessor:  78%|██████████████████████████████████▏         | 4655/6000 [02:22<00:22, 58.78it/s]"
     ]
    },
    {
     "name": "stdout",
     "output_type": "stream",
     "text": [
      "IndexError\n",
      "IndexError\n",
      "IndexError\n"
     ]
    },
    {
     "name": "stderr",
     "output_type": "stream",
     "text": [
      "Processing ValidityPreprocessor:  78%|██████████████████████████████████▏         | 4668/6000 [02:23<00:24, 54.18it/s]"
     ]
    },
    {
     "name": "stdout",
     "output_type": "stream",
     "text": [
      "IndexError\n",
      "IndexError\n",
      "IndexError\n",
      "IndexError\n"
     ]
    },
    {
     "name": "stderr",
     "output_type": "stream",
     "text": [
      "Processing ValidityPreprocessor:  78%|██████████████████████████████████▍         | 4689/6000 [02:23<00:31, 41.52it/s]"
     ]
    },
    {
     "name": "stdout",
     "output_type": "stream",
     "text": [
      "IndexError\n"
     ]
    },
    {
     "name": "stderr",
     "output_type": "stream",
     "text": [
      "Processing ValidityPreprocessor:  78%|██████████████████████████████████▍         | 4701/6000 [02:23<00:27, 46.91it/s]"
     ]
    },
    {
     "name": "stdout",
     "output_type": "stream",
     "text": [
      "IndexError\n",
      "IndexError\n"
     ]
    },
    {
     "name": "stderr",
     "output_type": "stream",
     "text": [
      "Processing ValidityPreprocessor:  79%|██████████████████████████████████▌         | 4714/6000 [02:24<00:33, 38.14it/s]"
     ]
    },
    {
     "name": "stdout",
     "output_type": "stream",
     "text": [
      "IndexError\n",
      "IndexError\n"
     ]
    },
    {
     "name": "stderr",
     "output_type": "stream",
     "text": [
      "Processing ValidityPreprocessor:  79%|██████████████████████████████████▋         | 4723/6000 [02:24<00:41, 30.85it/s]"
     ]
    },
    {
     "name": "stdout",
     "output_type": "stream",
     "text": [
      "IndexError\n"
     ]
    },
    {
     "name": "stderr",
     "output_type": "stream",
     "text": [
      "Processing ValidityPreprocessor:  79%|██████████████████████████████████▋         | 4732/6000 [02:24<00:45, 28.14it/s]"
     ]
    },
    {
     "name": "stdout",
     "output_type": "stream",
     "text": [
      "IndexError\n"
     ]
    },
    {
     "name": "stderr",
     "output_type": "stream",
     "text": [
      "Processing ValidityPreprocessor:  79%|██████████████████████████████████▊         | 4742/6000 [02:25<00:36, 34.59it/s]"
     ]
    },
    {
     "name": "stdout",
     "output_type": "stream",
     "text": [
      "IndexError\n",
      "IndexError\n",
      "IndexError\n",
      "IndexError\n",
      "IndexError\n",
      "IndexError\n"
     ]
    },
    {
     "name": "stderr",
     "output_type": "stream",
     "text": [
      "Processing ValidityPreprocessor:  79%|██████████████████████████████████▊         | 4750/6000 [02:25<00:29, 42.25it/s]"
     ]
    },
    {
     "name": "stdout",
     "output_type": "stream",
     "text": [
      "IndexError\n"
     ]
    },
    {
     "name": "stderr",
     "output_type": "stream",
     "text": [
      "Processing ValidityPreprocessor:  80%|██████████████████████████████████▉         | 4771/6000 [02:25<00:25, 47.56it/s]"
     ]
    },
    {
     "name": "stdout",
     "output_type": "stream",
     "text": [
      "IndexError\n",
      "IndexError\n",
      "IndexError\n",
      "IndexError\n",
      "IndexError\n"
     ]
    },
    {
     "name": "stderr",
     "output_type": "stream",
     "text": [
      "Processing ValidityPreprocessor:  80%|███████████████████████████████████▏        | 4790/6000 [02:26<00:38, 31.35it/s]"
     ]
    },
    {
     "name": "stdout",
     "output_type": "stream",
     "text": [
      "IndexError\n",
      "IndexError\n"
     ]
    },
    {
     "name": "stderr",
     "output_type": "stream",
     "text": [
      "Processing ValidityPreprocessor:  80%|███████████████████████████████████▏        | 4802/6000 [02:26<00:32, 36.31it/s]"
     ]
    },
    {
     "name": "stdout",
     "output_type": "stream",
     "text": [
      "IndexError\n"
     ]
    },
    {
     "name": "stderr",
     "output_type": "stream",
     "text": [
      "Processing ValidityPreprocessor:  80%|███████████████████████████████████▎        | 4815/6000 [02:27<00:26, 44.24it/s]"
     ]
    },
    {
     "name": "stdout",
     "output_type": "stream",
     "text": [
      "IndexError\n"
     ]
    },
    {
     "name": "stderr",
     "output_type": "stream",
     "text": [
      "Processing ValidityPreprocessor:  80%|███████████████████████████████████▍        | 4826/6000 [02:27<00:29, 40.36it/s]"
     ]
    },
    {
     "name": "stdout",
     "output_type": "stream",
     "text": [
      "IndexError\n",
      "IndexError\n",
      "IndexError\n"
     ]
    },
    {
     "name": "stderr",
     "output_type": "stream",
     "text": [
      "Processing ValidityPreprocessor:  81%|███████████████████████████████████▌        | 4850/6000 [02:27<00:22, 51.22it/s]"
     ]
    },
    {
     "name": "stdout",
     "output_type": "stream",
     "text": [
      "IndexError\n"
     ]
    },
    {
     "name": "stderr",
     "output_type": "stream",
     "text": [
      "Processing ValidityPreprocessor:  81%|███████████████████████████████████▋        | 4872/6000 [02:28<00:26, 42.28it/s]"
     ]
    },
    {
     "name": "stdout",
     "output_type": "stream",
     "text": [
      "IndexError\n",
      "IndexError\n",
      "IndexError\n",
      "IndexError\n",
      "IndexError\n"
     ]
    },
    {
     "name": "stderr",
     "output_type": "stream",
     "text": [
      "Processing ValidityPreprocessor:  82%|███████████████████████████████████▊        | 4892/6000 [02:28<00:20, 52.77it/s]"
     ]
    },
    {
     "name": "stdout",
     "output_type": "stream",
     "text": [
      "IndexError\n"
     ]
    },
    {
     "name": "stderr",
     "output_type": "stream",
     "text": [
      "Processing ValidityPreprocessor:  82%|███████████████████████████████████▉        | 4906/6000 [02:29<00:24, 45.49it/s]"
     ]
    },
    {
     "name": "stdout",
     "output_type": "stream",
     "text": [
      "IndexError\n",
      "IndexError\n",
      "IndexError\n"
     ]
    },
    {
     "name": "stderr",
     "output_type": "stream",
     "text": [
      "Processing ValidityPreprocessor:  82%|████████████████████████████████████        | 4923/6000 [02:29<00:24, 44.57it/s]"
     ]
    },
    {
     "name": "stdout",
     "output_type": "stream",
     "text": [
      "IndexError\n",
      "IndexError\n"
     ]
    },
    {
     "name": "stderr",
     "output_type": "stream",
     "text": [
      "Processing ValidityPreprocessor:  82%|████████████████████████████████████▏       | 4933/6000 [02:29<00:30, 34.69it/s]"
     ]
    },
    {
     "name": "stdout",
     "output_type": "stream",
     "text": [
      "IndexError\n"
     ]
    },
    {
     "name": "stderr",
     "output_type": "stream",
     "text": [
      "Processing ValidityPreprocessor:  82%|████████████████████████████████████▎       | 4950/6000 [02:30<00:22, 46.31it/s]"
     ]
    },
    {
     "name": "stdout",
     "output_type": "stream",
     "text": [
      "IndexError\n",
      "IndexError\n"
     ]
    },
    {
     "name": "stderr",
     "output_type": "stream",
     "text": [
      "Processing ValidityPreprocessor:  83%|████████████████████████████████████▎       | 4960/6000 [02:30<00:23, 43.51it/s]"
     ]
    },
    {
     "name": "stdout",
     "output_type": "stream",
     "text": [
      "IndexError\n",
      "IndexError\n",
      "IndexError\n"
     ]
    },
    {
     "name": "stderr",
     "output_type": "stream",
     "text": [
      "Processing ValidityPreprocessor:  83%|████████████████████████████████████▌       | 4980/6000 [02:30<00:21, 48.06it/s]"
     ]
    },
    {
     "name": "stdout",
     "output_type": "stream",
     "text": [
      "IndexError\n",
      "IndexError\n",
      "IndexError\n"
     ]
    },
    {
     "name": "stderr",
     "output_type": "stream",
     "text": [
      "Processing ValidityPreprocessor:  83%|████████████████████████████████████▋       | 5000/6000 [02:31<00:18, 53.51it/s]"
     ]
    },
    {
     "name": "stdout",
     "output_type": "stream",
     "text": [
      "IndexError\n",
      "IndexError\n",
      "IndexError\n",
      "IndexError\n"
     ]
    },
    {
     "name": "stderr",
     "output_type": "stream",
     "text": [
      "Processing ValidityPreprocessor:  84%|████████████████████████████████████▋       | 5011/6000 [02:31<00:26, 36.85it/s]"
     ]
    },
    {
     "name": "stdout",
     "output_type": "stream",
     "text": [
      "IndexError\n",
      "IndexError\n"
     ]
    },
    {
     "name": "stderr",
     "output_type": "stream",
     "text": [
      "Processing ValidityPreprocessor:  84%|████████████████████████████████████▉       | 5034/6000 [02:32<00:19, 48.55it/s]"
     ]
    },
    {
     "name": "stdout",
     "output_type": "stream",
     "text": [
      "IndexError\n"
     ]
    },
    {
     "name": "stderr",
     "output_type": "stream",
     "text": [
      "Processing ValidityPreprocessor:  84%|█████████████████████████████████████       | 5055/6000 [02:32<00:18, 50.90it/s]"
     ]
    },
    {
     "name": "stdout",
     "output_type": "stream",
     "text": [
      "IndexError\n",
      "IndexError\n",
      "IndexError\n",
      "IndexError\n"
     ]
    },
    {
     "name": "stderr",
     "output_type": "stream",
     "text": [
      "Processing ValidityPreprocessor:  85%|█████████████████████████████████████▏      | 5074/6000 [02:32<00:18, 51.24it/s]"
     ]
    },
    {
     "name": "stdout",
     "output_type": "stream",
     "text": [
      "IndexError\n",
      "IndexError\n",
      "IndexError\n"
     ]
    },
    {
     "name": "stderr",
     "output_type": "stream",
     "text": [
      "Processing ValidityPreprocessor:  85%|█████████████████████████████████████▎      | 5080/6000 [02:33<00:21, 43.54it/s]"
     ]
    },
    {
     "name": "stdout",
     "output_type": "stream",
     "text": [
      "IndexError\n"
     ]
    },
    {
     "name": "stderr",
     "output_type": "stream",
     "text": [
      "Processing ValidityPreprocessor:  85%|█████████████████████████████████████▌      | 5119/6000 [02:34<00:17, 50.93it/s]"
     ]
    },
    {
     "name": "stdout",
     "output_type": "stream",
     "text": [
      "IndexError\n",
      "IndexError\n",
      "IndexError\n",
      "IndexError\n"
     ]
    },
    {
     "name": "stderr",
     "output_type": "stream",
     "text": [
      "Processing ValidityPreprocessor:  85%|█████████████████████████████████████▌      | 5126/6000 [02:34<00:16, 53.62it/s]"
     ]
    },
    {
     "name": "stdout",
     "output_type": "stream",
     "text": [
      "IndexError\n",
      "IndexError\n"
     ]
    },
    {
     "name": "stderr",
     "output_type": "stream",
     "text": [
      "Processing ValidityPreprocessor:  86%|█████████████████████████████████████▋      | 5146/6000 [02:34<00:15, 56.54it/s]"
     ]
    },
    {
     "name": "stdout",
     "output_type": "stream",
     "text": [
      "IndexError\n",
      "IndexError\n",
      "IndexError\n"
     ]
    },
    {
     "name": "stderr",
     "output_type": "stream",
     "text": [
      "Processing ValidityPreprocessor:  86%|█████████████████████████████████████▉      | 5174/6000 [02:48<02:30,  5.49it/s]"
     ]
    },
    {
     "name": "stdout",
     "output_type": "stream",
     "text": [
      "IndexError\n",
      "IndexError\n"
     ]
    },
    {
     "name": "stderr",
     "output_type": "stream",
     "text": [
      "Processing ValidityPreprocessor:  86%|██████████████████████████████████████      | 5189/6000 [02:49<01:11, 11.39it/s]"
     ]
    },
    {
     "name": "stdout",
     "output_type": "stream",
     "text": [
      "IndexError\n"
     ]
    },
    {
     "name": "stderr",
     "output_type": "stream",
     "text": [
      "Processing ValidityPreprocessor:  87%|██████████████████████████████████████▏     | 5201/6000 [02:49<00:44, 17.91it/s]"
     ]
    },
    {
     "name": "stdout",
     "output_type": "stream",
     "text": [
      "IndexError\n"
     ]
    },
    {
     "name": "stderr",
     "output_type": "stream",
     "text": [
      "Processing ValidityPreprocessor:  87%|██████████████████████████████████████▎     | 5216/6000 [02:49<00:34, 22.86it/s]"
     ]
    },
    {
     "name": "stdout",
     "output_type": "stream",
     "text": [
      "IndexError\n",
      "IndexError\n"
     ]
    },
    {
     "name": "stderr",
     "output_type": "stream",
     "text": [
      "Processing ValidityPreprocessor:  87%|██████████████████████████████████████▎     | 5221/6000 [02:50<00:31, 24.75it/s]"
     ]
    },
    {
     "name": "stdout",
     "output_type": "stream",
     "text": [
      "IndexError\n"
     ]
    },
    {
     "name": "stderr",
     "output_type": "stream",
     "text": [
      "Processing ValidityPreprocessor:  87%|██████████████████████████████████████▍     | 5239/6000 [02:50<00:20, 36.35it/s]"
     ]
    },
    {
     "name": "stdout",
     "output_type": "stream",
     "text": [
      "IndexError\n",
      "IndexError\n",
      "IndexError\n"
     ]
    },
    {
     "name": "stderr",
     "output_type": "stream",
     "text": [
      "Processing ValidityPreprocessor:  88%|██████████████████████████████████████▌     | 5251/6000 [02:50<00:17, 42.40it/s]"
     ]
    },
    {
     "name": "stdout",
     "output_type": "stream",
     "text": [
      "IndexError\n",
      "IndexError\n",
      "IndexError\n",
      "IndexError\n",
      "IndexError\n"
     ]
    },
    {
     "name": "stderr",
     "output_type": "stream",
     "text": [
      "Processing ValidityPreprocessor:  88%|██████████████████████████████████████▌     | 5264/6000 [02:50<00:14, 49.38it/s]"
     ]
    },
    {
     "name": "stdout",
     "output_type": "stream",
     "text": [
      "IndexError\n"
     ]
    },
    {
     "name": "stderr",
     "output_type": "stream",
     "text": [
      "Processing ValidityPreprocessor:  88%|██████████████████████████████████████▋     | 5277/6000 [02:51<00:17, 41.05it/s]"
     ]
    },
    {
     "name": "stdout",
     "output_type": "stream",
     "text": [
      "IndexError\n",
      "IndexError\n",
      "IndexError\n"
     ]
    },
    {
     "name": "stderr",
     "output_type": "stream",
     "text": [
      "Processing ValidityPreprocessor:  88%|██████████████████████████████████████▋     | 5282/6000 [02:51<00:21, 33.84it/s]"
     ]
    },
    {
     "name": "stdout",
     "output_type": "stream",
     "text": [
      "IndexError\n"
     ]
    },
    {
     "name": "stderr",
     "output_type": "stream",
     "text": [
      "Processing ValidityPreprocessor:  88%|██████████████████████████████████████▉     | 5304/6000 [02:51<00:16, 41.60it/s]"
     ]
    },
    {
     "name": "stdout",
     "output_type": "stream",
     "text": [
      "IndexError\n",
      "IndexError\n",
      "IndexError\n",
      "IndexError\n"
     ]
    },
    {
     "name": "stderr",
     "output_type": "stream",
     "text": [
      "Processing ValidityPreprocessor:  89%|███████████████████████████████████████     | 5326/6000 [02:52<00:12, 52.44it/s]"
     ]
    },
    {
     "name": "stdout",
     "output_type": "stream",
     "text": [
      "IndexError\n",
      "IndexError\n"
     ]
    },
    {
     "name": "stderr",
     "output_type": "stream",
     "text": [
      "Processing ValidityPreprocessor:  89%|███████████████████████████████████████▏    | 5350/6000 [02:52<00:12, 52.29it/s]"
     ]
    },
    {
     "name": "stdout",
     "output_type": "stream",
     "text": [
      "IndexError\n",
      "IndexError\n",
      "IndexError\n",
      "IndexError\n"
     ]
    },
    {
     "name": "stderr",
     "output_type": "stream",
     "text": [
      "Processing ValidityPreprocessor:  89%|███████████████████████████████████████▎    | 5356/6000 [02:52<00:12, 53.13it/s]"
     ]
    },
    {
     "name": "stdout",
     "output_type": "stream",
     "text": [
      "IndexError\n"
     ]
    },
    {
     "name": "stderr",
     "output_type": "stream",
     "text": [
      "Processing ValidityPreprocessor:  89%|███████████████████████████████████████▎    | 5367/6000 [02:53<00:16, 39.51it/s]"
     ]
    },
    {
     "name": "stdout",
     "output_type": "stream",
     "text": [
      "IndexError\n"
     ]
    },
    {
     "name": "stderr",
     "output_type": "stream",
     "text": [
      "Processing ValidityPreprocessor:  90%|███████████████████████████████████████▍    | 5386/6000 [02:53<00:12, 49.90it/s]"
     ]
    },
    {
     "name": "stdout",
     "output_type": "stream",
     "text": [
      "IndexError\n"
     ]
    },
    {
     "name": "stderr",
     "output_type": "stream",
     "text": [
      "Processing ValidityPreprocessor:  90%|███████████████████████████████████████▌    | 5398/6000 [02:53<00:11, 50.89it/s]"
     ]
    },
    {
     "name": "stdout",
     "output_type": "stream",
     "text": [
      "IndexError\n",
      "IndexError\n"
     ]
    },
    {
     "name": "stderr",
     "output_type": "stream",
     "text": [
      "Processing ValidityPreprocessor:  90%|███████████████████████████████████████▋    | 5410/6000 [02:54<00:12, 45.99it/s]"
     ]
    },
    {
     "name": "stdout",
     "output_type": "stream",
     "text": [
      "IndexError\n",
      "IndexError\n"
     ]
    },
    {
     "name": "stderr",
     "output_type": "stream",
     "text": [
      "Processing ValidityPreprocessor:  90%|███████████████████████████████████████▊    | 5422/6000 [02:54<00:11, 51.24it/s]"
     ]
    },
    {
     "name": "stdout",
     "output_type": "stream",
     "text": [
      "IndexError\n",
      "IndexError\n",
      "IndexError\n"
     ]
    },
    {
     "name": "stderr",
     "output_type": "stream",
     "text": [
      "Processing ValidityPreprocessor:  91%|███████████████████████████████████████▊    | 5434/6000 [02:54<00:10, 51.72it/s]"
     ]
    },
    {
     "name": "stdout",
     "output_type": "stream",
     "text": [
      "IndexError\n"
     ]
    },
    {
     "name": "stderr",
     "output_type": "stream",
     "text": [
      "Processing ValidityPreprocessor:  91%|███████████████████████████████████████▉    | 5450/6000 [02:55<00:14, 36.82it/s]"
     ]
    },
    {
     "name": "stdout",
     "output_type": "stream",
     "text": [
      "IndexError\n"
     ]
    },
    {
     "name": "stderr",
     "output_type": "stream",
     "text": [
      "Processing ValidityPreprocessor:  91%|████████████████████████████████████████▏   | 5474/6000 [02:55<00:11, 45.93it/s]"
     ]
    },
    {
     "name": "stdout",
     "output_type": "stream",
     "text": [
      "IndexError\n",
      "IndexError\n",
      "IndexError\n"
     ]
    },
    {
     "name": "stderr",
     "output_type": "stream",
     "text": [
      "Processing ValidityPreprocessor:  91%|████████████████████████████████████████▏   | 5488/6000 [02:56<00:09, 54.61it/s]"
     ]
    },
    {
     "name": "stdout",
     "output_type": "stream",
     "text": [
      "IndexError\n",
      "IndexError\n",
      "IndexError\n"
     ]
    },
    {
     "name": "stderr",
     "output_type": "stream",
     "text": [
      "Processing ValidityPreprocessor:  92%|████████████████████████████████████████▍   | 5511/6000 [02:56<00:07, 65.71it/s]"
     ]
    },
    {
     "name": "stdout",
     "output_type": "stream",
     "text": [
      "IndexError\n"
     ]
    },
    {
     "name": "stderr",
     "output_type": "stream",
     "text": [
      "Processing ValidityPreprocessor:  92%|████████████████████████████████████████▍   | 5518/6000 [02:56<00:07, 62.65it/s]"
     ]
    },
    {
     "name": "stdout",
     "output_type": "stream",
     "text": [
      "IndexError\n",
      "IndexError\n",
      "IndexError\n"
     ]
    },
    {
     "name": "stderr",
     "output_type": "stream",
     "text": [
      "Processing ValidityPreprocessor:  92%|████████████████████████████████████████▌   | 5531/6000 [02:56<00:10, 43.96it/s]"
     ]
    },
    {
     "name": "stdout",
     "output_type": "stream",
     "text": [
      "IndexError\n",
      "IndexError\n"
     ]
    },
    {
     "name": "stderr",
     "output_type": "stream",
     "text": [
      "Processing ValidityPreprocessor:  93%|████████████████████████████████████████▋   | 5556/6000 [02:57<00:09, 48.95it/s]"
     ]
    },
    {
     "name": "stdout",
     "output_type": "stream",
     "text": [
      "IndexError\n",
      "IndexError\n"
     ]
    },
    {
     "name": "stderr",
     "output_type": "stream",
     "text": [
      "Processing ValidityPreprocessor:  93%|████████████████████████████████████████▉   | 5575/6000 [02:57<00:08, 52.01it/s]"
     ]
    },
    {
     "name": "stdout",
     "output_type": "stream",
     "text": [
      "IndexError\n",
      "IndexError\n"
     ]
    },
    {
     "name": "stderr",
     "output_type": "stream",
     "text": [
      "Processing ValidityPreprocessor:  93%|█████████████████████████████████████████   | 5592/6000 [02:57<00:06, 63.32it/s]"
     ]
    },
    {
     "name": "stdout",
     "output_type": "stream",
     "text": [
      "IndexError\n",
      "IndexError\n"
     ]
    },
    {
     "name": "stderr",
     "output_type": "stream",
     "text": [
      "Processing ValidityPreprocessor:  93%|█████████████████████████████████████████   | 5599/6000 [02:58<00:07, 53.53it/s]"
     ]
    },
    {
     "name": "stdout",
     "output_type": "stream",
     "text": [
      "IndexError\n",
      "IndexError\n",
      "IndexError\n"
     ]
    },
    {
     "name": "stderr",
     "output_type": "stream",
     "text": [
      "Processing ValidityPreprocessor:  94%|█████████████████████████████████████████▏  | 5620/6000 [02:58<00:07, 47.69it/s]"
     ]
    },
    {
     "name": "stdout",
     "output_type": "stream",
     "text": [
      "IndexError\n"
     ]
    },
    {
     "name": "stderr",
     "output_type": "stream",
     "text": [
      "Processing ValidityPreprocessor:  94%|█████████████████████████████████████████▎  | 5636/6000 [02:59<00:12, 29.40it/s]"
     ]
    },
    {
     "name": "stdout",
     "output_type": "stream",
     "text": [
      "IndexError\n"
     ]
    },
    {
     "name": "stderr",
     "output_type": "stream",
     "text": [
      "Processing ValidityPreprocessor:  94%|█████████████████████████████████████████▎  | 5640/6000 [02:59<00:14, 25.16it/s]"
     ]
    },
    {
     "name": "stdout",
     "output_type": "stream",
     "text": [
      "IndexError\n",
      "IndexError\n"
     ]
    },
    {
     "name": "stderr",
     "output_type": "stream",
     "text": [
      "Processing ValidityPreprocessor:  94%|█████████████████████████████████████████▍  | 5651/6000 [03:00<00:11, 29.34it/s]"
     ]
    },
    {
     "name": "stdout",
     "output_type": "stream",
     "text": [
      "IndexError\n",
      "IndexError\n",
      "IndexError\n",
      "IndexError\n",
      "IndexError\n"
     ]
    },
    {
     "name": "stderr",
     "output_type": "stream",
     "text": [
      "Processing ValidityPreprocessor:  94%|█████████████████████████████████████████▌  | 5664/6000 [03:00<00:09, 34.79it/s]"
     ]
    },
    {
     "name": "stdout",
     "output_type": "stream",
     "text": [
      "IndexError\n",
      "IndexError\n"
     ]
    },
    {
     "name": "stderr",
     "output_type": "stream",
     "text": [
      "Processing ValidityPreprocessor:  95%|█████████████████████████████████████████▋  | 5680/6000 [03:00<00:07, 42.83it/s]"
     ]
    },
    {
     "name": "stdout",
     "output_type": "stream",
     "text": [
      "IndexError\n",
      "IndexError\n"
     ]
    },
    {
     "name": "stderr",
     "output_type": "stream",
     "text": [
      "Processing ValidityPreprocessor:  95%|█████████████████████████████████████████▊  | 5699/6000 [03:01<00:06, 48.96it/s]"
     ]
    },
    {
     "name": "stdout",
     "output_type": "stream",
     "text": [
      "IndexError\n",
      "IndexError\n"
     ]
    },
    {
     "name": "stderr",
     "output_type": "stream",
     "text": [
      "Processing ValidityPreprocessor:  96%|██████████████████████████████████████████  | 5739/6000 [03:01<00:04, 56.75it/s]"
     ]
    },
    {
     "name": "stdout",
     "output_type": "stream",
     "text": [
      "IndexError\n"
     ]
    },
    {
     "name": "stderr",
     "output_type": "stream",
     "text": [
      "Processing ValidityPreprocessor:  96%|██████████████████████████████████████████▏ | 5751/6000 [03:01<00:04, 53.35it/s]"
     ]
    },
    {
     "name": "stdout",
     "output_type": "stream",
     "text": [
      "IndexError\n",
      "IndexError\n"
     ]
    },
    {
     "name": "stderr",
     "output_type": "stream",
     "text": [
      "Processing ValidityPreprocessor:  96%|██████████████████████████████████████████▎ | 5764/6000 [03:02<00:04, 55.71it/s]"
     ]
    },
    {
     "name": "stdout",
     "output_type": "stream",
     "text": [
      "IndexError\n"
     ]
    },
    {
     "name": "stderr",
     "output_type": "stream",
     "text": [
      "Processing ValidityPreprocessor:  96%|██████████████████████████████████████████▎ | 5777/6000 [03:02<00:05, 38.75it/s]"
     ]
    },
    {
     "name": "stdout",
     "output_type": "stream",
     "text": [
      "IndexError\n",
      "IndexError\n",
      "IndexError\n",
      "IndexError\n"
     ]
    },
    {
     "name": "stderr",
     "output_type": "stream",
     "text": [
      "Processing ValidityPreprocessor:  97%|██████████████████████████████████████████▍ | 5794/6000 [03:03<00:05, 38.19it/s]"
     ]
    },
    {
     "name": "stdout",
     "output_type": "stream",
     "text": [
      "IndexError\n"
     ]
    },
    {
     "name": "stderr",
     "output_type": "stream",
     "text": [
      "Processing ValidityPreprocessor:  97%|██████████████████████████████████████████▌ | 5805/6000 [03:03<00:04, 40.86it/s]"
     ]
    },
    {
     "name": "stdout",
     "output_type": "stream",
     "text": [
      "IndexError\n",
      "IndexError\n",
      "IndexError\n",
      "IndexError\n"
     ]
    },
    {
     "name": "stderr",
     "output_type": "stream",
     "text": [
      "Processing ValidityPreprocessor:  97%|██████████████████████████████████████████▋ | 5816/6000 [03:03<00:04, 37.44it/s]"
     ]
    },
    {
     "name": "stdout",
     "output_type": "stream",
     "text": [
      "IndexError\n"
     ]
    },
    {
     "name": "stderr",
     "output_type": "stream",
     "text": [
      "Processing ValidityPreprocessor:  97%|██████████████████████████████████████████▋ | 5827/6000 [03:03<00:03, 43.56it/s]"
     ]
    },
    {
     "name": "stdout",
     "output_type": "stream",
     "text": [
      "IndexError\n",
      "IndexError\n"
     ]
    },
    {
     "name": "stderr",
     "output_type": "stream",
     "text": [
      "Processing ValidityPreprocessor:  97%|██████████████████████████████████████████▊ | 5843/6000 [03:04<00:03, 50.96it/s]"
     ]
    },
    {
     "name": "stdout",
     "output_type": "stream",
     "text": [
      "IndexError\n",
      "IndexError\n"
     ]
    },
    {
     "name": "stderr",
     "output_type": "stream",
     "text": [
      "Processing ValidityPreprocessor:  98%|██████████████████████████████████████████▉ | 5855/6000 [03:04<00:02, 50.55it/s]"
     ]
    },
    {
     "name": "stdout",
     "output_type": "stream",
     "text": [
      "IndexError\n",
      "IndexError\n"
     ]
    },
    {
     "name": "stderr",
     "output_type": "stream",
     "text": [
      "Processing ValidityPreprocessor:  98%|███████████████████████████████████████████ | 5872/6000 [03:04<00:02, 46.13it/s]"
     ]
    },
    {
     "name": "stdout",
     "output_type": "stream",
     "text": [
      "IndexError\n",
      "IndexError\n"
     ]
    },
    {
     "name": "stderr",
     "output_type": "stream",
     "text": [
      "Processing ValidityPreprocessor:  98%|███████████████████████████████████████████ | 5879/6000 [03:04<00:02, 50.28it/s]"
     ]
    },
    {
     "name": "stdout",
     "output_type": "stream",
     "text": [
      "IndexError\n",
      "IndexError\n",
      "IndexError\n"
     ]
    },
    {
     "name": "stderr",
     "output_type": "stream",
     "text": [
      "Processing ValidityPreprocessor:  98%|███████████████████████████████████████████▎| 5902/6000 [03:05<00:02, 42.51it/s]"
     ]
    },
    {
     "name": "stdout",
     "output_type": "stream",
     "text": [
      "IndexError\n",
      "IndexError\n"
     ]
    },
    {
     "name": "stderr",
     "output_type": "stream",
     "text": [
      "Processing ValidityPreprocessor:  99%|███████████████████████████████████████████▍| 5920/6000 [03:05<00:01, 48.93it/s]"
     ]
    },
    {
     "name": "stdout",
     "output_type": "stream",
     "text": [
      "IndexError\n",
      "IndexError\n",
      "IndexError\n",
      "IndexError\n"
     ]
    },
    {
     "name": "stderr",
     "output_type": "stream",
     "text": [
      "Processing ValidityPreprocessor:  99%|███████████████████████████████████████████▍| 5926/6000 [03:06<00:01, 38.70it/s]"
     ]
    },
    {
     "name": "stdout",
     "output_type": "stream",
     "text": [
      "IndexError\n",
      "IndexError\n"
     ]
    },
    {
     "name": "stderr",
     "output_type": "stream",
     "text": [
      "Processing ValidityPreprocessor:  99%|███████████████████████████████████████████▌| 5947/6000 [03:06<00:01, 41.63it/s]"
     ]
    },
    {
     "name": "stdout",
     "output_type": "stream",
     "text": [
      "IndexError\n",
      "IndexError\n",
      "IndexError\n",
      "IndexError\n",
      "IndexError\n"
     ]
    },
    {
     "name": "stderr",
     "output_type": "stream",
     "text": [
      "Processing ValidityPreprocessor:  99%|███████████████████████████████████████████▋| 5957/6000 [03:06<00:01, 42.18it/s]"
     ]
    },
    {
     "name": "stdout",
     "output_type": "stream",
     "text": [
      "IndexError\n"
     ]
    },
    {
     "name": "stderr",
     "output_type": "stream",
     "text": [
      "Processing ValidityPreprocessor:  99%|███████████████████████████████████████████▊| 5969/6000 [03:08<00:02, 13.63it/s]"
     ]
    },
    {
     "name": "stdout",
     "output_type": "stream",
     "text": [
      "IndexError\n",
      "IndexError\n",
      "IndexError\n",
      "IndexError\n"
     ]
    },
    {
     "name": "stderr",
     "output_type": "stream",
     "text": [
      "Processing ValidityPreprocessor: 100%|███████████████████████████████████████████▉| 5983/6000 [03:08<00:00, 22.81it/s]"
     ]
    },
    {
     "name": "stdout",
     "output_type": "stream",
     "text": [
      "IndexError\n",
      "IndexError\n",
      "IndexError\n"
     ]
    },
    {
     "name": "stderr",
     "output_type": "stream",
     "text": [
      "Processing ValidityPreprocessor: 100%|████████████████████████████████████████████| 6000/6000 [03:09<00:00, 31.65it/s]"
     ]
    },
    {
     "name": "stdout",
     "output_type": "stream",
     "text": [
      "IndexError\n",
      "IndexError\n"
     ]
    },
    {
     "name": "stderr",
     "output_type": "stream",
     "text": [
      "\n"
     ]
    },
    {
     "data": {
      "text/html": [
       "<pre style=\"white-space:pre;overflow-x:auto;line-height:normal;font-family:Menlo,'DejaVu Sans Mono',consolas,'Courier New',monospace\"><span style=\"color: #7fbfbf; text-decoration-color: #7fbfbf\">[23:21:45] </span><span style=\"color: #000080; text-decoration-color: #000080\">INFO    </span> ✅ MANDATORY validity preprocessing complete for <span style=\"color: #008080; text-decoration-color: #008080; font-weight: bold\">6000</span> structures in <span style=\"color: #008080; text-decoration-color: #008080; font-weight: bold\">189.</span>6s     <a href=\"file://C:\\Users\\samue\\AppData\\Local\\Temp\\ipykernel_53888\\2631243110.py\" target=\"_blank\"><span style=\"color: #7f7f7f; text-decoration-color: #7f7f7f\">2631243110.py</span></a><span style=\"color: #7f7f7f; text-decoration-color: #7f7f7f\">:</span><a href=\"file://C:\\Users\\samue\\AppData\\Local\\Temp\\ipykernel_53888\\2631243110.py#70\" target=\"_blank\"><span style=\"color: #7f7f7f; text-decoration-color: #7f7f7f\">70</span></a>\n",
       "</pre>\n"
      ],
      "text/plain": [
       "\u001b[2;36m[23:21:45]\u001b[0m\u001b[2;36m \u001b[0m\u001b[34mINFO    \u001b[0m ✅ MANDATORY validity preprocessing complete for \u001b[1;36m6000\u001b[0m structures in \u001b[1;36m189.\u001b[0m6s     \u001b]8;id=960399;file://C:\\Users\\samue\\AppData\\Local\\Temp\\ipykernel_53888\\2631243110.py\u001b\\\u001b[2m2631243110.py\u001b[0m\u001b]8;;\u001b\\\u001b[2m:\u001b[0m\u001b]8;id=56717;file://C:\\Users\\samue\\AppData\\Local\\Temp\\ipykernel_53888\\2631243110.py#70\u001b\\\u001b[2m70\u001b[0m\u001b]8;;\u001b\\\n"
      ]
     },
     "metadata": {},
     "output_type": "display_data"
    },
    {
     "data": {
      "text/html": [
       "<pre style=\"white-space:pre;overflow-x:auto;line-height:normal;font-family:Menlo,'DejaVu Sans Mono',consolas,'Courier New',monospace\"><span style=\"color: #7fbfbf; text-decoration-color: #7fbfbf\">           </span><span style=\"color: #000080; text-decoration-color: #000080\">INFO    </span> 🧹 Cleaning up after validity preprocessor<span style=\"color: #808000; text-decoration-color: #808000\">...</span>                                   <a href=\"file://C:\\Users\\samue\\AppData\\Local\\Temp\\ipykernel_53888\\3181986820.py\" target=\"_blank\"><span style=\"color: #7f7f7f; text-decoration-color: #7f7f7f\">3181986820.py</span></a><span style=\"color: #7f7f7f; text-decoration-color: #7f7f7f\">:</span><a href=\"file://C:\\Users\\samue\\AppData\\Local\\Temp\\ipykernel_53888\\3181986820.py#3\" target=\"_blank\"><span style=\"color: #7f7f7f; text-decoration-color: #7f7f7f\">3</span></a>\n",
       "</pre>\n"
      ],
      "text/plain": [
       "\u001b[2;36m          \u001b[0m\u001b[2;36m \u001b[0m\u001b[34mINFO    \u001b[0m 🧹 Cleaning up after validity preprocessor\u001b[33m...\u001b[0m                                   \u001b]8;id=91260;file://C:\\Users\\samue\\AppData\\Local\\Temp\\ipykernel_53888\\3181986820.py\u001b\\\u001b[2m3181986820.py\u001b[0m\u001b]8;;\u001b\\\u001b[2m:\u001b[0m\u001b]8;id=664528;file://C:\\Users\\samue\\AppData\\Local\\Temp\\ipykernel_53888\\3181986820.py#3\u001b\\\u001b[2m3\u001b[0m\u001b]8;;\u001b\\\n"
      ]
     },
     "metadata": {},
     "output_type": "display_data"
    },
    {
     "data": {
      "text/html": [
       "<pre style=\"white-space:pre;overflow-x:auto;line-height:normal;font-family:Menlo,'DejaVu Sans Mono',consolas,'Courier New',monospace\"><span style=\"color: #7fbfbf; text-decoration-color: #7fbfbf\">[23:21:46] </span><span style=\"color: #000080; text-decoration-color: #000080\">INFO    </span> 🔍 Filtering to valid structures only<span style=\"color: #808000; text-decoration-color: #808000\">...</span>                                       <a href=\"file://C:\\Users\\samue\\AppData\\Local\\Temp\\ipykernel_53888\\2631243110.py\" target=\"_blank\"><span style=\"color: #7f7f7f; text-decoration-color: #7f7f7f\">2631243110.py</span></a><span style=\"color: #7f7f7f; text-decoration-color: #7f7f7f\">:</span><a href=\"file://C:\\Users\\samue\\AppData\\Local\\Temp\\ipykernel_53888\\2631243110.py#78\" target=\"_blank\"><span style=\"color: #7f7f7f; text-decoration-color: #7f7f7f\">78</span></a>\n",
       "</pre>\n"
      ],
      "text/plain": [
       "\u001b[2;36m[23:21:46]\u001b[0m\u001b[2;36m \u001b[0m\u001b[34mINFO    \u001b[0m 🔍 Filtering to valid structures only\u001b[33m...\u001b[0m                                       \u001b]8;id=715152;file://C:\\Users\\samue\\AppData\\Local\\Temp\\ipykernel_53888\\2631243110.py\u001b\\\u001b[2m2631243110.py\u001b[0m\u001b]8;;\u001b\\\u001b[2m:\u001b[0m\u001b]8;id=92464;file://C:\\Users\\samue\\AppData\\Local\\Temp\\ipykernel_53888\\2631243110.py#78\u001b\\\u001b[2m78\u001b[0m\u001b]8;;\u001b\\\n"
      ]
     },
     "metadata": {},
     "output_type": "display_data"
    },
    {
     "data": {
      "text/html": [
       "<pre style=\"white-space:pre;overflow-x:auto;line-height:normal;font-family:Menlo,'DejaVu Sans Mono',consolas,'Courier New',monospace\"><span style=\"color: #7fbfbf; text-decoration-color: #7fbfbf\">           </span><span style=\"color: #000080; text-decoration-color: #000080\">INFO    </span> ✅ Filtering complete: <span style=\"color: #008080; text-decoration-color: #008080; font-weight: bold\">5131</span> valid structures out of <span style=\"color: #008080; text-decoration-color: #008080; font-weight: bold\">6000</span> total                 <a href=\"file://C:\\Users\\samue\\AppData\\Local\\Temp\\ipykernel_53888\\2631243110.py\" target=\"_blank\"><span style=\"color: #7f7f7f; text-decoration-color: #7f7f7f\">2631243110.py</span></a><span style=\"color: #7f7f7f; text-decoration-color: #7f7f7f\">:</span><a href=\"file://C:\\Users\\samue\\AppData\\Local\\Temp\\ipykernel_53888\\2631243110.py#99\" target=\"_blank\"><span style=\"color: #7f7f7f; text-decoration-color: #7f7f7f\">99</span></a>\n",
       "</pre>\n"
      ],
      "text/plain": [
       "\u001b[2;36m          \u001b[0m\u001b[2;36m \u001b[0m\u001b[34mINFO    \u001b[0m ✅ Filtering complete: \u001b[1;36m5131\u001b[0m valid structures out of \u001b[1;36m6000\u001b[0m total                 \u001b]8;id=680238;file://C:\\Users\\samue\\AppData\\Local\\Temp\\ipykernel_53888\\2631243110.py\u001b\\\u001b[2m2631243110.py\u001b[0m\u001b]8;;\u001b\\\u001b[2m:\u001b[0m\u001b]8;id=184489;file://C:\\Users\\samue\\AppData\\Local\\Temp\\ipykernel_53888\\2631243110.py#99\u001b\\\u001b[2m99\u001b[0m\u001b]8;;\u001b\\\n"
      ]
     },
     "metadata": {},
     "output_type": "display_data"
    },
    {
     "data": {
      "text/html": [
       "<pre style=\"white-space:pre;overflow-x:auto;line-height:normal;font-family:Menlo,'DejaVu Sans Mono',consolas,'Courier New',monospace\"><span style=\"color: #7fbfbf; text-decoration-color: #7fbfbf\">           </span><span style=\"color: #000080; text-decoration-color: #000080\">INFO    </span> 📊 Valid: <span style=\"color: #008080; text-decoration-color: #008080; font-weight: bold\">5131</span>, Invalid: <span style=\"color: #008080; text-decoration-color: #008080; font-weight: bold\">869</span>                                                  <a href=\"file://C:\\Users\\samue\\AppData\\Local\\Temp\\ipykernel_53888\\2631243110.py\" target=\"_blank\"><span style=\"color: #7f7f7f; text-decoration-color: #7f7f7f\">2631243110.py</span></a><span style=\"color: #7f7f7f; text-decoration-color: #7f7f7f\">:</span><a href=\"file://C:\\Users\\samue\\AppData\\Local\\Temp\\ipykernel_53888\\2631243110.py#102\" target=\"_blank\"><span style=\"color: #7f7f7f; text-decoration-color: #7f7f7f\">102</span></a>\n",
       "</pre>\n"
      ],
      "text/plain": [
       "\u001b[2;36m          \u001b[0m\u001b[2;36m \u001b[0m\u001b[34mINFO    \u001b[0m 📊 Valid: \u001b[1;36m5131\u001b[0m, Invalid: \u001b[1;36m869\u001b[0m                                                  \u001b]8;id=937136;file://C:\\Users\\samue\\AppData\\Local\\Temp\\ipykernel_53888\\2631243110.py\u001b\\\u001b[2m2631243110.py\u001b[0m\u001b]8;;\u001b\\\u001b[2m:\u001b[0m\u001b]8;id=709645;file://C:\\Users\\samue\\AppData\\Local\\Temp\\ipykernel_53888\\2631243110.py#102\u001b\\\u001b[2m102\u001b[0m\u001b]8;;\u001b\\\n"
      ]
     },
     "metadata": {},
     "output_type": "display_data"
    }
   ],
   "source": [
    "result = run_validity_preprocessing_and_filtering(structures, config=config)"
   ]
  },
  {
   "cell_type": "code",
   "execution_count": 26,
   "id": "0575ff29-171f-4518-884d-3ecda009a701",
   "metadata": {},
   "outputs": [],
   "source": [
    "validity_benchmark_result, valid_structures, validity_filtering_metadata, processed_structures = result"
   ]
  },
  {
   "cell_type": "code",
   "execution_count": 27,
   "id": "5cbeec8c-4ef6-4ff8-b4d7-f38f4c57e396",
   "metadata": {},
   "outputs": [],
   "source": [
    "invalid_indicies = []\n",
    "count = 0\n",
    "for val in validity_benchmark_result.evaluator_results[\"charge_neutrality\"][\"metric_results\"][\"charge_neutrality\"].individual_values:\n",
    "    if val == 10.0:\n",
    "        invalid_indicies.append(count)\n",
    "    count += 1\n"
   ]
  },
  {
   "cell_type": "code",
   "execution_count": 14,
   "id": "366835d5-4382-46d8-91a6-ee12df71e893",
   "metadata": {},
   "outputs": [
    {
     "data": {
      "text/plain": [
       "[5, 7, 13, 18, 23, 35, 45, 46]"
      ]
     },
     "execution_count": 14,
     "metadata": {},
     "output_type": "execute_result"
    }
   ],
   "source": [
    "invalid_indicies"
   ]
  },
  {
   "cell_type": "code",
   "execution_count": 19,
   "id": "d2a9e4c1-33ec-4b1e-9df3-8dfd9b22e5a0",
   "metadata": {},
   "outputs": [
    {
     "data": {
      "text/plain": [
       "Structure Summary\n",
       "Lattice\n",
       "    abc : 5.477279534771641 5.477279795045079 9.449985872135557\n",
       " angles : 73.15380538709327 73.1538046207681 60.00000107406842\n",
       " volume : 231.36765456958355\n",
       "      A : np.float64(5.25116589) np.float64(0.0) np.float64(1.55751337)\n",
       "      B : np.float64(2.39460115) np.float64(4.67339613) np.float64(1.55751337)\n",
       "      C : np.float64(0.05372929) np.float64(0.03284148) np.float64(9.44977606)\n",
       "    pbc : True True True\n",
       "PeriodicSite: Pm (4.72, 2.885, 3.348) [0.6163, 0.6163, 0.1512]\n",
       "PeriodicSite: Pm (0.115, 0.07031, 9.243) [0.00819, 0.00819, 0.9754]\n",
       "PeriodicSite: Pm (3.734, 2.282, 6.674) [0.4845, 0.4845, 0.5465]\n",
       "PeriodicSite: H (1.486, 0.9085, 4.62) [0.1914, 0.1914, 0.4258]\n",
       "PeriodicSite: Pt (3.095, 0.2643, 8.828) [0.5577, 0.05069, 0.8339]\n",
       "PeriodicSite: Pt (1.651, 2.656, 4.066) [0.05291, 0.5659, 0.3283]\n",
       "PeriodicSite: Pt (4.309, 2.634, 9.618) [0.5577, 0.5577, 0.8339]\n",
       "PeriodicSite: Pt (0.4222, 0.2581, 3.267) [0.05291, 0.05291, 0.3283]\n",
       "PeriodicSite: Pt (6.189, 3.783, 8.027) [0.8053, 0.8053, 0.584]\n",
       "PeriodicSite: Pt (2.348, 1.435, 1.716) [0.3065, 0.3065, 0.08054]\n",
       "PeriodicSite: Pt (1.646, 2.634, 8.828) [0.05069, 0.5577, 0.8339]\n",
       "PeriodicSite: Pt (3.116, 0.2581, 4.066) [0.5659, 0.05291, 0.3283]"
      ]
     },
     "execution_count": 19,
     "metadata": {},
     "output_type": "execute_result"
    }
   ],
   "source": [
    "processed_structures[13]"
   ]
  },
  {
   "cell_type": "code",
   "execution_count": null,
   "id": "06bee879-622a-4823-9adc-04c21d6692e5",
   "metadata": {},
   "outputs": [],
   "source": []
  },
  {
   "cell_type": "code",
   "execution_count": 16,
   "id": "c7add6a5-e3c7-46f7-922d-6982a6364b0a",
   "metadata": {},
   "outputs": [
    {
     "data": {
      "text/plain": [
       "{'_validity_diagnostics': {'overall_valid': 0.0,\n",
       "  'charge_valid': False,\n",
       "  'distance_valid': True,\n",
       "  'plausibility_valid': True},\n",
       " 'structure_id': 5,\n",
       " 'original_source': 'structure_5',\n",
       " 'overall_valid': False,\n",
       " 'charge_valid': False,\n",
       " 'distance_valid': True,\n",
       " 'plausibility_valid': True,\n",
       " 'charge_deviation': 10.0,\n",
       " 'distance_score': 1.0,\n",
       " 'plausibility_score': 1.0,\n",
       " 'validity_details': {'charge_neutrality': {'valid': False,\n",
       "   'deviation': 10.0,\n",
       "   'tolerance': 0.1},\n",
       "  'interatomic_distance': {'valid': True, 'score': 1.0},\n",
       "  'physical_plausibility': {'valid': True, 'score': 1.0},\n",
       "  'overall': {'valid': False, 'checks_passed': 2, 'total_checks': 3}},\n",
       " 'validity_preprocessor_version': '1.1.0',\n",
       " 'validity_timestamp': '1758661496'}"
      ]
     },
     "execution_count": 16,
     "metadata": {},
     "output_type": "execute_result"
    }
   ],
   "source": [
    "processed_structures[5].properties"
   ]
  },
  {
   "cell_type": "code",
   "execution_count": 15,
   "id": "790a577c-a6ed-4ad4-9979-7b8a340aac5b",
   "metadata": {
    "scrolled": true
   },
   "outputs": [
    {
     "data": {
      "text/plain": [
       "[3, 5, 7, 13, 18, 23, 24, 25, 35, 45, 46, 52, 57]"
      ]
     },
     "execution_count": 15,
     "metadata": {},
     "output_type": "execute_result"
    }
   ],
   "source": [
    "invalid_indicies"
   ]
  },
  {
   "cell_type": "code",
   "execution_count": 116,
   "id": "d58e86f7-05d6-4727-9463-7640087dd191",
   "metadata": {
    "scrolled": true
   },
   "outputs": [
    {
     "name": "stdout",
     "output_type": "stream",
     "text": [
      "[Composition('Ca3 Th1 Pa3 N8'), Composition('Pm1 Ho2 In1 N1'), Composition('As1 Cu2 Pd1'), Composition('Pm3 H1 Pt8'), Composition('Ac2 Sn2 H4 Ru1'), Composition('Sm4 Pa2 Se6'), Composition('B4 Hf4 Tc2'), Composition('Au1 Al1 Se2'), Composition('Hg2 Se1 Ta1'), Composition('K2 Er4 S3 O2'), Composition('Na4 Se2 Ta4'), Composition('Cs4 Pt1 Te1'), Composition('Mo1 Os1 P2'), Composition('Hf1 Tl1 In2 Br8'), Composition('Pb1 Au1 N2'), Composition('Cr1 Sb1 Zn1'), Composition('Mo2 Fe1 Cl1'), Composition('S1 Hg3 Ta1'), Composition('Pr2 Sm1 Np1 Sb4'), Composition('Pa10 Si4 Te4'), Composition('Au4 I4 Te4'), Composition('Si2 Cu2 Ce1'), Composition('K3 Tc1 Rh3 O8'), Composition('I2 Sc1 Ba1'), Composition('Os2 S2 Tb2'), Composition('Tl2 S6 Pt2 Er2'), Composition('H1 Hf1 Sn1 V2'), Composition('Hg4 P1 Os1'), Composition('Mn1 Si1 Sr2'), Composition('H4 Ba4 Cu2'), Composition('As1 Au1 Co1 Tc1'), Composition('Rb4 Ac2 Tl2 S8'), Composition('Ni1 Tc2 W1 H1'), Composition('Sr2 Hg2 Br1'), Composition('Co1 Te1 Pb4'), Composition('Si1 Ba1 Sn2'), Composition('Cl1 In2'), Composition('Be1 Zn2 Cl1'), Composition('Ca1 Br2 La1'), Composition('Ni2 Ru1 Te1'), Composition('K2 Hf1 Pa1 N4'), Composition('Gd2 I2 Sn1'), Composition('Sb1 Se2 Sr1'), Composition('As1 Cr1 Re2'), Composition('B4 Ge1 Pt1'), Composition('Ag1 Te7'), Composition('Cs3 Zn1 N1'), Composition('Er6 Se2 S3'), Composition('Te1 W2 Y1'), Composition('In12 Si20 Au48'), Composition('Zn2 O2 Ti4'), Composition('Li1 Pa1 Mn2 O6'), Composition('Cs2 K2 S2 Se4 Tc2'), Composition('Ac2 As1 Fe1'), Composition('Pb2 Si1 Co1 In1'), Composition('Rb1 N4'), Composition('Rb1 Pb4 N2'), Composition('Pa3 Te1 Cl7'), Composition('Au1 Tc1 Cl2'), Composition('I1 Ni1 W3'), Composition('Si4 Ba2 Se2'), Composition('Tb1 Pr1 Sb2 Rh5'), Composition('Si4 Ru1 Pt1'), Composition('Cl1 Mg2 Mo1'), Composition('H4 Se4 F2'), Composition('Co2 La1 Se1'), Composition('Rh2 Tb4 N1'), Composition('S1 Si2 Hg1 Al1'), Composition('Tm2 Si6 Ru2 Rh2'), Composition('Na1 Zn1 Pt2 F1'), Composition('Re1 H1 Zr2 Ni1'), Composition('La4 Sb1 Ru1'), Composition('Sb1 H1 W2 Sr1'), Composition('Ru2 Sb1 Sr1'), Composition('Br1 Cr2 Hg1'), Composition('Sm14 Ga2 Se10'), Composition('Cr1 Nb1 Te1 Li2'), Composition('B1 Br1 W3'), Composition('Nd1 Sc2 Si4'), Composition('Hf1 Si2 Os1 Sb1'), Composition('Cr4 Cu2 Se2'), Composition('Lu1 Sb1 W2'), Composition('Pb4 As2 V4'), Composition('Cs1 Sr1 O1 N2'), Composition('K2 Tc2 O6'), Composition('Pm4 Ho1 Pu3 Se8'), Composition('C4 Mo2 Tc2'), Composition('Ac4 Ge1 Te2 Au1'), Composition('Au1 B2 Te2'), Composition('Br1 Li1 W1'), Composition('Ac1 La1 Pu2 As4'), Composition('Pm1 Nd3 Th2 Se6'), Composition('H3 Tl1 N1'), Composition('Ce2 Np2 Cr2 O12'), Composition('Al2 Ir1 Si1'), Composition('Na2 Au1 Cl1'), Composition('I2 Te1 Hg1 Tc1'), Composition('Pa1 Te2 In1'), Composition('Pr8 Tl2 Sb2'), Composition('B1 Pt3 Th1'), Composition('Er4 In2 Si4 Pd10'), Composition('Be2 Ag1 Cl1'), Composition('Mn1 In4 Si1'), Composition('P1 Ac1 Tm1'), Composition('Zn2 Hf1 Cl1'), Composition('Tl2 P1 Pb1'), Composition('Li2 Pm2 V2 F12'), Composition('Rb1 Mn2 As2 O6'), Composition('Au1 B4 Y1'), Composition('Ga6 Te2'), Composition('Ti8 Al2 C4'), Composition('Y12 Pd4 N2'), Composition('I1 Ca1 O1 N2'), Composition('Cd1 Os1 Se2'), Composition('Ru2 Tc4 N2'), Composition('N2 O2 Os2 Tl2'), Composition('In1 Mn2 Te1'), Composition('La2 Pm1 Ag1 C1'), Composition('Ba1 Pt1 Se2 O8'), Composition('S1 Mn1 Br1 W2'), Composition('Pm2 Os2 O8 F2'), Composition('P2 Ir4 Rh2'), Composition('Fe2 Pt4 Se6'), Composition('Y2 Te1 Pd9'), Composition('Y6 O2 Cd2'), Composition('Nd2 Ho1 In1 O1'), Composition('Ni1 Pm1 P1 Pu1'), Composition('Ni2 As1 Au1'), Composition('Rb3 Na1 Ni2 Br9'), Composition('Ag2 Br1 Fe1'), Composition('Rb1 Np1 Tl2 F8'), Composition('As1 Se2 Pt1 La1'), Composition('Ru1 Si1 Ir2 Se1'), Composition('Bi6 Si2 Zr10'), Composition('Mg1 P1 Rh2'), Composition('Th2 Te1 Ru1'), Composition('As1 Au2 Tc1'), Composition('Na1 As3 Ga1'), Composition('Pa8 Ge3 Te5'), Composition('Re1 Zn1 Os2 H1'), Composition('O1 Ni2 Sn1 Rb1'), Composition('Mg1 Si1 Tc2'), Composition('Ir1 Os1 Te1'), Composition('Pm1 Tl3 Sb2 Te6'), Composition('Sb1 Ca1 Zr2'), Composition('Li1 Ta1 Te1 W1'), Composition('Mg1 Se2 Tc1'), Composition('Cr1 Ir1 Zr1 H2'), Composition('Si4 Te2 Sn2'), Composition('Pr3 Pu1 Cl2 O6'), Composition('Sb2 Bi4 Ag4'), Composition('Pb1 I1 Sr3'), Composition('Cd1 Sc1 Se1'), Composition('Pu5 Si4'), Composition('Ho2 Zn3 Cu12 Si1'), Composition('Be4 Te1'), Composition('Si1 Al1 Ag3'), Composition('Re1 Sb1 Ta2'), Composition('In6 I24'), Composition('K1 Pt1 F6')]\n"
     ]
    }
   ],
   "source": [
    "print([processed_structures[i].composition for i in invalid_indicies])"
   ]
  },
  {
   "cell_type": "code",
   "execution_count": 28,
   "id": "a07e5545-2f82-426e-8f0b-a8f767eea87b",
   "metadata": {
    "scrolled": true
   },
   "outputs": [
    {
     "data": {
      "text/plain": [
       "{'total_input_structures': 6000,\n",
       " 'valid_structures': 5131,\n",
       " 'invalid_structures': 869,\n",
       " 'validity_rate': 0.8551666666666666,\n",
       " 'valid_structure_ids': [0,\n",
       "  1,\n",
       "  2,\n",
       "  3,\n",
       "  4,\n",
       "  6,\n",
       "  8,\n",
       "  9,\n",
       "  10,\n",
       "  11,\n",
       "  12,\n",
       "  14,\n",
       "  15,\n",
       "  16,\n",
       "  17,\n",
       "  19,\n",
       "  20,\n",
       "  21,\n",
       "  22,\n",
       "  24,\n",
       "  25,\n",
       "  26,\n",
       "  27,\n",
       "  28,\n",
       "  29,\n",
       "  30,\n",
       "  31,\n",
       "  32,\n",
       "  33,\n",
       "  34,\n",
       "  36,\n",
       "  37,\n",
       "  38,\n",
       "  39,\n",
       "  40,\n",
       "  41,\n",
       "  42,\n",
       "  43,\n",
       "  44,\n",
       "  47,\n",
       "  48,\n",
       "  49,\n",
       "  50,\n",
       "  51,\n",
       "  52,\n",
       "  53,\n",
       "  54,\n",
       "  55,\n",
       "  56,\n",
       "  57,\n",
       "  58,\n",
       "  59,\n",
       "  60,\n",
       "  61,\n",
       "  62,\n",
       "  63,\n",
       "  64,\n",
       "  65,\n",
       "  66,\n",
       "  67,\n",
       "  68,\n",
       "  69,\n",
       "  71,\n",
       "  72,\n",
       "  73,\n",
       "  74,\n",
       "  75,\n",
       "  76,\n",
       "  79,\n",
       "  81,\n",
       "  82,\n",
       "  83,\n",
       "  84,\n",
       "  85,\n",
       "  86,\n",
       "  87,\n",
       "  88,\n",
       "  90,\n",
       "  91,\n",
       "  92,\n",
       "  93,\n",
       "  94,\n",
       "  95,\n",
       "  98,\n",
       "  99,\n",
       "  100,\n",
       "  101,\n",
       "  102,\n",
       "  103,\n",
       "  105,\n",
       "  107,\n",
       "  108,\n",
       "  109,\n",
       "  110,\n",
       "  111,\n",
       "  112,\n",
       "  113,\n",
       "  114,\n",
       "  115,\n",
       "  116,\n",
       "  117,\n",
       "  118,\n",
       "  119,\n",
       "  120,\n",
       "  121,\n",
       "  122,\n",
       "  123,\n",
       "  124,\n",
       "  125,\n",
       "  126,\n",
       "  127,\n",
       "  128,\n",
       "  129,\n",
       "  130,\n",
       "  131,\n",
       "  132,\n",
       "  133,\n",
       "  135,\n",
       "  136,\n",
       "  137,\n",
       "  138,\n",
       "  139,\n",
       "  140,\n",
       "  141,\n",
       "  142,\n",
       "  143,\n",
       "  144,\n",
       "  146,\n",
       "  147,\n",
       "  148,\n",
       "  149,\n",
       "  150,\n",
       "  151,\n",
       "  152,\n",
       "  153,\n",
       "  154,\n",
       "  155,\n",
       "  156,\n",
       "  157,\n",
       "  158,\n",
       "  159,\n",
       "  162,\n",
       "  163,\n",
       "  164,\n",
       "  165,\n",
       "  167,\n",
       "  168,\n",
       "  170,\n",
       "  172,\n",
       "  173,\n",
       "  175,\n",
       "  176,\n",
       "  177,\n",
       "  178,\n",
       "  179,\n",
       "  181,\n",
       "  183,\n",
       "  184,\n",
       "  185,\n",
       "  186,\n",
       "  187,\n",
       "  189,\n",
       "  190,\n",
       "  192,\n",
       "  193,\n",
       "  196,\n",
       "  197,\n",
       "  198,\n",
       "  199,\n",
       "  200,\n",
       "  201,\n",
       "  202,\n",
       "  204,\n",
       "  205,\n",
       "  206,\n",
       "  207,\n",
       "  208,\n",
       "  209,\n",
       "  210,\n",
       "  212,\n",
       "  213,\n",
       "  214,\n",
       "  215,\n",
       "  216,\n",
       "  217,\n",
       "  218,\n",
       "  219,\n",
       "  221,\n",
       "  224,\n",
       "  225,\n",
       "  226,\n",
       "  227,\n",
       "  229,\n",
       "  230,\n",
       "  231,\n",
       "  232,\n",
       "  233,\n",
       "  234,\n",
       "  235,\n",
       "  236,\n",
       "  237,\n",
       "  239,\n",
       "  240,\n",
       "  241,\n",
       "  243,\n",
       "  244,\n",
       "  245,\n",
       "  246,\n",
       "  247,\n",
       "  248,\n",
       "  249,\n",
       "  250,\n",
       "  252,\n",
       "  253,\n",
       "  254,\n",
       "  256,\n",
       "  257,\n",
       "  258,\n",
       "  259,\n",
       "  260,\n",
       "  261,\n",
       "  262,\n",
       "  264,\n",
       "  265,\n",
       "  266,\n",
       "  267,\n",
       "  268,\n",
       "  269,\n",
       "  270,\n",
       "  271,\n",
       "  272,\n",
       "  274,\n",
       "  275,\n",
       "  279,\n",
       "  281,\n",
       "  282,\n",
       "  283,\n",
       "  284,\n",
       "  285,\n",
       "  286,\n",
       "  287,\n",
       "  289,\n",
       "  290,\n",
       "  294,\n",
       "  295,\n",
       "  296,\n",
       "  297,\n",
       "  298,\n",
       "  299,\n",
       "  300,\n",
       "  301,\n",
       "  302,\n",
       "  303,\n",
       "  304,\n",
       "  305,\n",
       "  308,\n",
       "  309,\n",
       "  310,\n",
       "  312,\n",
       "  313,\n",
       "  314,\n",
       "  315,\n",
       "  316,\n",
       "  317,\n",
       "  318,\n",
       "  319,\n",
       "  321,\n",
       "  323,\n",
       "  324,\n",
       "  325,\n",
       "  327,\n",
       "  328,\n",
       "  329,\n",
       "  330,\n",
       "  331,\n",
       "  332,\n",
       "  333,\n",
       "  334,\n",
       "  335,\n",
       "  336,\n",
       "  337,\n",
       "  338,\n",
       "  339,\n",
       "  340,\n",
       "  342,\n",
       "  343,\n",
       "  344,\n",
       "  346,\n",
       "  347,\n",
       "  348,\n",
       "  349,\n",
       "  350,\n",
       "  351,\n",
       "  352,\n",
       "  353,\n",
       "  354,\n",
       "  355,\n",
       "  356,\n",
       "  357,\n",
       "  358,\n",
       "  359,\n",
       "  360,\n",
       "  361,\n",
       "  362,\n",
       "  363,\n",
       "  365,\n",
       "  366,\n",
       "  367,\n",
       "  368,\n",
       "  369,\n",
       "  370,\n",
       "  371,\n",
       "  372,\n",
       "  373,\n",
       "  375,\n",
       "  376,\n",
       "  377,\n",
       "  378,\n",
       "  379,\n",
       "  380,\n",
       "  382,\n",
       "  384,\n",
       "  385,\n",
       "  386,\n",
       "  388,\n",
       "  391,\n",
       "  392,\n",
       "  393,\n",
       "  394,\n",
       "  395,\n",
       "  396,\n",
       "  397,\n",
       "  398,\n",
       "  399,\n",
       "  400,\n",
       "  403,\n",
       "  405,\n",
       "  406,\n",
       "  407,\n",
       "  408,\n",
       "  409,\n",
       "  410,\n",
       "  411,\n",
       "  412,\n",
       "  413,\n",
       "  414,\n",
       "  415,\n",
       "  416,\n",
       "  417,\n",
       "  418,\n",
       "  419,\n",
       "  420,\n",
       "  421,\n",
       "  422,\n",
       "  423,\n",
       "  424,\n",
       "  425,\n",
       "  426,\n",
       "  427,\n",
       "  428,\n",
       "  429,\n",
       "  430,\n",
       "  431,\n",
       "  432,\n",
       "  433,\n",
       "  434,\n",
       "  436,\n",
       "  437,\n",
       "  438,\n",
       "  441,\n",
       "  442,\n",
       "  443,\n",
       "  444,\n",
       "  445,\n",
       "  446,\n",
       "  448,\n",
       "  449,\n",
       "  450,\n",
       "  451,\n",
       "  452,\n",
       "  453,\n",
       "  454,\n",
       "  455,\n",
       "  456,\n",
       "  457,\n",
       "  458,\n",
       "  459,\n",
       "  460,\n",
       "  462,\n",
       "  463,\n",
       "  464,\n",
       "  465,\n",
       "  467,\n",
       "  468,\n",
       "  469,\n",
       "  470,\n",
       "  471,\n",
       "  472,\n",
       "  476,\n",
       "  477,\n",
       "  478,\n",
       "  479,\n",
       "  480,\n",
       "  481,\n",
       "  482,\n",
       "  483,\n",
       "  484,\n",
       "  485,\n",
       "  486,\n",
       "  487,\n",
       "  488,\n",
       "  490,\n",
       "  491,\n",
       "  492,\n",
       "  493,\n",
       "  494,\n",
       "  496,\n",
       "  497,\n",
       "  498,\n",
       "  499,\n",
       "  500,\n",
       "  501,\n",
       "  502,\n",
       "  503,\n",
       "  504,\n",
       "  505,\n",
       "  506,\n",
       "  508,\n",
       "  509,\n",
       "  511,\n",
       "  512,\n",
       "  513,\n",
       "  514,\n",
       "  515,\n",
       "  516,\n",
       "  518,\n",
       "  520,\n",
       "  522,\n",
       "  523,\n",
       "  524,\n",
       "  525,\n",
       "  527,\n",
       "  528,\n",
       "  529,\n",
       "  530,\n",
       "  531,\n",
       "  532,\n",
       "  533,\n",
       "  535,\n",
       "  536,\n",
       "  537,\n",
       "  538,\n",
       "  539,\n",
       "  540,\n",
       "  542,\n",
       "  543,\n",
       "  544,\n",
       "  545,\n",
       "  546,\n",
       "  547,\n",
       "  548,\n",
       "  549,\n",
       "  551,\n",
       "  552,\n",
       "  553,\n",
       "  554,\n",
       "  555,\n",
       "  556,\n",
       "  557,\n",
       "  558,\n",
       "  559,\n",
       "  560,\n",
       "  561,\n",
       "  562,\n",
       "  563,\n",
       "  564,\n",
       "  565,\n",
       "  566,\n",
       "  567,\n",
       "  568,\n",
       "  569,\n",
       "  570,\n",
       "  571,\n",
       "  572,\n",
       "  573,\n",
       "  574,\n",
       "  575,\n",
       "  576,\n",
       "  577,\n",
       "  578,\n",
       "  579,\n",
       "  582,\n",
       "  584,\n",
       "  587,\n",
       "  588,\n",
       "  589,\n",
       "  592,\n",
       "  593,\n",
       "  594,\n",
       "  595,\n",
       "  596,\n",
       "  597,\n",
       "  598,\n",
       "  599,\n",
       "  600,\n",
       "  601,\n",
       "  602,\n",
       "  603,\n",
       "  604,\n",
       "  605,\n",
       "  606,\n",
       "  607,\n",
       "  608,\n",
       "  610,\n",
       "  611,\n",
       "  612,\n",
       "  613,\n",
       "  615,\n",
       "  616,\n",
       "  617,\n",
       "  619,\n",
       "  620,\n",
       "  621,\n",
       "  622,\n",
       "  623,\n",
       "  625,\n",
       "  626,\n",
       "  628,\n",
       "  629,\n",
       "  630,\n",
       "  632,\n",
       "  633,\n",
       "  634,\n",
       "  635,\n",
       "  636,\n",
       "  637,\n",
       "  639,\n",
       "  640,\n",
       "  641,\n",
       "  642,\n",
       "  643,\n",
       "  644,\n",
       "  645,\n",
       "  646,\n",
       "  647,\n",
       "  648,\n",
       "  649,\n",
       "  650,\n",
       "  651,\n",
       "  652,\n",
       "  653,\n",
       "  654,\n",
       "  656,\n",
       "  657,\n",
       "  658,\n",
       "  660,\n",
       "  663,\n",
       "  664,\n",
       "  665,\n",
       "  666,\n",
       "  667,\n",
       "  668,\n",
       "  669,\n",
       "  670,\n",
       "  671,\n",
       "  672,\n",
       "  673,\n",
       "  674,\n",
       "  677,\n",
       "  678,\n",
       "  679,\n",
       "  680,\n",
       "  681,\n",
       "  682,\n",
       "  683,\n",
       "  684,\n",
       "  686,\n",
       "  687,\n",
       "  688,\n",
       "  689,\n",
       "  690,\n",
       "  691,\n",
       "  692,\n",
       "  693,\n",
       "  694,\n",
       "  696,\n",
       "  697,\n",
       "  698,\n",
       "  699,\n",
       "  701,\n",
       "  702,\n",
       "  703,\n",
       "  704,\n",
       "  705,\n",
       "  706,\n",
       "  707,\n",
       "  708,\n",
       "  709,\n",
       "  710,\n",
       "  711,\n",
       "  712,\n",
       "  713,\n",
       "  714,\n",
       "  715,\n",
       "  716,\n",
       "  717,\n",
       "  718,\n",
       "  719,\n",
       "  720,\n",
       "  721,\n",
       "  722,\n",
       "  723,\n",
       "  724,\n",
       "  725,\n",
       "  726,\n",
       "  727,\n",
       "  728,\n",
       "  729,\n",
       "  731,\n",
       "  732,\n",
       "  733,\n",
       "  734,\n",
       "  735,\n",
       "  736,\n",
       "  737,\n",
       "  738,\n",
       "  739,\n",
       "  740,\n",
       "  741,\n",
       "  743,\n",
       "  744,\n",
       "  745,\n",
       "  746,\n",
       "  747,\n",
       "  748,\n",
       "  749,\n",
       "  750,\n",
       "  751,\n",
       "  752,\n",
       "  753,\n",
       "  754,\n",
       "  756,\n",
       "  757,\n",
       "  758,\n",
       "  759,\n",
       "  760,\n",
       "  761,\n",
       "  762,\n",
       "  764,\n",
       "  765,\n",
       "  766,\n",
       "  767,\n",
       "  768,\n",
       "  769,\n",
       "  770,\n",
       "  771,\n",
       "  773,\n",
       "  774,\n",
       "  775,\n",
       "  776,\n",
       "  778,\n",
       "  779,\n",
       "  780,\n",
       "  781,\n",
       "  782,\n",
       "  783,\n",
       "  784,\n",
       "  785,\n",
       "  786,\n",
       "  787,\n",
       "  788,\n",
       "  790,\n",
       "  792,\n",
       "  793,\n",
       "  794,\n",
       "  795,\n",
       "  796,\n",
       "  797,\n",
       "  798,\n",
       "  799,\n",
       "  800,\n",
       "  801,\n",
       "  802,\n",
       "  803,\n",
       "  804,\n",
       "  805,\n",
       "  806,\n",
       "  807,\n",
       "  808,\n",
       "  809,\n",
       "  810,\n",
       "  811,\n",
       "  812,\n",
       "  813,\n",
       "  814,\n",
       "  815,\n",
       "  816,\n",
       "  817,\n",
       "  818,\n",
       "  819,\n",
       "  820,\n",
       "  821,\n",
       "  822,\n",
       "  824,\n",
       "  825,\n",
       "  826,\n",
       "  827,\n",
       "  828,\n",
       "  829,\n",
       "  830,\n",
       "  831,\n",
       "  832,\n",
       "  833,\n",
       "  834,\n",
       "  835,\n",
       "  836,\n",
       "  837,\n",
       "  838,\n",
       "  839,\n",
       "  841,\n",
       "  842,\n",
       "  843,\n",
       "  844,\n",
       "  845,\n",
       "  846,\n",
       "  847,\n",
       "  849,\n",
       "  851,\n",
       "  852,\n",
       "  853,\n",
       "  854,\n",
       "  855,\n",
       "  856,\n",
       "  857,\n",
       "  859,\n",
       "  860,\n",
       "  861,\n",
       "  862,\n",
       "  863,\n",
       "  864,\n",
       "  865,\n",
       "  866,\n",
       "  867,\n",
       "  868,\n",
       "  869,\n",
       "  870,\n",
       "  872,\n",
       "  873,\n",
       "  874,\n",
       "  876,\n",
       "  877,\n",
       "  878,\n",
       "  879,\n",
       "  880,\n",
       "  881,\n",
       "  882,\n",
       "  883,\n",
       "  884,\n",
       "  885,\n",
       "  886,\n",
       "  889,\n",
       "  890,\n",
       "  891,\n",
       "  892,\n",
       "  893,\n",
       "  894,\n",
       "  895,\n",
       "  896,\n",
       "  897,\n",
       "  900,\n",
       "  901,\n",
       "  902,\n",
       "  903,\n",
       "  905,\n",
       "  906,\n",
       "  907,\n",
       "  908,\n",
       "  909,\n",
       "  910,\n",
       "  911,\n",
       "  912,\n",
       "  913,\n",
       "  914,\n",
       "  916,\n",
       "  918,\n",
       "  919,\n",
       "  920,\n",
       "  921,\n",
       "  923,\n",
       "  925,\n",
       "  926,\n",
       "  927,\n",
       "  928,\n",
       "  929,\n",
       "  930,\n",
       "  931,\n",
       "  932,\n",
       "  933,\n",
       "  934,\n",
       "  935,\n",
       "  936,\n",
       "  938,\n",
       "  939,\n",
       "  940,\n",
       "  942,\n",
       "  944,\n",
       "  945,\n",
       "  946,\n",
       "  947,\n",
       "  948,\n",
       "  950,\n",
       "  951,\n",
       "  952,\n",
       "  953,\n",
       "  954,\n",
       "  956,\n",
       "  957,\n",
       "  958,\n",
       "  959,\n",
       "  961,\n",
       "  962,\n",
       "  963,\n",
       "  964,\n",
       "  965,\n",
       "  967,\n",
       "  968,\n",
       "  969,\n",
       "  970,\n",
       "  971,\n",
       "  972,\n",
       "  973,\n",
       "  974,\n",
       "  975,\n",
       "  976,\n",
       "  977,\n",
       "  979,\n",
       "  980,\n",
       "  982,\n",
       "  984,\n",
       "  985,\n",
       "  986,\n",
       "  987,\n",
       "  988,\n",
       "  989,\n",
       "  990,\n",
       "  991,\n",
       "  992,\n",
       "  995,\n",
       "  996,\n",
       "  997,\n",
       "  998,\n",
       "  999,\n",
       "  1000,\n",
       "  1001,\n",
       "  1002,\n",
       "  1003,\n",
       "  1004,\n",
       "  1005,\n",
       "  1006,\n",
       "  1007,\n",
       "  1008,\n",
       "  1009,\n",
       "  1010,\n",
       "  1011,\n",
       "  1012,\n",
       "  1013,\n",
       "  1014,\n",
       "  1015,\n",
       "  1017,\n",
       "  1018,\n",
       "  1019,\n",
       "  1022,\n",
       "  1023,\n",
       "  1024,\n",
       "  1025,\n",
       "  1027,\n",
       "  1028,\n",
       "  1029,\n",
       "  1030,\n",
       "  1032,\n",
       "  1033,\n",
       "  1035,\n",
       "  1036,\n",
       "  1037,\n",
       "  1038,\n",
       "  1039,\n",
       "  1040,\n",
       "  1041,\n",
       "  1042,\n",
       "  1043,\n",
       "  1045,\n",
       "  1046,\n",
       "  1047,\n",
       "  1048,\n",
       "  1049,\n",
       "  1050,\n",
       "  1051,\n",
       "  1052,\n",
       "  1053,\n",
       "  1054,\n",
       "  1055,\n",
       "  1057,\n",
       "  1058,\n",
       "  1059,\n",
       "  1060,\n",
       "  1061,\n",
       "  1063,\n",
       "  1064,\n",
       "  1065,\n",
       "  1066,\n",
       "  1067,\n",
       "  1068,\n",
       "  1069,\n",
       "  1070,\n",
       "  1071,\n",
       "  1072,\n",
       "  1073,\n",
       "  1074,\n",
       "  1075,\n",
       "  1077,\n",
       "  1078,\n",
       "  1080,\n",
       "  1081,\n",
       "  1082,\n",
       "  1083,\n",
       "  1085,\n",
       "  1086,\n",
       "  1088,\n",
       "  1089,\n",
       "  1090,\n",
       "  1091,\n",
       "  1092,\n",
       "  1094,\n",
       "  1095,\n",
       "  1096,\n",
       "  1098,\n",
       "  1099,\n",
       "  1100,\n",
       "  1101,\n",
       "  1102,\n",
       "  1103,\n",
       "  1104,\n",
       "  1106,\n",
       "  1107,\n",
       "  1108,\n",
       "  1109,\n",
       "  1110,\n",
       "  1112,\n",
       "  1113,\n",
       "  1114,\n",
       "  1115,\n",
       "  1116,\n",
       "  1118,\n",
       "  1119,\n",
       "  1120,\n",
       "  1121,\n",
       "  1122,\n",
       "  1123,\n",
       "  1126,\n",
       "  1127,\n",
       "  1128,\n",
       "  1129,\n",
       "  1132,\n",
       "  1133,\n",
       "  1134,\n",
       "  1135,\n",
       "  1136,\n",
       "  1137,\n",
       "  1138,\n",
       "  1139,\n",
       "  1140,\n",
       "  1141,\n",
       "  1142,\n",
       "  1143,\n",
       "  1144,\n",
       "  1145,\n",
       "  1146,\n",
       "  1147,\n",
       "  1148,\n",
       "  1151,\n",
       "  1152,\n",
       "  1153,\n",
       "  1155,\n",
       "  1156,\n",
       "  1158,\n",
       "  1159,\n",
       "  1160,\n",
       "  1161,\n",
       "  1162,\n",
       "  1163,\n",
       "  1164,\n",
       "  1165,\n",
       "  1167,\n",
       "  1168,\n",
       "  1169,\n",
       "  1170,\n",
       "  1171,\n",
       "  1173,\n",
       "  1174,\n",
       "  1175,\n",
       "  ...],\n",
       " 'valid_structure_sources': ['structure_0',\n",
       "  'structure_1',\n",
       "  'structure_2',\n",
       "  'structure_3',\n",
       "  'structure_4',\n",
       "  'structure_6',\n",
       "  'structure_8',\n",
       "  'structure_9',\n",
       "  'structure_10',\n",
       "  'structure_11',\n",
       "  'structure_12',\n",
       "  'structure_14',\n",
       "  'structure_15',\n",
       "  'structure_16',\n",
       "  'structure_17',\n",
       "  'structure_19',\n",
       "  'structure_20',\n",
       "  'structure_21',\n",
       "  'structure_22',\n",
       "  'structure_24',\n",
       "  'structure_25',\n",
       "  'structure_26',\n",
       "  'structure_27',\n",
       "  'structure_28',\n",
       "  'structure_29',\n",
       "  'structure_30',\n",
       "  'structure_31',\n",
       "  'structure_32',\n",
       "  'structure_33',\n",
       "  'structure_34',\n",
       "  'structure_36',\n",
       "  'structure_37',\n",
       "  'structure_38',\n",
       "  'structure_39',\n",
       "  'structure_40',\n",
       "  'structure_41',\n",
       "  'structure_42',\n",
       "  'structure_43',\n",
       "  'structure_44',\n",
       "  'structure_47',\n",
       "  'structure_48',\n",
       "  'structure_49',\n",
       "  'structure_50',\n",
       "  'structure_51',\n",
       "  'structure_52',\n",
       "  'structure_53',\n",
       "  'structure_54',\n",
       "  'structure_55',\n",
       "  'structure_56',\n",
       "  'structure_57',\n",
       "  'structure_58',\n",
       "  'structure_59',\n",
       "  'structure_60',\n",
       "  'structure_61',\n",
       "  'structure_62',\n",
       "  'structure_63',\n",
       "  'structure_64',\n",
       "  'structure_65',\n",
       "  'structure_66',\n",
       "  'structure_67',\n",
       "  'structure_68',\n",
       "  'structure_69',\n",
       "  'structure_71',\n",
       "  'structure_72',\n",
       "  'structure_73',\n",
       "  'structure_74',\n",
       "  'structure_75',\n",
       "  'structure_76',\n",
       "  'structure_79',\n",
       "  'structure_81',\n",
       "  'structure_82',\n",
       "  'structure_83',\n",
       "  'structure_84',\n",
       "  'structure_85',\n",
       "  'structure_86',\n",
       "  'structure_87',\n",
       "  'structure_88',\n",
       "  'structure_90',\n",
       "  'structure_91',\n",
       "  'structure_92',\n",
       "  'structure_93',\n",
       "  'structure_94',\n",
       "  'structure_95',\n",
       "  'structure_98',\n",
       "  'structure_99',\n",
       "  'structure_100',\n",
       "  'structure_101',\n",
       "  'structure_102',\n",
       "  'structure_103',\n",
       "  'structure_105',\n",
       "  'structure_107',\n",
       "  'structure_108',\n",
       "  'structure_109',\n",
       "  'structure_110',\n",
       "  'structure_111',\n",
       "  'structure_112',\n",
       "  'structure_113',\n",
       "  'structure_114',\n",
       "  'structure_115',\n",
       "  'structure_116',\n",
       "  'structure_117',\n",
       "  'structure_118',\n",
       "  'structure_119',\n",
       "  'structure_120',\n",
       "  'structure_121',\n",
       "  'structure_122',\n",
       "  'structure_123',\n",
       "  'structure_124',\n",
       "  'structure_125',\n",
       "  'structure_126',\n",
       "  'structure_127',\n",
       "  'structure_128',\n",
       "  'structure_129',\n",
       "  'structure_130',\n",
       "  'structure_131',\n",
       "  'structure_132',\n",
       "  'structure_133',\n",
       "  'structure_135',\n",
       "  'structure_136',\n",
       "  'structure_137',\n",
       "  'structure_138',\n",
       "  'structure_139',\n",
       "  'structure_140',\n",
       "  'structure_141',\n",
       "  'structure_142',\n",
       "  'structure_143',\n",
       "  'structure_144',\n",
       "  'structure_146',\n",
       "  'structure_147',\n",
       "  'structure_148',\n",
       "  'structure_149',\n",
       "  'structure_150',\n",
       "  'structure_151',\n",
       "  'structure_152',\n",
       "  'structure_153',\n",
       "  'structure_154',\n",
       "  'structure_155',\n",
       "  'structure_156',\n",
       "  'structure_157',\n",
       "  'structure_158',\n",
       "  'structure_159',\n",
       "  'structure_162',\n",
       "  'structure_163',\n",
       "  'structure_164',\n",
       "  'structure_165',\n",
       "  'structure_167',\n",
       "  'structure_168',\n",
       "  'structure_170',\n",
       "  'structure_172',\n",
       "  'structure_173',\n",
       "  'structure_175',\n",
       "  'structure_176',\n",
       "  'structure_177',\n",
       "  'structure_178',\n",
       "  'structure_179',\n",
       "  'structure_181',\n",
       "  'structure_183',\n",
       "  'structure_184',\n",
       "  'structure_185',\n",
       "  'structure_186',\n",
       "  'structure_187',\n",
       "  'structure_189',\n",
       "  'structure_190',\n",
       "  'structure_192',\n",
       "  'structure_193',\n",
       "  'structure_196',\n",
       "  'structure_197',\n",
       "  'structure_198',\n",
       "  'structure_199',\n",
       "  'structure_200',\n",
       "  'structure_201',\n",
       "  'structure_202',\n",
       "  'structure_204',\n",
       "  'structure_205',\n",
       "  'structure_206',\n",
       "  'structure_207',\n",
       "  'structure_208',\n",
       "  'structure_209',\n",
       "  'structure_210',\n",
       "  'structure_212',\n",
       "  'structure_213',\n",
       "  'structure_214',\n",
       "  'structure_215',\n",
       "  'structure_216',\n",
       "  'structure_217',\n",
       "  'structure_218',\n",
       "  'structure_219',\n",
       "  'structure_221',\n",
       "  'structure_224',\n",
       "  'structure_225',\n",
       "  'structure_226',\n",
       "  'structure_227',\n",
       "  'structure_229',\n",
       "  'structure_230',\n",
       "  'structure_231',\n",
       "  'structure_232',\n",
       "  'structure_233',\n",
       "  'structure_234',\n",
       "  'structure_235',\n",
       "  'structure_236',\n",
       "  'structure_237',\n",
       "  'structure_239',\n",
       "  'structure_240',\n",
       "  'structure_241',\n",
       "  'structure_243',\n",
       "  'structure_244',\n",
       "  'structure_245',\n",
       "  'structure_246',\n",
       "  'structure_247',\n",
       "  'structure_248',\n",
       "  'structure_249',\n",
       "  'structure_250',\n",
       "  'structure_252',\n",
       "  'structure_253',\n",
       "  'structure_254',\n",
       "  'structure_256',\n",
       "  'structure_257',\n",
       "  'structure_258',\n",
       "  'structure_259',\n",
       "  'structure_260',\n",
       "  'structure_261',\n",
       "  'structure_262',\n",
       "  'structure_264',\n",
       "  'structure_265',\n",
       "  'structure_266',\n",
       "  'structure_267',\n",
       "  'structure_268',\n",
       "  'structure_269',\n",
       "  'structure_270',\n",
       "  'structure_271',\n",
       "  'structure_272',\n",
       "  'structure_274',\n",
       "  'structure_275',\n",
       "  'structure_279',\n",
       "  'structure_281',\n",
       "  'structure_282',\n",
       "  'structure_283',\n",
       "  'structure_284',\n",
       "  'structure_285',\n",
       "  'structure_286',\n",
       "  'structure_287',\n",
       "  'structure_289',\n",
       "  'structure_290',\n",
       "  'structure_294',\n",
       "  'structure_295',\n",
       "  'structure_296',\n",
       "  'structure_297',\n",
       "  'structure_298',\n",
       "  'structure_299',\n",
       "  'structure_300',\n",
       "  'structure_301',\n",
       "  'structure_302',\n",
       "  'structure_303',\n",
       "  'structure_304',\n",
       "  'structure_305',\n",
       "  'structure_308',\n",
       "  'structure_309',\n",
       "  'structure_310',\n",
       "  'structure_312',\n",
       "  'structure_313',\n",
       "  'structure_314',\n",
       "  'structure_315',\n",
       "  'structure_316',\n",
       "  'structure_317',\n",
       "  'structure_318',\n",
       "  'structure_319',\n",
       "  'structure_321',\n",
       "  'structure_323',\n",
       "  'structure_324',\n",
       "  'structure_325',\n",
       "  'structure_327',\n",
       "  'structure_328',\n",
       "  'structure_329',\n",
       "  'structure_330',\n",
       "  'structure_331',\n",
       "  'structure_332',\n",
       "  'structure_333',\n",
       "  'structure_334',\n",
       "  'structure_335',\n",
       "  'structure_336',\n",
       "  'structure_337',\n",
       "  'structure_338',\n",
       "  'structure_339',\n",
       "  'structure_340',\n",
       "  'structure_342',\n",
       "  'structure_343',\n",
       "  'structure_344',\n",
       "  'structure_346',\n",
       "  'structure_347',\n",
       "  'structure_348',\n",
       "  'structure_349',\n",
       "  'structure_350',\n",
       "  'structure_351',\n",
       "  'structure_352',\n",
       "  'structure_353',\n",
       "  'structure_354',\n",
       "  'structure_355',\n",
       "  'structure_356',\n",
       "  'structure_357',\n",
       "  'structure_358',\n",
       "  'structure_359',\n",
       "  'structure_360',\n",
       "  'structure_361',\n",
       "  'structure_362',\n",
       "  'structure_363',\n",
       "  'structure_365',\n",
       "  'structure_366',\n",
       "  'structure_367',\n",
       "  'structure_368',\n",
       "  'structure_369',\n",
       "  'structure_370',\n",
       "  'structure_371',\n",
       "  'structure_372',\n",
       "  'structure_373',\n",
       "  'structure_375',\n",
       "  'structure_376',\n",
       "  'structure_377',\n",
       "  'structure_378',\n",
       "  'structure_379',\n",
       "  'structure_380',\n",
       "  'structure_382',\n",
       "  'structure_384',\n",
       "  'structure_385',\n",
       "  'structure_386',\n",
       "  'structure_388',\n",
       "  'structure_391',\n",
       "  'structure_392',\n",
       "  'structure_393',\n",
       "  'structure_394',\n",
       "  'structure_395',\n",
       "  'structure_396',\n",
       "  'structure_397',\n",
       "  'structure_398',\n",
       "  'structure_399',\n",
       "  'structure_400',\n",
       "  'structure_403',\n",
       "  'structure_405',\n",
       "  'structure_406',\n",
       "  'structure_407',\n",
       "  'structure_408',\n",
       "  'structure_409',\n",
       "  'structure_410',\n",
       "  'structure_411',\n",
       "  'structure_412',\n",
       "  'structure_413',\n",
       "  'structure_414',\n",
       "  'structure_415',\n",
       "  'structure_416',\n",
       "  'structure_417',\n",
       "  'structure_418',\n",
       "  'structure_419',\n",
       "  'structure_420',\n",
       "  'structure_421',\n",
       "  'structure_422',\n",
       "  'structure_423',\n",
       "  'structure_424',\n",
       "  'structure_425',\n",
       "  'structure_426',\n",
       "  'structure_427',\n",
       "  'structure_428',\n",
       "  'structure_429',\n",
       "  'structure_430',\n",
       "  'structure_431',\n",
       "  'structure_432',\n",
       "  'structure_433',\n",
       "  'structure_434',\n",
       "  'structure_436',\n",
       "  'structure_437',\n",
       "  'structure_438',\n",
       "  'structure_441',\n",
       "  'structure_442',\n",
       "  'structure_443',\n",
       "  'structure_444',\n",
       "  'structure_445',\n",
       "  'structure_446',\n",
       "  'structure_448',\n",
       "  'structure_449',\n",
       "  'structure_450',\n",
       "  'structure_451',\n",
       "  'structure_452',\n",
       "  'structure_453',\n",
       "  'structure_454',\n",
       "  'structure_455',\n",
       "  'structure_456',\n",
       "  'structure_457',\n",
       "  'structure_458',\n",
       "  'structure_459',\n",
       "  'structure_460',\n",
       "  'structure_462',\n",
       "  'structure_463',\n",
       "  'structure_464',\n",
       "  'structure_465',\n",
       "  'structure_467',\n",
       "  'structure_468',\n",
       "  'structure_469',\n",
       "  'structure_470',\n",
       "  'structure_471',\n",
       "  'structure_472',\n",
       "  'structure_476',\n",
       "  'structure_477',\n",
       "  'structure_478',\n",
       "  'structure_479',\n",
       "  'structure_480',\n",
       "  'structure_481',\n",
       "  'structure_482',\n",
       "  'structure_483',\n",
       "  'structure_484',\n",
       "  'structure_485',\n",
       "  'structure_486',\n",
       "  'structure_487',\n",
       "  'structure_488',\n",
       "  'structure_490',\n",
       "  'structure_491',\n",
       "  'structure_492',\n",
       "  'structure_493',\n",
       "  'structure_494',\n",
       "  'structure_496',\n",
       "  'structure_497',\n",
       "  'structure_498',\n",
       "  'structure_499',\n",
       "  'structure_500',\n",
       "  'structure_501',\n",
       "  'structure_502',\n",
       "  'structure_503',\n",
       "  'structure_504',\n",
       "  'structure_505',\n",
       "  'structure_506',\n",
       "  'structure_508',\n",
       "  'structure_509',\n",
       "  'structure_511',\n",
       "  'structure_512',\n",
       "  'structure_513',\n",
       "  'structure_514',\n",
       "  'structure_515',\n",
       "  'structure_516',\n",
       "  'structure_518',\n",
       "  'structure_520',\n",
       "  'structure_522',\n",
       "  'structure_523',\n",
       "  'structure_524',\n",
       "  'structure_525',\n",
       "  'structure_527',\n",
       "  'structure_528',\n",
       "  'structure_529',\n",
       "  'structure_530',\n",
       "  'structure_531',\n",
       "  'structure_532',\n",
       "  'structure_533',\n",
       "  'structure_535',\n",
       "  'structure_536',\n",
       "  'structure_537',\n",
       "  'structure_538',\n",
       "  'structure_539',\n",
       "  'structure_540',\n",
       "  'structure_542',\n",
       "  'structure_543',\n",
       "  'structure_544',\n",
       "  'structure_545',\n",
       "  'structure_546',\n",
       "  'structure_547',\n",
       "  'structure_548',\n",
       "  'structure_549',\n",
       "  'structure_551',\n",
       "  'structure_552',\n",
       "  'structure_553',\n",
       "  'structure_554',\n",
       "  'structure_555',\n",
       "  'structure_556',\n",
       "  'structure_557',\n",
       "  'structure_558',\n",
       "  'structure_559',\n",
       "  'structure_560',\n",
       "  'structure_561',\n",
       "  'structure_562',\n",
       "  'structure_563',\n",
       "  'structure_564',\n",
       "  'structure_565',\n",
       "  'structure_566',\n",
       "  'structure_567',\n",
       "  'structure_568',\n",
       "  'structure_569',\n",
       "  'structure_570',\n",
       "  'structure_571',\n",
       "  'structure_572',\n",
       "  'structure_573',\n",
       "  'structure_574',\n",
       "  'structure_575',\n",
       "  'structure_576',\n",
       "  'structure_577',\n",
       "  'structure_578',\n",
       "  'structure_579',\n",
       "  'structure_582',\n",
       "  'structure_584',\n",
       "  'structure_587',\n",
       "  'structure_588',\n",
       "  'structure_589',\n",
       "  'structure_592',\n",
       "  'structure_593',\n",
       "  'structure_594',\n",
       "  'structure_595',\n",
       "  'structure_596',\n",
       "  'structure_597',\n",
       "  'structure_598',\n",
       "  'structure_599',\n",
       "  'structure_600',\n",
       "  'structure_601',\n",
       "  'structure_602',\n",
       "  'structure_603',\n",
       "  'structure_604',\n",
       "  'structure_605',\n",
       "  'structure_606',\n",
       "  'structure_607',\n",
       "  'structure_608',\n",
       "  'structure_610',\n",
       "  'structure_611',\n",
       "  'structure_612',\n",
       "  'structure_613',\n",
       "  'structure_615',\n",
       "  'structure_616',\n",
       "  'structure_617',\n",
       "  'structure_619',\n",
       "  'structure_620',\n",
       "  'structure_621',\n",
       "  'structure_622',\n",
       "  'structure_623',\n",
       "  'structure_625',\n",
       "  'structure_626',\n",
       "  'structure_628',\n",
       "  'structure_629',\n",
       "  'structure_630',\n",
       "  'structure_632',\n",
       "  'structure_633',\n",
       "  'structure_634',\n",
       "  'structure_635',\n",
       "  'structure_636',\n",
       "  'structure_637',\n",
       "  'structure_639',\n",
       "  'structure_640',\n",
       "  'structure_641',\n",
       "  'structure_642',\n",
       "  'structure_643',\n",
       "  'structure_644',\n",
       "  'structure_645',\n",
       "  'structure_646',\n",
       "  'structure_647',\n",
       "  'structure_648',\n",
       "  'structure_649',\n",
       "  'structure_650',\n",
       "  'structure_651',\n",
       "  'structure_652',\n",
       "  'structure_653',\n",
       "  'structure_654',\n",
       "  'structure_656',\n",
       "  'structure_657',\n",
       "  'structure_658',\n",
       "  'structure_660',\n",
       "  'structure_663',\n",
       "  'structure_664',\n",
       "  'structure_665',\n",
       "  'structure_666',\n",
       "  'structure_667',\n",
       "  'structure_668',\n",
       "  'structure_669',\n",
       "  'structure_670',\n",
       "  'structure_671',\n",
       "  'structure_672',\n",
       "  'structure_673',\n",
       "  'structure_674',\n",
       "  'structure_677',\n",
       "  'structure_678',\n",
       "  'structure_679',\n",
       "  'structure_680',\n",
       "  'structure_681',\n",
       "  'structure_682',\n",
       "  'structure_683',\n",
       "  'structure_684',\n",
       "  'structure_686',\n",
       "  'structure_687',\n",
       "  'structure_688',\n",
       "  'structure_689',\n",
       "  'structure_690',\n",
       "  'structure_691',\n",
       "  'structure_692',\n",
       "  'structure_693',\n",
       "  'structure_694',\n",
       "  'structure_696',\n",
       "  'structure_697',\n",
       "  'structure_698',\n",
       "  'structure_699',\n",
       "  'structure_701',\n",
       "  'structure_702',\n",
       "  'structure_703',\n",
       "  'structure_704',\n",
       "  'structure_705',\n",
       "  'structure_706',\n",
       "  'structure_707',\n",
       "  'structure_708',\n",
       "  'structure_709',\n",
       "  'structure_710',\n",
       "  'structure_711',\n",
       "  'structure_712',\n",
       "  'structure_713',\n",
       "  'structure_714',\n",
       "  'structure_715',\n",
       "  'structure_716',\n",
       "  'structure_717',\n",
       "  'structure_718',\n",
       "  'structure_719',\n",
       "  'structure_720',\n",
       "  'structure_721',\n",
       "  'structure_722',\n",
       "  'structure_723',\n",
       "  'structure_724',\n",
       "  'structure_725',\n",
       "  'structure_726',\n",
       "  'structure_727',\n",
       "  'structure_728',\n",
       "  'structure_729',\n",
       "  'structure_731',\n",
       "  'structure_732',\n",
       "  'structure_733',\n",
       "  'structure_734',\n",
       "  'structure_735',\n",
       "  'structure_736',\n",
       "  'structure_737',\n",
       "  'structure_738',\n",
       "  'structure_739',\n",
       "  'structure_740',\n",
       "  'structure_741',\n",
       "  'structure_743',\n",
       "  'structure_744',\n",
       "  'structure_745',\n",
       "  'structure_746',\n",
       "  'structure_747',\n",
       "  'structure_748',\n",
       "  'structure_749',\n",
       "  'structure_750',\n",
       "  'structure_751',\n",
       "  'structure_752',\n",
       "  'structure_753',\n",
       "  'structure_754',\n",
       "  'structure_756',\n",
       "  'structure_757',\n",
       "  'structure_758',\n",
       "  'structure_759',\n",
       "  'structure_760',\n",
       "  'structure_761',\n",
       "  'structure_762',\n",
       "  'structure_764',\n",
       "  'structure_765',\n",
       "  'structure_766',\n",
       "  'structure_767',\n",
       "  'structure_768',\n",
       "  'structure_769',\n",
       "  'structure_770',\n",
       "  'structure_771',\n",
       "  'structure_773',\n",
       "  'structure_774',\n",
       "  'structure_775',\n",
       "  'structure_776',\n",
       "  'structure_778',\n",
       "  'structure_779',\n",
       "  'structure_780',\n",
       "  'structure_781',\n",
       "  'structure_782',\n",
       "  'structure_783',\n",
       "  'structure_784',\n",
       "  'structure_785',\n",
       "  'structure_786',\n",
       "  'structure_787',\n",
       "  'structure_788',\n",
       "  'structure_790',\n",
       "  'structure_792',\n",
       "  'structure_793',\n",
       "  'structure_794',\n",
       "  'structure_795',\n",
       "  'structure_796',\n",
       "  'structure_797',\n",
       "  'structure_798',\n",
       "  'structure_799',\n",
       "  'structure_800',\n",
       "  'structure_801',\n",
       "  'structure_802',\n",
       "  'structure_803',\n",
       "  'structure_804',\n",
       "  'structure_805',\n",
       "  'structure_806',\n",
       "  'structure_807',\n",
       "  'structure_808',\n",
       "  'structure_809',\n",
       "  'structure_810',\n",
       "  'structure_811',\n",
       "  'structure_812',\n",
       "  'structure_813',\n",
       "  'structure_814',\n",
       "  'structure_815',\n",
       "  'structure_816',\n",
       "  'structure_817',\n",
       "  'structure_818',\n",
       "  'structure_819',\n",
       "  'structure_820',\n",
       "  'structure_821',\n",
       "  'structure_822',\n",
       "  'structure_824',\n",
       "  'structure_825',\n",
       "  'structure_826',\n",
       "  'structure_827',\n",
       "  'structure_828',\n",
       "  'structure_829',\n",
       "  'structure_830',\n",
       "  'structure_831',\n",
       "  'structure_832',\n",
       "  'structure_833',\n",
       "  'structure_834',\n",
       "  'structure_835',\n",
       "  'structure_836',\n",
       "  'structure_837',\n",
       "  'structure_838',\n",
       "  'structure_839',\n",
       "  'structure_841',\n",
       "  'structure_842',\n",
       "  'structure_843',\n",
       "  'structure_844',\n",
       "  'structure_845',\n",
       "  'structure_846',\n",
       "  'structure_847',\n",
       "  'structure_849',\n",
       "  'structure_851',\n",
       "  'structure_852',\n",
       "  'structure_853',\n",
       "  'structure_854',\n",
       "  'structure_855',\n",
       "  'structure_856',\n",
       "  'structure_857',\n",
       "  'structure_859',\n",
       "  'structure_860',\n",
       "  'structure_861',\n",
       "  'structure_862',\n",
       "  'structure_863',\n",
       "  'structure_864',\n",
       "  'structure_865',\n",
       "  'structure_866',\n",
       "  'structure_867',\n",
       "  'structure_868',\n",
       "  'structure_869',\n",
       "  'structure_870',\n",
       "  'structure_872',\n",
       "  'structure_873',\n",
       "  'structure_874',\n",
       "  'structure_876',\n",
       "  'structure_877',\n",
       "  'structure_878',\n",
       "  'structure_879',\n",
       "  'structure_880',\n",
       "  'structure_881',\n",
       "  'structure_882',\n",
       "  'structure_883',\n",
       "  'structure_884',\n",
       "  'structure_885',\n",
       "  'structure_886',\n",
       "  'structure_889',\n",
       "  'structure_890',\n",
       "  'structure_891',\n",
       "  'structure_892',\n",
       "  'structure_893',\n",
       "  'structure_894',\n",
       "  'structure_895',\n",
       "  'structure_896',\n",
       "  'structure_897',\n",
       "  'structure_900',\n",
       "  'structure_901',\n",
       "  'structure_902',\n",
       "  'structure_903',\n",
       "  'structure_905',\n",
       "  'structure_906',\n",
       "  'structure_907',\n",
       "  'structure_908',\n",
       "  'structure_909',\n",
       "  'structure_910',\n",
       "  'structure_911',\n",
       "  'structure_912',\n",
       "  'structure_913',\n",
       "  'structure_914',\n",
       "  'structure_916',\n",
       "  'structure_918',\n",
       "  'structure_919',\n",
       "  'structure_920',\n",
       "  'structure_921',\n",
       "  'structure_923',\n",
       "  'structure_925',\n",
       "  'structure_926',\n",
       "  'structure_927',\n",
       "  'structure_928',\n",
       "  'structure_929',\n",
       "  'structure_930',\n",
       "  'structure_931',\n",
       "  'structure_932',\n",
       "  'structure_933',\n",
       "  'structure_934',\n",
       "  'structure_935',\n",
       "  'structure_936',\n",
       "  'structure_938',\n",
       "  'structure_939',\n",
       "  'structure_940',\n",
       "  'structure_942',\n",
       "  'structure_944',\n",
       "  'structure_945',\n",
       "  'structure_946',\n",
       "  'structure_947',\n",
       "  'structure_948',\n",
       "  'structure_950',\n",
       "  'structure_951',\n",
       "  'structure_952',\n",
       "  'structure_953',\n",
       "  'structure_954',\n",
       "  'structure_956',\n",
       "  'structure_957',\n",
       "  'structure_958',\n",
       "  'structure_959',\n",
       "  'structure_961',\n",
       "  'structure_962',\n",
       "  'structure_963',\n",
       "  'structure_964',\n",
       "  'structure_965',\n",
       "  'structure_967',\n",
       "  'structure_968',\n",
       "  'structure_969',\n",
       "  'structure_970',\n",
       "  'structure_971',\n",
       "  'structure_972',\n",
       "  'structure_973',\n",
       "  'structure_974',\n",
       "  'structure_975',\n",
       "  'structure_976',\n",
       "  'structure_977',\n",
       "  'structure_979',\n",
       "  'structure_980',\n",
       "  'structure_982',\n",
       "  'structure_984',\n",
       "  'structure_985',\n",
       "  'structure_986',\n",
       "  'structure_987',\n",
       "  'structure_988',\n",
       "  'structure_989',\n",
       "  'structure_990',\n",
       "  'structure_991',\n",
       "  'structure_992',\n",
       "  'structure_995',\n",
       "  'structure_996',\n",
       "  'structure_997',\n",
       "  'structure_998',\n",
       "  'structure_999',\n",
       "  'structure_1000',\n",
       "  'structure_1001',\n",
       "  'structure_1002',\n",
       "  'structure_1003',\n",
       "  'structure_1004',\n",
       "  'structure_1005',\n",
       "  'structure_1006',\n",
       "  'structure_1007',\n",
       "  'structure_1008',\n",
       "  'structure_1009',\n",
       "  'structure_1010',\n",
       "  'structure_1011',\n",
       "  'structure_1012',\n",
       "  'structure_1013',\n",
       "  'structure_1014',\n",
       "  'structure_1015',\n",
       "  'structure_1017',\n",
       "  'structure_1018',\n",
       "  'structure_1019',\n",
       "  'structure_1022',\n",
       "  'structure_1023',\n",
       "  'structure_1024',\n",
       "  'structure_1025',\n",
       "  'structure_1027',\n",
       "  'structure_1028',\n",
       "  'structure_1029',\n",
       "  'structure_1030',\n",
       "  'structure_1032',\n",
       "  'structure_1033',\n",
       "  'structure_1035',\n",
       "  'structure_1036',\n",
       "  'structure_1037',\n",
       "  'structure_1038',\n",
       "  'structure_1039',\n",
       "  'structure_1040',\n",
       "  'structure_1041',\n",
       "  'structure_1042',\n",
       "  'structure_1043',\n",
       "  'structure_1045',\n",
       "  'structure_1046',\n",
       "  'structure_1047',\n",
       "  'structure_1048',\n",
       "  'structure_1049',\n",
       "  'structure_1050',\n",
       "  'structure_1051',\n",
       "  'structure_1052',\n",
       "  'structure_1053',\n",
       "  'structure_1054',\n",
       "  'structure_1055',\n",
       "  'structure_1057',\n",
       "  'structure_1058',\n",
       "  'structure_1059',\n",
       "  'structure_1060',\n",
       "  'structure_1061',\n",
       "  'structure_1063',\n",
       "  'structure_1064',\n",
       "  'structure_1065',\n",
       "  'structure_1066',\n",
       "  'structure_1067',\n",
       "  'structure_1068',\n",
       "  'structure_1069',\n",
       "  'structure_1070',\n",
       "  'structure_1071',\n",
       "  'structure_1072',\n",
       "  'structure_1073',\n",
       "  'structure_1074',\n",
       "  'structure_1075',\n",
       "  'structure_1077',\n",
       "  'structure_1078',\n",
       "  'structure_1080',\n",
       "  'structure_1081',\n",
       "  'structure_1082',\n",
       "  'structure_1083',\n",
       "  'structure_1085',\n",
       "  'structure_1086',\n",
       "  'structure_1088',\n",
       "  'structure_1089',\n",
       "  'structure_1090',\n",
       "  'structure_1091',\n",
       "  'structure_1092',\n",
       "  'structure_1094',\n",
       "  'structure_1095',\n",
       "  'structure_1096',\n",
       "  'structure_1098',\n",
       "  'structure_1099',\n",
       "  'structure_1100',\n",
       "  'structure_1101',\n",
       "  'structure_1102',\n",
       "  'structure_1103',\n",
       "  'structure_1104',\n",
       "  'structure_1106',\n",
       "  'structure_1107',\n",
       "  'structure_1108',\n",
       "  'structure_1109',\n",
       "  'structure_1110',\n",
       "  'structure_1112',\n",
       "  'structure_1113',\n",
       "  'structure_1114',\n",
       "  'structure_1115',\n",
       "  'structure_1116',\n",
       "  'structure_1118',\n",
       "  'structure_1119',\n",
       "  'structure_1120',\n",
       "  'structure_1121',\n",
       "  'structure_1122',\n",
       "  'structure_1123',\n",
       "  'structure_1126',\n",
       "  'structure_1127',\n",
       "  'structure_1128',\n",
       "  'structure_1129',\n",
       "  'structure_1132',\n",
       "  'structure_1133',\n",
       "  'structure_1134',\n",
       "  'structure_1135',\n",
       "  'structure_1136',\n",
       "  'structure_1137',\n",
       "  'structure_1138',\n",
       "  'structure_1139',\n",
       "  'structure_1140',\n",
       "  'structure_1141',\n",
       "  'structure_1142',\n",
       "  'structure_1143',\n",
       "  'structure_1144',\n",
       "  'structure_1145',\n",
       "  'structure_1146',\n",
       "  'structure_1147',\n",
       "  'structure_1148',\n",
       "  'structure_1151',\n",
       "  'structure_1152',\n",
       "  'structure_1153',\n",
       "  'structure_1155',\n",
       "  'structure_1156',\n",
       "  'structure_1158',\n",
       "  'structure_1159',\n",
       "  'structure_1160',\n",
       "  'structure_1161',\n",
       "  'structure_1162',\n",
       "  'structure_1163',\n",
       "  'structure_1164',\n",
       "  'structure_1165',\n",
       "  'structure_1167',\n",
       "  'structure_1168',\n",
       "  'structure_1169',\n",
       "  'structure_1170',\n",
       "  'structure_1171',\n",
       "  'structure_1173',\n",
       "  'structure_1174',\n",
       "  'structure_1175',\n",
       "  ...]}"
      ]
     },
     "execution_count": 28,
     "metadata": {},
     "output_type": "execute_result"
    }
   ],
   "source": [
    "validity_filtering_metadata"
   ]
  },
  {
   "cell_type": "code",
   "execution_count": 65,
   "id": "9b6c411d-23e6-43ac-8fc4-c07a304b9e98",
   "metadata": {
    "scrolled": true
   },
   "outputs": [],
   "source": [
    "# Imports\n",
    "from pymatgen.core import Structure\n",
    "from pymatgen.analysis.bond_valence import calculate_bv_sum\n",
    "\n",
    "def bvs_calculator(structure):\n",
    "    # Loop through all sites in structure\n",
    "    bv = []\n",
    "    for site in structure.sites:\n",
    "        # Get neighbors of site\n",
    "        nn_list = structure.get_neighbors(site, 4)\n",
    "        # Calculate bond valence sum of site\n",
    "        bvs_value = calculate_bv_sum(site, nn_list)\n",
    "        # Print site specie and bond valence sum\n",
    "        bv.append(bvs_value)\n",
    "        # print(site.specie, bvs_value)\n",
    "    # print(bv)\n",
    "    # print(\"total = \" + str(sum(bv)))\n",
    "    # print(\" \")"
   ]
  },
  {
   "cell_type": "code",
   "execution_count": 67,
   "id": "e0138bc9-ccc0-41aa-be2c-d82e7f5f82ca",
   "metadata": {
    "scrolled": true
   },
   "outputs": [],
   "source": [
    "test_inds = []\n",
    "for ind in range(0,6000):\n",
    "    # print(ind)\n",
    "    try:\n",
    "        bvs_calculator(processed_structures[ind])\n",
    "    except KeyError:\n",
    "        # print(\" \")\n",
    "        test_inds.append(ind) "
   ]
  },
  {
   "cell_type": "code",
   "execution_count": 68,
   "id": "a7f8f714-cf20-434f-8039-44b514e36a06",
   "metadata": {},
   "outputs": [
    {
     "name": "stdout",
     "output_type": "stream",
     "text": [
      "618\n"
     ]
    }
   ],
   "source": [
    "print(len(test_inds))"
   ]
  },
  {
   "cell_type": "code",
   "execution_count": 62,
   "id": "52c973f7-09c5-4701-a844-d263b08b9396",
   "metadata": {},
   "outputs": [
    {
     "name": "stdout",
     "output_type": "stream",
     "text": [
      "Ru 0.03925888490038114\n",
      "Ru 0.03925888490038116\n"
     ]
    },
    {
     "ename": "KeyError",
     "evalue": "Element Tc",
     "output_type": "error",
     "traceback": [
      "\u001b[31m---------------------------------------------------------------------------\u001b[39m",
      "\u001b[31mKeyError\u001b[39m                                  Traceback (most recent call last)",
      "\u001b[36mCell\u001b[39m\u001b[36m \u001b[39m\u001b[32mIn[62]\u001b[39m\u001b[32m, line 1\u001b[39m\n\u001b[32m----> \u001b[39m\u001b[32m1\u001b[39m \u001b[43mbvs_calculator\u001b[49m\u001b[43m(\u001b[49m\u001b[43mprocessed_structures\u001b[49m\u001b[43m[\u001b[49m\u001b[32;43m435\u001b[39;49m\u001b[43m]\u001b[49m\u001b[43m)\u001b[49m\n",
      "\u001b[36mCell\u001b[39m\u001b[36m \u001b[39m\u001b[32mIn[60]\u001b[39m\u001b[32m, line 12\u001b[39m, in \u001b[36mbvs_calculator\u001b[39m\u001b[34m(structure)\u001b[39m\n\u001b[32m     10\u001b[39m nn_list = structure.get_neighbors(site, \u001b[32m4\u001b[39m)\n\u001b[32m     11\u001b[39m \u001b[38;5;66;03m# Calculate bond valence sum of site\u001b[39;00m\n\u001b[32m---> \u001b[39m\u001b[32m12\u001b[39m bvs_value = \u001b[43mcalculate_bv_sum\u001b[49m\u001b[43m(\u001b[49m\u001b[43msite\u001b[49m\u001b[43m,\u001b[49m\u001b[43m \u001b[49m\u001b[43mnn_list\u001b[49m\u001b[43m)\u001b[49m\n\u001b[32m     13\u001b[39m \u001b[38;5;66;03m# Print site specie and bond valence sum\u001b[39;00m\n\u001b[32m     14\u001b[39m bv.append(bvs_value)\n",
      "\u001b[36mFile \u001b[39m\u001b[32m~\\lemat-genbench\\.venv\\Lib\\site-packages\\pymatgen\\analysis\\bond_valence.py:54\u001b[39m, in \u001b[36mcalculate_bv_sum\u001b[39m\u001b[34m(site, nn_list, scale_factor)\u001b[39m\n\u001b[32m     52\u001b[39m el2 = Element(nn.specie.symbol)\n\u001b[32m     53\u001b[39m \u001b[38;5;28;01mif\u001b[39;00m (el1 \u001b[38;5;129;01min\u001b[39;00m ELECTRONEG \u001b[38;5;129;01mor\u001b[39;00m el2 \u001b[38;5;129;01min\u001b[39;00m ELECTRONEG) \u001b[38;5;129;01mand\u001b[39;00m el1 != el2:\n\u001b[32m---> \u001b[39m\u001b[32m54\u001b[39m     r1 = \u001b[43mBV_PARAMS\u001b[49m\u001b[43m[\u001b[49m\u001b[43mel1\u001b[49m\u001b[43m]\u001b[49m[\u001b[33m\"\u001b[39m\u001b[33mr\u001b[39m\u001b[33m\"\u001b[39m]\n\u001b[32m     55\u001b[39m     r2 = BV_PARAMS[el2][\u001b[33m\"\u001b[39m\u001b[33mr\u001b[39m\u001b[33m\"\u001b[39m]\n\u001b[32m     56\u001b[39m     c1 = BV_PARAMS[el1][\u001b[33m\"\u001b[39m\u001b[33mc\u001b[39m\u001b[33m\"\u001b[39m]\n",
      "\u001b[31mKeyError\u001b[39m: Element Tc"
     ]
    }
   ],
   "source": [
    "bvs_calculator(processed_structures[435])"
   ]
  },
  {
   "cell_type": "code",
   "execution_count": 40,
   "id": "4973fe80-2a8e-4b62-bf58-8b626c85f8f6",
   "metadata": {
    "scrolled": true
   },
   "outputs": [
    {
     "data": {
      "text/plain": [
       "[5,\n",
       " 13,\n",
       " 18,\n",
       " 23,\n",
       " 80,\n",
       " 97,\n",
       " 134,\n",
       " 220,\n",
       " 273,\n",
       " 320,\n",
       " 322,\n",
       " 341,\n",
       " 387,\n",
       " 435,\n",
       " 440,\n",
       " 475,\n",
       " 517,\n",
       " 519,\n",
       " 526,\n",
       " 618,\n",
       " 655,\n",
       " 742,\n",
       " 763,\n",
       " 772,\n",
       " 850,\n",
       " 871,\n",
       " 898,\n",
       " 955,\n",
       " 960,\n",
       " 966,\n",
       " 978,\n",
       " 983,\n",
       " 1150,\n",
       " 1184,\n",
       " 1187,\n",
       " 1231,\n",
       " 1233,\n",
       " 1274,\n",
       " 1284,\n",
       " 1338,\n",
       " 1370,\n",
       " 1377,\n",
       " 1458,\n",
       " 1542,\n",
       " 1578,\n",
       " 1582,\n",
       " 1590,\n",
       " 1618,\n",
       " 1623,\n",
       " 1633,\n",
       " 1809,\n",
       " 1833,\n",
       " 1850,\n",
       " 1865,\n",
       " 1872,\n",
       " 1925,\n",
       " 1980,\n",
       " 2018,\n",
       " 2073,\n",
       " 2087,\n",
       " 2106,\n",
       " 2119,\n",
       " 2139,\n",
       " 2195,\n",
       " 2210,\n",
       " 2261,\n",
       " 2316,\n",
       " 2343,\n",
       " 2368,\n",
       " 2429,\n",
       " 2649,\n",
       " 2655,\n",
       " 2681,\n",
       " 2686,\n",
       " 2701,\n",
       " 2735,\n",
       " 2749,\n",
       " 2756,\n",
       " 2775,\n",
       " 2796,\n",
       " 2834,\n",
       " 2919,\n",
       " 3021,\n",
       " 3045,\n",
       " 3048,\n",
       " 3112,\n",
       " 3120,\n",
       " 3138,\n",
       " 3153,\n",
       " 3179,\n",
       " 3185,\n",
       " 3246,\n",
       " 3256,\n",
       " 3281,\n",
       " 3284,\n",
       " 3347,\n",
       " 3374,\n",
       " 3409,\n",
       " 3465,\n",
       " 3477,\n",
       " 3545,\n",
       " 3551,\n",
       " 3661,\n",
       " 3675,\n",
       " 3680,\n",
       " 3710,\n",
       " 3778,\n",
       " 3779,\n",
       " 3976,\n",
       " 4011,\n",
       " 4034,\n",
       " 4109,\n",
       " 4110,\n",
       " 4140,\n",
       " 4195,\n",
       " 4199,\n",
       " 4216,\n",
       " 4231,\n",
       " 4239,\n",
       " 4242,\n",
       " 4250,\n",
       " 4269,\n",
       " 4315,\n",
       " 4350,\n",
       " 4352,\n",
       " 4419,\n",
       " 4443,\n",
       " 4458,\n",
       " 4481,\n",
       " 4552,\n",
       " 4611,\n",
       " 4615,\n",
       " 4625,\n",
       " 4661,\n",
       " 4730,\n",
       " 4743,\n",
       " 4747,\n",
       " 4748,\n",
       " 4761,\n",
       " 4762,\n",
       " 4884,\n",
       " 4915,\n",
       " 4926,\n",
       " 4952,\n",
       " 4981,\n",
       " 4997,\n",
       " 5055,\n",
       " 5112,\n",
       " 5121,\n",
       " 5133,\n",
       " 5145,\n",
       " 5242,\n",
       " 5246,\n",
       " 5296,\n",
       " 5317,\n",
       " 5343,\n",
       " 5414,\n",
       " 5424,\n",
       " 5466,\n",
       " 5497,\n",
       " 5523,\n",
       " 5576,\n",
       " 5744,\n",
       " 5806,\n",
       " 5862,\n",
       " 5874,\n",
       " 5875,\n",
       " 5902,\n",
       " 5911,\n",
       " 5948]"
      ]
     },
     "execution_count": 40,
     "metadata": {},
     "output_type": "execute_result"
    }
   ],
   "source": [
    "test_inds"
   ]
  },
  {
   "cell_type": "code",
   "execution_count": 41,
   "id": "3fbd5dc9-80c2-4b78-a663-64b624ac6c07",
   "metadata": {
    "scrolled": true
   },
   "outputs": [
    {
     "data": {
      "text/plain": [
       "[5,\n",
       " 7,\n",
       " 13,\n",
       " 18,\n",
       " 23,\n",
       " 35,\n",
       " 45,\n",
       " 46,\n",
       " 70,\n",
       " 77,\n",
       " 78,\n",
       " 80,\n",
       " 89,\n",
       " 96,\n",
       " 97,\n",
       " 104,\n",
       " 106,\n",
       " 134,\n",
       " 145,\n",
       " 160,\n",
       " 161,\n",
       " 166,\n",
       " 169,\n",
       " 171,\n",
       " 174,\n",
       " 180,\n",
       " 182,\n",
       " 188,\n",
       " 191,\n",
       " 194,\n",
       " 195,\n",
       " 203,\n",
       " 211,\n",
       " 220,\n",
       " 222,\n",
       " 223,\n",
       " 228,\n",
       " 238,\n",
       " 242,\n",
       " 251,\n",
       " 255,\n",
       " 263,\n",
       " 273,\n",
       " 276,\n",
       " 277,\n",
       " 278,\n",
       " 280,\n",
       " 288,\n",
       " 291,\n",
       " 292,\n",
       " 293,\n",
       " 306,\n",
       " 307,\n",
       " 311,\n",
       " 320,\n",
       " 322,\n",
       " 326,\n",
       " 341,\n",
       " 345,\n",
       " 364,\n",
       " 374,\n",
       " 381,\n",
       " 383,\n",
       " 387,\n",
       " 389,\n",
       " 390,\n",
       " 401,\n",
       " 402,\n",
       " 404,\n",
       " 435,\n",
       " 439,\n",
       " 440,\n",
       " 447,\n",
       " 461,\n",
       " 466,\n",
       " 473,\n",
       " 474,\n",
       " 475,\n",
       " 489,\n",
       " 495,\n",
       " 507,\n",
       " 510,\n",
       " 517,\n",
       " 519,\n",
       " 521,\n",
       " 526,\n",
       " 534,\n",
       " 541,\n",
       " 550,\n",
       " 580,\n",
       " 581,\n",
       " 583,\n",
       " 585,\n",
       " 586,\n",
       " 590,\n",
       " 591,\n",
       " 609,\n",
       " 614,\n",
       " 618,\n",
       " 624,\n",
       " 627,\n",
       " 631,\n",
       " 638,\n",
       " 655,\n",
       " 659,\n",
       " 661,\n",
       " 662,\n",
       " 675,\n",
       " 676,\n",
       " 685,\n",
       " 695,\n",
       " 700,\n",
       " 730,\n",
       " 742,\n",
       " 755,\n",
       " 763,\n",
       " 772,\n",
       " 777,\n",
       " 789,\n",
       " 791,\n",
       " 823,\n",
       " 840,\n",
       " 848,\n",
       " 850,\n",
       " 858,\n",
       " 871,\n",
       " 875,\n",
       " 887,\n",
       " 888,\n",
       " 898,\n",
       " 899,\n",
       " 904,\n",
       " 915,\n",
       " 917,\n",
       " 922,\n",
       " 924,\n",
       " 937,\n",
       " 941,\n",
       " 943,\n",
       " 949,\n",
       " 955,\n",
       " 960,\n",
       " 966,\n",
       " 978,\n",
       " 981,\n",
       " 983,\n",
       " 993,\n",
       " 994,\n",
       " 1016,\n",
       " 1020,\n",
       " 1021,\n",
       " 1026,\n",
       " 1031,\n",
       " 1034,\n",
       " 1044,\n",
       " 1056,\n",
       " 1062,\n",
       " 1076,\n",
       " 1079,\n",
       " 1084,\n",
       " 1087,\n",
       " 1093,\n",
       " 1097,\n",
       " 1105,\n",
       " 1111,\n",
       " 1117,\n",
       " 1124,\n",
       " 1125,\n",
       " 1130,\n",
       " 1131,\n",
       " 1149,\n",
       " 1150,\n",
       " 1154,\n",
       " 1157,\n",
       " 1166,\n",
       " 1172,\n",
       " 1179,\n",
       " 1184,\n",
       " 1186,\n",
       " 1187,\n",
       " 1204,\n",
       " 1215,\n",
       " 1220,\n",
       " 1231,\n",
       " 1232,\n",
       " 1233,\n",
       " 1237,\n",
       " 1254,\n",
       " 1266,\n",
       " 1267,\n",
       " 1274,\n",
       " 1280,\n",
       " 1284,\n",
       " 1292,\n",
       " 1302,\n",
       " 1318,\n",
       " 1321,\n",
       " 1324,\n",
       " 1326,\n",
       " 1338,\n",
       " 1368,\n",
       " 1370,\n",
       " 1377,\n",
       " 1382,\n",
       " 1395,\n",
       " 1397,\n",
       " 1417,\n",
       " 1420,\n",
       " 1421,\n",
       " 1425,\n",
       " 1426,\n",
       " 1430,\n",
       " 1445,\n",
       " 1453,\n",
       " 1458,\n",
       " 1479,\n",
       " 1481,\n",
       " 1482,\n",
       " 1483,\n",
       " 1498,\n",
       " 1504,\n",
       " 1530,\n",
       " 1531,\n",
       " 1532,\n",
       " 1536,\n",
       " 1541,\n",
       " 1542,\n",
       " 1543,\n",
       " 1548,\n",
       " 1552,\n",
       " 1578,\n",
       " 1582,\n",
       " 1586,\n",
       " 1590,\n",
       " 1603,\n",
       " 1618,\n",
       " 1623,\n",
       " 1633,\n",
       " 1634,\n",
       " 1639,\n",
       " 1640,\n",
       " 1658,\n",
       " 1663,\n",
       " 1669,\n",
       " 1676,\n",
       " 1703,\n",
       " 1716,\n",
       " 1720,\n",
       " 1735,\n",
       " 1753,\n",
       " 1754,\n",
       " 1755,\n",
       " 1767,\n",
       " 1768,\n",
       " 1771,\n",
       " 1772,\n",
       " 1788,\n",
       " 1791,\n",
       " 1792,\n",
       " 1799,\n",
       " 1809,\n",
       " 1815,\n",
       " 1817,\n",
       " 1833,\n",
       " 1849,\n",
       " 1850,\n",
       " 1856,\n",
       " 1857,\n",
       " 1865,\n",
       " 1872,\n",
       " 1878,\n",
       " 1880,\n",
       " 1896,\n",
       " 1899,\n",
       " 1925,\n",
       " 1945,\n",
       " 1957,\n",
       " 1959,\n",
       " 1966,\n",
       " 1980,\n",
       " 1990,\n",
       " 1998,\n",
       " 2000,\n",
       " 2008,\n",
       " 2011,\n",
       " 2012,\n",
       " 2018,\n",
       " 2022,\n",
       " 2027,\n",
       " 2032,\n",
       " 2039,\n",
       " 2041,\n",
       " 2044,\n",
       " 2048,\n",
       " 2055,\n",
       " 2060,\n",
       " 2065,\n",
       " 2073,\n",
       " 2075,\n",
       " 2087,\n",
       " 2097,\n",
       " 2100,\n",
       " 2101,\n",
       " 2102,\n",
       " 2103,\n",
       " 2106,\n",
       " 2119,\n",
       " 2122,\n",
       " 2125,\n",
       " 2126,\n",
       " 2130,\n",
       " 2139,\n",
       " 2147,\n",
       " 2148,\n",
       " 2150,\n",
       " 2151,\n",
       " 2157,\n",
       " 2162,\n",
       " 2168,\n",
       " 2192,\n",
       " 2195,\n",
       " 2197,\n",
       " 2203,\n",
       " 2209,\n",
       " 2210,\n",
       " 2237,\n",
       " 2240,\n",
       " 2244,\n",
       " 2245,\n",
       " 2260,\n",
       " 2261,\n",
       " 2268,\n",
       " 2293,\n",
       " 2314,\n",
       " 2316,\n",
       " 2335,\n",
       " 2338,\n",
       " 2343,\n",
       " 2365,\n",
       " 2368,\n",
       " 2386,\n",
       " 2387,\n",
       " 2389,\n",
       " 2391,\n",
       " 2401,\n",
       " 2405,\n",
       " 2410,\n",
       " 2417,\n",
       " 2427,\n",
       " 2429,\n",
       " 2442,\n",
       " 2444,\n",
       " 2459,\n",
       " 2461,\n",
       " 2463,\n",
       " 2470,\n",
       " 2480,\n",
       " 2486,\n",
       " 2492,\n",
       " 2506,\n",
       " 2510,\n",
       " 2522,\n",
       " 2525,\n",
       " 2527,\n",
       " 2528,\n",
       " 2532,\n",
       " 2543,\n",
       " 2548,\n",
       " 2560,\n",
       " 2582,\n",
       " 2585,\n",
       " 2591,\n",
       " 2611,\n",
       " 2615,\n",
       " 2632,\n",
       " 2636,\n",
       " 2649,\n",
       " 2655,\n",
       " 2656,\n",
       " 2672,\n",
       " 2681,\n",
       " 2686,\n",
       " 2688,\n",
       " 2689,\n",
       " 2695,\n",
       " 2701,\n",
       " 2702,\n",
       " 2709,\n",
       " 2726,\n",
       " 2735,\n",
       " 2740,\n",
       " 2749,\n",
       " 2751,\n",
       " 2754,\n",
       " 2756,\n",
       " 2759,\n",
       " 2761,\n",
       " 2762,\n",
       " 2766,\n",
       " 2770,\n",
       " 2773,\n",
       " 2775,\n",
       " 2776,\n",
       " 2782,\n",
       " 2796,\n",
       " 2802,\n",
       " 2810,\n",
       " 2823,\n",
       " 2824,\n",
       " 2825,\n",
       " 2834,\n",
       " 2848,\n",
       " 2850,\n",
       " 2851,\n",
       " 2862,\n",
       " 2865,\n",
       " 2882,\n",
       " 2883,\n",
       " 2896,\n",
       " 2899,\n",
       " 2913,\n",
       " 2916,\n",
       " 2919,\n",
       " 2920,\n",
       " 2924,\n",
       " 2926,\n",
       " 2938,\n",
       " 2954,\n",
       " 2962,\n",
       " 2979,\n",
       " 2982,\n",
       " 2984,\n",
       " 2987,\n",
       " 2996,\n",
       " 3005,\n",
       " 3021,\n",
       " 3025,\n",
       " 3032,\n",
       " 3045,\n",
       " 3048,\n",
       " 3068,\n",
       " 3076,\n",
       " 3084,\n",
       " 3087,\n",
       " 3098,\n",
       " 3099,\n",
       " 3101,\n",
       " 3106,\n",
       " 3112,\n",
       " 3120,\n",
       " 3138,\n",
       " 3143,\n",
       " 3151,\n",
       " 3153,\n",
       " 3158,\n",
       " 3161,\n",
       " 3179,\n",
       " 3184,\n",
       " 3185,\n",
       " 3187,\n",
       " 3193,\n",
       " 3196,\n",
       " 3208,\n",
       " 3212,\n",
       " 3226,\n",
       " 3228,\n",
       " 3246,\n",
       " 3249,\n",
       " 3250,\n",
       " 3253,\n",
       " 3254,\n",
       " 3256,\n",
       " 3258,\n",
       " 3262,\n",
       " 3267,\n",
       " 3272,\n",
       " 3280,\n",
       " 3281,\n",
       " 3282,\n",
       " 3284,\n",
       " 3290,\n",
       " 3301,\n",
       " 3303,\n",
       " 3311,\n",
       " 3315,\n",
       " 3328,\n",
       " 3331,\n",
       " 3347,\n",
       " 3348,\n",
       " 3354,\n",
       " 3358,\n",
       " 3360,\n",
       " 3374,\n",
       " 3380,\n",
       " 3391,\n",
       " 3396,\n",
       " 3398,\n",
       " 3408,\n",
       " 3409,\n",
       " 3415,\n",
       " 3426,\n",
       " 3434,\n",
       " 3437,\n",
       " 3441,\n",
       " 3456,\n",
       " 3458,\n",
       " 3463,\n",
       " 3464,\n",
       " 3465,\n",
       " 3467,\n",
       " 3477,\n",
       " 3480,\n",
       " 3492,\n",
       " 3513,\n",
       " 3515,\n",
       " 3518,\n",
       " 3532,\n",
       " 3533,\n",
       " 3545,\n",
       " 3551,\n",
       " 3563,\n",
       " 3568,\n",
       " 3581,\n",
       " 3591,\n",
       " 3592,\n",
       " 3594,\n",
       " 3598,\n",
       " 3600,\n",
       " 3602,\n",
       " 3603,\n",
       " 3604,\n",
       " 3628,\n",
       " 3629,\n",
       " 3646,\n",
       " 3661,\n",
       " 3668,\n",
       " 3675,\n",
       " 3676,\n",
       " 3680,\n",
       " 3690,\n",
       " 3697,\n",
       " 3707,\n",
       " 3710,\n",
       " 3735,\n",
       " 3741,\n",
       " 3742,\n",
       " 3749,\n",
       " 3759,\n",
       " 3770,\n",
       " 3778,\n",
       " 3779,\n",
       " 3785,\n",
       " 3790,\n",
       " 3801,\n",
       " 3817,\n",
       " 3821,\n",
       " 3851,\n",
       " 3863,\n",
       " 3869,\n",
       " 3878,\n",
       " 3880,\n",
       " 3887,\n",
       " 3892,\n",
       " 3897,\n",
       " 3900,\n",
       " 3929,\n",
       " 3939,\n",
       " 3944,\n",
       " 3959,\n",
       " 3963,\n",
       " 3966,\n",
       " 3967,\n",
       " 3976,\n",
       " 3977,\n",
       " 3988,\n",
       " 3989,\n",
       " 3999,\n",
       " 4007,\n",
       " 4011,\n",
       " 4012,\n",
       " 4017,\n",
       " 4019,\n",
       " 4030,\n",
       " 4034,\n",
       " 4035,\n",
       " 4052,\n",
       " 4056,\n",
       " 4066,\n",
       " 4067,\n",
       " 4069,\n",
       " 4082,\n",
       " 4109,\n",
       " 4110,\n",
       " 4111,\n",
       " 4127,\n",
       " 4130,\n",
       " 4131,\n",
       " 4134,\n",
       " 4140,\n",
       " 4149,\n",
       " 4157,\n",
       " 4160,\n",
       " 4167,\n",
       " 4188,\n",
       " 4195,\n",
       " 4197,\n",
       " 4198,\n",
       " 4199,\n",
       " 4215,\n",
       " 4216,\n",
       " 4231,\n",
       " 4234,\n",
       " 4237,\n",
       " 4239,\n",
       " 4241,\n",
       " 4242,\n",
       " 4247,\n",
       " 4250,\n",
       " 4257,\n",
       " 4268,\n",
       " 4269,\n",
       " 4272,\n",
       " 4315,\n",
       " 4330,\n",
       " 4334,\n",
       " 4335,\n",
       " 4336,\n",
       " 4338,\n",
       " 4342,\n",
       " 4350,\n",
       " 4352,\n",
       " 4357,\n",
       " 4359,\n",
       " 4374,\n",
       " 4385,\n",
       " 4390,\n",
       " 4398,\n",
       " 4419,\n",
       " 4424,\n",
       " 4425,\n",
       " 4426,\n",
       " 4437,\n",
       " 4440,\n",
       " 4443,\n",
       " 4458,\n",
       " 4464,\n",
       " 4465,\n",
       " 4470,\n",
       " 4478,\n",
       " 4481,\n",
       " 4487,\n",
       " 4490,\n",
       " 4495,\n",
       " 4519,\n",
       " 4552,\n",
       " 4553,\n",
       " 4565,\n",
       " 4568,\n",
       " 4589,\n",
       " 4592,\n",
       " 4601,\n",
       " 4611,\n",
       " 4615,\n",
       " 4625,\n",
       " 4628,\n",
       " 4640,\n",
       " 4645,\n",
       " 4647,\n",
       " 4661,\n",
       " 4662,\n",
       " 4666,\n",
       " 4669,\n",
       " 4686,\n",
       " 4693,\n",
       " 4700,\n",
       " 4712,\n",
       " 4713,\n",
       " 4722,\n",
       " 4730,\n",
       " 4735,\n",
       " 4738,\n",
       " 4743,\n",
       " 4744,\n",
       " 4747,\n",
       " 4748,\n",
       " 4749,\n",
       " 4759,\n",
       " 4760,\n",
       " 4761,\n",
       " 4762,\n",
       " 4775,\n",
       " 4784,\n",
       " 4793,\n",
       " 4794,\n",
       " 4807,\n",
       " 4818,\n",
       " 4820,\n",
       " 4825,\n",
       " 4843,\n",
       " 4864,\n",
       " 4865,\n",
       " 4867,\n",
       " 4870,\n",
       " 4873,\n",
       " 4884,\n",
       " 4897,\n",
       " 4905,\n",
       " 4908,\n",
       " 4914,\n",
       " 4915,\n",
       " 4926,\n",
       " 4939,\n",
       " 4949,\n",
       " 4952,\n",
       " 4959,\n",
       " 4960,\n",
       " 4972,\n",
       " 4979,\n",
       " 4981,\n",
       " 4988,\n",
       " 4993,\n",
       " 4997,\n",
       " 4998,\n",
       " 5007,\n",
       " 5008,\n",
       " 5031,\n",
       " 5046,\n",
       " 5047,\n",
       " 5053,\n",
       " 5055,\n",
       " 5070,\n",
       " 5072,\n",
       " 5078,\n",
       " 5079,\n",
       " 5104,\n",
       " 5106,\n",
       " 5112,\n",
       " 5113,\n",
       " 5121,\n",
       " 5125,\n",
       " 5133,\n",
       " 5139,\n",
       " 5145,\n",
       " 5164,\n",
       " 5169,\n",
       " 5179,\n",
       " 5193,\n",
       " 5214,\n",
       " 5216,\n",
       " 5224,\n",
       " 5228,\n",
       " 5237,\n",
       " 5242,\n",
       " 5243,\n",
       " 5245,\n",
       " 5246,\n",
       " 5253,\n",
       " 5254,\n",
       " 5257,\n",
       " 5267,\n",
       " 5269,\n",
       " 5276,\n",
       " 5280,\n",
       " 5296,\n",
       " 5298,\n",
       " 5301,\n",
       " 5303,\n",
       " 5317,\n",
       " 5326,\n",
       " 5339,\n",
       " 5343,\n",
       " 5345,\n",
       " 5352,\n",
       " 5355,\n",
       " 5360,\n",
       " 5374,\n",
       " 5390,\n",
       " 5395,\n",
       " 5403,\n",
       " 5406,\n",
       " 5414,\n",
       " 5416,\n",
       " 5423,\n",
       " 5424,\n",
       " 5446,\n",
       " 5466,\n",
       " 5467,\n",
       " 5477,\n",
       " 5481,\n",
       " 5483,\n",
       " 5488,\n",
       " 5497,\n",
       " 5516,\n",
       " 5519,\n",
       " 5520,\n",
       " 5523,\n",
       " 5527,\n",
       " 5548,\n",
       " 5552,\n",
       " 5565,\n",
       " 5576,\n",
       " 5587,\n",
       " 5591,\n",
       " 5599,\n",
       " 5600,\n",
       " 5603,\n",
       " 5615,\n",
       " 5630,\n",
       " 5637,\n",
       " 5641,\n",
       " 5646,\n",
       " 5647,\n",
       " 5651,\n",
       " 5653,\n",
       " 5657,\n",
       " 5660,\n",
       " 5666,\n",
       " 5676,\n",
       " 5684,\n",
       " 5689,\n",
       " 5693,\n",
       " 5730,\n",
       " 5744,\n",
       " 5748,\n",
       " 5755,\n",
       " 5771,\n",
       " 5772,\n",
       " 5775,\n",
       " 5778,\n",
       " 5789,\n",
       " 5797,\n",
       " 5799,\n",
       " 5806,\n",
       " 5807,\n",
       " 5810,\n",
       " 5822,\n",
       " 5826,\n",
       " 5836,\n",
       " 5840,\n",
       " 5848,\n",
       " 5856,\n",
       " 5862,\n",
       " 5870,\n",
       " 5874,\n",
       " 5875,\n",
       " 5882,\n",
       " 5893,\n",
       " 5902,\n",
       " 5911,\n",
       " 5918,\n",
       " 5923,\n",
       " 5924,\n",
       " 5926,\n",
       " 5929,\n",
       " 5937,\n",
       " 5939,\n",
       " 5942,\n",
       " 5946,\n",
       " 5948,\n",
       " 5949,\n",
       " 5961,\n",
       " 5962,\n",
       " 5972,\n",
       " 5974,\n",
       " 5977,\n",
       " 5980,\n",
       " 5981,\n",
       " 5989,\n",
       " 5996]"
      ]
     },
     "execution_count": 41,
     "metadata": {},
     "output_type": "execute_result"
    }
   ],
   "source": [
    "invalid_indicies"
   ]
  },
  {
   "cell_type": "code",
   "execution_count": null,
   "id": "00559b6d-33ab-4541-bd70-e18f5cbcc365",
   "metadata": {},
   "outputs": [],
   "source": []
  }
 ],
 "metadata": {
  "kernelspec": {
   "display_name": "Python 3 (ipykernel)",
   "language": "python",
   "name": "python3"
  },
  "language_info": {
   "codemirror_mode": {
    "name": "ipython",
    "version": 3
   },
   "file_extension": ".py",
   "mimetype": "text/x-python",
   "name": "python",
   "nbconvert_exporter": "python",
   "pygments_lexer": "ipython3",
   "version": "3.11.11"
  }
 },
 "nbformat": 4,
 "nbformat_minor": 5
}
