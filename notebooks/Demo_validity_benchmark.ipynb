{
 "cells": [
  {
   "cell_type": "code",
   "execution_count": 1,
   "id": "951eb7b9-e8dc-4f32-9bf2-02cd85c2b9dd",
   "metadata": {},
   "outputs": [],
   "source": [
    "from pymatgen.core import Structure\n",
    "\n",
    "from lematerial_forgebench.benchmarks.validity_benchmark import ValidityBenchmark\n",
    "from lematerial_forgebench.metrics.validity_metrics import ChargeNeutralityMetric\n",
    "\n",
    "%load_ext autoreload\n",
    "%autoreload 2"
   ]
  },
  {
   "cell_type": "code",
   "execution_count": 2,
   "id": "810d04bb-9e6f-4dff-baab-5d333390ccc5",
   "metadata": {},
   "outputs": [
    {
     "name": "stdout",
     "output_type": "stream",
     "text": [
      "CoNi.cif\n",
      "Valid structure - Metallic structure with a bond valence equal to zero for all atoms\n",
      "crystal_50.cif\n"
     ]
    },
    {
     "name": "stderr",
     "output_type": "stream",
     "text": [
      "C:\\Users\\samue\\lematerial-forgebench\\.venv\\Lib\\site-packages\\pymatgen\\core\\structure.py:3104: UserWarning: Issues encountered while parsing CIF: 10 fractional coordinates rounded to ideal values to avoid issues with finite precision.\n",
      "  struct = parser.parse_structures(primitive=primitive)[0]\n"
     ]
    },
    {
     "data": {
      "text/html": [
       "<pre style=\"white-space:pre;overflow-x:auto;line-height:normal;font-family:Menlo,'DejaVu Sans Mono',consolas,'Courier New',monospace\"><span style=\"color: #7fbfbf; text-decoration-color: #7fbfbf\">[12:44:46] </span><span style=\"color: #808000; text-decoration-color: #808000\">WARNING </span> the bond valence sum calculation yielded values that were not zero      <a href=\"file://C:\\Users\\samue\\lematerial-forgebench\\src\\lematerial_forgebench\\metrics\\validity_metrics.py\" target=\"_blank\"><span style=\"color: #7f7f7f; text-decoration-color: #7f7f7f\">validity_metrics.py</span></a><span style=\"color: #7f7f7f; text-decoration-color: #7f7f7f\">:</span><a href=\"file://C:\\Users\\samue\\lematerial-forgebench\\src\\lematerial_forgebench\\metrics\\validity_metrics.py#157\" target=\"_blank\"><span style=\"color: #7f7f7f; text-decoration-color: #7f7f7f\">157</span></a>\n",
       "<span style=\"color: #7fbfbf; text-decoration-color: #7fbfbf\">           </span>         meaning this is not predicted to be a metallic structure                <span style=\"color: #7f7f7f; text-decoration-color: #7f7f7f\">                       </span>\n",
       "</pre>\n"
      ],
      "text/plain": [
       "\u001b[2;36m[12:44:46]\u001b[0m\u001b[2;36m \u001b[0m\u001b[33mWARNING \u001b[0m the bond valence sum calculation yielded values that were not zero      \u001b]8;id=755032;file://C:\\Users\\samue\\lematerial-forgebench\\src\\lematerial_forgebench\\metrics\\validity_metrics.py\u001b\\\u001b[2mvalidity_metrics.py\u001b[0m\u001b]8;;\u001b\\\u001b[2m:\u001b[0m\u001b]8;id=203907;file://C:\\Users\\samue\\lematerial-forgebench\\src\\lematerial_forgebench\\metrics\\validity_metrics.py#157\u001b\\\u001b[2m157\u001b[0m\u001b]8;;\u001b\\\n",
       "\u001b[2;36m           \u001b[0m         meaning this is not predicted to be a metallic structure                \u001b[2m                       \u001b[0m\n"
      ]
     },
     "metadata": {},
     "output_type": "display_data"
    },
    {
     "data": {
      "text/html": [
       "<pre style=\"white-space:pre;overflow-x:auto;line-height:normal;font-family:Menlo,'DejaVu Sans Mono',consolas,'Courier New',monospace\"><span style=\"color: #7fbfbf; text-decoration-color: #7fbfbf\">           </span><span style=\"color: #808000; text-decoration-color: #808000\">WARNING </span> Could not determine oxidation states using                              <a href=\"file://C:\\Users\\samue\\lematerial-forgebench\\src\\lematerial_forgebench\\metrics\\validity_metrics.py\" target=\"_blank\"><span style=\"color: #7f7f7f; text-decoration-color: #7f7f7f\">validity_metrics.py</span></a><span style=\"color: #7f7f7f; text-decoration-color: #7f7f7f\">:</span><a href=\"file://C:\\Users\\samue\\lematerial-forgebench\\src\\lematerial_forgebench\\metrics\\validity_metrics.py#180\" target=\"_blank\"><span style=\"color: #7f7f7f; text-decoration-color: #7f7f7f\">180</span></a>\n",
       "<span style=\"color: #7fbfbf; text-decoration-color: #7fbfbf\">           </span>         get_oxi_state_decorated_structure                                       <span style=\"color: #7f7f7f; text-decoration-color: #7f7f7f\">                       </span>\n",
       "</pre>\n"
      ],
      "text/plain": [
       "\u001b[2;36m          \u001b[0m\u001b[2;36m \u001b[0m\u001b[33mWARNING \u001b[0m Could not determine oxidation states using                              \u001b]8;id=728062;file://C:\\Users\\samue\\lematerial-forgebench\\src\\lematerial_forgebench\\metrics\\validity_metrics.py\u001b\\\u001b[2mvalidity_metrics.py\u001b[0m\u001b]8;;\u001b\\\u001b[2m:\u001b[0m\u001b]8;id=222990;file://C:\\Users\\samue\\lematerial-forgebench\\src\\lematerial_forgebench\\metrics\\validity_metrics.py#180\u001b\\\u001b[2m180\u001b[0m\u001b]8;;\u001b\\\n",
       "\u001b[2;36m           \u001b[0m         get_oxi_state_decorated_structure                                       \u001b[2m                       \u001b[0m\n"
      ]
     },
     "metadata": {},
     "output_type": "display_data"
    },
    {
     "name": "stdout",
     "output_type": "stream",
     "text": [
      "Most valid oxidation state and score based on composition {'Ni': (3, 3), 'O': (-2, -2, -2)} 0.5960694271986547\n",
      "NiO.cif\n"
     ]
    },
    {
     "data": {
      "text/html": [
       "<pre style=\"white-space:pre;overflow-x:auto;line-height:normal;font-family:Menlo,'DejaVu Sans Mono',consolas,'Courier New',monospace\"><span style=\"color: #7fbfbf; text-decoration-color: #7fbfbf\">           </span><span style=\"color: #808000; text-decoration-color: #808000\">WARNING </span> the bond valence sum calculation yielded values that were not zero      <a href=\"file://C:\\Users\\samue\\lematerial-forgebench\\src\\lematerial_forgebench\\metrics\\validity_metrics.py\" target=\"_blank\"><span style=\"color: #7f7f7f; text-decoration-color: #7f7f7f\">validity_metrics.py</span></a><span style=\"color: #7f7f7f; text-decoration-color: #7f7f7f\">:</span><a href=\"file://C:\\Users\\samue\\lematerial-forgebench\\src\\lematerial_forgebench\\metrics\\validity_metrics.py#157\" target=\"_blank\"><span style=\"color: #7f7f7f; text-decoration-color: #7f7f7f\">157</span></a>\n",
       "<span style=\"color: #7fbfbf; text-decoration-color: #7fbfbf\">           </span>         meaning this is not predicted to be a metallic structure                <span style=\"color: #7f7f7f; text-decoration-color: #7f7f7f\">                       </span>\n",
       "</pre>\n"
      ],
      "text/plain": [
       "\u001b[2;36m          \u001b[0m\u001b[2;36m \u001b[0m\u001b[33mWARNING \u001b[0m the bond valence sum calculation yielded values that were not zero      \u001b]8;id=903055;file://C:\\Users\\samue\\lematerial-forgebench\\src\\lematerial_forgebench\\metrics\\validity_metrics.py\u001b\\\u001b[2mvalidity_metrics.py\u001b[0m\u001b]8;;\u001b\\\u001b[2m:\u001b[0m\u001b]8;id=225440;file://C:\\Users\\samue\\lematerial-forgebench\\src\\lematerial_forgebench\\metrics\\validity_metrics.py#157\u001b\\\u001b[2m157\u001b[0m\u001b]8;;\u001b\\\n",
       "\u001b[2;36m           \u001b[0m         meaning this is not predicted to be a metallic structure                \u001b[2m                       \u001b[0m\n"
      ]
     },
     "metadata": {},
     "output_type": "display_data"
    },
    {
     "name": "stdout",
     "output_type": "stream",
     "text": [
      "Valid structure - charge balanced based on Pymatgen's get_oxi_state_decorated_structure function, which almost always returns reasonable oxidation states\n"
     ]
    }
   ],
   "source": [
    "for filename in [\"CoNi.cif\", \"crystal_50.cif\", \"NiO.cif\"]:\n",
    "    # metallic structure, GenAI generated structure, and pymatgen metal oxide. All are reasonable compositions\n",
    "    print(filename)\n",
    "    structure = Structure.from_file(filename)\n",
    "    metric = ChargeNeutralityMetric()\n",
    "    metric([structure])"
   ]
  },
  {
   "cell_type": "code",
   "execution_count": 6,
   "id": "4bbb404b-7e2b-4f97-8f54-24ea51949fa6",
   "metadata": {
    "scrolled": true
   },
   "outputs": [
    {
     "name": "stdout",
     "output_type": "stream",
     "text": [
      "Valid structure - Metallic structure with a bond valence equal to zero for all atoms\n"
     ]
    },
    {
     "data": {
      "text/html": [
       "<pre style=\"white-space:pre;overflow-x:auto;line-height:normal;font-family:Menlo,'DejaVu Sans Mono',consolas,'Courier New',monospace\"><span style=\"color: #7fbfbf; text-decoration-color: #7fbfbf\">[15:58:58] </span><span style=\"color: #808000; text-decoration-color: #808000\">WARNING </span> the bond valence sum calculation yielded values that were not zero      <a href=\"file://C:\\Users\\samue\\lematerial-forgebench\\src\\lematerial_forgebench\\metrics\\validity_metrics.py\" target=\"_blank\"><span style=\"color: #7f7f7f; text-decoration-color: #7f7f7f\">validity_metrics.py</span></a><span style=\"color: #7f7f7f; text-decoration-color: #7f7f7f\">:</span><a href=\"file://C:\\Users\\samue\\lematerial-forgebench\\src\\lematerial_forgebench\\metrics\\validity_metrics.py#157\" target=\"_blank\"><span style=\"color: #7f7f7f; text-decoration-color: #7f7f7f\">157</span></a>\n",
       "<span style=\"color: #7fbfbf; text-decoration-color: #7fbfbf\">           </span>         meaning this is not predicted to be a metallic structure                <span style=\"color: #7f7f7f; text-decoration-color: #7f7f7f\">                       </span>\n",
       "</pre>\n"
      ],
      "text/plain": [
       "\u001b[2;36m[15:58:58]\u001b[0m\u001b[2;36m \u001b[0m\u001b[33mWARNING \u001b[0m the bond valence sum calculation yielded values that were not zero      \u001b]8;id=133662;file://C:\\Users\\samue\\lematerial-forgebench\\src\\lematerial_forgebench\\metrics\\validity_metrics.py\u001b\\\u001b[2mvalidity_metrics.py\u001b[0m\u001b]8;;\u001b\\\u001b[2m:\u001b[0m\u001b]8;id=5421;file://C:\\Users\\samue\\lematerial-forgebench\\src\\lematerial_forgebench\\metrics\\validity_metrics.py#157\u001b\\\u001b[2m157\u001b[0m\u001b]8;;\u001b\\\n",
       "\u001b[2;36m           \u001b[0m         meaning this is not predicted to be a metallic structure                \u001b[2m                       \u001b[0m\n"
      ]
     },
     "metadata": {},
     "output_type": "display_data"
    },
    {
     "data": {
      "text/html": [
       "<pre style=\"white-space:pre;overflow-x:auto;line-height:normal;font-family:Menlo,'DejaVu Sans Mono',consolas,'Courier New',monospace\"><span style=\"color: #7fbfbf; text-decoration-color: #7fbfbf\">           </span><span style=\"color: #808000; text-decoration-color: #808000\">WARNING </span> Could not determine oxidation states using                              <a href=\"file://C:\\Users\\samue\\lematerial-forgebench\\src\\lematerial_forgebench\\metrics\\validity_metrics.py\" target=\"_blank\"><span style=\"color: #7f7f7f; text-decoration-color: #7f7f7f\">validity_metrics.py</span></a><span style=\"color: #7f7f7f; text-decoration-color: #7f7f7f\">:</span><a href=\"file://C:\\Users\\samue\\lematerial-forgebench\\src\\lematerial_forgebench\\metrics\\validity_metrics.py#180\" target=\"_blank\"><span style=\"color: #7f7f7f; text-decoration-color: #7f7f7f\">180</span></a>\n",
       "<span style=\"color: #7fbfbf; text-decoration-color: #7fbfbf\">           </span>         get_oxi_state_decorated_structure                                       <span style=\"color: #7f7f7f; text-decoration-color: #7f7f7f\">                       </span>\n",
       "</pre>\n"
      ],
      "text/plain": [
       "\u001b[2;36m          \u001b[0m\u001b[2;36m \u001b[0m\u001b[33mWARNING \u001b[0m Could not determine oxidation states using                              \u001b]8;id=2149;file://C:\\Users\\samue\\lematerial-forgebench\\src\\lematerial_forgebench\\metrics\\validity_metrics.py\u001b\\\u001b[2mvalidity_metrics.py\u001b[0m\u001b]8;;\u001b\\\u001b[2m:\u001b[0m\u001b]8;id=820606;file://C:\\Users\\samue\\lematerial-forgebench\\src\\lematerial_forgebench\\metrics\\validity_metrics.py#180\u001b\\\u001b[2m180\u001b[0m\u001b]8;;\u001b\\\n",
       "\u001b[2;36m           \u001b[0m         get_oxi_state_decorated_structure                                       \u001b[2m                       \u001b[0m\n"
      ]
     },
     "metadata": {},
     "output_type": "display_data"
    },
    {
     "name": "stdout",
     "output_type": "stream",
     "text": [
      "Most valid oxidation state and score based on composition {'Ni': (3, 3), 'O': (-2, -2, -2)} 0.5960694271986547\n"
     ]
    },
    {
     "data": {
      "text/html": [
       "<pre style=\"white-space:pre;overflow-x:auto;line-height:normal;font-family:Menlo,'DejaVu Sans Mono',consolas,'Courier New',monospace\"><span style=\"color: #7fbfbf; text-decoration-color: #7fbfbf\">           </span><span style=\"color: #808000; text-decoration-color: #808000\">WARNING </span> the bond valence sum calculation yielded values that were not zero      <a href=\"file://C:\\Users\\samue\\lematerial-forgebench\\src\\lematerial_forgebench\\metrics\\validity_metrics.py\" target=\"_blank\"><span style=\"color: #7f7f7f; text-decoration-color: #7f7f7f\">validity_metrics.py</span></a><span style=\"color: #7f7f7f; text-decoration-color: #7f7f7f\">:</span><a href=\"file://C:\\Users\\samue\\lematerial-forgebench\\src\\lematerial_forgebench\\metrics\\validity_metrics.py#157\" target=\"_blank\"><span style=\"color: #7f7f7f; text-decoration-color: #7f7f7f\">157</span></a>\n",
       "<span style=\"color: #7fbfbf; text-decoration-color: #7fbfbf\">           </span>         meaning this is not predicted to be a metallic structure                <span style=\"color: #7f7f7f; text-decoration-color: #7f7f7f\">                       </span>\n",
       "</pre>\n"
      ],
      "text/plain": [
       "\u001b[2;36m          \u001b[0m\u001b[2;36m \u001b[0m\u001b[33mWARNING \u001b[0m the bond valence sum calculation yielded values that were not zero      \u001b]8;id=793146;file://C:\\Users\\samue\\lematerial-forgebench\\src\\lematerial_forgebench\\metrics\\validity_metrics.py\u001b\\\u001b[2mvalidity_metrics.py\u001b[0m\u001b]8;;\u001b\\\u001b[2m:\u001b[0m\u001b]8;id=501694;file://C:\\Users\\samue\\lematerial-forgebench\\src\\lematerial_forgebench\\metrics\\validity_metrics.py#157\u001b\\\u001b[2m157\u001b[0m\u001b]8;;\u001b\\\n",
       "\u001b[2;36m           \u001b[0m         meaning this is not predicted to be a metallic structure                \u001b[2m                       \u001b[0m\n"
      ]
     },
     "metadata": {},
     "output_type": "display_data"
    },
    {
     "name": "stdout",
     "output_type": "stream",
     "text": [
      "Valid structure - charge balanced based on Pymatgen's get_oxi_state_decorated_structure function, which almost always returns reasonable oxidation states\n"
     ]
    },
    {
     "data": {
      "text/html": [
       "<pre style=\"white-space:pre;overflow-x:auto;line-height:normal;font-family:Menlo,'DejaVu Sans Mono',consolas,'Courier New',monospace\"><span style=\"color: #7fbfbf; text-decoration-color: #7fbfbf\">           </span><span style=\"color: #808000; text-decoration-color: #808000\">WARNING </span> Missing radius data for elements: <span style=\"font-weight: bold\">{</span><span style=\"color: #008000; text-decoration-color: #008000\">'Ni2+'</span>, <span style=\"color: #008000; text-decoration-color: #008000\">'O2-'</span><span style=\"font-weight: bold\">}</span>                       <a href=\"file://C:\\Users\\samue\\lematerial-forgebench\\src\\lematerial_forgebench\\metrics\\validity_metrics.py\" target=\"_blank\"><span style=\"color: #7f7f7f; text-decoration-color: #7f7f7f\">validity_metrics.py</span></a><span style=\"color: #7f7f7f; text-decoration-color: #7f7f7f\">:</span><a href=\"file://C:\\Users\\samue\\lematerial-forgebench\\src\\lematerial_forgebench\\metrics\\validity_metrics.py#386\" target=\"_blank\"><span style=\"color: #7f7f7f; text-decoration-color: #7f7f7f\">386</span></a>\n",
       "</pre>\n"
      ],
      "text/plain": [
       "\u001b[2;36m          \u001b[0m\u001b[2;36m \u001b[0m\u001b[33mWARNING \u001b[0m Missing radius data for elements: \u001b[1m{\u001b[0m\u001b[32m'Ni2+'\u001b[0m, \u001b[32m'O2-'\u001b[0m\u001b[1m}\u001b[0m                       \u001b]8;id=638961;file://C:\\Users\\samue\\lematerial-forgebench\\src\\lematerial_forgebench\\metrics\\validity_metrics.py\u001b\\\u001b[2mvalidity_metrics.py\u001b[0m\u001b]8;;\u001b\\\u001b[2m:\u001b[0m\u001b]8;id=977547;file://C:\\Users\\samue\\lematerial-forgebench\\src\\lematerial_forgebench\\metrics\\validity_metrics.py#386\u001b\\\u001b[2m386\u001b[0m\u001b]8;;\u001b\\\n"
      ]
     },
     "metadata": {},
     "output_type": "display_data"
    },
    {
     "name": "stdout",
     "output_type": "stream",
     "text": [
      "Valid structure - Metallic structure with a bond valence equal to zero for all atoms\n"
     ]
    },
    {
     "name": "stderr",
     "output_type": "stream",
     "text": [
      "C:\\Users\\samue\\lematerial-forgebench\\src\\lematerial_forgebench\\metrics\\validity_metrics.py:976: FutureWarning: get_structures is deprecated; use parse_structures in pymatgen.io.cif instead.\n",
      "The only difference is that primitive defaults to False in the new parse_structures method.So parse_structures(primitive=True) is equivalent to the old behavior of get_structures().\n",
      "  recovered_structure = parser.get_structures()[0]\n",
      "C:\\Users\\samue\\lematerial-forgebench\\.venv\\Lib\\site-packages\\pymatgen\\io\\cif.py:1348: UserWarning: Issues encountered while parsing CIF: 10 fractional coordinates rounded to ideal values to avoid issues with finite precision.\n",
      "  return self.parse_structures(*args, **kwargs)\n"
     ]
    },
    {
     "data": {
      "text/html": [
       "<pre style=\"white-space:pre;overflow-x:auto;line-height:normal;font-family:Menlo,'DejaVu Sans Mono',consolas,'Courier New',monospace\"><span style=\"color: #7fbfbf; text-decoration-color: #7fbfbf\">           </span><span style=\"color: #808000; text-decoration-color: #808000\">WARNING </span> the bond valence sum calculation yielded values that were not zero      <a href=\"file://C:\\Users\\samue\\lematerial-forgebench\\src\\lematerial_forgebench\\metrics\\validity_metrics.py\" target=\"_blank\"><span style=\"color: #7f7f7f; text-decoration-color: #7f7f7f\">validity_metrics.py</span></a><span style=\"color: #7f7f7f; text-decoration-color: #7f7f7f\">:</span><a href=\"file://C:\\Users\\samue\\lematerial-forgebench\\src\\lematerial_forgebench\\metrics\\validity_metrics.py#157\" target=\"_blank\"><span style=\"color: #7f7f7f; text-decoration-color: #7f7f7f\">157</span></a>\n",
       "<span style=\"color: #7fbfbf; text-decoration-color: #7fbfbf\">           </span>         meaning this is not predicted to be a metallic structure                <span style=\"color: #7f7f7f; text-decoration-color: #7f7f7f\">                       </span>\n",
       "</pre>\n"
      ],
      "text/plain": [
       "\u001b[2;36m          \u001b[0m\u001b[2;36m \u001b[0m\u001b[33mWARNING \u001b[0m the bond valence sum calculation yielded values that were not zero      \u001b]8;id=411888;file://C:\\Users\\samue\\lematerial-forgebench\\src\\lematerial_forgebench\\metrics\\validity_metrics.py\u001b\\\u001b[2mvalidity_metrics.py\u001b[0m\u001b]8;;\u001b\\\u001b[2m:\u001b[0m\u001b]8;id=340170;file://C:\\Users\\samue\\lematerial-forgebench\\src\\lematerial_forgebench\\metrics\\validity_metrics.py#157\u001b\\\u001b[2m157\u001b[0m\u001b]8;;\u001b\\\n",
       "\u001b[2;36m           \u001b[0m         meaning this is not predicted to be a metallic structure                \u001b[2m                       \u001b[0m\n"
      ]
     },
     "metadata": {},
     "output_type": "display_data"
    },
    {
     "data": {
      "text/html": [
       "<pre style=\"white-space:pre;overflow-x:auto;line-height:normal;font-family:Menlo,'DejaVu Sans Mono',consolas,'Courier New',monospace\"><span style=\"color: #7fbfbf; text-decoration-color: #7fbfbf\">           </span><span style=\"color: #808000; text-decoration-color: #808000\">WARNING </span> Could not determine oxidation states using                              <a href=\"file://C:\\Users\\samue\\lematerial-forgebench\\src\\lematerial_forgebench\\metrics\\validity_metrics.py\" target=\"_blank\"><span style=\"color: #7f7f7f; text-decoration-color: #7f7f7f\">validity_metrics.py</span></a><span style=\"color: #7f7f7f; text-decoration-color: #7f7f7f\">:</span><a href=\"file://C:\\Users\\samue\\lematerial-forgebench\\src\\lematerial_forgebench\\metrics\\validity_metrics.py#180\" target=\"_blank\"><span style=\"color: #7f7f7f; text-decoration-color: #7f7f7f\">180</span></a>\n",
       "<span style=\"color: #7fbfbf; text-decoration-color: #7fbfbf\">           </span>         get_oxi_state_decorated_structure                                       <span style=\"color: #7f7f7f; text-decoration-color: #7f7f7f\">                       </span>\n",
       "</pre>\n"
      ],
      "text/plain": [
       "\u001b[2;36m          \u001b[0m\u001b[2;36m \u001b[0m\u001b[33mWARNING \u001b[0m Could not determine oxidation states using                              \u001b]8;id=425211;file://C:\\Users\\samue\\lematerial-forgebench\\src\\lematerial_forgebench\\metrics\\validity_metrics.py\u001b\\\u001b[2mvalidity_metrics.py\u001b[0m\u001b]8;;\u001b\\\u001b[2m:\u001b[0m\u001b]8;id=303582;file://C:\\Users\\samue\\lematerial-forgebench\\src\\lematerial_forgebench\\metrics\\validity_metrics.py#180\u001b\\\u001b[2m180\u001b[0m\u001b]8;;\u001b\\\n",
       "\u001b[2;36m           \u001b[0m         get_oxi_state_decorated_structure                                       \u001b[2m                       \u001b[0m\n"
      ]
     },
     "metadata": {},
     "output_type": "display_data"
    },
    {
     "name": "stdout",
     "output_type": "stream",
     "text": [
      "Most valid oxidation state and score based on composition {'Ni': (3, 3), 'O': (-2, -2, -2)} 0.5960694271986547\n"
     ]
    },
    {
     "data": {
      "text/html": [
       "<pre style=\"white-space:pre;overflow-x:auto;line-height:normal;font-family:Menlo,'DejaVu Sans Mono',consolas,'Courier New',monospace\"><span style=\"color: #7fbfbf; text-decoration-color: #7fbfbf\">           </span><span style=\"color: #808000; text-decoration-color: #808000\">WARNING </span> the bond valence sum calculation yielded values that were not zero      <a href=\"file://C:\\Users\\samue\\lematerial-forgebench\\src\\lematerial_forgebench\\metrics\\validity_metrics.py\" target=\"_blank\"><span style=\"color: #7f7f7f; text-decoration-color: #7f7f7f\">validity_metrics.py</span></a><span style=\"color: #7f7f7f; text-decoration-color: #7f7f7f\">:</span><a href=\"file://C:\\Users\\samue\\lematerial-forgebench\\src\\lematerial_forgebench\\metrics\\validity_metrics.py#157\" target=\"_blank\"><span style=\"color: #7f7f7f; text-decoration-color: #7f7f7f\">157</span></a>\n",
       "<span style=\"color: #7fbfbf; text-decoration-color: #7fbfbf\">           </span>         meaning this is not predicted to be a metallic structure                <span style=\"color: #7f7f7f; text-decoration-color: #7f7f7f\">                       </span>\n",
       "</pre>\n"
      ],
      "text/plain": [
       "\u001b[2;36m          \u001b[0m\u001b[2;36m \u001b[0m\u001b[33mWARNING \u001b[0m the bond valence sum calculation yielded values that were not zero      \u001b]8;id=961639;file://C:\\Users\\samue\\lematerial-forgebench\\src\\lematerial_forgebench\\metrics\\validity_metrics.py\u001b\\\u001b[2mvalidity_metrics.py\u001b[0m\u001b]8;;\u001b\\\u001b[2m:\u001b[0m\u001b]8;id=916043;file://C:\\Users\\samue\\lematerial-forgebench\\src\\lematerial_forgebench\\metrics\\validity_metrics.py#157\u001b\\\u001b[2m157\u001b[0m\u001b]8;;\u001b\\\n",
       "\u001b[2;36m           \u001b[0m         meaning this is not predicted to be a metallic structure                \u001b[2m                       \u001b[0m\n"
      ]
     },
     "metadata": {},
     "output_type": "display_data"
    },
    {
     "name": "stdout",
     "output_type": "stream",
     "text": [
      "Valid structure - charge balanced based on Pymatgen's get_oxi_state_decorated_structure function, which almost always returns reasonable oxidation states\n"
     ]
    },
    {
     "data": {
      "text/html": [
       "<pre style=\"white-space:pre;overflow-x:auto;line-height:normal;font-family:Menlo,'DejaVu Sans Mono',consolas,'Courier New',monospace\"><span style=\"color: #7fbfbf; text-decoration-color: #7fbfbf\">           </span><span style=\"color: #808000; text-decoration-color: #808000\">WARNING </span> Missing radius data for elements: <span style=\"font-weight: bold\">{</span><span style=\"color: #008000; text-decoration-color: #008000\">'Ni2+'</span>, <span style=\"color: #008000; text-decoration-color: #008000\">'O2-'</span><span style=\"font-weight: bold\">}</span>                       <a href=\"file://C:\\Users\\samue\\lematerial-forgebench\\src\\lematerial_forgebench\\metrics\\validity_metrics.py\" target=\"_blank\"><span style=\"color: #7f7f7f; text-decoration-color: #7f7f7f\">validity_metrics.py</span></a><span style=\"color: #7f7f7f; text-decoration-color: #7f7f7f\">:</span><a href=\"file://C:\\Users\\samue\\lematerial-forgebench\\src\\lematerial_forgebench\\metrics\\validity_metrics.py#386\" target=\"_blank\"><span style=\"color: #7f7f7f; text-decoration-color: #7f7f7f\">386</span></a>\n",
       "</pre>\n"
      ],
      "text/plain": [
       "\u001b[2;36m          \u001b[0m\u001b[2;36m \u001b[0m\u001b[33mWARNING \u001b[0m Missing radius data for elements: \u001b[1m{\u001b[0m\u001b[32m'Ni2+'\u001b[0m, \u001b[32m'O2-'\u001b[0m\u001b[1m}\u001b[0m                       \u001b]8;id=564214;file://C:\\Users\\samue\\lematerial-forgebench\\src\\lematerial_forgebench\\metrics\\validity_metrics.py\u001b\\\u001b[2mvalidity_metrics.py\u001b[0m\u001b]8;;\u001b\\\u001b[2m:\u001b[0m\u001b]8;id=741338;file://C:\\Users\\samue\\lematerial-forgebench\\src\\lematerial_forgebench\\metrics\\validity_metrics.py#386\u001b\\\u001b[2m386\u001b[0m\u001b]8;;\u001b\\\n"
      ]
     },
     "metadata": {},
     "output_type": "display_data"
    },
    {
     "name": "stdout",
     "output_type": "stream",
     "text": [
      "{'overall_validity_score': np.float64(0.7777777777777777), 'charge_neutrality_score': np.float64(1.0), 'interatomic_distance_score': np.float64(0.3333333333333333), 'physical_plausibility_score': np.float64(1.0), 'valid_structures_ratio': 0.3333333333333333}\n"
     ]
    },
    {
     "name": "stderr",
     "output_type": "stream",
     "text": [
      "C:\\Users\\samue\\lematerial-forgebench\\src\\lematerial_forgebench\\metrics\\validity_metrics.py:976: FutureWarning: get_structures is deprecated; use parse_structures in pymatgen.io.cif instead.\n",
      "The only difference is that primitive defaults to False in the new parse_structures method.So parse_structures(primitive=True) is equivalent to the old behavior of get_structures().\n",
      "  recovered_structure = parser.get_structures()[0]\n",
      "C:\\Users\\samue\\lematerial-forgebench\\.venv\\Lib\\site-packages\\pymatgen\\io\\cif.py:1348: UserWarning: Issues encountered while parsing CIF: 10 fractional coordinates rounded to ideal values to avoid issues with finite precision.\n",
      "  return self.parse_structures(*args, **kwargs)\n"
     ]
    }
   ],
   "source": [
    "# structures = []\n",
    "# for filename in [\"CoNi.cif\", \"crystal_50.cif\", \"NiO.cif\"]:\n",
    "#     # metallic structure, GenAI generated structure, and pymatgen metal oxide. All are reasonable compositions\n",
    "#     print(filename)\n",
    "#     structure = Structure.from_file(filename)\n",
    "#     structures.append(structure)\n",
    "\n",
    "benchmark = ValidityBenchmark()\n",
    "benchmark_result = benchmark.evaluate(structures)"
   ]
  },
  {
   "cell_type": "code",
   "execution_count": 7,
   "id": "da097278-7528-449d-9daa-7fdfe8d36512",
   "metadata": {},
   "outputs": [
    {
     "data": {
      "text/plain": [
       "{'overall_validity_score': np.float64(0.7777777777777777),\n",
       " 'charge_neutrality_score': np.float64(1.0),\n",
       " 'interatomic_distance_score': np.float64(0.3333333333333333),\n",
       " 'physical_plausibility_score': np.float64(1.0),\n",
       " 'valid_structures_ratio': 0.3333333333333333}"
      ]
     },
     "execution_count": 7,
     "metadata": {},
     "output_type": "execute_result"
    }
   ],
   "source": [
    "benchmark_result.final_scores"
   ]
  },
  {
   "cell_type": "code",
   "execution_count": null,
   "id": "2c5e8936-5393-4214-aa9e-b44f5b1b05ae",
   "metadata": {},
   "outputs": [],
   "source": []
  },
  {
   "cell_type": "code",
   "execution_count": null,
   "id": "423ea545-e41d-4ab0-8c0e-9964b2ed12e8",
   "metadata": {},
   "outputs": [],
   "source": []
  }
 ],
 "metadata": {
  "kernelspec": {
   "display_name": "Python 3 (ipykernel)",
   "language": "python",
   "name": "python3"
  },
  "language_info": {
   "codemirror_mode": {
    "name": "ipython",
    "version": 3
   },
   "file_extension": ".py",
   "mimetype": "text/x-python",
   "name": "python",
   "nbconvert_exporter": "python",
   "pygments_lexer": "ipython3",
   "version": "3.11.11"
  }
 },
 "nbformat": 4,
 "nbformat_minor": 5
}
