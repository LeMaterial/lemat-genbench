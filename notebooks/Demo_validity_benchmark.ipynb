{
 "cells": [
  {
   "cell_type": "code",
   "execution_count": 4,
   "id": "951eb7b9-e8dc-4f32-9bf2-02cd85c2b9dd",
   "metadata": {},
   "outputs": [
    {
     "name": "stdout",
     "output_type": "stream",
     "text": [
      "The autoreload extension is already loaded. To reload it, use:\n",
      "  %reload_ext autoreload\n"
     ]
    }
   ],
   "source": [
    "from pymatgen.core import Structure\n",
    "\n",
    "from lematerial_forgebench.benchmarks.validity_benchmark import ValidityBenchmark\n",
    "from lematerial_forgebench.metrics.validity_metrics import ChargeNeutralityMetric\n",
    "from lematerial_forgebench.utils.oxidation_state import get_inequivalent_site_info\n",
    "\n",
    "%load_ext autoreload\n",
    "%autoreload 2"
   ]
  },
  {
   "cell_type": "code",
   "execution_count": 2,
   "id": "810d04bb-9e6f-4dff-baab-5d333390ccc5",
   "metadata": {},
   "outputs": [
    {
     "name": "stdout",
     "output_type": "stream",
     "text": [
      "CoNi.cif\n",
      "crystal_50.cif\n",
      "NiO.cif\n"
     ]
    },
    {
     "name": "stderr",
     "output_type": "stream",
     "text": [
      "C:\\Users\\samue\\lematerial-forgebench\\.venv\\Lib\\site-packages\\pymatgen\\core\\structure.py:3107: UserWarning: Issues encountered while parsing CIF: 10 fractional coordinates rounded to ideal values to avoid issues with finite precision.\n",
      "  struct = parser.parse_structures(primitive=primitive)[0]\n"
     ]
    }
   ],
   "source": [
    "for filename in [\"CoNi.cif\", \"crystal_50.cif\", \"NiO.cif\"]:\n",
    "    # metallic structure, GenAI generated structure, and pymatgen metal oxide. All are reasonable compositions\n",
    "    print(filename)\n",
    "    structure = Structure.from_file(filename)\n",
    "    # metric = ChargeNeutralityMetric()\n",
    "    # metric([structure])"
   ]
  },
  {
   "cell_type": "code",
   "execution_count": 5,
   "id": "693984af-35ff-43f6-8ba0-c8aceacf4da3",
   "metadata": {},
   "outputs": [
    {
     "data": {
      "text/plain": [
       "{'sites': [0, 4], 'species': ['Ni2+', 'O2-'], 'multiplicities': [4, 4]}"
      ]
     },
     "execution_count": 5,
     "metadata": {},
     "output_type": "execute_result"
    }
   ],
   "source": [
    "get_inequivalent_site_info(structure)"
   ]
  },
  {
   "cell_type": "code",
   "execution_count": 3,
   "id": "4bbb404b-7e2b-4f97-8f54-24ea51949fa6",
   "metadata": {
    "scrolled": true
   },
   "outputs": [
    {
     "name": "stdout",
     "output_type": "stream",
     "text": [
      "CoNi.cif\n",
      "crystal_50.cif\n",
      "NiO.cif\n"
     ]
    }
   ],
   "source": [
    "structures = []\n",
    "for filename in [\"CoNi.cif\", \"crystal_50.cif\", \"NiO.cif\"]:\n",
    "    # metallic structure, GenAI generated structure, and pymatgen metal oxide. All are reasonable compositions\n",
    "    print(filename)\n",
    "    structure = Structure.from_file(filename)\n",
    "    structures.append(structure)"
   ]
  },
  {
   "cell_type": "code",
   "execution_count": 5,
   "id": "7dbfb7c4-a5f6-45ab-9fc0-ad9e1dddd663",
   "metadata": {},
   "outputs": [
    {
     "name": "stdout",
     "output_type": "stream",
     "text": [
      "Valid structure - Metallic structure with a bond valence equal to zero for all atoms\n"
     ]
    },
    {
     "data": {
      "text/html": [
       "<pre style=\"white-space:pre;overflow-x:auto;line-height:normal;font-family:Menlo,'DejaVu Sans Mono',consolas,'Courier New',monospace\"><span style=\"color: #7fbfbf; text-decoration-color: #7fbfbf\">[01:26:33] </span><span style=\"color: #808000; text-decoration-color: #808000\">WARNING </span> the bond valence sum calculation yielded values that were not zero      <a href=\"file://C:\\Users\\samue\\lematerial-forgebench\\src\\lematerial_forgebench\\metrics\\validity_metrics.py\" target=\"_blank\"><span style=\"color: #7f7f7f; text-decoration-color: #7f7f7f\">validity_metrics.py</span></a><span style=\"color: #7f7f7f; text-decoration-color: #7f7f7f\">:</span><a href=\"file://C:\\Users\\samue\\lematerial-forgebench\\src\\lematerial_forgebench\\metrics\\validity_metrics.py#157\" target=\"_blank\"><span style=\"color: #7f7f7f; text-decoration-color: #7f7f7f\">157</span></a>\n",
       "<span style=\"color: #7fbfbf; text-decoration-color: #7fbfbf\">           </span>         meaning this is not predicted to be a metallic structure                <span style=\"color: #7f7f7f; text-decoration-color: #7f7f7f\">                       </span>\n",
       "</pre>\n"
      ],
      "text/plain": [
       "\u001b[2;36m[01:26:33]\u001b[0m\u001b[2;36m \u001b[0m\u001b[33mWARNING \u001b[0m the bond valence sum calculation yielded values that were not zero      \u001b]8;id=986368;file://C:\\Users\\samue\\lematerial-forgebench\\src\\lematerial_forgebench\\metrics\\validity_metrics.py\u001b\\\u001b[2mvalidity_metrics.py\u001b[0m\u001b]8;;\u001b\\\u001b[2m:\u001b[0m\u001b]8;id=990518;file://C:\\Users\\samue\\lematerial-forgebench\\src\\lematerial_forgebench\\metrics\\validity_metrics.py#157\u001b\\\u001b[2m157\u001b[0m\u001b]8;;\u001b\\\n",
       "\u001b[2;36m           \u001b[0m         meaning this is not predicted to be a metallic structure                \u001b[2m                       \u001b[0m\n"
      ]
     },
     "metadata": {},
     "output_type": "display_data"
    },
    {
     "data": {
      "text/html": [
       "<pre style=\"white-space:pre;overflow-x:auto;line-height:normal;font-family:Menlo,'DejaVu Sans Mono',consolas,'Courier New',monospace\"><span style=\"color: #7fbfbf; text-decoration-color: #7fbfbf\">[01:26:34] </span><span style=\"color: #808000; text-decoration-color: #808000\">WARNING </span> Could not determine oxidation states using                              <a href=\"file://C:\\Users\\samue\\lematerial-forgebench\\src\\lematerial_forgebench\\metrics\\validity_metrics.py\" target=\"_blank\"><span style=\"color: #7f7f7f; text-decoration-color: #7f7f7f\">validity_metrics.py</span></a><span style=\"color: #7f7f7f; text-decoration-color: #7f7f7f\">:</span><a href=\"file://C:\\Users\\samue\\lematerial-forgebench\\src\\lematerial_forgebench\\metrics\\validity_metrics.py#180\" target=\"_blank\"><span style=\"color: #7f7f7f; text-decoration-color: #7f7f7f\">180</span></a>\n",
       "<span style=\"color: #7fbfbf; text-decoration-color: #7fbfbf\">           </span>         get_oxi_state_decorated_structure                                       <span style=\"color: #7f7f7f; text-decoration-color: #7f7f7f\">                       </span>\n",
       "</pre>\n"
      ],
      "text/plain": [
       "\u001b[2;36m[01:26:34]\u001b[0m\u001b[2;36m \u001b[0m\u001b[33mWARNING \u001b[0m Could not determine oxidation states using                              \u001b]8;id=217487;file://C:\\Users\\samue\\lematerial-forgebench\\src\\lematerial_forgebench\\metrics\\validity_metrics.py\u001b\\\u001b[2mvalidity_metrics.py\u001b[0m\u001b]8;;\u001b\\\u001b[2m:\u001b[0m\u001b]8;id=150139;file://C:\\Users\\samue\\lematerial-forgebench\\src\\lematerial_forgebench\\metrics\\validity_metrics.py#180\u001b\\\u001b[2m180\u001b[0m\u001b]8;;\u001b\\\n",
       "\u001b[2;36m           \u001b[0m         get_oxi_state_decorated_structure                                       \u001b[2m                       \u001b[0m\n"
      ]
     },
     "metadata": {},
     "output_type": "display_data"
    },
    {
     "name": "stdout",
     "output_type": "stream",
     "text": [
      "Most valid oxidation state and score based on composition {'Ni': (3, 3), 'O': (-2, -2, -2)} 0.5960694271986547\n"
     ]
    },
    {
     "data": {
      "text/html": [
       "<pre style=\"white-space:pre;overflow-x:auto;line-height:normal;font-family:Menlo,'DejaVu Sans Mono',consolas,'Courier New',monospace\"><span style=\"color: #7fbfbf; text-decoration-color: #7fbfbf\">           </span><span style=\"color: #808000; text-decoration-color: #808000\">WARNING </span> the bond valence sum calculation yielded values that were not zero      <a href=\"file://C:\\Users\\samue\\lematerial-forgebench\\src\\lematerial_forgebench\\metrics\\validity_metrics.py\" target=\"_blank\"><span style=\"color: #7f7f7f; text-decoration-color: #7f7f7f\">validity_metrics.py</span></a><span style=\"color: #7f7f7f; text-decoration-color: #7f7f7f\">:</span><a href=\"file://C:\\Users\\samue\\lematerial-forgebench\\src\\lematerial_forgebench\\metrics\\validity_metrics.py#157\" target=\"_blank\"><span style=\"color: #7f7f7f; text-decoration-color: #7f7f7f\">157</span></a>\n",
       "<span style=\"color: #7fbfbf; text-decoration-color: #7fbfbf\">           </span>         meaning this is not predicted to be a metallic structure                <span style=\"color: #7f7f7f; text-decoration-color: #7f7f7f\">                       </span>\n",
       "</pre>\n"
      ],
      "text/plain": [
       "\u001b[2;36m          \u001b[0m\u001b[2;36m \u001b[0m\u001b[33mWARNING \u001b[0m the bond valence sum calculation yielded values that were not zero      \u001b]8;id=898467;file://C:\\Users\\samue\\lematerial-forgebench\\src\\lematerial_forgebench\\metrics\\validity_metrics.py\u001b\\\u001b[2mvalidity_metrics.py\u001b[0m\u001b]8;;\u001b\\\u001b[2m:\u001b[0m\u001b]8;id=569799;file://C:\\Users\\samue\\lematerial-forgebench\\src\\lematerial_forgebench\\metrics\\validity_metrics.py#157\u001b\\\u001b[2m157\u001b[0m\u001b]8;;\u001b\\\n",
       "\u001b[2;36m           \u001b[0m         meaning this is not predicted to be a metallic structure                \u001b[2m                       \u001b[0m\n"
      ]
     },
     "metadata": {},
     "output_type": "display_data"
    },
    {
     "name": "stdout",
     "output_type": "stream",
     "text": [
      "Valid structure - charge balanced based on Pymatgen's get_oxi_state_decorated_structure function, which almost always returns reasonable oxidation states\n",
      "values\n",
      "[1.0, 1.0, 1.0]\n",
      "compute\n",
      "<bound method BaseMetric.compute of <lematerial_forgebench.metrics.validity_metrics.ChargeNeutralityMetric object at 0x00000250F9ADF8D0>>\n"
     ]
    },
    {
     "data": {
      "text/html": [
       "<pre style=\"white-space:pre;overflow-x:auto;line-height:normal;font-family:Menlo,'DejaVu Sans Mono',consolas,'Courier New',monospace\"><span style=\"color: #7fbfbf; text-decoration-color: #7fbfbf\">           </span><span style=\"color: #808000; text-decoration-color: #808000\">WARNING </span> Missing radius data for elements: <span style=\"font-weight: bold\">{</span><span style=\"color: #008000; text-decoration-color: #008000\">'O2-'</span>, <span style=\"color: #008000; text-decoration-color: #008000\">'Ni2+'</span><span style=\"font-weight: bold\">}</span>                       <a href=\"file://C:\\Users\\samue\\lematerial-forgebench\\src\\lematerial_forgebench\\metrics\\validity_metrics.py\" target=\"_blank\"><span style=\"color: #7f7f7f; text-decoration-color: #7f7f7f\">validity_metrics.py</span></a><span style=\"color: #7f7f7f; text-decoration-color: #7f7f7f\">:</span><a href=\"file://C:\\Users\\samue\\lematerial-forgebench\\src\\lematerial_forgebench\\metrics\\validity_metrics.py#386\" target=\"_blank\"><span style=\"color: #7f7f7f; text-decoration-color: #7f7f7f\">386</span></a>\n",
       "</pre>\n"
      ],
      "text/plain": [
       "\u001b[2;36m          \u001b[0m\u001b[2;36m \u001b[0m\u001b[33mWARNING \u001b[0m Missing radius data for elements: \u001b[1m{\u001b[0m\u001b[32m'O2-'\u001b[0m, \u001b[32m'Ni2+'\u001b[0m\u001b[1m}\u001b[0m                       \u001b]8;id=706840;file://C:\\Users\\samue\\lematerial-forgebench\\src\\lematerial_forgebench\\metrics\\validity_metrics.py\u001b\\\u001b[2mvalidity_metrics.py\u001b[0m\u001b]8;;\u001b\\\u001b[2m:\u001b[0m\u001b]8;id=743680;file://C:\\Users\\samue\\lematerial-forgebench\\src\\lematerial_forgebench\\metrics\\validity_metrics.py#386\u001b\\\u001b[2m386\u001b[0m\u001b]8;;\u001b\\\n"
      ]
     },
     "metadata": {},
     "output_type": "display_data"
    },
    {
     "name": "stdout",
     "output_type": "stream",
     "text": [
      "values\n",
      "[1.0, 0.0, 0.0]\n",
      "compute\n",
      "<bound method BaseMetric.compute of <lematerial_forgebench.metrics.validity_metrics.MinimumInteratomicDistanceMetric object at 0x00000250A3172610>>\n",
      "values\n",
      "[1.0, 1.0, 1.0]\n",
      "compute\n",
      "<bound method BaseMetric.compute of <lematerial_forgebench.metrics.validity_metrics.PhysicalPlausibilityMetric object at 0x00000250A193C590>>\n"
     ]
    },
    {
     "name": "stderr",
     "output_type": "stream",
     "text": [
      "C:\\Users\\samue\\lematerial-forgebench\\src\\lematerial_forgebench\\metrics\\validity_metrics.py:976: FutureWarning: get_structures is deprecated; use parse_structures in pymatgen.io.cif instead.\n",
      "The only difference is that primitive defaults to False in the new parse_structures method.So parse_structures(primitive=True) is equivalent to the old behavior of get_structures().\n",
      "  recovered_structure = parser.get_structures()[0]\n",
      "C:\\Users\\samue\\lematerial-forgebench\\.venv\\Lib\\site-packages\\pymatgen\\io\\cif.py:1348: UserWarning: Issues encountered while parsing CIF: 10 fractional coordinates rounded to ideal values to avoid issues with finite precision.\n",
      "  return self.parse_structures(*args, **kwargs)\n"
     ]
    },
    {
     "data": {
      "text/html": [
       "<pre style=\"white-space:pre;overflow-x:auto;line-height:normal;font-family:Menlo,'DejaVu Sans Mono',consolas,'Courier New',monospace\"><span style=\"color: #7fbfbf; text-decoration-color: #7fbfbf\">           </span><span style=\"color: #800000; text-decoration-color: #800000; font-weight: bold\">ERROR   </span> Failed to compute metric composite                                             <a href=\"file://C:\\Users\\samue\\lematerial-forgebench\\src\\lematerial_forgebench\\evaluator.py\" target=\"_blank\"><span style=\"color: #7f7f7f; text-decoration-color: #7f7f7f\">evaluator.py</span></a><span style=\"color: #7f7f7f; text-decoration-color: #7f7f7f\">:</span><a href=\"file://C:\\Users\\samue\\lematerial-forgebench\\src\\lematerial_forgebench\\evaluator.py#207\" target=\"_blank\"><span style=\"color: #7f7f7f; text-decoration-color: #7f7f7f\">207</span></a>\n",
       "<span style=\"color: #7fbfbf; text-decoration-color: #7fbfbf\">           </span>         <span style=\"color: #800000; text-decoration-color: #800000\">╭──────────────────── </span><span style=\"color: #800000; text-decoration-color: #800000; font-weight: bold\">Traceback </span><span style=\"color: #bf7f7f; text-decoration-color: #bf7f7f; font-weight: bold\">(most recent call last)</span><span style=\"color: #800000; text-decoration-color: #800000\"> ─────────────────────╮</span> <span style=\"color: #7f7f7f; text-decoration-color: #7f7f7f\">                </span>\n",
       "<span style=\"color: #7fbfbf; text-decoration-color: #7fbfbf\">           </span>         <span style=\"color: #800000; text-decoration-color: #800000\">│</span> <span style=\"color: #808000; text-decoration-color: #808000\">C:\\Users\\samue\\lematerial-forgebench\\src\\lematerial_forgebench\\evaluator.p</span> <span style=\"color: #800000; text-decoration-color: #800000\">│</span> <span style=\"color: #7f7f7f; text-decoration-color: #7f7f7f\">                </span>\n",
       "<span style=\"color: #7fbfbf; text-decoration-color: #7fbfbf\">           </span>         <span style=\"color: #800000; text-decoration-color: #800000\">│</span> <span style=\"color: #808000; text-decoration-color: #808000\">y</span>:<span style=\"color: #0000ff; text-decoration-color: #0000ff\">197</span> in <span style=\"color: #00ff00; text-decoration-color: #00ff00\">evaluate</span>                                                          <span style=\"color: #800000; text-decoration-color: #800000\">│</span> <span style=\"color: #7f7f7f; text-decoration-color: #7f7f7f\">                </span>\n",
       "<span style=\"color: #7fbfbf; text-decoration-color: #7fbfbf\">           </span>         <span style=\"color: #800000; text-decoration-color: #800000\">│</span>                                                                            <span style=\"color: #800000; text-decoration-color: #800000\">│</span> <span style=\"color: #7f7f7f; text-decoration-color: #7f7f7f\">                </span>\n",
       "<span style=\"color: #7fbfbf; text-decoration-color: #7fbfbf\">           </span>         <span style=\"color: #800000; text-decoration-color: #800000\">│</span>   <span style=\"color: #7f7f7f; text-decoration-color: #7f7f7f\">194 </span><span style=\"color: #7f7f7f; text-decoration-color: #7f7f7f\">│   │   </span><span style=\"color: #7f7f7f; text-decoration-color: #7f7f7f\"># each metric handles its own parallelization</span>                <span style=\"color: #800000; text-decoration-color: #800000\">│</span> <span style=\"color: #7f7f7f; text-decoration-color: #7f7f7f\">                </span>\n",
       "<span style=\"color: #7fbfbf; text-decoration-color: #7fbfbf\">           </span>         <span style=\"color: #800000; text-decoration-color: #800000\">│</span>   <span style=\"color: #7f7f7f; text-decoration-color: #7f7f7f\">195 </span><span style=\"color: #7f7f7f; text-decoration-color: #7f7f7f\">│   │   </span><span style=\"color: #0000ff; text-decoration-color: #0000ff\">for</span> metric_name, metric <span style=\"color: #ff00ff; text-decoration-color: #ff00ff\">in</span> <span style=\"color: #00ffff; text-decoration-color: #00ffff\">self</span>.metrics.items():             <span style=\"color: #800000; text-decoration-color: #800000\">│</span> <span style=\"color: #7f7f7f; text-decoration-color: #7f7f7f\">                </span>\n",
       "<span style=\"color: #7fbfbf; text-decoration-color: #7fbfbf\">           </span>         <span style=\"color: #800000; text-decoration-color: #800000\">│</span>   <span style=\"color: #7f7f7f; text-decoration-color: #7f7f7f\">196 </span><span style=\"color: #7f7f7f; text-decoration-color: #7f7f7f\">│   │   │   </span><span style=\"color: #0000ff; text-decoration-color: #0000ff\">try</span>:                                                     <span style=\"color: #800000; text-decoration-color: #800000\">│</span> <span style=\"color: #7f7f7f; text-decoration-color: #7f7f7f\">                </span>\n",
       "<span style=\"color: #7fbfbf; text-decoration-color: #7fbfbf\">           </span>         <span style=\"color: #800000; text-decoration-color: #800000\">│</span> <span style=\"color: #800000; text-decoration-color: #800000\">❱ </span>197 <span style=\"color: #7f7f7f; text-decoration-color: #7f7f7f\">│   │   │   │   </span>result = metric.compute(                             <span style=\"color: #800000; text-decoration-color: #800000\">│</span> <span style=\"color: #7f7f7f; text-decoration-color: #7f7f7f\">                </span>\n",
       "<span style=\"color: #7fbfbf; text-decoration-color: #7fbfbf\">           </span>         <span style=\"color: #800000; text-decoration-color: #800000\">│</span>   <span style=\"color: #7f7f7f; text-decoration-color: #7f7f7f\">198 </span><span style=\"color: #7f7f7f; text-decoration-color: #7f7f7f\">│   │   │   │   │   </span>structures=structures,                           <span style=\"color: #800000; text-decoration-color: #800000\">│</span> <span style=\"color: #7f7f7f; text-decoration-color: #7f7f7f\">                </span>\n",
       "<span style=\"color: #7fbfbf; text-decoration-color: #7fbfbf\">           </span>         <span style=\"color: #800000; text-decoration-color: #800000\">│</span>   <span style=\"color: #7f7f7f; text-decoration-color: #7f7f7f\">199 </span><span style=\"color: #7f7f7f; text-decoration-color: #7f7f7f\">│   │   │   │   │   </span>reference_df=reference_df,                       <span style=\"color: #800000; text-decoration-color: #800000\">│</span> <span style=\"color: #7f7f7f; text-decoration-color: #7f7f7f\">                </span>\n",
       "<span style=\"color: #7fbfbf; text-decoration-color: #7fbfbf\">           </span>         <span style=\"color: #800000; text-decoration-color: #800000\">│</span>   <span style=\"color: #7f7f7f; text-decoration-color: #7f7f7f\">200 </span><span style=\"color: #7f7f7f; text-decoration-color: #7f7f7f\">│   │   │   │   </span>)                                                    <span style=\"color: #800000; text-decoration-color: #800000\">│</span> <span style=\"color: #7f7f7f; text-decoration-color: #7f7f7f\">                </span>\n",
       "<span style=\"color: #7fbfbf; text-decoration-color: #7fbfbf\">           </span>         <span style=\"color: #800000; text-decoration-color: #800000\">╰────────────────────────────────────────────────────────────────────────────╯</span> <span style=\"color: #7f7f7f; text-decoration-color: #7f7f7f\">                </span>\n",
       "<span style=\"color: #7fbfbf; text-decoration-color: #7fbfbf\">           </span>         <span style=\"color: #ff0000; text-decoration-color: #ff0000; font-weight: bold\">TypeError: </span><span style=\"color: #800080; text-decoration-color: #800080; font-weight: bold\">CompositeValidityMetric.compute</span><span style=\"font-weight: bold\">()</span> got an unexpected keyword         <span style=\"color: #7f7f7f; text-decoration-color: #7f7f7f\">                </span>\n",
       "<span style=\"color: #7fbfbf; text-decoration-color: #7fbfbf\">           </span>         argument <span style=\"color: #008000; text-decoration-color: #008000\">'reference_df'</span>                                                        <span style=\"color: #7f7f7f; text-decoration-color: #7f7f7f\">                </span>\n",
       "</pre>\n"
      ],
      "text/plain": [
       "\u001b[2;36m          \u001b[0m\u001b[2;36m \u001b[0m\u001b[1;31mERROR   \u001b[0m Failed to compute metric composite                                             \u001b]8;id=205283;file://C:\\Users\\samue\\lematerial-forgebench\\src\\lematerial_forgebench\\evaluator.py\u001b\\\u001b[2mevaluator.py\u001b[0m\u001b]8;;\u001b\\\u001b[2m:\u001b[0m\u001b]8;id=321606;file://C:\\Users\\samue\\lematerial-forgebench\\src\\lematerial_forgebench\\evaluator.py#207\u001b\\\u001b[2m207\u001b[0m\u001b]8;;\u001b\\\n",
       "\u001b[2;36m           \u001b[0m         \u001b[31m╭─\u001b[0m\u001b[31m───────────────────\u001b[0m\u001b[31m \u001b[0m\u001b[1;31mTraceback \u001b[0m\u001b[1;2;31m(most recent call last)\u001b[0m\u001b[31m \u001b[0m\u001b[31m────────────────────\u001b[0m\u001b[31m─╮\u001b[0m \u001b[2m                \u001b[0m\n",
       "\u001b[2;36m           \u001b[0m         \u001b[31m│\u001b[0m \u001b[33mC:\\Users\\samue\\lematerial-forgebench\\src\\lematerial_forgebench\\evaluator.p\u001b[0m \u001b[31m│\u001b[0m \u001b[2m                \u001b[0m\n",
       "\u001b[2;36m           \u001b[0m         \u001b[31m│\u001b[0m \u001b[33my\u001b[0m:\u001b[94m197\u001b[0m in \u001b[92mevaluate\u001b[0m                                                          \u001b[31m│\u001b[0m \u001b[2m                \u001b[0m\n",
       "\u001b[2;36m           \u001b[0m         \u001b[31m│\u001b[0m                                                                            \u001b[31m│\u001b[0m \u001b[2m                \u001b[0m\n",
       "\u001b[2;36m           \u001b[0m         \u001b[31m│\u001b[0m   \u001b[2m194 \u001b[0m\u001b[2m│   │   \u001b[0m\u001b[2m# each metric handles its own parallelization\u001b[0m                \u001b[31m│\u001b[0m \u001b[2m                \u001b[0m\n",
       "\u001b[2;36m           \u001b[0m         \u001b[31m│\u001b[0m   \u001b[2m195 \u001b[0m\u001b[2m│   │   \u001b[0m\u001b[94mfor\u001b[0m metric_name, metric \u001b[95min\u001b[0m \u001b[96mself\u001b[0m.metrics.items():             \u001b[31m│\u001b[0m \u001b[2m                \u001b[0m\n",
       "\u001b[2;36m           \u001b[0m         \u001b[31m│\u001b[0m   \u001b[2m196 \u001b[0m\u001b[2m│   │   │   \u001b[0m\u001b[94mtry\u001b[0m:                                                     \u001b[31m│\u001b[0m \u001b[2m                \u001b[0m\n",
       "\u001b[2;36m           \u001b[0m         \u001b[31m│\u001b[0m \u001b[31m❱ \u001b[0m197 \u001b[2m│   │   │   │   \u001b[0mresult = metric.compute(                             \u001b[31m│\u001b[0m \u001b[2m                \u001b[0m\n",
       "\u001b[2;36m           \u001b[0m         \u001b[31m│\u001b[0m   \u001b[2m198 \u001b[0m\u001b[2m│   │   │   │   │   \u001b[0mstructures=structures,                           \u001b[31m│\u001b[0m \u001b[2m                \u001b[0m\n",
       "\u001b[2;36m           \u001b[0m         \u001b[31m│\u001b[0m   \u001b[2m199 \u001b[0m\u001b[2m│   │   │   │   │   \u001b[0mreference_df=reference_df,                       \u001b[31m│\u001b[0m \u001b[2m                \u001b[0m\n",
       "\u001b[2;36m           \u001b[0m         \u001b[31m│\u001b[0m   \u001b[2m200 \u001b[0m\u001b[2m│   │   │   │   \u001b[0m)                                                    \u001b[31m│\u001b[0m \u001b[2m                \u001b[0m\n",
       "\u001b[2;36m           \u001b[0m         \u001b[31m╰────────────────────────────────────────────────────────────────────────────╯\u001b[0m \u001b[2m                \u001b[0m\n",
       "\u001b[2;36m           \u001b[0m         \u001b[1;91mTypeError: \u001b[0m\u001b[1;35mCompositeValidityMetric.compute\u001b[0m\u001b[1m(\u001b[0m\u001b[1m)\u001b[0m got an unexpected keyword         \u001b[2m                \u001b[0m\n",
       "\u001b[2;36m           \u001b[0m         argument \u001b[32m'reference_df'\u001b[0m                                                        \u001b[2m                \u001b[0m\n"
      ]
     },
     "metadata": {},
     "output_type": "display_data"
    }
   ],
   "source": [
    "benchmark = ValidityBenchmark()\n",
    "benchmark_result = benchmark.evaluate(structures)"
   ]
  },
  {
   "cell_type": "code",
   "execution_count": 6,
   "id": "da097278-7528-449d-9daa-7fdfe8d36512",
   "metadata": {},
   "outputs": [
    {
     "data": {
      "text/plain": [
       "{'overall_validity_score': None,\n",
       " 'charge_neutrality_score': np.float64(1.0),\n",
       " 'interatomic_distance_score': np.float64(0.3333333333333333),\n",
       " 'physical_plausibility_score': np.float64(1.0),\n",
       " 'valid_structures_ratio': 0.0}"
      ]
     },
     "execution_count": 6,
     "metadata": {},
     "output_type": "execute_result"
    }
   ],
   "source": [
    "benchmark_result.final_scores"
   ]
  },
  {
   "cell_type": "code",
   "execution_count": null,
   "id": "2c5e8936-5393-4214-aa9e-b44f5b1b05ae",
   "metadata": {},
   "outputs": [],
   "source": []
  },
  {
   "cell_type": "code",
   "execution_count": null,
   "id": "423ea545-e41d-4ab0-8c0e-9964b2ed12e8",
   "metadata": {},
   "outputs": [],
   "source": []
  }
 ],
 "metadata": {
  "kernelspec": {
   "display_name": "Python 3 (ipykernel)",
   "language": "python",
   "name": "python3"
  },
  "language_info": {
   "codemirror_mode": {
    "name": "ipython",
    "version": 3
   },
   "file_extension": ".py",
   "mimetype": "text/x-python",
   "name": "python",
   "nbconvert_exporter": "python",
   "pygments_lexer": "ipython3",
   "version": "3.11.11"
  }
 },
 "nbformat": 4,
 "nbformat_minor": 5
}
