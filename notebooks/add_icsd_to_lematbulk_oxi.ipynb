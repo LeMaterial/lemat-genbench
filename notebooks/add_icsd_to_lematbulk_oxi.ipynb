{
 "cells": [
  {
   "cell_type": "markdown",
   "metadata": {},
   "source": [
    "Notebook adapted from: https://github.com/WMD-group/SMACT/blob/master/docs/tutorials/filtering_icsd_oxidation_states.ipynb"
   ]
  },
  {
   "cell_type": "markdown",
   "metadata": {},
   "source": [
    "[![Open in Colab](https://colab.research.google.com/assets/colab-badge.svg)](https://colab.research.google.com/github/WMD-group/SMACT/blob/master/docs/tutorials/filtering_icsd_oxidation_states.ipynb)"
   ]
  },
  {
   "cell_type": "code",
   "execution_count": 1,
   "metadata": {
    "scrolled": true
   },
   "outputs": [
    {
     "name": "stderr",
     "output_type": "stream",
     "text": [
      "ImportWarning: Failed to import SLICES. If you would like to use this module, please consider running uv pip install -r requirements_slices.txt\n",
      "UserWarning: pkg_resources is deprecated as an API. See https://setuptools.pypa.io/en/latest/pkg_resources.html. The pkg_resources package is slated for removal as early as 2025-11-30. Refrain from using this package or pin to Setuptools<81.\n",
      "DeprecationWarning: Deprecated call to `pkg_resources.declare_namespace('sphinxcontrib')`.\n",
      "Implementing implicit namespace packages (as specified in PEP 420) is preferred to `pkg_resources.declare_namespace`. See https://setuptools.pypa.io/en/latest/references/keywords.html#keyword-namespace-packages\n",
      "W0925 15:17:51.679000 11156 torch\\distributed\\elastic\\multiprocessing\\redirects.py:29] NOTE: Redirects are currently not supported in Windows or MacOs.\n",
      "--- Logging error ---\n",
      "Traceback (most recent call last):\n",
      "  File \"C:\\Users\\samue\\lemat-genbench\\.venv\\Lib\\site-packages\\material_hasher\\similarity\\__init__.py\", line 13, in <module>\n",
      "    from .eqv2 import EquiformerV2Similarity\n",
      "  File \"C:\\Users\\samue\\lemat-genbench\\.venv\\Lib\\site-packages\\material_hasher\\similarity\\eqv2.py\", line 12, in <module>\n",
      "    from fairchem.core import OCPCalculator\n",
      "ImportError: cannot import name 'OCPCalculator' from 'fairchem.core' (C:\\Users\\samue\\lemat-genbench\\.venv\\Lib\\site-packages\\fairchem\\core\\__init__.py)\n",
      "\n",
      "During handling of the above exception, another exception occurred:\n",
      "\n",
      "Traceback (most recent call last):\n",
      "  File \"C:\\Users\\samue\\AppData\\Roaming\\uv\\python\\cpython-3.11.11-windows-x86_64-none\\Lib\\logging\\__init__.py\", line 1110, in emit\n",
      "    msg = self.format(record)\n",
      "          ^^^^^^^^^^^^^^^^^^^\n",
      "  File \"C:\\Users\\samue\\AppData\\Roaming\\uv\\python\\cpython-3.11.11-windows-x86_64-none\\Lib\\logging\\__init__.py\", line 953, in format\n",
      "    return fmt.format(record)\n",
      "           ^^^^^^^^^^^^^^^^^^\n",
      "  File \"C:\\Users\\samue\\AppData\\Roaming\\uv\\python\\cpython-3.11.11-windows-x86_64-none\\Lib\\logging\\__init__.py\", line 687, in format\n",
      "    record.message = record.getMessage()\n",
      "                     ^^^^^^^^^^^^^^^^^^^\n",
      "  File \"C:\\Users\\samue\\AppData\\Roaming\\uv\\python\\cpython-3.11.11-windows-x86_64-none\\Lib\\logging\\__init__.py\", line 377, in getMessage\n",
      "    msg = msg % self.args\n",
      "          ~~~~^~~~~~~~~~~\n",
      "TypeError: not all arguments converted during string formatting\n",
      "Call stack:\n",
      "  File \"<frozen runpy>\", line 198, in _run_module_as_main\n",
      "  File \"<frozen runpy>\", line 88, in _run_code\n",
      "  File \"C:\\Users\\samue\\AppData\\Local\\uv\\cache\\archive-v0\\b-j2aKMKaagekQESbnOBC\\Lib\\site-packages\\ipykernel_launcher.py\", line 18, in <module>\n",
      "    app.launch_new_instance()\n",
      "  File \"C:\\Users\\samue\\AppData\\Local\\uv\\cache\\archive-v0\\b-j2aKMKaagekQESbnOBC\\Lib\\site-packages\\traitlets\\config\\application.py\", line 1075, in launch_instance\n",
      "    app.start()\n",
      "  File \"C:\\Users\\samue\\AppData\\Local\\uv\\cache\\archive-v0\\b-j2aKMKaagekQESbnOBC\\Lib\\site-packages\\ipykernel\\kernelapp.py\", line 739, in start\n",
      "    self.io_loop.start()\n",
      "  File \"C:\\Users\\samue\\AppData\\Local\\uv\\cache\\archive-v0\\b-j2aKMKaagekQESbnOBC\\Lib\\site-packages\\tornado\\platform\\asyncio.py\", line 211, in start\n",
      "    self.asyncio_loop.run_forever()\n",
      "  File \"C:\\Users\\samue\\AppData\\Roaming\\uv\\python\\cpython-3.11.11-windows-x86_64-none\\Lib\\asyncio\\base_events.py\", line 608, in run_forever\n",
      "    self._run_once()\n",
      "  File \"C:\\Users\\samue\\AppData\\Roaming\\uv\\python\\cpython-3.11.11-windows-x86_64-none\\Lib\\asyncio\\base_events.py\", line 1936, in _run_once\n",
      "    handle._run()\n",
      "  File \"C:\\Users\\samue\\AppData\\Roaming\\uv\\python\\cpython-3.11.11-windows-x86_64-none\\Lib\\asyncio\\events.py\", line 84, in _run\n",
      "    self._context.run(self._callback, *self._args)\n",
      "  File \"C:\\Users\\samue\\AppData\\Local\\uv\\cache\\archive-v0\\b-j2aKMKaagekQESbnOBC\\Lib\\site-packages\\ipykernel\\kernelbase.py\", line 519, in dispatch_queue\n",
      "    await self.process_one()\n",
      "  File \"C:\\Users\\samue\\AppData\\Local\\uv\\cache\\archive-v0\\b-j2aKMKaagekQESbnOBC\\Lib\\site-packages\\ipykernel\\kernelbase.py\", line 508, in process_one\n",
      "    await dispatch(*args)\n",
      "  File \"C:\\Users\\samue\\AppData\\Local\\uv\\cache\\archive-v0\\b-j2aKMKaagekQESbnOBC\\Lib\\site-packages\\ipykernel\\kernelbase.py\", line 400, in dispatch_shell\n",
      "    await result\n",
      "  File \"C:\\Users\\samue\\AppData\\Local\\uv\\cache\\archive-v0\\b-j2aKMKaagekQESbnOBC\\Lib\\site-packages\\ipykernel\\ipkernel.py\", line 368, in execute_request\n",
      "    await super().execute_request(stream, ident, parent)\n",
      "  File \"C:\\Users\\samue\\AppData\\Local\\uv\\cache\\archive-v0\\b-j2aKMKaagekQESbnOBC\\Lib\\site-packages\\ipykernel\\kernelbase.py\", line 767, in execute_request\n",
      "    reply_content = await reply_content\n",
      "  File \"C:\\Users\\samue\\AppData\\Local\\uv\\cache\\archive-v0\\b-j2aKMKaagekQESbnOBC\\Lib\\site-packages\\ipykernel\\ipkernel.py\", line 455, in do_execute\n",
      "    res = shell.run_cell(\n",
      "  File \"C:\\Users\\samue\\AppData\\Local\\uv\\cache\\archive-v0\\b-j2aKMKaagekQESbnOBC\\Lib\\site-packages\\ipykernel\\zmqshell.py\", line 577, in run_cell\n",
      "    return super().run_cell(*args, **kwargs)\n",
      "  File \"C:\\Users\\samue\\AppData\\Local\\uv\\cache\\archive-v0\\b-j2aKMKaagekQESbnOBC\\Lib\\site-packages\\IPython\\core\\interactiveshell.py\", line 3116, in run_cell\n",
      "    result = self._run_cell(\n",
      "  File \"C:\\Users\\samue\\AppData\\Local\\uv\\cache\\archive-v0\\b-j2aKMKaagekQESbnOBC\\Lib\\site-packages\\IPython\\core\\interactiveshell.py\", line 3171, in _run_cell\n",
      "    result = runner(coro)\n",
      "  File \"C:\\Users\\samue\\AppData\\Local\\uv\\cache\\archive-v0\\b-j2aKMKaagekQESbnOBC\\Lib\\site-packages\\IPython\\core\\async_helpers.py\", line 128, in _pseudo_sync_runner\n",
      "    coro.send(None)\n",
      "  File \"C:\\Users\\samue\\AppData\\Local\\uv\\cache\\archive-v0\\b-j2aKMKaagekQESbnOBC\\Lib\\site-packages\\IPython\\core\\interactiveshell.py\", line 3394, in run_cell_async\n",
      "    has_raised = await self.run_ast_nodes(code_ast.body, cell_name,\n",
      "  File \"C:\\Users\\samue\\AppData\\Local\\uv\\cache\\archive-v0\\b-j2aKMKaagekQESbnOBC\\Lib\\site-packages\\IPython\\core\\interactiveshell.py\", line 3639, in run_ast_nodes\n",
      "    if await self.run_code(code, result, async_=asy):\n",
      "  File \"C:\\Users\\samue\\AppData\\Local\\uv\\cache\\archive-v0\\b-j2aKMKaagekQESbnOBC\\Lib\\site-packages\\IPython\\core\\interactiveshell.py\", line 3699, in run_code\n",
      "    exec(code_obj, self.user_global_ns, self.user_ns)\n",
      "  File \"C:\\Users\\samue\\AppData\\Local\\Temp\\ipykernel_11156\\3823901138.py\", line 14, in <module>\n",
      "    from lemat_genbench.utils.oxidation_state import (\n",
      "  File \"<frozen importlib._bootstrap>\", line 1176, in _find_and_load\n",
      "  File \"<frozen importlib._bootstrap>\", line 1126, in _find_and_load_unlocked\n",
      "  File \"<frozen importlib._bootstrap>\", line 241, in _call_with_frames_removed\n",
      "  File \"<frozen importlib._bootstrap>\", line 1176, in _find_and_load\n",
      "  File \"<frozen importlib._bootstrap>\", line 1126, in _find_and_load_unlocked\n",
      "  File \"<frozen importlib._bootstrap>\", line 241, in _call_with_frames_removed\n",
      "  File \"<frozen importlib._bootstrap>\", line 1176, in _find_and_load\n",
      "  File \"<frozen importlib._bootstrap>\", line 1147, in _find_and_load_unlocked\n",
      "  File \"<frozen importlib._bootstrap>\", line 690, in _load_unlocked\n",
      "  File \"<frozen importlib._bootstrap_external>\", line 940, in exec_module\n",
      "  File \"<frozen importlib._bootstrap>\", line 241, in _call_with_frames_removed\n",
      "  File \"C:\\Users\\samue\\lemat-genbench\\src\\lemat_genbench\\__init__.py\", line 17, in <module>\n",
      "    from .cli import main\n",
      "  File \"<frozen importlib._bootstrap>\", line 1176, in _find_and_load\n",
      "  File \"<frozen importlib._bootstrap>\", line 1147, in _find_and_load_unlocked\n",
      "  File \"<frozen importlib._bootstrap>\", line 690, in _load_unlocked\n",
      "  File \"<frozen importlib._bootstrap_external>\", line 940, in exec_module\n",
      "  File \"<frozen importlib._bootstrap>\", line 241, in _call_with_frames_removed\n",
      "  File \"C:\\Users\\samue\\lemat-genbench\\src\\lemat_genbench\\cli.py\", line 14, in <module>\n",
      "    from lemat_genbench.benchmarks.distribution_benchmark import (\n",
      "  File \"<frozen importlib._bootstrap>\", line 1176, in _find_and_load\n",
      "  File \"<frozen importlib._bootstrap>\", line 1126, in _find_and_load_unlocked\n",
      "  File \"<frozen importlib._bootstrap>\", line 241, in _call_with_frames_removed\n",
      "  File \"<frozen importlib._bootstrap>\", line 1176, in _find_and_load\n",
      "  File \"<frozen importlib._bootstrap>\", line 1147, in _find_and_load_unlocked\n",
      "  File \"<frozen importlib._bootstrap>\", line 690, in _load_unlocked\n",
      "  File \"<frozen importlib._bootstrap_external>\", line 940, in exec_module\n",
      "  File \"<frozen importlib._bootstrap>\", line 241, in _call_with_frames_removed\n",
      "  File \"C:\\Users\\samue\\lemat-genbench\\src\\lemat_genbench\\benchmarks\\__init__.py\", line 13, in <module>\n",
      "    from .novelty_benchmark import NoveltyBenchmark\n",
      "  File \"<frozen importlib._bootstrap>\", line 1176, in _find_and_load\n",
      "  File \"<frozen importlib._bootstrap>\", line 1147, in _find_and_load_unlocked\n",
      "  File \"<frozen importlib._bootstrap>\", line 690, in _load_unlocked\n",
      "  File \"<frozen importlib._bootstrap_external>\", line 940, in exec_module\n",
      "  File \"<frozen importlib._bootstrap>\", line 241, in _call_with_frames_removed\n",
      "  File \"C:\\Users\\samue\\lemat-genbench\\src\\lemat_genbench\\benchmarks\\novelty_benchmark.py\", line 14, in <module>\n",
      "    from lemat_genbench.metrics.novelty_metric import NoveltyMetric\n",
      "  File \"<frozen importlib._bootstrap>\", line 1176, in _find_and_load\n",
      "  File \"<frozen importlib._bootstrap>\", line 1147, in _find_and_load_unlocked\n",
      "  File \"<frozen importlib._bootstrap>\", line 690, in _load_unlocked\n",
      "  File \"<frozen importlib._bootstrap_external>\", line 940, in exec_module\n",
      "  File \"<frozen importlib._bootstrap>\", line 241, in _call_with_frames_removed\n",
      "  File \"C:\\Users\\samue\\lemat-genbench\\src\\lemat_genbench\\metrics\\novelty_metric.py\", line 17, in <module>\n",
      "    from lemat_genbench.fingerprinting.encode_compositions import (\n",
      "  File \"<frozen importlib._bootstrap>\", line 1176, in _find_and_load\n",
      "  File \"<frozen importlib._bootstrap>\", line 1126, in _find_and_load_unlocked\n",
      "  File \"<frozen importlib._bootstrap>\", line 241, in _call_with_frames_removed\n",
      "  File \"<frozen importlib._bootstrap>\", line 1176, in _find_and_load\n",
      "  File \"<frozen importlib._bootstrap>\", line 1147, in _find_and_load_unlocked\n",
      "  File \"<frozen importlib._bootstrap>\", line 690, in _load_unlocked\n",
      "  File \"<frozen importlib._bootstrap_external>\", line 940, in exec_module\n",
      "  File \"<frozen importlib._bootstrap>\", line 241, in _call_with_frames_removed\n",
      "  File \"C:\\Users\\samue\\lemat-genbench\\src\\lemat_genbench\\fingerprinting\\__init__.py\", line 28, in <module>\n",
      "    from .utils import get_fingerprint, get_fingerprinter\n",
      "  File \"<frozen importlib._bootstrap>\", line 1176, in _find_and_load\n",
      "  File \"<frozen importlib._bootstrap>\", line 1147, in _find_and_load_unlocked\n",
      "  File \"<frozen importlib._bootstrap>\", line 690, in _load_unlocked\n",
      "  File \"<frozen importlib._bootstrap_external>\", line 940, in exec_module\n",
      "  File \"<frozen importlib._bootstrap>\", line 241, in _call_with_frames_removed\n",
      "  File \"C:\\Users\\samue\\lemat-genbench\\src\\lemat_genbench\\fingerprinting\\utils.py\", line 9, in <module>\n",
      "    from material_hasher.similarity.pdd import PointwiseDistanceDistributionSimilarity\n",
      "  File \"<frozen importlib._bootstrap>\", line 1176, in _find_and_load\n",
      "  File \"<frozen importlib._bootstrap>\", line 1126, in _find_and_load_unlocked\n",
      "  File \"<frozen importlib._bootstrap>\", line 241, in _call_with_frames_removed\n",
      "  File \"<frozen importlib._bootstrap>\", line 1176, in _find_and_load\n",
      "  File \"<frozen importlib._bootstrap>\", line 1147, in _find_and_load_unlocked\n",
      "  File \"<frozen importlib._bootstrap>\", line 690, in _load_unlocked\n",
      "  File \"<frozen importlib._bootstrap_external>\", line 940, in exec_module\n",
      "  File \"<frozen importlib._bootstrap>\", line 241, in _call_with_frames_removed\n",
      "  File \"C:\\Users\\samue\\lemat-genbench\\.venv\\Lib\\site-packages\\material_hasher\\similarity\\__init__.py\", line 18, in <module>\n",
      "    logging.warning(\n",
      "Message: \"EquiformerV2Similarity is not available. You need to install fairchem-core and its dependencies. This issue is known to affect MacOS systems. If you're not using MacOS, please ensure the optional dependencies required for this feature are installed. uv sync --extra fairchem and uv sync --extra geometricFor more information, refer to issue #4: https://github.com/Entalpic/material-hasher/issues/4\"\n",
      "Arguments: (\"Error: cannot import name 'OCPCalculator' from 'fairchem.core' (C:\\\\Users\\\\samue\\\\lemat-genbench\\\\.venv\\\\Lib\\\\site-packages\\\\fairchem\\\\core\\\\__init__.py)\",)\n"
     ]
    }
   ],
   "source": [
    "import json\n",
    "import math\n",
    "import re\n",
    "from collections import defaultdict\n",
    "from itertools import combinations_with_replacement, product\n",
    "from pathlib import Path\n",
    "\n",
    "import numpy as np\n",
    "import pandas as pd\n",
    "import smact\n",
    "from pymatgen.core import Composition, Element, Species\n",
    "from smact.utils.oxidation import ICSD24OxStatesFilter\n",
    "\n",
    "from lemat_genbench.utils.oxidation_state import (\n",
    "    build_oxi_dict,\n",
    "    build_oxi_dict_probs,\n",
    "    build_oxi_state_map,\n",
    "    build_sorted_oxi_dict,\n",
    ")"
   ]
  },
  {
   "cell_type": "code",
   "execution_count": 2,
   "metadata": {},
   "outputs": [],
   "source": [
    "from smact.screening import smact_filter, smact_validity"
   ]
  },
  {
   "cell_type": "code",
   "execution_count": 3,
   "metadata": {},
   "outputs": [],
   "source": [
    "# Initialise the oxidation state filter\n",
    "ox_filter = ICSD24OxStatesFilter()"
   ]
  },
  {
   "cell_type": "code",
   "execution_count": 4,
   "metadata": {},
   "outputs": [],
   "source": [
    "# Return the dataframe with non-zero results\n",
    "test = ox_filter.get_species_occurrences_df(sort_by_occurrences=False)"
   ]
  },
  {
   "cell_type": "code",
   "execution_count": 5,
   "metadata": {},
   "outputs": [],
   "source": [
    "test[\"species_proportion_fraction\"] = test[\"species_proportion (%)\"]/100"
   ]
  },
  {
   "cell_type": "code",
   "execution_count": 6,
   "metadata": {},
   "outputs": [],
   "source": [
    "test_subcols = test[[\"species\", \"species_proportion_fraction\"]]"
   ]
  },
  {
   "cell_type": "code",
   "execution_count": 7,
   "metadata": {},
   "outputs": [],
   "source": [
    "icsd_dict = test_subcols.set_index(\"species\")[\"species_proportion_fraction\"].to_dict()"
   ]
  },
  {
   "cell_type": "code",
   "execution_count": 8,
   "metadata": {},
   "outputs": [],
   "source": [
    "with open(\"icsd_oxi_dict_probs.json\", \"w\") as f:\n",
    "    json.dump(icsd_dict, f, indent=4)"
   ]
  },
  {
   "cell_type": "code",
   "execution_count": 9,
   "metadata": {},
   "outputs": [],
   "source": [
    "pattern = re.compile(r\"([A-Za-z]+)(\\d*)([+-])\")"
   ]
  },
  {
   "cell_type": "code",
   "execution_count": 10,
   "metadata": {},
   "outputs": [],
   "source": [
    "oxi_state_mapping = defaultdict(list)"
   ]
  },
  {
   "cell_type": "code",
   "execution_count": 11,
   "metadata": {},
   "outputs": [],
   "source": [
    "for species in icsd_dict.keys():\n",
    "    match = pattern.fullmatch(species)\n",
    "    element, number, sign = match.groups()\n",
    "    try:\n",
    "        number = int(number)\n",
    "    except ValueError:\n",
    "        number = 1 \n",
    "    if sign == \"+\":\n",
    "        charge = number\n",
    "    else:\n",
    "        charge = -number\n",
    "    oxi_state_mapping[element].append(charge)"
   ]
  },
  {
   "cell_type": "code",
   "execution_count": 12,
   "metadata": {},
   "outputs": [],
   "source": [
    "with open(\"icsd_oxi_state_mapping.json\", \"w\") as f:\n",
    "    json.dump(oxi_state_mapping, f, indent=4)"
   ]
  },
  {
   "cell_type": "code",
   "execution_count": 13,
   "metadata": {},
   "outputs": [],
   "source": [
    "with open(\"oxi_state_mapping.json\", \"rb\") as f:\n",
    "    lemat_oxi_state_mapping = json.load(f)"
   ]
  },
  {
   "cell_type": "code",
   "execution_count": 14,
   "metadata": {},
   "outputs": [],
   "source": [
    "with open(\"oxi_dict_probs.json\", \"rb\") as f:\n",
    "    lemat_oxi_dict_probs = json.load(f)"
   ]
  },
  {
   "cell_type": "code",
   "execution_count": 15,
   "metadata": {
    "scrolled": true
   },
   "outputs": [
    {
     "name": "stdout",
     "output_type": "stream",
     "text": [
      "Kr2+\n",
      "Tc+\n",
      "Tc2+\n",
      "Tc3+\n",
      "Tc4+\n",
      "Tc5+\n",
      "Tc6+\n",
      "Tc7+\n",
      "Xe2+\n",
      "Xe4+\n",
      "Xe6+\n",
      "Xe8+\n",
      "Pm3+\n",
      "Os+\n",
      "Os2+\n",
      "Os3+\n",
      "Os4+\n",
      "Os5+\n",
      "Os6+\n",
      "Os7+\n",
      "Os8+\n",
      "Pt2-\n",
      "Pt+\n",
      "Pt2+\n",
      "Pt3+\n",
      "Pt4+\n",
      "Pt5+\n",
      "Pt6+\n",
      "Au-\n",
      "Au+\n",
      "Au2+\n",
      "Au3+\n",
      "Au5+\n",
      "Po4+\n",
      "Ra2+\n",
      "Ac3+\n",
      "Pa3+\n",
      "Pa4+\n",
      "Pa5+\n",
      "Np2+\n",
      "Np3+\n",
      "Np4+\n",
      "Np5+\n",
      "Np6+\n",
      "Np7+\n",
      "Pu2+\n",
      "Pu3+\n",
      "Pu4+\n",
      "Pu5+\n",
      "Pu6+\n",
      "Pu7+\n",
      "Am2+\n",
      "Am3+\n",
      "Am4+\n",
      "Am5+\n",
      "Am6+\n",
      "Cm3+\n",
      "Cm4+\n",
      "Bk3+\n",
      "Bk4+\n",
      "Cf3+\n",
      "Es3+\n"
     ]
    }
   ],
   "source": [
    "for key in oxi_state_mapping:\n",
    "    if key in lemat_oxi_state_mapping.keys():\n",
    "        pass\n",
    "    else:\n",
    "        lemat_oxi_state_mapping[key] = oxi_state_mapping[key]\n",
    "        for charge in oxi_state_mapping[key]:\n",
    "            new_key = str(key)\n",
    "            if charge > 0:\n",
    "                if charge > 1:\n",
    "                    new_key += str(charge)\n",
    "                new_key += \"+\"\n",
    "            if charge < 0:\n",
    "                if charge < -1: \n",
    "                    new_key += str(np.abs(charge))\n",
    "                new_key += \"-\"\n",
    "            print(new_key)\n",
    "            lemat_oxi_dict_probs[new_key] = icsd_dict[new_key]"
   ]
  },
  {
   "cell_type": "code",
   "execution_count": 16,
   "metadata": {},
   "outputs": [],
   "source": [
    "# with open(\"lemat_icsd_oxi_state_mapping.json\", \"w\") as f:\n",
    "#     json.dump(lemat_oxi_state_mapping, f, indent=4)"
   ]
  },
  {
   "cell_type": "code",
   "execution_count": null,
   "metadata": {},
   "outputs": [],
   "source": [
    "# with open(\"lemat_icsd_oxi_state_mapping.json\", \"w\") as f:\n",
    "#     json.dump(lemat_oxi_state_mapping, f, indent=4)"
   ]
  },
  {
   "cell_type": "code",
   "execution_count": 24,
   "metadata": {},
   "outputs": [],
   "source": [
    "def test_matching(oxi_state_mapping, lemat_oxi_dict_probs):\n",
    "    \n",
    "    with open(\"lemat_icsd_oxi_state_mapping.json\", \"rb\") as f:\n",
    "        reference_oxi_state_mapping = json.load(f) \n",
    "    with open(\"lemat_icsd_oxi_dict_probs.json\", \"rb\") as f:\n",
    "        reference_oxi_dict_probs = json.load(f) \n",
    "\n",
    "    if reference_oxi_state_mapping == oxi_state_mapping: \n",
    "        pass\n",
    "    else: \n",
    "        raise ValueError \n",
    "\n",
    "    if reference_oxi_dict_probs == lemat_oxi_dict_probs:\n",
    "        pass\n",
    "    else:\n",
    "        raise ValueError \n",
    "\n",
    "    return \"oxidation state dictionaries and probabilities match!\""
   ]
  },
  {
   "cell_type": "code",
   "execution_count": 25,
   "metadata": {},
   "outputs": [
    {
     "data": {
      "text/plain": [
       "'oxidation state dictionaries and probabilities match!'"
      ]
     },
     "execution_count": 25,
     "metadata": {},
     "output_type": "execute_result"
    }
   ],
   "source": [
    "test_matching(lemat_oxi_state_mapping, lemat_oxi_dict_probs)"
   ]
  },
  {
   "cell_type": "code",
   "execution_count": null,
   "metadata": {},
   "outputs": [],
   "source": []
  }
 ],
 "metadata": {
  "kernelspec": {
   "display_name": "Python 3 (ipykernel)",
   "language": "python",
   "name": "python3"
  },
  "language_info": {
   "codemirror_mode": {
    "name": "ipython",
    "version": 3
   },
   "file_extension": ".py",
   "mimetype": "text/x-python",
   "name": "python",
   "nbconvert_exporter": "python",
   "pygments_lexer": "ipython3",
   "version": "3.11.11"
  }
 },
 "nbformat": 4,
 "nbformat_minor": 4
}
