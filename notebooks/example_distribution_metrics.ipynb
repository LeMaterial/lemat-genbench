{
 "cells": [
  {
   "cell_type": "code",
   "execution_count": 1,
   "id": "8b9a431a-ddf9-4b97-874f-571dd1bc4bfb",
   "metadata": {
    "scrolled": true
   },
   "outputs": [
    {
     "data": {
      "text/html": [
       "<pre style=\"white-space:pre;overflow-x:auto;line-height:normal;font-family:Menlo,'DejaVu Sans Mono',consolas,'Courier New',monospace\"><span style=\"color: #7fbfbf; text-decoration-color: #7fbfbf\">[13:19:50] </span><span style=\"color: #808000; text-decoration-color: #808000\">WARNING </span> equiformer not available                                                        <a href=\"file://C:\\Users\\samue\\lematerial-forgebench\\src\\lematerial_forgebench\\models\\registry.py\" target=\"_blank\"><span style=\"color: #7f7f7f; text-decoration-color: #7f7f7f\">registry.py</span></a><span style=\"color: #7f7f7f; text-decoration-color: #7f7f7f\">:</span><a href=\"file://C:\\Users\\samue\\lematerial-forgebench\\src\\lematerial_forgebench\\models\\registry.py#141\" target=\"_blank\"><span style=\"color: #7f7f7f; text-decoration-color: #7f7f7f\">141</span></a>\n",
       "</pre>\n"
      ],
      "text/plain": [
       "\u001b[2;36m[13:19:50]\u001b[0m\u001b[2;36m \u001b[0m\u001b[33mWARNING \u001b[0m equiformer not available                                                        \u001b]8;id=832524;file://C:\\Users\\samue\\lematerial-forgebench\\src\\lematerial_forgebench\\models\\registry.py\u001b\\\u001b[2mregistry.py\u001b[0m\u001b]8;;\u001b\\\u001b[2m:\u001b[0m\u001b]8;id=879341;file://C:\\Users\\samue\\lematerial-forgebench\\src\\lematerial_forgebench\\models\\registry.py#141\u001b\\\u001b[2m141\u001b[0m\u001b]8;;\u001b\\\n"
      ]
     },
     "metadata": {},
     "output_type": "display_data"
    },
    {
     "name": "stderr",
     "output_type": "stream",
     "text": [
      "C:\\Users\\samue\\lematerial-forgebench\\.venv\\Lib\\site-packages\\e3nn\\o3\\_wigner.py:10: UserWarning: Environment variable TORCH_FORCE_NO_WEIGHTS_ONLY_LOAD detected, since the`weights_only` argument was not explicitly passed to `torch.load`, forcing weights_only=False.\n",
      "  _Jd, _W3j_flat, _W3j_indices = torch.load(os.path.join(os.path.dirname(__file__), 'constants.pt'))\n"
     ]
    },
    {
     "name": "stdout",
     "output_type": "stream",
     "text": [
      "cuequivariance or cuequivariance_torch is not available. Cuequivariance acceleration will be disabled.\n"
     ]
    },
    {
     "data": {
      "text/html": [
       "<pre style=\"white-space:pre;overflow-x:auto;line-height:normal;font-family:Menlo,'DejaVu Sans Mono',consolas,'Courier New',monospace\"><span style=\"color: #7fbfbf; text-decoration-color: #7fbfbf\">[13:19:52] </span><span style=\"color: #000080; text-decoration-color: #000080\">INFO    </span> Successfully registered mace model                                              <a href=\"file://C:\\Users\\samue\\lematerial-forgebench\\src\\lematerial_forgebench\\models\\registry.py\" target=\"_blank\"><span style=\"color: #7f7f7f; text-decoration-color: #7f7f7f\">registry.py</span></a><span style=\"color: #7f7f7f; text-decoration-color: #7f7f7f\">:</span><a href=\"file://C:\\Users\\samue\\lematerial-forgebench\\src\\lematerial_forgebench\\models\\registry.py#156\" target=\"_blank\"><span style=\"color: #7f7f7f; text-decoration-color: #7f7f7f\">156</span></a>\n",
       "</pre>\n"
      ],
      "text/plain": [
       "\u001b[2;36m[13:19:52]\u001b[0m\u001b[2;36m \u001b[0m\u001b[34mINFO    \u001b[0m Successfully registered mace model                                              \u001b]8;id=850838;file://C:\\Users\\samue\\lematerial-forgebench\\src\\lematerial_forgebench\\models\\registry.py\u001b\\\u001b[2mregistry.py\u001b[0m\u001b]8;;\u001b\\\u001b[2m:\u001b[0m\u001b]8;id=146184;file://C:\\Users\\samue\\lematerial-forgebench\\src\\lematerial_forgebench\\models\\registry.py#156\u001b\\\u001b[2m156\u001b[0m\u001b]8;;\u001b\\\n"
      ]
     },
     "metadata": {},
     "output_type": "display_data"
    },
    {
     "data": {
      "text/html": [
       "<pre style=\"white-space:pre;overflow-x:auto;line-height:normal;font-family:Menlo,'DejaVu Sans Mono',consolas,'Courier New',monospace\"><span style=\"color: #7fbfbf; text-decoration-color: #7fbfbf\">[13:19:53] </span><span style=\"color: #000080; text-decoration-color: #000080\">INFO    </span> Successfully registered orb model                                               <a href=\"file://C:\\Users\\samue\\lematerial-forgebench\\src\\lematerial_forgebench\\models\\registry.py\" target=\"_blank\"><span style=\"color: #7f7f7f; text-decoration-color: #7f7f7f\">registry.py</span></a><span style=\"color: #7f7f7f; text-decoration-color: #7f7f7f\">:</span><a href=\"file://C:\\Users\\samue\\lematerial-forgebench\\src\\lematerial_forgebench\\models\\registry.py#156\" target=\"_blank\"><span style=\"color: #7f7f7f; text-decoration-color: #7f7f7f\">156</span></a>\n",
       "</pre>\n"
      ],
      "text/plain": [
       "\u001b[2;36m[13:19:53]\u001b[0m\u001b[2;36m \u001b[0m\u001b[34mINFO    \u001b[0m Successfully registered orb model                                               \u001b]8;id=67672;file://C:\\Users\\samue\\lematerial-forgebench\\src\\lematerial_forgebench\\models\\registry.py\u001b\\\u001b[2mregistry.py\u001b[0m\u001b]8;;\u001b\\\u001b[2m:\u001b[0m\u001b]8;id=834533;file://C:\\Users\\samue\\lematerial-forgebench\\src\\lematerial_forgebench\\models\\registry.py#156\u001b\\\u001b[2m156\u001b[0m\u001b]8;;\u001b\\\n"
      ]
     },
     "metadata": {},
     "output_type": "display_data"
    },
    {
     "data": {
      "text/html": [
       "<pre style=\"white-space:pre;overflow-x:auto;line-height:normal;font-family:Menlo,'DejaVu Sans Mono',consolas,'Courier New',monospace\"><span style=\"color: #7fbfbf; text-decoration-color: #7fbfbf\">           </span><span style=\"color: #000080; text-decoration-color: #000080\">INFO    </span> Successfully registered uma model                                               <a href=\"file://C:\\Users\\samue\\lematerial-forgebench\\src\\lematerial_forgebench\\models\\registry.py\" target=\"_blank\"><span style=\"color: #7f7f7f; text-decoration-color: #7f7f7f\">registry.py</span></a><span style=\"color: #7f7f7f; text-decoration-color: #7f7f7f\">:</span><a href=\"file://C:\\Users\\samue\\lematerial-forgebench\\src\\lematerial_forgebench\\models\\registry.py#156\" target=\"_blank\"><span style=\"color: #7f7f7f; text-decoration-color: #7f7f7f\">156</span></a>\n",
       "</pre>\n"
      ],
      "text/plain": [
       "\u001b[2;36m          \u001b[0m\u001b[2;36m \u001b[0m\u001b[34mINFO    \u001b[0m Successfully registered uma model                                               \u001b]8;id=178155;file://C:\\Users\\samue\\lematerial-forgebench\\src\\lematerial_forgebench\\models\\registry.py\u001b\\\u001b[2mregistry.py\u001b[0m\u001b]8;;\u001b\\\u001b[2m:\u001b[0m\u001b]8;id=994079;file://C:\\Users\\samue\\lematerial-forgebench\\src\\lematerial_forgebench\\models\\registry.py#156\u001b\\\u001b[2m156\u001b[0m\u001b]8;;\u001b\\\n"
      ]
     },
     "metadata": {},
     "output_type": "display_data"
    }
   ],
   "source": [
    "import pickle\n",
    "\n",
    "import matplotlib.pyplot as plt\n",
    "import numpy as np\n",
    "import pandas as pd\n",
    "from datasets import load_dataset\n",
    "from pymatgen.core import Structure\n",
    "from pymatgen.util.testing import PymatgenTest\n",
    "from scipy.spatial.distance import jensenshannon\n",
    "\n",
    "from lematerial_forgebench.benchmarks.distribution_benchmark import (\n",
    "    DistributionBenchmark,\n",
    ")\n",
    "from lematerial_forgebench.metrics.distribution_metrics import (\n",
    "    MMD,\n",
    "    FrechetDistance,\n",
    "    JSDistance,\n",
    ")\n",
    "from lematerial_forgebench.preprocess.base import PreprocessorResult\n",
    "from lematerial_forgebench.preprocess.distribution_preprocess import (\n",
    "    DistributionPreprocessor,\n",
    ")\n",
    "from lematerial_forgebench.preprocess.universal_stability_preprocess import (\n",
    "    UniversalStabilityPreprocessor,\n",
    ")\n",
    "from lematerial_forgebench.utils.distribution_utils import (\n",
    "    map_space_group_to_crystal_system,\n",
    ")\n",
    "\n",
    "%load_ext autoreload\n",
    "%autoreload 2"
   ]
  },
  {
   "cell_type": "code",
   "execution_count": 2,
   "id": "34ca5d5e-aa6d-4722-a511-8cf0d4445017",
   "metadata": {},
   "outputs": [],
   "source": [
    "with open(\"sample_lematbulk.pkl\", \"rb\") as f:\n",
    "    test_lemat = pickle.load(f)"
   ]
  },
  {
   "cell_type": "code",
   "execution_count": 3,
   "id": "c013bc3e-2e91-44ef-ba42-e89c170d96bc",
   "metadata": {},
   "outputs": [
    {
     "name": "stderr",
     "output_type": "stream",
     "text": [
      "C:\\Users\\samue\\AppData\\Local\\Temp\\ipykernel_39524\\905669326.py:1: FutureWarning: PymatgenTest is deprecated, and will be removed on 2026-01-01\n",
      "Use MatSciTest in pymatgen.util.testing instead.\n",
      "  test = PymatgenTest()\n"
     ]
    }
   ],
   "source": [
    "test = PymatgenTest()\n",
    "\n",
    "filename = \"CsBr.cif\"\n",
    "structure = Structure.from_file(filename)\n",
    "structure = structure.remove_oxidation_states()\n",
    "\n",
    "filename2 = \"CsPbBr3.cif\"\n",
    "structure2 = Structure.from_file(filename2)\n",
    "structure2 = structure2.remove_oxidation_states()\n",
    "\n",
    "structures = [\n",
    "    # structure,\n",
    "    # structure2,\n",
    "    test.get_structure(\"Si\"),\n",
    "    test.get_structure(\"LiFePO4\"),\n",
    "]"
   ]
  },
  {
   "cell_type": "code",
   "execution_count": 4,
   "id": "ac803dcc-bef0-482b-bb3c-1e8c25f1b2c0",
   "metadata": {},
   "outputs": [
    {
     "name": "stderr",
     "output_type": "stream",
     "text": [
      "C:\\Users\\samue\\lematerial-forgebench\\.venv\\Lib\\site-packages\\orb_models\\utils.py:30: UserWarning: Setting global torch default dtype to torch.float32.\n",
      "  warnings.warn(f\"Setting global torch default dtype to {torch_dtype}.\")\n"
     ]
    },
    {
     "data": {
      "text/html": [
       "<pre style=\"white-space:pre;overflow-x:auto;line-height:normal;font-family:Menlo,'DejaVu Sans Mono',consolas,'Courier New',monospace\"><span style=\"color: #7fbfbf; text-decoration-color: #7fbfbf\">[13:19:55] </span><span style=\"color: #000080; text-decoration-color: #000080\">INFO    </span> Successfully loaded ORB model: orb_v3_conservative_inf_omat                    <a href=\"file://C:\\Users\\samue\\lematerial-forgebench\\src\\lematerial_forgebench\\models\\orb\\calculator.py\" target=\"_blank\"><span style=\"color: #7f7f7f; text-decoration-color: #7f7f7f\">calculator.py</span></a><span style=\"color: #7f7f7f; text-decoration-color: #7f7f7f\">:</span><a href=\"file://C:\\Users\\samue\\lematerial-forgebench\\src\\lematerial_forgebench\\models\\orb\\calculator.py#59\" target=\"_blank\"><span style=\"color: #7f7f7f; text-decoration-color: #7f7f7f\">59</span></a>\n",
       "</pre>\n"
      ],
      "text/plain": [
       "\u001b[2;36m[13:19:55]\u001b[0m\u001b[2;36m \u001b[0m\u001b[34mINFO    \u001b[0m Successfully loaded ORB model: orb_v3_conservative_inf_omat                    \u001b]8;id=541846;file://C:\\Users\\samue\\lematerial-forgebench\\src\\lematerial_forgebench\\models\\orb\\calculator.py\u001b\\\u001b[2mcalculator.py\u001b[0m\u001b]8;;\u001b\\\u001b[2m:\u001b[0m\u001b]8;id=941158;file://C:\\Users\\samue\\lematerial-forgebench\\src\\lematerial_forgebench\\models\\orb\\calculator.py#59\u001b\\\u001b[2m59\u001b[0m\u001b]8;;\u001b\\\n"
      ]
     },
     "metadata": {},
     "output_type": "display_data"
    }
   ],
   "source": [
    "stability_preprocessor = UniversalStabilityPreprocessor(model_name=\"orb\", timeout = 100000, relax_structures = False)\n",
    "stability_preprocessor_result = stability_preprocessor(structures)"
   ]
  },
  {
   "cell_type": "code",
   "execution_count": 5,
   "id": "f7c3c414-bb9a-412a-9a65-c6d9b5a05ba0",
   "metadata": {},
   "outputs": [
    {
     "data": {
      "text/plain": [
       "{'mlip_model': 'ORBCalculator',\n",
       " 'model_config': 'orb_v3_conservative_inf_omat',\n",
       " 'energy': -190.75131225585938,\n",
       " 'forces': array([[-2.1145190e-03, -1.6023011e-03,  3.0304189e-05],\n",
       "        [-5.6832342e-04, -5.0707202e-04,  7.0619571e-04],\n",
       "        [-4.5502523e-04, -2.0675794e-03,  4.9744768e-04],\n",
       "        [ 7.1775360e-04, -7.8805070e-04, -4.2188680e-05],\n",
       "        [ 7.2393157e-02,  9.3152896e-02,  7.6207250e-02],\n",
       "        [-7.4446805e-02, -9.4374299e-02,  7.6251946e-02],\n",
       "        [ 7.0277348e-02,  9.4230048e-02, -7.2140619e-02],\n",
       "        [-7.2767898e-02, -9.1961712e-02, -7.3393255e-02],\n",
       "        [ 6.2961161e-02,  9.8316088e-02, -5.5881400e-02],\n",
       "        [-6.5632656e-02, -9.9183455e-02, -5.1081479e-02],\n",
       "        [ 6.5183312e-02,  9.7099535e-02,  5.0565090e-02],\n",
       "        [-6.7757100e-02, -9.7848818e-02,  4.3986291e-02],\n",
       "        [ 6.3024655e-02,  2.1918677e-02,  4.4074915e-03],\n",
       "        [-1.4486998e-02,  3.1478763e-02,  6.7651063e-02],\n",
       "        [-6.2403355e-02,  7.9694912e-03, -7.2695017e-02],\n",
       "        [-7.4046843e-02, -9.5567450e-02,  2.2806898e-02],\n",
       "        [ 7.3819168e-02,  9.5026217e-02,  2.3395874e-02],\n",
       "        [ 6.6192359e-02, -5.6631509e-03, -7.2802961e-02],\n",
       "        [ 1.6776592e-02, -3.0235406e-02,  6.4600393e-02],\n",
       "        [-5.8704704e-02, -2.0882506e-02,  1.9080564e-03],\n",
       "        [ 6.3518107e-02,  2.2116970e-02, -2.4255514e-03],\n",
       "        [-1.5070554e-02,  3.3433869e-02, -6.5235659e-02],\n",
       "        [-6.3298851e-02,  9.2783105e-03,  7.3026918e-02],\n",
       "        [-7.7027909e-02, -9.7861037e-02, -2.4860762e-02],\n",
       "        [ 7.3828503e-02,  9.4774827e-02, -2.6726224e-02],\n",
       "        [ 6.5965526e-02, -9.7981924e-03,  7.3233254e-02],\n",
       "        [ 1.8035443e-02, -3.0230004e-02, -6.1155066e-02],\n",
       "        [-6.3911274e-02, -2.0224381e-02, -8.3518773e-04]], dtype=float32),\n",
       " 'formation_energy': -12.061907388726752,\n",
       " 'e_above_hull': np.float64(0.24325226729073446),\n",
       " 'node_embeddings': array([[-6.71950936e-01,  1.55122459e-01, -9.46518481e-02, ...,\n",
       "          1.11471415e-01,  8.25332245e-06,  2.98846751e-01],\n",
       "        [-6.20402932e-01,  2.11018845e-01, -9.10122618e-02, ...,\n",
       "          1.16031758e-01,  8.55639428e-06,  3.06659549e-01],\n",
       "        [-6.44118607e-01,  1.79422602e-01, -9.54263359e-02, ...,\n",
       "          1.11116916e-01,  7.94447533e-06,  3.00545096e-01],\n",
       "        ...,\n",
       "        [ 4.56605852e-01,  1.10969476e-01,  6.26908243e-02, ...,\n",
       "          4.13081944e-02,  1.18322225e-06,  2.34579206e-01],\n",
       "        [ 5.47727466e-01,  3.80404830e-01,  7.21556917e-02, ...,\n",
       "         -1.63875788e-01,  7.79206516e-07,  5.25072813e-01],\n",
       "        [ 5.79621613e-01,  1.77979544e-01,  9.20204148e-02, ...,\n",
       "         -2.79618707e-02,  9.65202616e-07,  3.74058962e-01]],\n",
       "       shape=(28, 256), dtype=float32),\n",
       " 'graph_embedding': array([ 1.14021376e-01,  8.94942060e-02, -7.87487477e-02,  1.55425265e-01,\n",
       "         2.04222593e-02,  4.88086425e-06,  9.17677730e-02, -1.25806138e-01,\n",
       "        -5.05842939e-02, -6.67140633e-02, -5.75479455e-02, -1.35109916e-01,\n",
       "        -5.35122193e-02,  2.15556622e-01, -7.57354647e-02,  3.00073568e-02,\n",
       "        -3.09653748e-02,  1.15231693e-01, -1.62254408e-01,  2.49342486e-01,\n",
       "        -2.48619076e-02, -1.12280093e-01,  5.26878051e-02,  1.06433816e-01,\n",
       "         1.46124750e-01, -7.41916476e-03, -5.34818843e-02, -2.22338796e-01,\n",
       "        -4.63131294e-02, -2.33340431e-02,  8.82641505e-03,  1.84535369e-01,\n",
       "         1.02475276e-02, -2.75025576e-01, -1.54354215e-01, -2.70117205e-02,\n",
       "         7.97240287e-02,  4.92645465e-02,  8.11756104e-02,  5.66158891e-02,\n",
       "        -1.11717381e-01,  6.34505898e-02,  3.69429260e-01,  7.14434218e-03,\n",
       "        -2.28328243e-01,  1.61831543e-01, -3.13691273e-02,  8.30019787e-02,\n",
       "         7.69064799e-02,  1.70086194e-02,  5.93130570e-03, -6.13039173e-02,\n",
       "         5.52682877e-02, -2.66233888e-02, -2.68032938e-01, -7.20448717e-02,\n",
       "        -6.88583404e-02, -5.14988380e-04,  8.46704468e-02,  6.20971806e-02,\n",
       "        -4.87637132e-01,  2.70507693e-01, -3.52211058e-01,  3.60958353e-02,\n",
       "         6.88370541e-02, -1.00296671e-02, -1.07655272e-01, -5.09549007e-02,\n",
       "         1.56648427e-01, -2.39008665e-01,  1.81293876e-06, -1.50223467e-02,\n",
       "         2.10458249e-01, -8.93017426e-02, -3.23054439e-04,  3.08659039e-02,\n",
       "         1.61066040e-01,  1.74338352e-02, -1.04686499e-01,  1.49881672e-02,\n",
       "         9.26561095e-03,  1.45212814e-01, -3.10816318e-01, -1.86747548e-05,\n",
       "         4.77662198e-02,  1.86255760e-02, -1.12512670e-01, -1.02761686e-01,\n",
       "        -2.30627984e-01,  2.75092632e-01,  4.88319695e-01, -5.27165644e-02,\n",
       "        -4.32460278e-01, -1.17205508e-01,  1.47439435e-01, -2.83906966e-01,\n",
       "         3.44937590e-08, -8.14442784e-02,  3.46250422e-02,  1.25294581e-01,\n",
       "        -1.61470905e-01, -3.32503229e-01, -1.22178137e-01,  7.64260674e-03,\n",
       "         2.14892134e-01, -2.72691816e-01, -7.75023224e-03,  1.28739789e-01,\n",
       "        -1.43245965e-01, -3.88339430e-01, -6.23754263e-02, -1.47401795e-01,\n",
       "         9.34916064e-02,  2.07350254e-01, -1.51359677e-01,  4.54945825e-02,\n",
       "         5.31931557e-02,  6.56607747e-02, -2.76831895e-01,  1.91238806e-01,\n",
       "         2.40098070e-02,  1.45804808e-01,  1.55240029e-01,  4.63138856e-02,\n",
       "         1.26389012e-01,  6.24417253e-02, -1.33022636e-01,  3.56446058e-02,\n",
       "         7.59517103e-02, -6.20498322e-02, -1.29188271e-02, -1.01828627e-01,\n",
       "        -8.48031640e-02, -3.37651744e-03,  1.39380246e-01,  3.96409594e-02,\n",
       "         7.11437963e-07, -1.27709702e-01, -1.87683418e-01,  1.89316124e-02,\n",
       "         3.54645513e-02,  8.45003277e-02,  1.28618479e-01,  2.85392523e-01,\n",
       "        -3.30695778e-01, -4.28960845e-02, -4.34585363e-01,  1.22464277e-01,\n",
       "        -1.41609877e-01, -1.29833370e-05, -1.85025595e-02, -1.55312300e-01,\n",
       "        -5.77032939e-02,  1.41215563e-01, -3.18450928e-02,  2.60167904e-02,\n",
       "         3.29103082e-01, -3.22613008e-02,  2.71169394e-01, -1.47745356e-01,\n",
       "         6.11097030e-02, -1.56563774e-01, -1.37622014e-01,  6.75057024e-02,\n",
       "         4.34148684e-02,  2.40739938e-02, -1.75653584e-02, -3.88666340e-05,\n",
       "        -1.33439630e-01,  1.84637830e-01,  1.87839299e-01, -2.43889038e-02,\n",
       "         3.47416215e-02,  1.94906935e-01, -2.31176227e-01, -4.40712243e-01,\n",
       "         1.87506098e-02,  1.40727609e-02, -4.37271558e-02,  2.38153249e-01,\n",
       "        -8.60769898e-02,  4.47060578e-02, -1.91124254e-05, -1.98950544e-01,\n",
       "         2.18535930e-01,  7.32966289e-02,  1.91344157e-01,  1.89182200e-02,\n",
       "         6.10047765e-02, -1.34700000e-01,  3.71046774e-02, -3.73342857e-02,\n",
       "         7.55585954e-02, -1.20049966e-02,  1.96129076e-05,  2.02503920e+00,\n",
       "        -3.37618217e-02,  4.03093137e-02,  1.20073593e+00, -3.42217050e-02,\n",
       "         1.23036407e-01,  2.85089798e-02,  1.02395497e-01, -5.41806920e-03,\n",
       "        -3.18392403e-02,  3.61765213e-02, -1.16019264e-01,  1.57935843e-01,\n",
       "        -4.74991739e-01,  1.88080478e-03,  3.09052732e-04, -1.47478087e-02,\n",
       "        -7.48144910e-02, -1.04290254e-01, -1.50367301e-02,  1.64425522e-01,\n",
       "        -1.21591374e-01,  1.60132013e-02, -1.91691250e-01,  9.18729827e-02,\n",
       "         2.18140660e-03, -1.09180577e-01, -2.28158355e-01,  2.04334736e-01,\n",
       "         3.08880713e-02,  1.58737317e-01, -1.72960281e-01,  1.02193709e-02,\n",
       "         9.23845693e-02,  1.10817537e-01,  2.20088065e-02, -5.07244393e-02,\n",
       "         2.80357748e-02,  6.31316425e-03,  6.48248717e-02,  1.07464343e-02,\n",
       "         1.58403859e-01, -1.11041758e-02, -3.78385544e-01,  3.13612938e-01,\n",
       "         6.55316338e-02, -1.08723536e-01,  9.55108255e-02, -1.77959681e-01,\n",
       "        -1.85265869e-01, -3.77813056e-02,  3.30388661e-06,  6.16936125e-02,\n",
       "        -1.87365361e-03, -2.35166207e-01,  1.88501999e-01, -1.37584880e-01,\n",
       "        -1.01180866e-01,  1.60014555e-01,  4.57219767e-06,  1.87448978e-01],\n",
       "       dtype=float32)}"
      ]
     },
     "execution_count": 5,
     "metadata": {},
     "output_type": "execute_result"
    }
   ],
   "source": [
    "stability_preprocessor_result.processed_structures[1].properties"
   ]
  },
  {
   "cell_type": "code",
   "execution_count": null,
   "id": "4bdfecdf-bb42-4f39-b8da-6cea79f5b34f",
   "metadata": {},
   "outputs": [],
   "source": []
  },
  {
   "cell_type": "code",
   "execution_count": 32,
   "id": "156a7ef5-e054-45f5-a407-619d8350264c",
   "metadata": {},
   "outputs": [],
   "source": [
    "distribution_preprocessor = DistributionPreprocessor()\n",
    "dist_preprocessor_result = distribution_preprocessor(structures)"
   ]
  },
  {
   "cell_type": "code",
   "execution_count": 10,
   "id": "9472fc6e-0126-4b33-a6c0-4493eb5f3e18",
   "metadata": {
    "scrolled": true
   },
   "outputs": [
    {
     "ename": "FileNotFoundError",
     "evalue": "[Errno 2] No such file or directory: 'data/lematbulk_composition_counts_distribution.json'",
     "output_type": "error",
     "traceback": [
      "\u001b[31m---------------------------------------------------------------------------\u001b[39m",
      "\u001b[31mFileNotFoundError\u001b[39m                         Traceback (most recent call last)",
      "\u001b[36mCell\u001b[39m\u001b[36m \u001b[39m\u001b[32mIn[10]\u001b[39m\u001b[32m, line 3\u001b[39m\n\u001b[32m      1\u001b[39m metric = JSDistance(reference_df=test_lemat) \n\u001b[32m      2\u001b[39m default_args = metric._get_compute_attributes()\n\u001b[32m----> \u001b[39m\u001b[32m3\u001b[39m metric_result = \u001b[43mmetric\u001b[49m\u001b[43m(\u001b[49m\u001b[43mpreprocessor_result\u001b[49m\u001b[43m.\u001b[49m\u001b[43mprocessed_structures\u001b[49m\u001b[43m,\u001b[49m\u001b[43m \u001b[49m\u001b[43m*\u001b[49m\u001b[43m*\u001b[49m\u001b[43mdefault_args\u001b[49m\u001b[43m)\u001b[49m\n\u001b[32m      4\u001b[39m \u001b[38;5;28mprint\u001b[39m(metric_result.metrics)\n",
      "\u001b[36mFile \u001b[39m\u001b[32m~\\lematerial-forgebench\\src\\lematerial_forgebench\\metrics\\base.py:451\u001b[39m, in \u001b[36mBaseMetric.__call__\u001b[39m\u001b[34m(self, structures, **compute_args)\u001b[39m\n\u001b[32m    435\u001b[39m \u001b[38;5;250m\u001b[39m\u001b[33;03m\"\"\"Convenient callable interface for computing the metric.\u001b[39;00m\n\u001b[32m    436\u001b[39m \n\u001b[32m    437\u001b[39m \u001b[33;03mParameters\u001b[39;00m\n\u001b[32m   (...)\u001b[39m\u001b[32m    448\u001b[39m \u001b[33;03m    Object containing the metric value and computation metadata.\u001b[39;00m\n\u001b[32m    449\u001b[39m \u001b[33;03m\"\"\"\u001b[39;00m\n\u001b[32m    450\u001b[39m structures_list = format_structures(structures)\n\u001b[32m--> \u001b[39m\u001b[32m451\u001b[39m \u001b[38;5;28;01mreturn\u001b[39;00m \u001b[38;5;28;43mself\u001b[39;49m\u001b[43m.\u001b[49m\u001b[43mcompute\u001b[49m\u001b[43m(\u001b[49m\u001b[43mstructures_list\u001b[49m\u001b[43m,\u001b[49m\u001b[43m \u001b[49m\u001b[43m*\u001b[49m\u001b[43m*\u001b[49m\u001b[43mcompute_args\u001b[49m\u001b[43m)\u001b[49m\n",
      "\u001b[36mFile \u001b[39m\u001b[32m~\\lematerial-forgebench\\src\\lematerial_forgebench\\metrics\\distribution_metrics.py:151\u001b[39m, in \u001b[36mJSDistance.compute\u001b[39m\u001b[34m(self, structures, **compute_args)\u001b[39m\n\u001b[32m    148\u001b[39m             dist_metrics[quant] = js\n\u001b[32m    150\u001b[39m \u001b[38;5;28;01mfor\u001b[39;00m quant \u001b[38;5;129;01min\u001b[39;00m [\u001b[33m\"\u001b[39m\u001b[33mCompositionCounts\u001b[39m\u001b[33m\"\u001b[39m, \u001b[33m\"\u001b[39m\u001b[33mComposition\u001b[39m\u001b[33m\"\u001b[39m]:\n\u001b[32m--> \u001b[39m\u001b[32m151\u001b[39m     js = \u001b[43mcompute_jensen_shannon_distance\u001b[49m\u001b[43m(\u001b[49m\n\u001b[32m    152\u001b[39m \u001b[43m        \u001b[49m\u001b[43mreference_df\u001b[49m\u001b[43m,\u001b[49m\n\u001b[32m    153\u001b[39m \u001b[43m        \u001b[49m\u001b[43mdf_all_properties\u001b[49m\u001b[43m,\u001b[49m\n\u001b[32m    154\u001b[39m \u001b[43m        \u001b[49m\u001b[43mquant\u001b[49m\u001b[43m,\u001b[49m\n\u001b[32m    155\u001b[39m \u001b[43m        \u001b[49m\u001b[43mmetric_type\u001b[49m\u001b[43m=\u001b[49m\u001b[38;5;28;43mtype\u001b[39;49m\u001b[43m(\u001b[49m\u001b[43mdf_all_properties\u001b[49m\u001b[43m[\u001b[49m\u001b[43mquant\u001b[49m\u001b[43m]\u001b[49m\u001b[43m.\u001b[49m\u001b[43miloc\u001b[49m\u001b[43m[\u001b[49m\u001b[32;43m0\u001b[39;49m\u001b[43m]\u001b[49m\u001b[43m)\u001b[49m\u001b[43m,\u001b[49m\n\u001b[32m    156\u001b[39m \u001b[43m    \u001b[49m\u001b[43m)\u001b[49m\n\u001b[32m    157\u001b[39m     dist_metrics[quant] = js\n\u001b[32m    159\u001b[39m end_time = time.time()\n",
      "\u001b[36mFile \u001b[39m\u001b[32m~\\lematerial-forgebench\\src\\lematerial_forgebench\\utils\\distribution_utils.py:118\u001b[39m, in \u001b[36mcompute_jensen_shannon_distance\u001b[39m\u001b[34m(reference_data, generated_crystals, crystal_param, metric_type)\u001b[39m\n\u001b[32m    113\u001b[39m     reference_data_dist = generate_probabilities(\n\u001b[32m    114\u001b[39m         reference_data, metric=crystal_param, metric_type=metric_type\n\u001b[32m    115\u001b[39m     )\n\u001b[32m    117\u001b[39m \u001b[38;5;28;01melif\u001b[39;00m crystal_param == \u001b[33m\"\u001b[39m\u001b[33mCompositionCounts\u001b[39m\u001b[33m\"\u001b[39m:\n\u001b[32m--> \u001b[39m\u001b[32m118\u001b[39m     \u001b[38;5;28;01mwith\u001b[39;00m \u001b[38;5;28;43mopen\u001b[39;49m\u001b[43m(\u001b[49m\u001b[33;43m\"\u001b[39;49m\u001b[33;43mdata/lematbulk_composition_counts_distribution.json\u001b[39;49m\u001b[33;43m\"\u001b[39;49m\u001b[43m,\u001b[49m\u001b[43m \u001b[49m\u001b[33;43m\"\u001b[39;49m\u001b[33;43mr\u001b[39;49m\u001b[33;43m\"\u001b[39;49m\u001b[43m)\u001b[49m \u001b[38;5;28;01mas\u001b[39;00m file:\n\u001b[32m    119\u001b[39m         reference_data_dist = json.load(file)\n\u001b[32m    120\u001b[39m \u001b[38;5;28;01melif\u001b[39;00m crystal_param == \u001b[33m\"\u001b[39m\u001b[33mComposition\u001b[39m\u001b[33m\"\u001b[39m:\n",
      "\u001b[31mFileNotFoundError\u001b[39m: [Errno 2] No such file or directory: 'data/lematbulk_composition_counts_distribution.json'"
     ]
    }
   ],
   "source": [
    "metric = JSDistance(reference_df=test_lemat) \n",
    "default_args = metric._get_compute_attributes()\n",
    "metric_result = metric(preprocessor_result.processed_structures, **default_args)\n",
    "print(metric_result.metrics)"
   ]
  },
  {
   "cell_type": "code",
   "execution_count": 11,
   "id": "8027780b-9b83-4a9e-815c-abf8ff2f9bd9",
   "metadata": {},
   "outputs": [
    {
     "name": "stdout",
     "output_type": "stream",
     "text": [
      "{'Volume': np.float64(0.5156492331277469), 'Density(g/cm^3)': np.float64(0.378594576755264), 'Density(atoms/A^3)': np.float64(5.477059509595428e-05), 'Average_MMD': np.float64(0.29809952682603563)}\n"
     ]
    }
   ],
   "source": [
    "metric = MMD(reference_df=test_lemat) \n",
    "default_args = metric._get_compute_attributes()\n",
    "metric_result = metric(preprocessor_result.processed_structures, **default_args)\n",
    "print(metric_result.metrics)"
   ]
  },
  {
   "cell_type": "code",
   "execution_count": 14,
   "id": "92feb85f-1a47-4f67-b29b-59af42665fbb",
   "metadata": {},
   "outputs": [
    {
     "name": "stdout",
     "output_type": "stream",
     "text": [
      "Index(['LeMatID', 'Volume', 'Density(g/cm^3)', 'Density(atoms/A^3)',\n",
      "       'SpaceGroup', 'CrystalSystem', 'Structure', 'OrbGraphEmbeddings'],\n",
      "      dtype='object')\n",
      "{'FrechetDistance': 40.38935887003667}\n"
     ]
    }
   ],
   "source": [
    "metric = FrechetDistance(reference_df=test_lemat) \n",
    "\n",
    "sample_embeddings = list(stability_preprocessor_result.processed_structures)\n",
    "\n",
    "default_args = metric._get_compute_attributes()\n",
    "metric_result = metric(sample_embeddings, **default_args)\n",
    "print(metric_result.metrics)"
   ]
  },
  {
   "cell_type": "code",
   "execution_count": 34,
   "id": "66d554c5-3c36-4fce-9973-658e16e83433",
   "metadata": {},
   "outputs": [
    {
     "data": {
      "text/html": [
       "<pre style=\"white-space:pre;overflow-x:auto;line-height:normal;font-family:Menlo,'DejaVu Sans Mono',consolas,'Courier New',monospace\"><span style=\"color: #7fbfbf; text-decoration-color: #7fbfbf\">[17:03:55] </span><span style=\"color: #808000; text-decoration-color: #808000\">WARNING </span> Number of input structures is less than processed + failed. This might indicate an   <a href=\"file://C:\\Users\\samue\\lematerial-forgebench\\src\\lematerial_forgebench\\preprocess\\base.py\" target=\"_blank\"><span style=\"color: #7f7f7f; text-decoration-color: #7f7f7f\">base.py</span></a><span style=\"color: #7f7f7f; text-decoration-color: #7f7f7f\">:</span><a href=\"file://C:\\Users\\samue\\lematerial-forgebench\\src\\lematerial_forgebench\\preprocess\\base.py#86\" target=\"_blank\"><span style=\"color: #7f7f7f; text-decoration-color: #7f7f7f\">86</span></a>\n",
       "<span style=\"color: #7fbfbf; text-decoration-color: #7fbfbf\">           </span>         issue.                                                                               <span style=\"color: #7f7f7f; text-decoration-color: #7f7f7f\">          </span>\n",
       "</pre>\n"
      ],
      "text/plain": [
       "\u001b[2;36m[17:03:55]\u001b[0m\u001b[2;36m \u001b[0m\u001b[33mWARNING \u001b[0m Number of input structures is less than processed + failed. This might indicate an   \u001b]8;id=823273;file://C:\\Users\\samue\\lematerial-forgebench\\src\\lematerial_forgebench\\preprocess\\base.py\u001b\\\u001b[2mbase.py\u001b[0m\u001b]8;;\u001b\\\u001b[2m:\u001b[0m\u001b]8;id=751211;file://C:\\Users\\samue\\lematerial-forgebench\\src\\lematerial_forgebench\\preprocess\\base.py#86\u001b\\\u001b[2m86\u001b[0m\u001b]8;;\u001b\\\n",
       "\u001b[2;36m           \u001b[0m         issue.                                                                               \u001b[2m          \u001b[0m\n"
      ]
     },
     "metadata": {},
     "output_type": "display_data"
    }
   ],
   "source": [
    "final_processed_structures = []\n",
    "\n",
    "for ind in range(0, len(dist_preprocessor_result.processed_structures)): \n",
    "    combined_structure = dist_preprocessor_result.processed_structures[ind]\n",
    "    for entry in stability_preprocessor_result.processed_structures[ind].properties.keys():\n",
    "        combined_structure.properties[entry] = stability_preprocessor_result.processed_structures[ind].properties[entry]\n",
    "    final_processed_structures.append(combined_structure)\n",
    "\n",
    "preprocessor_result = PreprocessorResult(processed_structures=final_processed_structures,\n",
    "    config={\n",
    "        \"stability_preprocessor_config\":stability_preprocessor_result.config,\n",
    "        \"distribution_preprocessor_config\": dist_preprocessor_result.config,\n",
    "    },\n",
    "    computation_time={\n",
    "        \"stability_preprocessor_computation_time\": stability_preprocessor_result.computation_time,\n",
    "        \"distribution_preprocessor_computation_time\": dist_preprocessor_result.computation_time,\n",
    "    },\n",
    "    n_input_structures=stability_preprocessor_result.n_input_structures,\n",
    "    failed_indices={\n",
    "        \"stability_preprocessor_failed_indices\": stability_preprocessor_result.failed_indices,\n",
    "        \"distribution_preprocessor_failed_indices\": dist_preprocessor_result.failed_indices,\n",
    "    },\n",
    "    warnings={\n",
    "        \"stability_preprocessor_warnings\": stability_preprocessor_result.warnings,\n",
    "        \"distribution_preprocessor_warnings\": dist_preprocessor_result.warnings,\n",
    "    },\n",
    ")"
   ]
  },
  {
   "cell_type": "code",
   "execution_count": 40,
   "id": "c5be4676-99fe-4ee6-b9de-3a255b9127f5",
   "metadata": {},
   "outputs": [
    {
     "data": {
      "text/html": [
       "<pre style=\"white-space:pre;overflow-x:auto;line-height:normal;font-family:Menlo,'DejaVu Sans Mono',consolas,'Courier New',monospace\"><span style=\"color: #7fbfbf; text-decoration-color: #7fbfbf\">[17:06:38] </span><span style=\"color: #800000; text-decoration-color: #800000; font-weight: bold\">ERROR   </span> Failed to compute metric JSDistance                                            <a href=\"file://C:\\Users\\samue\\lematerial-forgebench\\src\\lematerial_forgebench\\evaluator.py\" target=\"_blank\"><span style=\"color: #7f7f7f; text-decoration-color: #7f7f7f\">evaluator.py</span></a><span style=\"color: #7f7f7f; text-decoration-color: #7f7f7f\">:</span><a href=\"file://C:\\Users\\samue\\lematerial-forgebench\\src\\lematerial_forgebench\\evaluator.py#199\" target=\"_blank\"><span style=\"color: #7f7f7f; text-decoration-color: #7f7f7f\">199</span></a>\n",
       "<span style=\"color: #7fbfbf; text-decoration-color: #7fbfbf\">           </span>         <span style=\"color: #800000; text-decoration-color: #800000\">╭──────────────────── </span><span style=\"color: #800000; text-decoration-color: #800000; font-weight: bold\">Traceback </span><span style=\"color: #bf7f7f; text-decoration-color: #bf7f7f; font-weight: bold\">(most recent call last)</span><span style=\"color: #800000; text-decoration-color: #800000\"> ─────────────────────╮</span> <span style=\"color: #7f7f7f; text-decoration-color: #7f7f7f\">                </span>\n",
       "<span style=\"color: #7fbfbf; text-decoration-color: #7fbfbf\">           </span>         <span style=\"color: #800000; text-decoration-color: #800000\">│</span> <span style=\"color: #808000; text-decoration-color: #808000\">C:\\Users\\samue\\lematerial-forgebench\\src\\lematerial_forgebench\\evaluator.p</span> <span style=\"color: #800000; text-decoration-color: #800000\">│</span> <span style=\"color: #7f7f7f; text-decoration-color: #7f7f7f\">                </span>\n",
       "<span style=\"color: #7fbfbf; text-decoration-color: #7fbfbf\">           </span>         <span style=\"color: #800000; text-decoration-color: #800000\">│</span> <span style=\"color: #808000; text-decoration-color: #808000\">y</span>:<span style=\"color: #0000ff; text-decoration-color: #0000ff\">193</span> in <span style=\"color: #00ff00; text-decoration-color: #00ff00\">evaluate</span>                                                          <span style=\"color: #800000; text-decoration-color: #800000\">│</span> <span style=\"color: #7f7f7f; text-decoration-color: #7f7f7f\">                </span>\n",
       "<span style=\"color: #7fbfbf; text-decoration-color: #7fbfbf\">           </span>         <span style=\"color: #800000; text-decoration-color: #800000\">│</span>                                                                            <span style=\"color: #800000; text-decoration-color: #800000\">│</span> <span style=\"color: #7f7f7f; text-decoration-color: #7f7f7f\">                </span>\n",
       "<span style=\"color: #7fbfbf; text-decoration-color: #7fbfbf\">           </span>         <span style=\"color: #800000; text-decoration-color: #800000\">│</span>   <span style=\"color: #7f7f7f; text-decoration-color: #7f7f7f\">190 </span><span style=\"color: #7f7f7f; text-decoration-color: #7f7f7f\">│   │   </span><span style=\"color: #7f7f7f; text-decoration-color: #7f7f7f\"># each metric handles its own parallelization</span>                <span style=\"color: #800000; text-decoration-color: #800000\">│</span> <span style=\"color: #7f7f7f; text-decoration-color: #7f7f7f\">                </span>\n",
       "<span style=\"color: #7fbfbf; text-decoration-color: #7fbfbf\">           </span>         <span style=\"color: #800000; text-decoration-color: #800000\">│</span>   <span style=\"color: #7f7f7f; text-decoration-color: #7f7f7f\">191 </span><span style=\"color: #7f7f7f; text-decoration-color: #7f7f7f\">│   │   </span><span style=\"color: #0000ff; text-decoration-color: #0000ff\">for</span> metric_name, metric <span style=\"color: #ff00ff; text-decoration-color: #ff00ff\">in</span> <span style=\"color: #00ffff; text-decoration-color: #00ffff\">self</span>.metrics.items():             <span style=\"color: #800000; text-decoration-color: #800000\">│</span> <span style=\"color: #7f7f7f; text-decoration-color: #7f7f7f\">                </span>\n",
       "<span style=\"color: #7fbfbf; text-decoration-color: #7fbfbf\">           </span>         <span style=\"color: #800000; text-decoration-color: #800000\">│</span>   <span style=\"color: #7f7f7f; text-decoration-color: #7f7f7f\">192 </span><span style=\"color: #7f7f7f; text-decoration-color: #7f7f7f\">│   │   │   </span><span style=\"color: #0000ff; text-decoration-color: #0000ff\">try</span>:                                                     <span style=\"color: #800000; text-decoration-color: #800000\">│</span> <span style=\"color: #7f7f7f; text-decoration-color: #7f7f7f\">                </span>\n",
       "<span style=\"color: #7fbfbf; text-decoration-color: #7fbfbf\">           </span>         <span style=\"color: #800000; text-decoration-color: #800000\">│</span> <span style=\"color: #800000; text-decoration-color: #800000\">❱ </span>193 <span style=\"color: #7f7f7f; text-decoration-color: #7f7f7f\">│   │   │   │   </span>result = metric.compute(                             <span style=\"color: #800000; text-decoration-color: #800000\">│</span> <span style=\"color: #7f7f7f; text-decoration-color: #7f7f7f\">                </span>\n",
       "<span style=\"color: #7fbfbf; text-decoration-color: #7fbfbf\">           </span>         <span style=\"color: #800000; text-decoration-color: #800000\">│</span>   <span style=\"color: #7f7f7f; text-decoration-color: #7f7f7f\">194 </span><span style=\"color: #7f7f7f; text-decoration-color: #7f7f7f\">│   │   │   │   │   </span>structures=structures, **metric._get_compute_att <span style=\"color: #800000; text-decoration-color: #800000\">│</span> <span style=\"color: #7f7f7f; text-decoration-color: #7f7f7f\">                </span>\n",
       "<span style=\"color: #7fbfbf; text-decoration-color: #7fbfbf\">           </span>         <span style=\"color: #800000; text-decoration-color: #800000\">│</span>   <span style=\"color: #7f7f7f; text-decoration-color: #7f7f7f\">195 </span><span style=\"color: #7f7f7f; text-decoration-color: #7f7f7f\">│   │   │   │   </span>)                                                    <span style=\"color: #800000; text-decoration-color: #800000\">│</span> <span style=\"color: #7f7f7f; text-decoration-color: #7f7f7f\">                </span>\n",
       "<span style=\"color: #7fbfbf; text-decoration-color: #7fbfbf\">           </span>         <span style=\"color: #800000; text-decoration-color: #800000\">│</span>   <span style=\"color: #7f7f7f; text-decoration-color: #7f7f7f\">196 </span><span style=\"color: #7f7f7f; text-decoration-color: #7f7f7f\">│   │   │   │   </span>metric_results[metric_name] = result                 <span style=\"color: #800000; text-decoration-color: #800000\">│</span> <span style=\"color: #7f7f7f; text-decoration-color: #7f7f7f\">                </span>\n",
       "<span style=\"color: #7fbfbf; text-decoration-color: #7fbfbf\">           </span>         <span style=\"color: #800000; text-decoration-color: #800000\">│</span>                                                                            <span style=\"color: #800000; text-decoration-color: #800000\">│</span> <span style=\"color: #7f7f7f; text-decoration-color: #7f7f7f\">                </span>\n",
       "<span style=\"color: #7fbfbf; text-decoration-color: #7fbfbf\">           </span>         <span style=\"color: #800000; text-decoration-color: #800000\">│</span> <span style=\"color: #808000; text-decoration-color: #808000\">C:\\Users\\samue\\lematerial-forgebench\\src\\lematerial_forgebench\\metrics\\dis</span> <span style=\"color: #800000; text-decoration-color: #800000\">│</span> <span style=\"color: #7f7f7f; text-decoration-color: #7f7f7f\">                </span>\n",
       "<span style=\"color: #7fbfbf; text-decoration-color: #7fbfbf\">           </span>         <span style=\"color: #800000; text-decoration-color: #800000\">│</span> <span style=\"color: #808000; text-decoration-color: #808000\">tribution_metrics.py</span>:<span style=\"color: #0000ff; text-decoration-color: #0000ff\">151</span> in <span style=\"color: #00ff00; text-decoration-color: #00ff00\">compute</span>                                        <span style=\"color: #800000; text-decoration-color: #800000\">│</span> <span style=\"color: #7f7f7f; text-decoration-color: #7f7f7f\">                </span>\n",
       "<span style=\"color: #7fbfbf; text-decoration-color: #7fbfbf\">           </span>         <span style=\"color: #800000; text-decoration-color: #800000\">│</span>                                                                            <span style=\"color: #800000; text-decoration-color: #800000\">│</span> <span style=\"color: #7f7f7f; text-decoration-color: #7f7f7f\">                </span>\n",
       "<span style=\"color: #7fbfbf; text-decoration-color: #7fbfbf\">           </span>         <span style=\"color: #800000; text-decoration-color: #800000\">│</span>   <span style=\"color: #7f7f7f; text-decoration-color: #7f7f7f\">148 </span><span style=\"color: #7f7f7f; text-decoration-color: #7f7f7f\">│   │   │   │   │   </span>dist_metrics[quant] = js                         <span style=\"color: #800000; text-decoration-color: #800000\">│</span> <span style=\"color: #7f7f7f; text-decoration-color: #7f7f7f\">                </span>\n",
       "<span style=\"color: #7fbfbf; text-decoration-color: #7fbfbf\">           </span>         <span style=\"color: #800000; text-decoration-color: #800000\">│</span>   <span style=\"color: #7f7f7f; text-decoration-color: #7f7f7f\">149 </span><span style=\"color: #7f7f7f; text-decoration-color: #7f7f7f\">│   │   </span>                                                             <span style=\"color: #800000; text-decoration-color: #800000\">│</span> <span style=\"color: #7f7f7f; text-decoration-color: #7f7f7f\">                </span>\n",
       "<span style=\"color: #7fbfbf; text-decoration-color: #7fbfbf\">           </span>         <span style=\"color: #800000; text-decoration-color: #800000\">│</span>   <span style=\"color: #7f7f7f; text-decoration-color: #7f7f7f\">150 </span><span style=\"color: #7f7f7f; text-decoration-color: #7f7f7f\">│   │   </span><span style=\"color: #0000ff; text-decoration-color: #0000ff\">for</span> quant <span style=\"color: #ff00ff; text-decoration-color: #ff00ff\">in</span> [<span style=\"color: #808000; text-decoration-color: #808000\">\"CompositionCounts\"</span>, <span style=\"color: #808000; text-decoration-color: #808000\">\"Composition\"</span>]:           <span style=\"color: #800000; text-decoration-color: #800000\">│</span> <span style=\"color: #7f7f7f; text-decoration-color: #7f7f7f\">                </span>\n",
       "<span style=\"color: #7fbfbf; text-decoration-color: #7fbfbf\">           </span>         <span style=\"color: #800000; text-decoration-color: #800000\">│</span> <span style=\"color: #800000; text-decoration-color: #800000\">❱ </span>151 <span style=\"color: #7f7f7f; text-decoration-color: #7f7f7f\">│   │   │   </span>js = compute_jensen_shannon_distance(                    <span style=\"color: #800000; text-decoration-color: #800000\">│</span> <span style=\"color: #7f7f7f; text-decoration-color: #7f7f7f\">                </span>\n",
       "<span style=\"color: #7fbfbf; text-decoration-color: #7fbfbf\">           </span>         <span style=\"color: #800000; text-decoration-color: #800000\">│</span>   <span style=\"color: #7f7f7f; text-decoration-color: #7f7f7f\">152 </span><span style=\"color: #7f7f7f; text-decoration-color: #7f7f7f\">│   │   │   │   </span>reference_df,                                        <span style=\"color: #800000; text-decoration-color: #800000\">│</span> <span style=\"color: #7f7f7f; text-decoration-color: #7f7f7f\">                </span>\n",
       "<span style=\"color: #7fbfbf; text-decoration-color: #7fbfbf\">           </span>         <span style=\"color: #800000; text-decoration-color: #800000\">│</span>   <span style=\"color: #7f7f7f; text-decoration-color: #7f7f7f\">153 </span><span style=\"color: #7f7f7f; text-decoration-color: #7f7f7f\">│   │   │   │   </span>df_all_properties,                                   <span style=\"color: #800000; text-decoration-color: #800000\">│</span> <span style=\"color: #7f7f7f; text-decoration-color: #7f7f7f\">                </span>\n",
       "<span style=\"color: #7fbfbf; text-decoration-color: #7fbfbf\">           </span>         <span style=\"color: #800000; text-decoration-color: #800000\">│</span>   <span style=\"color: #7f7f7f; text-decoration-color: #7f7f7f\">154 </span><span style=\"color: #7f7f7f; text-decoration-color: #7f7f7f\">│   │   │   │   </span>quant,                                               <span style=\"color: #800000; text-decoration-color: #800000\">│</span> <span style=\"color: #7f7f7f; text-decoration-color: #7f7f7f\">                </span>\n",
       "<span style=\"color: #7fbfbf; text-decoration-color: #7fbfbf\">           </span>         <span style=\"color: #800000; text-decoration-color: #800000\">│</span>                                                                            <span style=\"color: #800000; text-decoration-color: #800000\">│</span> <span style=\"color: #7f7f7f; text-decoration-color: #7f7f7f\">                </span>\n",
       "<span style=\"color: #7fbfbf; text-decoration-color: #7fbfbf\">           </span>         <span style=\"color: #800000; text-decoration-color: #800000\">│</span> <span style=\"color: #808000; text-decoration-color: #808000\">C:\\Users\\samue\\lematerial-forgebench\\src\\lematerial_forgebench\\utils\\distr</span> <span style=\"color: #800000; text-decoration-color: #800000\">│</span> <span style=\"color: #7f7f7f; text-decoration-color: #7f7f7f\">                </span>\n",
       "<span style=\"color: #7fbfbf; text-decoration-color: #7fbfbf\">           </span>         <span style=\"color: #800000; text-decoration-color: #800000\">│</span> <span style=\"color: #808000; text-decoration-color: #808000\">ibution_utils.py</span>:<span style=\"color: #0000ff; text-decoration-color: #0000ff\">118</span> in <span style=\"color: #00ff00; text-decoration-color: #00ff00\">compute_jensen_shannon_distance</span>                    <span style=\"color: #800000; text-decoration-color: #800000\">│</span> <span style=\"color: #7f7f7f; text-decoration-color: #7f7f7f\">                </span>\n",
       "<span style=\"color: #7fbfbf; text-decoration-color: #7fbfbf\">           </span>         <span style=\"color: #800000; text-decoration-color: #800000\">│</span>                                                                            <span style=\"color: #800000; text-decoration-color: #800000\">│</span> <span style=\"color: #7f7f7f; text-decoration-color: #7f7f7f\">                </span>\n",
       "<span style=\"color: #7fbfbf; text-decoration-color: #7fbfbf\">           </span>         <span style=\"color: #800000; text-decoration-color: #800000\">│</span>   <span style=\"color: #7f7f7f; text-decoration-color: #7f7f7f\">115 </span><span style=\"color: #7f7f7f; text-decoration-color: #7f7f7f\">│   │   </span>)                                                            <span style=\"color: #800000; text-decoration-color: #800000\">│</span> <span style=\"color: #7f7f7f; text-decoration-color: #7f7f7f\">                </span>\n",
       "<span style=\"color: #7fbfbf; text-decoration-color: #7fbfbf\">           </span>         <span style=\"color: #800000; text-decoration-color: #800000\">│</span>   <span style=\"color: #7f7f7f; text-decoration-color: #7f7f7f\">116 </span><span style=\"color: #7f7f7f; text-decoration-color: #7f7f7f\">│   </span>                                                                 <span style=\"color: #800000; text-decoration-color: #800000\">│</span> <span style=\"color: #7f7f7f; text-decoration-color: #7f7f7f\">                </span>\n",
       "<span style=\"color: #7fbfbf; text-decoration-color: #7fbfbf\">           </span>         <span style=\"color: #800000; text-decoration-color: #800000\">│</span>   <span style=\"color: #7f7f7f; text-decoration-color: #7f7f7f\">117 </span><span style=\"color: #7f7f7f; text-decoration-color: #7f7f7f\">│   </span><span style=\"color: #0000ff; text-decoration-color: #0000ff\">elif</span> crystal_param == <span style=\"color: #808000; text-decoration-color: #808000\">\"CompositionCounts\"</span>:                       <span style=\"color: #800000; text-decoration-color: #800000\">│</span> <span style=\"color: #7f7f7f; text-decoration-color: #7f7f7f\">                </span>\n",
       "<span style=\"color: #7fbfbf; text-decoration-color: #7fbfbf\">           </span>         <span style=\"color: #800000; text-decoration-color: #800000\">│</span> <span style=\"color: #800000; text-decoration-color: #800000\">❱ </span>118 <span style=\"color: #7f7f7f; text-decoration-color: #7f7f7f\">│   │   </span><span style=\"color: #0000ff; text-decoration-color: #0000ff\">with</span> <span style=\"color: #00ffff; text-decoration-color: #00ffff; font-weight: bold; text-decoration: underline\">open</span><span style=\"font-weight: bold; text-decoration: underline\">(</span><span style=\"color: #808000; text-decoration-color: #808000; font-weight: bold; text-decoration: underline\">\"data/lematbulk_composition_counts_distribution.js</span> <span style=\"color: #800000; text-decoration-color: #800000\">│</span> <span style=\"color: #7f7f7f; text-decoration-color: #7f7f7f\">                </span>\n",
       "<span style=\"color: #7fbfbf; text-decoration-color: #7fbfbf\">           </span>         <span style=\"color: #800000; text-decoration-color: #800000\">│</span>   <span style=\"color: #7f7f7f; text-decoration-color: #7f7f7f\">119 </span><span style=\"color: #7f7f7f; text-decoration-color: #7f7f7f\">│   │   │   </span>reference_data_dist = json.load(file)                    <span style=\"color: #800000; text-decoration-color: #800000\">│</span> <span style=\"color: #7f7f7f; text-decoration-color: #7f7f7f\">                </span>\n",
       "<span style=\"color: #7fbfbf; text-decoration-color: #7fbfbf\">           </span>         <span style=\"color: #800000; text-decoration-color: #800000\">│</span>   <span style=\"color: #7f7f7f; text-decoration-color: #7f7f7f\">120 </span><span style=\"color: #7f7f7f; text-decoration-color: #7f7f7f\">│   </span><span style=\"color: #0000ff; text-decoration-color: #0000ff\">elif</span> crystal_param == <span style=\"color: #808000; text-decoration-color: #808000\">\"Composition\"</span>:                             <span style=\"color: #800000; text-decoration-color: #800000\">│</span> <span style=\"color: #7f7f7f; text-decoration-color: #7f7f7f\">                </span>\n",
       "<span style=\"color: #7fbfbf; text-decoration-color: #7fbfbf\">           </span>         <span style=\"color: #800000; text-decoration-color: #800000\">│</span>   <span style=\"color: #7f7f7f; text-decoration-color: #7f7f7f\">121 </span><span style=\"color: #7f7f7f; text-decoration-color: #7f7f7f\">│   │   </span><span style=\"color: #0000ff; text-decoration-color: #0000ff\">with</span> <span style=\"color: #00ffff; text-decoration-color: #00ffff\">open</span>(<span style=\"color: #808000; text-decoration-color: #808000\">\"data/lematbulk_composition_distribution.json\"</span>, <span style=\"color: #808000; text-decoration-color: #808000\">\"r</span> <span style=\"color: #800000; text-decoration-color: #800000\">│</span> <span style=\"color: #7f7f7f; text-decoration-color: #7f7f7f\">                </span>\n",
       "<span style=\"color: #7fbfbf; text-decoration-color: #7fbfbf\">           </span>         <span style=\"color: #800000; text-decoration-color: #800000\">╰────────────────────────────────────────────────────────────────────────────╯</span> <span style=\"color: #7f7f7f; text-decoration-color: #7f7f7f\">                </span>\n",
       "<span style=\"color: #7fbfbf; text-decoration-color: #7fbfbf\">           </span>         <span style=\"color: #ff0000; text-decoration-color: #ff0000; font-weight: bold\">FileNotFoundError: </span><span style=\"font-weight: bold\">[</span>Errno <span style=\"color: #008080; text-decoration-color: #008080; font-weight: bold\">2</span><span style=\"font-weight: bold\">]</span> No such file or directory:                        <span style=\"color: #7f7f7f; text-decoration-color: #7f7f7f\">                </span>\n",
       "<span style=\"color: #7fbfbf; text-decoration-color: #7fbfbf\">           </span>         <span style=\"color: #008000; text-decoration-color: #008000\">'data/lematbulk_composition_counts_distribution.json'</span>                          <span style=\"color: #7f7f7f; text-decoration-color: #7f7f7f\">                </span>\n",
       "</pre>\n"
      ],
      "text/plain": [
       "\u001b[2;36m[17:06:38]\u001b[0m\u001b[2;36m \u001b[0m\u001b[1;31mERROR   \u001b[0m Failed to compute metric JSDistance                                            \u001b]8;id=611874;file://C:\\Users\\samue\\lematerial-forgebench\\src\\lematerial_forgebench\\evaluator.py\u001b\\\u001b[2mevaluator.py\u001b[0m\u001b]8;;\u001b\\\u001b[2m:\u001b[0m\u001b]8;id=839301;file://C:\\Users\\samue\\lematerial-forgebench\\src\\lematerial_forgebench\\evaluator.py#199\u001b\\\u001b[2m199\u001b[0m\u001b]8;;\u001b\\\n",
       "\u001b[2;36m           \u001b[0m         \u001b[31m╭─\u001b[0m\u001b[31m───────────────────\u001b[0m\u001b[31m \u001b[0m\u001b[1;31mTraceback \u001b[0m\u001b[1;2;31m(most recent call last)\u001b[0m\u001b[31m \u001b[0m\u001b[31m────────────────────\u001b[0m\u001b[31m─╮\u001b[0m \u001b[2m                \u001b[0m\n",
       "\u001b[2;36m           \u001b[0m         \u001b[31m│\u001b[0m \u001b[33mC:\\Users\\samue\\lematerial-forgebench\\src\\lematerial_forgebench\\evaluator.p\u001b[0m \u001b[31m│\u001b[0m \u001b[2m                \u001b[0m\n",
       "\u001b[2;36m           \u001b[0m         \u001b[31m│\u001b[0m \u001b[33my\u001b[0m:\u001b[94m193\u001b[0m in \u001b[92mevaluate\u001b[0m                                                          \u001b[31m│\u001b[0m \u001b[2m                \u001b[0m\n",
       "\u001b[2;36m           \u001b[0m         \u001b[31m│\u001b[0m                                                                            \u001b[31m│\u001b[0m \u001b[2m                \u001b[0m\n",
       "\u001b[2;36m           \u001b[0m         \u001b[31m│\u001b[0m   \u001b[2m190 \u001b[0m\u001b[2m│   │   \u001b[0m\u001b[2m# each metric handles its own parallelization\u001b[0m                \u001b[31m│\u001b[0m \u001b[2m                \u001b[0m\n",
       "\u001b[2;36m           \u001b[0m         \u001b[31m│\u001b[0m   \u001b[2m191 \u001b[0m\u001b[2m│   │   \u001b[0m\u001b[94mfor\u001b[0m metric_name, metric \u001b[95min\u001b[0m \u001b[96mself\u001b[0m.metrics.items():             \u001b[31m│\u001b[0m \u001b[2m                \u001b[0m\n",
       "\u001b[2;36m           \u001b[0m         \u001b[31m│\u001b[0m   \u001b[2m192 \u001b[0m\u001b[2m│   │   │   \u001b[0m\u001b[94mtry\u001b[0m:                                                     \u001b[31m│\u001b[0m \u001b[2m                \u001b[0m\n",
       "\u001b[2;36m           \u001b[0m         \u001b[31m│\u001b[0m \u001b[31m❱ \u001b[0m193 \u001b[2m│   │   │   │   \u001b[0mresult = metric.compute(                             \u001b[31m│\u001b[0m \u001b[2m                \u001b[0m\n",
       "\u001b[2;36m           \u001b[0m         \u001b[31m│\u001b[0m   \u001b[2m194 \u001b[0m\u001b[2m│   │   │   │   │   \u001b[0mstructures=structures, **metric._get_compute_att \u001b[31m│\u001b[0m \u001b[2m                \u001b[0m\n",
       "\u001b[2;36m           \u001b[0m         \u001b[31m│\u001b[0m   \u001b[2m195 \u001b[0m\u001b[2m│   │   │   │   \u001b[0m)                                                    \u001b[31m│\u001b[0m \u001b[2m                \u001b[0m\n",
       "\u001b[2;36m           \u001b[0m         \u001b[31m│\u001b[0m   \u001b[2m196 \u001b[0m\u001b[2m│   │   │   │   \u001b[0mmetric_results[metric_name] = result                 \u001b[31m│\u001b[0m \u001b[2m                \u001b[0m\n",
       "\u001b[2;36m           \u001b[0m         \u001b[31m│\u001b[0m                                                                            \u001b[31m│\u001b[0m \u001b[2m                \u001b[0m\n",
       "\u001b[2;36m           \u001b[0m         \u001b[31m│\u001b[0m \u001b[33mC:\\Users\\samue\\lematerial-forgebench\\src\\lematerial_forgebench\\metrics\\dis\u001b[0m \u001b[31m│\u001b[0m \u001b[2m                \u001b[0m\n",
       "\u001b[2;36m           \u001b[0m         \u001b[31m│\u001b[0m \u001b[33mtribution_metrics.py\u001b[0m:\u001b[94m151\u001b[0m in \u001b[92mcompute\u001b[0m                                        \u001b[31m│\u001b[0m \u001b[2m                \u001b[0m\n",
       "\u001b[2;36m           \u001b[0m         \u001b[31m│\u001b[0m                                                                            \u001b[31m│\u001b[0m \u001b[2m                \u001b[0m\n",
       "\u001b[2;36m           \u001b[0m         \u001b[31m│\u001b[0m   \u001b[2m148 \u001b[0m\u001b[2m│   │   │   │   │   \u001b[0mdist_metrics[quant] = js                         \u001b[31m│\u001b[0m \u001b[2m                \u001b[0m\n",
       "\u001b[2;36m           \u001b[0m         \u001b[31m│\u001b[0m   \u001b[2m149 \u001b[0m\u001b[2m│   │   \u001b[0m                                                             \u001b[31m│\u001b[0m \u001b[2m                \u001b[0m\n",
       "\u001b[2;36m           \u001b[0m         \u001b[31m│\u001b[0m   \u001b[2m150 \u001b[0m\u001b[2m│   │   \u001b[0m\u001b[94mfor\u001b[0m quant \u001b[95min\u001b[0m [\u001b[33m\"\u001b[0m\u001b[33mCompositionCounts\u001b[0m\u001b[33m\"\u001b[0m, \u001b[33m\"\u001b[0m\u001b[33mComposition\u001b[0m\u001b[33m\"\u001b[0m]:           \u001b[31m│\u001b[0m \u001b[2m                \u001b[0m\n",
       "\u001b[2;36m           \u001b[0m         \u001b[31m│\u001b[0m \u001b[31m❱ \u001b[0m151 \u001b[2m│   │   │   \u001b[0mjs = compute_jensen_shannon_distance(                    \u001b[31m│\u001b[0m \u001b[2m                \u001b[0m\n",
       "\u001b[2;36m           \u001b[0m         \u001b[31m│\u001b[0m   \u001b[2m152 \u001b[0m\u001b[2m│   │   │   │   \u001b[0mreference_df,                                        \u001b[31m│\u001b[0m \u001b[2m                \u001b[0m\n",
       "\u001b[2;36m           \u001b[0m         \u001b[31m│\u001b[0m   \u001b[2m153 \u001b[0m\u001b[2m│   │   │   │   \u001b[0mdf_all_properties,                                   \u001b[31m│\u001b[0m \u001b[2m                \u001b[0m\n",
       "\u001b[2;36m           \u001b[0m         \u001b[31m│\u001b[0m   \u001b[2m154 \u001b[0m\u001b[2m│   │   │   │   \u001b[0mquant,                                               \u001b[31m│\u001b[0m \u001b[2m                \u001b[0m\n",
       "\u001b[2;36m           \u001b[0m         \u001b[31m│\u001b[0m                                                                            \u001b[31m│\u001b[0m \u001b[2m                \u001b[0m\n",
       "\u001b[2;36m           \u001b[0m         \u001b[31m│\u001b[0m \u001b[33mC:\\Users\\samue\\lematerial-forgebench\\src\\lematerial_forgebench\\utils\\distr\u001b[0m \u001b[31m│\u001b[0m \u001b[2m                \u001b[0m\n",
       "\u001b[2;36m           \u001b[0m         \u001b[31m│\u001b[0m \u001b[33mibution_utils.py\u001b[0m:\u001b[94m118\u001b[0m in \u001b[92mcompute_jensen_shannon_distance\u001b[0m                    \u001b[31m│\u001b[0m \u001b[2m                \u001b[0m\n",
       "\u001b[2;36m           \u001b[0m         \u001b[31m│\u001b[0m                                                                            \u001b[31m│\u001b[0m \u001b[2m                \u001b[0m\n",
       "\u001b[2;36m           \u001b[0m         \u001b[31m│\u001b[0m   \u001b[2m115 \u001b[0m\u001b[2m│   │   \u001b[0m)                                                            \u001b[31m│\u001b[0m \u001b[2m                \u001b[0m\n",
       "\u001b[2;36m           \u001b[0m         \u001b[31m│\u001b[0m   \u001b[2m116 \u001b[0m\u001b[2m│   \u001b[0m                                                                 \u001b[31m│\u001b[0m \u001b[2m                \u001b[0m\n",
       "\u001b[2;36m           \u001b[0m         \u001b[31m│\u001b[0m   \u001b[2m117 \u001b[0m\u001b[2m│   \u001b[0m\u001b[94melif\u001b[0m crystal_param == \u001b[33m\"\u001b[0m\u001b[33mCompositionCounts\u001b[0m\u001b[33m\"\u001b[0m:                       \u001b[31m│\u001b[0m \u001b[2m                \u001b[0m\n",
       "\u001b[2;36m           \u001b[0m         \u001b[31m│\u001b[0m \u001b[31m❱ \u001b[0m118 \u001b[2m│   │   \u001b[0m\u001b[94mwith\u001b[0m \u001b[1;4;96mopen\u001b[0m\u001b[1;4m(\u001b[0m\u001b[1;4;33m\"\u001b[0m\u001b[1;4;33mdata/lematbulk_composition_counts_distribution.js\u001b[0m \u001b[31m│\u001b[0m \u001b[2m                \u001b[0m\n",
       "\u001b[2;36m           \u001b[0m         \u001b[31m│\u001b[0m   \u001b[2m119 \u001b[0m\u001b[2m│   │   │   \u001b[0mreference_data_dist = json.load(file)                    \u001b[31m│\u001b[0m \u001b[2m                \u001b[0m\n",
       "\u001b[2;36m           \u001b[0m         \u001b[31m│\u001b[0m   \u001b[2m120 \u001b[0m\u001b[2m│   \u001b[0m\u001b[94melif\u001b[0m crystal_param == \u001b[33m\"\u001b[0m\u001b[33mComposition\u001b[0m\u001b[33m\"\u001b[0m:                             \u001b[31m│\u001b[0m \u001b[2m                \u001b[0m\n",
       "\u001b[2;36m           \u001b[0m         \u001b[31m│\u001b[0m   \u001b[2m121 \u001b[0m\u001b[2m│   │   \u001b[0m\u001b[94mwith\u001b[0m \u001b[96mopen\u001b[0m(\u001b[33m\"\u001b[0m\u001b[33mdata/lematbulk_composition_distribution.json\u001b[0m\u001b[33m\"\u001b[0m, \u001b[33m\"\u001b[0m\u001b[33mr\u001b[0m \u001b[31m│\u001b[0m \u001b[2m                \u001b[0m\n",
       "\u001b[2;36m           \u001b[0m         \u001b[31m╰────────────────────────────────────────────────────────────────────────────╯\u001b[0m \u001b[2m                \u001b[0m\n",
       "\u001b[2;36m           \u001b[0m         \u001b[1;91mFileNotFoundError: \u001b[0m\u001b[1m[\u001b[0mErrno \u001b[1;36m2\u001b[0m\u001b[1m]\u001b[0m No such file or directory:                        \u001b[2m                \u001b[0m\n",
       "\u001b[2;36m           \u001b[0m         \u001b[32m'data/lematbulk_composition_counts_distribution.json'\u001b[0m                          \u001b[2m                \u001b[0m\n"
      ]
     },
     "metadata": {},
     "output_type": "display_data"
    },
    {
     "name": "stdout",
     "output_type": "stream",
     "text": [
      "Index(['LeMatID', 'Volume', 'Density(g/cm^3)', 'Density(atoms/A^3)',\n",
      "       'SpaceGroup', 'CrystalSystem', 'Structure', 'OrbGraphEmbeddings'],\n",
      "      dtype='object')\n"
     ]
    }
   ],
   "source": [
    "benchmark = DistributionBenchmark(reference_df=test_lemat)\n",
    "benchmark_result = benchmark.evaluate(preprocessor_result.processed_structures)"
   ]
  },
  {
   "cell_type": "code",
   "execution_count": 41,
   "id": "98662a86-84e1-4a5b-9839-50e1c759d65b",
   "metadata": {},
   "outputs": [
    {
     "name": "stdout",
     "output_type": "stream",
     "text": [
      "JSDistance\n",
      "{'JSDistance': nan}\n",
      "Average JSDistance: nan\n",
      "MMD\n",
      "{'Volume': np.float64(0.5156492331277469), 'Density(g/cm^3)': np.float64(0.378594576755264), 'Density(atoms/A^3)': np.float64(5.477059509595428e-05), 'Average_MMD': np.float64(0.29809952682603563)}\n",
      "Average MMD: 0.29809952682603563\n",
      "FrechetDistance\n",
      "{'FrechetDistance': 40.38935887003667}\n",
      "Average Frechet Distance: 40.38935887003667\n"
     ]
    }
   ],
   "source": [
    "print(\"JSDistance\")\n",
    "print(benchmark_result.evaluator_results[\"JSDistance\"][\"metric_results\"][\"JSDistance\"].metrics)\n",
    "print(\"Average JSDistance: \" + str(benchmark_result.evaluator_results[\"JSDistance\"][\"JSDistance_value\"]))\n",
    "print(\"MMD\")\n",
    "print(benchmark_result.evaluator_results[\"MMD\"][\"metric_results\"][\"MMD\"].metrics)\n",
    "print(\"Average MMD: \" + str(benchmark_result.evaluator_results[\"MMD\"][\"MMD_value\"]))\n",
    "print(\"FrechetDistance\")\n",
    "print(benchmark_result.evaluator_results[\"FrechetDistance\"][\"metric_results\"][\"FrechetDistance\"].metrics)\n",
    "print(\"Average Frechet Distance: \" + str(benchmark_result.evaluator_results[\"FrechetDistance\"][\"FrechetDistance_value\"]))\n"
   ]
  },
  {
   "cell_type": "code",
   "execution_count": null,
   "id": "94f5b94d-3601-4c73-b4a0-6004afb626bd",
   "metadata": {},
   "outputs": [],
   "source": []
  }
 ],
 "metadata": {
  "kernelspec": {
   "display_name": "Python 3 (ipykernel)",
   "language": "python",
   "name": "python3"
  },
  "language_info": {
   "codemirror_mode": {
    "name": "ipython",
    "version": 3
   },
   "file_extension": ".py",
   "mimetype": "text/x-python",
   "name": "python",
   "nbconvert_exporter": "python",
   "pygments_lexer": "ipython3",
   "version": "3.11.11"
  }
 },
 "nbformat": 4,
 "nbformat_minor": 5
}
