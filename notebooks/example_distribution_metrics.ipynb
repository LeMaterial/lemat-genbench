{
 "cells": [
  {
   "cell_type": "code",
   "execution_count": 1,
   "id": "8b9a431a-ddf9-4b97-874f-571dd1bc4bfb",
   "metadata": {
    "scrolled": true
   },
   "outputs": [
    {
     "data": {
      "text/html": [
       "<pre style=\"white-space:pre;overflow-x:auto;line-height:normal;font-family:Menlo,'DejaVu Sans Mono',consolas,'Courier New',monospace\"><span style=\"color: #7fbfbf; text-decoration-color: #7fbfbf\">[22:15:31] </span><span style=\"color: #808000; text-decoration-color: #808000\">WARNING </span> equiformer not available                                                        <a href=\"file://C:\\Users\\samue\\lematerial-forgebench\\src\\lematerial_forgebench\\models\\registry.py\" target=\"_blank\"><span style=\"color: #7f7f7f; text-decoration-color: #7f7f7f\">registry.py</span></a><span style=\"color: #7f7f7f; text-decoration-color: #7f7f7f\">:</span><a href=\"file://C:\\Users\\samue\\lematerial-forgebench\\src\\lematerial_forgebench\\models\\registry.py#141\" target=\"_blank\"><span style=\"color: #7f7f7f; text-decoration-color: #7f7f7f\">141</span></a>\n",
       "</pre>\n"
      ],
      "text/plain": [
       "\u001b[2;36m[22:15:31]\u001b[0m\u001b[2;36m \u001b[0m\u001b[33mWARNING \u001b[0m equiformer not available                                                        \u001b]8;id=401712;file://C:\\Users\\samue\\lematerial-forgebench\\src\\lematerial_forgebench\\models\\registry.py\u001b\\\u001b[2mregistry.py\u001b[0m\u001b]8;;\u001b\\\u001b[2m:\u001b[0m\u001b]8;id=265382;file://C:\\Users\\samue\\lematerial-forgebench\\src\\lematerial_forgebench\\models\\registry.py#141\u001b\\\u001b[2m141\u001b[0m\u001b]8;;\u001b\\\n"
      ]
     },
     "metadata": {},
     "output_type": "display_data"
    },
    {
     "name": "stderr",
     "output_type": "stream",
     "text": [
      "C:\\Users\\samue\\lematerial-forgebench\\.venv\\Lib\\site-packages\\e3nn\\o3\\_wigner.py:10: UserWarning: Environment variable TORCH_FORCE_NO_WEIGHTS_ONLY_LOAD detected, since the`weights_only` argument was not explicitly passed to `torch.load`, forcing weights_only=False.\n",
      "  _Jd, _W3j_flat, _W3j_indices = torch.load(os.path.join(os.path.dirname(__file__), 'constants.pt'))\n"
     ]
    },
    {
     "name": "stdout",
     "output_type": "stream",
     "text": [
      "cuequivariance or cuequivariance_torch is not available. Cuequivariance acceleration will be disabled.\n"
     ]
    },
    {
     "data": {
      "text/html": [
       "<pre style=\"white-space:pre;overflow-x:auto;line-height:normal;font-family:Menlo,'DejaVu Sans Mono',consolas,'Courier New',monospace\"><span style=\"color: #7fbfbf; text-decoration-color: #7fbfbf\">[22:15:33] </span><span style=\"color: #000080; text-decoration-color: #000080\">INFO    </span> Successfully registered mace model                                              <a href=\"file://C:\\Users\\samue\\lematerial-forgebench\\src\\lematerial_forgebench\\models\\registry.py\" target=\"_blank\"><span style=\"color: #7f7f7f; text-decoration-color: #7f7f7f\">registry.py</span></a><span style=\"color: #7f7f7f; text-decoration-color: #7f7f7f\">:</span><a href=\"file://C:\\Users\\samue\\lematerial-forgebench\\src\\lematerial_forgebench\\models\\registry.py#156\" target=\"_blank\"><span style=\"color: #7f7f7f; text-decoration-color: #7f7f7f\">156</span></a>\n",
       "</pre>\n"
      ],
      "text/plain": [
       "\u001b[2;36m[22:15:33]\u001b[0m\u001b[2;36m \u001b[0m\u001b[34mINFO    \u001b[0m Successfully registered mace model                                              \u001b]8;id=505097;file://C:\\Users\\samue\\lematerial-forgebench\\src\\lematerial_forgebench\\models\\registry.py\u001b\\\u001b[2mregistry.py\u001b[0m\u001b]8;;\u001b\\\u001b[2m:\u001b[0m\u001b]8;id=232866;file://C:\\Users\\samue\\lematerial-forgebench\\src\\lematerial_forgebench\\models\\registry.py#156\u001b\\\u001b[2m156\u001b[0m\u001b]8;;\u001b\\\n"
      ]
     },
     "metadata": {},
     "output_type": "display_data"
    },
    {
     "data": {
      "text/html": [
       "<pre style=\"white-space:pre;overflow-x:auto;line-height:normal;font-family:Menlo,'DejaVu Sans Mono',consolas,'Courier New',monospace\"><span style=\"color: #7fbfbf; text-decoration-color: #7fbfbf\">[22:15:34] </span><span style=\"color: #000080; text-decoration-color: #000080\">INFO    </span> Successfully registered orb model                                               <a href=\"file://C:\\Users\\samue\\lematerial-forgebench\\src\\lematerial_forgebench\\models\\registry.py\" target=\"_blank\"><span style=\"color: #7f7f7f; text-decoration-color: #7f7f7f\">registry.py</span></a><span style=\"color: #7f7f7f; text-decoration-color: #7f7f7f\">:</span><a href=\"file://C:\\Users\\samue\\lematerial-forgebench\\src\\lematerial_forgebench\\models\\registry.py#156\" target=\"_blank\"><span style=\"color: #7f7f7f; text-decoration-color: #7f7f7f\">156</span></a>\n",
       "</pre>\n"
      ],
      "text/plain": [
       "\u001b[2;36m[22:15:34]\u001b[0m\u001b[2;36m \u001b[0m\u001b[34mINFO    \u001b[0m Successfully registered orb model                                               \u001b]8;id=108800;file://C:\\Users\\samue\\lematerial-forgebench\\src\\lematerial_forgebench\\models\\registry.py\u001b\\\u001b[2mregistry.py\u001b[0m\u001b]8;;\u001b\\\u001b[2m:\u001b[0m\u001b]8;id=667003;file://C:\\Users\\samue\\lematerial-forgebench\\src\\lematerial_forgebench\\models\\registry.py#156\u001b\\\u001b[2m156\u001b[0m\u001b]8;;\u001b\\\n"
      ]
     },
     "metadata": {},
     "output_type": "display_data"
    },
    {
     "data": {
      "text/html": [
       "<pre style=\"white-space:pre;overflow-x:auto;line-height:normal;font-family:Menlo,'DejaVu Sans Mono',consolas,'Courier New',monospace\"><span style=\"color: #7fbfbf; text-decoration-color: #7fbfbf\">           </span><span style=\"color: #000080; text-decoration-color: #000080\">INFO    </span> Successfully registered uma model                                               <a href=\"file://C:\\Users\\samue\\lematerial-forgebench\\src\\lematerial_forgebench\\models\\registry.py\" target=\"_blank\"><span style=\"color: #7f7f7f; text-decoration-color: #7f7f7f\">registry.py</span></a><span style=\"color: #7f7f7f; text-decoration-color: #7f7f7f\">:</span><a href=\"file://C:\\Users\\samue\\lematerial-forgebench\\src\\lematerial_forgebench\\models\\registry.py#156\" target=\"_blank\"><span style=\"color: #7f7f7f; text-decoration-color: #7f7f7f\">156</span></a>\n",
       "</pre>\n"
      ],
      "text/plain": [
       "\u001b[2;36m          \u001b[0m\u001b[2;36m \u001b[0m\u001b[34mINFO    \u001b[0m Successfully registered uma model                                               \u001b]8;id=289603;file://C:\\Users\\samue\\lematerial-forgebench\\src\\lematerial_forgebench\\models\\registry.py\u001b\\\u001b[2mregistry.py\u001b[0m\u001b]8;;\u001b\\\u001b[2m:\u001b[0m\u001b]8;id=853227;file://C:\\Users\\samue\\lematerial-forgebench\\src\\lematerial_forgebench\\models\\registry.py#156\u001b\\\u001b[2m156\u001b[0m\u001b]8;;\u001b\\\n"
      ]
     },
     "metadata": {},
     "output_type": "display_data"
    }
   ],
   "source": [
    "import pickle\n",
    "\n",
    "import matplotlib.pyplot as plt\n",
    "import numpy as np\n",
    "import pandas as pd\n",
    "from datasets import load_dataset\n",
    "from pymatgen.core import Structure\n",
    "from pymatgen.util.testing import PymatgenTest\n",
    "from scipy.spatial.distance import jensenshannon\n",
    "\n",
    "from lematerial_forgebench.benchmarks.distribution_benchmark import (\n",
    "    DistributionBenchmark,\n",
    ")\n",
    "from lematerial_forgebench.metrics.distribution_metrics import (\n",
    "    MMD,\n",
    "    FrechetDistance,\n",
    "    JSDistance,\n",
    ")\n",
    "from lematerial_forgebench.preprocess.base import PreprocessorResult\n",
    "from lematerial_forgebench.preprocess.distribution_preprocess import (\n",
    "    DistributionPreprocessor,\n",
    ")\n",
    "from lematerial_forgebench.preprocess.universal_stability_preprocess import (\n",
    "    UniversalStabilityPreprocessor,\n",
    ")\n",
    "from lematerial_forgebench.utils.distribution_utils import (\n",
    "    map_space_group_to_crystal_system,\n",
    ")\n",
    "\n",
    "%load_ext autoreload\n",
    "%autoreload 2"
   ]
  },
  {
   "cell_type": "code",
   "execution_count": null,
   "id": "ddc4af30-d54f-4a4c-80c1-1c8b22eb5be8",
   "metadata": {},
   "outputs": [],
   "source": []
  },
  {
   "cell_type": "code",
   "execution_count": 2,
   "id": "34ca5d5e-aa6d-4722-a511-8cf0d4445017",
   "metadata": {},
   "outputs": [],
   "source": [
    "with open(\"sample_lematbulk.pkl\", \"rb\") as f:\n",
    "    test_lemat = pickle.load(f)"
   ]
  },
  {
   "cell_type": "code",
   "execution_count": 2,
   "id": "c013bc3e-2e91-44ef-ba42-e89c170d96bc",
   "metadata": {},
   "outputs": [
    {
     "name": "stderr",
     "output_type": "stream",
     "text": [
      "C:\\Users\\samue\\AppData\\Local\\Temp\\ipykernel_41080\\905669326.py:1: FutureWarning: PymatgenTest is deprecated, and will be removed on 2026-01-01\n",
      "Use MatSciTest in pymatgen.util.testing instead.\n",
      "  test = PymatgenTest()\n"
     ]
    }
   ],
   "source": [
    "test = PymatgenTest()\n",
    "\n",
    "filename = \"CsBr.cif\"\n",
    "structure = Structure.from_file(filename)\n",
    "structure = structure.remove_oxidation_states()\n",
    "\n",
    "filename2 = \"CsPbBr3.cif\"\n",
    "structure2 = Structure.from_file(filename2)\n",
    "structure2 = structure2.remove_oxidation_states()\n",
    "\n",
    "structures = [\n",
    "    # structure,\n",
    "    # structure2,\n",
    "    test.get_structure(\"Si\"),\n",
    "    test.get_structure(\"LiFePO4\"),\n",
    "]"
   ]
  },
  {
   "cell_type": "code",
   "execution_count": 5,
   "id": "ac803dcc-bef0-482b-bb3c-1e8c25f1b2c0",
   "metadata": {},
   "outputs": [
    {
     "ename": "ImportError",
     "evalue": "UMA/FAIRChem is not available. Please install it with: uv pip install fairchem-core>=2.1.0",
     "output_type": "error",
     "traceback": [
      "\u001b[31m---------------------------------------------------------------------------\u001b[39m",
      "\u001b[31mImportError\u001b[39m                               Traceback (most recent call last)",
      "\u001b[36mCell\u001b[39m\u001b[36m \u001b[39m\u001b[32mIn[5]\u001b[39m\u001b[32m, line 1\u001b[39m\n\u001b[32m----> \u001b[39m\u001b[32m1\u001b[39m stability_preprocessor = \u001b[43mUniversalStabilityPreprocessor\u001b[49m\u001b[43m(\u001b[49m\u001b[43mmodel_name\u001b[49m\u001b[43m=\u001b[49m\u001b[33;43m\"\u001b[39;49m\u001b[33;43muma\u001b[39;49m\u001b[33;43m\"\u001b[39;49m\u001b[43m,\u001b[49m\u001b[43m \u001b[49m\u001b[43mtimeout\u001b[49m\u001b[43m \u001b[49m\u001b[43m=\u001b[49m\u001b[43m \u001b[49m\u001b[32;43m100000\u001b[39;49m\u001b[43m,\u001b[49m\u001b[43m \u001b[49m\u001b[43mrelax_structures\u001b[49m\u001b[43m \u001b[49m\u001b[43m=\u001b[49m\u001b[43m \u001b[49m\u001b[38;5;28;43;01mFalse\u001b[39;49;00m\u001b[43m)\u001b[49m\n\u001b[32m      2\u001b[39m stability_preprocessor_result = stability_preprocessor(structures)\n",
      "\u001b[36mFile \u001b[39m\u001b[32m~\\lematerial-forgebench\\src\\lematerial_forgebench\\preprocess\\universal_stability_preprocess.py:113\u001b[39m, in \u001b[36mUniversalStabilityPreprocessor.__init__\u001b[39m\u001b[34m(self, model_name, timeout, model_config, relax_structures, relaxation_config, calculate_formation_energy, calculate_energy_above_hull, extract_embeddings, name, description, n_jobs)\u001b[39m\n\u001b[32m    111\u001b[39m \u001b[38;5;66;03m# Create calculator using the registry\u001b[39;00m\n\u001b[32m    112\u001b[39m \u001b[38;5;28;01mtry\u001b[39;00m:\n\u001b[32m--> \u001b[39m\u001b[32m113\u001b[39m     \u001b[38;5;28mself\u001b[39m.calculator = \u001b[43mget_calculator\u001b[49m\u001b[43m(\u001b[49m\u001b[43mmodel_name\u001b[49m\u001b[43m,\u001b[49m\u001b[43m \u001b[49m\u001b[43m*\u001b[49m\u001b[43m*\u001b[49m\u001b[38;5;28;43mself\u001b[39;49m\u001b[43m.\u001b[49m\u001b[43mconfig\u001b[49m\u001b[43m.\u001b[49m\u001b[43mmodel_config\u001b[49m\u001b[43m)\u001b[49m\n\u001b[32m    114\u001b[39m \u001b[38;5;28;01mexcept\u001b[39;00m \u001b[38;5;167;01mValueError\u001b[39;00m \u001b[38;5;28;01mas\u001b[39;00m e:\n\u001b[32m    115\u001b[39m     available_models = list_available_models()\n",
      "\u001b[36mFile \u001b[39m\u001b[32m~\\lematerial-forgebench\\src\\lematerial_forgebench\\models\\registry.py:306\u001b[39m, in \u001b[36mget_calculator\u001b[39m\u001b[34m(model_name, **kwargs)\u001b[39m\n\u001b[32m    283\u001b[39m \u001b[38;5;28;01mdef\u001b[39;00m\u001b[38;5;250m \u001b[39m\u001b[34mget_calculator\u001b[39m(model_name: \u001b[38;5;28mstr\u001b[39m, **kwargs) -> BaseMLIPCalculator:\n\u001b[32m    284\u001b[39m \u001b[38;5;250m    \u001b[39m\u001b[33;03m\"\"\"Get a calculator for the specified model type.\u001b[39;00m\n\u001b[32m    285\u001b[39m \n\u001b[32m    286\u001b[39m \u001b[33;03m    This is the main entry point for creating calculators.\u001b[39;00m\n\u001b[32m   (...)\u001b[39m\u001b[32m    304\u001b[39m \u001b[33;03m    >>> calc = get_calculator(\"uma\", model_name=\"uma-s-1\", task=\"omat\")\u001b[39;00m\n\u001b[32m    305\u001b[39m \u001b[33;03m    \"\"\"\u001b[39;00m\n\u001b[32m--> \u001b[39m\u001b[32m306\u001b[39m     \u001b[38;5;28;01mreturn\u001b[39;00m \u001b[43m_registry\u001b[49m\u001b[43m.\u001b[49m\u001b[43mcreate_calculator\u001b[49m\u001b[43m(\u001b[49m\u001b[43mmodel_name\u001b[49m\u001b[43m,\u001b[49m\u001b[43m \u001b[49m\u001b[43m*\u001b[49m\u001b[43m*\u001b[49m\u001b[43mkwargs\u001b[49m\u001b[43m)\u001b[49m\n",
      "\u001b[36mFile \u001b[39m\u001b[32m~\\lematerial-forgebench\\src\\lematerial_forgebench\\models\\registry.py:247\u001b[39m, in \u001b[36mModelRegistry.create_calculator\u001b[39m\u001b[34m(self, model_name, **kwargs)\u001b[39m\n\u001b[32m    241\u001b[39m     \u001b[38;5;28;01mraise\u001b[39;00m \u001b[38;5;167;01mValueError\u001b[39;00m(\n\u001b[32m    242\u001b[39m         \u001b[33mf\u001b[39m\u001b[33m\"\u001b[39m\u001b[33mModel type \u001b[39m\u001b[33m'\u001b[39m\u001b[38;5;132;01m{\u001b[39;00mmodel_name\u001b[38;5;132;01m}\u001b[39;00m\u001b[33m'\u001b[39m\u001b[33m not available. \u001b[39m\u001b[33m\"\u001b[39m\n\u001b[32m    243\u001b[39m         \u001b[33mf\u001b[39m\u001b[33m\"\u001b[39m\u001b[33mAvailable models: \u001b[39m\u001b[38;5;132;01m{\u001b[39;00mavailable\u001b[38;5;132;01m}\u001b[39;00m\u001b[33m\"\u001b[39m\n\u001b[32m    244\u001b[39m     )\n\u001b[32m    246\u001b[39m factory_func = \u001b[38;5;28mself\u001b[39m._factory_functions[model_name]\n\u001b[32m--> \u001b[39m\u001b[32m247\u001b[39m \u001b[38;5;28;01mreturn\u001b[39;00m \u001b[43mfactory_func\u001b[49m\u001b[43m(\u001b[49m\u001b[43m*\u001b[49m\u001b[43m*\u001b[49m\u001b[43mkwargs\u001b[49m\u001b[43m)\u001b[49m\n",
      "\u001b[36mFile \u001b[39m\u001b[32m~\\lematerial-forgebench\\src\\lematerial_forgebench\\models\\uma\\calculator.py:200\u001b[39m, in \u001b[36mcreate_uma_calculator\u001b[39m\u001b[34m(model_name, task, device, **kwargs)\u001b[39m\n\u001b[32m    198\u001b[39m \u001b[38;5;66;03m# Remove precision from kwargs if present, as UMA doesn't support it\u001b[39;00m\n\u001b[32m    199\u001b[39m kwargs.pop(\u001b[33m\"\u001b[39m\u001b[33mprecision\u001b[39m\u001b[33m\"\u001b[39m, \u001b[38;5;28;01mNone\u001b[39;00m)\n\u001b[32m--> \u001b[39m\u001b[32m200\u001b[39m \u001b[38;5;28;01mreturn\u001b[39;00m \u001b[43mUMACalculator\u001b[49m\u001b[43m(\u001b[49m\u001b[43mmodel_name\u001b[49m\u001b[43m=\u001b[49m\u001b[43mmodel_name\u001b[49m\u001b[43m,\u001b[49m\u001b[43m \u001b[49m\u001b[43mtask\u001b[49m\u001b[43m=\u001b[49m\u001b[43mtask\u001b[49m\u001b[43m,\u001b[49m\u001b[43m \u001b[49m\u001b[43mdevice\u001b[49m\u001b[43m=\u001b[49m\u001b[43mdevice\u001b[49m\u001b[43m,\u001b[49m\u001b[43m \u001b[49m\u001b[43m*\u001b[49m\u001b[43m*\u001b[49m\u001b[43mkwargs\u001b[49m\u001b[43m)\u001b[49m\n",
      "\u001b[36mFile \u001b[39m\u001b[32m~\\lematerial-forgebench\\src\\lematerial_forgebench\\models\\uma\\calculator.py:40\u001b[39m, in \u001b[36mUMACalculator.__init__\u001b[39m\u001b[34m(self, model_name, task, device, precision, **kwargs)\u001b[39m\n\u001b[32m     31\u001b[39m \u001b[38;5;28;01mdef\u001b[39;00m\u001b[38;5;250m \u001b[39m\u001b[34m__init__\u001b[39m(\n\u001b[32m     32\u001b[39m     \u001b[38;5;28mself\u001b[39m,\n\u001b[32m     33\u001b[39m     model_name: \u001b[38;5;28mstr\u001b[39m = \u001b[33m\"\u001b[39m\u001b[33muma-s-1\u001b[39m\u001b[33m\"\u001b[39m,\n\u001b[32m   (...)\u001b[39m\u001b[32m     37\u001b[39m     **kwargs,\n\u001b[32m     38\u001b[39m ):\n\u001b[32m     39\u001b[39m     \u001b[38;5;28;01mif\u001b[39;00m \u001b[38;5;129;01mnot\u001b[39;00m UMA_AVAILABLE:\n\u001b[32m---> \u001b[39m\u001b[32m40\u001b[39m         \u001b[38;5;28;01mraise\u001b[39;00m \u001b[38;5;167;01mImportError\u001b[39;00m(\n\u001b[32m     41\u001b[39m             \u001b[33m\"\u001b[39m\u001b[33mUMA/FAIRChem is not available. Please install it with: \u001b[39m\u001b[33m\"\u001b[39m\n\u001b[32m     42\u001b[39m             \u001b[33m\"\u001b[39m\u001b[33muv pip install fairchem-core>=2.1.0\u001b[39m\u001b[33m\"\u001b[39m\n\u001b[32m     43\u001b[39m         )\n\u001b[32m     45\u001b[39m     \u001b[38;5;28mself\u001b[39m.model_name = model_name\n\u001b[32m     46\u001b[39m     \u001b[38;5;28mself\u001b[39m.task = task\n",
      "\u001b[31mImportError\u001b[39m: UMA/FAIRChem is not available. Please install it with: uv pip install fairchem-core>=2.1.0"
     ]
    }
   ],
   "source": [
    "stability_preprocessor = UniversalStabilityPreprocessor(model_name=\"uma\", timeout = 100000, relax_structures = False)\n",
    "stability_preprocessor_result = stability_preprocessor(structures)"
   ]
  },
  {
   "cell_type": "code",
   "execution_count": 4,
   "id": "f7c3c414-bb9a-412a-9a65-c6d9b5a05ba0",
   "metadata": {},
   "outputs": [
    {
     "data": {
      "text/plain": [
       "{'mlip_model': 'MACECalculator',\n",
       " 'model_config': 'mp',\n",
       " 'energy': -191.24685668945312,\n",
       " 'forces': array([[ 2.1066004e-04,  1.2175724e-04,  3.2476193e-04],\n",
       "        [-1.5396724e-04,  1.8480630e-04,  9.6291013e-05],\n",
       "        [-5.8492089e-05, -2.8366988e-04, -9.8216726e-05],\n",
       "        [-1.0762882e-04,  6.9001362e-05,  1.4331818e-06],\n",
       "        [ 4.8637316e-03,  7.9295255e-02,  4.4408597e-02],\n",
       "        [-5.0997734e-03, -7.9157926e-02,  4.4897366e-02],\n",
       "        [ 4.4873431e-03,  7.8111492e-02, -4.3719117e-02],\n",
       "        [-4.5324862e-03, -7.9154678e-02, -4.4880651e-02],\n",
       "        [ 5.9272647e-03,  9.0916738e-02, -3.7740707e-02],\n",
       "        [-5.9130341e-03, -9.1406293e-02, -3.5062969e-02],\n",
       "        [ 5.7322234e-03,  9.2509851e-02,  3.7506938e-02],\n",
       "        [-6.7714304e-03, -9.1596551e-02,  3.3196956e-02],\n",
       "        [ 1.8315822e-02,  2.1170586e-02,  8.5512251e-03],\n",
       "        [-2.4236824e-02,  2.2036597e-02,  3.8901985e-02],\n",
       "        [-1.9107927e-02,  1.9780591e-02, -6.7706093e-02],\n",
       "        [-2.6982000e-02, -1.0208253e-01,  1.0412276e-02],\n",
       "        [ 2.7196916e-02,  1.0210817e-01,  1.0272339e-02],\n",
       "        [ 1.9521598e-02, -2.0158216e-02, -6.8237305e-02],\n",
       "        [ 2.4415441e-02, -2.2152029e-02,  3.7027895e-02],\n",
       "        [-1.4964610e-02, -2.0658664e-02,  7.7457279e-03],\n",
       "        [ 1.8445015e-02,  2.0496603e-02, -8.5431933e-03],\n",
       "        [-2.4705097e-02,  2.2266148e-02, -3.6638498e-02],\n",
       "        [-1.9584555e-02,  2.1602884e-02,  6.8177417e-02],\n",
       "        [-2.9045893e-02, -1.0337966e-01, -1.2129307e-02],\n",
       "        [ 2.7788160e-02,  1.0205001e-01, -1.1761665e-02],\n",
       "        [ 1.9035865e-02, -2.0023659e-02,  6.8627879e-02],\n",
       "        [ 2.4624061e-02, -2.2011859e-02, -3.4802377e-02],\n",
       "        [-1.9300118e-02, -2.0655263e-02, -8.8294744e-03]], dtype=float32),\n",
       " 'formation_energy': -12.18579349712519,\n",
       " 'e_above_hull': np.float64(0.22555425180524313),\n",
       " 'node_embeddings': array([[-1.2037287e-01, -3.0565076e-02,  4.9103528e-02, ...,\n",
       "         -5.5568159e-01, -2.1249498e-01, -5.1328188e-01],\n",
       "        [-1.1985721e-01, -3.1092741e-02,  4.9095448e-02, ...,\n",
       "         -5.5509949e-01, -2.1355610e-01, -5.1362348e-01],\n",
       "        [-1.2037534e-01, -3.0579560e-02,  4.9084432e-02, ...,\n",
       "         -5.5569381e-01, -2.1250907e-01, -5.1328415e-01],\n",
       "        ...,\n",
       "        [-5.6550074e-02, -7.3352056e-03,  6.8888823e-03, ...,\n",
       "         -7.8234982e-01, -2.4086012e-01,  1.4395812e-01],\n",
       "        [-5.0924681e-02, -3.8648184e-02,  1.2455115e-02, ...,\n",
       "         -7.2500682e-01, -2.4186264e-01,  1.4571470e-01],\n",
       "        [-4.0058859e-02, -7.0341215e-03, -5.9217884e-04, ...,\n",
       "         -7.2383261e-01, -2.3398656e-01,  1.3418275e-01]],\n",
       "       shape=(28, 640), dtype=float32),\n",
       " 'graph_embedding': array([-9.64455977e-02, -1.04753124e-02,  1.12707168e-02, -3.74739466e-04,\n",
       "         1.42273232e-01, -1.89171266e-02, -1.86898068e-01,  5.85845485e-02,\n",
       "         3.32590312e-01,  1.79411158e-01, -8.38014007e-01, -1.10058837e-01,\n",
       "        -9.76774618e-02,  1.06981412e-01,  5.68357185e-02,  2.46668365e-02,\n",
       "        -1.00406066e-01,  7.59600624e-02, -5.10216244e-02,  1.80507619e-02,\n",
       "        -2.29513682e-02, -1.90413464e-03, -3.95436445e-03, -1.42885428e-02,\n",
       "         8.56822878e-02,  7.49891177e-02, -2.27117874e-02, -3.94596020e-03,\n",
       "         2.79754680e-02, -8.49914625e-02, -1.20013610e-01, -1.29429445e-01,\n",
       "         4.16402565e-03, -8.81376266e-02, -2.99750753e-02, -6.93635643e-03,\n",
       "         5.80944195e-02,  1.34388232e+00,  2.16345742e-01,  1.99616805e-01,\n",
       "        -7.26318359e-02,  4.50295098e-02,  4.43716571e-02,  1.18987572e+00,\n",
       "        -2.18301535e-01, -1.35393038e-01, -7.27247680e-03,  6.32947385e-01,\n",
       "        -4.85779857e-03,  1.30456582e-01, -7.18374178e-02, -1.06601700e-01,\n",
       "         3.60902138e-02, -7.46792778e-02, -5.87809421e-02,  6.32785335e-02,\n",
       "         1.34253670e-02,  1.65483803e-02, -4.88276687e-03,  1.03550978e-01,\n",
       "         6.26340732e-02, -8.30726847e-02,  1.43537983e-01,  3.36313725e-01,\n",
       "         3.08860056e-02, -2.51550805e-02, -8.21332335e-02, -1.00507282e-01,\n",
       "        -2.04196237e-02,  3.82413492e-02,  3.25113423e-02,  1.25203028e-01,\n",
       "        -2.23411210e-02,  6.07167184e-02,  4.21776483e-03, -1.00861508e-02,\n",
       "        -1.04010798e-01, -1.75811872e-01,  4.87521887e-02,  1.26216710e-02,\n",
       "         4.70710605e-01, -4.90612984e-02,  8.98923874e-02, -1.88237596e-02,\n",
       "         5.69607429e-02, -1.89638585e-02,  1.33315250e-01, -2.03697290e-02,\n",
       "        -7.56590888e-02,  1.40196443e-01,  4.56369519e-02,  2.84819696e-02,\n",
       "         9.69611704e-01,  3.32583264e-02,  4.82455082e-02,  1.41854882e-01,\n",
       "         3.59646320e-01,  1.22471452e-01,  4.94974889e-02,  1.92380711e-01,\n",
       "         3.64883170e-02, -3.00448835e-01,  3.13727483e-02, -6.30270094e-02,\n",
       "         9.24652368e-02,  3.67456019e-01,  3.30124140e-01,  3.30333114e-02,\n",
       "        -3.34407575e-02, -2.31680404e-02, -2.03411020e-02, -1.24160498e-02,\n",
       "        -3.98969389e-02, -9.74283889e-02, -3.28472592e-02,  3.25790420e-02,\n",
       "         1.07796431e-01, -1.26836395e+00,  3.93939950e-02, -2.85679903e-02,\n",
       "         4.12384197e-02, -8.05309489e-02, -6.19411655e-02,  1.30026221e-01,\n",
       "         1.23427816e-01, -7.24092796e-02, -8.96580964e-02,  3.92192639e-02,\n",
       "         3.67406756e-07,  1.25292092e-06, -2.23786833e-06,  1.03849118e-06,\n",
       "         3.38711942e-07, -1.38900106e-07,  1.55703833e-06,  8.46123214e-07,\n",
       "        -2.30675300e-06,  5.23137203e-07, -9.52705591e-07,  1.68689132e-06,\n",
       "        -5.53737777e-07, -1.17798947e-06,  3.02466970e-06,  1.05878075e-06,\n",
       "        -1.42922670e-06,  1.04534308e-06, -2.11809356e-06, -3.47120334e-07,\n",
       "         1.93635265e-06,  8.50164440e-07,  1.96822134e-06, -2.45044271e-06,\n",
       "        -3.94614688e-07,  1.70813493e-07, -8.83259702e-07,  1.76286065e-07,\n",
       "        -3.24981698e-07, -1.33917536e-06, -1.10324311e-06,  7.31153193e-07,\n",
       "        -5.89227852e-07, -1.41441285e-06, -1.57507020e-06,  3.13075725e-06,\n",
       "        -2.03068225e-06, -1.46001855e-06,  2.78132825e-06, -3.61353159e-07,\n",
       "        -1.35861251e-06,  2.00420618e-06,  7.45856312e-07,  1.02996944e-06,\n",
       "        -3.86685133e-06,  9.71868417e-07,  7.79537800e-07, -1.68838801e-06,\n",
       "        -5.48066694e-08,  9.14130510e-07, -1.95584403e-06, -1.60081049e-06,\n",
       "         5.89061528e-07, -4.15103784e-07,  3.43791072e-07,  5.71033809e-07,\n",
       "        -1.82605743e-06, -4.73377952e-07, -1.29084845e-06,  2.07651669e-06,\n",
       "        -4.22687407e-07, -2.57237843e-07, -2.89641321e-07, -2.33994797e-07,\n",
       "         3.58511386e-07, -6.66095218e-07, -8.49565765e-07, -1.51208121e-06,\n",
       "         7.60325122e-07,  8.12545693e-07, -8.83377140e-07, -9.15722921e-07,\n",
       "         1.66197844e-06,  2.89090008e-06, -2.67449241e-06,  4.88811281e-07,\n",
       "         5.70023474e-07, -1.85013880e-06, -5.23536357e-07, -6.63962325e-08,\n",
       "         1.16295575e-06,  1.98398311e-06,  1.11288477e-06, -2.29517786e-06,\n",
       "        -5.51609048e-07,  1.24429266e-06, -3.63007928e-07, -1.08352731e-06,\n",
       "        -1.55831992e-06,  2.05078891e-06, -1.32899731e-06, -1.48926790e-06,\n",
       "         3.84117357e-06,  9.11099562e-07,  6.16028331e-07, -3.72316163e-06,\n",
       "         1.72959901e-07,  7.24406789e-07, -1.90129504e-06, -2.02549359e-06,\n",
       "        -4.32985780e-06,  6.10402140e-06,  8.35529420e-07, -1.19010963e-06,\n",
       "         1.30810906e-06,  3.93483788e-07, -4.05536923e-07,  4.09914975e-07,\n",
       "         4.63931684e-07,  1.76201866e-06, -1.30751039e-06,  5.63250580e-07,\n",
       "         2.27295936e-06, -4.22381390e-06,  4.14571588e-07, -1.07093783e-07,\n",
       "         5.79016557e-07,  9.69174152e-07,  1.39838914e-06, -8.26149630e-07,\n",
       "        -1.41294936e-06, -1.64558207e-06,  8.16836405e-07, -4.54385628e-07,\n",
       "        -1.42216072e-06,  1.63019706e-06, -1.17080549e-06,  1.27202455e-07,\n",
       "         6.99157141e-08, -1.03223806e-06, -2.11041225e-07, -5.42561907e-07,\n",
       "        -1.75168475e-06, -1.31261390e-06,  2.82909195e-06, -1.13395174e-06,\n",
       "        -3.95935785e-07,  3.19127651e-07, -9.99974304e-07, -2.40389312e-07,\n",
       "         1.57740271e-06,  5.81344864e-07,  1.17848481e-06, -1.11060217e-06,\n",
       "         1.33485139e-06,  7.28254747e-07, -1.69620455e-06,  2.01724470e-06,\n",
       "         1.23878272e-06, -1.64468236e-06,  6.19396019e-07, -4.39743815e-07,\n",
       "         8.63602111e-07, -1.30844171e-06, -1.65603706e-06,  2.35839980e-06,\n",
       "         1.86515638e-06,  1.27129408e-06, -1.91528144e-07,  3.34012185e-07,\n",
       "         3.07990877e-06, -3.95933512e-06,  7.13659176e-07,  1.24107464e-06,\n",
       "        -2.66497955e-06, -2.72105854e-06, -5.51248149e-06,  7.45297530e-06,\n",
       "         2.85383834e-07,  7.46976809e-07, -8.94269249e-07, -3.41263188e-07,\n",
       "         1.39497149e-06, -1.85772240e-06,  3.72662072e-07, -2.82419421e-07,\n",
       "        -1.19195988e-06,  1.46191030e-06,  1.29992259e-07, -8.65730840e-07,\n",
       "        -1.57473346e-06, -6.54528492e-07,  1.08725260e-06, -9.42964107e-08,\n",
       "         2.70648997e-07, -7.47785521e-07, -7.63418427e-07,  2.18365835e-06,\n",
       "        -2.92920072e-06, -4.75872582e-07, -8.69115240e-07,  1.28798581e-06,\n",
       "        -6.60440776e-07, -2.00493787e-06,  2.84239650e-06, -6.93203333e-07,\n",
       "        -1.95248663e-06,  2.75262369e-06, -2.54916301e-07, -7.65014996e-10,\n",
       "        -1.57825912e-06, -2.92468542e-07,  3.08789566e-07, -6.85386908e-07,\n",
       "        -1.20632888e-06, -2.60659107e-07,  1.35833398e-06,  9.23173502e-07,\n",
       "         1.78638061e-06, -1.35786831e-06, -2.23786833e-06, -1.09310872e-06,\n",
       "         2.54533779e-06,  1.39603594e-06, -1.24728831e-06,  2.16359535e-06,\n",
       "        -2.63471156e-06,  7.94222714e-08,  1.29091291e-06, -9.88998067e-07,\n",
       "        -3.66317954e-06,  5.44484419e-06,  2.17131202e-07, -3.32201523e-07,\n",
       "        -1.38660630e-06, -1.42924748e-07,  9.44075225e-07, -2.08057463e-06,\n",
       "        -6.07754487e-07, -1.83986515e-06,  1.37416646e-06, -2.91703532e-06,\n",
       "        -2.00350564e-06,  4.18370064e-06,  2.90466210e-06,  2.55697927e-07,\n",
       "        -9.63386697e-07, -1.59721822e-07,  2.35533136e-07, -2.49960323e-07,\n",
       "        -1.49344226e-06, -1.90010178e-06,  2.07565199e-06, -8.86086937e-08,\n",
       "        -1.38489747e-06,  1.88246906e-06, -4.65661287e-07, -4.84849032e-08,\n",
       "         3.10928698e-07,  8.79742288e-07,  2.22861968e-06, -2.56965200e-06,\n",
       "         1.49157961e-06,  2.75017055e-06, -6.25220127e-06, -9.83676159e-07,\n",
       "        -2.51088250e-06,  1.82220333e-06, -5.48282912e-07, -2.32242132e-06,\n",
       "         4.31761146e-06, -1.17799004e-06,  4.34524338e-07, -1.75341427e-06,\n",
       "         2.34427191e-07, -1.42037038e-06,  1.95577741e-08,  8.47503543e-08,\n",
       "         1.25188052e-07, -2.10696771e-06,  1.34456366e-06, -9.85102275e-08,\n",
       "        -9.84407961e-07,  8.27546614e-07,  8.44354588e-07, -2.27562009e-06,\n",
       "         3.58958317e-07,  1.61851858e-06, -2.45363594e-06, -1.82140084e-07,\n",
       "         7.21754176e-08,  1.02179388e-06, -5.41630584e-07, -1.03843354e-06,\n",
       "         1.59081537e-06,  9.36644398e-08,  6.97807991e-07, -8.61340311e-07,\n",
       "        -7.23770697e-08, -1.13006017e-07, -1.36452059e-06, -4.64197768e-07,\n",
       "        -5.92086224e-07,  5.31918261e-07,  7.24968118e-07,  3.39223539e-06,\n",
       "        -3.63448635e-06, -9.03515968e-07, -6.37781341e-07,  6.30072975e-07,\n",
       "        -2.56127009e-06, -3.50920686e-06,  6.66817004e-06, -6.91008097e-07,\n",
       "         9.60817260e-07, -1.22139625e-06, -8.33400634e-07, -1.80450138e-06,\n",
       "         2.51091228e-06,  2.67223044e-07,  1.38988980e-06, -3.46937622e-06,\n",
       "        -2.04119306e-06, -2.55884925e-06,  1.91792583e-06, -1.18184835e-06,\n",
       "        -9.85085649e-07,  9.20213211e-07,  5.25399003e-07,  9.38808512e-07,\n",
       "         1.62848409e-07,  9.45957623e-08,  3.66913952e-07,  9.53275148e-08,\n",
       "        -1.22641882e-06, -4.50090738e-08,  6.22273149e-07, -1.56515409e-06,\n",
       "        -1.08581821e-06,  7.24169809e-07, -1.80417135e-06, -1.00739169e-06,\n",
       "         2.54111364e-06, -1.48246599e-07,  3.14809903e-08,  1.24255064e-06,\n",
       "        -1.24125347e-06, -9.31661418e-07,  2.56260068e-06, -1.27325094e-07,\n",
       "         1.21635719e-06, -3.23807558e-06, -2.35544780e-06,  1.08184759e-06,\n",
       "        -1.88935417e-06, -1.89989805e-06, -3.36924245e-06,  4.23844904e-06,\n",
       "        -1.03177240e-06, -1.92056382e-06,  1.77869310e-06, -1.39166204e-07,\n",
       "         9.78891777e-08, -8.98293877e-07, -2.25912245e-07, -1.81041415e-07,\n",
       "         1.98537191e-06,  8.14242043e-08, -6.11234498e-07,  2.25220401e-06,\n",
       "        -3.09531714e-07,  1.31769667e-07, -2.28240560e-06, -2.86049073e-09,\n",
       "         5.65445857e-10,  3.78848704e-08,  2.59905534e-07,  5.03220804e-07,\n",
       "         1.26094420e-07, -2.03454078e-06, -1.95737402e-06,  1.53611677e-06,\n",
       "        -5.86201054e-07, -2.10664962e-06,  1.93230312e-06,  6.53522363e-07,\n",
       "         4.13615311e-07, -3.12059592e-06,  5.20476249e-07,  8.15274689e-07,\n",
       "        -3.10063882e-07, -8.85953853e-07,  2.66358256e-07,  1.32114758e-06,\n",
       "         3.08772236e-01,  7.24246576e-02,  8.57134834e-02, -2.21082643e-01,\n",
       "        -1.31271698e-03,  2.93009102e-01,  5.23329794e-01, -4.10781235e-01,\n",
       "        -3.28356355e-01, -2.99152005e-02, -4.71622169e-01,  3.03580701e-01,\n",
       "         4.94869500e-01, -1.97362140e-01, -1.10151544e-01, -1.32041916e-01,\n",
       "        -7.04203248e-02,  1.26822125e-02,  2.38530874e-01, -3.75433028e-01,\n",
       "         1.85460851e-01, -3.54405701e-01, -1.14016779e-01, -3.39072287e-01,\n",
       "        -2.97775436e-02,  3.72438282e-01,  4.82533425e-01, -2.81740841e-03,\n",
       "        -2.90915459e-01, -1.54174399e-02, -1.33802388e-02, -5.98400712e-01,\n",
       "         2.27108911e-01,  4.67059851e-01,  1.57999754e-01, -2.95977443e-01,\n",
       "         2.17922896e-01,  1.69260457e-01,  2.90724695e-01,  7.95828849e-02,\n",
       "         5.69807403e-02, -1.57246038e-01, -2.79630162e-02, -2.08599731e-01,\n",
       "        -1.23897493e-01,  3.58769983e-01, -3.37263316e-01,  1.14265665e-01,\n",
       "        -9.04025510e-02,  4.38462459e-02,  8.44911784e-02,  5.55674195e-01,\n",
       "         1.85054228e-01, -1.18295914e-02, -1.05375838e+00,  1.32258371e-01,\n",
       "        -6.15590177e-02,  8.99019763e-02,  5.62801123e-01, -6.45257160e-02,\n",
       "         9.00547057e-02,  4.99303713e-02,  2.05655724e-01,  5.04789889e-01,\n",
       "        -7.03444658e-03, -1.20232701e-01, -3.42655838e-01,  3.38722050e-01,\n",
       "         2.29906719e-02,  1.36121556e-01,  1.28662020e-01, -1.90858040e-02,\n",
       "         2.24254712e-01,  1.14407003e-01, -4.40956540e-02, -3.70394021e-01,\n",
       "        -3.29126269e-01, -1.82418913e-01, -6.35494292e-02, -9.34380889e-02,\n",
       "         6.24579072e-01, -1.82079628e-01,  4.16105837e-01, -3.29352230e-01,\n",
       "        -1.01461828e+00, -3.27162802e-01, -1.65299162e-01,  5.71990274e-02,\n",
       "         1.86746240e-01, -3.20476383e-01, -3.12765419e-01, -4.21223454e-02,\n",
       "         1.18092932e-01,  4.65468355e-02, -4.30640578e-03,  9.55172926e-02,\n",
       "         1.68467779e-02, -1.16443403e-01,  3.61996949e-01, -8.37146044e-02,\n",
       "         4.64979820e-02, -5.18549800e-01,  1.06714793e-01, -1.22489214e-01,\n",
       "         3.70196134e-01,  1.98096886e-01, -2.50141919e-01,  1.75863743e-01,\n",
       "        -5.74106812e-01, -3.19482088e-01,  3.97904128e-01, -2.30345756e-01,\n",
       "         8.34039897e-02,  1.26955479e-01,  4.10695001e-02,  2.17680007e-01,\n",
       "         3.03422380e-02,  2.78368413e-01,  2.38532215e-01,  1.11588977e-01,\n",
       "         5.36618270e-02, -1.15071066e-01,  5.61001301e-02, -5.76530173e-02,\n",
       "         1.39754623e-01, -6.65480614e-01, -1.96572095e-01, -1.18243359e-01],\n",
       "       dtype=float32)}"
      ]
     },
     "execution_count": 4,
     "metadata": {},
     "output_type": "execute_result"
    }
   ],
   "source": [
    "stability_preprocessor_result.processed_structures[1].properties"
   ]
  },
  {
   "cell_type": "code",
   "execution_count": null,
   "id": "4bdfecdf-bb42-4f39-b8da-6cea79f5b34f",
   "metadata": {},
   "outputs": [],
   "source": []
  },
  {
   "cell_type": "code",
   "execution_count": 32,
   "id": "156a7ef5-e054-45f5-a407-619d8350264c",
   "metadata": {},
   "outputs": [],
   "source": [
    "distribution_preprocessor = DistributionPreprocessor()\n",
    "dist_preprocessor_result = distribution_preprocessor(structures)"
   ]
  },
  {
   "cell_type": "code",
   "execution_count": 10,
   "id": "9472fc6e-0126-4b33-a6c0-4493eb5f3e18",
   "metadata": {
    "scrolled": true
   },
   "outputs": [
    {
     "ename": "FileNotFoundError",
     "evalue": "[Errno 2] No such file or directory: 'data/lematbulk_composition_counts_distribution.json'",
     "output_type": "error",
     "traceback": [
      "\u001b[31m---------------------------------------------------------------------------\u001b[39m",
      "\u001b[31mFileNotFoundError\u001b[39m                         Traceback (most recent call last)",
      "\u001b[36mCell\u001b[39m\u001b[36m \u001b[39m\u001b[32mIn[10]\u001b[39m\u001b[32m, line 3\u001b[39m\n\u001b[32m      1\u001b[39m metric = JSDistance(reference_df=test_lemat) \n\u001b[32m      2\u001b[39m default_args = metric._get_compute_attributes()\n\u001b[32m----> \u001b[39m\u001b[32m3\u001b[39m metric_result = \u001b[43mmetric\u001b[49m\u001b[43m(\u001b[49m\u001b[43mpreprocessor_result\u001b[49m\u001b[43m.\u001b[49m\u001b[43mprocessed_structures\u001b[49m\u001b[43m,\u001b[49m\u001b[43m \u001b[49m\u001b[43m*\u001b[49m\u001b[43m*\u001b[49m\u001b[43mdefault_args\u001b[49m\u001b[43m)\u001b[49m\n\u001b[32m      4\u001b[39m \u001b[38;5;28mprint\u001b[39m(metric_result.metrics)\n",
      "\u001b[36mFile \u001b[39m\u001b[32m~\\lematerial-forgebench\\src\\lematerial_forgebench\\metrics\\base.py:451\u001b[39m, in \u001b[36mBaseMetric.__call__\u001b[39m\u001b[34m(self, structures, **compute_args)\u001b[39m\n\u001b[32m    435\u001b[39m \u001b[38;5;250m\u001b[39m\u001b[33;03m\"\"\"Convenient callable interface for computing the metric.\u001b[39;00m\n\u001b[32m    436\u001b[39m \n\u001b[32m    437\u001b[39m \u001b[33;03mParameters\u001b[39;00m\n\u001b[32m   (...)\u001b[39m\u001b[32m    448\u001b[39m \u001b[33;03m    Object containing the metric value and computation metadata.\u001b[39;00m\n\u001b[32m    449\u001b[39m \u001b[33;03m\"\"\"\u001b[39;00m\n\u001b[32m    450\u001b[39m structures_list = format_structures(structures)\n\u001b[32m--> \u001b[39m\u001b[32m451\u001b[39m \u001b[38;5;28;01mreturn\u001b[39;00m \u001b[38;5;28;43mself\u001b[39;49m\u001b[43m.\u001b[49m\u001b[43mcompute\u001b[49m\u001b[43m(\u001b[49m\u001b[43mstructures_list\u001b[49m\u001b[43m,\u001b[49m\u001b[43m \u001b[49m\u001b[43m*\u001b[49m\u001b[43m*\u001b[49m\u001b[43mcompute_args\u001b[49m\u001b[43m)\u001b[49m\n",
      "\u001b[36mFile \u001b[39m\u001b[32m~\\lematerial-forgebench\\src\\lematerial_forgebench\\metrics\\distribution_metrics.py:151\u001b[39m, in \u001b[36mJSDistance.compute\u001b[39m\u001b[34m(self, structures, **compute_args)\u001b[39m\n\u001b[32m    148\u001b[39m             dist_metrics[quant] = js\n\u001b[32m    150\u001b[39m \u001b[38;5;28;01mfor\u001b[39;00m quant \u001b[38;5;129;01min\u001b[39;00m [\u001b[33m\"\u001b[39m\u001b[33mCompositionCounts\u001b[39m\u001b[33m\"\u001b[39m, \u001b[33m\"\u001b[39m\u001b[33mComposition\u001b[39m\u001b[33m\"\u001b[39m]:\n\u001b[32m--> \u001b[39m\u001b[32m151\u001b[39m     js = \u001b[43mcompute_jensen_shannon_distance\u001b[49m\u001b[43m(\u001b[49m\n\u001b[32m    152\u001b[39m \u001b[43m        \u001b[49m\u001b[43mreference_df\u001b[49m\u001b[43m,\u001b[49m\n\u001b[32m    153\u001b[39m \u001b[43m        \u001b[49m\u001b[43mdf_all_properties\u001b[49m\u001b[43m,\u001b[49m\n\u001b[32m    154\u001b[39m \u001b[43m        \u001b[49m\u001b[43mquant\u001b[49m\u001b[43m,\u001b[49m\n\u001b[32m    155\u001b[39m \u001b[43m        \u001b[49m\u001b[43mmetric_type\u001b[49m\u001b[43m=\u001b[49m\u001b[38;5;28;43mtype\u001b[39;49m\u001b[43m(\u001b[49m\u001b[43mdf_all_properties\u001b[49m\u001b[43m[\u001b[49m\u001b[43mquant\u001b[49m\u001b[43m]\u001b[49m\u001b[43m.\u001b[49m\u001b[43miloc\u001b[49m\u001b[43m[\u001b[49m\u001b[32;43m0\u001b[39;49m\u001b[43m]\u001b[49m\u001b[43m)\u001b[49m\u001b[43m,\u001b[49m\n\u001b[32m    156\u001b[39m \u001b[43m    \u001b[49m\u001b[43m)\u001b[49m\n\u001b[32m    157\u001b[39m     dist_metrics[quant] = js\n\u001b[32m    159\u001b[39m end_time = time.time()\n",
      "\u001b[36mFile \u001b[39m\u001b[32m~\\lematerial-forgebench\\src\\lematerial_forgebench\\utils\\distribution_utils.py:118\u001b[39m, in \u001b[36mcompute_jensen_shannon_distance\u001b[39m\u001b[34m(reference_data, generated_crystals, crystal_param, metric_type)\u001b[39m\n\u001b[32m    113\u001b[39m     reference_data_dist = generate_probabilities(\n\u001b[32m    114\u001b[39m         reference_data, metric=crystal_param, metric_type=metric_type\n\u001b[32m    115\u001b[39m     )\n\u001b[32m    117\u001b[39m \u001b[38;5;28;01melif\u001b[39;00m crystal_param == \u001b[33m\"\u001b[39m\u001b[33mCompositionCounts\u001b[39m\u001b[33m\"\u001b[39m:\n\u001b[32m--> \u001b[39m\u001b[32m118\u001b[39m     \u001b[38;5;28;01mwith\u001b[39;00m \u001b[38;5;28;43mopen\u001b[39;49m\u001b[43m(\u001b[49m\u001b[33;43m\"\u001b[39;49m\u001b[33;43mdata/lematbulk_composition_counts_distribution.json\u001b[39;49m\u001b[33;43m\"\u001b[39;49m\u001b[43m,\u001b[49m\u001b[43m \u001b[49m\u001b[33;43m\"\u001b[39;49m\u001b[33;43mr\u001b[39;49m\u001b[33;43m\"\u001b[39;49m\u001b[43m)\u001b[49m \u001b[38;5;28;01mas\u001b[39;00m file:\n\u001b[32m    119\u001b[39m         reference_data_dist = json.load(file)\n\u001b[32m    120\u001b[39m \u001b[38;5;28;01melif\u001b[39;00m crystal_param == \u001b[33m\"\u001b[39m\u001b[33mComposition\u001b[39m\u001b[33m\"\u001b[39m:\n",
      "\u001b[31mFileNotFoundError\u001b[39m: [Errno 2] No such file or directory: 'data/lematbulk_composition_counts_distribution.json'"
     ]
    }
   ],
   "source": [
    "metric = JSDistance(reference_df=test_lemat) \n",
    "default_args = metric._get_compute_attributes()\n",
    "metric_result = metric(preprocessor_result.processed_structures, **default_args)\n",
    "print(metric_result.metrics)"
   ]
  },
  {
   "cell_type": "code",
   "execution_count": 11,
   "id": "8027780b-9b83-4a9e-815c-abf8ff2f9bd9",
   "metadata": {},
   "outputs": [
    {
     "name": "stdout",
     "output_type": "stream",
     "text": [
      "{'Volume': np.float64(0.5156492331277469), 'Density(g/cm^3)': np.float64(0.378594576755264), 'Density(atoms/A^3)': np.float64(5.477059509595428e-05), 'Average_MMD': np.float64(0.29809952682603563)}\n"
     ]
    }
   ],
   "source": [
    "metric = MMD(reference_df=test_lemat) \n",
    "default_args = metric._get_compute_attributes()\n",
    "metric_result = metric(preprocessor_result.processed_structures, **default_args)\n",
    "print(metric_result.metrics)"
   ]
  },
  {
   "cell_type": "code",
   "execution_count": 14,
   "id": "92feb85f-1a47-4f67-b29b-59af42665fbb",
   "metadata": {},
   "outputs": [
    {
     "name": "stdout",
     "output_type": "stream",
     "text": [
      "Index(['LeMatID', 'Volume', 'Density(g/cm^3)', 'Density(atoms/A^3)',\n",
      "       'SpaceGroup', 'CrystalSystem', 'Structure', 'OrbGraphEmbeddings'],\n",
      "      dtype='object')\n",
      "{'FrechetDistance': 40.38935887003667}\n"
     ]
    }
   ],
   "source": [
    "metric = FrechetDistance(reference_df=test_lemat) \n",
    "\n",
    "sample_embeddings = list(stability_preprocessor_result.processed_structures)\n",
    "\n",
    "default_args = metric._get_compute_attributes()\n",
    "metric_result = metric(sample_embeddings, **default_args)\n",
    "print(metric_result.metrics)"
   ]
  },
  {
   "cell_type": "code",
   "execution_count": 34,
   "id": "66d554c5-3c36-4fce-9973-658e16e83433",
   "metadata": {},
   "outputs": [
    {
     "data": {
      "text/html": [
       "<pre style=\"white-space:pre;overflow-x:auto;line-height:normal;font-family:Menlo,'DejaVu Sans Mono',consolas,'Courier New',monospace\"><span style=\"color: #7fbfbf; text-decoration-color: #7fbfbf\">[17:03:55] </span><span style=\"color: #808000; text-decoration-color: #808000\">WARNING </span> Number of input structures is less than processed + failed. This might indicate an   <a href=\"file://C:\\Users\\samue\\lematerial-forgebench\\src\\lematerial_forgebench\\preprocess\\base.py\" target=\"_blank\"><span style=\"color: #7f7f7f; text-decoration-color: #7f7f7f\">base.py</span></a><span style=\"color: #7f7f7f; text-decoration-color: #7f7f7f\">:</span><a href=\"file://C:\\Users\\samue\\lematerial-forgebench\\src\\lematerial_forgebench\\preprocess\\base.py#86\" target=\"_blank\"><span style=\"color: #7f7f7f; text-decoration-color: #7f7f7f\">86</span></a>\n",
       "<span style=\"color: #7fbfbf; text-decoration-color: #7fbfbf\">           </span>         issue.                                                                               <span style=\"color: #7f7f7f; text-decoration-color: #7f7f7f\">          </span>\n",
       "</pre>\n"
      ],
      "text/plain": [
       "\u001b[2;36m[17:03:55]\u001b[0m\u001b[2;36m \u001b[0m\u001b[33mWARNING \u001b[0m Number of input structures is less than processed + failed. This might indicate an   \u001b]8;id=823273;file://C:\\Users\\samue\\lematerial-forgebench\\src\\lematerial_forgebench\\preprocess\\base.py\u001b\\\u001b[2mbase.py\u001b[0m\u001b]8;;\u001b\\\u001b[2m:\u001b[0m\u001b]8;id=751211;file://C:\\Users\\samue\\lematerial-forgebench\\src\\lematerial_forgebench\\preprocess\\base.py#86\u001b\\\u001b[2m86\u001b[0m\u001b]8;;\u001b\\\n",
       "\u001b[2;36m           \u001b[0m         issue.                                                                               \u001b[2m          \u001b[0m\n"
      ]
     },
     "metadata": {},
     "output_type": "display_data"
    }
   ],
   "source": [
    "final_processed_structures = []\n",
    "\n",
    "for ind in range(0, len(dist_preprocessor_result.processed_structures)): \n",
    "    combined_structure = dist_preprocessor_result.processed_structures[ind]\n",
    "    for entry in stability_preprocessor_result.processed_structures[ind].properties.keys():\n",
    "        combined_structure.properties[entry] = stability_preprocessor_result.processed_structures[ind].properties[entry]\n",
    "    final_processed_structures.append(combined_structure)\n",
    "\n",
    "preprocessor_result = PreprocessorResult(processed_structures=final_processed_structures,\n",
    "    config={\n",
    "        \"stability_preprocessor_config\":stability_preprocessor_result.config,\n",
    "        \"distribution_preprocessor_config\": dist_preprocessor_result.config,\n",
    "    },\n",
    "    computation_time={\n",
    "        \"stability_preprocessor_computation_time\": stability_preprocessor_result.computation_time,\n",
    "        \"distribution_preprocessor_computation_time\": dist_preprocessor_result.computation_time,\n",
    "    },\n",
    "    n_input_structures=stability_preprocessor_result.n_input_structures,\n",
    "    failed_indices={\n",
    "        \"stability_preprocessor_failed_indices\": stability_preprocessor_result.failed_indices,\n",
    "        \"distribution_preprocessor_failed_indices\": dist_preprocessor_result.failed_indices,\n",
    "    },\n",
    "    warnings={\n",
    "        \"stability_preprocessor_warnings\": stability_preprocessor_result.warnings,\n",
    "        \"distribution_preprocessor_warnings\": dist_preprocessor_result.warnings,\n",
    "    },\n",
    ")"
   ]
  },
  {
   "cell_type": "code",
   "execution_count": 40,
   "id": "c5be4676-99fe-4ee6-b9de-3a255b9127f5",
   "metadata": {},
   "outputs": [
    {
     "data": {
      "text/html": [
       "<pre style=\"white-space:pre;overflow-x:auto;line-height:normal;font-family:Menlo,'DejaVu Sans Mono',consolas,'Courier New',monospace\"><span style=\"color: #7fbfbf; text-decoration-color: #7fbfbf\">[17:06:38] </span><span style=\"color: #800000; text-decoration-color: #800000; font-weight: bold\">ERROR   </span> Failed to compute metric JSDistance                                            <a href=\"file://C:\\Users\\samue\\lematerial-forgebench\\src\\lematerial_forgebench\\evaluator.py\" target=\"_blank\"><span style=\"color: #7f7f7f; text-decoration-color: #7f7f7f\">evaluator.py</span></a><span style=\"color: #7f7f7f; text-decoration-color: #7f7f7f\">:</span><a href=\"file://C:\\Users\\samue\\lematerial-forgebench\\src\\lematerial_forgebench\\evaluator.py#199\" target=\"_blank\"><span style=\"color: #7f7f7f; text-decoration-color: #7f7f7f\">199</span></a>\n",
       "<span style=\"color: #7fbfbf; text-decoration-color: #7fbfbf\">           </span>         <span style=\"color: #800000; text-decoration-color: #800000\">╭──────────────────── </span><span style=\"color: #800000; text-decoration-color: #800000; font-weight: bold\">Traceback </span><span style=\"color: #bf7f7f; text-decoration-color: #bf7f7f; font-weight: bold\">(most recent call last)</span><span style=\"color: #800000; text-decoration-color: #800000\"> ─────────────────────╮</span> <span style=\"color: #7f7f7f; text-decoration-color: #7f7f7f\">                </span>\n",
       "<span style=\"color: #7fbfbf; text-decoration-color: #7fbfbf\">           </span>         <span style=\"color: #800000; text-decoration-color: #800000\">│</span> <span style=\"color: #808000; text-decoration-color: #808000\">C:\\Users\\samue\\lematerial-forgebench\\src\\lematerial_forgebench\\evaluator.p</span> <span style=\"color: #800000; text-decoration-color: #800000\">│</span> <span style=\"color: #7f7f7f; text-decoration-color: #7f7f7f\">                </span>\n",
       "<span style=\"color: #7fbfbf; text-decoration-color: #7fbfbf\">           </span>         <span style=\"color: #800000; text-decoration-color: #800000\">│</span> <span style=\"color: #808000; text-decoration-color: #808000\">y</span>:<span style=\"color: #0000ff; text-decoration-color: #0000ff\">193</span> in <span style=\"color: #00ff00; text-decoration-color: #00ff00\">evaluate</span>                                                          <span style=\"color: #800000; text-decoration-color: #800000\">│</span> <span style=\"color: #7f7f7f; text-decoration-color: #7f7f7f\">                </span>\n",
       "<span style=\"color: #7fbfbf; text-decoration-color: #7fbfbf\">           </span>         <span style=\"color: #800000; text-decoration-color: #800000\">│</span>                                                                            <span style=\"color: #800000; text-decoration-color: #800000\">│</span> <span style=\"color: #7f7f7f; text-decoration-color: #7f7f7f\">                </span>\n",
       "<span style=\"color: #7fbfbf; text-decoration-color: #7fbfbf\">           </span>         <span style=\"color: #800000; text-decoration-color: #800000\">│</span>   <span style=\"color: #7f7f7f; text-decoration-color: #7f7f7f\">190 </span><span style=\"color: #7f7f7f; text-decoration-color: #7f7f7f\">│   │   </span><span style=\"color: #7f7f7f; text-decoration-color: #7f7f7f\"># each metric handles its own parallelization</span>                <span style=\"color: #800000; text-decoration-color: #800000\">│</span> <span style=\"color: #7f7f7f; text-decoration-color: #7f7f7f\">                </span>\n",
       "<span style=\"color: #7fbfbf; text-decoration-color: #7fbfbf\">           </span>         <span style=\"color: #800000; text-decoration-color: #800000\">│</span>   <span style=\"color: #7f7f7f; text-decoration-color: #7f7f7f\">191 </span><span style=\"color: #7f7f7f; text-decoration-color: #7f7f7f\">│   │   </span><span style=\"color: #0000ff; text-decoration-color: #0000ff\">for</span> metric_name, metric <span style=\"color: #ff00ff; text-decoration-color: #ff00ff\">in</span> <span style=\"color: #00ffff; text-decoration-color: #00ffff\">self</span>.metrics.items():             <span style=\"color: #800000; text-decoration-color: #800000\">│</span> <span style=\"color: #7f7f7f; text-decoration-color: #7f7f7f\">                </span>\n",
       "<span style=\"color: #7fbfbf; text-decoration-color: #7fbfbf\">           </span>         <span style=\"color: #800000; text-decoration-color: #800000\">│</span>   <span style=\"color: #7f7f7f; text-decoration-color: #7f7f7f\">192 </span><span style=\"color: #7f7f7f; text-decoration-color: #7f7f7f\">│   │   │   </span><span style=\"color: #0000ff; text-decoration-color: #0000ff\">try</span>:                                                     <span style=\"color: #800000; text-decoration-color: #800000\">│</span> <span style=\"color: #7f7f7f; text-decoration-color: #7f7f7f\">                </span>\n",
       "<span style=\"color: #7fbfbf; text-decoration-color: #7fbfbf\">           </span>         <span style=\"color: #800000; text-decoration-color: #800000\">│</span> <span style=\"color: #800000; text-decoration-color: #800000\">❱ </span>193 <span style=\"color: #7f7f7f; text-decoration-color: #7f7f7f\">│   │   │   │   </span>result = metric.compute(                             <span style=\"color: #800000; text-decoration-color: #800000\">│</span> <span style=\"color: #7f7f7f; text-decoration-color: #7f7f7f\">                </span>\n",
       "<span style=\"color: #7fbfbf; text-decoration-color: #7fbfbf\">           </span>         <span style=\"color: #800000; text-decoration-color: #800000\">│</span>   <span style=\"color: #7f7f7f; text-decoration-color: #7f7f7f\">194 </span><span style=\"color: #7f7f7f; text-decoration-color: #7f7f7f\">│   │   │   │   │   </span>structures=structures, **metric._get_compute_att <span style=\"color: #800000; text-decoration-color: #800000\">│</span> <span style=\"color: #7f7f7f; text-decoration-color: #7f7f7f\">                </span>\n",
       "<span style=\"color: #7fbfbf; text-decoration-color: #7fbfbf\">           </span>         <span style=\"color: #800000; text-decoration-color: #800000\">│</span>   <span style=\"color: #7f7f7f; text-decoration-color: #7f7f7f\">195 </span><span style=\"color: #7f7f7f; text-decoration-color: #7f7f7f\">│   │   │   │   </span>)                                                    <span style=\"color: #800000; text-decoration-color: #800000\">│</span> <span style=\"color: #7f7f7f; text-decoration-color: #7f7f7f\">                </span>\n",
       "<span style=\"color: #7fbfbf; text-decoration-color: #7fbfbf\">           </span>         <span style=\"color: #800000; text-decoration-color: #800000\">│</span>   <span style=\"color: #7f7f7f; text-decoration-color: #7f7f7f\">196 </span><span style=\"color: #7f7f7f; text-decoration-color: #7f7f7f\">│   │   │   │   </span>metric_results[metric_name] = result                 <span style=\"color: #800000; text-decoration-color: #800000\">│</span> <span style=\"color: #7f7f7f; text-decoration-color: #7f7f7f\">                </span>\n",
       "<span style=\"color: #7fbfbf; text-decoration-color: #7fbfbf\">           </span>         <span style=\"color: #800000; text-decoration-color: #800000\">│</span>                                                                            <span style=\"color: #800000; text-decoration-color: #800000\">│</span> <span style=\"color: #7f7f7f; text-decoration-color: #7f7f7f\">                </span>\n",
       "<span style=\"color: #7fbfbf; text-decoration-color: #7fbfbf\">           </span>         <span style=\"color: #800000; text-decoration-color: #800000\">│</span> <span style=\"color: #808000; text-decoration-color: #808000\">C:\\Users\\samue\\lematerial-forgebench\\src\\lematerial_forgebench\\metrics\\dis</span> <span style=\"color: #800000; text-decoration-color: #800000\">│</span> <span style=\"color: #7f7f7f; text-decoration-color: #7f7f7f\">                </span>\n",
       "<span style=\"color: #7fbfbf; text-decoration-color: #7fbfbf\">           </span>         <span style=\"color: #800000; text-decoration-color: #800000\">│</span> <span style=\"color: #808000; text-decoration-color: #808000\">tribution_metrics.py</span>:<span style=\"color: #0000ff; text-decoration-color: #0000ff\">151</span> in <span style=\"color: #00ff00; text-decoration-color: #00ff00\">compute</span>                                        <span style=\"color: #800000; text-decoration-color: #800000\">│</span> <span style=\"color: #7f7f7f; text-decoration-color: #7f7f7f\">                </span>\n",
       "<span style=\"color: #7fbfbf; text-decoration-color: #7fbfbf\">           </span>         <span style=\"color: #800000; text-decoration-color: #800000\">│</span>                                                                            <span style=\"color: #800000; text-decoration-color: #800000\">│</span> <span style=\"color: #7f7f7f; text-decoration-color: #7f7f7f\">                </span>\n",
       "<span style=\"color: #7fbfbf; text-decoration-color: #7fbfbf\">           </span>         <span style=\"color: #800000; text-decoration-color: #800000\">│</span>   <span style=\"color: #7f7f7f; text-decoration-color: #7f7f7f\">148 </span><span style=\"color: #7f7f7f; text-decoration-color: #7f7f7f\">│   │   │   │   │   </span>dist_metrics[quant] = js                         <span style=\"color: #800000; text-decoration-color: #800000\">│</span> <span style=\"color: #7f7f7f; text-decoration-color: #7f7f7f\">                </span>\n",
       "<span style=\"color: #7fbfbf; text-decoration-color: #7fbfbf\">           </span>         <span style=\"color: #800000; text-decoration-color: #800000\">│</span>   <span style=\"color: #7f7f7f; text-decoration-color: #7f7f7f\">149 </span><span style=\"color: #7f7f7f; text-decoration-color: #7f7f7f\">│   │   </span>                                                             <span style=\"color: #800000; text-decoration-color: #800000\">│</span> <span style=\"color: #7f7f7f; text-decoration-color: #7f7f7f\">                </span>\n",
       "<span style=\"color: #7fbfbf; text-decoration-color: #7fbfbf\">           </span>         <span style=\"color: #800000; text-decoration-color: #800000\">│</span>   <span style=\"color: #7f7f7f; text-decoration-color: #7f7f7f\">150 </span><span style=\"color: #7f7f7f; text-decoration-color: #7f7f7f\">│   │   </span><span style=\"color: #0000ff; text-decoration-color: #0000ff\">for</span> quant <span style=\"color: #ff00ff; text-decoration-color: #ff00ff\">in</span> [<span style=\"color: #808000; text-decoration-color: #808000\">\"CompositionCounts\"</span>, <span style=\"color: #808000; text-decoration-color: #808000\">\"Composition\"</span>]:           <span style=\"color: #800000; text-decoration-color: #800000\">│</span> <span style=\"color: #7f7f7f; text-decoration-color: #7f7f7f\">                </span>\n",
       "<span style=\"color: #7fbfbf; text-decoration-color: #7fbfbf\">           </span>         <span style=\"color: #800000; text-decoration-color: #800000\">│</span> <span style=\"color: #800000; text-decoration-color: #800000\">❱ </span>151 <span style=\"color: #7f7f7f; text-decoration-color: #7f7f7f\">│   │   │   </span>js = compute_jensen_shannon_distance(                    <span style=\"color: #800000; text-decoration-color: #800000\">│</span> <span style=\"color: #7f7f7f; text-decoration-color: #7f7f7f\">                </span>\n",
       "<span style=\"color: #7fbfbf; text-decoration-color: #7fbfbf\">           </span>         <span style=\"color: #800000; text-decoration-color: #800000\">│</span>   <span style=\"color: #7f7f7f; text-decoration-color: #7f7f7f\">152 </span><span style=\"color: #7f7f7f; text-decoration-color: #7f7f7f\">│   │   │   │   </span>reference_df,                                        <span style=\"color: #800000; text-decoration-color: #800000\">│</span> <span style=\"color: #7f7f7f; text-decoration-color: #7f7f7f\">                </span>\n",
       "<span style=\"color: #7fbfbf; text-decoration-color: #7fbfbf\">           </span>         <span style=\"color: #800000; text-decoration-color: #800000\">│</span>   <span style=\"color: #7f7f7f; text-decoration-color: #7f7f7f\">153 </span><span style=\"color: #7f7f7f; text-decoration-color: #7f7f7f\">│   │   │   │   </span>df_all_properties,                                   <span style=\"color: #800000; text-decoration-color: #800000\">│</span> <span style=\"color: #7f7f7f; text-decoration-color: #7f7f7f\">                </span>\n",
       "<span style=\"color: #7fbfbf; text-decoration-color: #7fbfbf\">           </span>         <span style=\"color: #800000; text-decoration-color: #800000\">│</span>   <span style=\"color: #7f7f7f; text-decoration-color: #7f7f7f\">154 </span><span style=\"color: #7f7f7f; text-decoration-color: #7f7f7f\">│   │   │   │   </span>quant,                                               <span style=\"color: #800000; text-decoration-color: #800000\">│</span> <span style=\"color: #7f7f7f; text-decoration-color: #7f7f7f\">                </span>\n",
       "<span style=\"color: #7fbfbf; text-decoration-color: #7fbfbf\">           </span>         <span style=\"color: #800000; text-decoration-color: #800000\">│</span>                                                                            <span style=\"color: #800000; text-decoration-color: #800000\">│</span> <span style=\"color: #7f7f7f; text-decoration-color: #7f7f7f\">                </span>\n",
       "<span style=\"color: #7fbfbf; text-decoration-color: #7fbfbf\">           </span>         <span style=\"color: #800000; text-decoration-color: #800000\">│</span> <span style=\"color: #808000; text-decoration-color: #808000\">C:\\Users\\samue\\lematerial-forgebench\\src\\lematerial_forgebench\\utils\\distr</span> <span style=\"color: #800000; text-decoration-color: #800000\">│</span> <span style=\"color: #7f7f7f; text-decoration-color: #7f7f7f\">                </span>\n",
       "<span style=\"color: #7fbfbf; text-decoration-color: #7fbfbf\">           </span>         <span style=\"color: #800000; text-decoration-color: #800000\">│</span> <span style=\"color: #808000; text-decoration-color: #808000\">ibution_utils.py</span>:<span style=\"color: #0000ff; text-decoration-color: #0000ff\">118</span> in <span style=\"color: #00ff00; text-decoration-color: #00ff00\">compute_jensen_shannon_distance</span>                    <span style=\"color: #800000; text-decoration-color: #800000\">│</span> <span style=\"color: #7f7f7f; text-decoration-color: #7f7f7f\">                </span>\n",
       "<span style=\"color: #7fbfbf; text-decoration-color: #7fbfbf\">           </span>         <span style=\"color: #800000; text-decoration-color: #800000\">│</span>                                                                            <span style=\"color: #800000; text-decoration-color: #800000\">│</span> <span style=\"color: #7f7f7f; text-decoration-color: #7f7f7f\">                </span>\n",
       "<span style=\"color: #7fbfbf; text-decoration-color: #7fbfbf\">           </span>         <span style=\"color: #800000; text-decoration-color: #800000\">│</span>   <span style=\"color: #7f7f7f; text-decoration-color: #7f7f7f\">115 </span><span style=\"color: #7f7f7f; text-decoration-color: #7f7f7f\">│   │   </span>)                                                            <span style=\"color: #800000; text-decoration-color: #800000\">│</span> <span style=\"color: #7f7f7f; text-decoration-color: #7f7f7f\">                </span>\n",
       "<span style=\"color: #7fbfbf; text-decoration-color: #7fbfbf\">           </span>         <span style=\"color: #800000; text-decoration-color: #800000\">│</span>   <span style=\"color: #7f7f7f; text-decoration-color: #7f7f7f\">116 </span><span style=\"color: #7f7f7f; text-decoration-color: #7f7f7f\">│   </span>                                                                 <span style=\"color: #800000; text-decoration-color: #800000\">│</span> <span style=\"color: #7f7f7f; text-decoration-color: #7f7f7f\">                </span>\n",
       "<span style=\"color: #7fbfbf; text-decoration-color: #7fbfbf\">           </span>         <span style=\"color: #800000; text-decoration-color: #800000\">│</span>   <span style=\"color: #7f7f7f; text-decoration-color: #7f7f7f\">117 </span><span style=\"color: #7f7f7f; text-decoration-color: #7f7f7f\">│   </span><span style=\"color: #0000ff; text-decoration-color: #0000ff\">elif</span> crystal_param == <span style=\"color: #808000; text-decoration-color: #808000\">\"CompositionCounts\"</span>:                       <span style=\"color: #800000; text-decoration-color: #800000\">│</span> <span style=\"color: #7f7f7f; text-decoration-color: #7f7f7f\">                </span>\n",
       "<span style=\"color: #7fbfbf; text-decoration-color: #7fbfbf\">           </span>         <span style=\"color: #800000; text-decoration-color: #800000\">│</span> <span style=\"color: #800000; text-decoration-color: #800000\">❱ </span>118 <span style=\"color: #7f7f7f; text-decoration-color: #7f7f7f\">│   │   </span><span style=\"color: #0000ff; text-decoration-color: #0000ff\">with</span> <span style=\"color: #00ffff; text-decoration-color: #00ffff; font-weight: bold; text-decoration: underline\">open</span><span style=\"font-weight: bold; text-decoration: underline\">(</span><span style=\"color: #808000; text-decoration-color: #808000; font-weight: bold; text-decoration: underline\">\"data/lematbulk_composition_counts_distribution.js</span> <span style=\"color: #800000; text-decoration-color: #800000\">│</span> <span style=\"color: #7f7f7f; text-decoration-color: #7f7f7f\">                </span>\n",
       "<span style=\"color: #7fbfbf; text-decoration-color: #7fbfbf\">           </span>         <span style=\"color: #800000; text-decoration-color: #800000\">│</span>   <span style=\"color: #7f7f7f; text-decoration-color: #7f7f7f\">119 </span><span style=\"color: #7f7f7f; text-decoration-color: #7f7f7f\">│   │   │   </span>reference_data_dist = json.load(file)                    <span style=\"color: #800000; text-decoration-color: #800000\">│</span> <span style=\"color: #7f7f7f; text-decoration-color: #7f7f7f\">                </span>\n",
       "<span style=\"color: #7fbfbf; text-decoration-color: #7fbfbf\">           </span>         <span style=\"color: #800000; text-decoration-color: #800000\">│</span>   <span style=\"color: #7f7f7f; text-decoration-color: #7f7f7f\">120 </span><span style=\"color: #7f7f7f; text-decoration-color: #7f7f7f\">│   </span><span style=\"color: #0000ff; text-decoration-color: #0000ff\">elif</span> crystal_param == <span style=\"color: #808000; text-decoration-color: #808000\">\"Composition\"</span>:                             <span style=\"color: #800000; text-decoration-color: #800000\">│</span> <span style=\"color: #7f7f7f; text-decoration-color: #7f7f7f\">                </span>\n",
       "<span style=\"color: #7fbfbf; text-decoration-color: #7fbfbf\">           </span>         <span style=\"color: #800000; text-decoration-color: #800000\">│</span>   <span style=\"color: #7f7f7f; text-decoration-color: #7f7f7f\">121 </span><span style=\"color: #7f7f7f; text-decoration-color: #7f7f7f\">│   │   </span><span style=\"color: #0000ff; text-decoration-color: #0000ff\">with</span> <span style=\"color: #00ffff; text-decoration-color: #00ffff\">open</span>(<span style=\"color: #808000; text-decoration-color: #808000\">\"data/lematbulk_composition_distribution.json\"</span>, <span style=\"color: #808000; text-decoration-color: #808000\">\"r</span> <span style=\"color: #800000; text-decoration-color: #800000\">│</span> <span style=\"color: #7f7f7f; text-decoration-color: #7f7f7f\">                </span>\n",
       "<span style=\"color: #7fbfbf; text-decoration-color: #7fbfbf\">           </span>         <span style=\"color: #800000; text-decoration-color: #800000\">╰────────────────────────────────────────────────────────────────────────────╯</span> <span style=\"color: #7f7f7f; text-decoration-color: #7f7f7f\">                </span>\n",
       "<span style=\"color: #7fbfbf; text-decoration-color: #7fbfbf\">           </span>         <span style=\"color: #ff0000; text-decoration-color: #ff0000; font-weight: bold\">FileNotFoundError: </span><span style=\"font-weight: bold\">[</span>Errno <span style=\"color: #008080; text-decoration-color: #008080; font-weight: bold\">2</span><span style=\"font-weight: bold\">]</span> No such file or directory:                        <span style=\"color: #7f7f7f; text-decoration-color: #7f7f7f\">                </span>\n",
       "<span style=\"color: #7fbfbf; text-decoration-color: #7fbfbf\">           </span>         <span style=\"color: #008000; text-decoration-color: #008000\">'data/lematbulk_composition_counts_distribution.json'</span>                          <span style=\"color: #7f7f7f; text-decoration-color: #7f7f7f\">                </span>\n",
       "</pre>\n"
      ],
      "text/plain": [
       "\u001b[2;36m[17:06:38]\u001b[0m\u001b[2;36m \u001b[0m\u001b[1;31mERROR   \u001b[0m Failed to compute metric JSDistance                                            \u001b]8;id=611874;file://C:\\Users\\samue\\lematerial-forgebench\\src\\lematerial_forgebench\\evaluator.py\u001b\\\u001b[2mevaluator.py\u001b[0m\u001b]8;;\u001b\\\u001b[2m:\u001b[0m\u001b]8;id=839301;file://C:\\Users\\samue\\lematerial-forgebench\\src\\lematerial_forgebench\\evaluator.py#199\u001b\\\u001b[2m199\u001b[0m\u001b]8;;\u001b\\\n",
       "\u001b[2;36m           \u001b[0m         \u001b[31m╭─\u001b[0m\u001b[31m───────────────────\u001b[0m\u001b[31m \u001b[0m\u001b[1;31mTraceback \u001b[0m\u001b[1;2;31m(most recent call last)\u001b[0m\u001b[31m \u001b[0m\u001b[31m────────────────────\u001b[0m\u001b[31m─╮\u001b[0m \u001b[2m                \u001b[0m\n",
       "\u001b[2;36m           \u001b[0m         \u001b[31m│\u001b[0m \u001b[33mC:\\Users\\samue\\lematerial-forgebench\\src\\lematerial_forgebench\\evaluator.p\u001b[0m \u001b[31m│\u001b[0m \u001b[2m                \u001b[0m\n",
       "\u001b[2;36m           \u001b[0m         \u001b[31m│\u001b[0m \u001b[33my\u001b[0m:\u001b[94m193\u001b[0m in \u001b[92mevaluate\u001b[0m                                                          \u001b[31m│\u001b[0m \u001b[2m                \u001b[0m\n",
       "\u001b[2;36m           \u001b[0m         \u001b[31m│\u001b[0m                                                                            \u001b[31m│\u001b[0m \u001b[2m                \u001b[0m\n",
       "\u001b[2;36m           \u001b[0m         \u001b[31m│\u001b[0m   \u001b[2m190 \u001b[0m\u001b[2m│   │   \u001b[0m\u001b[2m# each metric handles its own parallelization\u001b[0m                \u001b[31m│\u001b[0m \u001b[2m                \u001b[0m\n",
       "\u001b[2;36m           \u001b[0m         \u001b[31m│\u001b[0m   \u001b[2m191 \u001b[0m\u001b[2m│   │   \u001b[0m\u001b[94mfor\u001b[0m metric_name, metric \u001b[95min\u001b[0m \u001b[96mself\u001b[0m.metrics.items():             \u001b[31m│\u001b[0m \u001b[2m                \u001b[0m\n",
       "\u001b[2;36m           \u001b[0m         \u001b[31m│\u001b[0m   \u001b[2m192 \u001b[0m\u001b[2m│   │   │   \u001b[0m\u001b[94mtry\u001b[0m:                                                     \u001b[31m│\u001b[0m \u001b[2m                \u001b[0m\n",
       "\u001b[2;36m           \u001b[0m         \u001b[31m│\u001b[0m \u001b[31m❱ \u001b[0m193 \u001b[2m│   │   │   │   \u001b[0mresult = metric.compute(                             \u001b[31m│\u001b[0m \u001b[2m                \u001b[0m\n",
       "\u001b[2;36m           \u001b[0m         \u001b[31m│\u001b[0m   \u001b[2m194 \u001b[0m\u001b[2m│   │   │   │   │   \u001b[0mstructures=structures, **metric._get_compute_att \u001b[31m│\u001b[0m \u001b[2m                \u001b[0m\n",
       "\u001b[2;36m           \u001b[0m         \u001b[31m│\u001b[0m   \u001b[2m195 \u001b[0m\u001b[2m│   │   │   │   \u001b[0m)                                                    \u001b[31m│\u001b[0m \u001b[2m                \u001b[0m\n",
       "\u001b[2;36m           \u001b[0m         \u001b[31m│\u001b[0m   \u001b[2m196 \u001b[0m\u001b[2m│   │   │   │   \u001b[0mmetric_results[metric_name] = result                 \u001b[31m│\u001b[0m \u001b[2m                \u001b[0m\n",
       "\u001b[2;36m           \u001b[0m         \u001b[31m│\u001b[0m                                                                            \u001b[31m│\u001b[0m \u001b[2m                \u001b[0m\n",
       "\u001b[2;36m           \u001b[0m         \u001b[31m│\u001b[0m \u001b[33mC:\\Users\\samue\\lematerial-forgebench\\src\\lematerial_forgebench\\metrics\\dis\u001b[0m \u001b[31m│\u001b[0m \u001b[2m                \u001b[0m\n",
       "\u001b[2;36m           \u001b[0m         \u001b[31m│\u001b[0m \u001b[33mtribution_metrics.py\u001b[0m:\u001b[94m151\u001b[0m in \u001b[92mcompute\u001b[0m                                        \u001b[31m│\u001b[0m \u001b[2m                \u001b[0m\n",
       "\u001b[2;36m           \u001b[0m         \u001b[31m│\u001b[0m                                                                            \u001b[31m│\u001b[0m \u001b[2m                \u001b[0m\n",
       "\u001b[2;36m           \u001b[0m         \u001b[31m│\u001b[0m   \u001b[2m148 \u001b[0m\u001b[2m│   │   │   │   │   \u001b[0mdist_metrics[quant] = js                         \u001b[31m│\u001b[0m \u001b[2m                \u001b[0m\n",
       "\u001b[2;36m           \u001b[0m         \u001b[31m│\u001b[0m   \u001b[2m149 \u001b[0m\u001b[2m│   │   \u001b[0m                                                             \u001b[31m│\u001b[0m \u001b[2m                \u001b[0m\n",
       "\u001b[2;36m           \u001b[0m         \u001b[31m│\u001b[0m   \u001b[2m150 \u001b[0m\u001b[2m│   │   \u001b[0m\u001b[94mfor\u001b[0m quant \u001b[95min\u001b[0m [\u001b[33m\"\u001b[0m\u001b[33mCompositionCounts\u001b[0m\u001b[33m\"\u001b[0m, \u001b[33m\"\u001b[0m\u001b[33mComposition\u001b[0m\u001b[33m\"\u001b[0m]:           \u001b[31m│\u001b[0m \u001b[2m                \u001b[0m\n",
       "\u001b[2;36m           \u001b[0m         \u001b[31m│\u001b[0m \u001b[31m❱ \u001b[0m151 \u001b[2m│   │   │   \u001b[0mjs = compute_jensen_shannon_distance(                    \u001b[31m│\u001b[0m \u001b[2m                \u001b[0m\n",
       "\u001b[2;36m           \u001b[0m         \u001b[31m│\u001b[0m   \u001b[2m152 \u001b[0m\u001b[2m│   │   │   │   \u001b[0mreference_df,                                        \u001b[31m│\u001b[0m \u001b[2m                \u001b[0m\n",
       "\u001b[2;36m           \u001b[0m         \u001b[31m│\u001b[0m   \u001b[2m153 \u001b[0m\u001b[2m│   │   │   │   \u001b[0mdf_all_properties,                                   \u001b[31m│\u001b[0m \u001b[2m                \u001b[0m\n",
       "\u001b[2;36m           \u001b[0m         \u001b[31m│\u001b[0m   \u001b[2m154 \u001b[0m\u001b[2m│   │   │   │   \u001b[0mquant,                                               \u001b[31m│\u001b[0m \u001b[2m                \u001b[0m\n",
       "\u001b[2;36m           \u001b[0m         \u001b[31m│\u001b[0m                                                                            \u001b[31m│\u001b[0m \u001b[2m                \u001b[0m\n",
       "\u001b[2;36m           \u001b[0m         \u001b[31m│\u001b[0m \u001b[33mC:\\Users\\samue\\lematerial-forgebench\\src\\lematerial_forgebench\\utils\\distr\u001b[0m \u001b[31m│\u001b[0m \u001b[2m                \u001b[0m\n",
       "\u001b[2;36m           \u001b[0m         \u001b[31m│\u001b[0m \u001b[33mibution_utils.py\u001b[0m:\u001b[94m118\u001b[0m in \u001b[92mcompute_jensen_shannon_distance\u001b[0m                    \u001b[31m│\u001b[0m \u001b[2m                \u001b[0m\n",
       "\u001b[2;36m           \u001b[0m         \u001b[31m│\u001b[0m                                                                            \u001b[31m│\u001b[0m \u001b[2m                \u001b[0m\n",
       "\u001b[2;36m           \u001b[0m         \u001b[31m│\u001b[0m   \u001b[2m115 \u001b[0m\u001b[2m│   │   \u001b[0m)                                                            \u001b[31m│\u001b[0m \u001b[2m                \u001b[0m\n",
       "\u001b[2;36m           \u001b[0m         \u001b[31m│\u001b[0m   \u001b[2m116 \u001b[0m\u001b[2m│   \u001b[0m                                                                 \u001b[31m│\u001b[0m \u001b[2m                \u001b[0m\n",
       "\u001b[2;36m           \u001b[0m         \u001b[31m│\u001b[0m   \u001b[2m117 \u001b[0m\u001b[2m│   \u001b[0m\u001b[94melif\u001b[0m crystal_param == \u001b[33m\"\u001b[0m\u001b[33mCompositionCounts\u001b[0m\u001b[33m\"\u001b[0m:                       \u001b[31m│\u001b[0m \u001b[2m                \u001b[0m\n",
       "\u001b[2;36m           \u001b[0m         \u001b[31m│\u001b[0m \u001b[31m❱ \u001b[0m118 \u001b[2m│   │   \u001b[0m\u001b[94mwith\u001b[0m \u001b[1;4;96mopen\u001b[0m\u001b[1;4m(\u001b[0m\u001b[1;4;33m\"\u001b[0m\u001b[1;4;33mdata/lematbulk_composition_counts_distribution.js\u001b[0m \u001b[31m│\u001b[0m \u001b[2m                \u001b[0m\n",
       "\u001b[2;36m           \u001b[0m         \u001b[31m│\u001b[0m   \u001b[2m119 \u001b[0m\u001b[2m│   │   │   \u001b[0mreference_data_dist = json.load(file)                    \u001b[31m│\u001b[0m \u001b[2m                \u001b[0m\n",
       "\u001b[2;36m           \u001b[0m         \u001b[31m│\u001b[0m   \u001b[2m120 \u001b[0m\u001b[2m│   \u001b[0m\u001b[94melif\u001b[0m crystal_param == \u001b[33m\"\u001b[0m\u001b[33mComposition\u001b[0m\u001b[33m\"\u001b[0m:                             \u001b[31m│\u001b[0m \u001b[2m                \u001b[0m\n",
       "\u001b[2;36m           \u001b[0m         \u001b[31m│\u001b[0m   \u001b[2m121 \u001b[0m\u001b[2m│   │   \u001b[0m\u001b[94mwith\u001b[0m \u001b[96mopen\u001b[0m(\u001b[33m\"\u001b[0m\u001b[33mdata/lematbulk_composition_distribution.json\u001b[0m\u001b[33m\"\u001b[0m, \u001b[33m\"\u001b[0m\u001b[33mr\u001b[0m \u001b[31m│\u001b[0m \u001b[2m                \u001b[0m\n",
       "\u001b[2;36m           \u001b[0m         \u001b[31m╰────────────────────────────────────────────────────────────────────────────╯\u001b[0m \u001b[2m                \u001b[0m\n",
       "\u001b[2;36m           \u001b[0m         \u001b[1;91mFileNotFoundError: \u001b[0m\u001b[1m[\u001b[0mErrno \u001b[1;36m2\u001b[0m\u001b[1m]\u001b[0m No such file or directory:                        \u001b[2m                \u001b[0m\n",
       "\u001b[2;36m           \u001b[0m         \u001b[32m'data/lematbulk_composition_counts_distribution.json'\u001b[0m                          \u001b[2m                \u001b[0m\n"
      ]
     },
     "metadata": {},
     "output_type": "display_data"
    },
    {
     "name": "stdout",
     "output_type": "stream",
     "text": [
      "Index(['LeMatID', 'Volume', 'Density(g/cm^3)', 'Density(atoms/A^3)',\n",
      "       'SpaceGroup', 'CrystalSystem', 'Structure', 'OrbGraphEmbeddings'],\n",
      "      dtype='object')\n"
     ]
    }
   ],
   "source": [
    "benchmark = DistributionBenchmark(reference_df=test_lemat)\n",
    "benchmark_result = benchmark.evaluate(preprocessor_result.processed_structures)"
   ]
  },
  {
   "cell_type": "code",
   "execution_count": 41,
   "id": "98662a86-84e1-4a5b-9839-50e1c759d65b",
   "metadata": {},
   "outputs": [
    {
     "name": "stdout",
     "output_type": "stream",
     "text": [
      "JSDistance\n",
      "{'JSDistance': nan}\n",
      "Average JSDistance: nan\n",
      "MMD\n",
      "{'Volume': np.float64(0.5156492331277469), 'Density(g/cm^3)': np.float64(0.378594576755264), 'Density(atoms/A^3)': np.float64(5.477059509595428e-05), 'Average_MMD': np.float64(0.29809952682603563)}\n",
      "Average MMD: 0.29809952682603563\n",
      "FrechetDistance\n",
      "{'FrechetDistance': 40.38935887003667}\n",
      "Average Frechet Distance: 40.38935887003667\n"
     ]
    }
   ],
   "source": [
    "print(\"JSDistance\")\n",
    "print(benchmark_result.evaluator_results[\"JSDistance\"][\"metric_results\"][\"JSDistance\"].metrics)\n",
    "print(\"Average JSDistance: \" + str(benchmark_result.evaluator_results[\"JSDistance\"][\"JSDistance_value\"]))\n",
    "print(\"MMD\")\n",
    "print(benchmark_result.evaluator_results[\"MMD\"][\"metric_results\"][\"MMD\"].metrics)\n",
    "print(\"Average MMD: \" + str(benchmark_result.evaluator_results[\"MMD\"][\"MMD_value\"]))\n",
    "print(\"FrechetDistance\")\n",
    "print(benchmark_result.evaluator_results[\"FrechetDistance\"][\"metric_results\"][\"FrechetDistance\"].metrics)\n",
    "print(\"Average Frechet Distance: \" + str(benchmark_result.evaluator_results[\"FrechetDistance\"][\"FrechetDistance_value\"]))\n"
   ]
  },
  {
   "cell_type": "code",
   "execution_count": null,
   "id": "94f5b94d-3601-4c73-b4a0-6004afb626bd",
   "metadata": {},
   "outputs": [],
   "source": []
  }
 ],
 "metadata": {
  "kernelspec": {
   "display_name": "Python 3 (ipykernel)",
   "language": "python",
   "name": "python3"
  },
  "language_info": {
   "codemirror_mode": {
    "name": "ipython",
    "version": 3
   },
   "file_extension": ".py",
   "mimetype": "text/x-python",
   "name": "python",
   "nbconvert_exporter": "python",
   "pygments_lexer": "ipython3",
   "version": "3.11.11"
  }
 },
 "nbformat": 4,
 "nbformat_minor": 5
}
