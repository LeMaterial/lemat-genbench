{
 "cells": [
  {
   "cell_type": "code",
   "execution_count": 1,
   "id": "8b9a431a-ddf9-4b97-874f-571dd1bc4bfb",
   "metadata": {
    "scrolled": true
   },
   "outputs": [
    {
     "data": {
      "text/html": [
       "<pre style=\"white-space:pre;overflow-x:auto;line-height:normal;font-family:Menlo,'DejaVu Sans Mono',consolas,'Courier New',monospace\"><span style=\"color: #7fbfbf; text-decoration-color: #7fbfbf\">[01:09:08] </span><span style=\"color: #808000; text-decoration-color: #808000\">WARNING </span> equiformer not available                                                        <a href=\"file://C:\\Users\\samue\\lematerial-forgebench\\src\\lematerial_forgebench\\models\\registry.py\" target=\"_blank\"><span style=\"color: #7f7f7f; text-decoration-color: #7f7f7f\">registry.py</span></a><span style=\"color: #7f7f7f; text-decoration-color: #7f7f7f\">:</span><a href=\"file://C:\\Users\\samue\\lematerial-forgebench\\src\\lematerial_forgebench\\models\\registry.py#141\" target=\"_blank\"><span style=\"color: #7f7f7f; text-decoration-color: #7f7f7f\">141</span></a>\n",
       "</pre>\n"
      ],
      "text/plain": [
       "\u001b[2;36m[01:09:08]\u001b[0m\u001b[2;36m \u001b[0m\u001b[33mWARNING \u001b[0m equiformer not available                                                        \u001b]8;id=165567;file://C:\\Users\\samue\\lematerial-forgebench\\src\\lematerial_forgebench\\models\\registry.py\u001b\\\u001b[2mregistry.py\u001b[0m\u001b]8;;\u001b\\\u001b[2m:\u001b[0m\u001b]8;id=617807;file://C:\\Users\\samue\\lematerial-forgebench\\src\\lematerial_forgebench\\models\\registry.py#141\u001b\\\u001b[2m141\u001b[0m\u001b]8;;\u001b\\\n"
      ]
     },
     "metadata": {},
     "output_type": "display_data"
    },
    {
     "name": "stderr",
     "output_type": "stream",
     "text": [
      "C:\\Users\\samue\\lematerial-forgebench\\.venv\\Lib\\site-packages\\e3nn\\o3\\_wigner.py:10: UserWarning: Environment variable TORCH_FORCE_NO_WEIGHTS_ONLY_LOAD detected, since the`weights_only` argument was not explicitly passed to `torch.load`, forcing weights_only=False.\n",
      "  _Jd, _W3j_flat, _W3j_indices = torch.load(os.path.join(os.path.dirname(__file__), 'constants.pt'))\n"
     ]
    },
    {
     "name": "stdout",
     "output_type": "stream",
     "text": [
      "cuequivariance or cuequivariance_torch is not available. Cuequivariance acceleration will be disabled.\n"
     ]
    },
    {
     "data": {
      "text/html": [
       "<pre style=\"white-space:pre;overflow-x:auto;line-height:normal;font-family:Menlo,'DejaVu Sans Mono',consolas,'Courier New',monospace\"><span style=\"color: #7fbfbf; text-decoration-color: #7fbfbf\">[01:09:11] </span><span style=\"color: #000080; text-decoration-color: #000080\">INFO    </span> Successfully registered mace model                                              <a href=\"file://C:\\Users\\samue\\lematerial-forgebench\\src\\lematerial_forgebench\\models\\registry.py\" target=\"_blank\"><span style=\"color: #7f7f7f; text-decoration-color: #7f7f7f\">registry.py</span></a><span style=\"color: #7f7f7f; text-decoration-color: #7f7f7f\">:</span><a href=\"file://C:\\Users\\samue\\lematerial-forgebench\\src\\lematerial_forgebench\\models\\registry.py#156\" target=\"_blank\"><span style=\"color: #7f7f7f; text-decoration-color: #7f7f7f\">156</span></a>\n",
       "</pre>\n"
      ],
      "text/plain": [
       "\u001b[2;36m[01:09:11]\u001b[0m\u001b[2;36m \u001b[0m\u001b[34mINFO    \u001b[0m Successfully registered mace model                                              \u001b]8;id=179966;file://C:\\Users\\samue\\lematerial-forgebench\\src\\lematerial_forgebench\\models\\registry.py\u001b\\\u001b[2mregistry.py\u001b[0m\u001b]8;;\u001b\\\u001b[2m:\u001b[0m\u001b]8;id=787360;file://C:\\Users\\samue\\lematerial-forgebench\\src\\lematerial_forgebench\\models\\registry.py#156\u001b\\\u001b[2m156\u001b[0m\u001b]8;;\u001b\\\n"
      ]
     },
     "metadata": {},
     "output_type": "display_data"
    },
    {
     "data": {
      "text/html": [
       "<pre style=\"white-space:pre;overflow-x:auto;line-height:normal;font-family:Menlo,'DejaVu Sans Mono',consolas,'Courier New',monospace\"><span style=\"color: #7fbfbf; text-decoration-color: #7fbfbf\">           </span><span style=\"color: #000080; text-decoration-color: #000080\">INFO    </span> Successfully registered orb model                                               <a href=\"file://C:\\Users\\samue\\lematerial-forgebench\\src\\lematerial_forgebench\\models\\registry.py\" target=\"_blank\"><span style=\"color: #7f7f7f; text-decoration-color: #7f7f7f\">registry.py</span></a><span style=\"color: #7f7f7f; text-decoration-color: #7f7f7f\">:</span><a href=\"file://C:\\Users\\samue\\lematerial-forgebench\\src\\lematerial_forgebench\\models\\registry.py#156\" target=\"_blank\"><span style=\"color: #7f7f7f; text-decoration-color: #7f7f7f\">156</span></a>\n",
       "</pre>\n"
      ],
      "text/plain": [
       "\u001b[2;36m          \u001b[0m\u001b[2;36m \u001b[0m\u001b[34mINFO    \u001b[0m Successfully registered orb model                                               \u001b]8;id=814713;file://C:\\Users\\samue\\lematerial-forgebench\\src\\lematerial_forgebench\\models\\registry.py\u001b\\\u001b[2mregistry.py\u001b[0m\u001b]8;;\u001b\\\u001b[2m:\u001b[0m\u001b]8;id=597823;file://C:\\Users\\samue\\lematerial-forgebench\\src\\lematerial_forgebench\\models\\registry.py#156\u001b\\\u001b[2m156\u001b[0m\u001b]8;;\u001b\\\n"
      ]
     },
     "metadata": {},
     "output_type": "display_data"
    },
    {
     "data": {
      "text/html": [
       "<pre style=\"white-space:pre;overflow-x:auto;line-height:normal;font-family:Menlo,'DejaVu Sans Mono',consolas,'Courier New',monospace\"><span style=\"color: #7fbfbf; text-decoration-color: #7fbfbf\">           </span><span style=\"color: #000080; text-decoration-color: #000080\">INFO    </span> Successfully registered uma model                                               <a href=\"file://C:\\Users\\samue\\lematerial-forgebench\\src\\lematerial_forgebench\\models\\registry.py\" target=\"_blank\"><span style=\"color: #7f7f7f; text-decoration-color: #7f7f7f\">registry.py</span></a><span style=\"color: #7f7f7f; text-decoration-color: #7f7f7f\">:</span><a href=\"file://C:\\Users\\samue\\lematerial-forgebench\\src\\lematerial_forgebench\\models\\registry.py#156\" target=\"_blank\"><span style=\"color: #7f7f7f; text-decoration-color: #7f7f7f\">156</span></a>\n",
       "</pre>\n"
      ],
      "text/plain": [
       "\u001b[2;36m          \u001b[0m\u001b[2;36m \u001b[0m\u001b[34mINFO    \u001b[0m Successfully registered uma model                                               \u001b]8;id=516838;file://C:\\Users\\samue\\lematerial-forgebench\\src\\lematerial_forgebench\\models\\registry.py\u001b\\\u001b[2mregistry.py\u001b[0m\u001b]8;;\u001b\\\u001b[2m:\u001b[0m\u001b]8;id=247097;file://C:\\Users\\samue\\lematerial-forgebench\\src\\lematerial_forgebench\\models\\registry.py#156\u001b\\\u001b[2m156\u001b[0m\u001b]8;;\u001b\\\n"
      ]
     },
     "metadata": {},
     "output_type": "display_data"
    }
   ],
   "source": [
    "import pickle\n",
    "\n",
    "import matplotlib.pyplot as plt\n",
    "import numpy as np\n",
    "import pandas as pd\n",
    "from datasets import load_dataset\n",
    "from pymatgen.core import Structure\n",
    "from pymatgen.util.testing import PymatgenTest\n",
    "from scipy.spatial.distance import jensenshannon\n",
    "\n",
    "from lematerial_forgebench.benchmarks.distribution_benchmark import (\n",
    "    DistributionBenchmark,\n",
    ")\n",
    "from lematerial_forgebench.preprocess.base import PreprocessorResult\n",
    "from lematerial_forgebench.metrics.distribution_metrics import (\n",
    "    MMD,\n",
    "    FrechetDistance,\n",
    "    JSDistance,\n",
    ")\n",
    "from lematerial_forgebench.preprocess.distribution_preprocess import (\n",
    "    DistributionPreprocessor,\n",
    ")\n",
    "from lematerial_forgebench.utils.distribution_utils import (\n",
    "    map_space_group_to_crystal_system,\n",
    ")\n",
    "\n",
    "from lematerial_forgebench.preprocess.universal_stability_preprocess import (\n",
    "    UniversalStabilityPreprocessor\n",
    ")\n",
    "\n",
    "%load_ext autoreload\n",
    "%autoreload 2"
   ]
  },
  {
   "cell_type": "code",
   "execution_count": 2,
   "id": "c013bc3e-2e91-44ef-ba42-e89c170d96bc",
   "metadata": {},
   "outputs": [
    {
     "name": "stderr",
     "output_type": "stream",
     "text": [
      "C:\\Users\\samue\\AppData\\Local\\Temp\\ipykernel_46736\\905669326.py:1: FutureWarning: PymatgenTest is deprecated, and will be removed on 2026-01-01\n",
      "Use MatSciTest in pymatgen.util.testing instead.\n",
      "  test = PymatgenTest()\n"
     ]
    }
   ],
   "source": [
    "test = PymatgenTest()\n",
    "\n",
    "filename = \"CsBr.cif\"\n",
    "structure = Structure.from_file(filename)\n",
    "structure = structure.remove_oxidation_states()\n",
    "\n",
    "filename2 = \"CsPbBr3.cif\"\n",
    "structure2 = Structure.from_file(filename2)\n",
    "structure2 = structure2.remove_oxidation_states()\n",
    "\n",
    "structures = [\n",
    "    # structure,\n",
    "    # structure2,\n",
    "    test.get_structure(\"Si\"),\n",
    "    test.get_structure(\"LiFePO4\"),\n",
    "]"
   ]
  },
  {
   "cell_type": "code",
   "execution_count": 8,
   "id": "3c9fda85-ba2e-493f-a25a-245b6a509a3e",
   "metadata": {},
   "outputs": [],
   "source": [
    "with open(\"../data/full_reference_df.pkl\", \"rb\") as f:\n",
    "    reference_df = pickle.load(f)"
   ]
  },
  {
   "cell_type": "code",
   "execution_count": 3,
   "id": "ac803dcc-bef0-482b-bb3c-1e8c25f1b2c0",
   "metadata": {},
   "outputs": [
    {
     "name": "stderr",
     "output_type": "stream",
     "text": [
      "C:\\Users\\samue\\lematerial-forgebench\\.venv\\Lib\\site-packages\\orb_models\\utils.py:30: UserWarning: Setting global torch default dtype to torch.float32.\n",
      "  warnings.warn(f\"Setting global torch default dtype to {torch_dtype}.\")\n"
     ]
    },
    {
     "data": {
      "text/html": [
       "<pre style=\"white-space:pre;overflow-x:auto;line-height:normal;font-family:Menlo,'DejaVu Sans Mono',consolas,'Courier New',monospace\"><span style=\"color: #7fbfbf; text-decoration-color: #7fbfbf\">[01:09:18] </span><span style=\"color: #000080; text-decoration-color: #000080\">INFO    </span> Successfully loaded ORB model: orb_v3_conservative_inf_omat                    <a href=\"file://C:\\Users\\samue\\lematerial-forgebench\\src\\lematerial_forgebench\\models\\orb\\calculator.py\" target=\"_blank\"><span style=\"color: #7f7f7f; text-decoration-color: #7f7f7f\">calculator.py</span></a><span style=\"color: #7f7f7f; text-decoration-color: #7f7f7f\">:</span><a href=\"file://C:\\Users\\samue\\lematerial-forgebench\\src\\lematerial_forgebench\\models\\orb\\calculator.py#59\" target=\"_blank\"><span style=\"color: #7f7f7f; text-decoration-color: #7f7f7f\">59</span></a>\n",
       "</pre>\n"
      ],
      "text/plain": [
       "\u001b[2;36m[01:09:18]\u001b[0m\u001b[2;36m \u001b[0m\u001b[34mINFO    \u001b[0m Successfully loaded ORB model: orb_v3_conservative_inf_omat                    \u001b]8;id=856514;file://C:\\Users\\samue\\lematerial-forgebench\\src\\lematerial_forgebench\\models\\orb\\calculator.py\u001b\\\u001b[2mcalculator.py\u001b[0m\u001b]8;;\u001b\\\u001b[2m:\u001b[0m\u001b]8;id=390036;file://C:\\Users\\samue\\lematerial-forgebench\\src\\lematerial_forgebench\\models\\orb\\calculator.py#59\u001b\\\u001b[2m59\u001b[0m\u001b]8;;\u001b\\\n"
      ]
     },
     "metadata": {},
     "output_type": "display_data"
    },
    {
     "name": "stderr",
     "output_type": "stream",
     "text": [
      "100%|████████████████████████████████████████████████████████████████████████████████████| 2/2 [00:08<00:00,  4.32s/it]\n"
     ]
    }
   ],
   "source": [
    "stability_preprocessor = UniversalStabilityPreprocessor(model_name=\"orb\", timeout = 100000, relax_structures = False)\n",
    "stability_preprocessor_result = stability_preprocessor(structures)"
   ]
  },
  {
   "cell_type": "code",
   "execution_count": 4,
   "id": "f7c3c414-bb9a-412a-9a65-c6d9b5a05ba0",
   "metadata": {},
   "outputs": [],
   "source": [
    "# stability_preprocessor_result.processed_structures[1].properties"
   ]
  },
  {
   "cell_type": "code",
   "execution_count": 5,
   "id": "156a7ef5-e054-45f5-a407-619d8350264c",
   "metadata": {},
   "outputs": [
    {
     "name": "stderr",
     "output_type": "stream",
     "text": [
      "100%|███████████████████████████████████████████████████████████████████████████████████| 2/2 [00:00<00:00, 304.51it/s]\n"
     ]
    }
   ],
   "source": [
    "distribution_preprocessor = DistributionPreprocessor()\n",
    "dist_preprocessor_result = distribution_preprocessor(structures)"
   ]
  },
  {
   "cell_type": "code",
   "execution_count": 13,
   "id": "9472fc6e-0126-4b33-a6c0-4493eb5f3e18",
   "metadata": {
    "scrolled": true
   },
   "outputs": [
    {
     "name": "stdout",
     "output_type": "stream",
     "text": [
      "{'SpaceGroup': np.float64(0.7564856529396667), 'CrystalSystem': np.float64(0.522976610018087), 'CompositionCounts': np.float64(0.7074950131631114), 'Composition': np.float64(0.7371862430633939), 'Average_Jensen_Shannon_Distance': np.float64(0.6810358797960647)}\n"
     ]
    }
   ],
   "source": [
    "metric = JSDistance(reference_df=reference_df) \n",
    "default_args = metric._get_compute_attributes()\n",
    "metric_result = metric(dist_preprocessor_result.processed_structures, **default_args)\n",
    "print(metric_result.metrics)"
   ]
  },
  {
   "cell_type": "code",
   "execution_count": 14,
   "id": "8027780b-9b83-4a9e-815c-abf8ff2f9bd9",
   "metadata": {},
   "outputs": [
    {
     "name": "stdout",
     "output_type": "stream",
     "text": [
      "{'Volume': np.float64(0.49782917763830126), 'Density(g/cm^3)': np.float64(0.29838180697602024), 'Density(atoms/A^3)': np.float64(4.8503570894364856e-05), 'Average_MMD': np.float64(0.26541982939507197)}\n"
     ]
    }
   ],
   "source": [
    "metric = MMD(reference_df=reference_df) \n",
    "default_args = metric._get_compute_attributes()\n",
    "metric_result = metric(dist_preprocessor_result.processed_structures, **default_args)\n",
    "print(metric_result.metrics)"
   ]
  },
  {
   "cell_type": "code",
   "execution_count": 15,
   "id": "92feb85f-1a47-4f67-b29b-59af42665fbb",
   "metadata": {},
   "outputs": [
    {
     "name": "stdout",
     "output_type": "stream",
     "text": [
      "{'FrechetDistance': 38.64963877642341}\n"
     ]
    }
   ],
   "source": [
    "metric = FrechetDistance(reference_df=reference_df) \n",
    "\n",
    "sample_embeddings = list(stability_preprocessor_result.processed_structures)\n",
    "\n",
    "default_args = metric._get_compute_attributes()\n",
    "metric_result = metric(sample_embeddings, **default_args)\n",
    "\n",
    "print(metric_result.metrics)"
   ]
  },
  {
   "cell_type": "code",
   "execution_count": 16,
   "id": "66d554c5-3c36-4fce-9973-658e16e83433",
   "metadata": {},
   "outputs": [
    {
     "data": {
      "text/html": [
       "<pre style=\"white-space:pre;overflow-x:auto;line-height:normal;font-family:Menlo,'DejaVu Sans Mono',consolas,'Courier New',monospace\"><span style=\"color: #7fbfbf; text-decoration-color: #7fbfbf\">[01:16:34] </span><span style=\"color: #808000; text-decoration-color: #808000\">WARNING </span> Number of input structures is less than processed + failed. This might indicate an   <a href=\"file://C:\\Users\\samue\\lematerial-forgebench\\src\\lematerial_forgebench\\preprocess\\base.py\" target=\"_blank\"><span style=\"color: #7f7f7f; text-decoration-color: #7f7f7f\">base.py</span></a><span style=\"color: #7f7f7f; text-decoration-color: #7f7f7f\">:</span><a href=\"file://C:\\Users\\samue\\lematerial-forgebench\\src\\lematerial_forgebench\\preprocess\\base.py#87\" target=\"_blank\"><span style=\"color: #7f7f7f; text-decoration-color: #7f7f7f\">87</span></a>\n",
       "<span style=\"color: #7fbfbf; text-decoration-color: #7fbfbf\">           </span>         issue.                                                                               <span style=\"color: #7f7f7f; text-decoration-color: #7f7f7f\">          </span>\n",
       "</pre>\n"
      ],
      "text/plain": [
       "\u001b[2;36m[01:16:34]\u001b[0m\u001b[2;36m \u001b[0m\u001b[33mWARNING \u001b[0m Number of input structures is less than processed + failed. This might indicate an   \u001b]8;id=567903;file://C:\\Users\\samue\\lematerial-forgebench\\src\\lematerial_forgebench\\preprocess\\base.py\u001b\\\u001b[2mbase.py\u001b[0m\u001b]8;;\u001b\\\u001b[2m:\u001b[0m\u001b]8;id=895651;file://C:\\Users\\samue\\lematerial-forgebench\\src\\lematerial_forgebench\\preprocess\\base.py#87\u001b\\\u001b[2m87\u001b[0m\u001b]8;;\u001b\\\n",
       "\u001b[2;36m           \u001b[0m         issue.                                                                               \u001b[2m          \u001b[0m\n"
      ]
     },
     "metadata": {},
     "output_type": "display_data"
    }
   ],
   "source": [
    "final_processed_structures = []\n",
    "\n",
    "for ind in range(0, len(dist_preprocessor_result.processed_structures)): \n",
    "    combined_structure = dist_preprocessor_result.processed_structures[ind]\n",
    "    for entry in stability_preprocessor_result.processed_structures[ind].properties.keys():\n",
    "        combined_structure.properties[entry] = stability_preprocessor_result.processed_structures[ind].properties[entry]\n",
    "    final_processed_structures.append(combined_structure)\n",
    "\n",
    "preprocessor_result = PreprocessorResult(processed_structures=final_processed_structures,\n",
    "    config={\n",
    "        \"stability_preprocessor_config\":stability_preprocessor_result.config,\n",
    "        \"distribution_preprocessor_config\": dist_preprocessor_result.config,\n",
    "    },\n",
    "    computation_time={\n",
    "        \"stability_preprocessor_computation_time\": stability_preprocessor_result.computation_time,\n",
    "        \"distribution_preprocessor_computation_time\": dist_preprocessor_result.computation_time,\n",
    "    },\n",
    "    n_input_structures=stability_preprocessor_result.n_input_structures,\n",
    "    failed_indices={\n",
    "        \"stability_preprocessor_failed_indices\": stability_preprocessor_result.failed_indices,\n",
    "        \"distribution_preprocessor_failed_indices\": dist_preprocessor_result.failed_indices,\n",
    "    },\n",
    "    warnings={\n",
    "        \"stability_preprocessor_warnings\": stability_preprocessor_result.warnings,\n",
    "        \"distribution_preprocessor_warnings\": dist_preprocessor_result.warnings,\n",
    "    },\n",
    ")"
   ]
  },
  {
   "cell_type": "code",
   "execution_count": 18,
   "id": "c5be4676-99fe-4ee6-b9de-3a255b9127f5",
   "metadata": {},
   "outputs": [],
   "source": [
    "benchmark = DistributionBenchmark(reference_df=reference_df)\n",
    "benchmark_result = benchmark.evaluate(preprocessor_result.processed_structures)"
   ]
  },
  {
   "cell_type": "code",
   "execution_count": 19,
   "id": "98662a86-84e1-4a5b-9839-50e1c759d65b",
   "metadata": {},
   "outputs": [
    {
     "name": "stdout",
     "output_type": "stream",
     "text": [
      "JSDistance\n",
      "{'SpaceGroup': np.float64(0.7564856529396667), 'CrystalSystem': np.float64(0.522976610018087), 'CompositionCounts': np.float64(0.7074950131631114), 'Composition': np.float64(0.7371862430633939), 'Average_Jensen_Shannon_Distance': np.float64(0.6810358797960647)}\n",
      "Average JSDistance: 0.6810358797960647\n",
      "MMD\n",
      "{'Volume': np.float64(0.49782917763830126), 'Density(g/cm^3)': np.float64(0.29838180697602024), 'Density(atoms/A^3)': np.float64(4.8503570894364856e-05), 'Average_MMD': np.float64(0.26541982939507197)}\n",
      "Average MMD: 0.26541982939507197\n",
      "FrechetDistance\n",
      "{'FrechetDistance': 38.64963877642341}\n",
      "Average Frechet Distance: 38.64963877642341\n"
     ]
    }
   ],
   "source": [
    "print(\"JSDistance\")\n",
    "print(benchmark_result.evaluator_results[\"JSDistance\"][\"metric_results\"][\"JSDistance\"].metrics)\n",
    "print(\"Average JSDistance: \" + str(benchmark_result.evaluator_results[\"JSDistance\"][\"JSDistance_value\"]))\n",
    "print(\"MMD\")\n",
    "print(benchmark_result.evaluator_results[\"MMD\"][\"metric_results\"][\"MMD\"].metrics)\n",
    "print(\"Average MMD: \" + str(benchmark_result.evaluator_results[\"MMD\"][\"MMD_value\"]))\n",
    "print(\"FrechetDistance\")\n",
    "print(benchmark_result.evaluator_results[\"FrechetDistance\"][\"metric_results\"][\"FrechetDistance\"].metrics)\n",
    "print(\"Average Frechet Distance: \" + str(benchmark_result.evaluator_results[\"FrechetDistance\"][\"FrechetDistance_value\"]))\n"
   ]
  },
  {
   "cell_type": "code",
   "execution_count": null,
   "id": "94f5b94d-3601-4c73-b4a0-6004afb626bd",
   "metadata": {},
   "outputs": [],
   "source": []
  }
 ],
 "metadata": {
  "kernelspec": {
   "display_name": "Python 3 (ipykernel)",
   "language": "python",
   "name": "python3"
  },
  "language_info": {
   "codemirror_mode": {
    "name": "ipython",
    "version": 3
   },
   "file_extension": ".py",
   "mimetype": "text/x-python",
   "name": "python",
   "nbconvert_exporter": "python",
   "pygments_lexer": "ipython3",
   "version": "3.11.11"
  }
 },
 "nbformat": 4,
 "nbformat_minor": 5
}
