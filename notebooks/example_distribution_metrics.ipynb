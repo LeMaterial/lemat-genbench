{
 "cells": [
  {
   "cell_type": "code",
   "execution_count": 1,
   "id": "8b9a431a-ddf9-4b97-874f-571dd1bc4bfb",
   "metadata": {},
   "outputs": [],
   "source": [
    "from pymatgen.core import Structure\n",
    "from datasets import load_dataset\n",
    "import pandas as pd\n",
    "from scipy.spatial.distance import jensenshannon\n",
    "import matplotlib.pyplot as plt\n",
    "import numpy as np\n",
    "from lematerial_forgebench.preprocess.distribution_preprocess import DistributionPreprocessor\n",
    "from lematerial_forgebench.metrics.distribution_metrics import JSDistance, MMD, FrechetDistance\n",
    "from pymatgen.util.testing import PymatgenTest\n",
    "\n",
    "%load_ext autoreload\n",
    "%autoreload 2"
   ]
  },
  {
   "cell_type": "code",
   "execution_count": 2,
   "id": "ce958b82-b0a5-4ad5-bd61-e3292f5e2ae3",
   "metadata": {},
   "outputs": [],
   "source": [
    "reference_df_1 = pd.read_csv(\"lematbulk_scaled.csv\")"
   ]
  },
  {
   "cell_type": "code",
   "execution_count": 60,
   "id": "406aabbc-0d58-4f48-85a9-95706787f31f",
   "metadata": {},
   "outputs": [],
   "source": [
    "# reference_df_2 = pd.read_csv(\"lematbulk_composition.csv\")"
   ]
  },
  {
   "cell_type": "code",
   "execution_count": 39,
   "id": "aa072057-5703-42a8-94fd-c41ade8c3db7",
   "metadata": {},
   "outputs": [],
   "source": [
    "# reference_df_final = pd.concat([reference_df_1, reference_df_2])"
   ]
  },
  {
   "cell_type": "code",
   "execution_count": 3,
   "id": "9d5835d3-390c-4756-9385-8e751946d4af",
   "metadata": {},
   "outputs": [],
   "source": [
    "reference_df_density = pd.read_csv(\"lematbulk_density.csv\")"
   ]
  },
  {
   "cell_type": "code",
   "execution_count": 4,
   "id": "567d404a-6be3-46ff-99f0-c3eba3faf9a0",
   "metadata": {},
   "outputs": [],
   "source": [
    "reference_df_density.rename(columns = {\"density\":\"Density(atoms/A^3)\"}, inplace = True)"
   ]
  },
  {
   "cell_type": "code",
   "execution_count": 4,
   "id": "d0d6ae4f-94e6-4b86-9128-130a8fdbc8fa",
   "metadata": {},
   "outputs": [],
   "source": [
    "def generate_probabilities(df, show_hist = True):\n",
    "    # create an empty list of space groups/crystal systems/compositions and fill in proportions/counts\n",
    "    # depending on the application (as some samples will have zero of space group 1 etc) \n",
    "    \n",
    "    probs = np.asarray(df.value_counts(\"SpaceGroup\")/len(df))\n",
    "    indicies = np.asarray(df.value_counts(\"SpaceGroup\").index)\n",
    "    strut_list = np.concatenate(([indicies], [probs]), axis = 0).T\n",
    "    strut_list = strut_list[strut_list[:, 0].argsort()]\n",
    "    # strut_list = np.flip(strut_list)\n",
    "    if show_hist:     \n",
    "        plt.bar(strut_list.T[0], strut_list.T[1])\n",
    "        plt.show()\n",
    "\n",
    "    return strut_list # 2d array with col1 = crystal descriptor and col2 = probability"
   ]
  },
  {
   "cell_type": "code",
   "execution_count": 3,
   "id": "a57b93eb-6e69-43fc-9a4d-a9670e2da8fe",
   "metadata": {},
   "outputs": [
    {
     "data": {
      "application/vnd.jupyter.widget-view+json": {
       "model_id": "5ab410750d53462c9e2957c674a3bde8",
       "version_major": 2,
       "version_minor": 0
      },
      "text/plain": [
       "Resolving data files:   0%|          | 0/17 [00:00<?, ?it/s]"
      ]
     },
     "metadata": {},
     "output_type": "display_data"
    },
    {
     "data": {
      "application/vnd.jupyter.widget-view+json": {
       "model_id": "a0219312fe624f2a9ca168bddfce6678",
       "version_major": 2,
       "version_minor": 0
      },
      "text/plain": [
       "Resolving data files:   0%|          | 0/17 [00:00<?, ?it/s]"
      ]
     },
     "metadata": {},
     "output_type": "display_data"
    },
    {
     "data": {
      "application/vnd.jupyter.widget-view+json": {
       "model_id": "24695df3ae4e436bb9dd775304f309cb",
       "version_major": 2,
       "version_minor": 0
      },
      "text/plain": [
       "Loading dataset shards:   0%|          | 0/17 [00:00<?, ?it/s]"
      ]
     },
     "metadata": {},
     "output_type": "display_data"
    }
   ],
   "source": [
    "dataset_name = \"Lematerial/LeMat-Bulk\"\n",
    "name = \"compatible_pbe\"\n",
    "split = \"train\"\n",
    "dataset = load_dataset(dataset_name, name=name, split=split, streaming=False)"
   ]
  },
  {
   "cell_type": "code",
   "execution_count": 12,
   "id": "c3d42f58-5d7c-4593-9a2b-c5bd34c2b5e1",
   "metadata": {},
   "outputs": [
    {
     "data": {
      "text/plain": [
       "Index(['elements', 'nsites', 'chemical_formula_anonymous',\n",
       "       'chemical_formula_reduced', 'chemical_formula_descriptive', 'nelements',\n",
       "       'dimension_types', 'nperiodic_dimensions', 'lattice_vectors',\n",
       "       'immutable_id', 'cartesian_site_positions', 'species',\n",
       "       'species_at_sites', 'last_modified', 'elements_ratios', 'stress_tensor',\n",
       "       'energy', 'magnetic_moments', 'forces', 'total_magnetization', 'dos_ef',\n",
       "       'functional', 'cross_compatibility', 'entalpic_fingerprint'],\n",
       "      dtype='object')"
      ]
     },
     "execution_count": 12,
     "metadata": {},
     "output_type": "execute_result"
    }
   ],
   "source": [
    "pd.DataFrame(dataset.select(range(0, 10))).columns"
   ]
  },
  {
   "cell_type": "code",
   "execution_count": 5,
   "id": "c013bc3e-2e91-44ef-ba42-e89c170d96bc",
   "metadata": {},
   "outputs": [
    {
     "name": "stderr",
     "output_type": "stream",
     "text": [
      "C:\\Users\\samue\\AppData\\Local\\Temp\\ipykernel_5832\\2264363178.py:1: FutureWarning: PymatgenTest is deprecated, and will be removed on 2026-01-01\n",
      "Use MatSciTest in pymatgen.util.testing instead.\n",
      "  test = PymatgenTest()\n"
     ]
    }
   ],
   "source": [
    "test = PymatgenTest()\n",
    "\n",
    "filename = \"CsBr.cif\"\n",
    "structure = Structure.from_file(filename)\n",
    "structure = structure.remove_oxidation_states()\n",
    "\n",
    "filename2 = \"CsPbBr3.cif\"\n",
    "structure2 = Structure.from_file(filename2)\n",
    "structure2 = structure2.remove_oxidation_states()\n",
    "\n",
    "structures = [\n",
    "    structure,\n",
    "    structure2,\n",
    "    test.get_structure(\"Si\"),\n",
    "    test.get_structure(\"LiFePO4\"),\n",
    "]"
   ]
  },
  {
   "cell_type": "code",
   "execution_count": 6,
   "id": "156a7ef5-e054-45f5-a407-619d8350264c",
   "metadata": {},
   "outputs": [],
   "source": [
    "distribution_preprocessor = DistributionPreprocessor()\n",
    "preprocessor_result = distribution_preprocessor(structures)"
   ]
  },
  {
   "cell_type": "code",
   "execution_count": 7,
   "id": "c2e80f09-69f2-4256-bbb5-85116cc6db4b",
   "metadata": {},
   "outputs": [],
   "source": [
    "test_df = pd.DataFrame(preprocessor_result.processed_structures, columns = [\"SpaceGroup\", \"Volume\", \"Density(atoms/A^3)\", \"Composition\", \"CompositionCounts\"])"
   ]
  },
  {
   "cell_type": "code",
   "execution_count": 35,
   "id": "bb599d3b-ef25-4568-b663-fefac9876a11",
   "metadata": {},
   "outputs": [
    {
     "data": {
      "text/plain": [
       "numpy.ndarray"
      ]
     },
     "execution_count": 35,
     "metadata": {},
     "output_type": "execute_result"
    }
   ],
   "source": [
    "type(test_df.Composition.iloc[0])"
   ]
  },
  {
   "cell_type": "code",
   "execution_count": 8,
   "id": "c1e4d4f4-7534-4d07-b132-179d9c8c5cb7",
   "metadata": {},
   "outputs": [
    {
     "data": {
      "text/plain": [
       "{'Density(atoms/A^3)': np.float64(0.05325134883413285)}"
      ]
     },
     "execution_count": 8,
     "metadata": {},
     "output_type": "execute_result"
    }
   ],
   "source": [
    "MMD.compute_structure(test_df, reference_df_density)"
   ]
  },
  {
   "cell_type": "code",
   "execution_count": 13,
   "id": "d23e110f-c263-47d8-9731-98aac60cb4cc",
   "metadata": {},
   "outputs": [
    {
     "ename": "ValueError",
     "evalue": "Input curves do not have the same dimensions.",
     "output_type": "error",
     "traceback": [
      "\u001b[31m---------------------------------------------------------------------------\u001b[39m",
      "\u001b[31mValueError\u001b[39m                                Traceback (most recent call last)",
      "\u001b[36mCell\u001b[39m\u001b[36m \u001b[39m\u001b[32mIn[13]\u001b[39m\u001b[32m, line 1\u001b[39m\n\u001b[32m----> \u001b[39m\u001b[32m1\u001b[39m \u001b[43mFrechetDistance\u001b[49m\u001b[43m.\u001b[49m\u001b[43mcompute_structure\u001b[49m\u001b[43m(\u001b[49m\u001b[43mtest_df\u001b[49m\u001b[43m,\u001b[49m\u001b[43m \u001b[49m\u001b[43mreference_df_1\u001b[49m\u001b[43m)\u001b[49m\n",
      "\u001b[36mFile \u001b[39m\u001b[32m~\\lematerial-forgebench\\src\\lematerial_forgebench\\metrics\\distribution_metrics.py:366\u001b[39m, in \u001b[36mFrechetDistance.compute_structure\u001b[39m\u001b[34m(structure, reference_df)\u001b[39m\n\u001b[32m    364\u001b[39m \u001b[38;5;28;01mfor\u001b[39;00m quant \u001b[38;5;129;01min\u001b[39;00m quantities:\n\u001b[32m    365\u001b[39m     \u001b[38;5;28;01mif\u001b[39;00m quant \u001b[38;5;129;01min\u001b[39;00m reference_df.columns:\n\u001b[32m--> \u001b[39m\u001b[32m366\u001b[39m         mmd = \u001b[43mcompute_frechetdist\u001b[49m\u001b[43m(\u001b[49m\u001b[43mreference_df\u001b[49m\u001b[43m,\u001b[49m\u001b[43m \u001b[49m\u001b[43mstructure\u001b[49m\u001b[43m,\u001b[49m\u001b[43m \u001b[49m\u001b[43mquant\u001b[49m\u001b[43m)\u001b[49m\n\u001b[32m    367\u001b[39m         dist_metrics = {quant:mmd}\n\u001b[32m    369\u001b[39m \u001b[38;5;28;01mreturn\u001b[39;00m dist_metrics\n",
      "\u001b[36mFile \u001b[39m\u001b[32m~\\lematerial-forgebench\\src\\lematerial_forgebench\\utils\\distribution_utils.py:105\u001b[39m, in \u001b[36mcompute_frechetdist\u001b[39m\u001b[34m(reference_data, generated_crystals, crystal_param)\u001b[39m\n\u001b[32m    102\u001b[39m generated_crystals_dist = generate_probabilities(generated_crystals, metric=crystal_param, return_2d_array=\u001b[38;5;28;01mTrue\u001b[39;00m)\n\u001b[32m    103\u001b[39m reference_data_dist = generate_probabilities(reference_data, metric=crystal_param, return_2d_array=\u001b[38;5;28;01mTrue\u001b[39;00m)\n\u001b[32m--> \u001b[39m\u001b[32m105\u001b[39m distance = \u001b[43mfrdist\u001b[49m\u001b[43m(\u001b[49m\u001b[43mreference_data_dist\u001b[49m\u001b[43m,\u001b[49m\u001b[43m \u001b[49m\u001b[43mgenerated_crystals_dist\u001b[49m\u001b[43m)\u001b[49m\n\u001b[32m    106\u001b[39m \u001b[38;5;28;01mreturn\u001b[39;00m distance\n",
      "\u001b[36mFile \u001b[39m\u001b[32m~\\lematerial-forgebench\\.venv\\Lib\\site-packages\\frechetdist.py:103\u001b[39m, in \u001b[36mfrdist\u001b[39m\u001b[34m(p, q)\u001b[39m\n\u001b[32m    100\u001b[39m     \u001b[38;5;28;01mraise\u001b[39;00m \u001b[38;5;167;01mValueError\u001b[39;00m(\u001b[33m'\u001b[39m\u001b[33mInput curves are empty.\u001b[39m\u001b[33m'\u001b[39m)\n\u001b[32m    102\u001b[39m \u001b[38;5;28;01mif\u001b[39;00m len_p != len_q \u001b[38;5;129;01mor\u001b[39;00m \u001b[38;5;28mlen\u001b[39m(p[\u001b[32m0\u001b[39m]) != \u001b[38;5;28mlen\u001b[39m(q[\u001b[32m0\u001b[39m]):\n\u001b[32m--> \u001b[39m\u001b[32m103\u001b[39m     \u001b[38;5;28;01mraise\u001b[39;00m \u001b[38;5;167;01mValueError\u001b[39;00m(\u001b[33m'\u001b[39m\u001b[33mInput curves do not have the same dimensions.\u001b[39m\u001b[33m'\u001b[39m)\n\u001b[32m    105\u001b[39m ca = (np.ones((len_p, len_q), dtype=np.float64) * -\u001b[32m1\u001b[39m)\n\u001b[32m    107\u001b[39m dist = _c(ca, len_p-\u001b[32m1\u001b[39m, len_q-\u001b[32m1\u001b[39m, p, q)\n",
      "\u001b[31mValueError\u001b[39m: Input curves do not have the same dimensions."
     ]
    }
   ],
   "source": [
    "FrechetDistance.compute_structure(test_df, reference_df_1)"
   ]
  },
  {
   "cell_type": "code",
   "execution_count": 36,
   "id": "5ca61aa3-3a49-46c1-82b8-4aaee53ca31d",
   "metadata": {},
   "outputs": [
    {
     "data": {
      "text/html": [
       "<div>\n",
       "<style scoped>\n",
       "    .dataframe tbody tr th:only-of-type {\n",
       "        vertical-align: middle;\n",
       "    }\n",
       "\n",
       "    .dataframe tbody tr th {\n",
       "        vertical-align: top;\n",
       "    }\n",
       "\n",
       "    .dataframe thead th {\n",
       "        text-align: right;\n",
       "    }\n",
       "</style>\n",
       "<table border=\"1\" class=\"dataframe\">\n",
       "  <thead>\n",
       "    <tr style=\"text-align: right;\">\n",
       "      <th></th>\n",
       "      <th>SpaceGroup</th>\n",
       "      <th>Volume</th>\n",
       "      <th>Density(atoms/A^3)</th>\n",
       "      <th>Composition</th>\n",
       "      <th>CompositionCounts</th>\n",
       "    </tr>\n",
       "  </thead>\n",
       "  <tbody>\n",
       "    <tr>\n",
       "      <th>0</th>\n",
       "      <td>225</td>\n",
       "      <td>392.556028</td>\n",
       "      <td>0.020379</td>\n",
       "      <td>[0.0, 0.0, 0.0, 0.0, 0.0, 0.0, 0.0, 0.0, 0.0, ...</td>\n",
       "      <td>[0.0, 0.0, 0.0, 0.0, 0.0, 0.0, 0.0, 0.0, 0.0, ...</td>\n",
       "    </tr>\n",
       "    <tr>\n",
       "      <th>1</th>\n",
       "      <td>62</td>\n",
       "      <td>769.207176</td>\n",
       "      <td>0.026001</td>\n",
       "      <td>[0.0, 0.0, 0.0, 0.0, 0.0, 0.0, 0.0, 0.0, 0.0, ...</td>\n",
       "      <td>[0.0, 0.0, 0.0, 0.0, 0.0, 0.0, 0.0, 0.0, 0.0, ...</td>\n",
       "    </tr>\n",
       "    <tr>\n",
       "      <th>2</th>\n",
       "      <td>227</td>\n",
       "      <td>40.044795</td>\n",
       "      <td>0.049944</td>\n",
       "      <td>[0.0, 0.0, 0.0, 0.0, 0.0, 0.0, 0.0, 0.0, 0.0, ...</td>\n",
       "      <td>[0.0, 0.0, 0.0, 0.0, 0.0, 0.0, 0.0, 0.0, 0.0, ...</td>\n",
       "    </tr>\n",
       "    <tr>\n",
       "      <th>3</th>\n",
       "      <td>14</td>\n",
       "      <td>299.607968</td>\n",
       "      <td>0.093455</td>\n",
       "      <td>[0.0, 0.0, 4.0, 0.0, 0.0, 0.0, 0.0, 16.0, 0.0,...</td>\n",
       "      <td>[0.0, 0.0, 1.0, 0.0, 0.0, 0.0, 0.0, 1.0, 0.0, ...</td>\n",
       "    </tr>\n",
       "  </tbody>\n",
       "</table>\n",
       "</div>"
      ],
      "text/plain": [
       "   SpaceGroup      Volume  Density(atoms/A^3)  \\\n",
       "0         225  392.556028            0.020379   \n",
       "1          62  769.207176            0.026001   \n",
       "2         227   40.044795            0.049944   \n",
       "3          14  299.607968            0.093455   \n",
       "\n",
       "                                         Composition  \\\n",
       "0  [0.0, 0.0, 0.0, 0.0, 0.0, 0.0, 0.0, 0.0, 0.0, ...   \n",
       "1  [0.0, 0.0, 0.0, 0.0, 0.0, 0.0, 0.0, 0.0, 0.0, ...   \n",
       "2  [0.0, 0.0, 0.0, 0.0, 0.0, 0.0, 0.0, 0.0, 0.0, ...   \n",
       "3  [0.0, 0.0, 4.0, 0.0, 0.0, 0.0, 0.0, 16.0, 0.0,...   \n",
       "\n",
       "                                   CompositionCounts  \n",
       "0  [0.0, 0.0, 0.0, 0.0, 0.0, 0.0, 0.0, 0.0, 0.0, ...  \n",
       "1  [0.0, 0.0, 0.0, 0.0, 0.0, 0.0, 0.0, 0.0, 0.0, ...  \n",
       "2  [0.0, 0.0, 0.0, 0.0, 0.0, 0.0, 0.0, 0.0, 0.0, ...  \n",
       "3  [0.0, 0.0, 1.0, 0.0, 0.0, 0.0, 0.0, 1.0, 0.0, ...  "
      ]
     },
     "execution_count": 36,
     "metadata": {},
     "output_type": "execute_result"
    }
   ],
   "source": [
    "test_df"
   ]
  },
  {
   "cell_type": "code",
   "execution_count": null,
   "id": "c4e6ac0c-549a-4513-a8e2-8e43b4aaa75b",
   "metadata": {},
   "outputs": [],
   "source": []
  }
 ],
 "metadata": {
  "kernelspec": {
   "display_name": "Python 3 (ipykernel)",
   "language": "python",
   "name": "python3"
  },
  "language_info": {
   "codemirror_mode": {
    "name": "ipython",
    "version": 3
   },
   "file_extension": ".py",
   "mimetype": "text/x-python",
   "name": "python",
   "nbconvert_exporter": "python",
   "pygments_lexer": "ipython3",
   "version": "3.11.11"
  }
 },
 "nbformat": 4,
 "nbformat_minor": 5
}
