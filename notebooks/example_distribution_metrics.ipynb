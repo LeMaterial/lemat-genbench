{
    "cells": [
        {
            "cell_type": "code",
            "execution_count": 1,
            "id": "8b9a431a-ddf9-4b97-874f-571dd1bc4bfb",
            "metadata": {
                "scrolled": true
            },
            "outputs": [
                {
                    "data": {
                        "text/html": [
                            "<pre style=\"white-space:pre;overflow-x:auto;line-height:normal;font-family:Menlo,'DejaVu Sans Mono',consolas,'Courier New',monospace\"><span style=\"color: #7fbfbf; text-decoration-color: #7fbfbf\">[01:09:08] </span><span style=\"color: #808000; text-decoration-color: #808000\">WARNING </span> equiformer not available                                                        <a href=\"file://C:\\Users\\samue\\lematerial-forgebench\\src\\lemat_genbench\\models\\registry.py\" target=\"_blank\"><span style=\"color: #7f7f7f; text-decoration-color: #7f7f7f\">registry.py</span></a><span style=\"color: #7f7f7f; text-decoration-color: #7f7f7f\">:</span><a href=\"file://C:\\Users\\samue\\lematerial-forgebench\\src\\lemat_genbench\\models\\registry.py#141\" target=\"_blank\"><span style=\"color: #7f7f7f; text-decoration-color: #7f7f7f\">141</span></a>\n",
                            "</pre>\n"
                        ],
                        "text/plain": [
                            "\u001b[2;36m[01:09:08]\u001b[0m\u001b[2;36m \u001b[0m\u001b[33mWARNING \u001b[0m equiformer not available                                                        \u001b]8;id=165567;file://C:\\Users\\samue\\lematerial-forgebench\\src\\lemat_genbench\\models\\registry.py\u001b\\\u001b[2mregistry.py\u001b[0m\u001b]8;;\u001b\\\u001b[2m:\u001b[0m\u001b]8;id=617807;file://C:\\Users\\samue\\lematerial-forgebench\\src\\lemat_genbench\\models\\registry.py#141\u001b\\\u001b[2m141\u001b[0m\u001b]8;;\u001b\\\n"
                        ]
                    },
                    "metadata": {},
                    "output_type": "display_data"
                },
                {
                    "name": "stderr",
                    "output_type": "stream",
                    "text": [
                        "C:\\Users\\samue\\lematerial-forgebench\\.venv\\Lib\\site-packages\\e3nn\\o3\\_wigner.py:10: UserWarning: Environment variable TORCH_FORCE_NO_WEIGHTS_ONLY_LOAD detected, since the`weights_only` argument was not explicitly passed to `torch.load`, forcing weights_only=False.\n",
                        "  _Jd, _W3j_flat, _W3j_indices = torch.load(os.path.join(os.path.dirname(__file__), 'constants.pt'))\n"
                    ]
                },
                {
                    "name": "stdout",
                    "output_type": "stream",
                    "text": [
                        "cuequivariance or cuequivariance_torch is not available. Cuequivariance acceleration will be disabled.\n"
                    ]
                },
                {
                    "data": {
                        "text/html": [
                            "<pre style=\"white-space:pre;overflow-x:auto;line-height:normal;font-family:Menlo,'DejaVu Sans Mono',consolas,'Courier New',monospace\"><span style=\"color: #7fbfbf; text-decoration-color: #7fbfbf\">[01:09:11] </span><span style=\"color: #000080; text-decoration-color: #000080\">INFO    </span> Successfully registered mace model                                              <a href=\"file://C:\\Users\\samue\\lematerial-forgebench\\src\\lemat_genbench\\models\\registry.py\" target=\"_blank\"><span style=\"color: #7f7f7f; text-decoration-color: #7f7f7f\">registry.py</span></a><span style=\"color: #7f7f7f; text-decoration-color: #7f7f7f\">:</span><a href=\"file://C:\\Users\\samue\\lematerial-forgebench\\src\\lemat_genbench\\models\\registry.py#156\" target=\"_blank\"><span style=\"color: #7f7f7f; text-decoration-color: #7f7f7f\">156</span></a>\n",
                            "</pre>\n"
                        ],
                        "text/plain": [
                            "\u001b[2;36m[01:09:11]\u001b[0m\u001b[2;36m \u001b[0m\u001b[34mINFO    \u001b[0m Successfully registered mace model                                              \u001b]8;id=179966;file://C:\\Users\\samue\\lematerial-forgebench\\src\\lemat_genbench\\models\\registry.py\u001b\\\u001b[2mregistry.py\u001b[0m\u001b]8;;\u001b\\\u001b[2m:\u001b[0m\u001b]8;id=787360;file://C:\\Users\\samue\\lematerial-forgebench\\src\\lemat_genbench\\models\\registry.py#156\u001b\\\u001b[2m156\u001b[0m\u001b]8;;\u001b\\\n"
                        ]
                    },
                    "metadata": {},
                    "output_type": "display_data"
                },
                {
                    "data": {
                        "text/html": [
                            "<pre style=\"white-space:pre;overflow-x:auto;line-height:normal;font-family:Menlo,'DejaVu Sans Mono',consolas,'Courier New',monospace\"><span style=\"color: #7fbfbf; text-decoration-color: #7fbfbf\">           </span><span style=\"color: #000080; text-decoration-color: #000080\">INFO    </span> Successfully registered orb model                                               <a href=\"file://C:\\Users\\samue\\lematerial-forgebench\\src\\lemat_genbench\\models\\registry.py\" target=\"_blank\"><span style=\"color: #7f7f7f; text-decoration-color: #7f7f7f\">registry.py</span></a><span style=\"color: #7f7f7f; text-decoration-color: #7f7f7f\">:</span><a href=\"file://C:\\Users\\samue\\lematerial-forgebench\\src\\lemat_genbench\\models\\registry.py#156\" target=\"_blank\"><span style=\"color: #7f7f7f; text-decoration-color: #7f7f7f\">156</span></a>\n",
                            "</pre>\n"
                        ],
                        "text/plain": [
                            "\u001b[2;36m          \u001b[0m\u001b[2;36m \u001b[0m\u001b[34mINFO    \u001b[0m Successfully registered orb model                                               \u001b]8;id=814713;file://C:\\Users\\samue\\lematerial-forgebench\\src\\lemat_genbench\\models\\registry.py\u001b\\\u001b[2mregistry.py\u001b[0m\u001b]8;;\u001b\\\u001b[2m:\u001b[0m\u001b]8;id=597823;file://C:\\Users\\samue\\lematerial-forgebench\\src\\lemat_genbench\\models\\registry.py#156\u001b\\\u001b[2m156\u001b[0m\u001b]8;;\u001b\\\n"
                        ]
                    },
                    "metadata": {},
                    "output_type": "display_data"
                },
                {
                    "data": {
                        "text/html": [
                            "<pre style=\"white-space:pre;overflow-x:auto;line-height:normal;font-family:Menlo,'DejaVu Sans Mono',consolas,'Courier New',monospace\"><span style=\"color: #7fbfbf; text-decoration-color: #7fbfbf\">           </span><span style=\"color: #000080; text-decoration-color: #000080\">INFO    </span> Successfully registered uma model                                               <a href=\"file://C:\\Users\\samue\\lematerial-forgebench\\src\\lemat_genbench\\models\\registry.py\" target=\"_blank\"><span style=\"color: #7f7f7f; text-decoration-color: #7f7f7f\">registry.py</span></a><span style=\"color: #7f7f7f; text-decoration-color: #7f7f7f\">:</span><a href=\"file://C:\\Users\\samue\\lematerial-forgebench\\src\\lemat_genbench\\models\\registry.py#156\" target=\"_blank\"><span style=\"color: #7f7f7f; text-decoration-color: #7f7f7f\">156</span></a>\n",
                            "</pre>\n"
                        ],
                        "text/plain": [
                            "\u001b[2;36m          \u001b[0m\u001b[2;36m \u001b[0m\u001b[34mINFO    \u001b[0m Successfully registered uma model                                               \u001b]8;id=516838;file://C:\\Users\\samue\\lematerial-forgebench\\src\\lemat_genbench\\models\\registry.py\u001b\\\u001b[2mregistry.py\u001b[0m\u001b]8;;\u001b\\\u001b[2m:\u001b[0m\u001b]8;id=247097;file://C:\\Users\\samue\\lematerial-forgebench\\src\\lemat_genbench\\models\\registry.py#156\u001b\\\u001b[2m156\u001b[0m\u001b]8;;\u001b\\\n"
                        ]
                    },
                    "metadata": {},
                    "output_type": "display_data"
                }
            ],
            "source": [
                "import pickle\n",
                "\n",
                "import matplotlib.pyplot as plt\n",
                "import numpy as np\n",
                "import pandas as pd\n",
                "from datasets import load_dataset\n",
                "from pymatgen.core import Structure\n",
                "from pymatgen.util.testing import PymatgenTest\n",
                "from scipy.spatial.distance import jensenshannon\n",
                "\n",
                "from lemat_genbench.benchmarks.distribution_benchmark import (\n",
                "    DistributionBenchmark,\n",
                ")\n",
                "from lemat_genbench.metrics.distribution_metrics import (\n",
                "    MMD,\n",
                "    FrechetDistance,\n",
                "    JSDistance,\n",
                ")\n",
                "from lemat_genbench.preprocess.base import PreprocessorResult\n",
                "from lemat_genbench.preprocess.distribution_preprocess import (\n",
                "    DistributionPreprocessor,\n",
                ")\n",
                "from lemat_genbench.preprocess.universal_stability_preprocess import (\n",
                "    UniversalStabilityPreprocessor,\n",
                ")\n",
                "from lemat_genbench.utils.distribution_utils import (\n",
                "    map_space_group_to_crystal_system,\n",
                ")\n",
                "\n",
                "%load_ext autoreload\n",
                "%autoreload 2"
            ]
        },
        {
            "cell_type": "code",
            "execution_count": 2,
            "id": "c013bc3e-2e91-44ef-ba42-e89c170d96bc",
            "metadata": {},
            "outputs": [
                {
                    "name": "stderr",
                    "output_type": "stream",
                    "text": [
                        "C:\\Users\\samue\\AppData\\Local\\Temp\\ipykernel_46736\\905669326.py:1: FutureWarning: PymatgenTest is deprecated, and will be removed on 2026-01-01\n",
                        "Use MatSciTest in pymatgen.util.testing instead.\n",
                        "  test = PymatgenTest()\n"
                    ]
                }
            ],
            "source": [
                "test = PymatgenTest()\n",
                "\n",
                "filename = \"CsBr.cif\"\n",
                "structure = Structure.from_file(filename)\n",
                "structure = structure.remove_oxidation_states()\n",
                "\n",
                "filename2 = \"CsPbBr3.cif\"\n",
                "structure2 = Structure.from_file(filename2)\n",
                "structure2 = structure2.remove_oxidation_states()\n",
                "\n",
                "structures = [\n",
                "    # structure,\n",
                "    # structure2,\n",
                "    test.get_structure(\"Si\"),\n",
                "    test.get_structure(\"LiFePO4\"),\n",
                "]"
            ]
        },
        {
            "cell_type": "code",
            "execution_count": 29,
            "id": "32c88277-4c7e-4203-9e4e-86b49f56210c",
            "metadata": {},
            "outputs": [],
            "source": [
                "with open(\"../data/sample_lematbulk.pkl\", \"rb\") as f:\n",
                "    test_df = pickle.load(f)"
            ]
        },
        {
            "cell_type": "code",
            "execution_count": 27,
            "id": "3c9fda85-ba2e-493f-a25a-245b6a509a3e",
            "metadata": {},
            "outputs": [],
            "source": [
                "with open(\"../data/full_reference_df.pkl\", \"rb\") as f:\n",
                "    reference_df = pickle.load(f)"
            ]
        },
        {
            "cell_type": "code",
            "execution_count": 28,
            "id": "e2d92225-6659-4523-aea0-19bd1c9ee13d",
            "metadata": {},
            "outputs": [
                {
                    "data": {
                        "text/html": [
                            "<div>\n",
                            "<style scoped>\n",
                            "    .dataframe tbody tr th:only-of-type {\n",
                            "        vertical-align: middle;\n",
                            "    }\n",
                            "\n",
                            "    .dataframe tbody tr th {\n",
                            "        vertical-align: top;\n",
                            "    }\n",
                            "\n",
                            "    .dataframe thead th {\n",
                            "        text-align: right;\n",
                            "    }\n",
                            "</style>\n",
                            "<table border=\"1\" class=\"dataframe\">\n",
                            "  <thead>\n",
                            "    <tr style=\"text-align: right;\">\n",
                            "      <th></th>\n",
                            "      <th>LeMatID</th>\n",
                            "      <th>Volume</th>\n",
                            "      <th>Density(g/cm^3)</th>\n",
                            "      <th>Density(atoms/A^3)</th>\n",
                            "      <th>SpaceGroup</th>\n",
                            "      <th>CrystalSystem</th>\n",
                            "      <th>OrbGraphEmbeddings</th>\n",
                            "      <th>OrbNodeEmbeddings</th>\n",
                            "      <th>OrbEnergy</th>\n",
                            "      <th>OrbForces</th>\n",
                            "      <th>OrbFormationEnergy</th>\n",
                            "      <th>OrbEAboveHull</th>\n",
                            "      <th>MaceGraphEmbeddings</th>\n",
                            "      <th>MaceNodeEmbeddings</th>\n",
                            "      <th>MaceEnergy</th>\n",
                            "      <th>MaceForces</th>\n",
                            "      <th>MaceFormationEnergy</th>\n",
                            "      <th>MaceEAboveHull</th>\n",
                            "    </tr>\n",
                            "  </thead>\n",
                            "  <tbody>\n",
                            "    <tr>\n",
                            "      <th>0</th>\n",
                            "      <td>mp-1196446</td>\n",
                            "      <td>1432.672306</td>\n",
                            "      <td>1.71</td>\n",
                            "      <td>0.09</td>\n",
                            "      <td>13</td>\n",
                            "      <td>2</td>\n",
                            "      <td>[0.109472044, 0.2572507, 0.02018192, 0.3772189...</td>\n",
                            "      <td>[[-1.0641912, 0.3299405, -0.04178173, 1.067353...</td>\n",
                            "      <td>-610.357239</td>\n",
                            "      <td>[[0.0012629332, -0.00081717595, 0.0012267774],...</td>\n",
                            "      <td>-25.347359</td>\n",
                            "      <td>0.003112</td>\n",
                            "      <td>[-0.1861449, -0.020684373, 0.066283025, 0.0940...</td>\n",
                            "      <td>[[-0.11461396, -0.015990674, 0.107097805, 0.09...</td>\n",
                            "      <td>-609.734131</td>\n",
                            "      <td>[[-1.6835966e-06, -1.3360595e-06, -1.5439e-06]...</td>\n",
                            "      <td>-25.222737</td>\n",
                            "      <td>0.007980</td>\n",
                            "    </tr>\n",
                            "    <tr>\n",
                            "      <th>1</th>\n",
                            "      <td>mp-774651</td>\n",
                            "      <td>489.504032</td>\n",
                            "      <td>3.11</td>\n",
                            "      <td>0.08</td>\n",
                            "      <td>33</td>\n",
                            "      <td>3</td>\n",
                            "      <td>[0.11850287, 0.14595717, 0.02197475, 0.2681615...</td>\n",
                            "      <td>[[-0.32058975, 0.19373147, -0.012800036, 0.899...</td>\n",
                            "      <td>-213.581329</td>\n",
                            "      <td>[[0.035016894, -0.0034213867, 0.0062979627], [...</td>\n",
                            "      <td>-11.177186</td>\n",
                            "      <td>0.036492</td>\n",
                            "      <td>[-0.09791283, -0.04369984, 0.010444844, 0.0802...</td>\n",
                            "      <td>[[-0.16484381, -0.028772023, 0.07445615, 0.157...</td>\n",
                            "      <td>-214.043533</td>\n",
                            "      <td>[[0.0357335, -0.017460236, -0.012615044], [-0....</td>\n",
                            "      <td>-11.269627</td>\n",
                            "      <td>0.024937</td>\n",
                            "    </tr>\n",
                            "    <tr>\n",
                            "      <th>2</th>\n",
                            "      <td>agm005415715</td>\n",
                            "      <td>181.286910</td>\n",
                            "      <td>5.26</td>\n",
                            "      <td>0.03</td>\n",
                            "      <td>229</td>\n",
                            "      <td>7</td>\n",
                            "      <td>[0.26939476, 0.20468056, -0.12542768, 0.032836...</td>\n",
                            "      <td>[[-0.07381898, 0.79753023, -0.38630268, 0.8288...</td>\n",
                            "      <td>-17.411106</td>\n",
                            "      <td>[[0.00012565777, -0.0016299748, -0.00230372], ...</td>\n",
                            "      <td>0.390865</td>\n",
                            "      <td>0.557381</td>\n",
                            "      <td>[0.021588078, 0.07617653, -0.032691456, 0.1895...</td>\n",
                            "      <td>[[0.04680038, 0.044881374, -0.06807892, -0.018...</td>\n",
                            "      <td>-17.212358</td>\n",
                            "      <td>[[-1.2940145e-06, -1.1700031e-06, 4.344911e-06...</td>\n",
                            "      <td>0.490239</td>\n",
                            "      <td>0.597131</td>\n",
                            "    </tr>\n",
                            "    <tr>\n",
                            "      <th>3</th>\n",
                            "      <td>mp-735578</td>\n",
                            "      <td>693.095559</td>\n",
                            "      <td>3.73</td>\n",
                            "      <td>0.08</td>\n",
                            "      <td>15</td>\n",
                            "      <td>2</td>\n",
                            "      <td>[0.11508359, 0.10241604, 0.010340529, 0.121209...</td>\n",
                            "      <td>[[-0.27764162, 0.34364513, -0.08888271, 1.4730...</td>\n",
                            "      <td>-341.050354</td>\n",
                            "      <td>[[-0.11718704, -0.05151949, -0.02423022], [0.1...</td>\n",
                            "      <td>-14.577774</td>\n",
                            "      <td>0.254481</td>\n",
                            "      <td>[-0.07588258, -0.04773107, 0.047378432, 0.0385...</td>\n",
                            "      <td>[[-0.1785602, -0.11307899, 0.1966575, 0.052531...</td>\n",
                            "      <td>-339.172089</td>\n",
                            "      <td>[[-0.13032529, -0.083571285, 0.02394116], [0.1...</td>\n",
                            "      <td>-14.202121</td>\n",
                            "      <td>0.288021</td>\n",
                            "    </tr>\n",
                            "    <tr>\n",
                            "      <th>4</th>\n",
                            "      <td>mp-1221862</td>\n",
                            "      <td>1088.022952</td>\n",
                            "      <td>1.77</td>\n",
                            "      <td>0.11</td>\n",
                            "      <td>7</td>\n",
                            "      <td>2</td>\n",
                            "      <td>[0.19177356, 0.18612428, 0.0010497392, 0.30191...</td>\n",
                            "      <td>[[-1.0027432, 0.04330963, -0.025442515, 0.7367...</td>\n",
                            "      <td>-595.334900</td>\n",
                            "      <td>[[-0.021937246, -0.0041813655, 0.027856894], [...</td>\n",
                            "      <td>-28.518212</td>\n",
                            "      <td>0.020043</td>\n",
                            "      <td>[-0.22079198, -0.037785087, 0.064638026, 0.093...</td>\n",
                            "      <td>[[-0.05608654, -0.020514945, 0.08029426, 0.044...</td>\n",
                            "      <td>-595.084106</td>\n",
                            "      <td>[[-0.00979438, -0.021082044, 0.029391693], [-0...</td>\n",
                            "      <td>-28.468053</td>\n",
                            "      <td>0.022205</td>\n",
                            "    </tr>\n",
                            "    <tr>\n",
                            "      <th>...</th>\n",
                            "      <td>...</td>\n",
                            "      <td>...</td>\n",
                            "      <td>...</td>\n",
                            "      <td>...</td>\n",
                            "      <td>...</td>\n",
                            "      <td>...</td>\n",
                            "      <td>...</td>\n",
                            "      <td>...</td>\n",
                            "      <td>...</td>\n",
                            "      <td>...</td>\n",
                            "      <td>...</td>\n",
                            "      <td>...</td>\n",
                            "      <td>...</td>\n",
                            "      <td>...</td>\n",
                            "      <td>...</td>\n",
                            "      <td>...</td>\n",
                            "      <td>...</td>\n",
                            "      <td>...</td>\n",
                            "    </tr>\n",
                            "    <tr>\n",
                            "      <th>495</th>\n",
                            "      <td>mp-698301</td>\n",
                            "      <td>382.507041</td>\n",
                            "      <td>2.22</td>\n",
                            "      <td>0.09</td>\n",
                            "      <td>9</td>\n",
                            "      <td>2</td>\n",
                            "      <td>[0.15783544, 0.17722034, 0.009200763, 0.274925...</td>\n",
                            "      <td>[[-0.8967323, -0.09575288, -0.049783986, 1.143...</td>\n",
                            "      <td>-180.585617</td>\n",
                            "      <td>[[0.0065214206, 0.031426117, -0.02118668], [0....</td>\n",
                            "      <td>-4.869578</td>\n",
                            "      <td>4.025927</td>\n",
                            "      <td>[-0.1996858, -0.02465518, 0.012579967, 0.05657...</td>\n",
                            "      <td>[[0.015688254, -0.018094055, -0.049125608, 0.0...</td>\n",
                            "      <td>-180.922058</td>\n",
                            "      <td>[[0.018018203, 0.0074682916, 0.034540795], [0....</td>\n",
                            "      <td>-4.936867</td>\n",
                            "      <td>4.016032</td>\n",
                            "    </tr>\n",
                            "    <tr>\n",
                            "      <th>496</th>\n",
                            "      <td>mp-1217479</td>\n",
                            "      <td>455.938638</td>\n",
                            "      <td>3.26</td>\n",
                            "      <td>0.08</td>\n",
                            "      <td>21</td>\n",
                            "      <td>3</td>\n",
                            "      <td>[0.3432244, 0.00506988, -0.018574214, 0.286489...</td>\n",
                            "      <td>[[0.24601227, 0.3068273, -0.7677959, 1.4149146...</td>\n",
                            "      <td>-273.717407</td>\n",
                            "      <td>[[-0.0013649535, -0.010621709, 0.0059434045], ...</td>\n",
                            "      <td>-10.962075</td>\n",
                            "      <td>3.390340</td>\n",
                            "      <td>[-0.22776303, -0.005970049, 0.025932766, 0.068...</td>\n",
                            "      <td>[[-0.6181542, -0.17707199, 0.18061917, -0.1246...</td>\n",
                            "      <td>-273.717896</td>\n",
                            "      <td>[[-4.990885e-06, 4.904792e-06, -2.4374021e-06]...</td>\n",
                            "      <td>-10.962173</td>\n",
                            "      <td>3.390327</td>\n",
                            "    </tr>\n",
                            "    <tr>\n",
                            "      <th>497</th>\n",
                            "      <td>agm003915635</td>\n",
                            "      <td>68.826719</td>\n",
                            "      <td>8.25</td>\n",
                            "      <td>0.06</td>\n",
                            "      <td>216</td>\n",
                            "      <td>7</td>\n",
                            "      <td>[0.22693583, -0.36586532, 0.03352779, -0.32932...</td>\n",
                            "      <td>[[-0.17580587, -0.37149918, 0.34359527, 0.7186...</td>\n",
                            "      <td>-13.005263</td>\n",
                            "      <td>[[-0.0011570402, 0.0017539749, -0.0019723596],...</td>\n",
                            "      <td>1.015155</td>\n",
                            "      <td>1.194809</td>\n",
                            "      <td>[0.04072046, -0.07314953, 0.02702967, -0.13443...</td>\n",
                            "      <td>[[-0.24228477, 0.10586107, 0.07650542, -0.0950...</td>\n",
                            "      <td>-12.991813</td>\n",
                            "      <td>[[1.4227494e-06, -8.860161e-07, 6.2079635e-06]...</td>\n",
                            "      <td>1.019639</td>\n",
                            "      <td>1.198171</td>\n",
                            "    </tr>\n",
                            "    <tr>\n",
                            "      <th>498</th>\n",
                            "      <td>mp-622196</td>\n",
                            "      <td>945.741987</td>\n",
                            "      <td>2.91</td>\n",
                            "      <td>0.05</td>\n",
                            "      <td>14</td>\n",
                            "      <td>2</td>\n",
                            "      <td>[-0.07858891, 0.3029094, 0.2139958, 0.18392271...</td>\n",
                            "      <td>[[-0.32075185, 0.40140757, 0.23005971, 1.13496...</td>\n",
                            "      <td>-264.373596</td>\n",
                            "      <td>[[-0.014269993, -0.024956819, 0.013857508], [0...</td>\n",
                            "      <td>0.345249</td>\n",
                            "      <td>0.556899</td>\n",
                            "      <td>[-0.03414698, -0.049499776, -0.024802292, 0.10...</td>\n",
                            "      <td>[[-0.07554076, -0.024172362, 0.09211306, 0.193...</td>\n",
                            "      <td>-265.068634</td>\n",
                            "      <td>[[-0.008831942, -0.05815789, 0.04731905], [0.0...</td>\n",
                            "      <td>0.206241</td>\n",
                            "      <td>0.541103</td>\n",
                            "    </tr>\n",
                            "    <tr>\n",
                            "      <th>499</th>\n",
                            "      <td>mp-645044</td>\n",
                            "      <td>3463.046335</td>\n",
                            "      <td>3.09</td>\n",
                            "      <td>0.05</td>\n",
                            "      <td>14</td>\n",
                            "      <td>2</td>\n",
                            "      <td>[-0.030061884, 0.17017202, 0.12320714, 0.17645...</td>\n",
                            "      <td>[[-1.039328, 0.32640785, 0.06660069, 0.4132284...</td>\n",
                            "      <td>-1084.594604</td>\n",
                            "      <td>[[-0.118174456, 0.076673426, 0.080944225], [0....</td>\n",
                            "      <td>7.079186</td>\n",
                            "      <td>0.315827</td>\n",
                            "      <td>[-0.05080677, -0.045833513, -0.035426844, 0.07...</td>\n",
                            "      <td>[[-0.2664053, -0.15311198, -0.11533647, 0.0882...</td>\n",
                            "      <td>-1087.690186</td>\n",
                            "      <td>[[0.034364358, 0.04852344, -0.03250353], [-0.0...</td>\n",
                            "      <td>6.460069</td>\n",
                            "      <td>0.297401</td>\n",
                            "    </tr>\n",
                            "  </tbody>\n",
                            "</table>\n",
                            "<p>500 rows × 18 columns</p>\n",
                            "</div>"
                        ],
                        "text/plain": [
                            "          LeMatID       Volume  Density(g/cm^3)  Density(atoms/A^3)  \\\n",
                            "0      mp-1196446  1432.672306             1.71                0.09   \n",
                            "1       mp-774651   489.504032             3.11                0.08   \n",
                            "2    agm005415715   181.286910             5.26                0.03   \n",
                            "3       mp-735578   693.095559             3.73                0.08   \n",
                            "4      mp-1221862  1088.022952             1.77                0.11   \n",
                            "..            ...          ...              ...                 ...   \n",
                            "495     mp-698301   382.507041             2.22                0.09   \n",
                            "496    mp-1217479   455.938638             3.26                0.08   \n",
                            "497  agm003915635    68.826719             8.25                0.06   \n",
                            "498     mp-622196   945.741987             2.91                0.05   \n",
                            "499     mp-645044  3463.046335             3.09                0.05   \n",
                            "\n",
                            "     SpaceGroup  CrystalSystem  \\\n",
                            "0            13              2   \n",
                            "1            33              3   \n",
                            "2           229              7   \n",
                            "3            15              2   \n",
                            "4             7              2   \n",
                            "..          ...            ...   \n",
                            "495           9              2   \n",
                            "496          21              3   \n",
                            "497         216              7   \n",
                            "498          14              2   \n",
                            "499          14              2   \n",
                            "\n",
                            "                                    OrbGraphEmbeddings  \\\n",
                            "0    [0.109472044, 0.2572507, 0.02018192, 0.3772189...   \n",
                            "1    [0.11850287, 0.14595717, 0.02197475, 0.2681615...   \n",
                            "2    [0.26939476, 0.20468056, -0.12542768, 0.032836...   \n",
                            "3    [0.11508359, 0.10241604, 0.010340529, 0.121209...   \n",
                            "4    [0.19177356, 0.18612428, 0.0010497392, 0.30191...   \n",
                            "..                                                 ...   \n",
                            "495  [0.15783544, 0.17722034, 0.009200763, 0.274925...   \n",
                            "496  [0.3432244, 0.00506988, -0.018574214, 0.286489...   \n",
                            "497  [0.22693583, -0.36586532, 0.03352779, -0.32932...   \n",
                            "498  [-0.07858891, 0.3029094, 0.2139958, 0.18392271...   \n",
                            "499  [-0.030061884, 0.17017202, 0.12320714, 0.17645...   \n",
                            "\n",
                            "                                     OrbNodeEmbeddings    OrbEnergy  \\\n",
                            "0    [[-1.0641912, 0.3299405, -0.04178173, 1.067353...  -610.357239   \n",
                            "1    [[-0.32058975, 0.19373147, -0.012800036, 0.899...  -213.581329   \n",
                            "2    [[-0.07381898, 0.79753023, -0.38630268, 0.8288...   -17.411106   \n",
                            "3    [[-0.27764162, 0.34364513, -0.08888271, 1.4730...  -341.050354   \n",
                            "4    [[-1.0027432, 0.04330963, -0.025442515, 0.7367...  -595.334900   \n",
                            "..                                                 ...          ...   \n",
                            "495  [[-0.8967323, -0.09575288, -0.049783986, 1.143...  -180.585617   \n",
                            "496  [[0.24601227, 0.3068273, -0.7677959, 1.4149146...  -273.717407   \n",
                            "497  [[-0.17580587, -0.37149918, 0.34359527, 0.7186...   -13.005263   \n",
                            "498  [[-0.32075185, 0.40140757, 0.23005971, 1.13496...  -264.373596   \n",
                            "499  [[-1.039328, 0.32640785, 0.06660069, 0.4132284... -1084.594604   \n",
                            "\n",
                            "                                             OrbForces  OrbFormationEnergy  \\\n",
                            "0    [[0.0012629332, -0.00081717595, 0.0012267774],...          -25.347359   \n",
                            "1    [[0.035016894, -0.0034213867, 0.0062979627], [...          -11.177186   \n",
                            "2    [[0.00012565777, -0.0016299748, -0.00230372], ...            0.390865   \n",
                            "3    [[-0.11718704, -0.05151949, -0.02423022], [0.1...          -14.577774   \n",
                            "4    [[-0.021937246, -0.0041813655, 0.027856894], [...          -28.518212   \n",
                            "..                                                 ...                 ...   \n",
                            "495  [[0.0065214206, 0.031426117, -0.02118668], [0....           -4.869578   \n",
                            "496  [[-0.0013649535, -0.010621709, 0.0059434045], ...          -10.962075   \n",
                            "497  [[-0.0011570402, 0.0017539749, -0.0019723596],...            1.015155   \n",
                            "498  [[-0.014269993, -0.024956819, 0.013857508], [0...            0.345249   \n",
                            "499  [[-0.118174456, 0.076673426, 0.080944225], [0....            7.079186   \n",
                            "\n",
                            "     OrbEAboveHull                                MaceGraphEmbeddings  \\\n",
                            "0         0.003112  [-0.1861449, -0.020684373, 0.066283025, 0.0940...   \n",
                            "1         0.036492  [-0.09791283, -0.04369984, 0.010444844, 0.0802...   \n",
                            "2         0.557381  [0.021588078, 0.07617653, -0.032691456, 0.1895...   \n",
                            "3         0.254481  [-0.07588258, -0.04773107, 0.047378432, 0.0385...   \n",
                            "4         0.020043  [-0.22079198, -0.037785087, 0.064638026, 0.093...   \n",
                            "..             ...                                                ...   \n",
                            "495       4.025927  [-0.1996858, -0.02465518, 0.012579967, 0.05657...   \n",
                            "496       3.390340  [-0.22776303, -0.005970049, 0.025932766, 0.068...   \n",
                            "497       1.194809  [0.04072046, -0.07314953, 0.02702967, -0.13443...   \n",
                            "498       0.556899  [-0.03414698, -0.049499776, -0.024802292, 0.10...   \n",
                            "499       0.315827  [-0.05080677, -0.045833513, -0.035426844, 0.07...   \n",
                            "\n",
                            "                                    MaceNodeEmbeddings   MaceEnergy  \\\n",
                            "0    [[-0.11461396, -0.015990674, 0.107097805, 0.09...  -609.734131   \n",
                            "1    [[-0.16484381, -0.028772023, 0.07445615, 0.157...  -214.043533   \n",
                            "2    [[0.04680038, 0.044881374, -0.06807892, -0.018...   -17.212358   \n",
                            "3    [[-0.1785602, -0.11307899, 0.1966575, 0.052531...  -339.172089   \n",
                            "4    [[-0.05608654, -0.020514945, 0.08029426, 0.044...  -595.084106   \n",
                            "..                                                 ...          ...   \n",
                            "495  [[0.015688254, -0.018094055, -0.049125608, 0.0...  -180.922058   \n",
                            "496  [[-0.6181542, -0.17707199, 0.18061917, -0.1246...  -273.717896   \n",
                            "497  [[-0.24228477, 0.10586107, 0.07650542, -0.0950...   -12.991813   \n",
                            "498  [[-0.07554076, -0.024172362, 0.09211306, 0.193...  -265.068634   \n",
                            "499  [[-0.2664053, -0.15311198, -0.11533647, 0.0882... -1087.690186   \n",
                            "\n",
                            "                                            MaceForces  MaceFormationEnergy  \\\n",
                            "0    [[-1.6835966e-06, -1.3360595e-06, -1.5439e-06]...           -25.222737   \n",
                            "1    [[0.0357335, -0.017460236, -0.012615044], [-0....           -11.269627   \n",
                            "2    [[-1.2940145e-06, -1.1700031e-06, 4.344911e-06...             0.490239   \n",
                            "3    [[-0.13032529, -0.083571285, 0.02394116], [0.1...           -14.202121   \n",
                            "4    [[-0.00979438, -0.021082044, 0.029391693], [-0...           -28.468053   \n",
                            "..                                                 ...                  ...   \n",
                            "495  [[0.018018203, 0.0074682916, 0.034540795], [0....            -4.936867   \n",
                            "496  [[-4.990885e-06, 4.904792e-06, -2.4374021e-06]...           -10.962173   \n",
                            "497  [[1.4227494e-06, -8.860161e-07, 6.2079635e-06]...             1.019639   \n",
                            "498  [[-0.008831942, -0.05815789, 0.04731905], [0.0...             0.206241   \n",
                            "499  [[0.034364358, 0.04852344, -0.03250353], [-0.0...             6.460069   \n",
                            "\n",
                            "     MaceEAboveHull  \n",
                            "0          0.007980  \n",
                            "1          0.024937  \n",
                            "2          0.597131  \n",
                            "3          0.288021  \n",
                            "4          0.022205  \n",
                            "..              ...  \n",
                            "495        4.016032  \n",
                            "496        3.390327  \n",
                            "497        1.198171  \n",
                            "498        0.541103  \n",
                            "499        0.297401  \n",
                            "\n",
                            "[500 rows x 18 columns]"
                        ]
                    },
                    "execution_count": 28,
                    "metadata": {},
                    "output_type": "execute_result"
                }
            ],
            "source": [
                "reference_df"
            ]
        },
        {
            "cell_type": "code",
            "execution_count": 3,
            "id": "ac803dcc-bef0-482b-bb3c-1e8c25f1b2c0",
            "metadata": {},
            "outputs": [
                {
                    "name": "stderr",
                    "output_type": "stream",
                    "text": [
                        "C:\\Users\\samue\\lematerial-forgebench\\.venv\\Lib\\site-packages\\orb_models\\utils.py:30: UserWarning: Setting global torch default dtype to torch.float32.\n",
                        "  warnings.warn(f\"Setting global torch default dtype to {torch_dtype}.\")\n"
                    ]
                },
                {
                    "data": {
                        "text/html": [
                            "<pre style=\"white-space:pre;overflow-x:auto;line-height:normal;font-family:Menlo,'DejaVu Sans Mono',consolas,'Courier New',monospace\"><span style=\"color: #7fbfbf; text-decoration-color: #7fbfbf\">[01:09:18] </span><span style=\"color: #000080; text-decoration-color: #000080\">INFO    </span> Successfully loaded ORB model: orb_v3_conservative_inf_omat                    <a href=\"file://C:\\Users\\samue\\lematerial-forgebench\\src\\lemat_genbench\\models\\orb\\calculator.py\" target=\"_blank\"><span style=\"color: #7f7f7f; text-decoration-color: #7f7f7f\">calculator.py</span></a><span style=\"color: #7f7f7f; text-decoration-color: #7f7f7f\">:</span><a href=\"file://C:\\Users\\samue\\lematerial-forgebench\\src\\lemat_genbench\\models\\orb\\calculator.py#59\" target=\"_blank\"><span style=\"color: #7f7f7f; text-decoration-color: #7f7f7f\">59</span></a>\n",
                            "</pre>\n"
                        ],
                        "text/plain": [
                            "\u001b[2;36m[01:09:18]\u001b[0m\u001b[2;36m \u001b[0m\u001b[34mINFO    \u001b[0m Successfully loaded ORB model: orb_v3_conservative_inf_omat                    \u001b]8;id=856514;file://C:\\Users\\samue\\lematerial-forgebench\\src\\lemat_genbench\\models\\orb\\calculator.py\u001b\\\u001b[2mcalculator.py\u001b[0m\u001b]8;;\u001b\\\u001b[2m:\u001b[0m\u001b]8;id=390036;file://C:\\Users\\samue\\lematerial-forgebench\\src\\lemat_genbench\\models\\orb\\calculator.py#59\u001b\\\u001b[2m59\u001b[0m\u001b]8;;\u001b\\\n"
                        ]
                    },
                    "metadata": {},
                    "output_type": "display_data"
                },
                {
                    "name": "stderr",
                    "output_type": "stream",
                    "text": [
                        "100%|████████████████████████████████████████████████████████████████████████████████████| 2/2 [00:08<00:00,  4.32s/it]\n"
                    ]
                }
            ],
            "source": [
                "stability_preprocessor = UniversalStabilityPreprocessor(model_name=\"orb\", timeout = 100000, relax_structures = False)\n",
                "stability_preprocessor_result = stability_preprocessor(structures)"
            ]
        },
        {
            "cell_type": "code",
            "execution_count": 4,
            "id": "f7c3c414-bb9a-412a-9a65-c6d9b5a05ba0",
            "metadata": {},
            "outputs": [],
            "source": [
                "# stability_preprocessor_result.processed_structures[1].properties"
            ]
        },
        {
            "cell_type": "code",
            "execution_count": 5,
            "id": "156a7ef5-e054-45f5-a407-619d8350264c",
            "metadata": {},
            "outputs": [
                {
                    "name": "stderr",
                    "output_type": "stream",
                    "text": [
                        "100%|███████████████████████████████████████████████████████████████████████████████████| 2/2 [00:00<00:00, 304.51it/s]\n"
                    ]
                }
            ],
            "source": [
                "distribution_preprocessor = DistributionPreprocessor()\n",
                "dist_preprocessor_result = distribution_preprocessor(structures)"
            ]
        },
        {
            "cell_type": "code",
            "execution_count": 13,
            "id": "9472fc6e-0126-4b33-a6c0-4493eb5f3e18",
            "metadata": {
                "scrolled": true
            },
            "outputs": [
                {
                    "name": "stdout",
                    "output_type": "stream",
                    "text": [
                        "{'SpaceGroup': np.float64(0.7564856529396667), 'CrystalSystem': np.float64(0.522976610018087), 'CompositionCounts': np.float64(0.7074950131631114), 'Composition': np.float64(0.7371862430633939), 'Average_Jensen_Shannon_Distance': np.float64(0.6810358797960647)}\n"
                    ]
                }
            ],
            "source": [
                "metric = JSDistance(reference_df=reference_df) \n",
                "default_args = metric._get_compute_attributes()\n",
                "metric_result = metric(dist_preprocessor_result.processed_structures, **default_args)\n",
                "print(metric_result.metrics)"
            ]
        },
        {
            "cell_type": "code",
            "execution_count": 14,
            "id": "8027780b-9b83-4a9e-815c-abf8ff2f9bd9",
            "metadata": {},
            "outputs": [
                {
                    "name": "stdout",
                    "output_type": "stream",
                    "text": [
                        "{'Volume': np.float64(0.49782917763830126), 'Density(g/cm^3)': np.float64(0.29838180697602024), 'Density(atoms/A^3)': np.float64(4.8503570894364856e-05), 'Average_MMD': np.float64(0.26541982939507197)}\n"
                    ]
                }
            ],
            "source": [
                "metric = MMD(reference_df=reference_df) \n",
                "default_args = metric._get_compute_attributes()\n",
                "metric_result = metric(dist_preprocessor_result.processed_structures, **default_args)\n",
                "print(metric_result.metrics)"
            ]
        },
        {
            "cell_type": "code",
            "execution_count": 15,
            "id": "92feb85f-1a47-4f67-b29b-59af42665fbb",
            "metadata": {},
            "outputs": [
                {
                    "name": "stdout",
                    "output_type": "stream",
                    "text": [
                        "{'FrechetDistance': 38.64963877642341}\n"
                    ]
                }
            ],
            "source": [
                "metric = FrechetDistance(reference_df=reference_df) \n",
                "\n",
                "sample_embeddings = list(stability_preprocessor_result.processed_structures)\n",
                "\n",
                "default_args = metric._get_compute_attributes()\n",
                "metric_result = metric(sample_embeddings, **default_args)\n",
                "\n",
                "print(metric_result.metrics)"
            ]
        },
        {
            "cell_type": "code",
            "execution_count": 16,
            "id": "66d554c5-3c36-4fce-9973-658e16e83433",
            "metadata": {},
            "outputs": [
                {
                    "data": {
                        "text/html": [
                            "<pre style=\"white-space:pre;overflow-x:auto;line-height:normal;font-family:Menlo,'DejaVu Sans Mono',consolas,'Courier New',monospace\"><span style=\"color: #7fbfbf; text-decoration-color: #7fbfbf\">[01:16:34] </span><span style=\"color: #808000; text-decoration-color: #808000\">WARNING </span> Number of input structures is less than processed + failed. This might indicate an   <a href=\"file://C:\\Users\\samue\\lematerial-forgebench\\src\\lemat_genbench\\preprocess\\base.py\" target=\"_blank\"><span style=\"color: #7f7f7f; text-decoration-color: #7f7f7f\">base.py</span></a><span style=\"color: #7f7f7f; text-decoration-color: #7f7f7f\">:</span><a href=\"file://C:\\Users\\samue\\lematerial-forgebench\\src\\lemat_genbench\\preprocess\\base.py#87\" target=\"_blank\"><span style=\"color: #7f7f7f; text-decoration-color: #7f7f7f\">87</span></a>\n",
                            "<span style=\"color: #7fbfbf; text-decoration-color: #7fbfbf\">           </span>         issue.                                                                               <span style=\"color: #7f7f7f; text-decoration-color: #7f7f7f\">          </span>\n",
                            "</pre>\n"
                        ],
                        "text/plain": [
                            "\u001b[2;36m[01:16:34]\u001b[0m\u001b[2;36m \u001b[0m\u001b[33mWARNING \u001b[0m Number of input structures is less than processed + failed. This might indicate an   \u001b]8;id=567903;file://C:\\Users\\samue\\lematerial-forgebench\\src\\lemat_genbench\\preprocess\\base.py\u001b\\\u001b[2mbase.py\u001b[0m\u001b]8;;\u001b\\\u001b[2m:\u001b[0m\u001b]8;id=895651;file://C:\\Users\\samue\\lematerial-forgebench\\src\\lemat_genbench\\preprocess\\base.py#87\u001b\\\u001b[2m87\u001b[0m\u001b]8;;\u001b\\\n",
                            "\u001b[2;36m           \u001b[0m         issue.                                                                               \u001b[2m          \u001b[0m\n"
                        ]
                    },
                    "metadata": {},
                    "output_type": "display_data"
                }
            ],
            "source": [
                "final_processed_structures = []\n",
                "\n",
                "for ind in range(0, len(dist_preprocessor_result.processed_structures)): \n",
                "    combined_structure = dist_preprocessor_result.processed_structures[ind]\n",
                "    for entry in stability_preprocessor_result.processed_structures[ind].properties.keys():\n",
                "        combined_structure.properties[entry] = stability_preprocessor_result.processed_structures[ind].properties[entry]\n",
                "    final_processed_structures.append(combined_structure)\n",
                "\n",
                "preprocessor_result = PreprocessorResult(processed_structures=final_processed_structures,\n",
                "    config={\n",
                "        \"stability_preprocessor_config\":stability_preprocessor_result.config,\n",
                "        \"distribution_preprocessor_config\": dist_preprocessor_result.config,\n",
                "    },\n",
                "    computation_time={\n",
                "        \"stability_preprocessor_computation_time\": stability_preprocessor_result.computation_time,\n",
                "        \"distribution_preprocessor_computation_time\": dist_preprocessor_result.computation_time,\n",
                "    },\n",
                "    n_input_structures=stability_preprocessor_result.n_input_structures,\n",
                "    failed_indices={\n",
                "        \"stability_preprocessor_failed_indices\": stability_preprocessor_result.failed_indices,\n",
                "        \"distribution_preprocessor_failed_indices\": dist_preprocessor_result.failed_indices,\n",
                "    },\n",
                "    warnings={\n",
                "        \"stability_preprocessor_warnings\": stability_preprocessor_result.warnings,\n",
                "        \"distribution_preprocessor_warnings\": dist_preprocessor_result.warnings,\n",
                "    },\n",
                ")"
            ]
        },
        {
            "cell_type": "code",
            "execution_count": 18,
            "id": "c5be4676-99fe-4ee6-b9de-3a255b9127f5",
            "metadata": {},
            "outputs": [],
            "source": [
                "benchmark = DistributionBenchmark(reference_df=reference_df)\n",
                "benchmark_result = benchmark.evaluate(preprocessor_result.processed_structures)"
            ]
        },
        {
            "cell_type": "code",
            "execution_count": 19,
            "id": "98662a86-84e1-4a5b-9839-50e1c759d65b",
            "metadata": {},
            "outputs": [
                {
                    "name": "stdout",
                    "output_type": "stream",
                    "text": [
                        "JSDistance\n",
                        "{'SpaceGroup': np.float64(0.7564856529396667), 'CrystalSystem': np.float64(0.522976610018087), 'CompositionCounts': np.float64(0.7074950131631114), 'Composition': np.float64(0.7371862430633939), 'Average_Jensen_Shannon_Distance': np.float64(0.6810358797960647)}\n",
                        "Average JSDistance: 0.6810358797960647\n",
                        "MMD\n",
                        "{'Volume': np.float64(0.49782917763830126), 'Density(g/cm^3)': np.float64(0.29838180697602024), 'Density(atoms/A^3)': np.float64(4.8503570894364856e-05), 'Average_MMD': np.float64(0.26541982939507197)}\n",
                        "Average MMD: 0.26541982939507197\n",
                        "FrechetDistance\n",
                        "{'FrechetDistance': 38.64963877642341}\n",
                        "Average Frechet Distance: 38.64963877642341\n"
                    ]
                }
            ],
            "source": [
                "print(\"JSDistance\")\n",
                "print(benchmark_result.evaluator_results[\"JSDistance\"][\"metric_results\"][\"JSDistance\"].metrics)\n",
                "print(\"Average JSDistance: \" + str(benchmark_result.evaluator_results[\"JSDistance\"][\"JSDistance_value\"]))\n",
                "print(\"MMD\")\n",
                "print(benchmark_result.evaluator_results[\"MMD\"][\"metric_results\"][\"MMD\"].metrics)\n",
                "print(\"Average MMD: \" + str(benchmark_result.evaluator_results[\"MMD\"][\"MMD_value\"]))\n",
                "print(\"FrechetDistance\")\n",
                "print(benchmark_result.evaluator_results[\"FrechetDistance\"][\"metric_results\"][\"FrechetDistance\"].metrics)\n",
                "print(\"Average Frechet Distance: \" + str(benchmark_result.evaluator_results[\"FrechetDistance\"][\"FrechetDistance_value\"]))\n"
            ]
        },
        {
            "cell_type": "code",
            "execution_count": null,
            "id": "94f5b94d-3601-4c73-b4a0-6004afb626bd",
            "metadata": {},
            "outputs": [],
            "source": []
        }
    ],
    "metadata": {
        "kernelspec": {
            "display_name": "Python 3 (ipykernel)",
            "language": "python",
            "name": "python3"
        },
        "language_info": {
            "codemirror_mode": {
                "name": "ipython",
                "version": 3
            },
            "file_extension": ".py",
            "mimetype": "text/x-python",
            "name": "python",
            "nbconvert_exporter": "python",
            "pygments_lexer": "ipython3",
            "version": "3.11.11"
        }
    },
    "nbformat": 4,
    "nbformat_minor": 5
}
