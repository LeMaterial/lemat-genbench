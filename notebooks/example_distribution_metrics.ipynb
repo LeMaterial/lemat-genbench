{
 "cells": [
  {
   "cell_type": "code",
   "execution_count": 64,
   "id": "8b9a431a-ddf9-4b97-874f-571dd1bc4bfb",
   "metadata": {},
   "outputs": [
    {
     "name": "stdout",
     "output_type": "stream",
     "text": [
      "The autoreload extension is already loaded. To reload it, use:\n",
      "  %reload_ext autoreload\n"
     ]
    }
   ],
   "source": [
    "import pickle\n",
    "\n",
    "import matplotlib.pyplot as plt\n",
    "import numpy as np\n",
    "import pandas as pd\n",
    "from datasets import load_dataset\n",
    "from pymatgen.core import Structure\n",
    "from pymatgen.util.testing import PymatgenTest\n",
    "from scipy.spatial.distance import jensenshannon\n",
    "\n",
    "from lematerial_forgebench.benchmarks.distribution_benchmark import (\n",
    "    DistributionBenchmark,\n",
    ")\n",
    "from lematerial_forgebench.metrics.distribution_metrics import (\n",
    "    MMD,\n",
    "    FrechetDistance,\n",
    "    JSDistance,\n",
    ")\n",
    "from lematerial_forgebench.preprocess.distribution_preprocess import (\n",
    "    DistributionPreprocessor,\n",
    ")\n",
    "from lematerial_forgebench.utils.distribution_utils import (\n",
    "    map_space_group_to_crystal_system,\n",
    ")\n",
    "\n",
    "%load_ext autoreload\n",
    "%autoreload 2"
   ]
  },
  {
   "cell_type": "code",
   "execution_count": 73,
   "id": "34ca5d5e-aa6d-4722-a511-8cf0d4445017",
   "metadata": {},
   "outputs": [],
   "source": [
    "with open(\"lematbulk_properties.pkl\", \"rb\") as f:\n",
    "    test_lemat = pickle.load(f)"
   ]
  },
  {
   "cell_type": "code",
   "execution_count": 9,
   "id": "c013bc3e-2e91-44ef-ba42-e89c170d96bc",
   "metadata": {},
   "outputs": [
    {
     "name": "stderr",
     "output_type": "stream",
     "text": [
      "C:\\Users\\samue\\AppData\\Local\\Temp\\ipykernel_24916\\2264363178.py:1: FutureWarning: PymatgenTest is deprecated, and will be removed on 2026-01-01\n",
      "Use MatSciTest in pymatgen.util.testing instead.\n",
      "  test = PymatgenTest()\n"
     ]
    }
   ],
   "source": [
    "test = PymatgenTest()\n",
    "\n",
    "filename = \"CsBr.cif\"\n",
    "structure = Structure.from_file(filename)\n",
    "structure = structure.remove_oxidation_states()\n",
    "\n",
    "filename2 = \"CsPbBr3.cif\"\n",
    "structure2 = Structure.from_file(filename2)\n",
    "structure2 = structure2.remove_oxidation_states()\n",
    "\n",
    "structures = [\n",
    "    structure,\n",
    "    structure2,\n",
    "    test.get_structure(\"Si\"),\n",
    "    test.get_structure(\"LiFePO4\"),\n",
    "]"
   ]
  },
  {
   "cell_type": "code",
   "execution_count": 76,
   "id": "156a7ef5-e054-45f5-a407-619d8350264c",
   "metadata": {},
   "outputs": [],
   "source": [
    "distribution_preprocessor = DistributionPreprocessor()\n",
    "preprocessor_result = distribution_preprocessor(structures)"
   ]
  },
  {
   "cell_type": "code",
   "execution_count": 77,
   "id": "b565ecd0-f79c-4554-a430-01e5236559d6",
   "metadata": {},
   "outputs": [],
   "source": [
    "test_df = pd.DataFrame(preprocessor_result.processed_structures, columns = [\"Volume\", \"Density(g/cm^3)\", \"Density(atoms/A^3)\", \n",
    "                                                                            \"SpaceGroup\", \"CrystalSystem\", \"CompositionCounts\",\n",
    "                                                                            \"Composition\"])"
   ]
  },
  {
   "cell_type": "code",
   "execution_count": 186,
   "id": "ab57bdfc-c85a-4d08-afb7-513b7286fd93",
   "metadata": {},
   "outputs": [
    {
     "name": "stdout",
     "output_type": "stream",
     "text": [
      "{'SpaceGroup': np.float64(0.8325546111576977)}\n",
      "{'SpaceGroup': np.float64(0.8325546111576977), 'CrystalSystem': np.float64(0.2788095948658411)}\n",
      "CompositionCounts\n",
      "<class 'str'>\n",
      "CompositionCounts\n",
      "{'SpaceGroup': np.float64(0.8325546111576977), 'CrystalSystem': np.float64(0.2788095948658411), 'CompositionCounts': np.float64(0.6901659684588751)}\n",
      "Composition\n",
      "<class 'str'>\n",
      "{'SpaceGroup': np.float64(0.8325546111576977), 'CrystalSystem': np.float64(0.2788095948658411), 'CompositionCounts': np.float64(0.6901659684588751), 'Composition': np.float64(0.713320308611451)}\n",
      "values\n",
      "[{'SpaceGroup': np.float64(0.8325546111576977), 'CrystalSystem': np.float64(0.2788095948658411), 'CompositionCounts': np.float64(0.6901659684588751), 'Composition': np.float64(0.713320308611451)}]\n",
      "returning result dict\n",
      "<bound method JSDistance.aggregate_results of <lematerial_forgebench.metrics.distribution_metrics.JSDistance object at 0x00000129989665D0>>\n",
      "compute\n",
      "<bound method BaseMetric.compute of <lematerial_forgebench.metrics.distribution_metrics.JSDistance object at 0x00000129989665D0>>\n",
      "starting MMD\n",
      "Volume\n",
      "<class 'str'>\n",
      "{'Volume': np.float64(0.3578373686257075)}\n",
      "Density(g/cm^3)\n",
      "<class 'str'>\n",
      "{'Volume': np.float64(0.3578373686257075), 'Density(g/cm^3)': np.float64(0.16174021104526248)}\n",
      "Density(atoms/A^3)\n",
      "<class 'str'>\n",
      "{'Volume': np.float64(0.3578373686257075), 'Density(g/cm^3)': np.float64(0.16174021104526248), 'Density(atoms/A^3)': np.float64(0.0003819190830129937)}\n",
      "SpaceGroup\n",
      "<class 'str'>\n",
      "CrystalSystem\n",
      "<class 'str'>\n",
      "values\n",
      "[{'Volume': np.float64(0.3578373686257075), 'Density(g/cm^3)': np.float64(0.16174021104526248), 'Density(atoms/A^3)': np.float64(0.0003819190830129937)}]\n",
      "returning result dict\n",
      "<bound method MMD.aggregate_results of <lematerial_forgebench.metrics.distribution_metrics.MMD object at 0x00000129989664D0>>\n",
      "compute\n",
      "<bound method BaseMetric.compute of <lematerial_forgebench.metrics.distribution_metrics.MMD object at 0x00000129989664D0>>\n",
      "MMD_results\n"
     ]
    }
   ],
   "source": [
    "benchmark = DistributionBenchmark()\n",
    "benchmark_result = benchmark.evaluate([test_df], test_lemat.iloc[0:10])"
   ]
  },
  {
   "cell_type": "code",
   "execution_count": 191,
   "id": "953a52f4-c396-436a-b3b7-22c35cb7d81f",
   "metadata": {},
   "outputs": [
    {
     "data": {
      "text/plain": [
       "{'SpaceGroup': np.float64(0.8325546111576977),\n",
       " 'CrystalSystem': np.float64(0.2788095948658411),\n",
       " 'CompositionCounts': np.float64(0.6901659684588751),\n",
       " 'Composition': np.float64(0.713320308611451)}"
      ]
     },
     "execution_count": 191,
     "metadata": {},
     "output_type": "execute_result"
    }
   ],
   "source": [
    "benchmark_result.evaluator_results[\"JSDistance\"][\"JSDistance_value\"]"
   ]
  },
  {
   "cell_type": "code",
   "execution_count": 192,
   "id": "ff9c5632-fc2b-4b29-a45a-d961a25d5bea",
   "metadata": {},
   "outputs": [
    {
     "data": {
      "text/plain": [
       "{'Volume': np.float64(0.3578373686257075),\n",
       " 'Density(g/cm^3)': np.float64(0.16174021104526248),\n",
       " 'Density(atoms/A^3)': np.float64(0.0003819190830129937)}"
      ]
     },
     "execution_count": 192,
     "metadata": {},
     "output_type": "execute_result"
    }
   ],
   "source": [
    "benchmark_result.evaluator_results[\"MMD\"][\"MMD_value\"]"
   ]
  },
  {
   "cell_type": "code",
   "execution_count": null,
   "id": "c4e6ac0c-549a-4513-a8e2-8e43b4aaa75b",
   "metadata": {},
   "outputs": [],
   "source": []
  }
 ],
 "metadata": {
  "kernelspec": {
   "display_name": "Python 3 (ipykernel)",
   "language": "python",
   "name": "python3"
  },
  "language_info": {
   "codemirror_mode": {
    "name": "ipython",
    "version": 3
   },
   "file_extension": ".py",
   "mimetype": "text/x-python",
   "name": "python",
   "nbconvert_exporter": "python",
   "pygments_lexer": "ipython3",
   "version": "3.11.11"
  }
 },
 "nbformat": 4,
 "nbformat_minor": 5
}
