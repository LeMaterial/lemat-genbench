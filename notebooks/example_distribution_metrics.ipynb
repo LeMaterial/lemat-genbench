{
 "cells": [
  {
   "cell_type": "code",
   "execution_count": 1,
   "id": "8b9a431a-ddf9-4b97-874f-571dd1bc4bfb",
   "metadata": {},
   "outputs": [
    {
     "data": {
      "text/html": [
       "<pre style=\"white-space:pre;overflow-x:auto;line-height:normal;font-family:Menlo,'DejaVu Sans Mono',consolas,'Courier New',monospace\"><span style=\"color: #7fbfbf; text-decoration-color: #7fbfbf\">[11:49:09] </span><span style=\"color: #808000; text-decoration-color: #808000\">WARNING </span> equiformer not available                                                        <a href=\"file://C:\\Users\\samue\\lematerial-forgebench\\src\\lematerial_forgebench\\models\\registry.py\" target=\"_blank\"><span style=\"color: #7f7f7f; text-decoration-color: #7f7f7f\">registry.py</span></a><span style=\"color: #7f7f7f; text-decoration-color: #7f7f7f\">:</span><a href=\"file://C:\\Users\\samue\\lematerial-forgebench\\src\\lematerial_forgebench\\models\\registry.py#141\" target=\"_blank\"><span style=\"color: #7f7f7f; text-decoration-color: #7f7f7f\">141</span></a>\n",
       "</pre>\n"
      ],
      "text/plain": [
       "\u001b[2;36m[11:49:09]\u001b[0m\u001b[2;36m \u001b[0m\u001b[33mWARNING \u001b[0m equiformer not available                                                        \u001b]8;id=855345;file://C:\\Users\\samue\\lematerial-forgebench\\src\\lematerial_forgebench\\models\\registry.py\u001b\\\u001b[2mregistry.py\u001b[0m\u001b]8;;\u001b\\\u001b[2m:\u001b[0m\u001b]8;id=685965;file://C:\\Users\\samue\\lematerial-forgebench\\src\\lematerial_forgebench\\models\\registry.py#141\u001b\\\u001b[2m141\u001b[0m\u001b]8;;\u001b\\\n"
      ]
     },
     "metadata": {},
     "output_type": "display_data"
    },
    {
     "name": "stderr",
     "output_type": "stream",
     "text": [
      "C:\\Users\\samue\\lematerial-forgebench\\.venv\\Lib\\site-packages\\e3nn\\o3\\_wigner.py:10: UserWarning: Environment variable TORCH_FORCE_NO_WEIGHTS_ONLY_LOAD detected, since the`weights_only` argument was not explicitly passed to `torch.load`, forcing weights_only=False.\n",
      "  _Jd, _W3j_flat, _W3j_indices = torch.load(os.path.join(os.path.dirname(__file__), 'constants.pt'))\n"
     ]
    },
    {
     "name": "stdout",
     "output_type": "stream",
     "text": [
      "cuequivariance or cuequivariance_torch is not available. Cuequivariance acceleration will be disabled.\n"
     ]
    },
    {
     "data": {
      "text/html": [
       "<pre style=\"white-space:pre;overflow-x:auto;line-height:normal;font-family:Menlo,'DejaVu Sans Mono',consolas,'Courier New',monospace\"><span style=\"color: #7fbfbf; text-decoration-color: #7fbfbf\">[11:49:14] </span><span style=\"color: #000080; text-decoration-color: #000080\">INFO    </span> Successfully registered mace model                                              <a href=\"file://C:\\Users\\samue\\lematerial-forgebench\\src\\lematerial_forgebench\\models\\registry.py\" target=\"_blank\"><span style=\"color: #7f7f7f; text-decoration-color: #7f7f7f\">registry.py</span></a><span style=\"color: #7f7f7f; text-decoration-color: #7f7f7f\">:</span><a href=\"file://C:\\Users\\samue\\lematerial-forgebench\\src\\lematerial_forgebench\\models\\registry.py#156\" target=\"_blank\"><span style=\"color: #7f7f7f; text-decoration-color: #7f7f7f\">156</span></a>\n",
       "</pre>\n"
      ],
      "text/plain": [
       "\u001b[2;36m[11:49:14]\u001b[0m\u001b[2;36m \u001b[0m\u001b[34mINFO    \u001b[0m Successfully registered mace model                                              \u001b]8;id=980342;file://C:\\Users\\samue\\lematerial-forgebench\\src\\lematerial_forgebench\\models\\registry.py\u001b\\\u001b[2mregistry.py\u001b[0m\u001b]8;;\u001b\\\u001b[2m:\u001b[0m\u001b]8;id=706040;file://C:\\Users\\samue\\lematerial-forgebench\\src\\lematerial_forgebench\\models\\registry.py#156\u001b\\\u001b[2m156\u001b[0m\u001b]8;;\u001b\\\n"
      ]
     },
     "metadata": {},
     "output_type": "display_data"
    },
    {
     "data": {
      "text/html": [
       "<pre style=\"white-space:pre;overflow-x:auto;line-height:normal;font-family:Menlo,'DejaVu Sans Mono',consolas,'Courier New',monospace\"><span style=\"color: #7fbfbf; text-decoration-color: #7fbfbf\">[11:49:15] </span><span style=\"color: #000080; text-decoration-color: #000080\">INFO    </span> Successfully registered orb model                                               <a href=\"file://C:\\Users\\samue\\lematerial-forgebench\\src\\lematerial_forgebench\\models\\registry.py\" target=\"_blank\"><span style=\"color: #7f7f7f; text-decoration-color: #7f7f7f\">registry.py</span></a><span style=\"color: #7f7f7f; text-decoration-color: #7f7f7f\">:</span><a href=\"file://C:\\Users\\samue\\lematerial-forgebench\\src\\lematerial_forgebench\\models\\registry.py#156\" target=\"_blank\"><span style=\"color: #7f7f7f; text-decoration-color: #7f7f7f\">156</span></a>\n",
       "</pre>\n"
      ],
      "text/plain": [
       "\u001b[2;36m[11:49:15]\u001b[0m\u001b[2;36m \u001b[0m\u001b[34mINFO    \u001b[0m Successfully registered orb model                                               \u001b]8;id=393606;file://C:\\Users\\samue\\lematerial-forgebench\\src\\lematerial_forgebench\\models\\registry.py\u001b\\\u001b[2mregistry.py\u001b[0m\u001b]8;;\u001b\\\u001b[2m:\u001b[0m\u001b]8;id=578785;file://C:\\Users\\samue\\lematerial-forgebench\\src\\lematerial_forgebench\\models\\registry.py#156\u001b\\\u001b[2m156\u001b[0m\u001b]8;;\u001b\\\n"
      ]
     },
     "metadata": {},
     "output_type": "display_data"
    },
    {
     "data": {
      "text/html": [
       "<pre style=\"white-space:pre;overflow-x:auto;line-height:normal;font-family:Menlo,'DejaVu Sans Mono',consolas,'Courier New',monospace\"><span style=\"color: #7fbfbf; text-decoration-color: #7fbfbf\">           </span><span style=\"color: #000080; text-decoration-color: #000080\">INFO    </span> Successfully registered uma model                                               <a href=\"file://C:\\Users\\samue\\lematerial-forgebench\\src\\lematerial_forgebench\\models\\registry.py\" target=\"_blank\"><span style=\"color: #7f7f7f; text-decoration-color: #7f7f7f\">registry.py</span></a><span style=\"color: #7f7f7f; text-decoration-color: #7f7f7f\">:</span><a href=\"file://C:\\Users\\samue\\lematerial-forgebench\\src\\lematerial_forgebench\\models\\registry.py#156\" target=\"_blank\"><span style=\"color: #7f7f7f; text-decoration-color: #7f7f7f\">156</span></a>\n",
       "</pre>\n"
      ],
      "text/plain": [
       "\u001b[2;36m          \u001b[0m\u001b[2;36m \u001b[0m\u001b[34mINFO    \u001b[0m Successfully registered uma model                                               \u001b]8;id=696214;file://C:\\Users\\samue\\lematerial-forgebench\\src\\lematerial_forgebench\\models\\registry.py\u001b\\\u001b[2mregistry.py\u001b[0m\u001b]8;;\u001b\\\u001b[2m:\u001b[0m\u001b]8;id=332254;file://C:\\Users\\samue\\lematerial-forgebench\\src\\lematerial_forgebench\\models\\registry.py#156\u001b\\\u001b[2m156\u001b[0m\u001b]8;;\u001b\\\n"
      ]
     },
     "metadata": {},
     "output_type": "display_data"
    }
   ],
   "source": [
    "import pickle\n",
    "\n",
    "import matplotlib.pyplot as plt\n",
    "import numpy as np\n",
    "import pandas as pd\n",
    "from datasets import load_dataset\n",
    "from pymatgen.core import Structure\n",
    "from pymatgen.util.testing import PymatgenTest\n",
    "from scipy.spatial.distance import jensenshannon\n",
    "\n",
    "from lematerial_forgebench.benchmarks.distribution_benchmark import (\n",
    "    DistributionBenchmark,\n",
    ")\n",
    "from lematerial_forgebench.metrics.distribution_metrics import (\n",
    "    MMD,\n",
    "    FrechetDistance,\n",
    "    JSDistance,\n",
    ")\n",
    "from lematerial_forgebench.preprocess.distribution_preprocess import (\n",
    "    DistributionPreprocessor,\n",
    ")\n",
    "from lematerial_forgebench.preprocess.universal_stability_preprocess import (\n",
    "    UniversalStabilityPreprocessor,\n",
    ")\n",
    "from lematerial_forgebench.utils.distribution_utils import (\n",
    "    map_space_group_to_crystal_system,\n",
    ")\n",
    "\n",
    "%load_ext autoreload\n",
    "%autoreload 2"
   ]
  },
  {
   "cell_type": "code",
   "execution_count": 2,
   "id": "1d4ae0b1-594c-4769-a76c-f55590403502",
   "metadata": {},
   "outputs": [],
   "source": [
    "def lematbulk_item_to_structure(item: dict) -> Structure:\n",
    "    \"\"\"Convert a LeMat-Bulk item to a pymatgen Structure object.\n",
    "\n",
    "    Parameters\n",
    "    ----------\n",
    "    item : dict\n",
    "        The item to convert.\n",
    "\n",
    "    Returns\n",
    "    -------\n",
    "    Structure\n",
    "        The pymatgen Structure object.\n",
    "    \"\"\"\n",
    "    sites = item[\"species_at_sites\"]\n",
    "    coords = item[\"cartesian_site_positions\"]\n",
    "    cell = item[\"lattice_vectors\"]\n",
    "\n",
    "    structure = Structure(\n",
    "        species=sites, coords=coords, lattice=cell, coords_are_cartesian=True\n",
    "    )\n",
    "\n",
    "    return structure"
   ]
  },
  {
   "cell_type": "code",
   "execution_count": 4,
   "id": "68882839-0133-4398-b366-b000219fa687",
   "metadata": {},
   "outputs": [
    {
     "data": {
      "application/vnd.jupyter.widget-view+json": {
       "model_id": "f3e72bc868f74030b8f431119ea96cb7",
       "version_major": 2,
       "version_minor": 0
      },
      "text/plain": [
       "Resolving data files:   0%|          | 0/17 [00:00<?, ?it/s]"
      ]
     },
     "metadata": {},
     "output_type": "display_data"
    },
    {
     "data": {
      "application/vnd.jupyter.widget-view+json": {
       "model_id": "b8ef07875c5040dd9f009574ada4213e",
       "version_major": 2,
       "version_minor": 0
      },
      "text/plain": [
       "Resolving data files:   0%|          | 0/17 [00:00<?, ?it/s]"
      ]
     },
     "metadata": {},
     "output_type": "display_data"
    },
    {
     "data": {
      "application/vnd.jupyter.widget-view+json": {
       "model_id": "926d636c815e4363bc7aeac43466419d",
       "version_major": 2,
       "version_minor": 0
      },
      "text/plain": [
       "Loading dataset shards:   0%|          | 0/17 [00:00<?, ?it/s]"
      ]
     },
     "metadata": {},
     "output_type": "display_data"
    }
   ],
   "source": [
    "dataset_name = \"Lematerial/LeMat-Bulk\"\n",
    "name = \"compatible_pbe\"\n",
    "split = \"train\"\n",
    "dataset = load_dataset(dataset_name, name=name, split=split, streaming=False)"
   ]
  },
  {
   "cell_type": "code",
   "execution_count": 8,
   "id": "4130c786-abc1-4fca-88c9-37469a98c4ef",
   "metadata": {},
   "outputs": [],
   "source": [
    "struts = []\n",
    "for i in range(5, 10):\n",
    "    strut = lematbulk_item_to_structure(dataset[i])\n",
    "    struts.append(strut)"
   ]
  },
  {
   "cell_type": "code",
   "execution_count": 9,
   "id": "5d9c61b2-3438-4523-8b97-9201a058b87d",
   "metadata": {
    "scrolled": true
   },
   "outputs": [
    {
     "name": "stdout",
     "output_type": "stream",
     "text": [
      "orb\n"
     ]
    },
    {
     "name": "stderr",
     "output_type": "stream",
     "text": [
      "C:\\Users\\samue\\lematerial-forgebench\\.venv\\Lib\\site-packages\\orb_models\\utils.py:30: UserWarning: Setting global torch default dtype to torch.float32.\n",
      "  warnings.warn(f\"Setting global torch default dtype to {torch_dtype}.\")\n"
     ]
    },
    {
     "data": {
      "text/html": [
       "<pre style=\"white-space:pre;overflow-x:auto;line-height:normal;font-family:Menlo,'DejaVu Sans Mono',consolas,'Courier New',monospace\"><span style=\"color: #7fbfbf; text-decoration-color: #7fbfbf\">[14:42:31] </span><span style=\"color: #000080; text-decoration-color: #000080\">INFO    </span> Successfully loaded ORB model: orb_v3_conservative_inf_omat                    <a href=\"file://C:\\Users\\samue\\lematerial-forgebench\\src\\lematerial_forgebench\\models\\orb\\calculator.py\" target=\"_blank\"><span style=\"color: #7f7f7f; text-decoration-color: #7f7f7f\">calculator.py</span></a><span style=\"color: #7f7f7f; text-decoration-color: #7f7f7f\">:</span><a href=\"file://C:\\Users\\samue\\lematerial-forgebench\\src\\lematerial_forgebench\\models\\orb\\calculator.py#59\" target=\"_blank\"><span style=\"color: #7f7f7f; text-decoration-color: #7f7f7f\">59</span></a>\n",
       "</pre>\n"
      ],
      "text/plain": [
       "\u001b[2;36m[14:42:31]\u001b[0m\u001b[2;36m \u001b[0m\u001b[34mINFO    \u001b[0m Successfully loaded ORB model: orb_v3_conservative_inf_omat                    \u001b]8;id=183128;file://C:\\Users\\samue\\lematerial-forgebench\\src\\lematerial_forgebench\\models\\orb\\calculator.py\u001b\\\u001b[2mcalculator.py\u001b[0m\u001b]8;;\u001b\\\u001b[2m:\u001b[0m\u001b]8;id=67833;file://C:\\Users\\samue\\lematerial-forgebench\\src\\lematerial_forgebench\\models\\orb\\calculator.py#59\u001b\\\u001b[2m59\u001b[0m\u001b]8;;\u001b\\\n"
      ]
     },
     "metadata": {},
     "output_type": "display_data"
    }
   ],
   "source": [
    "stability_preprocessor = UniversalStabilityPreprocessor(model_name=\"orb\")\n",
    "stability_preprocessor_result = stability_preprocessor(struts)"
   ]
  },
  {
   "cell_type": "code",
   "execution_count": 20,
   "id": "230b268e-7fc0-4d65-9a1c-4fa0ad544465",
   "metadata": {},
   "outputs": [],
   "source": [
    "lematbulk_embeddings = pd.DataFrame(np.asarray(stability_preprocessor_result.processed_structures, dtype = \"object\"), \n",
    "                                    columns = [\"OrbProcessedStructures\"])"
   ]
  },
  {
   "cell_type": "code",
   "execution_count": 32,
   "id": "1f7e664d-2e07-4b5c-b397-fdd321328efd",
   "metadata": {},
   "outputs": [
    {
     "data": {
      "text/plain": [
       "{'mlip_model': 'ORBCalculator',\n",
       " 'model_config': 'orb_v3_conservative_inf_omat',\n",
       " 'energy': -36.79518127441406,\n",
       " 'forces': array([[ 0.00265144, -0.0002274 , -0.00225908],\n",
       "        [-0.00130672,  0.00199342, -0.00678664],\n",
       "        [ 0.00164026, -0.00098787,  0.00512138],\n",
       "        [-0.00298501, -0.00077813,  0.00392441]], dtype=float32),\n",
       " 'formation_energy': 0.3305917601953136,\n",
       " 'e_above_hull': np.float64(3.207070782729817),\n",
       " 'node_embeddings': array([[ 1.11983396e-01,  4.06865329e-02,  2.49886602e-01, ...,\n",
       "          3.33024971e-02, -8.62053912e-06, -7.56915689e-01],\n",
       "        [ 3.80771548e-01,  9.24586952e-02,  3.82968992e-01, ...,\n",
       "         -2.75345027e-01, -3.93321079e-06, -3.24808538e-01],\n",
       "        [ 5.49154580e-01, -2.45792150e-01,  4.73581962e-02, ...,\n",
       "         -2.90092260e-01,  2.34534491e-06,  6.19082525e-02],\n",
       "        [ 3.11380718e-02,  8.25848207e-02, -2.67587423e-01, ...,\n",
       "         -5.74522018e-01,  1.87184787e-06, -3.83741893e-02]],\n",
       "       shape=(4, 256), dtype=float32),\n",
       " 'graph_embedding': array([ 2.68261880e-01, -7.51552545e-03,  1.03156596e-01, -2.64010817e-01,\n",
       "        -2.09059983e-01, -3.76198614e-06, -1.13368332e-02, -1.07580721e-01,\n",
       "        -5.27839176e-02, -2.25354820e-01, -2.14406282e-01, -1.90211266e-01,\n",
       "        -1.81626707e-01, -1.90758817e-02, -2.95483947e-01,  4.82525043e-02,\n",
       "        -1.49571449e-02,  1.09356016e-01,  8.32481533e-02, -4.67659295e-01,\n",
       "         3.67803514e-01, -8.63641798e-02, -1.02238730e-01, -2.83596665e-01,\n",
       "        -2.57142067e+00, -1.26627460e-01, -8.59192107e-03, -1.15600884e-01,\n",
       "        -3.95435840e-02, -4.51357365e-02, -1.92277759e-01,  6.21420979e-01,\n",
       "        -1.10248201e-01,  2.26384968e-01, -2.94102758e-01, -1.83262438e-01,\n",
       "         2.25411505e-01,  8.08542967e-03,  2.23372638e-01, -2.17483416e-01,\n",
       "         7.06337392e-03, -5.25407642e-02, -5.50033689e-01,  9.66550931e-02,\n",
       "         1.59024894e-01,  4.74000216e-01, -6.93638623e-02, -4.76669967e-01,\n",
       "        -8.17537159e-02, -1.23633981e-01, -1.88561678e-01,  2.40577161e-02,\n",
       "        -2.72136927e-01, -2.11946219e-02, -2.54731208e-01,  1.09084092e-01,\n",
       "        -7.20186412e-01, -3.49263936e-01, -1.96816087e-01,  8.43750685e-03,\n",
       "        -1.40355504e+00,  2.82225788e-01, -2.41852850e-02, -1.11969665e-01,\n",
       "         8.08631331e-02,  2.63209999e-01, -1.86855048e-01,  2.78203756e-01,\n",
       "         6.19625933e-02,  3.78359199e-01, -2.43502200e-06, -4.12236243e-01,\n",
       "         6.72131777e-04,  8.49739462e-02, -2.48486828e-02,  1.61216080e-01,\n",
       "        -3.36029768e-01, -2.89498925e-01,  3.64591956e-01, -1.36442423e+00,\n",
       "        -1.39703840e-01,  1.59927264e-01,  1.13234587e-01,  1.30913554e-06,\n",
       "         8.31008255e-02,  9.18830931e-02,  2.16546863e-01, -7.35167116e-02,\n",
       "        -4.82847542e-01, -1.98547482e-01,  1.21461749e-01, -3.82520646e-01,\n",
       "         3.07707757e-01,  3.64767462e-02,  1.08759224e-01, -1.12729743e-01,\n",
       "        -3.04450776e-09,  1.67352334e-01,  1.80278957e-01, -4.88093019e-01,\n",
       "        -4.91968930e-01,  1.04068801e-01,  2.28424668e-02, -4.64041889e-01,\n",
       "        -2.59932220e-01,  9.75411385e-02,  3.62225771e-01, -1.13682091e-01,\n",
       "         3.75530958e-01, -5.29831052e-01, -8.67034942e-02,  2.19458491e-01,\n",
       "        -3.40852052e-01, -4.29009199e-02, -2.36172885e-01,  1.21880166e-01,\n",
       "         1.32326812e-01,  1.42631263e-01,  5.80600277e-02,  9.23418552e-02,\n",
       "         5.11525944e-02,  3.88551176e-01,  5.15233986e-02,  4.86988246e-01,\n",
       "         3.66031751e-02,  1.93879157e-01, -7.12768972e-01, -1.10953793e-01,\n",
       "        -1.48319960e-01, -1.93644911e-01,  3.19648921e-01, -1.85695082e-01,\n",
       "        -1.46380842e-01,  2.47904167e-01, -4.82074440e-01,  6.22283928e-02,\n",
       "        -3.40482188e-06,  2.84243952e-02,  2.67914265e-01, -2.02513695e-01,\n",
       "         1.24701001e-01, -3.40546630e-02,  1.89435005e-01,  1.13082394e-01,\n",
       "        -2.17348427e-01,  8.59948099e-02,  2.90605456e-01,  2.13532969e-01,\n",
       "         2.32255533e-02,  6.24695258e-06, -1.42343640e-02,  1.07267797e-02,\n",
       "         5.34105361e-01, -2.14689299e-01,  1.74563348e-01,  1.35110423e-01,\n",
       "        -1.65888250e-01,  3.41262430e-01,  8.48770142e-03, -1.98180005e-01,\n",
       "        -3.60093743e-01,  3.28011781e-01,  1.06396466e-01,  1.42861754e-02,\n",
       "        -5.21765411e-01,  6.52582049e-02,  1.47964433e-03,  1.56128117e-05,\n",
       "        -1.75701961e-01, -7.25415722e-02,  2.60692507e-01,  2.67644078e-01,\n",
       "         2.25535274e-01,  1.21691525e-02, -1.73443079e-01, -8.87895048e-01,\n",
       "        -3.27939510e-01, -2.41967633e-01, -1.96288288e-01, -1.64796665e-01,\n",
       "        -2.30145603e-02,  2.16069356e-01, -3.46904708e-05, -2.37553537e-01,\n",
       "        -1.37298331e-02, -2.71747470e-01, -1.62575603e-01, -2.55672485e-02,\n",
       "        -3.95652473e-01, -1.81325376e-02, -2.01449856e-01, -2.25541234e-01,\n",
       "         1.16389409e-01,  2.26554871e-01, -7.21402512e-06,  1.22187245e+00,\n",
       "        -1.41920879e-01, -1.07821934e-01,  1.25551081e+00, -4.16743346e-02,\n",
       "         1.10006794e-01, -2.95934174e-03,  5.00095487e-01,  1.65803865e-01,\n",
       "        -3.04143637e-01, -2.29514509e-01,  2.09440634e-01, -2.11835980e-01,\n",
       "        -1.19337404e+00,  2.32104838e-01,  1.47991091e-01,  1.59885436e-01,\n",
       "        -4.52616036e-01, -2.20331401e-02,  1.39867961e-01,  1.82977453e-01,\n",
       "         1.22766875e-01, -8.14625993e-02,  1.99354127e-01, -3.27592678e-02,\n",
       "         1.22944996e-01, -1.20704867e-01, -9.25134569e-02, -4.79489416e-01,\n",
       "        -1.35803953e-01, -1.41493261e-01,  1.30511105e-01, -1.07342184e-01,\n",
       "         2.90161729e-01, -3.05143893e-02, -1.95076734e-01, -5.52309453e-02,\n",
       "        -3.90344590e-01,  2.58822799e-01,  3.70927542e-01,  2.32885063e-01,\n",
       "         5.70803322e-02,  8.00777674e-02,  2.18385488e-01,  4.62149233e-02,\n",
       "        -6.69019446e-02, -2.20114708e-01, -1.05121523e-01, -1.70320690e-01,\n",
       "        -5.97942531e-01,  9.49662402e-02, -1.59480101e-06, -1.64320543e-01,\n",
       "         3.71610105e-01, -3.06410372e-01,  4.30931747e-02,  1.66036367e-01,\n",
       "        -2.14542285e-01, -2.76664197e-01, -2.08413940e-06, -2.64547527e-01],\n",
       "       dtype=float32),\n",
       " 'relaxed_structure': Structure Summary\n",
       " Lattice\n",
       "     abc : 2.975251810611614 4.680602987034116 4.812480150067714\n",
       "  angles : 90.00678671264495 90.00060436682533 89.99900829656696\n",
       "  volume : 67.01846580012153\n",
       "       A : np.float64(2.9752518104599837) np.float64(2.562698197082253e-05) np.float64(-1.5669485156945724e-05)\n",
       "       B : np.float64(4.0696881055511884e-05) np.float64(4.680602978585571) np.float64(-0.00027826665113244424)\n",
       "       C : np.float64(-2.5415067452209182e-05) np.float64(-0.00028393348366379835) np.float64(4.8124801416246505)\n",
       "     pbc : True True True\n",
       " PeriodicSite: Ir (0.0005235, 2.34, 2.406) [0.0001734, 0.5, 0.5]\n",
       " PeriodicSite: Os (-0.0006331, 0.0004143, -0.001685) [-0.0002128, 8.849e-05, -0.00035]\n",
       " PeriodicSite: Os (1.488, 2.34, 0.002034) [0.5002, 0.5, 0.0004532]\n",
       " PeriodicSite: Y (1.487, -0.0002969, 2.406) [0.4999, -3.585e-05, 0.4999],\n",
       " 'relaxation_rmse': np.float64(0.009734625547385582),\n",
       " 'relaxation_energy': -36.7972412109375,\n",
       " 'relaxation_steps': 13,\n",
       " 'relaxed_formation_energy': 0.3299051146875011,\n",
       " 'relaxed_e_above_hull': np.float64(3.2065557985989575)}"
      ]
     },
     "execution_count": 32,
     "metadata": {},
     "output_type": "execute_result"
    }
   ],
   "source": [
    "stability_preprocessor_result.processed_structures[0].properties"
   ]
  },
  {
   "cell_type": "code",
   "execution_count": 30,
   "id": "d8bdf690-2a06-40fc-b776-0262f090633d",
   "metadata": {},
   "outputs": [],
   "source": [
    "lematbulk_embeddings.to_pickle(\"LeMatBulk_embeddings.pkl\")"
   ]
  },
  {
   "cell_type": "code",
   "execution_count": 7,
   "id": "be08f3c8-310a-4a5b-9172-47f3e73a4e96",
   "metadata": {},
   "outputs": [],
   "source": [
    "dataset_temp = dataset.select(range(0,100))"
   ]
  },
  {
   "cell_type": "code",
   "execution_count": 36,
   "id": "34ca5d5e-aa6d-4722-a511-8cf0d4445017",
   "metadata": {},
   "outputs": [
    {
     "name": "stderr",
     "output_type": "stream",
     "text": [
      "[autoreload of lematerial_forgebench.metrics.distribution_metrics failed: Traceback (most recent call last):\n",
      "  File \"C:\\Users\\samue\\AppData\\Local\\uv\\cache\\archive-v0\\Lj7vvSFvlp-U62Tn9J8TQ\\Lib\\site-packages\\IPython\\extensions\\autoreload.py\", line 280, in check\n",
      "    elif self.deduper_reloader.maybe_reload_module(m):\n",
      "         ^^^^^^^^^^^^^^^^^^^^^^^^^^^^^^^^^^^^^^^^^^^^\n",
      "  File \"C:\\Users\\samue\\AppData\\Local\\uv\\cache\\archive-v0\\Lj7vvSFvlp-U62Tn9J8TQ\\Lib\\site-packages\\IPython\\extensions\\deduperreload\\deduperreload.py\", line 533, in maybe_reload_module\n",
      "    new_source_code = f.read()\n",
      "                      ^^^^^^^^\n",
      "  File \"C:\\Users\\samue\\AppData\\Roaming\\uv\\python\\cpython-3.11.11-windows-x86_64-none\\Lib\\encodings\\cp1252.py\", line 23, in decode\n",
      "    return codecs.charmap_decode(input,self.errors,decoding_table)[0]\n",
      "           ^^^^^^^^^^^^^^^^^^^^^^^^^^^^^^^^^^^^^^^^^^^^^^^^^^^^^^^\n",
      "UnicodeDecodeError: 'charmap' codec can't decode byte 0x8f in position 290: character maps to <undefined>\n",
      "]\n"
     ]
    }
   ],
   "source": [
    "with open(\"small_lematbulk.pkl\", \"rb\") as f:\n",
    "    test_lemat = pickle.load(f)"
   ]
  },
  {
   "cell_type": "code",
   "execution_count": 39,
   "id": "1c3bdfda-7203-4d1d-ae9c-753b0ef5861a",
   "metadata": {},
   "outputs": [],
   "source": [
    "test_lemat = test_lemat.rename(columns={'GraphEmbeddings': 'OrbGraphEmbeddings'})"
   ]
  },
  {
   "cell_type": "code",
   "execution_count": 12,
   "id": "4f1a02f1-18e4-46d5-af44-7ad95702b443",
   "metadata": {},
   "outputs": [],
   "source": [
    "test_lemat[\"Structure\"] = struts"
   ]
  },
  {
   "cell_type": "code",
   "execution_count": 40,
   "id": "28bc6b9b-a63c-4ec1-bde9-6a0457f12ebf",
   "metadata": {},
   "outputs": [],
   "source": [
    "test_lemat.to_pickle(\"small_lematbulk.pkl\")"
   ]
  },
  {
   "cell_type": "code",
   "execution_count": 5,
   "id": "c013bc3e-2e91-44ef-ba42-e89c170d96bc",
   "metadata": {},
   "outputs": [
    {
     "name": "stderr",
     "output_type": "stream",
     "text": [
      "C:\\Users\\samue\\AppData\\Local\\Temp\\ipykernel_4248\\905669326.py:1: FutureWarning: PymatgenTest is deprecated, and will be removed on 2026-01-01\n",
      "Use MatSciTest in pymatgen.util.testing instead.\n",
      "  test = PymatgenTest()\n"
     ]
    }
   ],
   "source": [
    "test = PymatgenTest()\n",
    "\n",
    "filename = \"CsBr.cif\"\n",
    "structure = Structure.from_file(filename)\n",
    "structure = structure.remove_oxidation_states()\n",
    "\n",
    "filename2 = \"CsPbBr3.cif\"\n",
    "structure2 = Structure.from_file(filename2)\n",
    "structure2 = structure2.remove_oxidation_states()\n",
    "\n",
    "structures = [\n",
    "    # structure,\n",
    "    # structure2,\n",
    "    test.get_structure(\"Si\"),\n",
    "    test.get_structure(\"LiFePO4\"),\n",
    "]"
   ]
  },
  {
   "cell_type": "code",
   "execution_count": 6,
   "id": "ac803dcc-bef0-482b-bb3c-1e8c25f1b2c0",
   "metadata": {},
   "outputs": [
    {
     "name": "stderr",
     "output_type": "stream",
     "text": [
      "C:\\Users\\samue\\lematerial-forgebench\\.venv\\Lib\\site-packages\\orb_models\\utils.py:30: UserWarning: Setting global torch default dtype to torch.float32.\n",
      "  warnings.warn(f\"Setting global torch default dtype to {torch_dtype}.\")\n"
     ]
    },
    {
     "data": {
      "text/html": [
       "<pre style=\"white-space:pre;overflow-x:auto;line-height:normal;font-family:Menlo,'DejaVu Sans Mono',consolas,'Courier New',monospace\"><span style=\"color: #7fbfbf; text-decoration-color: #7fbfbf\">[11:50:06] </span><span style=\"color: #000080; text-decoration-color: #000080\">INFO    </span> Successfully loaded ORB model: orb_v3_conservative_inf_omat                    <a href=\"file://C:\\Users\\samue\\lematerial-forgebench\\src\\lematerial_forgebench\\models\\orb\\calculator.py\" target=\"_blank\"><span style=\"color: #7f7f7f; text-decoration-color: #7f7f7f\">calculator.py</span></a><span style=\"color: #7f7f7f; text-decoration-color: #7f7f7f\">:</span><a href=\"file://C:\\Users\\samue\\lematerial-forgebench\\src\\lematerial_forgebench\\models\\orb\\calculator.py#59\" target=\"_blank\"><span style=\"color: #7f7f7f; text-decoration-color: #7f7f7f\">59</span></a>\n",
       "</pre>\n"
      ],
      "text/plain": [
       "\u001b[2;36m[11:50:06]\u001b[0m\u001b[2;36m \u001b[0m\u001b[34mINFO    \u001b[0m Successfully loaded ORB model: orb_v3_conservative_inf_omat                    \u001b]8;id=447450;file://C:\\Users\\samue\\lematerial-forgebench\\src\\lematerial_forgebench\\models\\orb\\calculator.py\u001b\\\u001b[2mcalculator.py\u001b[0m\u001b]8;;\u001b\\\u001b[2m:\u001b[0m\u001b]8;id=979700;file://C:\\Users\\samue\\lematerial-forgebench\\src\\lematerial_forgebench\\models\\orb\\calculator.py#59\u001b\\\u001b[2m59\u001b[0m\u001b]8;;\u001b\\\n"
      ]
     },
     "metadata": {},
     "output_type": "display_data"
    }
   ],
   "source": [
    "stability_preprocessor = UniversalStabilityPreprocessor(model_name=\"orb\")\n",
    "stability_preprocessor_result = stability_preprocessor(structures)"
   ]
  },
  {
   "cell_type": "code",
   "execution_count": 9,
   "id": "57cb7f6f-05d5-4d88-be97-46c17a7f0afc",
   "metadata": {},
   "outputs": [
    {
     "data": {
      "text/plain": [
       "UniversalStabilityPreprocessorConfig(name='UniversalStabilityPreprocessor_orb', description='Stability preprocessing using orb', n_jobs=1, model_name='orb', model_config={}, relax_structures=True, relaxation_config={'fmax': 0.02, 'steps': 500}, calculate_formation_energy=True, calculate_energy_above_hull=True, extract_embeddings=True)"
      ]
     },
     "execution_count": 9,
     "metadata": {},
     "output_type": "execute_result"
    }
   ],
   "source": [
    "stability_preprocessor_result.config"
   ]
  },
  {
   "cell_type": "code",
   "execution_count": 10,
   "id": "05989ac4-fde1-409a-a861-193a98a871c9",
   "metadata": {
    "scrolled": true
   },
   "outputs": [
    {
     "data": {
      "text/plain": [
       "{'mlip_model': 'ORBCalculator',\n",
       " 'model_config': 'orb_v3_conservative_inf_omat',\n",
       " 'energy': -10.82815170288086,\n",
       " 'forces': array([[ 1.2829287e-03,  6.0487073e-06,  7.1092043e-04],\n",
       "        [-1.2829287e-03, -6.0496968e-06, -7.1092264e-04]], dtype=float32),\n",
       " 'formation_energy': 0.02191613711914009,\n",
       " 'e_above_hull': np.float64(0.010958068559570044),\n",
       " 'node_embeddings': array([[ 8.81311595e-02,  1.88308999e-01,  1.77247897e-01,\n",
       "         -3.92862037e-02,  5.58909215e-02,  7.27849374e-06,\n",
       "         -1.02837123e-01,  3.98036718e-01, -1.05413198e-01,\n",
       "          3.26188594e-01, -1.70153499e-01,  3.42952132e-01,\n",
       "          5.24205454e-02, -2.35818848e-01,  1.71355739e-01,\n",
       "         -2.59484351e-01, -1.29346829e-03, -8.82879347e-02,\n",
       "          3.65222991e-01, -2.12877154e-01, -1.16113447e-01,\n",
       "         -1.75549239e-02,  2.63406128e-01, -2.71737855e-02,\n",
       "         -8.90087426e-01,  6.56546056e-02, -2.52401512e-02,\n",
       "          9.42403525e-02,  5.95285773e-01, -9.04264450e-02,\n",
       "          2.19623432e-01, -1.81266159e-01,  9.41462517e-02,\n",
       "         -3.26425105e-01, -7.23718256e-02, -2.73088850e-02,\n",
       "          5.06880343e-01,  2.90370792e-01,  4.89166766e-01,\n",
       "         -6.06823146e-01, -8.33737999e-02,  3.19249392e-01,\n",
       "          1.23438764e+00, -2.51368850e-01, -1.90582484e-01,\n",
       "         -6.90776348e-01, -6.86776757e-01, -5.64544685e-02,\n",
       "          1.60852391e-02, -1.14527360e-01, -6.29512370e-01,\n",
       "         -2.45506950e-02, -5.19623995e-01,  2.16334075e-01,\n",
       "         -4.42311704e-01,  2.77517855e-01, -2.32567072e-01,\n",
       "         -4.95582610e-01,  2.78136313e-01,  1.93044037e-01,\n",
       "          2.02322841e-01, -4.94193971e-01,  2.60602295e-01,\n",
       "          2.99992502e-01,  6.39505148e-01,  9.34289992e-02,\n",
       "         -3.69011424e-02, -8.93677473e-02, -1.01623702e+00,\n",
       "         -1.29299998e-01,  2.56355179e-06, -9.23661351e-01,\n",
       "          1.38388798e-02,  1.79881468e-01, -5.98246813e-01,\n",
       "         -3.89492549e-02,  7.56022856e-02, -4.90468740e-01,\n",
       "         -4.88486253e-02,  4.72384870e-01, -3.14794928e-01,\n",
       "          5.38967848e-01, -1.34298518e-01, -1.60873988e-05,\n",
       "         -2.00907707e-01,  8.80958587e-02, -8.71718898e-02,\n",
       "         -1.50177568e-01, -7.46057987e-01,  2.87081271e-01,\n",
       "         -3.65935534e-01,  1.04090527e-01, -2.60836780e-01,\n",
       "          4.08113718e-01, -5.26954651e-01,  4.28324401e-01,\n",
       "         -5.67615679e-08, -5.10449288e-04,  3.72553051e-01,\n",
       "         -3.45020671e-03,  3.62332314e-01,  1.94927424e-01,\n",
       "          2.95109063e-01, -2.95291215e-01, -1.10778749e-01,\n",
       "         -9.85725503e-03, -4.15958494e-01, -1.12488776e-01,\n",
       "         -1.78840905e-01,  1.82763606e-01,  4.85751450e-01,\n",
       "          5.07230937e-01,  3.27461898e-01,  4.76867333e-02,\n",
       "          4.64042187e-01, -5.27775049e-01,  5.24516165e-01,\n",
       "         -6.74200237e-01, -1.00910537e-01, -3.55964992e-04,\n",
       "         -1.33525401e-01, -2.82169998e-01,  1.64778922e-02,\n",
       "          1.44289851e-01,  3.72131228e-01,  5.79156876e-01,\n",
       "          2.78760016e-01, -3.85905325e-01,  5.26939750e-01,\n",
       "         -5.58849156e-01,  4.41966534e-01,  5.14877141e-01,\n",
       "          3.42799164e-02, -1.10808507e-01, -9.40242112e-02,\n",
       "          4.11487848e-01,  3.17063041e-06,  3.74240041e-01,\n",
       "         -3.63159031e-01, -2.27346659e-01,  1.49211466e-01,\n",
       "          9.42822173e-02,  6.33147836e-01,  4.34242398e-01,\n",
       "          2.08495811e-01,  3.94885242e-02, -7.37342518e-03,\n",
       "          2.38581315e-01, -4.60034996e-01, -1.22120446e-05,\n",
       "          3.47577780e-02,  2.47111917e-03,  1.20767169e-01,\n",
       "         -1.32468820e-01,  6.28626764e-01,  3.05534244e-01,\n",
       "          9.97546673e-01,  4.40377414e-01,  1.10519305e-01,\n",
       "          1.92741066e-01,  1.39430493e-01,  3.60984243e-02,\n",
       "          2.31962427e-01,  5.51011026e-01, -4.66849804e-01,\n",
       "          4.60074753e-01,  5.31646729e-01, -5.83744404e-05,\n",
       "         -1.55948818e-01, -1.90693185e-01, -7.22834110e-01,\n",
       "         -4.29394513e-01, -2.18598902e-01, -9.28553753e-03,\n",
       "         -5.92366874e-01, -1.73198819e-01, -8.62478435e-01,\n",
       "          3.78246635e-01,  1.75934702e-01,  6.56714201e-01,\n",
       "         -6.36625290e-02, -9.66851771e-01, -8.15037765e-06,\n",
       "          5.83909787e-02, -4.82510298e-01,  8.14630687e-02,\n",
       "         -1.94123670e-01,  6.44208670e-01,  3.39670122e-01,\n",
       "         -5.34987152e-02, -3.23600054e-01, -3.51983577e-01,\n",
       "          6.03090525e-01,  9.74263102e-02,  1.63558616e-05,\n",
       "          7.30202138e-01, -2.15937525e-01, -2.18645614e-02,\n",
       "          2.09991753e-01,  2.00794980e-01, -6.52544320e-01,\n",
       "          8.62223208e-02, -1.83156401e-01, -1.69040173e-01,\n",
       "          1.52011961e-01, -3.01935732e-01,  3.03961873e-01,\n",
       "         -2.93799520e-01, -2.64184743e-01,  8.15415382e-03,\n",
       "         -3.01501956e-02,  4.54016268e-01, -1.68114349e-01,\n",
       "         -3.90133440e-01, -4.08491552e-01,  4.79443930e-02,\n",
       "          2.60590672e-01,  4.16845798e-01,  2.02767551e-01,\n",
       "          1.85895264e-01, -6.32336587e-02, -1.99752629e-01,\n",
       "         -2.62040287e-01, -1.53283566e-01, -2.53455609e-01,\n",
       "          4.82769638e-01,  1.33250073e-01, -7.68243596e-02,\n",
       "         -3.55817735e-01,  4.55338478e-01, -1.02997315e+00,\n",
       "          7.39864632e-02,  1.25668719e-01, -4.21786278e-01,\n",
       "          3.25518250e-01, -1.18270054e-01, -5.57807684e-01,\n",
       "         -2.12496921e-01,  6.76718593e-01,  3.16137910e-01,\n",
       "         -1.27695389e-02, -1.91508844e-01, -3.18122238e-01,\n",
       "         -1.85645431e-01,  6.03998661e-01, -1.11913763e-01,\n",
       "          5.65685059e-06,  1.42008230e-01, -1.30702600e-01,\n",
       "          9.92476463e-01,  5.32840014e-01, -4.21816945e-01,\n",
       "         -4.92452830e-01, -5.90198994e-01,  8.18219905e-06,\n",
       "         -2.18115628e-01],\n",
       "        [ 8.75962451e-02,  1.88460439e-01,  1.76169559e-01,\n",
       "         -4.02959585e-02,  5.46424240e-02,  7.29550538e-06,\n",
       "         -1.03713192e-01,  3.98745030e-01, -1.04780942e-01,\n",
       "          3.26284111e-01, -1.69291198e-01,  3.42864871e-01,\n",
       "          5.46737500e-02, -2.35853270e-01,  1.69880718e-01,\n",
       "         -2.60580271e-01,  1.41304918e-04, -8.77745748e-02,\n",
       "          3.65323961e-01, -2.12372869e-01, -1.15547076e-01,\n",
       "         -1.38819218e-02,  2.63678670e-01, -2.73643341e-02,\n",
       "         -8.89830470e-01,  6.57907128e-02, -2.53703278e-02,\n",
       "          9.67202783e-02,  5.94311297e-01, -9.05871391e-02,\n",
       "          2.19133526e-01, -1.81074053e-01,  9.54009518e-02,\n",
       "         -3.25359762e-01, -7.24105686e-02, -2.82087810e-02,\n",
       "          5.05642176e-01,  2.91321367e-01,  4.89332199e-01,\n",
       "         -6.07776642e-01, -8.15906823e-02,  3.20041686e-01,\n",
       "          1.23534238e+00, -2.50918001e-01, -1.91915527e-01,\n",
       "         -6.91479504e-01, -6.86476231e-01, -5.60366325e-02,\n",
       "          1.59025975e-02, -1.17195591e-01, -6.30655468e-01,\n",
       "         -2.41757389e-02, -5.19784927e-01,  2.16823608e-01,\n",
       "         -4.41677213e-01,  2.75137305e-01, -2.33144626e-01,\n",
       "         -4.94798541e-01,  2.77042121e-01,  1.94903359e-01,\n",
       "          2.02487305e-01, -4.94474292e-01,  2.60495782e-01,\n",
       "          3.00096571e-01,  6.39803529e-01,  9.37639624e-02,\n",
       "         -3.58730368e-02, -9.00234282e-02, -1.01708448e+00,\n",
       "         -1.27161413e-01,  2.57082183e-06, -9.23800468e-01,\n",
       "          1.46564767e-02,  1.79862216e-01, -5.96483052e-01,\n",
       "         -3.89641635e-02,  7.93205723e-02, -4.90499884e-01,\n",
       "         -4.84946556e-02,  4.72431242e-01, -3.15741301e-01,\n",
       "          5.38192391e-01, -1.36010498e-01, -1.61079279e-05,\n",
       "         -2.00506121e-01,  8.72317478e-02, -8.84940401e-02,\n",
       "         -1.50937885e-01, -7.45091558e-01,  2.87207395e-01,\n",
       "         -3.63898098e-01,  1.04637735e-01, -2.62234181e-01,\n",
       "          4.06587780e-01, -5.27736247e-01,  4.28179860e-01,\n",
       "         -5.67402445e-08,  1.16606483e-04,  3.71316522e-01,\n",
       "         -2.80772825e-03,  3.62701684e-01,  1.95072442e-01,\n",
       "          2.97236472e-01, -2.95182288e-01, -1.11862063e-01,\n",
       "         -1.18464148e-02, -4.16506976e-01, -1.11719191e-01,\n",
       "         -1.78709477e-01,  1.82122499e-01,  4.88096237e-01,\n",
       "          5.09220302e-01,  3.27719092e-01,  4.66556326e-02,\n",
       "          4.63468879e-01, -5.27308345e-01,  5.27280331e-01,\n",
       "         -6.74190938e-01, -1.01575755e-01,  1.00646121e-03,\n",
       "         -1.34306550e-01, -2.85128474e-01,  2.01141033e-02,\n",
       "          1.42552570e-01,  3.71528149e-01,  5.78383386e-01,\n",
       "          2.80785501e-01, -3.85108232e-01,  5.27752459e-01,\n",
       "         -5.59562564e-01,  4.42979515e-01,  5.16262949e-01,\n",
       "          3.22800614e-02, -1.11047320e-01, -9.29031223e-02,\n",
       "          4.11616385e-01,  3.18140974e-06,  3.74075383e-01,\n",
       "         -3.62179875e-01, -2.28583083e-01,  1.49032265e-01,\n",
       "          9.26677361e-02,  6.32277429e-01,  4.34302807e-01,\n",
       "          2.08088219e-01,  3.94217074e-02, -1.09235970e-02,\n",
       "          2.38896668e-01, -4.60641325e-01, -1.22456440e-05,\n",
       "          3.46547030e-02,  1.71491131e-03,  1.20750397e-01,\n",
       "         -1.33238018e-01,  6.30852699e-01,  3.06727797e-01,\n",
       "          1.00069356e+00,  4.40089524e-01,  1.09192237e-01,\n",
       "          1.92813978e-01,  1.38256982e-01,  3.60886380e-02,\n",
       "          2.33644083e-01,  5.50611556e-01, -4.66739178e-01,\n",
       "          4.59576756e-01,  5.31359792e-01, -5.84702575e-05,\n",
       "         -1.56900734e-01, -1.90594703e-01, -7.23449171e-01,\n",
       "         -4.27840590e-01, -2.18211025e-01, -6.41377876e-03,\n",
       "         -5.93084574e-01, -1.74230084e-01, -8.61757338e-01,\n",
       "          3.79099131e-01,  1.74460262e-01,  6.56471193e-01,\n",
       "         -6.38539195e-02, -9.65670586e-01, -8.12168309e-06,\n",
       "          5.79855777e-02, -4.82025325e-01,  8.24756026e-02,\n",
       "         -1.94412202e-01,  6.43059194e-01,  3.39831203e-01,\n",
       "         -5.32844067e-02, -3.24707985e-01, -3.51547539e-01,\n",
       "          6.03749812e-01,  9.74245295e-02,  1.64026387e-05,\n",
       "          7.30331838e-01, -2.15442911e-01, -2.16293093e-02,\n",
       "          2.09776342e-01,  1.99919507e-01, -6.51258707e-01,\n",
       "          8.61347169e-02, -1.84247911e-01, -1.66341722e-01,\n",
       "          1.52074367e-01, -3.00622642e-01,  3.07219088e-01,\n",
       "         -2.94525295e-01, -2.64259219e-01,  7.89244473e-03,\n",
       "         -3.01555619e-02,  4.55622107e-01, -1.67135239e-01,\n",
       "         -3.89020801e-01, -4.05785620e-01,  4.78543006e-02,\n",
       "          2.60378420e-01,  4.15096998e-01,  2.02428058e-01,\n",
       "          1.85536310e-01, -6.32382855e-02, -2.01049954e-01,\n",
       "         -2.61547834e-01, -1.51828095e-01, -2.53107846e-01,\n",
       "          4.82702315e-01,  1.31082311e-01, -7.76708350e-02,\n",
       "         -3.54906559e-01,  4.55469251e-01, -1.03012574e+00,\n",
       "          7.40260854e-02,  1.26809642e-01, -4.20383066e-01,\n",
       "          3.27409208e-01, -1.18582152e-01, -5.56916416e-01,\n",
       "         -2.12408170e-01,  6.77329957e-01,  3.16615045e-01,\n",
       "         -1.33900084e-02, -1.91890955e-01, -3.17403108e-01,\n",
       "         -1.84371650e-01,  6.05017066e-01, -1.11277856e-01,\n",
       "          5.66475956e-06,  1.40183061e-01, -1.31569564e-01,\n",
       "          9.94033992e-01,  5.33487022e-01, -4.22841519e-01,\n",
       "         -4.90016162e-01, -5.89520454e-01,  8.19365232e-06,\n",
       "         -2.16589287e-01]], dtype=float32),\n",
       " 'graph_embedding': array([ 8.78636986e-02,  1.88384712e-01,  1.76708728e-01, -3.97910811e-02,\n",
       "         5.52666709e-02,  7.28699979e-06, -1.03275158e-01,  3.98390889e-01,\n",
       "        -1.05097070e-01,  3.26236367e-01, -1.69722348e-01,  3.42908502e-01,\n",
       "         5.35471477e-02, -2.35836059e-01,  1.70618236e-01, -2.60032296e-01,\n",
       "        -5.76081686e-04, -8.80312547e-02,  3.65273476e-01, -2.12625012e-01,\n",
       "        -1.15830258e-01, -1.57184228e-02,  2.63542414e-01, -2.72690598e-02,\n",
       "        -8.89958978e-01,  6.57226592e-02, -2.53052395e-02,  9.54803154e-02,\n",
       "         5.94798565e-01, -9.05067921e-02,  2.19378471e-01, -1.81170106e-01,\n",
       "         9.47736055e-02, -3.25892448e-01, -7.23911971e-02, -2.77588330e-02,\n",
       "         5.06261230e-01,  2.90846080e-01,  4.89249468e-01, -6.07299924e-01,\n",
       "        -8.24822411e-02,  3.19645524e-01,  1.23486495e+00, -2.51143426e-01,\n",
       "        -1.91249013e-01, -6.91127896e-01, -6.86626494e-01, -5.62455505e-02,\n",
       "         1.59939192e-02, -1.15861475e-01, -6.30083919e-01, -2.43632160e-02,\n",
       "        -5.19704461e-01,  2.16578841e-01, -4.41994458e-01,  2.76327580e-01,\n",
       "        -2.32855856e-01, -4.95190561e-01,  2.77589202e-01,  1.93973690e-01,\n",
       "         2.02405065e-01, -4.94334131e-01,  2.60549039e-01,  3.00044537e-01,\n",
       "         6.39654338e-01,  9.35964808e-02, -3.63870896e-02, -8.96955878e-02,\n",
       "        -1.01666069e+00, -1.28230706e-01,  2.56718681e-06, -9.23730910e-01,\n",
       "         1.42476782e-02,  1.79871842e-01, -5.97364902e-01, -3.89567092e-02,\n",
       "         7.74614289e-02, -4.90484297e-01, -4.86716405e-02,  4.72408056e-01,\n",
       "        -3.15268099e-01,  5.38580120e-01, -1.35154516e-01, -1.60976633e-05,\n",
       "        -2.00706914e-01,  8.76637995e-02, -8.78329650e-02, -1.50557727e-01,\n",
       "        -7.45574772e-01,  2.87144333e-01, -3.64916801e-01,  1.04364127e-01,\n",
       "        -2.61535466e-01,  4.07350749e-01, -5.27345419e-01,  4.28252131e-01,\n",
       "        -5.67509062e-08, -1.96921406e-04,  3.71934772e-01, -3.12896748e-03,\n",
       "         3.62516999e-01,  1.94999933e-01,  2.96172768e-01, -2.95236766e-01,\n",
       "        -1.11320406e-01, -1.08518349e-02, -4.16232735e-01, -1.12103984e-01,\n",
       "        -1.78775191e-01,  1.82443053e-01,  4.86923844e-01,  5.08225620e-01,\n",
       "         3.27590495e-01,  4.71711829e-02,  4.63755548e-01, -5.27541697e-01,\n",
       "         5.25898218e-01, -6.74195588e-01, -1.01243146e-01,  3.25248111e-04,\n",
       "        -1.33915976e-01, -2.83649236e-01,  1.82959978e-02,  1.43421203e-01,\n",
       "         3.71829689e-01,  5.78770161e-01,  2.79772758e-01, -3.85506779e-01,\n",
       "         5.27346134e-01, -5.59205890e-01,  4.42473024e-01,  5.15570045e-01,\n",
       "         3.32799889e-02, -1.10927910e-01, -9.34636667e-02,  4.11552131e-01,\n",
       "         3.17602007e-06,  3.74157727e-01, -3.62669468e-01, -2.27964878e-01,\n",
       "         1.49121866e-01,  9.34749767e-02,  6.32712603e-01,  4.34272587e-01,\n",
       "         2.08292007e-01,  3.94551158e-02, -9.14851110e-03,  2.38738984e-01,\n",
       "        -4.60338175e-01, -1.22288438e-05,  3.47062424e-02,  2.09301524e-03,\n",
       "         1.20758787e-01, -1.32853419e-01,  6.29739761e-01,  3.06131005e-01,\n",
       "         9.99120116e-01,  4.40233469e-01,  1.09855771e-01,  1.92777514e-01,\n",
       "         1.38843745e-01,  3.60935330e-02,  2.32803255e-01,  5.50811291e-01,\n",
       "        -4.66794491e-01,  4.59825754e-01,  5.31503260e-01, -5.84223490e-05,\n",
       "        -1.56424776e-01, -1.90643936e-01, -7.23141670e-01, -4.28617537e-01,\n",
       "        -2.18404964e-01, -7.84965791e-03, -5.92725754e-01, -1.73714459e-01,\n",
       "        -8.62117887e-01,  3.78672898e-01,  1.75197482e-01,  6.56592727e-01,\n",
       "        -6.37582242e-02, -9.66261148e-01, -8.13603037e-06,  5.81882782e-02,\n",
       "        -4.82267797e-01,  8.19693357e-02, -1.94267929e-01,  6.43633962e-01,\n",
       "         3.39750648e-01, -5.33915609e-02, -3.24154019e-01, -3.51765573e-01,\n",
       "         6.03420138e-01,  9.74254161e-02,  1.63792502e-05,  7.30266988e-01,\n",
       "        -2.15690225e-01, -2.17469353e-02,  2.09884048e-01,  2.00357243e-01,\n",
       "        -6.51901484e-01,  8.61785188e-02, -1.83702156e-01, -1.67690948e-01,\n",
       "         1.52043164e-01, -3.01279187e-01,  3.05590481e-01, -2.94162393e-01,\n",
       "        -2.64221966e-01,  8.02329928e-03, -3.01528797e-02,  4.54819202e-01,\n",
       "        -1.67624801e-01, -3.89577121e-01, -4.07138586e-01,  4.78993468e-02,\n",
       "         2.60484546e-01,  4.15971398e-01,  2.02597797e-01,  1.85715795e-01,\n",
       "        -6.32359684e-02, -2.00401291e-01, -2.61794060e-01, -1.52555823e-01,\n",
       "        -2.53281713e-01,  4.82735991e-01,  1.32166192e-01, -7.72475973e-02,\n",
       "        -3.55362147e-01,  4.55403864e-01, -1.03004944e+00,  7.40062743e-02,\n",
       "         1.26239181e-01, -4.21084672e-01,  3.26463729e-01, -1.18426099e-01,\n",
       "        -5.57362080e-01, -2.12452546e-01,  6.77024245e-01,  3.16376477e-01,\n",
       "        -1.30797736e-02, -1.91699892e-01, -3.17762673e-01, -1.85008541e-01,\n",
       "         6.04507864e-01, -1.11595809e-01,  5.66080507e-06,  1.41095638e-01,\n",
       "        -1.31136090e-01,  9.93255258e-01,  5.33163548e-01, -4.22329247e-01,\n",
       "        -4.91234481e-01, -5.89859724e-01,  8.18792614e-06, -2.17352450e-01],\n",
       "       dtype=float32),\n",
       " 'relaxed_structure': Structure Summary\n",
       " Lattice\n",
       "     abc : 3.8637167674933766 3.863601643195127 3.863818755309863\n",
       "  angles : 120.001143535067 89.99740629306103 60.00234095378952\n",
       "  volume : 40.7847122433572\n",
       "       A : np.float64(3.863716765765361) np.float64(-0.0001121623898328085) np.float64(2.779786893304212e-05)\n",
       "       B : np.float64(1.9317612469949075) np.float64(3.346000019938581) np.float64(-9.208572255836988e-05)\n",
       "       C : np.float64(8.74533811347768e-05) np.float64(-2.2308023481912818) np.float64(3.154776735292123)\n",
       "     pbc : True True True\n",
       " PeriodicSite: Si (6.404e-05, 9.138e-06, 2.577e-05) [1.249e-05, 8.178e-06, 8.169e-06]\n",
       " PeriodicSite: Si (3.864, -0.000195, 2.366) [0.75, 0.5, 0.75],\n",
       " 'relaxation_rmse': np.float64(0.019472072834955164),\n",
       " 'relaxation_energy': -10.830991744995117,\n",
       " 'relaxation_steps': 9,\n",
       " 'relaxed_formation_energy': 0.019076095004882276,\n",
       " 'relaxed_e_above_hull': np.float64(0.009538047502441138)}"
      ]
     },
     "execution_count": 10,
     "metadata": {},
     "output_type": "execute_result"
    }
   ],
   "source": [
    "stability_preprocessor_result.processed_structures[0].properties"
   ]
  },
  {
   "cell_type": "code",
   "execution_count": null,
   "id": "6606c3ab-9b8e-4c81-a3f9-cbd196ac5d9e",
   "metadata": {},
   "outputs": [],
   "source": []
  },
  {
   "cell_type": "code",
   "execution_count": null,
   "id": "7b142c1e-99f5-4812-aaf1-9a2635f40340",
   "metadata": {},
   "outputs": [],
   "source": []
  },
  {
   "cell_type": "code",
   "execution_count": null,
   "id": "34788146-d26c-404f-abc4-f40ecd92dbc3",
   "metadata": {},
   "outputs": [],
   "source": []
  },
  {
   "cell_type": "code",
   "execution_count": 4,
   "id": "156a7ef5-e054-45f5-a407-619d8350264c",
   "metadata": {},
   "outputs": [],
   "source": [
    "distribution_preprocessor = DistributionPreprocessor()\n",
    "preprocessor_result = distribution_preprocessor(structures)"
   ]
  },
  {
   "cell_type": "code",
   "execution_count": 5,
   "id": "eee3ccd0-1535-4a85-9b20-68023d4265d6",
   "metadata": {},
   "outputs": [
    {
     "data": {
      "text/plain": [
       "{'Volume': 392.55602810984936,\n",
       " 'Density(g/cm^3)': 3.600794626101272,\n",
       " 'Density(atoms/A^3)': 0.020379256531914348,\n",
       " 'SpaceGroup': 225,\n",
       " 'CrystalSystem': 7,\n",
       " 'CompositionCounts': array([0., 0., 0., 0., 0., 0., 0., 0., 0., 0., 0., 0., 0., 0., 0., 0., 0.,\n",
       "        0., 0., 0., 0., 0., 0., 0., 0., 0., 0., 0., 0., 0., 0., 0., 0., 0.,\n",
       "        4., 0., 0., 0., 0., 0., 0., 0., 0., 0., 0., 0., 0., 0., 0., 0., 0.,\n",
       "        0., 0., 0., 4., 0., 0., 0., 0., 0., 0., 0., 0., 0., 0., 0., 0., 0.,\n",
       "        0., 0., 0., 0., 0., 0., 0., 0., 0., 0., 0., 0., 0., 0., 0., 0., 0.,\n",
       "        0., 0., 0., 0., 0., 0., 0., 0., 0., 0., 0., 0., 0., 0., 0., 0., 0.,\n",
       "        0., 0., 0., 0., 0., 0., 0., 0., 0., 0., 0., 0., 0., 0., 0., 0.]),\n",
       " 'Composition': array([0., 0., 0., 0., 0., 0., 0., 0., 0., 0., 0., 0., 0., 0., 0., 0., 0.,\n",
       "        0., 0., 0., 0., 0., 0., 0., 0., 0., 0., 0., 0., 0., 0., 0., 0., 0.,\n",
       "        1., 0., 0., 0., 0., 0., 0., 0., 0., 0., 0., 0., 0., 0., 0., 0., 0.,\n",
       "        0., 0., 0., 1., 0., 0., 0., 0., 0., 0., 0., 0., 0., 0., 0., 0., 0.,\n",
       "        0., 0., 0., 0., 0., 0., 0., 0., 0., 0., 0., 0., 0., 0., 0., 0., 0.,\n",
       "        0., 0., 0., 0., 0., 0., 0., 0., 0., 0., 0., 0., 0., 0., 0., 0., 0.,\n",
       "        0., 0., 0., 0., 0., 0., 0., 0., 0., 0., 0., 0., 0., 0., 0., 0.])}"
      ]
     },
     "execution_count": 5,
     "metadata": {},
     "output_type": "execute_result"
    }
   ],
   "source": [
    "preprocessor_result.processed_structures[0].properties.get(\"distribution_properties\")"
   ]
  },
  {
   "cell_type": "code",
   "execution_count": 8,
   "id": "e5c08cf8-3f57-4a71-813b-d7229d78e542",
   "metadata": {},
   "outputs": [
    {
     "name": "stderr",
     "output_type": "stream",
     "text": [
      "[autoreload of lematerial_forgebench.metrics.distribution_metrics failed: Traceback (most recent call last):\n",
      "  File \"C:\\Users\\samue\\AppData\\Local\\uv\\cache\\archive-v0\\Lj7vvSFvlp-U62Tn9J8TQ\\Lib\\site-packages\\IPython\\extensions\\autoreload.py\", line 280, in check\n",
      "    elif self.deduper_reloader.maybe_reload_module(m):\n",
      "         ^^^^^^^^^^^^^^^^^^^^^^^^^^^^^^^^^^^^^^^^^^^^\n",
      "  File \"C:\\Users\\samue\\AppData\\Local\\uv\\cache\\archive-v0\\Lj7vvSFvlp-U62Tn9J8TQ\\Lib\\site-packages\\IPython\\extensions\\deduperreload\\deduperreload.py\", line 533, in maybe_reload_module\n",
      "    new_source_code = f.read()\n",
      "                      ^^^^^^^^\n",
      "  File \"C:\\Users\\samue\\AppData\\Roaming\\uv\\python\\cpython-3.11.11-windows-x86_64-none\\Lib\\encodings\\cp1252.py\", line 23, in decode\n",
      "    return codecs.charmap_decode(input,self.errors,decoding_table)[0]\n",
      "           ^^^^^^^^^^^^^^^^^^^^^^^^^^^^^^^^^^^^^^^^^^^^^^^^^^^^^^^\n",
      "UnicodeDecodeError: 'charmap' codec can't decode byte 0x8f in position 290: character maps to <undefined>\n",
      "]\n"
     ]
    }
   ],
   "source": [
    "metric = FrechetDistance(reference_df=test_lemat)"
   ]
  },
  {
   "cell_type": "code",
   "execution_count": 7,
   "id": "63c8e6d8-9039-42d8-b227-3789d5297e73",
   "metadata": {},
   "outputs": [
    {
     "name": "stdout",
     "output_type": "stream",
     "text": [
      "       Volume  Density(g/cm^3)  Density(atoms/A^3)  SpaceGroup  CrystalSystem  \\\n",
      "0  392.556028         3.600795            0.020379         225              7   \n",
      "1  769.207176         5.006763            0.026001          62              3   \n",
      "2   40.044795         2.329245            0.049944         227              7   \n",
      "3  299.607968         3.497400            0.093455          14              2   \n",
      "\n",
      "                                   CompositionCounts  \\\n",
      "0  [0.0, 0.0, 0.0, 0.0, 0.0, 0.0, 0.0, 0.0, 0.0, ...   \n",
      "1  [0.0, 0.0, 0.0, 0.0, 0.0, 0.0, 0.0, 0.0, 0.0, ...   \n",
      "2  [0.0, 0.0, 0.0, 0.0, 0.0, 0.0, 0.0, 0.0, 0.0, ...   \n",
      "3  [0.0, 0.0, 4.0, 0.0, 0.0, 0.0, 0.0, 16.0, 0.0,...   \n",
      "\n",
      "                                         Composition  \n",
      "0  [0.0, 0.0, 0.0, 0.0, 0.0, 0.0, 0.0, 0.0, 0.0, ...  \n",
      "1  [0.0, 0.0, 0.0, 0.0, 0.0, 0.0, 0.0, 0.0, 0.0, ...  \n",
      "2  [0.0, 0.0, 0.0, 0.0, 0.0, 0.0, 0.0, 0.0, 0.0, ...  \n",
      "3  [0.0, 0.0, 1.0, 0.0, 0.0, 0.0, 0.0, 1.0, 0.0, ...  \n"
     ]
    },
    {
     "ename": "NameError",
     "evalue": "name 'reference_df' is not defined",
     "output_type": "error",
     "traceback": [
      "\u001b[31m---------------------------------------------------------------------------\u001b[39m",
      "\u001b[31mNameError\u001b[39m                                 Traceback (most recent call last)",
      "\u001b[36mCell\u001b[39m\u001b[36m \u001b[39m\u001b[32mIn[7]\u001b[39m\u001b[32m, line 1\u001b[39m\n\u001b[32m----> \u001b[39m\u001b[32m1\u001b[39m \u001b[43mmetric\u001b[49m\u001b[43m.\u001b[49m\u001b[43mcompute\u001b[49m\u001b[43m(\u001b[49m\u001b[43mpreprocessor_result\u001b[49m\u001b[43m.\u001b[49m\u001b[43mprocessed_structures\u001b[49m\u001b[43m)\u001b[49m\n",
      "\u001b[36mFile \u001b[39m\u001b[32m~\\lematerial-forgebench\\src\\lematerial_forgebench\\metrics\\distribution_metrics.py:421\u001b[39m, in \u001b[36mFrechetDistance.compute\u001b[39m\u001b[34m(self, structures, **compute_args)\u001b[39m\n\u001b[32m    419\u001b[39m \u001b[38;5;28mprint\u001b[39m(df_all_properties)\n\u001b[32m    420\u001b[39m \u001b[38;5;66;03m# reference_df = compute_args.get(\"reference_df\")\u001b[39;00m\n\u001b[32m--> \u001b[39m\u001b[32m421\u001b[39m \u001b[38;5;28mprint\u001b[39m(\u001b[43mreference_df\u001b[49m)\n\u001b[32m    422\u001b[39m \u001b[38;5;28mprint\u001b[39m(\u001b[33m\"\u001b[39m\u001b[33mreference_df\u001b[39m\u001b[33m\"\u001b[39m)\n\u001b[32m    424\u001b[39m \u001b[38;5;28;01mif\u001b[39;00m reference_df \u001b[38;5;129;01mis\u001b[39;00m \u001b[38;5;28;01mNone\u001b[39;00m:\n",
      "\u001b[31mNameError\u001b[39m: name 'reference_df' is not defined"
     ]
    }
   ],
   "source": [
    "metric.compute(preprocessor_result.processed_structures)"
   ]
  },
  {
   "cell_type": "code",
   "execution_count": 8,
   "id": "2c0ccaf7-e94d-4372-9518-262e964072f2",
   "metadata": {},
   "outputs": [],
   "source": [
    "benchmark = DistributionBenchmark(test_lemat)"
   ]
  },
  {
   "cell_type": "code",
   "execution_count": 11,
   "id": "ab57bdfc-c85a-4d08-afb7-513b7286fd93",
   "metadata": {},
   "outputs": [
    {
     "data": {
      "text/html": [
       "<pre style=\"white-space:pre;overflow-x:auto;line-height:normal;font-family:Menlo,'DejaVu Sans Mono',consolas,'Courier New',monospace\"><span style=\"color: #7fbfbf; text-decoration-color: #7fbfbf\">[13:42:23] </span><span style=\"color: #808000; text-decoration-color: #808000\">WARNING </span> Failed to compute metric for structure <span style=\"color: #008080; text-decoration-color: #008080; font-weight: bold\">0</span>                                            <a href=\"file://C:\\Users\\samue\\lematerial-forgebench\\src\\lematerial_forgebench\\metrics\\base.py\" target=\"_blank\"><span style=\"color: #7f7f7f; text-decoration-color: #7f7f7f\">base.py</span></a><span style=\"color: #7f7f7f; text-decoration-color: #7f7f7f\">:</span><a href=\"file://C:\\Users\\samue\\lematerial-forgebench\\src\\lematerial_forgebench\\metrics\\base.py#349\" target=\"_blank\"><span style=\"color: #7f7f7f; text-decoration-color: #7f7f7f\">349</span></a>\n",
       "<span style=\"color: #7fbfbf; text-decoration-color: #7fbfbf\">           </span>         <span style=\"color: #800000; text-decoration-color: #800000\">╭─────────────────────── </span><span style=\"color: #800000; text-decoration-color: #800000; font-weight: bold\">Traceback </span><span style=\"color: #bf7f7f; text-decoration-color: #bf7f7f; font-weight: bold\">(most recent call last)</span><span style=\"color: #800000; text-decoration-color: #800000\"> ───────────────────────╮</span> <span style=\"color: #7f7f7f; text-decoration-color: #7f7f7f\">           </span>\n",
       "<span style=\"color: #7fbfbf; text-decoration-color: #7fbfbf\">           </span>         <span style=\"color: #800000; text-decoration-color: #800000\">│</span> <span style=\"color: #808000; text-decoration-color: #808000\">C:\\Users\\samue\\lematerial-forgebench\\src\\lematerial_forgebench\\metrics\\base.py</span>: <span style=\"color: #800000; text-decoration-color: #800000\">│</span> <span style=\"color: #7f7f7f; text-decoration-color: #7f7f7f\">           </span>\n",
       "<span style=\"color: #7fbfbf; text-decoration-color: #7fbfbf\">           </span>         <span style=\"color: #800000; text-decoration-color: #800000\">│</span> <span style=\"color: #0000ff; text-decoration-color: #0000ff\">341</span> in <span style=\"color: #00ff00; text-decoration-color: #00ff00\">compute</span>                                                                  <span style=\"color: #800000; text-decoration-color: #800000\">│</span> <span style=\"color: #7f7f7f; text-decoration-color: #7f7f7f\">           </span>\n",
       "<span style=\"color: #7fbfbf; text-decoration-color: #7fbfbf\">           </span>         <span style=\"color: #800000; text-decoration-color: #800000\">│</span>                                                                                 <span style=\"color: #800000; text-decoration-color: #800000\">│</span> <span style=\"color: #7f7f7f; text-decoration-color: #7f7f7f\">           </span>\n",
       "<span style=\"color: #7fbfbf; text-decoration-color: #7fbfbf\">           </span>         <span style=\"color: #800000; text-decoration-color: #800000\">│</span>   <span style=\"color: #7f7f7f; text-decoration-color: #7f7f7f\">338 </span><span style=\"color: #7f7f7f; text-decoration-color: #7f7f7f\">│   │   │   │   </span><span style=\"color: #7f7f7f; text-decoration-color: #7f7f7f\"># Serial computation</span>                                      <span style=\"color: #800000; text-decoration-color: #800000\">│</span> <span style=\"color: #7f7f7f; text-decoration-color: #7f7f7f\">           </span>\n",
       "<span style=\"color: #7fbfbf; text-decoration-color: #7fbfbf\">           </span>         <span style=\"color: #800000; text-decoration-color: #800000\">│</span>   <span style=\"color: #7f7f7f; text-decoration-color: #7f7f7f\">339 </span><span style=\"color: #7f7f7f; text-decoration-color: #7f7f7f\">│   │   │   │   </span><span style=\"color: #0000ff; text-decoration-color: #0000ff\">for</span> idx, structure <span style=\"color: #ff00ff; text-decoration-color: #ff00ff\">in</span> <span style=\"color: #00ffff; text-decoration-color: #00ffff\">enumerate</span>(structures):              <span style=\"color: #800000; text-decoration-color: #800000\">│</span> <span style=\"color: #7f7f7f; text-decoration-color: #7f7f7f\">           </span>\n",
       "<span style=\"color: #7fbfbf; text-decoration-color: #7fbfbf\">           </span>         <span style=\"color: #800000; text-decoration-color: #800000\">│</span>   <span style=\"color: #7f7f7f; text-decoration-color: #7f7f7f\">340 </span><span style=\"color: #7f7f7f; text-decoration-color: #7f7f7f\">│   │   │   │   │   </span><span style=\"color: #0000ff; text-decoration-color: #0000ff\">try</span>:                                                  <span style=\"color: #800000; text-decoration-color: #800000\">│</span> <span style=\"color: #7f7f7f; text-decoration-color: #7f7f7f\">           </span>\n",
       "<span style=\"color: #7fbfbf; text-decoration-color: #7fbfbf\">           </span>         <span style=\"color: #800000; text-decoration-color: #800000\">│</span> <span style=\"color: #800000; text-decoration-color: #800000\">❱ </span>341 <span style=\"color: #7f7f7f; text-decoration-color: #7f7f7f\">│   │   │   │   │   │   </span>value = <span style=\"color: #00ffff; text-decoration-color: #00ffff\">self</span>.compute_structure(structure, **compu <span style=\"color: #800000; text-decoration-color: #800000\">│</span> <span style=\"color: #7f7f7f; text-decoration-color: #7f7f7f\">           </span>\n",
       "<span style=\"color: #7fbfbf; text-decoration-color: #7fbfbf\">           </span>         <span style=\"color: #800000; text-decoration-color: #800000\">│</span>   <span style=\"color: #7f7f7f; text-decoration-color: #7f7f7f\">342 </span><span style=\"color: #7f7f7f; text-decoration-color: #7f7f7f\">│   │   │   │   │   │   </span>values.append(value)                              <span style=\"color: #800000; text-decoration-color: #800000\">│</span> <span style=\"color: #7f7f7f; text-decoration-color: #7f7f7f\">           </span>\n",
       "<span style=\"color: #7fbfbf; text-decoration-color: #7fbfbf\">           </span>         <span style=\"color: #800000; text-decoration-color: #800000\">│</span>   <span style=\"color: #7f7f7f; text-decoration-color: #7f7f7f\">343 </span><span style=\"color: #7f7f7f; text-decoration-color: #7f7f7f\">│   │   │   │   │   </span><span style=\"color: #0000ff; text-decoration-color: #0000ff\">except</span> <span style=\"color: #00ffff; text-decoration-color: #00ffff\">Exception</span> <span style=\"color: #0000ff; text-decoration-color: #0000ff\">as</span> e:                                <span style=\"color: #800000; text-decoration-color: #800000\">│</span> <span style=\"color: #7f7f7f; text-decoration-color: #7f7f7f\">           </span>\n",
       "<span style=\"color: #7fbfbf; text-decoration-color: #7fbfbf\">           </span>         <span style=\"color: #800000; text-decoration-color: #800000\">│</span>   <span style=\"color: #7f7f7f; text-decoration-color: #7f7f7f\">344 </span><span style=\"color: #7f7f7f; text-decoration-color: #7f7f7f\">│   │   │   │   │   │   </span>failed_indices.append(idx)                        <span style=\"color: #800000; text-decoration-color: #800000\">│</span> <span style=\"color: #7f7f7f; text-decoration-color: #7f7f7f\">           </span>\n",
       "<span style=\"color: #7fbfbf; text-decoration-color: #7fbfbf\">           </span>         <span style=\"color: #800000; text-decoration-color: #800000\">│</span>                                                                                 <span style=\"color: #800000; text-decoration-color: #800000\">│</span> <span style=\"color: #7f7f7f; text-decoration-color: #7f7f7f\">           </span>\n",
       "<span style=\"color: #7fbfbf; text-decoration-color: #7fbfbf\">           </span>         <span style=\"color: #800000; text-decoration-color: #800000\">│</span> <span style=\"color: #808000; text-decoration-color: #808000\">C:\\Users\\samue\\lematerial-forgebench\\src\\lematerial_forgebench\\metrics\\distribu</span> <span style=\"color: #800000; text-decoration-color: #800000\">│</span> <span style=\"color: #7f7f7f; text-decoration-color: #7f7f7f\">           </span>\n",
       "<span style=\"color: #7fbfbf; text-decoration-color: #7fbfbf\">           </span>         <span style=\"color: #800000; text-decoration-color: #800000\">│</span> <span style=\"color: #808000; text-decoration-color: #808000\">tion_metrics.py</span>:<span style=\"color: #0000ff; text-decoration-color: #0000ff\">134</span> in <span style=\"color: #00ff00; text-decoration-color: #00ff00\">compute_structure</span>                                        <span style=\"color: #800000; text-decoration-color: #800000\">│</span> <span style=\"color: #7f7f7f; text-decoration-color: #7f7f7f\">           </span>\n",
       "<span style=\"color: #7fbfbf; text-decoration-color: #7fbfbf\">           </span>         <span style=\"color: #800000; text-decoration-color: #800000\">│</span>                                                                                 <span style=\"color: #800000; text-decoration-color: #800000\">│</span> <span style=\"color: #7f7f7f; text-decoration-color: #7f7f7f\">           </span>\n",
       "<span style=\"color: #7fbfbf; text-decoration-color: #7fbfbf\">           </span>         <span style=\"color: #800000; text-decoration-color: #800000\">│</span>   <span style=\"color: #7f7f7f; text-decoration-color: #7f7f7f\">131 </span><span style=\"color: #7f7f7f; text-decoration-color: #7f7f7f\">│   │   │   │   │   </span>dist_metrics[quant] = js                              <span style=\"color: #800000; text-decoration-color: #800000\">│</span> <span style=\"color: #7f7f7f; text-decoration-color: #7f7f7f\">           </span>\n",
       "<span style=\"color: #7fbfbf; text-decoration-color: #7fbfbf\">           </span>         <span style=\"color: #800000; text-decoration-color: #800000\">│</span>   <span style=\"color: #7f7f7f; text-decoration-color: #7f7f7f\">132 </span><span style=\"color: #7f7f7f; text-decoration-color: #7f7f7f\">│   │   </span>                                                                  <span style=\"color: #800000; text-decoration-color: #800000\">│</span> <span style=\"color: #7f7f7f; text-decoration-color: #7f7f7f\">           </span>\n",
       "<span style=\"color: #7fbfbf; text-decoration-color: #7fbfbf\">           </span>         <span style=\"color: #800000; text-decoration-color: #800000\">│</span>   <span style=\"color: #7f7f7f; text-decoration-color: #7f7f7f\">133 </span><span style=\"color: #7f7f7f; text-decoration-color: #7f7f7f\">│   │   </span><span style=\"color: #0000ff; text-decoration-color: #0000ff\">for</span> quant <span style=\"color: #ff00ff; text-decoration-color: #ff00ff\">in</span> [<span style=\"color: #808000; text-decoration-color: #808000\">\"CompositionCounts\"</span>, <span style=\"color: #808000; text-decoration-color: #808000\">\"Composition\"</span>]:                <span style=\"color: #800000; text-decoration-color: #800000\">│</span> <span style=\"color: #7f7f7f; text-decoration-color: #7f7f7f\">           </span>\n",
       "<span style=\"color: #7fbfbf; text-decoration-color: #7fbfbf\">           </span>         <span style=\"color: #800000; text-decoration-color: #800000\">│</span> <span style=\"color: #800000; text-decoration-color: #800000\">❱ </span>134 <span style=\"color: #7f7f7f; text-decoration-color: #7f7f7f\">│   │   │   </span>js = compute_jensen_shannon_distance(                         <span style=\"color: #800000; text-decoration-color: #800000\">│</span> <span style=\"color: #7f7f7f; text-decoration-color: #7f7f7f\">           </span>\n",
       "<span style=\"color: #7fbfbf; text-decoration-color: #7fbfbf\">           </span>         <span style=\"color: #800000; text-decoration-color: #800000\">│</span>   <span style=\"color: #7f7f7f; text-decoration-color: #7f7f7f\">135 </span><span style=\"color: #7f7f7f; text-decoration-color: #7f7f7f\">│   │   │   │   </span>reference_df,                                             <span style=\"color: #800000; text-decoration-color: #800000\">│</span> <span style=\"color: #7f7f7f; text-decoration-color: #7f7f7f\">           </span>\n",
       "<span style=\"color: #7fbfbf; text-decoration-color: #7fbfbf\">           </span>         <span style=\"color: #800000; text-decoration-color: #800000\">│</span>   <span style=\"color: #7f7f7f; text-decoration-color: #7f7f7f\">136 </span><span style=\"color: #7f7f7f; text-decoration-color: #7f7f7f\">│   │   │   │   </span>structure,                                                <span style=\"color: #800000; text-decoration-color: #800000\">│</span> <span style=\"color: #7f7f7f; text-decoration-color: #7f7f7f\">           </span>\n",
       "<span style=\"color: #7fbfbf; text-decoration-color: #7fbfbf\">           </span>         <span style=\"color: #800000; text-decoration-color: #800000\">│</span>   <span style=\"color: #7f7f7f; text-decoration-color: #7f7f7f\">137 </span><span style=\"color: #7f7f7f; text-decoration-color: #7f7f7f\">│   │   │   │   </span>quant,                                                    <span style=\"color: #800000; text-decoration-color: #800000\">│</span> <span style=\"color: #7f7f7f; text-decoration-color: #7f7f7f\">           </span>\n",
       "<span style=\"color: #7fbfbf; text-decoration-color: #7fbfbf\">           </span>         <span style=\"color: #800000; text-decoration-color: #800000\">│</span>                                                                                 <span style=\"color: #800000; text-decoration-color: #800000\">│</span> <span style=\"color: #7f7f7f; text-decoration-color: #7f7f7f\">           </span>\n",
       "<span style=\"color: #7fbfbf; text-decoration-color: #7fbfbf\">           </span>         <span style=\"color: #800000; text-decoration-color: #800000\">│</span> <span style=\"color: #808000; text-decoration-color: #808000\">C:\\Users\\samue\\lematerial-forgebench\\src\\lematerial_forgebench\\utils\\distributi</span> <span style=\"color: #800000; text-decoration-color: #800000\">│</span> <span style=\"color: #7f7f7f; text-decoration-color: #7f7f7f\">           </span>\n",
       "<span style=\"color: #7fbfbf; text-decoration-color: #7fbfbf\">           </span>         <span style=\"color: #800000; text-decoration-color: #800000\">│</span> <span style=\"color: #808000; text-decoration-color: #808000\">on_utils.py</span>:<span style=\"color: #0000ff; text-decoration-color: #0000ff\">118</span> in <span style=\"color: #00ff00; text-decoration-color: #00ff00\">compute_jensen_shannon_distance</span>                              <span style=\"color: #800000; text-decoration-color: #800000\">│</span> <span style=\"color: #7f7f7f; text-decoration-color: #7f7f7f\">           </span>\n",
       "<span style=\"color: #7fbfbf; text-decoration-color: #7fbfbf\">           </span>         <span style=\"color: #800000; text-decoration-color: #800000\">│</span>                                                                                 <span style=\"color: #800000; text-decoration-color: #800000\">│</span> <span style=\"color: #7f7f7f; text-decoration-color: #7f7f7f\">           </span>\n",
       "<span style=\"color: #7fbfbf; text-decoration-color: #7fbfbf\">           </span>         <span style=\"color: #800000; text-decoration-color: #800000\">│</span>   <span style=\"color: #7f7f7f; text-decoration-color: #7f7f7f\">115 </span><span style=\"color: #7f7f7f; text-decoration-color: #7f7f7f\">│   │   </span>)                                                                 <span style=\"color: #800000; text-decoration-color: #800000\">│</span> <span style=\"color: #7f7f7f; text-decoration-color: #7f7f7f\">           </span>\n",
       "<span style=\"color: #7fbfbf; text-decoration-color: #7fbfbf\">           </span>         <span style=\"color: #800000; text-decoration-color: #800000\">│</span>   <span style=\"color: #7f7f7f; text-decoration-color: #7f7f7f\">116 </span><span style=\"color: #7f7f7f; text-decoration-color: #7f7f7f\">│   </span>                                                                      <span style=\"color: #800000; text-decoration-color: #800000\">│</span> <span style=\"color: #7f7f7f; text-decoration-color: #7f7f7f\">           </span>\n",
       "<span style=\"color: #7fbfbf; text-decoration-color: #7fbfbf\">           </span>         <span style=\"color: #800000; text-decoration-color: #800000\">│</span>   <span style=\"color: #7f7f7f; text-decoration-color: #7f7f7f\">117 </span><span style=\"color: #7f7f7f; text-decoration-color: #7f7f7f\">│   </span><span style=\"color: #0000ff; text-decoration-color: #0000ff\">elif</span> crystal_param == <span style=\"color: #808000; text-decoration-color: #808000\">\"CompositionCounts\"</span>:                            <span style=\"color: #800000; text-decoration-color: #800000\">│</span> <span style=\"color: #7f7f7f; text-decoration-color: #7f7f7f\">           </span>\n",
       "<span style=\"color: #7fbfbf; text-decoration-color: #7fbfbf\">           </span>         <span style=\"color: #800000; text-decoration-color: #800000\">│</span> <span style=\"color: #800000; text-decoration-color: #800000\">❱ </span>118 <span style=\"color: #7f7f7f; text-decoration-color: #7f7f7f\">│   │   </span><span style=\"color: #0000ff; text-decoration-color: #0000ff\">with</span> <span style=\"color: #00ffff; text-decoration-color: #00ffff; font-weight: bold; text-decoration: underline\">open</span><span style=\"font-weight: bold; text-decoration: underline\">(</span><span style=\"color: #808000; text-decoration-color: #808000; font-weight: bold; text-decoration: underline\">\"data/lematbulk_composition_counts_distribution.json\"</span><span style=\"font-weight: bold; text-decoration: underline\">, </span> <span style=\"color: #800000; text-decoration-color: #800000\">│</span> <span style=\"color: #7f7f7f; text-decoration-color: #7f7f7f\">           </span>\n",
       "<span style=\"color: #7fbfbf; text-decoration-color: #7fbfbf\">           </span>         <span style=\"color: #800000; text-decoration-color: #800000\">│</span>   <span style=\"color: #7f7f7f; text-decoration-color: #7f7f7f\">119 </span><span style=\"color: #7f7f7f; text-decoration-color: #7f7f7f\">│   │   │   </span>reference_data_dist = json.load(file)                         <span style=\"color: #800000; text-decoration-color: #800000\">│</span> <span style=\"color: #7f7f7f; text-decoration-color: #7f7f7f\">           </span>\n",
       "<span style=\"color: #7fbfbf; text-decoration-color: #7fbfbf\">           </span>         <span style=\"color: #800000; text-decoration-color: #800000\">│</span>   <span style=\"color: #7f7f7f; text-decoration-color: #7f7f7f\">120 </span><span style=\"color: #7f7f7f; text-decoration-color: #7f7f7f\">│   </span><span style=\"color: #0000ff; text-decoration-color: #0000ff\">elif</span> crystal_param == <span style=\"color: #808000; text-decoration-color: #808000\">\"Composition\"</span>:                                  <span style=\"color: #800000; text-decoration-color: #800000\">│</span> <span style=\"color: #7f7f7f; text-decoration-color: #7f7f7f\">           </span>\n",
       "<span style=\"color: #7fbfbf; text-decoration-color: #7fbfbf\">           </span>         <span style=\"color: #800000; text-decoration-color: #800000\">│</span>   <span style=\"color: #7f7f7f; text-decoration-color: #7f7f7f\">121 </span><span style=\"color: #7f7f7f; text-decoration-color: #7f7f7f\">│   │   </span><span style=\"color: #0000ff; text-decoration-color: #0000ff\">with</span> <span style=\"color: #00ffff; text-decoration-color: #00ffff\">open</span>(<span style=\"color: #808000; text-decoration-color: #808000\">\"data/lematbulk_composition_distribution.json\"</span>, <span style=\"color: #808000; text-decoration-color: #808000\">\"r\"</span>) <span style=\"color: #0000ff; text-decoration-color: #0000ff\">as</span> <span style=\"color: #800000; text-decoration-color: #800000\">│</span> <span style=\"color: #7f7f7f; text-decoration-color: #7f7f7f\">           </span>\n",
       "<span style=\"color: #7fbfbf; text-decoration-color: #7fbfbf\">           </span>         <span style=\"color: #800000; text-decoration-color: #800000\">╰─────────────────────────────────────────────────────────────────────────────────╯</span> <span style=\"color: #7f7f7f; text-decoration-color: #7f7f7f\">           </span>\n",
       "<span style=\"color: #7fbfbf; text-decoration-color: #7fbfbf\">           </span>         <span style=\"color: #ff0000; text-decoration-color: #ff0000; font-weight: bold\">FileNotFoundError: </span><span style=\"font-weight: bold\">[</span>Errno <span style=\"color: #008080; text-decoration-color: #008080; font-weight: bold\">2</span><span style=\"font-weight: bold\">]</span> No such file or directory:                             <span style=\"color: #7f7f7f; text-decoration-color: #7f7f7f\">           </span>\n",
       "<span style=\"color: #7fbfbf; text-decoration-color: #7fbfbf\">           </span>         <span style=\"color: #008000; text-decoration-color: #008000\">'data/lematbulk_composition_counts_distribution.json'</span>                               <span style=\"color: #7f7f7f; text-decoration-color: #7f7f7f\">           </span>\n",
       "</pre>\n"
      ],
      "text/plain": [
       "\u001b[2;36m[13:42:23]\u001b[0m\u001b[2;36m \u001b[0m\u001b[33mWARNING \u001b[0m Failed to compute metric for structure \u001b[1;36m0\u001b[0m                                            \u001b]8;id=658320;file://C:\\Users\\samue\\lematerial-forgebench\\src\\lematerial_forgebench\\metrics\\base.py\u001b\\\u001b[2mbase.py\u001b[0m\u001b]8;;\u001b\\\u001b[2m:\u001b[0m\u001b]8;id=763406;file://C:\\Users\\samue\\lematerial-forgebench\\src\\lematerial_forgebench\\metrics\\base.py#349\u001b\\\u001b[2m349\u001b[0m\u001b]8;;\u001b\\\n",
       "\u001b[2;36m           \u001b[0m         \u001b[31m╭─\u001b[0m\u001b[31m──────────────────────\u001b[0m\u001b[31m \u001b[0m\u001b[1;31mTraceback \u001b[0m\u001b[1;2;31m(most recent call last)\u001b[0m\u001b[31m \u001b[0m\u001b[31m──────────────────────\u001b[0m\u001b[31m─╮\u001b[0m \u001b[2m           \u001b[0m\n",
       "\u001b[2;36m           \u001b[0m         \u001b[31m│\u001b[0m \u001b[33mC:\\Users\\samue\\lematerial-forgebench\\src\\lematerial_forgebench\\metrics\\base.py\u001b[0m: \u001b[31m│\u001b[0m \u001b[2m           \u001b[0m\n",
       "\u001b[2;36m           \u001b[0m         \u001b[31m│\u001b[0m \u001b[94m341\u001b[0m in \u001b[92mcompute\u001b[0m                                                                  \u001b[31m│\u001b[0m \u001b[2m           \u001b[0m\n",
       "\u001b[2;36m           \u001b[0m         \u001b[31m│\u001b[0m                                                                                 \u001b[31m│\u001b[0m \u001b[2m           \u001b[0m\n",
       "\u001b[2;36m           \u001b[0m         \u001b[31m│\u001b[0m   \u001b[2m338 \u001b[0m\u001b[2m│   │   │   │   \u001b[0m\u001b[2m# Serial computation\u001b[0m                                      \u001b[31m│\u001b[0m \u001b[2m           \u001b[0m\n",
       "\u001b[2;36m           \u001b[0m         \u001b[31m│\u001b[0m   \u001b[2m339 \u001b[0m\u001b[2m│   │   │   │   \u001b[0m\u001b[94mfor\u001b[0m idx, structure \u001b[95min\u001b[0m \u001b[96menumerate\u001b[0m(structures):              \u001b[31m│\u001b[0m \u001b[2m           \u001b[0m\n",
       "\u001b[2;36m           \u001b[0m         \u001b[31m│\u001b[0m   \u001b[2m340 \u001b[0m\u001b[2m│   │   │   │   │   \u001b[0m\u001b[94mtry\u001b[0m:                                                  \u001b[31m│\u001b[0m \u001b[2m           \u001b[0m\n",
       "\u001b[2;36m           \u001b[0m         \u001b[31m│\u001b[0m \u001b[31m❱ \u001b[0m341 \u001b[2m│   │   │   │   │   │   \u001b[0mvalue = \u001b[96mself\u001b[0m.compute_structure(structure, **compu \u001b[31m│\u001b[0m \u001b[2m           \u001b[0m\n",
       "\u001b[2;36m           \u001b[0m         \u001b[31m│\u001b[0m   \u001b[2m342 \u001b[0m\u001b[2m│   │   │   │   │   │   \u001b[0mvalues.append(value)                              \u001b[31m│\u001b[0m \u001b[2m           \u001b[0m\n",
       "\u001b[2;36m           \u001b[0m         \u001b[31m│\u001b[0m   \u001b[2m343 \u001b[0m\u001b[2m│   │   │   │   │   \u001b[0m\u001b[94mexcept\u001b[0m \u001b[96mException\u001b[0m \u001b[94mas\u001b[0m e:                                \u001b[31m│\u001b[0m \u001b[2m           \u001b[0m\n",
       "\u001b[2;36m           \u001b[0m         \u001b[31m│\u001b[0m   \u001b[2m344 \u001b[0m\u001b[2m│   │   │   │   │   │   \u001b[0mfailed_indices.append(idx)                        \u001b[31m│\u001b[0m \u001b[2m           \u001b[0m\n",
       "\u001b[2;36m           \u001b[0m         \u001b[31m│\u001b[0m                                                                                 \u001b[31m│\u001b[0m \u001b[2m           \u001b[0m\n",
       "\u001b[2;36m           \u001b[0m         \u001b[31m│\u001b[0m \u001b[33mC:\\Users\\samue\\lematerial-forgebench\\src\\lematerial_forgebench\\metrics\\distribu\u001b[0m \u001b[31m│\u001b[0m \u001b[2m           \u001b[0m\n",
       "\u001b[2;36m           \u001b[0m         \u001b[31m│\u001b[0m \u001b[33mtion_metrics.py\u001b[0m:\u001b[94m134\u001b[0m in \u001b[92mcompute_structure\u001b[0m                                        \u001b[31m│\u001b[0m \u001b[2m           \u001b[0m\n",
       "\u001b[2;36m           \u001b[0m         \u001b[31m│\u001b[0m                                                                                 \u001b[31m│\u001b[0m \u001b[2m           \u001b[0m\n",
       "\u001b[2;36m           \u001b[0m         \u001b[31m│\u001b[0m   \u001b[2m131 \u001b[0m\u001b[2m│   │   │   │   │   \u001b[0mdist_metrics[quant] = js                              \u001b[31m│\u001b[0m \u001b[2m           \u001b[0m\n",
       "\u001b[2;36m           \u001b[0m         \u001b[31m│\u001b[0m   \u001b[2m132 \u001b[0m\u001b[2m│   │   \u001b[0m                                                                  \u001b[31m│\u001b[0m \u001b[2m           \u001b[0m\n",
       "\u001b[2;36m           \u001b[0m         \u001b[31m│\u001b[0m   \u001b[2m133 \u001b[0m\u001b[2m│   │   \u001b[0m\u001b[94mfor\u001b[0m quant \u001b[95min\u001b[0m [\u001b[33m\"\u001b[0m\u001b[33mCompositionCounts\u001b[0m\u001b[33m\"\u001b[0m, \u001b[33m\"\u001b[0m\u001b[33mComposition\u001b[0m\u001b[33m\"\u001b[0m]:                \u001b[31m│\u001b[0m \u001b[2m           \u001b[0m\n",
       "\u001b[2;36m           \u001b[0m         \u001b[31m│\u001b[0m \u001b[31m❱ \u001b[0m134 \u001b[2m│   │   │   \u001b[0mjs = compute_jensen_shannon_distance(                         \u001b[31m│\u001b[0m \u001b[2m           \u001b[0m\n",
       "\u001b[2;36m           \u001b[0m         \u001b[31m│\u001b[0m   \u001b[2m135 \u001b[0m\u001b[2m│   │   │   │   \u001b[0mreference_df,                                             \u001b[31m│\u001b[0m \u001b[2m           \u001b[0m\n",
       "\u001b[2;36m           \u001b[0m         \u001b[31m│\u001b[0m   \u001b[2m136 \u001b[0m\u001b[2m│   │   │   │   \u001b[0mstructure,                                                \u001b[31m│\u001b[0m \u001b[2m           \u001b[0m\n",
       "\u001b[2;36m           \u001b[0m         \u001b[31m│\u001b[0m   \u001b[2m137 \u001b[0m\u001b[2m│   │   │   │   \u001b[0mquant,                                                    \u001b[31m│\u001b[0m \u001b[2m           \u001b[0m\n",
       "\u001b[2;36m           \u001b[0m         \u001b[31m│\u001b[0m                                                                                 \u001b[31m│\u001b[0m \u001b[2m           \u001b[0m\n",
       "\u001b[2;36m           \u001b[0m         \u001b[31m│\u001b[0m \u001b[33mC:\\Users\\samue\\lematerial-forgebench\\src\\lematerial_forgebench\\utils\\distributi\u001b[0m \u001b[31m│\u001b[0m \u001b[2m           \u001b[0m\n",
       "\u001b[2;36m           \u001b[0m         \u001b[31m│\u001b[0m \u001b[33mon_utils.py\u001b[0m:\u001b[94m118\u001b[0m in \u001b[92mcompute_jensen_shannon_distance\u001b[0m                              \u001b[31m│\u001b[0m \u001b[2m           \u001b[0m\n",
       "\u001b[2;36m           \u001b[0m         \u001b[31m│\u001b[0m                                                                                 \u001b[31m│\u001b[0m \u001b[2m           \u001b[0m\n",
       "\u001b[2;36m           \u001b[0m         \u001b[31m│\u001b[0m   \u001b[2m115 \u001b[0m\u001b[2m│   │   \u001b[0m)                                                                 \u001b[31m│\u001b[0m \u001b[2m           \u001b[0m\n",
       "\u001b[2;36m           \u001b[0m         \u001b[31m│\u001b[0m   \u001b[2m116 \u001b[0m\u001b[2m│   \u001b[0m                                                                      \u001b[31m│\u001b[0m \u001b[2m           \u001b[0m\n",
       "\u001b[2;36m           \u001b[0m         \u001b[31m│\u001b[0m   \u001b[2m117 \u001b[0m\u001b[2m│   \u001b[0m\u001b[94melif\u001b[0m crystal_param == \u001b[33m\"\u001b[0m\u001b[33mCompositionCounts\u001b[0m\u001b[33m\"\u001b[0m:                            \u001b[31m│\u001b[0m \u001b[2m           \u001b[0m\n",
       "\u001b[2;36m           \u001b[0m         \u001b[31m│\u001b[0m \u001b[31m❱ \u001b[0m118 \u001b[2m│   │   \u001b[0m\u001b[94mwith\u001b[0m \u001b[1;4;96mopen\u001b[0m\u001b[1;4m(\u001b[0m\u001b[1;4;33m\"\u001b[0m\u001b[1;4;33mdata/lematbulk_composition_counts_distribution.json\u001b[0m\u001b[1;4;33m\"\u001b[0m\u001b[1;4m, \u001b[0m \u001b[31m│\u001b[0m \u001b[2m           \u001b[0m\n",
       "\u001b[2;36m           \u001b[0m         \u001b[31m│\u001b[0m   \u001b[2m119 \u001b[0m\u001b[2m│   │   │   \u001b[0mreference_data_dist = json.load(file)                         \u001b[31m│\u001b[0m \u001b[2m           \u001b[0m\n",
       "\u001b[2;36m           \u001b[0m         \u001b[31m│\u001b[0m   \u001b[2m120 \u001b[0m\u001b[2m│   \u001b[0m\u001b[94melif\u001b[0m crystal_param == \u001b[33m\"\u001b[0m\u001b[33mComposition\u001b[0m\u001b[33m\"\u001b[0m:                                  \u001b[31m│\u001b[0m \u001b[2m           \u001b[0m\n",
       "\u001b[2;36m           \u001b[0m         \u001b[31m│\u001b[0m   \u001b[2m121 \u001b[0m\u001b[2m│   │   \u001b[0m\u001b[94mwith\u001b[0m \u001b[96mopen\u001b[0m(\u001b[33m\"\u001b[0m\u001b[33mdata/lematbulk_composition_distribution.json\u001b[0m\u001b[33m\"\u001b[0m, \u001b[33m\"\u001b[0m\u001b[33mr\u001b[0m\u001b[33m\"\u001b[0m) \u001b[94mas\u001b[0m \u001b[31m│\u001b[0m \u001b[2m           \u001b[0m\n",
       "\u001b[2;36m           \u001b[0m         \u001b[31m╰─────────────────────────────────────────────────────────────────────────────────╯\u001b[0m \u001b[2m           \u001b[0m\n",
       "\u001b[2;36m           \u001b[0m         \u001b[1;91mFileNotFoundError: \u001b[0m\u001b[1m[\u001b[0mErrno \u001b[1;36m2\u001b[0m\u001b[1m]\u001b[0m No such file or directory:                             \u001b[2m           \u001b[0m\n",
       "\u001b[2;36m           \u001b[0m         \u001b[32m'data/lematbulk_composition_counts_distribution.json'\u001b[0m                               \u001b[2m           \u001b[0m\n"
      ]
     },
     "metadata": {},
     "output_type": "display_data"
    },
    {
     "data": {
      "text/html": [
       "<pre style=\"white-space:pre;overflow-x:auto;line-height:normal;font-family:Menlo,'DejaVu Sans Mono',consolas,'Courier New',monospace\"><span style=\"color: #7fbfbf; text-decoration-color: #7fbfbf\">           </span><span style=\"color: #808000; text-decoration-color: #808000\">WARNING </span> Failed to compute metric for structure <span style=\"color: #008080; text-decoration-color: #008080; font-weight: bold\">0</span>                                            <a href=\"file://C:\\Users\\samue\\lematerial-forgebench\\src\\lematerial_forgebench\\metrics\\base.py\" target=\"_blank\"><span style=\"color: #7f7f7f; text-decoration-color: #7f7f7f\">base.py</span></a><span style=\"color: #7f7f7f; text-decoration-color: #7f7f7f\">:</span><a href=\"file://C:\\Users\\samue\\lematerial-forgebench\\src\\lematerial_forgebench\\metrics\\base.py#349\" target=\"_blank\"><span style=\"color: #7f7f7f; text-decoration-color: #7f7f7f\">349</span></a>\n",
       "<span style=\"color: #7fbfbf; text-decoration-color: #7fbfbf\">           </span>         <span style=\"color: #800000; text-decoration-color: #800000\">╭─────────────────────── </span><span style=\"color: #800000; text-decoration-color: #800000; font-weight: bold\">Traceback </span><span style=\"color: #bf7f7f; text-decoration-color: #bf7f7f; font-weight: bold\">(most recent call last)</span><span style=\"color: #800000; text-decoration-color: #800000\"> ───────────────────────╮</span> <span style=\"color: #7f7f7f; text-decoration-color: #7f7f7f\">           </span>\n",
       "<span style=\"color: #7fbfbf; text-decoration-color: #7fbfbf\">           </span>         <span style=\"color: #800000; text-decoration-color: #800000\">│</span> <span style=\"color: #808000; text-decoration-color: #808000\">C:\\Users\\samue\\lematerial-forgebench\\src\\lematerial_forgebench\\metrics\\base.py</span>: <span style=\"color: #800000; text-decoration-color: #800000\">│</span> <span style=\"color: #7f7f7f; text-decoration-color: #7f7f7f\">           </span>\n",
       "<span style=\"color: #7fbfbf; text-decoration-color: #7fbfbf\">           </span>         <span style=\"color: #800000; text-decoration-color: #800000\">│</span> <span style=\"color: #0000ff; text-decoration-color: #0000ff\">341</span> in <span style=\"color: #00ff00; text-decoration-color: #00ff00\">compute</span>                                                                  <span style=\"color: #800000; text-decoration-color: #800000\">│</span> <span style=\"color: #7f7f7f; text-decoration-color: #7f7f7f\">           </span>\n",
       "<span style=\"color: #7fbfbf; text-decoration-color: #7fbfbf\">           </span>         <span style=\"color: #800000; text-decoration-color: #800000\">│</span>                                                                                 <span style=\"color: #800000; text-decoration-color: #800000\">│</span> <span style=\"color: #7f7f7f; text-decoration-color: #7f7f7f\">           </span>\n",
       "<span style=\"color: #7fbfbf; text-decoration-color: #7fbfbf\">           </span>         <span style=\"color: #800000; text-decoration-color: #800000\">│</span>   <span style=\"color: #7f7f7f; text-decoration-color: #7f7f7f\">338 </span><span style=\"color: #7f7f7f; text-decoration-color: #7f7f7f\">│   │   │   │   </span><span style=\"color: #7f7f7f; text-decoration-color: #7f7f7f\"># Serial computation</span>                                      <span style=\"color: #800000; text-decoration-color: #800000\">│</span> <span style=\"color: #7f7f7f; text-decoration-color: #7f7f7f\">           </span>\n",
       "<span style=\"color: #7fbfbf; text-decoration-color: #7fbfbf\">           </span>         <span style=\"color: #800000; text-decoration-color: #800000\">│</span>   <span style=\"color: #7f7f7f; text-decoration-color: #7f7f7f\">339 </span><span style=\"color: #7f7f7f; text-decoration-color: #7f7f7f\">│   │   │   │   </span><span style=\"color: #0000ff; text-decoration-color: #0000ff\">for</span> idx, structure <span style=\"color: #ff00ff; text-decoration-color: #ff00ff\">in</span> <span style=\"color: #00ffff; text-decoration-color: #00ffff\">enumerate</span>(structures):              <span style=\"color: #800000; text-decoration-color: #800000\">│</span> <span style=\"color: #7f7f7f; text-decoration-color: #7f7f7f\">           </span>\n",
       "<span style=\"color: #7fbfbf; text-decoration-color: #7fbfbf\">           </span>         <span style=\"color: #800000; text-decoration-color: #800000\">│</span>   <span style=\"color: #7f7f7f; text-decoration-color: #7f7f7f\">340 </span><span style=\"color: #7f7f7f; text-decoration-color: #7f7f7f\">│   │   │   │   │   </span><span style=\"color: #0000ff; text-decoration-color: #0000ff\">try</span>:                                                  <span style=\"color: #800000; text-decoration-color: #800000\">│</span> <span style=\"color: #7f7f7f; text-decoration-color: #7f7f7f\">           </span>\n",
       "<span style=\"color: #7fbfbf; text-decoration-color: #7fbfbf\">           </span>         <span style=\"color: #800000; text-decoration-color: #800000\">│</span> <span style=\"color: #800000; text-decoration-color: #800000\">❱ </span>341 <span style=\"color: #7f7f7f; text-decoration-color: #7f7f7f\">│   │   │   │   │   │   </span>value = <span style=\"color: #00ffff; text-decoration-color: #00ffff\">self</span>.compute_structure(structure, **compu <span style=\"color: #800000; text-decoration-color: #800000\">│</span> <span style=\"color: #7f7f7f; text-decoration-color: #7f7f7f\">           </span>\n",
       "<span style=\"color: #7fbfbf; text-decoration-color: #7fbfbf\">           </span>         <span style=\"color: #800000; text-decoration-color: #800000\">│</span>   <span style=\"color: #7f7f7f; text-decoration-color: #7f7f7f\">342 </span><span style=\"color: #7f7f7f; text-decoration-color: #7f7f7f\">│   │   │   │   │   │   </span>values.append(value)                              <span style=\"color: #800000; text-decoration-color: #800000\">│</span> <span style=\"color: #7f7f7f; text-decoration-color: #7f7f7f\">           </span>\n",
       "<span style=\"color: #7fbfbf; text-decoration-color: #7fbfbf\">           </span>         <span style=\"color: #800000; text-decoration-color: #800000\">│</span>   <span style=\"color: #7f7f7f; text-decoration-color: #7f7f7f\">343 </span><span style=\"color: #7f7f7f; text-decoration-color: #7f7f7f\">│   │   │   │   │   </span><span style=\"color: #0000ff; text-decoration-color: #0000ff\">except</span> <span style=\"color: #00ffff; text-decoration-color: #00ffff\">Exception</span> <span style=\"color: #0000ff; text-decoration-color: #0000ff\">as</span> e:                                <span style=\"color: #800000; text-decoration-color: #800000\">│</span> <span style=\"color: #7f7f7f; text-decoration-color: #7f7f7f\">           </span>\n",
       "<span style=\"color: #7fbfbf; text-decoration-color: #7fbfbf\">           </span>         <span style=\"color: #800000; text-decoration-color: #800000\">│</span>   <span style=\"color: #7f7f7f; text-decoration-color: #7f7f7f\">344 </span><span style=\"color: #7f7f7f; text-decoration-color: #7f7f7f\">│   │   │   │   │   │   </span>failed_indices.append(idx)                        <span style=\"color: #800000; text-decoration-color: #800000\">│</span> <span style=\"color: #7f7f7f; text-decoration-color: #7f7f7f\">           </span>\n",
       "<span style=\"color: #7fbfbf; text-decoration-color: #7fbfbf\">           </span>         <span style=\"color: #800000; text-decoration-color: #800000\">│</span>                                                                                 <span style=\"color: #800000; text-decoration-color: #800000\">│</span> <span style=\"color: #7f7f7f; text-decoration-color: #7f7f7f\">           </span>\n",
       "<span style=\"color: #7fbfbf; text-decoration-color: #7fbfbf\">           </span>         <span style=\"color: #800000; text-decoration-color: #800000\">│</span> <span style=\"color: #808000; text-decoration-color: #808000\">C:\\Users\\samue\\lematerial-forgebench\\src\\lematerial_forgebench\\metrics\\distribu</span> <span style=\"color: #800000; text-decoration-color: #800000\">│</span> <span style=\"color: #7f7f7f; text-decoration-color: #7f7f7f\">           </span>\n",
       "<span style=\"color: #7fbfbf; text-decoration-color: #7fbfbf\">           </span>         <span style=\"color: #800000; text-decoration-color: #800000\">│</span> <span style=\"color: #808000; text-decoration-color: #808000\">tion_metrics.py</span>:<span style=\"color: #0000ff; text-decoration-color: #0000ff\">345</span> in <span style=\"color: #00ff00; text-decoration-color: #00ff00\">compute_structure</span>                                        <span style=\"color: #800000; text-decoration-color: #800000\">│</span> <span style=\"color: #7f7f7f; text-decoration-color: #7f7f7f\">           </span>\n",
       "<span style=\"color: #7fbfbf; text-decoration-color: #7fbfbf\">           </span>         <span style=\"color: #800000; text-decoration-color: #800000\">│</span>                                                                                 <span style=\"color: #800000; text-decoration-color: #800000\">│</span> <span style=\"color: #7f7f7f; text-decoration-color: #7f7f7f\">           </span>\n",
       "<span style=\"color: #7fbfbf; text-decoration-color: #7fbfbf\">           </span>         <span style=\"color: #800000; text-decoration-color: #800000\">│</span>   <span style=\"color: #7f7f7f; text-decoration-color: #7f7f7f\">342 </span><span style=\"color: #7f7f7f; text-decoration-color: #7f7f7f\">│   │   </span>quantities = structure.columns                                    <span style=\"color: #800000; text-decoration-color: #800000\">│</span> <span style=\"color: #7f7f7f; text-decoration-color: #7f7f7f\">           </span>\n",
       "<span style=\"color: #7fbfbf; text-decoration-color: #7fbfbf\">           </span>         <span style=\"color: #800000; text-decoration-color: #800000\">│</span>   <span style=\"color: #7f7f7f; text-decoration-color: #7f7f7f\">343 </span><span style=\"color: #7f7f7f; text-decoration-color: #7f7f7f\">│   │   </span><span style=\"color: #0000ff; text-decoration-color: #0000ff\">for</span> quant <span style=\"color: #ff00ff; text-decoration-color: #ff00ff\">in</span> quantities:                                          <span style=\"color: #800000; text-decoration-color: #800000\">│</span> <span style=\"color: #7f7f7f; text-decoration-color: #7f7f7f\">           </span>\n",
       "<span style=\"color: #7fbfbf; text-decoration-color: #7fbfbf\">           </span>         <span style=\"color: #800000; text-decoration-color: #800000\">│</span>   <span style=\"color: #7f7f7f; text-decoration-color: #7f7f7f\">344 </span><span style=\"color: #7f7f7f; text-decoration-color: #7f7f7f\">│   │   │   </span><span style=\"color: #0000ff; text-decoration-color: #0000ff\">if</span> quant <span style=\"color: #ff00ff; text-decoration-color: #ff00ff\">in</span> reference_df.columns:                             <span style=\"color: #800000; text-decoration-color: #800000\">│</span> <span style=\"color: #7f7f7f; text-decoration-color: #7f7f7f\">           </span>\n",
       "<span style=\"color: #7fbfbf; text-decoration-color: #7fbfbf\">           </span>         <span style=\"color: #800000; text-decoration-color: #800000\">│</span> <span style=\"color: #800000; text-decoration-color: #800000\">❱ </span>345 <span style=\"color: #7f7f7f; text-decoration-color: #7f7f7f\">│   │   │   │   </span>frechetdist = <span style=\"font-weight: bold; text-decoration: underline\">compute_frechetdist(reference_df, structure</span> <span style=\"color: #800000; text-decoration-color: #800000\">│</span> <span style=\"color: #7f7f7f; text-decoration-color: #7f7f7f\">           </span>\n",
       "<span style=\"color: #7fbfbf; text-decoration-color: #7fbfbf\">           </span>         <span style=\"color: #800000; text-decoration-color: #800000\">│</span>   <span style=\"color: #7f7f7f; text-decoration-color: #7f7f7f\">346 </span><span style=\"color: #7f7f7f; text-decoration-color: #7f7f7f\">│   │   │   │   </span>dist_metrics[quant] = frechetdist                         <span style=\"color: #800000; text-decoration-color: #800000\">│</span> <span style=\"color: #7f7f7f; text-decoration-color: #7f7f7f\">           </span>\n",
       "<span style=\"color: #7fbfbf; text-decoration-color: #7fbfbf\">           </span>         <span style=\"color: #800000; text-decoration-color: #800000\">│</span>   <span style=\"color: #7f7f7f; text-decoration-color: #7f7f7f\">347 </span><span style=\"color: #7f7f7f; text-decoration-color: #7f7f7f\">│   │   </span>                                                                  <span style=\"color: #800000; text-decoration-color: #800000\">│</span> <span style=\"color: #7f7f7f; text-decoration-color: #7f7f7f\">           </span>\n",
       "<span style=\"color: #7fbfbf; text-decoration-color: #7fbfbf\">           </span>         <span style=\"color: #800000; text-decoration-color: #800000\">│</span>   <span style=\"color: #7f7f7f; text-decoration-color: #7f7f7f\">348 </span><span style=\"color: #7f7f7f; text-decoration-color: #7f7f7f\">│   │   </span><span style=\"color: #0000ff; text-decoration-color: #0000ff\">return</span> dist_metrics                                               <span style=\"color: #800000; text-decoration-color: #800000\">│</span> <span style=\"color: #7f7f7f; text-decoration-color: #7f7f7f\">           </span>\n",
       "<span style=\"color: #7fbfbf; text-decoration-color: #7fbfbf\">           </span>         <span style=\"color: #800000; text-decoration-color: #800000\">│</span>                                                                                 <span style=\"color: #800000; text-decoration-color: #800000\">│</span> <span style=\"color: #7f7f7f; text-decoration-color: #7f7f7f\">           </span>\n",
       "<span style=\"color: #7fbfbf; text-decoration-color: #7fbfbf\">           </span>         <span style=\"color: #800000; text-decoration-color: #800000\">│</span> <span style=\"color: #808000; text-decoration-color: #808000\">C:\\Users\\samue\\lematerial-forgebench\\src\\lematerial_forgebench\\utils\\distributi</span> <span style=\"color: #800000; text-decoration-color: #800000\">│</span> <span style=\"color: #7f7f7f; text-decoration-color: #7f7f7f\">           </span>\n",
       "<span style=\"color: #7fbfbf; text-decoration-color: #7fbfbf\">           </span>         <span style=\"color: #800000; text-decoration-color: #800000\">│</span> <span style=\"color: #808000; text-decoration-color: #808000\">on_utils.py</span>:<span style=\"color: #0000ff; text-decoration-color: #0000ff\">156</span> in <span style=\"color: #00ff00; text-decoration-color: #00ff00\">compute_frechetdist</span>                                          <span style=\"color: #800000; text-decoration-color: #800000\">│</span> <span style=\"color: #7f7f7f; text-decoration-color: #7f7f7f\">           </span>\n",
       "<span style=\"color: #7fbfbf; text-decoration-color: #7fbfbf\">           </span>         <span style=\"color: #800000; text-decoration-color: #800000\">│</span>                                                                                 <span style=\"color: #800000; text-decoration-color: #800000\">│</span> <span style=\"color: #7f7f7f; text-decoration-color: #7f7f7f\">           </span>\n",
       "<span style=\"color: #7fbfbf; text-decoration-color: #7fbfbf\">           </span>         <span style=\"color: #800000; text-decoration-color: #800000\">│</span>   <span style=\"color: #7f7f7f; text-decoration-color: #7f7f7f\">153 </span><span style=\"color: #7f7f7f; text-decoration-color: #7f7f7f\">│   │   </span>reference_data, metric=crystal_param, return_2d_array=<span style=\"color: #0000ff; text-decoration-color: #0000ff\">True</span>        <span style=\"color: #800000; text-decoration-color: #800000\">│</span> <span style=\"color: #7f7f7f; text-decoration-color: #7f7f7f\">           </span>\n",
       "<span style=\"color: #7fbfbf; text-decoration-color: #7fbfbf\">           </span>         <span style=\"color: #800000; text-decoration-color: #800000\">│</span>   <span style=\"color: #7f7f7f; text-decoration-color: #7f7f7f\">154 </span><span style=\"color: #7f7f7f; text-decoration-color: #7f7f7f\">│   </span>)                                                                     <span style=\"color: #800000; text-decoration-color: #800000\">│</span> <span style=\"color: #7f7f7f; text-decoration-color: #7f7f7f\">           </span>\n",
       "<span style=\"color: #7fbfbf; text-decoration-color: #7fbfbf\">           </span>         <span style=\"color: #800000; text-decoration-color: #800000\">│</span>   <span style=\"color: #7f7f7f; text-decoration-color: #7f7f7f\">155 </span><span style=\"color: #7f7f7f; text-decoration-color: #7f7f7f\">│   </span>                                                                      <span style=\"color: #800000; text-decoration-color: #800000\">│</span> <span style=\"color: #7f7f7f; text-decoration-color: #7f7f7f\">           </span>\n",
       "<span style=\"color: #7fbfbf; text-decoration-color: #7fbfbf\">           </span>         <span style=\"color: #800000; text-decoration-color: #800000\">│</span> <span style=\"color: #800000; text-decoration-color: #800000\">❱ </span>156 <span style=\"color: #7f7f7f; text-decoration-color: #7f7f7f\">│   </span>distance = <span style=\"font-weight: bold; text-decoration: underline\">frdist(reference_data_dist, generated_crystals_dist)</span>       <span style=\"color: #800000; text-decoration-color: #800000\">│</span> <span style=\"color: #7f7f7f; text-decoration-color: #7f7f7f\">           </span>\n",
       "<span style=\"color: #7fbfbf; text-decoration-color: #7fbfbf\">           </span>         <span style=\"color: #800000; text-decoration-color: #800000\">│</span>   <span style=\"color: #7f7f7f; text-decoration-color: #7f7f7f\">157 </span><span style=\"color: #7f7f7f; text-decoration-color: #7f7f7f\">│   </span><span style=\"color: #0000ff; text-decoration-color: #0000ff\">return</span> distance                                                       <span style=\"color: #800000; text-decoration-color: #800000\">│</span> <span style=\"color: #7f7f7f; text-decoration-color: #7f7f7f\">           </span>\n",
       "<span style=\"color: #7fbfbf; text-decoration-color: #7fbfbf\">           </span>         <span style=\"color: #800000; text-decoration-color: #800000\">│</span>   <span style=\"color: #7f7f7f; text-decoration-color: #7f7f7f\">158 </span>                                                                          <span style=\"color: #800000; text-decoration-color: #800000\">│</span> <span style=\"color: #7f7f7f; text-decoration-color: #7f7f7f\">           </span>\n",
       "<span style=\"color: #7fbfbf; text-decoration-color: #7fbfbf\">           </span>         <span style=\"color: #800000; text-decoration-color: #800000\">│</span>                                                                                 <span style=\"color: #800000; text-decoration-color: #800000\">│</span> <span style=\"color: #7f7f7f; text-decoration-color: #7f7f7f\">           </span>\n",
       "<span style=\"color: #7fbfbf; text-decoration-color: #7fbfbf\">           </span>         <span style=\"color: #800000; text-decoration-color: #800000\">│</span> <span style=\"color: #808000; text-decoration-color: #808000\">C:\\Users\\samue\\lematerial-forgebench\\.venv\\Lib\\site-packages\\frechetdist.py</span>:<span style=\"color: #0000ff; text-decoration-color: #0000ff\">103</span> <span style=\"color: #800000; text-decoration-color: #800000\">│</span> <span style=\"color: #7f7f7f; text-decoration-color: #7f7f7f\">           </span>\n",
       "<span style=\"color: #7fbfbf; text-decoration-color: #7fbfbf\">           </span>         <span style=\"color: #800000; text-decoration-color: #800000\">│</span> in <span style=\"color: #00ff00; text-decoration-color: #00ff00\">frdist</span>                                                                       <span style=\"color: #800000; text-decoration-color: #800000\">│</span> <span style=\"color: #7f7f7f; text-decoration-color: #7f7f7f\">           </span>\n",
       "<span style=\"color: #7fbfbf; text-decoration-color: #7fbfbf\">           </span>         <span style=\"color: #800000; text-decoration-color: #800000\">│</span>                                                                                 <span style=\"color: #800000; text-decoration-color: #800000\">│</span> <span style=\"color: #7f7f7f; text-decoration-color: #7f7f7f\">           </span>\n",
       "<span style=\"color: #7fbfbf; text-decoration-color: #7fbfbf\">           </span>         <span style=\"color: #800000; text-decoration-color: #800000\">│</span>   <span style=\"color: #7f7f7f; text-decoration-color: #7f7f7f\">100 </span><span style=\"color: #7f7f7f; text-decoration-color: #7f7f7f\">│   │   </span><span style=\"color: #0000ff; text-decoration-color: #0000ff\">raise</span> <span style=\"color: #00ffff; text-decoration-color: #00ffff\">ValueError</span>(<span style=\"color: #808000; text-decoration-color: #808000\">'Input curves are empty.'</span>)                       <span style=\"color: #800000; text-decoration-color: #800000\">│</span> <span style=\"color: #7f7f7f; text-decoration-color: #7f7f7f\">           </span>\n",
       "<span style=\"color: #7fbfbf; text-decoration-color: #7fbfbf\">           </span>         <span style=\"color: #800000; text-decoration-color: #800000\">│</span>   <span style=\"color: #7f7f7f; text-decoration-color: #7f7f7f\">101 </span><span style=\"color: #7f7f7f; text-decoration-color: #7f7f7f\">│   </span>                                                                      <span style=\"color: #800000; text-decoration-color: #800000\">│</span> <span style=\"color: #7f7f7f; text-decoration-color: #7f7f7f\">           </span>\n",
       "<span style=\"color: #7fbfbf; text-decoration-color: #7fbfbf\">           </span>         <span style=\"color: #800000; text-decoration-color: #800000\">│</span>   <span style=\"color: #7f7f7f; text-decoration-color: #7f7f7f\">102 </span><span style=\"color: #7f7f7f; text-decoration-color: #7f7f7f\">│   </span><span style=\"color: #0000ff; text-decoration-color: #0000ff\">if</span> len_p != len_q <span style=\"color: #ff00ff; text-decoration-color: #ff00ff\">or</span> <span style=\"color: #00ffff; text-decoration-color: #00ffff\">len</span>(p[<span style=\"color: #0000ff; text-decoration-color: #0000ff\">0</span>]) != <span style=\"color: #00ffff; text-decoration-color: #00ffff\">len</span>(q[<span style=\"color: #0000ff; text-decoration-color: #0000ff\">0</span>]):                          <span style=\"color: #800000; text-decoration-color: #800000\">│</span> <span style=\"color: #7f7f7f; text-decoration-color: #7f7f7f\">           </span>\n",
       "<span style=\"color: #7fbfbf; text-decoration-color: #7fbfbf\">           </span>         <span style=\"color: #800000; text-decoration-color: #800000\">│</span> <span style=\"color: #800000; text-decoration-color: #800000\">❱ </span>103 <span style=\"color: #7f7f7f; text-decoration-color: #7f7f7f\">│   │   </span><span style=\"color: #0000ff; text-decoration-color: #0000ff; font-weight: bold; text-decoration: underline\">raise</span><span style=\"font-weight: bold; text-decoration: underline\"> </span><span style=\"color: #00ffff; text-decoration-color: #00ffff; font-weight: bold; text-decoration: underline\">ValueError</span><span style=\"font-weight: bold; text-decoration: underline\">(</span><span style=\"color: #808000; text-decoration-color: #808000; font-weight: bold; text-decoration: underline\">'Input curves do not have the same dimensions.'</span><span style=\"font-weight: bold; text-decoration: underline\">)</span> <span style=\"color: #800000; text-decoration-color: #800000\">│</span> <span style=\"color: #7f7f7f; text-decoration-color: #7f7f7f\">           </span>\n",
       "<span style=\"color: #7fbfbf; text-decoration-color: #7fbfbf\">           </span>         <span style=\"color: #800000; text-decoration-color: #800000\">│</span>   <span style=\"color: #7f7f7f; text-decoration-color: #7f7f7f\">104 </span><span style=\"color: #7f7f7f; text-decoration-color: #7f7f7f\">│   </span>                                                                      <span style=\"color: #800000; text-decoration-color: #800000\">│</span> <span style=\"color: #7f7f7f; text-decoration-color: #7f7f7f\">           </span>\n",
       "<span style=\"color: #7fbfbf; text-decoration-color: #7fbfbf\">           </span>         <span style=\"color: #800000; text-decoration-color: #800000\">│</span>   <span style=\"color: #7f7f7f; text-decoration-color: #7f7f7f\">105 </span><span style=\"color: #7f7f7f; text-decoration-color: #7f7f7f\">│   </span>ca = (np.ones((len_p, len_q), dtype=np.float64) * -<span style=\"color: #0000ff; text-decoration-color: #0000ff\">1</span>)                 <span style=\"color: #800000; text-decoration-color: #800000\">│</span> <span style=\"color: #7f7f7f; text-decoration-color: #7f7f7f\">           </span>\n",
       "<span style=\"color: #7fbfbf; text-decoration-color: #7fbfbf\">           </span>         <span style=\"color: #800000; text-decoration-color: #800000\">│</span>   <span style=\"color: #7f7f7f; text-decoration-color: #7f7f7f\">106 </span>                                                                          <span style=\"color: #800000; text-decoration-color: #800000\">│</span> <span style=\"color: #7f7f7f; text-decoration-color: #7f7f7f\">           </span>\n",
       "<span style=\"color: #7fbfbf; text-decoration-color: #7fbfbf\">           </span>         <span style=\"color: #800000; text-decoration-color: #800000\">╰─────────────────────────────────────────────────────────────────────────────────╯</span> <span style=\"color: #7f7f7f; text-decoration-color: #7f7f7f\">           </span>\n",
       "<span style=\"color: #7fbfbf; text-decoration-color: #7fbfbf\">           </span>         <span style=\"color: #ff0000; text-decoration-color: #ff0000; font-weight: bold\">ValueError: </span>Input curves do not have the same dimensions.                           <span style=\"color: #7f7f7f; text-decoration-color: #7f7f7f\">           </span>\n",
       "</pre>\n"
      ],
      "text/plain": [
       "\u001b[2;36m          \u001b[0m\u001b[2;36m \u001b[0m\u001b[33mWARNING \u001b[0m Failed to compute metric for structure \u001b[1;36m0\u001b[0m                                            \u001b]8;id=614259;file://C:\\Users\\samue\\lematerial-forgebench\\src\\lematerial_forgebench\\metrics\\base.py\u001b\\\u001b[2mbase.py\u001b[0m\u001b]8;;\u001b\\\u001b[2m:\u001b[0m\u001b]8;id=169555;file://C:\\Users\\samue\\lematerial-forgebench\\src\\lematerial_forgebench\\metrics\\base.py#349\u001b\\\u001b[2m349\u001b[0m\u001b]8;;\u001b\\\n",
       "\u001b[2;36m           \u001b[0m         \u001b[31m╭─\u001b[0m\u001b[31m──────────────────────\u001b[0m\u001b[31m \u001b[0m\u001b[1;31mTraceback \u001b[0m\u001b[1;2;31m(most recent call last)\u001b[0m\u001b[31m \u001b[0m\u001b[31m──────────────────────\u001b[0m\u001b[31m─╮\u001b[0m \u001b[2m           \u001b[0m\n",
       "\u001b[2;36m           \u001b[0m         \u001b[31m│\u001b[0m \u001b[33mC:\\Users\\samue\\lematerial-forgebench\\src\\lematerial_forgebench\\metrics\\base.py\u001b[0m: \u001b[31m│\u001b[0m \u001b[2m           \u001b[0m\n",
       "\u001b[2;36m           \u001b[0m         \u001b[31m│\u001b[0m \u001b[94m341\u001b[0m in \u001b[92mcompute\u001b[0m                                                                  \u001b[31m│\u001b[0m \u001b[2m           \u001b[0m\n",
       "\u001b[2;36m           \u001b[0m         \u001b[31m│\u001b[0m                                                                                 \u001b[31m│\u001b[0m \u001b[2m           \u001b[0m\n",
       "\u001b[2;36m           \u001b[0m         \u001b[31m│\u001b[0m   \u001b[2m338 \u001b[0m\u001b[2m│   │   │   │   \u001b[0m\u001b[2m# Serial computation\u001b[0m                                      \u001b[31m│\u001b[0m \u001b[2m           \u001b[0m\n",
       "\u001b[2;36m           \u001b[0m         \u001b[31m│\u001b[0m   \u001b[2m339 \u001b[0m\u001b[2m│   │   │   │   \u001b[0m\u001b[94mfor\u001b[0m idx, structure \u001b[95min\u001b[0m \u001b[96menumerate\u001b[0m(structures):              \u001b[31m│\u001b[0m \u001b[2m           \u001b[0m\n",
       "\u001b[2;36m           \u001b[0m         \u001b[31m│\u001b[0m   \u001b[2m340 \u001b[0m\u001b[2m│   │   │   │   │   \u001b[0m\u001b[94mtry\u001b[0m:                                                  \u001b[31m│\u001b[0m \u001b[2m           \u001b[0m\n",
       "\u001b[2;36m           \u001b[0m         \u001b[31m│\u001b[0m \u001b[31m❱ \u001b[0m341 \u001b[2m│   │   │   │   │   │   \u001b[0mvalue = \u001b[96mself\u001b[0m.compute_structure(structure, **compu \u001b[31m│\u001b[0m \u001b[2m           \u001b[0m\n",
       "\u001b[2;36m           \u001b[0m         \u001b[31m│\u001b[0m   \u001b[2m342 \u001b[0m\u001b[2m│   │   │   │   │   │   \u001b[0mvalues.append(value)                              \u001b[31m│\u001b[0m \u001b[2m           \u001b[0m\n",
       "\u001b[2;36m           \u001b[0m         \u001b[31m│\u001b[0m   \u001b[2m343 \u001b[0m\u001b[2m│   │   │   │   │   \u001b[0m\u001b[94mexcept\u001b[0m \u001b[96mException\u001b[0m \u001b[94mas\u001b[0m e:                                \u001b[31m│\u001b[0m \u001b[2m           \u001b[0m\n",
       "\u001b[2;36m           \u001b[0m         \u001b[31m│\u001b[0m   \u001b[2m344 \u001b[0m\u001b[2m│   │   │   │   │   │   \u001b[0mfailed_indices.append(idx)                        \u001b[31m│\u001b[0m \u001b[2m           \u001b[0m\n",
       "\u001b[2;36m           \u001b[0m         \u001b[31m│\u001b[0m                                                                                 \u001b[31m│\u001b[0m \u001b[2m           \u001b[0m\n",
       "\u001b[2;36m           \u001b[0m         \u001b[31m│\u001b[0m \u001b[33mC:\\Users\\samue\\lematerial-forgebench\\src\\lematerial_forgebench\\metrics\\distribu\u001b[0m \u001b[31m│\u001b[0m \u001b[2m           \u001b[0m\n",
       "\u001b[2;36m           \u001b[0m         \u001b[31m│\u001b[0m \u001b[33mtion_metrics.py\u001b[0m:\u001b[94m345\u001b[0m in \u001b[92mcompute_structure\u001b[0m                                        \u001b[31m│\u001b[0m \u001b[2m           \u001b[0m\n",
       "\u001b[2;36m           \u001b[0m         \u001b[31m│\u001b[0m                                                                                 \u001b[31m│\u001b[0m \u001b[2m           \u001b[0m\n",
       "\u001b[2;36m           \u001b[0m         \u001b[31m│\u001b[0m   \u001b[2m342 \u001b[0m\u001b[2m│   │   \u001b[0mquantities = structure.columns                                    \u001b[31m│\u001b[0m \u001b[2m           \u001b[0m\n",
       "\u001b[2;36m           \u001b[0m         \u001b[31m│\u001b[0m   \u001b[2m343 \u001b[0m\u001b[2m│   │   \u001b[0m\u001b[94mfor\u001b[0m quant \u001b[95min\u001b[0m quantities:                                          \u001b[31m│\u001b[0m \u001b[2m           \u001b[0m\n",
       "\u001b[2;36m           \u001b[0m         \u001b[31m│\u001b[0m   \u001b[2m344 \u001b[0m\u001b[2m│   │   │   \u001b[0m\u001b[94mif\u001b[0m quant \u001b[95min\u001b[0m reference_df.columns:                             \u001b[31m│\u001b[0m \u001b[2m           \u001b[0m\n",
       "\u001b[2;36m           \u001b[0m         \u001b[31m│\u001b[0m \u001b[31m❱ \u001b[0m345 \u001b[2m│   │   │   │   \u001b[0mfrechetdist = \u001b[1;4mcompute_frechetdist(reference_df, structure\u001b[0m \u001b[31m│\u001b[0m \u001b[2m           \u001b[0m\n",
       "\u001b[2;36m           \u001b[0m         \u001b[31m│\u001b[0m   \u001b[2m346 \u001b[0m\u001b[2m│   │   │   │   \u001b[0mdist_metrics[quant] = frechetdist                         \u001b[31m│\u001b[0m \u001b[2m           \u001b[0m\n",
       "\u001b[2;36m           \u001b[0m         \u001b[31m│\u001b[0m   \u001b[2m347 \u001b[0m\u001b[2m│   │   \u001b[0m                                                                  \u001b[31m│\u001b[0m \u001b[2m           \u001b[0m\n",
       "\u001b[2;36m           \u001b[0m         \u001b[31m│\u001b[0m   \u001b[2m348 \u001b[0m\u001b[2m│   │   \u001b[0m\u001b[94mreturn\u001b[0m dist_metrics                                               \u001b[31m│\u001b[0m \u001b[2m           \u001b[0m\n",
       "\u001b[2;36m           \u001b[0m         \u001b[31m│\u001b[0m                                                                                 \u001b[31m│\u001b[0m \u001b[2m           \u001b[0m\n",
       "\u001b[2;36m           \u001b[0m         \u001b[31m│\u001b[0m \u001b[33mC:\\Users\\samue\\lematerial-forgebench\\src\\lematerial_forgebench\\utils\\distributi\u001b[0m \u001b[31m│\u001b[0m \u001b[2m           \u001b[0m\n",
       "\u001b[2;36m           \u001b[0m         \u001b[31m│\u001b[0m \u001b[33mon_utils.py\u001b[0m:\u001b[94m156\u001b[0m in \u001b[92mcompute_frechetdist\u001b[0m                                          \u001b[31m│\u001b[0m \u001b[2m           \u001b[0m\n",
       "\u001b[2;36m           \u001b[0m         \u001b[31m│\u001b[0m                                                                                 \u001b[31m│\u001b[0m \u001b[2m           \u001b[0m\n",
       "\u001b[2;36m           \u001b[0m         \u001b[31m│\u001b[0m   \u001b[2m153 \u001b[0m\u001b[2m│   │   \u001b[0mreference_data, metric=crystal_param, return_2d_array=\u001b[94mTrue\u001b[0m        \u001b[31m│\u001b[0m \u001b[2m           \u001b[0m\n",
       "\u001b[2;36m           \u001b[0m         \u001b[31m│\u001b[0m   \u001b[2m154 \u001b[0m\u001b[2m│   \u001b[0m)                                                                     \u001b[31m│\u001b[0m \u001b[2m           \u001b[0m\n",
       "\u001b[2;36m           \u001b[0m         \u001b[31m│\u001b[0m   \u001b[2m155 \u001b[0m\u001b[2m│   \u001b[0m                                                                      \u001b[31m│\u001b[0m \u001b[2m           \u001b[0m\n",
       "\u001b[2;36m           \u001b[0m         \u001b[31m│\u001b[0m \u001b[31m❱ \u001b[0m156 \u001b[2m│   \u001b[0mdistance = \u001b[1;4mfrdist(reference_data_dist, generated_crystals_dist)\u001b[0m       \u001b[31m│\u001b[0m \u001b[2m           \u001b[0m\n",
       "\u001b[2;36m           \u001b[0m         \u001b[31m│\u001b[0m   \u001b[2m157 \u001b[0m\u001b[2m│   \u001b[0m\u001b[94mreturn\u001b[0m distance                                                       \u001b[31m│\u001b[0m \u001b[2m           \u001b[0m\n",
       "\u001b[2;36m           \u001b[0m         \u001b[31m│\u001b[0m   \u001b[2m158 \u001b[0m                                                                          \u001b[31m│\u001b[0m \u001b[2m           \u001b[0m\n",
       "\u001b[2;36m           \u001b[0m         \u001b[31m│\u001b[0m                                                                                 \u001b[31m│\u001b[0m \u001b[2m           \u001b[0m\n",
       "\u001b[2;36m           \u001b[0m         \u001b[31m│\u001b[0m \u001b[33mC:\\Users\\samue\\lematerial-forgebench\\.venv\\Lib\\site-packages\\frechetdist.py\u001b[0m:\u001b[94m103\u001b[0m \u001b[31m│\u001b[0m \u001b[2m           \u001b[0m\n",
       "\u001b[2;36m           \u001b[0m         \u001b[31m│\u001b[0m in \u001b[92mfrdist\u001b[0m                                                                       \u001b[31m│\u001b[0m \u001b[2m           \u001b[0m\n",
       "\u001b[2;36m           \u001b[0m         \u001b[31m│\u001b[0m                                                                                 \u001b[31m│\u001b[0m \u001b[2m           \u001b[0m\n",
       "\u001b[2;36m           \u001b[0m         \u001b[31m│\u001b[0m   \u001b[2m100 \u001b[0m\u001b[2m│   │   \u001b[0m\u001b[94mraise\u001b[0m \u001b[96mValueError\u001b[0m(\u001b[33m'\u001b[0m\u001b[33mInput curves are empty.\u001b[0m\u001b[33m'\u001b[0m)                       \u001b[31m│\u001b[0m \u001b[2m           \u001b[0m\n",
       "\u001b[2;36m           \u001b[0m         \u001b[31m│\u001b[0m   \u001b[2m101 \u001b[0m\u001b[2m│   \u001b[0m                                                                      \u001b[31m│\u001b[0m \u001b[2m           \u001b[0m\n",
       "\u001b[2;36m           \u001b[0m         \u001b[31m│\u001b[0m   \u001b[2m102 \u001b[0m\u001b[2m│   \u001b[0m\u001b[94mif\u001b[0m len_p != len_q \u001b[95mor\u001b[0m \u001b[96mlen\u001b[0m(p[\u001b[94m0\u001b[0m]) != \u001b[96mlen\u001b[0m(q[\u001b[94m0\u001b[0m]):                          \u001b[31m│\u001b[0m \u001b[2m           \u001b[0m\n",
       "\u001b[2;36m           \u001b[0m         \u001b[31m│\u001b[0m \u001b[31m❱ \u001b[0m103 \u001b[2m│   │   \u001b[0m\u001b[1;4;94mraise\u001b[0m\u001b[1;4m \u001b[0m\u001b[1;4;96mValueError\u001b[0m\u001b[1;4m(\u001b[0m\u001b[1;4;33m'\u001b[0m\u001b[1;4;33mInput curves do not have the same dimensions.\u001b[0m\u001b[1;4;33m'\u001b[0m\u001b[1;4m)\u001b[0m \u001b[31m│\u001b[0m \u001b[2m           \u001b[0m\n",
       "\u001b[2;36m           \u001b[0m         \u001b[31m│\u001b[0m   \u001b[2m104 \u001b[0m\u001b[2m│   \u001b[0m                                                                      \u001b[31m│\u001b[0m \u001b[2m           \u001b[0m\n",
       "\u001b[2;36m           \u001b[0m         \u001b[31m│\u001b[0m   \u001b[2m105 \u001b[0m\u001b[2m│   \u001b[0mca = (np.ones((len_p, len_q), dtype=np.float64) * -\u001b[94m1\u001b[0m)                 \u001b[31m│\u001b[0m \u001b[2m           \u001b[0m\n",
       "\u001b[2;36m           \u001b[0m         \u001b[31m│\u001b[0m   \u001b[2m106 \u001b[0m                                                                          \u001b[31m│\u001b[0m \u001b[2m           \u001b[0m\n",
       "\u001b[2;36m           \u001b[0m         \u001b[31m╰─────────────────────────────────────────────────────────────────────────────────╯\u001b[0m \u001b[2m           \u001b[0m\n",
       "\u001b[2;36m           \u001b[0m         \u001b[1;91mValueError: \u001b[0mInput curves do not have the same dimensions.                           \u001b[2m           \u001b[0m\n"
      ]
     },
     "metadata": {},
     "output_type": "display_data"
    },
    {
     "name": "stdout",
     "output_type": "stream",
     "text": [
      "MMD_results\n"
     ]
    }
   ],
   "source": [
    "benchmark_result = benchmark.evaluate([test_df])"
   ]
  },
  {
   "cell_type": "code",
   "execution_count": 215,
   "id": "953a52f4-c396-436a-b3b7-22c35cb7d81f",
   "metadata": {},
   "outputs": [
    {
     "data": {
      "text/plain": [
       "{'SpaceGroup': np.float64(0.8325546111576977),\n",
       " 'CrystalSystem': np.float64(0.2788095948658411),\n",
       " 'CompositionCounts': np.float64(0.6901659684588751),\n",
       " 'Composition': np.float64(0.713320308611451)}"
      ]
     },
     "execution_count": 215,
     "metadata": {},
     "output_type": "execute_result"
    }
   ],
   "source": [
    "benchmark_result.evaluator_results[\"JSDistance\"][\"JSDistance_value\"]"
   ]
  },
  {
   "cell_type": "code",
   "execution_count": 216,
   "id": "ff9c5632-fc2b-4b29-a45a-d961a25d5bea",
   "metadata": {},
   "outputs": [
    {
     "data": {
      "text/plain": [
       "{'Volume': np.float64(0.3578373686257075),\n",
       " 'Density(g/cm^3)': np.float64(0.16174021104526248),\n",
       " 'Density(atoms/A^3)': np.float64(0.0003819190830129937)}"
      ]
     },
     "execution_count": 216,
     "metadata": {},
     "output_type": "execute_result"
    }
   ],
   "source": [
    "benchmark_result.evaluator_results[\"MMD\"][\"MMD_value\"]"
   ]
  },
  {
   "cell_type": "code",
   "execution_count": null,
   "id": "c4e6ac0c-549a-4513-a8e2-8e43b4aaa75b",
   "metadata": {},
   "outputs": [],
   "source": []
  },
  {
   "cell_type": "code",
   "execution_count": 5,
   "id": "3a3b86bb-efb4-4f47-a905-f2edd3df44fc",
   "metadata": {
    "scrolled": true
   },
   "outputs": [
    {
     "data": {
      "text/html": [
       "<pre style=\"white-space:pre;overflow-x:auto;line-height:normal;font-family:Menlo,'DejaVu Sans Mono',consolas,'Courier New',monospace\"><span style=\"color: #7fbfbf; text-decoration-color: #7fbfbf\">[18:20:16] </span><span style=\"color: #808000; text-decoration-color: #808000\">WARNING </span> equiformer not available                                                        <a href=\"file://C:\\Users\\samue\\lematerial-forgebench\\src\\lematerial_forgebench\\models\\registry.py\" target=\"_blank\"><span style=\"color: #7f7f7f; text-decoration-color: #7f7f7f\">registry.py</span></a><span style=\"color: #7f7f7f; text-decoration-color: #7f7f7f\">:</span><a href=\"file://C:\\Users\\samue\\lematerial-forgebench\\src\\lematerial_forgebench\\models\\registry.py#141\" target=\"_blank\"><span style=\"color: #7f7f7f; text-decoration-color: #7f7f7f\">141</span></a>\n",
       "</pre>\n"
      ],
      "text/plain": [
       "\u001b[2;36m[18:20:16]\u001b[0m\u001b[2;36m \u001b[0m\u001b[33mWARNING \u001b[0m equiformer not available                                                        \u001b]8;id=556474;file://C:\\Users\\samue\\lematerial-forgebench\\src\\lematerial_forgebench\\models\\registry.py\u001b\\\u001b[2mregistry.py\u001b[0m\u001b]8;;\u001b\\\u001b[2m:\u001b[0m\u001b]8;id=38784;file://C:\\Users\\samue\\lematerial-forgebench\\src\\lematerial_forgebench\\models\\registry.py#141\u001b\\\u001b[2m141\u001b[0m\u001b]8;;\u001b\\\n"
      ]
     },
     "metadata": {},
     "output_type": "display_data"
    },
    {
     "name": "stderr",
     "output_type": "stream",
     "text": [
      "C:\\Users\\samue\\lematerial-forgebench\\.venv\\Lib\\site-packages\\e3nn\\o3\\_wigner.py:10: UserWarning: Environment variable TORCH_FORCE_NO_WEIGHTS_ONLY_LOAD detected, since the`weights_only` argument was not explicitly passed to `torch.load`, forcing weights_only=False.\n",
      "  _Jd, _W3j_flat, _W3j_indices = torch.load(os.path.join(os.path.dirname(__file__), 'constants.pt'))\n"
     ]
    },
    {
     "name": "stdout",
     "output_type": "stream",
     "text": [
      "cuequivariance or cuequivariance_torch is not available. Cuequivariance acceleration will be disabled.\n"
     ]
    },
    {
     "data": {
      "text/html": [
       "<pre style=\"white-space:pre;overflow-x:auto;line-height:normal;font-family:Menlo,'DejaVu Sans Mono',consolas,'Courier New',monospace\"><span style=\"color: #7fbfbf; text-decoration-color: #7fbfbf\">[18:20:18] </span><span style=\"color: #000080; text-decoration-color: #000080\">INFO    </span> Successfully registered mace model                                              <a href=\"file://C:\\Users\\samue\\lematerial-forgebench\\src\\lematerial_forgebench\\models\\registry.py\" target=\"_blank\"><span style=\"color: #7f7f7f; text-decoration-color: #7f7f7f\">registry.py</span></a><span style=\"color: #7f7f7f; text-decoration-color: #7f7f7f\">:</span><a href=\"file://C:\\Users\\samue\\lematerial-forgebench\\src\\lematerial_forgebench\\models\\registry.py#156\" target=\"_blank\"><span style=\"color: #7f7f7f; text-decoration-color: #7f7f7f\">156</span></a>\n",
       "</pre>\n"
      ],
      "text/plain": [
       "\u001b[2;36m[18:20:18]\u001b[0m\u001b[2;36m \u001b[0m\u001b[34mINFO    \u001b[0m Successfully registered mace model                                              \u001b]8;id=959014;file://C:\\Users\\samue\\lematerial-forgebench\\src\\lematerial_forgebench\\models\\registry.py\u001b\\\u001b[2mregistry.py\u001b[0m\u001b]8;;\u001b\\\u001b[2m:\u001b[0m\u001b]8;id=111657;file://C:\\Users\\samue\\lematerial-forgebench\\src\\lematerial_forgebench\\models\\registry.py#156\u001b\\\u001b[2m156\u001b[0m\u001b]8;;\u001b\\\n"
      ]
     },
     "metadata": {},
     "output_type": "display_data"
    },
    {
     "data": {
      "text/html": [
       "<pre style=\"white-space:pre;overflow-x:auto;line-height:normal;font-family:Menlo,'DejaVu Sans Mono',consolas,'Courier New',monospace\"><span style=\"color: #7fbfbf; text-decoration-color: #7fbfbf\">           </span><span style=\"color: #000080; text-decoration-color: #000080\">INFO    </span> Successfully registered orb model                                               <a href=\"file://C:\\Users\\samue\\lematerial-forgebench\\src\\lematerial_forgebench\\models\\registry.py\" target=\"_blank\"><span style=\"color: #7f7f7f; text-decoration-color: #7f7f7f\">registry.py</span></a><span style=\"color: #7f7f7f; text-decoration-color: #7f7f7f\">:</span><a href=\"file://C:\\Users\\samue\\lematerial-forgebench\\src\\lematerial_forgebench\\models\\registry.py#156\" target=\"_blank\"><span style=\"color: #7f7f7f; text-decoration-color: #7f7f7f\">156</span></a>\n",
       "</pre>\n"
      ],
      "text/plain": [
       "\u001b[2;36m          \u001b[0m\u001b[2;36m \u001b[0m\u001b[34mINFO    \u001b[0m Successfully registered orb model                                               \u001b]8;id=631015;file://C:\\Users\\samue\\lematerial-forgebench\\src\\lematerial_forgebench\\models\\registry.py\u001b\\\u001b[2mregistry.py\u001b[0m\u001b]8;;\u001b\\\u001b[2m:\u001b[0m\u001b]8;id=534871;file://C:\\Users\\samue\\lematerial-forgebench\\src\\lematerial_forgebench\\models\\registry.py#156\u001b\\\u001b[2m156\u001b[0m\u001b]8;;\u001b\\\n"
      ]
     },
     "metadata": {},
     "output_type": "display_data"
    },
    {
     "data": {
      "text/html": [
       "<pre style=\"white-space:pre;overflow-x:auto;line-height:normal;font-family:Menlo,'DejaVu Sans Mono',consolas,'Courier New',monospace\"><span style=\"color: #7fbfbf; text-decoration-color: #7fbfbf\">           </span><span style=\"color: #000080; text-decoration-color: #000080\">INFO    </span> Successfully registered uma model                                               <a href=\"file://C:\\Users\\samue\\lematerial-forgebench\\src\\lematerial_forgebench\\models\\registry.py\" target=\"_blank\"><span style=\"color: #7f7f7f; text-decoration-color: #7f7f7f\">registry.py</span></a><span style=\"color: #7f7f7f; text-decoration-color: #7f7f7f\">:</span><a href=\"file://C:\\Users\\samue\\lematerial-forgebench\\src\\lematerial_forgebench\\models\\registry.py#156\" target=\"_blank\"><span style=\"color: #7f7f7f; text-decoration-color: #7f7f7f\">156</span></a>\n",
       "</pre>\n"
      ],
      "text/plain": [
       "\u001b[2;36m          \u001b[0m\u001b[2;36m \u001b[0m\u001b[34mINFO    \u001b[0m Successfully registered uma model                                               \u001b]8;id=982282;file://C:\\Users\\samue\\lematerial-forgebench\\src\\lematerial_forgebench\\models\\registry.py\u001b\\\u001b[2mregistry.py\u001b[0m\u001b]8;;\u001b\\\u001b[2m:\u001b[0m\u001b]8;id=487523;file://C:\\Users\\samue\\lematerial-forgebench\\src\\lematerial_forgebench\\models\\registry.py#156\u001b\\\u001b[2m156\u001b[0m\u001b]8;;\u001b\\\n"
      ]
     },
     "metadata": {},
     "output_type": "display_data"
    },
    {
     "name": "stdout",
     "output_type": "stream",
     "text": [
      "orb\n"
     ]
    },
    {
     "name": "stderr",
     "output_type": "stream",
     "text": [
      "C:\\Users\\samue\\lematerial-forgebench\\.venv\\Lib\\site-packages\\orb_models\\utils.py:30: UserWarning: Setting global torch default dtype to torch.float32.\n",
      "  warnings.warn(f\"Setting global torch default dtype to {torch_dtype}.\")\n"
     ]
    },
    {
     "data": {
      "text/html": [
       "<pre style=\"white-space:pre;overflow-x:auto;line-height:normal;font-family:Menlo,'DejaVu Sans Mono',consolas,'Courier New',monospace\"><span style=\"color: #7fbfbf; text-decoration-color: #7fbfbf\">[18:20:19] </span><span style=\"color: #000080; text-decoration-color: #000080\">INFO    </span> Successfully loaded ORB model: orb_v3_conservative_inf_omat                    <a href=\"file://C:\\Users\\samue\\lematerial-forgebench\\src\\lematerial_forgebench\\models\\orb\\calculator.py\" target=\"_blank\"><span style=\"color: #7f7f7f; text-decoration-color: #7f7f7f\">calculator.py</span></a><span style=\"color: #7f7f7f; text-decoration-color: #7f7f7f\">:</span><a href=\"file://C:\\Users\\samue\\lematerial-forgebench\\src\\lematerial_forgebench\\models\\orb\\calculator.py#59\" target=\"_blank\"><span style=\"color: #7f7f7f; text-decoration-color: #7f7f7f\">59</span></a>\n",
       "</pre>\n"
      ],
      "text/plain": [
       "\u001b[2;36m[18:20:19]\u001b[0m\u001b[2;36m \u001b[0m\u001b[34mINFO    \u001b[0m Successfully loaded ORB model: orb_v3_conservative_inf_omat                    \u001b]8;id=849615;file://C:\\Users\\samue\\lematerial-forgebench\\src\\lematerial_forgebench\\models\\orb\\calculator.py\u001b\\\u001b[2mcalculator.py\u001b[0m\u001b]8;;\u001b\\\u001b[2m:\u001b[0m\u001b]8;id=813596;file://C:\\Users\\samue\\lematerial-forgebench\\src\\lematerial_forgebench\\models\\orb\\calculator.py#59\u001b\\\u001b[2m59\u001b[0m\u001b]8;;\u001b\\\n"
      ]
     },
     "metadata": {},
     "output_type": "display_data"
    }
   ],
   "source": [
    "from lematerial_forgebench.preprocess.universal_stability_preprocess import (\n",
    "    UniversalStabilityPreprocessor,\n",
    ")\n",
    "\n",
    "metric = FrechetDistance(reference_df=test_lemat) \n",
    "stability_preprocessor = UniversalStabilityPreprocessor()\n",
    "stability_preprocessor_result = stability_preprocessor(structures)\n",
    "# stability_preprocessor_result.processed_structures[0].get(\"graph_embedding\")"
   ]
  },
  {
   "cell_type": "code",
   "execution_count": 9,
   "id": "f314805c-3fb9-4b14-beee-3f4d9e99befc",
   "metadata": {},
   "outputs": [
    {
     "data": {
      "text/plain": [
       "array([-6.18248940e-01,  3.95354360e-01,  1.27876326e-01, -1.16611309e-01,\n",
       "        2.31794804e-01,  7.32130047e-06, -2.79786468e-01,  8.81949887e-02,\n",
       "       -7.43535999e-03, -1.39016643e-01,  2.98540831e-01, -4.52517152e-01,\n",
       "        3.66314828e-01,  2.86402740e-02,  6.79986626e-02, -3.37073579e-02,\n",
       "       -8.75898898e-02,  1.79945394e-01,  1.30843539e-02, -1.96450241e-02,\n",
       "       -1.07172832e-01, -1.17588826e-01, -4.13982309e-02,  1.43906191e-01,\n",
       "        9.81063366e-01,  2.12826937e-01, -1.22115538e-01, -2.34585345e-01,\n",
       "        1.43253520e-01,  2.65044570e-02,  1.74727708e-01, -5.13868630e-01,\n",
       "       -6.30615652e-02,  1.81849316e-01, -1.18187435e-01, -1.45289525e-01,\n",
       "       -1.59209639e-01, -1.15232386e-01, -2.24942550e-01, -2.44276747e-02,\n",
       "       -2.42034093e-01,  2.23043859e-01,  1.71593294e-01, -6.91397786e-02,\n",
       "        7.92256668e-02, -1.93331271e-01, -1.50620952e-01, -2.10464019e-02,\n",
       "       -1.16789214e-01,  1.05905093e-01, -6.28117546e-02,  1.36864364e-01,\n",
       "        2.18050227e-01,  2.86711693e-01,  9.19975415e-02, -9.55164135e-02,\n",
       "        1.51347220e-01,  3.41531515e-01, -1.53534934e-01, -1.55603975e-01,\n",
       "        8.13434795e-02, -8.73291120e-02,  2.61545271e-01, -2.94099778e-01,\n",
       "        7.33855069e-02, -5.11580408e-02, -2.38869395e-02,  5.29555269e-02,\n",
       "       -3.94009799e-01,  2.76573837e-01,  2.03986090e-07,  5.87986931e-02,\n",
       "       -2.07834505e-02, -2.97784925e-01,  1.16546623e-01,  2.28659913e-01,\n",
       "       -1.68080539e-01, -4.34957147e-02,  2.32950076e-02, -2.76813596e-01,\n",
       "        6.02163039e-02, -2.16253072e-01,  7.31404796e-02, -1.18558955e-05,\n",
       "       -9.59005207e-02,  1.48801193e-01, -2.23740160e-01, -1.91137865e-01,\n",
       "       -2.39773333e-01, -2.44751260e-01, -1.77896991e-02, -6.22284293e-01,\n",
       "        2.51746267e-01,  4.33013737e-01,  1.41147375e-01,  7.89503902e-02,\n",
       "       -2.16551726e-07,  1.44956872e-01, -6.67382851e-02,  6.33592904e-02,\n",
       "        8.47396404e-02, -2.53117532e-01, -7.11363256e-02, -1.30793616e-01,\n",
       "       -1.87375724e-01,  7.39690661e-02, -4.24513727e-01,  2.58860797e-01,\n",
       "       -7.47034773e-02, -2.97750324e-01,  4.30549607e-02, -3.33022624e-02,\n",
       "        2.50899494e-01, -3.52199852e-01, -1.62494808e-01, -1.99977726e-01,\n",
       "       -5.39036840e-02, -5.81199169e-01,  2.41637588e-01, -3.27005446e-01,\n",
       "        4.65282705e-03,  2.61972785e-01,  3.08696121e-01, -1.18795767e-01,\n",
       "        1.50016338e-01,  2.91278005e-01,  2.16983587e-01,  5.21692097e-01,\n",
       "        3.83391343e-02, -4.13873047e-01,  1.85560286e-01, -6.61370680e-02,\n",
       "        2.33797193e-01, -9.21138972e-02, -7.34264106e-02,  1.38821360e-03,\n",
       "        3.29429668e-06, -8.37495327e-02,  1.26462221e-01,  6.22181110e-02,\n",
       "        1.71769913e-02,  4.72759828e-02, -3.93001556e-01,  3.50492120e-01,\n",
       "       -2.61022031e-01,  1.29806742e-01, -6.13282733e-02, -1.60123035e-02,\n",
       "        9.91727412e-03, -2.08634106e-06,  1.50686577e-01, -2.80154228e-01,\n",
       "       -8.49441811e-03, -1.51480079e-01,  5.02012968e-02,  5.49611077e-02,\n",
       "       -1.08158424e-01,  7.27749318e-02,  1.51582763e-01,  9.88038182e-02,\n",
       "        3.60463113e-02, -1.77763715e-01, -3.90770771e-02, -9.78348330e-02,\n",
       "       -3.64535265e-02, -2.64256895e-02,  1.52522117e-01, -8.68276038e-05,\n",
       "       -1.94043756e-01, -8.97682533e-02,  7.94509500e-02, -1.30632911e-02,\n",
       "        7.79857039e-02, -1.07661381e-01,  5.56700408e-01, -6.61487460e-01,\n",
       "        2.22786576e-01, -3.61551940e-02, -1.80099145e-01, -2.20217910e-02,\n",
       "       -3.11632156e-01, -1.72087967e-01, -2.32666571e-06, -3.35284695e-02,\n",
       "        7.65527338e-02, -1.31279647e-01, -1.32530928e-01, -2.13398524e-02,\n",
       "        4.27123725e-01,  8.85167941e-02, -1.92913532e-01,  8.03421885e-02,\n",
       "        4.66094613e-01, -3.93410996e-02, -4.23781557e-07,  5.14946818e-01,\n",
       "       -3.13676268e-01,  1.84851974e-01, -2.92380357e+00, -3.46476704e-01,\n",
       "        1.39329471e-02, -2.18512621e-02,  3.55223686e-01,  2.10793260e-02,\n",
       "        5.90461940e-02,  8.91817585e-02,  3.20073426e-01, -2.82693822e-02,\n",
       "        4.63082999e-01,  7.97160789e-02, -3.42435353e-02, -6.25723153e-02,\n",
       "        3.74264956e-01,  2.94774294e-01, -2.60909855e-01, -2.91001461e-02,\n",
       "       -3.09770145e-02, -7.31854737e-02,  2.39463355e-02,  2.04028375e-02,\n",
       "        6.19357638e-02, -2.45444834e-01, -5.68860658e-02, -1.37502223e-01,\n",
       "       -1.76367164e-01, -2.23751720e-02, -1.87992007e-02,  2.00830966e-01,\n",
       "       -3.35325561e-02, -1.34361774e-01, -3.64649266e-01,  2.15629965e-01,\n",
       "        1.03457272e-01, -2.91486681e-01, -2.79143691e-01,  1.12748876e-01,\n",
       "       -3.41739878e-02,  2.90839165e-01,  3.51500511e-01,  1.39960106e-02,\n",
       "       -8.83939713e-02, -1.93280846e-01, -2.97674239e-01,  3.03852439e-01,\n",
       "        2.80610830e-01,  8.64525735e-02,  8.71565680e-06, -2.14003846e-01,\n",
       "       -2.04093426e-01, -1.34068951e-01, -9.82139036e-02, -1.94352582e-01,\n",
       "        1.76631629e-01,  3.17846477e-01,  1.14687546e-05, -2.02932090e-01],\n",
       "      dtype=float32)"
      ]
     },
     "execution_count": 9,
     "metadata": {},
     "output_type": "execute_result"
    }
   ],
   "source": [
    "stability_preprocessor_result.processed_structures[0].properties.get(\"graph_embedding\")"
   ]
  },
  {
   "cell_type": "code",
   "execution_count": null,
   "id": "94f5b94d-3601-4c73-b4a0-6004afb626bd",
   "metadata": {},
   "outputs": [],
   "source": []
  }
 ],
 "metadata": {
  "kernelspec": {
   "display_name": "Python 3 (ipykernel)",
   "language": "python",
   "name": "python3"
  },
  "language_info": {
   "codemirror_mode": {
    "name": "ipython",
    "version": 3
   },
   "file_extension": ".py",
   "mimetype": "text/x-python",
   "name": "python",
   "nbconvert_exporter": "python",
   "pygments_lexer": "ipython3",
   "version": "3.11.11"
  }
 },
 "nbformat": 4,
 "nbformat_minor": 5
}
