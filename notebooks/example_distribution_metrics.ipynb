{
 "cells": [
  {
   "cell_type": "code",
   "execution_count": 64,
   "id": "8b9a431a-ddf9-4b97-874f-571dd1bc4bfb",
   "metadata": {},
   "outputs": [
    {
     "name": "stdout",
     "output_type": "stream",
     "text": [
      "The autoreload extension is already loaded. To reload it, use:\n",
      "  %reload_ext autoreload\n"
     ]
    }
   ],
   "source": [
    "import pickle\n",
    "\n",
    "import matplotlib.pyplot as plt\n",
    "import numpy as np\n",
    "import pandas as pd\n",
    "from datasets import load_dataset\n",
    "from pymatgen.core import Structure\n",
    "from pymatgen.util.testing import PymatgenTest\n",
    "from scipy.spatial.distance import jensenshannon\n",
    "\n",
    "from lematerial_forgebench.benchmarks.distribution_benchmark import (\n",
    "    DistributionBenchmark,\n",
    ")\n",
    "from lematerial_forgebench.metrics.distribution_metrics import (\n",
    "    MMD,\n",
    "    FrechetDistance,\n",
    "    JSDistance,\n",
    ")\n",
    "from lematerial_forgebench.preprocess.distribution_preprocess import (\n",
    "    DistributionPreprocessor,\n",
    ")\n",
    "from lematerial_forgebench.utils.distribution_utils import (\n",
    "    map_space_group_to_crystal_system,\n",
    ")\n",
    "\n",
    "%load_ext autoreload\n",
    "%autoreload 2"
   ]
  },
  {
   "cell_type": "code",
   "execution_count": 73,
   "id": "34ca5d5e-aa6d-4722-a511-8cf0d4445017",
   "metadata": {},
   "outputs": [],
   "source": [
    "with open(\"lematbulk_properties.pkl\", \"rb\") as f:\n",
    "    test_lemat = pickle.load(f)"
   ]
  },
  {
   "cell_type": "code",
   "execution_count": 9,
   "id": "c013bc3e-2e91-44ef-ba42-e89c170d96bc",
   "metadata": {},
   "outputs": [
    {
     "name": "stderr",
     "output_type": "stream",
     "text": [
      "C:\\Users\\samue\\AppData\\Local\\Temp\\ipykernel_24916\\2264363178.py:1: FutureWarning: PymatgenTest is deprecated, and will be removed on 2026-01-01\n",
      "Use MatSciTest in pymatgen.util.testing instead.\n",
      "  test = PymatgenTest()\n"
     ]
    }
   ],
   "source": [
    "test = PymatgenTest()\n",
    "\n",
    "filename = \"CsBr.cif\"\n",
    "structure = Structure.from_file(filename)\n",
    "structure = structure.remove_oxidation_states()\n",
    "\n",
    "filename2 = \"CsPbBr3.cif\"\n",
    "structure2 = Structure.from_file(filename2)\n",
    "structure2 = structure2.remove_oxidation_states()\n",
    "\n",
    "structures = [\n",
    "    structure,\n",
    "    structure2,\n",
    "    test.get_structure(\"Si\"),\n",
    "    test.get_structure(\"LiFePO4\"),\n",
    "]"
   ]
  },
  {
   "cell_type": "code",
   "execution_count": 76,
   "id": "156a7ef5-e054-45f5-a407-619d8350264c",
   "metadata": {},
   "outputs": [],
   "source": [
    "distribution_preprocessor = DistributionPreprocessor()\n",
    "preprocessor_result = distribution_preprocessor(structures)"
   ]
  },
  {
   "cell_type": "code",
   "execution_count": 77,
   "id": "b565ecd0-f79c-4554-a430-01e5236559d6",
   "metadata": {},
   "outputs": [],
   "source": [
    "test_df = pd.DataFrame(preprocessor_result.processed_structures, columns = [\"Volume\", \"Density(g/cm^3)\", \"Density(atoms/A^3)\", \n",
    "                                                                            \"SpaceGroup\", \"CrystalSystem\", \"CompositionCounts\",\n",
    "                                                                            \"Composition\"])"
   ]
  },
  {
   "cell_type": "code",
   "execution_count": 201,
   "id": "ab57bdfc-c85a-4d08-afb7-513b7286fd93",
   "metadata": {},
   "outputs": [
    {
     "name": "stdout",
     "output_type": "stream",
     "text": [
      "MMD_results\n"
     ]
    }
   ],
   "source": [
    "benchmark = DistributionBenchmark()\n",
    "benchmark_result = benchmark.evaluate([test_df], test_lemat.iloc[0:10])"
   ]
  },
  {
   "cell_type": "code",
   "execution_count": 200,
   "id": "a57750b5-43b9-453a-bbfe-26b157e4e244",
   "metadata": {},
   "outputs": [
    {
     "data": {
      "text/plain": [
       "{'JSDistance': {'combined_value': None,\n",
       "  'JSDistance_value': {'SpaceGroup': np.float64(0.8325546111576977),\n",
       "   'CrystalSystem': np.float64(0.2788095948658411),\n",
       "   'CompositionCounts': np.float64(0.6901659684588751),\n",
       "   'Composition': np.float64(0.713320308611451)},\n",
       "  'metric_results': {'JSDistance': MetricResult(metrics={'Jensen_Shannon_Distance': {'SpaceGroup': np.float64(0.8325546111576977), 'CrystalSystem': np.float64(0.2788095948658411), 'CompositionCounts': np.float64(0.6901659684588751), 'Composition': np.float64(0.713320308611451)}}, primary_metric='Jensen_Shannon_Distance', uncertainties={}, config=DistributionMetricConfig(name='Distribution', description='Measures distance between two reference distributions', lower_is_better=False, n_jobs=1, xy=0.1, xz=False), computation_time=0.006000041961669922, n_structures=1, individual_values=[{'SpaceGroup': np.float64(0.8325546111576977), 'CrystalSystem': np.float64(0.2788095948658411), 'CompositionCounts': np.float64(0.6901659684588751), 'Composition': np.float64(0.713320308611451)}], failed_indices=[], warnings=[])}},\n",
       " 'MMD': {'combined_value': None,\n",
       "  'MMD_value': {'Volume': np.float64(0.3578373686257075),\n",
       "   'Density(g/cm^3)': np.float64(0.16174021104526248),\n",
       "   'Density(atoms/A^3)': np.float64(0.0003819190830129937)},\n",
       "  'metric_results': {'MMD': MetricResult(metrics={'MMD': {'Volume': np.float64(0.3578373686257075), 'Density(g/cm^3)': np.float64(0.16174021104526248), 'Density(atoms/A^3)': np.float64(0.0003819190830129937)}}, primary_metric='MMD', uncertainties={}, config=DistributionMetricConfig(name='Distribution', description='Measures distance between two reference distributions', lower_is_better=False, n_jobs=1, xy=0.1, xz=False), computation_time=0.0010006427764892578, n_structures=1, individual_values=[{'Volume': np.float64(0.3578373686257075), 'Density(g/cm^3)': np.float64(0.16174021104526248), 'Density(atoms/A^3)': np.float64(0.0003819190830129937)}], failed_indices=[], warnings=[])}}}"
      ]
     },
     "execution_count": 200,
     "metadata": {},
     "output_type": "execute_result"
    }
   ],
   "source": [
    "benchmark_result.evaluator_results"
   ]
  },
  {
   "cell_type": "code",
   "execution_count": 205,
   "id": "484cb4be-9fc9-4453-a3b4-e9d91c785e64",
   "metadata": {},
   "outputs": [],
   "source": [
    "distribution_preprocessor = DistributionPreprocessor()\n",
    "preprocessor_result = distribution_preprocessor(structures)\n",
    "test_df = pd.DataFrame(preprocessor_result.processed_structures, columns = [\"Volume\", \"Density(g/cm^3)\", \"Density(atoms/A^3)\", \n",
    "                                                                        \"SpaceGroup\", \"CrystalSystem\", \"CompositionCounts\",\n",
    "                                                                        \"Composition\"])\n",
    "\n",
    "with open(\"lematbulk_properties.pkl\", \"rb\") as f:\n",
    "    test_lemat = pickle.load(f)\n",
    "metric = MMD()\n",
    "result = metric([test_df], test_lemat)"
   ]
  },
  {
   "cell_type": "code",
   "execution_count": 206,
   "id": "5de76d89-03ff-43bc-9a3c-8f4bced09ccb",
   "metadata": {},
   "outputs": [
    {
     "data": {
      "text/plain": [
       "{'MMD': {'Volume': np.float64(0.2545689002257389),\n",
       "  'Density(g/cm^3)': np.float64(0.41936986825451567),\n",
       "  'Density(atoms/A^3)': np.float64(4.826848978067844e-06)}}"
      ]
     },
     "execution_count": 206,
     "metadata": {},
     "output_type": "execute_result"
    }
   ],
   "source": [
    "result.metrics"
   ]
  },
  {
   "cell_type": "code",
   "execution_count": 209,
   "id": "aebf2c91-4b9f-40f2-bf6b-f5ef99d6e067",
   "metadata": {},
   "outputs": [
    {
     "ename": "TypeError",
     "evalue": "ufunc 'isnan' not supported for the input types, and the inputs could not be safely coerced to any supported types according to the casting rule ''safe''",
     "output_type": "error",
     "traceback": [
      "\u001b[31m---------------------------------------------------------------------------\u001b[39m",
      "\u001b[31mTypeError\u001b[39m                                 Traceback (most recent call last)",
      "\u001b[36mCell\u001b[39m\u001b[36m \u001b[39m\u001b[32mIn[209]\u001b[39m\u001b[32m, line 1\u001b[39m\n\u001b[32m----> \u001b[39m\u001b[32m1\u001b[39m \u001b[38;5;28;01massert\u001b[39;00m \u001b[38;5;129;01mnot\u001b[39;00m \u001b[43mnp\u001b[49m\u001b[43m.\u001b[49m\u001b[43misnan\u001b[49m\u001b[43m(\u001b[49m\u001b[43mnp\u001b[49m\u001b[43m.\u001b[49m\u001b[43masarray\u001b[49m\u001b[43m(\u001b[49m\u001b[43mresult\u001b[49m\u001b[43m.\u001b[49m\u001b[43mmetrics\u001b[49m\u001b[43m[\u001b[49m\u001b[33;43m\"\u001b[39;49m\u001b[33;43mMMD\u001b[39;49m\u001b[33;43m\"\u001b[39;49m\u001b[43m]\u001b[49m\u001b[43m.\u001b[49m\u001b[43mvalues\u001b[49m\u001b[43m(\u001b[49m\u001b[43m)\u001b[49m\u001b[43m)\u001b[49m\u001b[43m)\u001b[49m\n",
      "\u001b[31mTypeError\u001b[39m: ufunc 'isnan' not supported for the input types, and the inputs could not be safely coerced to any supported types according to the casting rule ''safe''"
     ]
    }
   ],
   "source": [
    "    assert not np.isnan(result.metrics[\"MMD\"].values())\n"
   ]
  },
  {
   "cell_type": "code",
   "execution_count": 198,
   "id": "e5fd0b6f-594b-46b6-b433-038fe13d860f",
   "metadata": {},
   "outputs": [
    {
     "data": {
      "text/plain": [
       "{'JSDistance': <lematerial_forgebench.evaluator.MetricEvaluator at 0x12998b53150>,\n",
       " 'MMD': <lematerial_forgebench.evaluator.MetricEvaluator at 0x12998c35750>}"
      ]
     },
     "execution_count": 198,
     "metadata": {},
     "output_type": "execute_result"
    }
   ],
   "source": [
    "benchmark.evaluators"
   ]
  },
  {
   "cell_type": "code",
   "execution_count": 191,
   "id": "953a52f4-c396-436a-b3b7-22c35cb7d81f",
   "metadata": {},
   "outputs": [
    {
     "data": {
      "text/plain": [
       "{'SpaceGroup': np.float64(0.8325546111576977),\n",
       " 'CrystalSystem': np.float64(0.2788095948658411),\n",
       " 'CompositionCounts': np.float64(0.6901659684588751),\n",
       " 'Composition': np.float64(0.713320308611451)}"
      ]
     },
     "execution_count": 191,
     "metadata": {},
     "output_type": "execute_result"
    }
   ],
   "source": [
    "benchmark_result.evaluator_results[\"JSDistance\"][\"JSDistance_value\"]"
   ]
  },
  {
   "cell_type": "code",
   "execution_count": 192,
   "id": "ff9c5632-fc2b-4b29-a45a-d961a25d5bea",
   "metadata": {},
   "outputs": [
    {
     "data": {
      "text/plain": [
       "{'Volume': np.float64(0.3578373686257075),\n",
       " 'Density(g/cm^3)': np.float64(0.16174021104526248),\n",
       " 'Density(atoms/A^3)': np.float64(0.0003819190830129937)}"
      ]
     },
     "execution_count": 192,
     "metadata": {},
     "output_type": "execute_result"
    }
   ],
   "source": [
    "benchmark_result.evaluator_results[\"MMD\"][\"MMD_value\"]"
   ]
  },
  {
   "cell_type": "code",
   "execution_count": null,
   "id": "c4e6ac0c-549a-4513-a8e2-8e43b4aaa75b",
   "metadata": {},
   "outputs": [],
   "source": []
  }
 ],
 "metadata": {
  "kernelspec": {
   "display_name": "Python 3 (ipykernel)",
   "language": "python",
   "name": "python3"
  },
  "language_info": {
   "codemirror_mode": {
    "name": "ipython",
    "version": 3
   },
   "file_extension": ".py",
   "mimetype": "text/x-python",
   "name": "python",
   "nbconvert_exporter": "python",
   "pygments_lexer": "ipython3",
   "version": "3.11.11"
  }
 },
 "nbformat": 4,
 "nbformat_minor": 5
}
