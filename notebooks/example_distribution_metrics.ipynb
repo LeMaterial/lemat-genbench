{
 "cells": [
  {
   "cell_type": "code",
   "execution_count": 1,
   "id": "8b9a431a-ddf9-4b97-874f-571dd1bc4bfb",
   "metadata": {
    "scrolled": true
   },
   "outputs": [
    {
     "data": {
      "text/html": [
       "<pre style=\"white-space:pre;overflow-x:auto;line-height:normal;font-family:Menlo,'DejaVu Sans Mono',consolas,'Courier New',monospace\"><span style=\"color: #7fbfbf; text-decoration-color: #7fbfbf\">[01:09:08] </span><span style=\"color: #808000; text-decoration-color: #808000\">WARNING </span> equiformer not available                                                        <a href=\"file://C:\\Users\\samue\\lematerial-forgebench\\src\\lematerial_forgebench\\models\\registry.py\" target=\"_blank\"><span style=\"color: #7f7f7f; text-decoration-color: #7f7f7f\">registry.py</span></a><span style=\"color: #7f7f7f; text-decoration-color: #7f7f7f\">:</span><a href=\"file://C:\\Users\\samue\\lematerial-forgebench\\src\\lematerial_forgebench\\models\\registry.py#141\" target=\"_blank\"><span style=\"color: #7f7f7f; text-decoration-color: #7f7f7f\">141</span></a>\n",
       "</pre>\n"
      ],
      "text/plain": [
       "\u001b[2;36m[01:09:08]\u001b[0m\u001b[2;36m \u001b[0m\u001b[33mWARNING \u001b[0m equiformer not available                                                        \u001b]8;id=165567;file://C:\\Users\\samue\\lematerial-forgebench\\src\\lematerial_forgebench\\models\\registry.py\u001b\\\u001b[2mregistry.py\u001b[0m\u001b]8;;\u001b\\\u001b[2m:\u001b[0m\u001b]8;id=617807;file://C:\\Users\\samue\\lematerial-forgebench\\src\\lematerial_forgebench\\models\\registry.py#141\u001b\\\u001b[2m141\u001b[0m\u001b]8;;\u001b\\\n"
      ]
     },
     "metadata": {},
     "output_type": "display_data"
    },
    {
     "name": "stderr",
     "output_type": "stream",
     "text": [
      "C:\\Users\\samue\\lematerial-forgebench\\.venv\\Lib\\site-packages\\e3nn\\o3\\_wigner.py:10: UserWarning: Environment variable TORCH_FORCE_NO_WEIGHTS_ONLY_LOAD detected, since the`weights_only` argument was not explicitly passed to `torch.load`, forcing weights_only=False.\n",
      "  _Jd, _W3j_flat, _W3j_indices = torch.load(os.path.join(os.path.dirname(__file__), 'constants.pt'))\n"
     ]
    },
    {
     "name": "stdout",
     "output_type": "stream",
     "text": [
      "cuequivariance or cuequivariance_torch is not available. Cuequivariance acceleration will be disabled.\n"
     ]
    },
    {
     "data": {
      "text/html": [
       "<pre style=\"white-space:pre;overflow-x:auto;line-height:normal;font-family:Menlo,'DejaVu Sans Mono',consolas,'Courier New',monospace\"><span style=\"color: #7fbfbf; text-decoration-color: #7fbfbf\">[01:09:11] </span><span style=\"color: #000080; text-decoration-color: #000080\">INFO    </span> Successfully registered mace model                                              <a href=\"file://C:\\Users\\samue\\lematerial-forgebench\\src\\lematerial_forgebench\\models\\registry.py\" target=\"_blank\"><span style=\"color: #7f7f7f; text-decoration-color: #7f7f7f\">registry.py</span></a><span style=\"color: #7f7f7f; text-decoration-color: #7f7f7f\">:</span><a href=\"file://C:\\Users\\samue\\lematerial-forgebench\\src\\lematerial_forgebench\\models\\registry.py#156\" target=\"_blank\"><span style=\"color: #7f7f7f; text-decoration-color: #7f7f7f\">156</span></a>\n",
       "</pre>\n"
      ],
      "text/plain": [
       "\u001b[2;36m[01:09:11]\u001b[0m\u001b[2;36m \u001b[0m\u001b[34mINFO    \u001b[0m Successfully registered mace model                                              \u001b]8;id=179966;file://C:\\Users\\samue\\lematerial-forgebench\\src\\lematerial_forgebench\\models\\registry.py\u001b\\\u001b[2mregistry.py\u001b[0m\u001b]8;;\u001b\\\u001b[2m:\u001b[0m\u001b]8;id=787360;file://C:\\Users\\samue\\lematerial-forgebench\\src\\lematerial_forgebench\\models\\registry.py#156\u001b\\\u001b[2m156\u001b[0m\u001b]8;;\u001b\\\n"
      ]
     },
     "metadata": {},
     "output_type": "display_data"
    },
    {
     "data": {
      "text/html": [
       "<pre style=\"white-space:pre;overflow-x:auto;line-height:normal;font-family:Menlo,'DejaVu Sans Mono',consolas,'Courier New',monospace\"><span style=\"color: #7fbfbf; text-decoration-color: #7fbfbf\">           </span><span style=\"color: #000080; text-decoration-color: #000080\">INFO    </span> Successfully registered orb model                                               <a href=\"file://C:\\Users\\samue\\lematerial-forgebench\\src\\lematerial_forgebench\\models\\registry.py\" target=\"_blank\"><span style=\"color: #7f7f7f; text-decoration-color: #7f7f7f\">registry.py</span></a><span style=\"color: #7f7f7f; text-decoration-color: #7f7f7f\">:</span><a href=\"file://C:\\Users\\samue\\lematerial-forgebench\\src\\lematerial_forgebench\\models\\registry.py#156\" target=\"_blank\"><span style=\"color: #7f7f7f; text-decoration-color: #7f7f7f\">156</span></a>\n",
       "</pre>\n"
      ],
      "text/plain": [
       "\u001b[2;36m          \u001b[0m\u001b[2;36m \u001b[0m\u001b[34mINFO    \u001b[0m Successfully registered orb model                                               \u001b]8;id=814713;file://C:\\Users\\samue\\lematerial-forgebench\\src\\lematerial_forgebench\\models\\registry.py\u001b\\\u001b[2mregistry.py\u001b[0m\u001b]8;;\u001b\\\u001b[2m:\u001b[0m\u001b]8;id=597823;file://C:\\Users\\samue\\lematerial-forgebench\\src\\lematerial_forgebench\\models\\registry.py#156\u001b\\\u001b[2m156\u001b[0m\u001b]8;;\u001b\\\n"
      ]
     },
     "metadata": {},
     "output_type": "display_data"
    },
    {
     "data": {
      "text/html": [
       "<pre style=\"white-space:pre;overflow-x:auto;line-height:normal;font-family:Menlo,'DejaVu Sans Mono',consolas,'Courier New',monospace\"><span style=\"color: #7fbfbf; text-decoration-color: #7fbfbf\">           </span><span style=\"color: #000080; text-decoration-color: #000080\">INFO    </span> Successfully registered uma model                                               <a href=\"file://C:\\Users\\samue\\lematerial-forgebench\\src\\lematerial_forgebench\\models\\registry.py\" target=\"_blank\"><span style=\"color: #7f7f7f; text-decoration-color: #7f7f7f\">registry.py</span></a><span style=\"color: #7f7f7f; text-decoration-color: #7f7f7f\">:</span><a href=\"file://C:\\Users\\samue\\lematerial-forgebench\\src\\lematerial_forgebench\\models\\registry.py#156\" target=\"_blank\"><span style=\"color: #7f7f7f; text-decoration-color: #7f7f7f\">156</span></a>\n",
       "</pre>\n"
      ],
      "text/plain": [
       "\u001b[2;36m          \u001b[0m\u001b[2;36m \u001b[0m\u001b[34mINFO    \u001b[0m Successfully registered uma model                                               \u001b]8;id=516838;file://C:\\Users\\samue\\lematerial-forgebench\\src\\lematerial_forgebench\\models\\registry.py\u001b\\\u001b[2mregistry.py\u001b[0m\u001b]8;;\u001b\\\u001b[2m:\u001b[0m\u001b]8;id=247097;file://C:\\Users\\samue\\lematerial-forgebench\\src\\lematerial_forgebench\\models\\registry.py#156\u001b\\\u001b[2m156\u001b[0m\u001b]8;;\u001b\\\n"
      ]
     },
     "metadata": {},
     "output_type": "display_data"
    }
   ],
   "source": [
    "import pickle\n",
    "\n",
    "import matplotlib.pyplot as plt\n",
    "import numpy as np\n",
    "import pandas as pd\n",
    "from datasets import load_dataset\n",
    "from pymatgen.core import Structure\n",
    "from pymatgen.util.testing import PymatgenTest\n",
    "from scipy.spatial.distance import jensenshannon\n",
    "\n",
    "from lematerial_forgebench.benchmarks.distribution_benchmark import (\n",
    "    DistributionBenchmark,\n",
    ")\n",
    "from lematerial_forgebench.preprocess.base import PreprocessorResult\n",
    "from lematerial_forgebench.metrics.distribution_metrics import (\n",
    "    MMD,\n",
    "    FrechetDistance,\n",
    "    JSDistance,\n",
    ")\n",
    "from lematerial_forgebench.preprocess.distribution_preprocess import (\n",
    "    DistributionPreprocessor,\n",
    ")\n",
    "from lematerial_forgebench.utils.distribution_utils import (\n",
    "    map_space_group_to_crystal_system,\n",
    ")\n",
    "\n",
    "from lematerial_forgebench.preprocess.universal_stability_preprocess import (\n",
    "    UniversalStabilityPreprocessor\n",
    ")\n",
    "\n",
    "%load_ext autoreload\n",
    "%autoreload 2"
   ]
  },
  {
   "cell_type": "code",
   "execution_count": 2,
   "id": "c013bc3e-2e91-44ef-ba42-e89c170d96bc",
   "metadata": {},
   "outputs": [
    {
     "name": "stderr",
     "output_type": "stream",
     "text": [
      "C:\\Users\\samue\\AppData\\Local\\Temp\\ipykernel_46736\\905669326.py:1: FutureWarning: PymatgenTest is deprecated, and will be removed on 2026-01-01\n",
      "Use MatSciTest in pymatgen.util.testing instead.\n",
      "  test = PymatgenTest()\n"
     ]
    }
   ],
   "source": [
    "test = PymatgenTest()\n",
    "\n",
    "filename = \"CsBr.cif\"\n",
    "structure = Structure.from_file(filename)\n",
    "structure = structure.remove_oxidation_states()\n",
    "\n",
    "filename2 = \"CsPbBr3.cif\"\n",
    "structure2 = Structure.from_file(filename2)\n",
    "structure2 = structure2.remove_oxidation_states()\n",
    "\n",
    "structures = [\n",
    "    # structure,\n",
    "    # structure2,\n",
    "    test.get_structure(\"Si\"),\n",
    "    test.get_structure(\"LiFePO4\"),\n",
    "]"
   ]
  },
  {
   "cell_type": "code",
   "execution_count": 8,
   "id": "3c9fda85-ba2e-493f-a25a-245b6a509a3e",
   "metadata": {},
   "outputs": [],
   "source": [
    "with open(\"../data/full_reference_df.pkl\", \"rb\") as f:\n",
    "    reference_df = pickle.load(f)"
   ]
  },
  {
   "cell_type": "code",
   "execution_count": 3,
   "id": "ac803dcc-bef0-482b-bb3c-1e8c25f1b2c0",
   "metadata": {},
   "outputs": [
    {
     "name": "stderr",
     "output_type": "stream",
     "text": [
      "C:\\Users\\samue\\lematerial-forgebench\\.venv\\Lib\\site-packages\\orb_models\\utils.py:30: UserWarning: Setting global torch default dtype to torch.float32.\n",
      "  warnings.warn(f\"Setting global torch default dtype to {torch_dtype}.\")\n"
     ]
    },
    {
     "data": {
      "text/html": [
       "<pre style=\"white-space:pre;overflow-x:auto;line-height:normal;font-family:Menlo,'DejaVu Sans Mono',consolas,'Courier New',monospace\"><span style=\"color: #7fbfbf; text-decoration-color: #7fbfbf\">[01:09:18] </span><span style=\"color: #000080; text-decoration-color: #000080\">INFO    </span> Successfully loaded ORB model: orb_v3_conservative_inf_omat                    <a href=\"file://C:\\Users\\samue\\lematerial-forgebench\\src\\lematerial_forgebench\\models\\orb\\calculator.py\" target=\"_blank\"><span style=\"color: #7f7f7f; text-decoration-color: #7f7f7f\">calculator.py</span></a><span style=\"color: #7f7f7f; text-decoration-color: #7f7f7f\">:</span><a href=\"file://C:\\Users\\samue\\lematerial-forgebench\\src\\lematerial_forgebench\\models\\orb\\calculator.py#59\" target=\"_blank\"><span style=\"color: #7f7f7f; text-decoration-color: #7f7f7f\">59</span></a>\n",
       "</pre>\n"
      ],
      "text/plain": [
       "\u001b[2;36m[01:09:18]\u001b[0m\u001b[2;36m \u001b[0m\u001b[34mINFO    \u001b[0m Successfully loaded ORB model: orb_v3_conservative_inf_omat                    \u001b]8;id=856514;file://C:\\Users\\samue\\lematerial-forgebench\\src\\lematerial_forgebench\\models\\orb\\calculator.py\u001b\\\u001b[2mcalculator.py\u001b[0m\u001b]8;;\u001b\\\u001b[2m:\u001b[0m\u001b]8;id=390036;file://C:\\Users\\samue\\lematerial-forgebench\\src\\lematerial_forgebench\\models\\orb\\calculator.py#59\u001b\\\u001b[2m59\u001b[0m\u001b]8;;\u001b\\\n"
      ]
     },
     "metadata": {},
     "output_type": "display_data"
    },
    {
     "name": "stderr",
     "output_type": "stream",
     "text": [
      "100%|████████████████████████████████████████████████████████████████████████████████████| 2/2 [00:08<00:00,  4.32s/it]\n"
     ]
    }
   ],
   "source": [
    "stability_preprocessor = UniversalStabilityPreprocessor(model_name=\"orb\", timeout = 100000, relax_structures = False)\n",
    "stability_preprocessor_result = stability_preprocessor(structures)"
   ]
  },
  {
   "cell_type": "code",
   "execution_count": 4,
   "id": "f7c3c414-bb9a-412a-9a65-c6d9b5a05ba0",
   "metadata": {},
   "outputs": [],
   "source": [
    "# stability_preprocessor_result.processed_structures[1].properties"
   ]
  },
  {
   "cell_type": "code",
   "execution_count": 5,
   "id": "156a7ef5-e054-45f5-a407-619d8350264c",
   "metadata": {},
   "outputs": [
    {
     "name": "stderr",
     "output_type": "stream",
     "text": [
      "100%|███████████████████████████████████████████████████████████████████████████████████| 2/2 [00:00<00:00, 304.51it/s]\n"
     ]
    }
   ],
   "source": [
    "distribution_preprocessor = DistributionPreprocessor()\n",
    "dist_preprocessor_result = distribution_preprocessor(structures)"
   ]
  },
  {
   "cell_type": "code",
   "execution_count": 10,
   "id": "9472fc6e-0126-4b33-a6c0-4493eb5f3e18",
   "metadata": {
    "scrolled": true
   },
   "outputs": [
    {
     "ename": "FileNotFoundError",
     "evalue": "[Errno 2] No such file or directory: 'data/lematbulk_composition_counts_distribution.json'",
     "output_type": "error",
     "traceback": [
      "\u001b[31m---------------------------------------------------------------------------\u001b[39m",
      "\u001b[31mFileNotFoundError\u001b[39m                         Traceback (most recent call last)",
      "\u001b[36mCell\u001b[39m\u001b[36m \u001b[39m\u001b[32mIn[10]\u001b[39m\u001b[32m, line 3\u001b[39m\n\u001b[32m      1\u001b[39m metric = JSDistance(reference_df=reference_df) \n\u001b[32m      2\u001b[39m default_args = metric._get_compute_attributes()\n\u001b[32m----> \u001b[39m\u001b[32m3\u001b[39m metric_result = \u001b[43mmetric\u001b[49m\u001b[43m(\u001b[49m\u001b[43mdist_preprocessor_result\u001b[49m\u001b[43m.\u001b[49m\u001b[43mprocessed_structures\u001b[49m\u001b[43m,\u001b[49m\u001b[43m \u001b[49m\u001b[43m*\u001b[49m\u001b[43m*\u001b[49m\u001b[43mdefault_args\u001b[49m\u001b[43m)\u001b[49m\n\u001b[32m      4\u001b[39m \u001b[38;5;28mprint\u001b[39m(metric_result.metrics)\n",
      "\u001b[36mFile \u001b[39m\u001b[32m~\\lematerial-forgebench\\src\\lematerial_forgebench\\metrics\\base.py:451\u001b[39m, in \u001b[36mBaseMetric.__call__\u001b[39m\u001b[34m(self, structures, **compute_args)\u001b[39m\n\u001b[32m    435\u001b[39m \u001b[38;5;250m\u001b[39m\u001b[33;03m\"\"\"Convenient callable interface for computing the metric.\u001b[39;00m\n\u001b[32m    436\u001b[39m \n\u001b[32m    437\u001b[39m \u001b[33;03mParameters\u001b[39;00m\n\u001b[32m   (...)\u001b[39m\u001b[32m    448\u001b[39m \u001b[33;03m    Object containing the metric value and computation metadata.\u001b[39;00m\n\u001b[32m    449\u001b[39m \u001b[33;03m\"\"\"\u001b[39;00m\n\u001b[32m    450\u001b[39m structures_list = format_structures(structures)\n\u001b[32m--> \u001b[39m\u001b[32m451\u001b[39m \u001b[38;5;28;01mreturn\u001b[39;00m \u001b[38;5;28;43mself\u001b[39;49m\u001b[43m.\u001b[49m\u001b[43mcompute\u001b[49m\u001b[43m(\u001b[49m\u001b[43mstructures_list\u001b[49m\u001b[43m,\u001b[49m\u001b[43m \u001b[49m\u001b[43m*\u001b[49m\u001b[43m*\u001b[49m\u001b[43mcompute_args\u001b[49m\u001b[43m)\u001b[49m\n",
      "\u001b[36mFile \u001b[39m\u001b[32m~\\lematerial-forgebench\\src\\lematerial_forgebench\\metrics\\distribution_metrics.py:151\u001b[39m, in \u001b[36mJSDistance.compute\u001b[39m\u001b[34m(self, structures, **compute_args)\u001b[39m\n\u001b[32m    148\u001b[39m             dist_metrics[quant] = js\n\u001b[32m    150\u001b[39m \u001b[38;5;28;01mfor\u001b[39;00m quant \u001b[38;5;129;01min\u001b[39;00m [\u001b[33m\"\u001b[39m\u001b[33mCompositionCounts\u001b[39m\u001b[33m\"\u001b[39m, \u001b[33m\"\u001b[39m\u001b[33mComposition\u001b[39m\u001b[33m\"\u001b[39m]:\n\u001b[32m--> \u001b[39m\u001b[32m151\u001b[39m     js = \u001b[43mcompute_jensen_shannon_distance\u001b[49m\u001b[43m(\u001b[49m\n\u001b[32m    152\u001b[39m \u001b[43m        \u001b[49m\u001b[43mreference_df\u001b[49m\u001b[43m,\u001b[49m\n\u001b[32m    153\u001b[39m \u001b[43m        \u001b[49m\u001b[43mdf_all_properties\u001b[49m\u001b[43m,\u001b[49m\n\u001b[32m    154\u001b[39m \u001b[43m        \u001b[49m\u001b[43mquant\u001b[49m\u001b[43m,\u001b[49m\n\u001b[32m    155\u001b[39m \u001b[43m        \u001b[49m\u001b[43mmetric_type\u001b[49m\u001b[43m=\u001b[49m\u001b[38;5;28;43mtype\u001b[39;49m\u001b[43m(\u001b[49m\u001b[43mdf_all_properties\u001b[49m\u001b[43m[\u001b[49m\u001b[43mquant\u001b[49m\u001b[43m]\u001b[49m\u001b[43m.\u001b[49m\u001b[43miloc\u001b[49m\u001b[43m[\u001b[49m\u001b[32;43m0\u001b[39;49m\u001b[43m]\u001b[49m\u001b[43m)\u001b[49m\u001b[43m,\u001b[49m\n\u001b[32m    156\u001b[39m \u001b[43m    \u001b[49m\u001b[43m)\u001b[49m\n\u001b[32m    157\u001b[39m     dist_metrics[quant] = js\n\u001b[32m    159\u001b[39m end_time = time.time()\n",
      "\u001b[36mFile \u001b[39m\u001b[32m~\\lematerial-forgebench\\src\\lematerial_forgebench\\utils\\distribution_utils.py:118\u001b[39m, in \u001b[36mcompute_jensen_shannon_distance\u001b[39m\u001b[34m(reference_data, generated_crystals, crystal_param, metric_type)\u001b[39m\n\u001b[32m    113\u001b[39m     reference_data_dist = generate_probabilities(\n\u001b[32m    114\u001b[39m         reference_data, metric=crystal_param, metric_type=metric_type\n\u001b[32m    115\u001b[39m     )\n\u001b[32m    117\u001b[39m \u001b[38;5;28;01melif\u001b[39;00m crystal_param == \u001b[33m\"\u001b[39m\u001b[33mCompositionCounts\u001b[39m\u001b[33m\"\u001b[39m:\n\u001b[32m--> \u001b[39m\u001b[32m118\u001b[39m     \u001b[38;5;28;01mwith\u001b[39;00m \u001b[38;5;28;43mopen\u001b[39;49m\u001b[43m(\u001b[49m\u001b[33;43m\"\u001b[39;49m\u001b[33;43mdata/lematbulk_composition_counts_distribution.json\u001b[39;49m\u001b[33;43m\"\u001b[39;49m\u001b[43m,\u001b[49m\u001b[43m \u001b[49m\u001b[33;43m\"\u001b[39;49m\u001b[33;43mr\u001b[39;49m\u001b[33;43m\"\u001b[39;49m\u001b[43m)\u001b[49m \u001b[38;5;28;01mas\u001b[39;00m file:\n\u001b[32m    119\u001b[39m         reference_data_dist = json.load(file)\n\u001b[32m    120\u001b[39m \u001b[38;5;28;01melif\u001b[39;00m crystal_param == \u001b[33m\"\u001b[39m\u001b[33mComposition\u001b[39m\u001b[33m\"\u001b[39m:\n",
      "\u001b[31mFileNotFoundError\u001b[39m: [Errno 2] No such file or directory: 'data/lematbulk_composition_counts_distribution.json'"
     ]
    }
   ],
   "source": [
    "metric = JSDistance(reference_df=reference_df) \n",
    "default_args = metric._get_compute_attributes()\n",
    "metric_result = metric(dist_preprocessor_result.processed_structures, **default_args)\n",
    "print(metric_result.metrics)"
   ]
  },
  {
   "cell_type": "code",
   "execution_count": null,
   "id": "8027780b-9b83-4a9e-815c-abf8ff2f9bd9",
   "metadata": {},
   "outputs": [],
   "source": [
    "metric = MMD(reference_df=reference_df) \n",
    "default_args = metric._get_compute_attributes()\n",
    "metric_result = metric(dist_preprocessor_result.processed_structures, **default_args)\n",
    "print(metric_result.metrics)"
   ]
  },
  {
   "cell_type": "code",
   "execution_count": 11,
   "id": "92feb85f-1a47-4f67-b29b-59af42665fbb",
   "metadata": {},
   "outputs": [
    {
     "name": "stdout",
     "output_type": "stream",
     "text": [
      "{'FrechetDistance': 38.64963877642341}\n"
     ]
    }
   ],
   "source": [
    "metric = FrechetDistance(reference_df=reference_df) \n",
    "\n",
    "sample_embeddings = list(stability_preprocessor_result.processed_structures)\n",
    "\n",
    "default_args = metric._get_compute_attributes()\n",
    "metric_result = metric(sample_embeddings, **default_args)\n",
    "\n",
    "print(metric_result.metrics)"
   ]
  },
  {
   "cell_type": "code",
   "execution_count": 34,
   "id": "66d554c5-3c36-4fce-9973-658e16e83433",
   "metadata": {},
   "outputs": [
    {
     "data": {
      "text/html": [
       "<pre style=\"white-space:pre;overflow-x:auto;line-height:normal;font-family:Menlo,'DejaVu Sans Mono',consolas,'Courier New',monospace\"><span style=\"color: #7fbfbf; text-decoration-color: #7fbfbf\">[17:03:55] </span><span style=\"color: #808000; text-decoration-color: #808000\">WARNING </span> Number of input structures is less than processed + failed. This might indicate an   <a href=\"file://C:\\Users\\samue\\lematerial-forgebench\\src\\lematerial_forgebench\\preprocess\\base.py\" target=\"_blank\"><span style=\"color: #7f7f7f; text-decoration-color: #7f7f7f\">base.py</span></a><span style=\"color: #7f7f7f; text-decoration-color: #7f7f7f\">:</span><a href=\"file://C:\\Users\\samue\\lematerial-forgebench\\src\\lematerial_forgebench\\preprocess\\base.py#86\" target=\"_blank\"><span style=\"color: #7f7f7f; text-decoration-color: #7f7f7f\">86</span></a>\n",
       "<span style=\"color: #7fbfbf; text-decoration-color: #7fbfbf\">           </span>         issue.                                                                               <span style=\"color: #7f7f7f; text-decoration-color: #7f7f7f\">          </span>\n",
       "</pre>\n"
      ],
      "text/plain": [
       "\u001b[2;36m[17:03:55]\u001b[0m\u001b[2;36m \u001b[0m\u001b[33mWARNING \u001b[0m Number of input structures is less than processed + failed. This might indicate an   \u001b]8;id=823273;file://C:\\Users\\samue\\lematerial-forgebench\\src\\lematerial_forgebench\\preprocess\\base.py\u001b\\\u001b[2mbase.py\u001b[0m\u001b]8;;\u001b\\\u001b[2m:\u001b[0m\u001b]8;id=751211;file://C:\\Users\\samue\\lematerial-forgebench\\src\\lematerial_forgebench\\preprocess\\base.py#86\u001b\\\u001b[2m86\u001b[0m\u001b]8;;\u001b\\\n",
       "\u001b[2;36m           \u001b[0m         issue.                                                                               \u001b[2m          \u001b[0m\n"
      ]
     },
     "metadata": {},
     "output_type": "display_data"
    }
   ],
   "source": [
    "final_processed_structures = []\n",
    "\n",
    "for ind in range(0, len(dist_preprocessor_result.processed_structures)): \n",
    "    combined_structure = dist_preprocessor_result.processed_structures[ind]\n",
    "    for entry in stability_preprocessor_result.processed_structures[ind].properties.keys():\n",
    "        combined_structure.properties[entry] = stability_preprocessor_result.processed_structures[ind].properties[entry]\n",
    "    final_processed_structures.append(combined_structure)\n",
    "\n",
    "preprocessor_result = PreprocessorResult(processed_structures=final_processed_structures,\n",
    "    config={\n",
    "        \"stability_preprocessor_config\":stability_preprocessor_result.config,\n",
    "        \"distribution_preprocessor_config\": dist_preprocessor_result.config,\n",
    "    },\n",
    "    computation_time={\n",
    "        \"stability_preprocessor_computation_time\": stability_preprocessor_result.computation_time,\n",
    "        \"distribution_preprocessor_computation_time\": dist_preprocessor_result.computation_time,\n",
    "    },\n",
    "    n_input_structures=stability_preprocessor_result.n_input_structures,\n",
    "    failed_indices={\n",
    "        \"stability_preprocessor_failed_indices\": stability_preprocessor_result.failed_indices,\n",
    "        \"distribution_preprocessor_failed_indices\": dist_preprocessor_result.failed_indices,\n",
    "    },\n",
    "    warnings={\n",
    "        \"stability_preprocessor_warnings\": stability_preprocessor_result.warnings,\n",
    "        \"distribution_preprocessor_warnings\": dist_preprocessor_result.warnings,\n",
    "    },\n",
    ")"
   ]
  },
  {
   "cell_type": "code",
   "execution_count": 40,
   "id": "c5be4676-99fe-4ee6-b9de-3a255b9127f5",
   "metadata": {},
   "outputs": [
    {
     "data": {
      "text/html": [
       "<pre style=\"white-space:pre;overflow-x:auto;line-height:normal;font-family:Menlo,'DejaVu Sans Mono',consolas,'Courier New',monospace\"><span style=\"color: #7fbfbf; text-decoration-color: #7fbfbf\">[17:06:38] </span><span style=\"color: #800000; text-decoration-color: #800000; font-weight: bold\">ERROR   </span> Failed to compute metric JSDistance                                            <a href=\"file://C:\\Users\\samue\\lematerial-forgebench\\src\\lematerial_forgebench\\evaluator.py\" target=\"_blank\"><span style=\"color: #7f7f7f; text-decoration-color: #7f7f7f\">evaluator.py</span></a><span style=\"color: #7f7f7f; text-decoration-color: #7f7f7f\">:</span><a href=\"file://C:\\Users\\samue\\lematerial-forgebench\\src\\lematerial_forgebench\\evaluator.py#199\" target=\"_blank\"><span style=\"color: #7f7f7f; text-decoration-color: #7f7f7f\">199</span></a>\n",
       "<span style=\"color: #7fbfbf; text-decoration-color: #7fbfbf\">           </span>         <span style=\"color: #800000; text-decoration-color: #800000\">╭──────────────────── </span><span style=\"color: #800000; text-decoration-color: #800000; font-weight: bold\">Traceback </span><span style=\"color: #bf7f7f; text-decoration-color: #bf7f7f; font-weight: bold\">(most recent call last)</span><span style=\"color: #800000; text-decoration-color: #800000\"> ─────────────────────╮</span> <span style=\"color: #7f7f7f; text-decoration-color: #7f7f7f\">                </span>\n",
       "<span style=\"color: #7fbfbf; text-decoration-color: #7fbfbf\">           </span>         <span style=\"color: #800000; text-decoration-color: #800000\">│</span> <span style=\"color: #808000; text-decoration-color: #808000\">C:\\Users\\samue\\lematerial-forgebench\\src\\lematerial_forgebench\\evaluator.p</span> <span style=\"color: #800000; text-decoration-color: #800000\">│</span> <span style=\"color: #7f7f7f; text-decoration-color: #7f7f7f\">                </span>\n",
       "<span style=\"color: #7fbfbf; text-decoration-color: #7fbfbf\">           </span>         <span style=\"color: #800000; text-decoration-color: #800000\">│</span> <span style=\"color: #808000; text-decoration-color: #808000\">y</span>:<span style=\"color: #0000ff; text-decoration-color: #0000ff\">193</span> in <span style=\"color: #00ff00; text-decoration-color: #00ff00\">evaluate</span>                                                          <span style=\"color: #800000; text-decoration-color: #800000\">│</span> <span style=\"color: #7f7f7f; text-decoration-color: #7f7f7f\">                </span>\n",
       "<span style=\"color: #7fbfbf; text-decoration-color: #7fbfbf\">           </span>         <span style=\"color: #800000; text-decoration-color: #800000\">│</span>                                                                            <span style=\"color: #800000; text-decoration-color: #800000\">│</span> <span style=\"color: #7f7f7f; text-decoration-color: #7f7f7f\">                </span>\n",
       "<span style=\"color: #7fbfbf; text-decoration-color: #7fbfbf\">           </span>         <span style=\"color: #800000; text-decoration-color: #800000\">│</span>   <span style=\"color: #7f7f7f; text-decoration-color: #7f7f7f\">190 </span><span style=\"color: #7f7f7f; text-decoration-color: #7f7f7f\">│   │   </span><span style=\"color: #7f7f7f; text-decoration-color: #7f7f7f\"># each metric handles its own parallelization</span>                <span style=\"color: #800000; text-decoration-color: #800000\">│</span> <span style=\"color: #7f7f7f; text-decoration-color: #7f7f7f\">                </span>\n",
       "<span style=\"color: #7fbfbf; text-decoration-color: #7fbfbf\">           </span>         <span style=\"color: #800000; text-decoration-color: #800000\">│</span>   <span style=\"color: #7f7f7f; text-decoration-color: #7f7f7f\">191 </span><span style=\"color: #7f7f7f; text-decoration-color: #7f7f7f\">│   │   </span><span style=\"color: #0000ff; text-decoration-color: #0000ff\">for</span> metric_name, metric <span style=\"color: #ff00ff; text-decoration-color: #ff00ff\">in</span> <span style=\"color: #00ffff; text-decoration-color: #00ffff\">self</span>.metrics.items():             <span style=\"color: #800000; text-decoration-color: #800000\">│</span> <span style=\"color: #7f7f7f; text-decoration-color: #7f7f7f\">                </span>\n",
       "<span style=\"color: #7fbfbf; text-decoration-color: #7fbfbf\">           </span>         <span style=\"color: #800000; text-decoration-color: #800000\">│</span>   <span style=\"color: #7f7f7f; text-decoration-color: #7f7f7f\">192 </span><span style=\"color: #7f7f7f; text-decoration-color: #7f7f7f\">│   │   │   </span><span style=\"color: #0000ff; text-decoration-color: #0000ff\">try</span>:                                                     <span style=\"color: #800000; text-decoration-color: #800000\">│</span> <span style=\"color: #7f7f7f; text-decoration-color: #7f7f7f\">                </span>\n",
       "<span style=\"color: #7fbfbf; text-decoration-color: #7fbfbf\">           </span>         <span style=\"color: #800000; text-decoration-color: #800000\">│</span> <span style=\"color: #800000; text-decoration-color: #800000\">❱ </span>193 <span style=\"color: #7f7f7f; text-decoration-color: #7f7f7f\">│   │   │   │   </span>result = metric.compute(                             <span style=\"color: #800000; text-decoration-color: #800000\">│</span> <span style=\"color: #7f7f7f; text-decoration-color: #7f7f7f\">                </span>\n",
       "<span style=\"color: #7fbfbf; text-decoration-color: #7fbfbf\">           </span>         <span style=\"color: #800000; text-decoration-color: #800000\">│</span>   <span style=\"color: #7f7f7f; text-decoration-color: #7f7f7f\">194 </span><span style=\"color: #7f7f7f; text-decoration-color: #7f7f7f\">│   │   │   │   │   </span>structures=structures, **metric._get_compute_att <span style=\"color: #800000; text-decoration-color: #800000\">│</span> <span style=\"color: #7f7f7f; text-decoration-color: #7f7f7f\">                </span>\n",
       "<span style=\"color: #7fbfbf; text-decoration-color: #7fbfbf\">           </span>         <span style=\"color: #800000; text-decoration-color: #800000\">│</span>   <span style=\"color: #7f7f7f; text-decoration-color: #7f7f7f\">195 </span><span style=\"color: #7f7f7f; text-decoration-color: #7f7f7f\">│   │   │   │   </span>)                                                    <span style=\"color: #800000; text-decoration-color: #800000\">│</span> <span style=\"color: #7f7f7f; text-decoration-color: #7f7f7f\">                </span>\n",
       "<span style=\"color: #7fbfbf; text-decoration-color: #7fbfbf\">           </span>         <span style=\"color: #800000; text-decoration-color: #800000\">│</span>   <span style=\"color: #7f7f7f; text-decoration-color: #7f7f7f\">196 </span><span style=\"color: #7f7f7f; text-decoration-color: #7f7f7f\">│   │   │   │   </span>metric_results[metric_name] = result                 <span style=\"color: #800000; text-decoration-color: #800000\">│</span> <span style=\"color: #7f7f7f; text-decoration-color: #7f7f7f\">                </span>\n",
       "<span style=\"color: #7fbfbf; text-decoration-color: #7fbfbf\">           </span>         <span style=\"color: #800000; text-decoration-color: #800000\">│</span>                                                                            <span style=\"color: #800000; text-decoration-color: #800000\">│</span> <span style=\"color: #7f7f7f; text-decoration-color: #7f7f7f\">                </span>\n",
       "<span style=\"color: #7fbfbf; text-decoration-color: #7fbfbf\">           </span>         <span style=\"color: #800000; text-decoration-color: #800000\">│</span> <span style=\"color: #808000; text-decoration-color: #808000\">C:\\Users\\samue\\lematerial-forgebench\\src\\lematerial_forgebench\\metrics\\dis</span> <span style=\"color: #800000; text-decoration-color: #800000\">│</span> <span style=\"color: #7f7f7f; text-decoration-color: #7f7f7f\">                </span>\n",
       "<span style=\"color: #7fbfbf; text-decoration-color: #7fbfbf\">           </span>         <span style=\"color: #800000; text-decoration-color: #800000\">│</span> <span style=\"color: #808000; text-decoration-color: #808000\">tribution_metrics.py</span>:<span style=\"color: #0000ff; text-decoration-color: #0000ff\">151</span> in <span style=\"color: #00ff00; text-decoration-color: #00ff00\">compute</span>                                        <span style=\"color: #800000; text-decoration-color: #800000\">│</span> <span style=\"color: #7f7f7f; text-decoration-color: #7f7f7f\">                </span>\n",
       "<span style=\"color: #7fbfbf; text-decoration-color: #7fbfbf\">           </span>         <span style=\"color: #800000; text-decoration-color: #800000\">│</span>                                                                            <span style=\"color: #800000; text-decoration-color: #800000\">│</span> <span style=\"color: #7f7f7f; text-decoration-color: #7f7f7f\">                </span>\n",
       "<span style=\"color: #7fbfbf; text-decoration-color: #7fbfbf\">           </span>         <span style=\"color: #800000; text-decoration-color: #800000\">│</span>   <span style=\"color: #7f7f7f; text-decoration-color: #7f7f7f\">148 </span><span style=\"color: #7f7f7f; text-decoration-color: #7f7f7f\">│   │   │   │   │   </span>dist_metrics[quant] = js                         <span style=\"color: #800000; text-decoration-color: #800000\">│</span> <span style=\"color: #7f7f7f; text-decoration-color: #7f7f7f\">                </span>\n",
       "<span style=\"color: #7fbfbf; text-decoration-color: #7fbfbf\">           </span>         <span style=\"color: #800000; text-decoration-color: #800000\">│</span>   <span style=\"color: #7f7f7f; text-decoration-color: #7f7f7f\">149 </span><span style=\"color: #7f7f7f; text-decoration-color: #7f7f7f\">│   │   </span>                                                             <span style=\"color: #800000; text-decoration-color: #800000\">│</span> <span style=\"color: #7f7f7f; text-decoration-color: #7f7f7f\">                </span>\n",
       "<span style=\"color: #7fbfbf; text-decoration-color: #7fbfbf\">           </span>         <span style=\"color: #800000; text-decoration-color: #800000\">│</span>   <span style=\"color: #7f7f7f; text-decoration-color: #7f7f7f\">150 </span><span style=\"color: #7f7f7f; text-decoration-color: #7f7f7f\">│   │   </span><span style=\"color: #0000ff; text-decoration-color: #0000ff\">for</span> quant <span style=\"color: #ff00ff; text-decoration-color: #ff00ff\">in</span> [<span style=\"color: #808000; text-decoration-color: #808000\">\"CompositionCounts\"</span>, <span style=\"color: #808000; text-decoration-color: #808000\">\"Composition\"</span>]:           <span style=\"color: #800000; text-decoration-color: #800000\">│</span> <span style=\"color: #7f7f7f; text-decoration-color: #7f7f7f\">                </span>\n",
       "<span style=\"color: #7fbfbf; text-decoration-color: #7fbfbf\">           </span>         <span style=\"color: #800000; text-decoration-color: #800000\">│</span> <span style=\"color: #800000; text-decoration-color: #800000\">❱ </span>151 <span style=\"color: #7f7f7f; text-decoration-color: #7f7f7f\">│   │   │   </span>js = compute_jensen_shannon_distance(                    <span style=\"color: #800000; text-decoration-color: #800000\">│</span> <span style=\"color: #7f7f7f; text-decoration-color: #7f7f7f\">                </span>\n",
       "<span style=\"color: #7fbfbf; text-decoration-color: #7fbfbf\">           </span>         <span style=\"color: #800000; text-decoration-color: #800000\">│</span>   <span style=\"color: #7f7f7f; text-decoration-color: #7f7f7f\">152 </span><span style=\"color: #7f7f7f; text-decoration-color: #7f7f7f\">│   │   │   │   </span>reference_df,                                        <span style=\"color: #800000; text-decoration-color: #800000\">│</span> <span style=\"color: #7f7f7f; text-decoration-color: #7f7f7f\">                </span>\n",
       "<span style=\"color: #7fbfbf; text-decoration-color: #7fbfbf\">           </span>         <span style=\"color: #800000; text-decoration-color: #800000\">│</span>   <span style=\"color: #7f7f7f; text-decoration-color: #7f7f7f\">153 </span><span style=\"color: #7f7f7f; text-decoration-color: #7f7f7f\">│   │   │   │   </span>df_all_properties,                                   <span style=\"color: #800000; text-decoration-color: #800000\">│</span> <span style=\"color: #7f7f7f; text-decoration-color: #7f7f7f\">                </span>\n",
       "<span style=\"color: #7fbfbf; text-decoration-color: #7fbfbf\">           </span>         <span style=\"color: #800000; text-decoration-color: #800000\">│</span>   <span style=\"color: #7f7f7f; text-decoration-color: #7f7f7f\">154 </span><span style=\"color: #7f7f7f; text-decoration-color: #7f7f7f\">│   │   │   │   </span>quant,                                               <span style=\"color: #800000; text-decoration-color: #800000\">│</span> <span style=\"color: #7f7f7f; text-decoration-color: #7f7f7f\">                </span>\n",
       "<span style=\"color: #7fbfbf; text-decoration-color: #7fbfbf\">           </span>         <span style=\"color: #800000; text-decoration-color: #800000\">│</span>                                                                            <span style=\"color: #800000; text-decoration-color: #800000\">│</span> <span style=\"color: #7f7f7f; text-decoration-color: #7f7f7f\">                </span>\n",
       "<span style=\"color: #7fbfbf; text-decoration-color: #7fbfbf\">           </span>         <span style=\"color: #800000; text-decoration-color: #800000\">│</span> <span style=\"color: #808000; text-decoration-color: #808000\">C:\\Users\\samue\\lematerial-forgebench\\src\\lematerial_forgebench\\utils\\distr</span> <span style=\"color: #800000; text-decoration-color: #800000\">│</span> <span style=\"color: #7f7f7f; text-decoration-color: #7f7f7f\">                </span>\n",
       "<span style=\"color: #7fbfbf; text-decoration-color: #7fbfbf\">           </span>         <span style=\"color: #800000; text-decoration-color: #800000\">│</span> <span style=\"color: #808000; text-decoration-color: #808000\">ibution_utils.py</span>:<span style=\"color: #0000ff; text-decoration-color: #0000ff\">118</span> in <span style=\"color: #00ff00; text-decoration-color: #00ff00\">compute_jensen_shannon_distance</span>                    <span style=\"color: #800000; text-decoration-color: #800000\">│</span> <span style=\"color: #7f7f7f; text-decoration-color: #7f7f7f\">                </span>\n",
       "<span style=\"color: #7fbfbf; text-decoration-color: #7fbfbf\">           </span>         <span style=\"color: #800000; text-decoration-color: #800000\">│</span>                                                                            <span style=\"color: #800000; text-decoration-color: #800000\">│</span> <span style=\"color: #7f7f7f; text-decoration-color: #7f7f7f\">                </span>\n",
       "<span style=\"color: #7fbfbf; text-decoration-color: #7fbfbf\">           </span>         <span style=\"color: #800000; text-decoration-color: #800000\">│</span>   <span style=\"color: #7f7f7f; text-decoration-color: #7f7f7f\">115 </span><span style=\"color: #7f7f7f; text-decoration-color: #7f7f7f\">│   │   </span>)                                                            <span style=\"color: #800000; text-decoration-color: #800000\">│</span> <span style=\"color: #7f7f7f; text-decoration-color: #7f7f7f\">                </span>\n",
       "<span style=\"color: #7fbfbf; text-decoration-color: #7fbfbf\">           </span>         <span style=\"color: #800000; text-decoration-color: #800000\">│</span>   <span style=\"color: #7f7f7f; text-decoration-color: #7f7f7f\">116 </span><span style=\"color: #7f7f7f; text-decoration-color: #7f7f7f\">│   </span>                                                                 <span style=\"color: #800000; text-decoration-color: #800000\">│</span> <span style=\"color: #7f7f7f; text-decoration-color: #7f7f7f\">                </span>\n",
       "<span style=\"color: #7fbfbf; text-decoration-color: #7fbfbf\">           </span>         <span style=\"color: #800000; text-decoration-color: #800000\">│</span>   <span style=\"color: #7f7f7f; text-decoration-color: #7f7f7f\">117 </span><span style=\"color: #7f7f7f; text-decoration-color: #7f7f7f\">│   </span><span style=\"color: #0000ff; text-decoration-color: #0000ff\">elif</span> crystal_param == <span style=\"color: #808000; text-decoration-color: #808000\">\"CompositionCounts\"</span>:                       <span style=\"color: #800000; text-decoration-color: #800000\">│</span> <span style=\"color: #7f7f7f; text-decoration-color: #7f7f7f\">                </span>\n",
       "<span style=\"color: #7fbfbf; text-decoration-color: #7fbfbf\">           </span>         <span style=\"color: #800000; text-decoration-color: #800000\">│</span> <span style=\"color: #800000; text-decoration-color: #800000\">❱ </span>118 <span style=\"color: #7f7f7f; text-decoration-color: #7f7f7f\">│   │   </span><span style=\"color: #0000ff; text-decoration-color: #0000ff\">with</span> <span style=\"color: #00ffff; text-decoration-color: #00ffff; font-weight: bold; text-decoration: underline\">open</span><span style=\"font-weight: bold; text-decoration: underline\">(</span><span style=\"color: #808000; text-decoration-color: #808000; font-weight: bold; text-decoration: underline\">\"data/lematbulk_composition_counts_distribution.js</span> <span style=\"color: #800000; text-decoration-color: #800000\">│</span> <span style=\"color: #7f7f7f; text-decoration-color: #7f7f7f\">                </span>\n",
       "<span style=\"color: #7fbfbf; text-decoration-color: #7fbfbf\">           </span>         <span style=\"color: #800000; text-decoration-color: #800000\">│</span>   <span style=\"color: #7f7f7f; text-decoration-color: #7f7f7f\">119 </span><span style=\"color: #7f7f7f; text-decoration-color: #7f7f7f\">│   │   │   </span>reference_data_dist = json.load(file)                    <span style=\"color: #800000; text-decoration-color: #800000\">│</span> <span style=\"color: #7f7f7f; text-decoration-color: #7f7f7f\">                </span>\n",
       "<span style=\"color: #7fbfbf; text-decoration-color: #7fbfbf\">           </span>         <span style=\"color: #800000; text-decoration-color: #800000\">│</span>   <span style=\"color: #7f7f7f; text-decoration-color: #7f7f7f\">120 </span><span style=\"color: #7f7f7f; text-decoration-color: #7f7f7f\">│   </span><span style=\"color: #0000ff; text-decoration-color: #0000ff\">elif</span> crystal_param == <span style=\"color: #808000; text-decoration-color: #808000\">\"Composition\"</span>:                             <span style=\"color: #800000; text-decoration-color: #800000\">│</span> <span style=\"color: #7f7f7f; text-decoration-color: #7f7f7f\">                </span>\n",
       "<span style=\"color: #7fbfbf; text-decoration-color: #7fbfbf\">           </span>         <span style=\"color: #800000; text-decoration-color: #800000\">│</span>   <span style=\"color: #7f7f7f; text-decoration-color: #7f7f7f\">121 </span><span style=\"color: #7f7f7f; text-decoration-color: #7f7f7f\">│   │   </span><span style=\"color: #0000ff; text-decoration-color: #0000ff\">with</span> <span style=\"color: #00ffff; text-decoration-color: #00ffff\">open</span>(<span style=\"color: #808000; text-decoration-color: #808000\">\"data/lematbulk_composition_distribution.json\"</span>, <span style=\"color: #808000; text-decoration-color: #808000\">\"r</span> <span style=\"color: #800000; text-decoration-color: #800000\">│</span> <span style=\"color: #7f7f7f; text-decoration-color: #7f7f7f\">                </span>\n",
       "<span style=\"color: #7fbfbf; text-decoration-color: #7fbfbf\">           </span>         <span style=\"color: #800000; text-decoration-color: #800000\">╰────────────────────────────────────────────────────────────────────────────╯</span> <span style=\"color: #7f7f7f; text-decoration-color: #7f7f7f\">                </span>\n",
       "<span style=\"color: #7fbfbf; text-decoration-color: #7fbfbf\">           </span>         <span style=\"color: #ff0000; text-decoration-color: #ff0000; font-weight: bold\">FileNotFoundError: </span><span style=\"font-weight: bold\">[</span>Errno <span style=\"color: #008080; text-decoration-color: #008080; font-weight: bold\">2</span><span style=\"font-weight: bold\">]</span> No such file or directory:                        <span style=\"color: #7f7f7f; text-decoration-color: #7f7f7f\">                </span>\n",
       "<span style=\"color: #7fbfbf; text-decoration-color: #7fbfbf\">           </span>         <span style=\"color: #008000; text-decoration-color: #008000\">'data/lematbulk_composition_counts_distribution.json'</span>                          <span style=\"color: #7f7f7f; text-decoration-color: #7f7f7f\">                </span>\n",
       "</pre>\n"
      ],
      "text/plain": [
       "\u001b[2;36m[17:06:38]\u001b[0m\u001b[2;36m \u001b[0m\u001b[1;31mERROR   \u001b[0m Failed to compute metric JSDistance                                            \u001b]8;id=611874;file://C:\\Users\\samue\\lematerial-forgebench\\src\\lematerial_forgebench\\evaluator.py\u001b\\\u001b[2mevaluator.py\u001b[0m\u001b]8;;\u001b\\\u001b[2m:\u001b[0m\u001b]8;id=839301;file://C:\\Users\\samue\\lematerial-forgebench\\src\\lematerial_forgebench\\evaluator.py#199\u001b\\\u001b[2m199\u001b[0m\u001b]8;;\u001b\\\n",
       "\u001b[2;36m           \u001b[0m         \u001b[31m╭─\u001b[0m\u001b[31m───────────────────\u001b[0m\u001b[31m \u001b[0m\u001b[1;31mTraceback \u001b[0m\u001b[1;2;31m(most recent call last)\u001b[0m\u001b[31m \u001b[0m\u001b[31m────────────────────\u001b[0m\u001b[31m─╮\u001b[0m \u001b[2m                \u001b[0m\n",
       "\u001b[2;36m           \u001b[0m         \u001b[31m│\u001b[0m \u001b[33mC:\\Users\\samue\\lematerial-forgebench\\src\\lematerial_forgebench\\evaluator.p\u001b[0m \u001b[31m│\u001b[0m \u001b[2m                \u001b[0m\n",
       "\u001b[2;36m           \u001b[0m         \u001b[31m│\u001b[0m \u001b[33my\u001b[0m:\u001b[94m193\u001b[0m in \u001b[92mevaluate\u001b[0m                                                          \u001b[31m│\u001b[0m \u001b[2m                \u001b[0m\n",
       "\u001b[2;36m           \u001b[0m         \u001b[31m│\u001b[0m                                                                            \u001b[31m│\u001b[0m \u001b[2m                \u001b[0m\n",
       "\u001b[2;36m           \u001b[0m         \u001b[31m│\u001b[0m   \u001b[2m190 \u001b[0m\u001b[2m│   │   \u001b[0m\u001b[2m# each metric handles its own parallelization\u001b[0m                \u001b[31m│\u001b[0m \u001b[2m                \u001b[0m\n",
       "\u001b[2;36m           \u001b[0m         \u001b[31m│\u001b[0m   \u001b[2m191 \u001b[0m\u001b[2m│   │   \u001b[0m\u001b[94mfor\u001b[0m metric_name, metric \u001b[95min\u001b[0m \u001b[96mself\u001b[0m.metrics.items():             \u001b[31m│\u001b[0m \u001b[2m                \u001b[0m\n",
       "\u001b[2;36m           \u001b[0m         \u001b[31m│\u001b[0m   \u001b[2m192 \u001b[0m\u001b[2m│   │   │   \u001b[0m\u001b[94mtry\u001b[0m:                                                     \u001b[31m│\u001b[0m \u001b[2m                \u001b[0m\n",
       "\u001b[2;36m           \u001b[0m         \u001b[31m│\u001b[0m \u001b[31m❱ \u001b[0m193 \u001b[2m│   │   │   │   \u001b[0mresult = metric.compute(                             \u001b[31m│\u001b[0m \u001b[2m                \u001b[0m\n",
       "\u001b[2;36m           \u001b[0m         \u001b[31m│\u001b[0m   \u001b[2m194 \u001b[0m\u001b[2m│   │   │   │   │   \u001b[0mstructures=structures, **metric._get_compute_att \u001b[31m│\u001b[0m \u001b[2m                \u001b[0m\n",
       "\u001b[2;36m           \u001b[0m         \u001b[31m│\u001b[0m   \u001b[2m195 \u001b[0m\u001b[2m│   │   │   │   \u001b[0m)                                                    \u001b[31m│\u001b[0m \u001b[2m                \u001b[0m\n",
       "\u001b[2;36m           \u001b[0m         \u001b[31m│\u001b[0m   \u001b[2m196 \u001b[0m\u001b[2m│   │   │   │   \u001b[0mmetric_results[metric_name] = result                 \u001b[31m│\u001b[0m \u001b[2m                \u001b[0m\n",
       "\u001b[2;36m           \u001b[0m         \u001b[31m│\u001b[0m                                                                            \u001b[31m│\u001b[0m \u001b[2m                \u001b[0m\n",
       "\u001b[2;36m           \u001b[0m         \u001b[31m│\u001b[0m \u001b[33mC:\\Users\\samue\\lematerial-forgebench\\src\\lematerial_forgebench\\metrics\\dis\u001b[0m \u001b[31m│\u001b[0m \u001b[2m                \u001b[0m\n",
       "\u001b[2;36m           \u001b[0m         \u001b[31m│\u001b[0m \u001b[33mtribution_metrics.py\u001b[0m:\u001b[94m151\u001b[0m in \u001b[92mcompute\u001b[0m                                        \u001b[31m│\u001b[0m \u001b[2m                \u001b[0m\n",
       "\u001b[2;36m           \u001b[0m         \u001b[31m│\u001b[0m                                                                            \u001b[31m│\u001b[0m \u001b[2m                \u001b[0m\n",
       "\u001b[2;36m           \u001b[0m         \u001b[31m│\u001b[0m   \u001b[2m148 \u001b[0m\u001b[2m│   │   │   │   │   \u001b[0mdist_metrics[quant] = js                         \u001b[31m│\u001b[0m \u001b[2m                \u001b[0m\n",
       "\u001b[2;36m           \u001b[0m         \u001b[31m│\u001b[0m   \u001b[2m149 \u001b[0m\u001b[2m│   │   \u001b[0m                                                             \u001b[31m│\u001b[0m \u001b[2m                \u001b[0m\n",
       "\u001b[2;36m           \u001b[0m         \u001b[31m│\u001b[0m   \u001b[2m150 \u001b[0m\u001b[2m│   │   \u001b[0m\u001b[94mfor\u001b[0m quant \u001b[95min\u001b[0m [\u001b[33m\"\u001b[0m\u001b[33mCompositionCounts\u001b[0m\u001b[33m\"\u001b[0m, \u001b[33m\"\u001b[0m\u001b[33mComposition\u001b[0m\u001b[33m\"\u001b[0m]:           \u001b[31m│\u001b[0m \u001b[2m                \u001b[0m\n",
       "\u001b[2;36m           \u001b[0m         \u001b[31m│\u001b[0m \u001b[31m❱ \u001b[0m151 \u001b[2m│   │   │   \u001b[0mjs = compute_jensen_shannon_distance(                    \u001b[31m│\u001b[0m \u001b[2m                \u001b[0m\n",
       "\u001b[2;36m           \u001b[0m         \u001b[31m│\u001b[0m   \u001b[2m152 \u001b[0m\u001b[2m│   │   │   │   \u001b[0mreference_df,                                        \u001b[31m│\u001b[0m \u001b[2m                \u001b[0m\n",
       "\u001b[2;36m           \u001b[0m         \u001b[31m│\u001b[0m   \u001b[2m153 \u001b[0m\u001b[2m│   │   │   │   \u001b[0mdf_all_properties,                                   \u001b[31m│\u001b[0m \u001b[2m                \u001b[0m\n",
       "\u001b[2;36m           \u001b[0m         \u001b[31m│\u001b[0m   \u001b[2m154 \u001b[0m\u001b[2m│   │   │   │   \u001b[0mquant,                                               \u001b[31m│\u001b[0m \u001b[2m                \u001b[0m\n",
       "\u001b[2;36m           \u001b[0m         \u001b[31m│\u001b[0m                                                                            \u001b[31m│\u001b[0m \u001b[2m                \u001b[0m\n",
       "\u001b[2;36m           \u001b[0m         \u001b[31m│\u001b[0m \u001b[33mC:\\Users\\samue\\lematerial-forgebench\\src\\lematerial_forgebench\\utils\\distr\u001b[0m \u001b[31m│\u001b[0m \u001b[2m                \u001b[0m\n",
       "\u001b[2;36m           \u001b[0m         \u001b[31m│\u001b[0m \u001b[33mibution_utils.py\u001b[0m:\u001b[94m118\u001b[0m in \u001b[92mcompute_jensen_shannon_distance\u001b[0m                    \u001b[31m│\u001b[0m \u001b[2m                \u001b[0m\n",
       "\u001b[2;36m           \u001b[0m         \u001b[31m│\u001b[0m                                                                            \u001b[31m│\u001b[0m \u001b[2m                \u001b[0m\n",
       "\u001b[2;36m           \u001b[0m         \u001b[31m│\u001b[0m   \u001b[2m115 \u001b[0m\u001b[2m│   │   \u001b[0m)                                                            \u001b[31m│\u001b[0m \u001b[2m                \u001b[0m\n",
       "\u001b[2;36m           \u001b[0m         \u001b[31m│\u001b[0m   \u001b[2m116 \u001b[0m\u001b[2m│   \u001b[0m                                                                 \u001b[31m│\u001b[0m \u001b[2m                \u001b[0m\n",
       "\u001b[2;36m           \u001b[0m         \u001b[31m│\u001b[0m   \u001b[2m117 \u001b[0m\u001b[2m│   \u001b[0m\u001b[94melif\u001b[0m crystal_param == \u001b[33m\"\u001b[0m\u001b[33mCompositionCounts\u001b[0m\u001b[33m\"\u001b[0m:                       \u001b[31m│\u001b[0m \u001b[2m                \u001b[0m\n",
       "\u001b[2;36m           \u001b[0m         \u001b[31m│\u001b[0m \u001b[31m❱ \u001b[0m118 \u001b[2m│   │   \u001b[0m\u001b[94mwith\u001b[0m \u001b[1;4;96mopen\u001b[0m\u001b[1;4m(\u001b[0m\u001b[1;4;33m\"\u001b[0m\u001b[1;4;33mdata/lematbulk_composition_counts_distribution.js\u001b[0m \u001b[31m│\u001b[0m \u001b[2m                \u001b[0m\n",
       "\u001b[2;36m           \u001b[0m         \u001b[31m│\u001b[0m   \u001b[2m119 \u001b[0m\u001b[2m│   │   │   \u001b[0mreference_data_dist = json.load(file)                    \u001b[31m│\u001b[0m \u001b[2m                \u001b[0m\n",
       "\u001b[2;36m           \u001b[0m         \u001b[31m│\u001b[0m   \u001b[2m120 \u001b[0m\u001b[2m│   \u001b[0m\u001b[94melif\u001b[0m crystal_param == \u001b[33m\"\u001b[0m\u001b[33mComposition\u001b[0m\u001b[33m\"\u001b[0m:                             \u001b[31m│\u001b[0m \u001b[2m                \u001b[0m\n",
       "\u001b[2;36m           \u001b[0m         \u001b[31m│\u001b[0m   \u001b[2m121 \u001b[0m\u001b[2m│   │   \u001b[0m\u001b[94mwith\u001b[0m \u001b[96mopen\u001b[0m(\u001b[33m\"\u001b[0m\u001b[33mdata/lematbulk_composition_distribution.json\u001b[0m\u001b[33m\"\u001b[0m, \u001b[33m\"\u001b[0m\u001b[33mr\u001b[0m \u001b[31m│\u001b[0m \u001b[2m                \u001b[0m\n",
       "\u001b[2;36m           \u001b[0m         \u001b[31m╰────────────────────────────────────────────────────────────────────────────╯\u001b[0m \u001b[2m                \u001b[0m\n",
       "\u001b[2;36m           \u001b[0m         \u001b[1;91mFileNotFoundError: \u001b[0m\u001b[1m[\u001b[0mErrno \u001b[1;36m2\u001b[0m\u001b[1m]\u001b[0m No such file or directory:                        \u001b[2m                \u001b[0m\n",
       "\u001b[2;36m           \u001b[0m         \u001b[32m'data/lematbulk_composition_counts_distribution.json'\u001b[0m                          \u001b[2m                \u001b[0m\n"
      ]
     },
     "metadata": {},
     "output_type": "display_data"
    },
    {
     "name": "stdout",
     "output_type": "stream",
     "text": [
      "Index(['LeMatID', 'Volume', 'Density(g/cm^3)', 'Density(atoms/A^3)',\n",
      "       'SpaceGroup', 'CrystalSystem', 'Structure', 'OrbGraphEmbeddings'],\n",
      "      dtype='object')\n"
     ]
    }
   ],
   "source": [
    "benchmark = DistributionBenchmark(reference_df=test_lemat)\n",
    "benchmark_result = benchmark.evaluate(preprocessor_result.processed_structures)"
   ]
  },
  {
   "cell_type": "code",
   "execution_count": 41,
   "id": "98662a86-84e1-4a5b-9839-50e1c759d65b",
   "metadata": {},
   "outputs": [
    {
     "name": "stdout",
     "output_type": "stream",
     "text": [
      "JSDistance\n",
      "{'JSDistance': nan}\n",
      "Average JSDistance: nan\n",
      "MMD\n",
      "{'Volume': np.float64(0.5156492331277469), 'Density(g/cm^3)': np.float64(0.378594576755264), 'Density(atoms/A^3)': np.float64(5.477059509595428e-05), 'Average_MMD': np.float64(0.29809952682603563)}\n",
      "Average MMD: 0.29809952682603563\n",
      "FrechetDistance\n",
      "{'FrechetDistance': 40.38935887003667}\n",
      "Average Frechet Distance: 40.38935887003667\n"
     ]
    }
   ],
   "source": [
    "print(\"JSDistance\")\n",
    "print(benchmark_result.evaluator_results[\"JSDistance\"][\"metric_results\"][\"JSDistance\"].metrics)\n",
    "print(\"Average JSDistance: \" + str(benchmark_result.evaluator_results[\"JSDistance\"][\"JSDistance_value\"]))\n",
    "print(\"MMD\")\n",
    "print(benchmark_result.evaluator_results[\"MMD\"][\"metric_results\"][\"MMD\"].metrics)\n",
    "print(\"Average MMD: \" + str(benchmark_result.evaluator_results[\"MMD\"][\"MMD_value\"]))\n",
    "print(\"FrechetDistance\")\n",
    "print(benchmark_result.evaluator_results[\"FrechetDistance\"][\"metric_results\"][\"FrechetDistance\"].metrics)\n",
    "print(\"Average Frechet Distance: \" + str(benchmark_result.evaluator_results[\"FrechetDistance\"][\"FrechetDistance_value\"]))\n"
   ]
  },
  {
   "cell_type": "code",
   "execution_count": null,
   "id": "94f5b94d-3601-4c73-b4a0-6004afb626bd",
   "metadata": {},
   "outputs": [],
   "source": []
  }
 ],
 "metadata": {
  "kernelspec": {
   "display_name": "Python 3 (ipykernel)",
   "language": "python",
   "name": "python3"
  },
  "language_info": {
   "codemirror_mode": {
    "name": "ipython",
    "version": 3
   },
   "file_extension": ".py",
   "mimetype": "text/x-python",
   "name": "python",
   "nbconvert_exporter": "python",
   "pygments_lexer": "ipython3",
   "version": "3.11.11"
  }
 },
 "nbformat": 4,
 "nbformat_minor": 5
}
