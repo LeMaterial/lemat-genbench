{
 "cells": [
  {
   "cell_type": "code",
   "execution_count": 2,
   "id": "8b9a431a-ddf9-4b97-874f-571dd1bc4bfb",
   "metadata": {},
   "outputs": [],
   "source": [
    "import pickle\n",
    "\n",
    "import matplotlib.pyplot as plt\n",
    "import numpy as np\n",
    "import pandas as pd\n",
    "from datasets import load_dataset\n",
    "from pymatgen.core import Structure\n",
    "from pymatgen.util.testing import PymatgenTest\n",
    "from scipy.spatial.distance import jensenshannon\n",
    "\n",
    "from lematerial_forgebench.benchmarks.distribution_benchmark import (\n",
    "    DistributionBenchmark,\n",
    ")\n",
    "from lematerial_forgebench.metrics.distribution_metrics import (\n",
    "    MMD,\n",
    "    FrechetDistance,\n",
    "    JSDistance,\n",
    ")\n",
    "from lematerial_forgebench.preprocess.distribution_preprocess import (\n",
    "    DistributionPreprocessor,\n",
    ")\n",
    "from lematerial_forgebench.utils.distribution_utils import (\n",
    "    map_space_group_to_crystal_system,\n",
    ")\n",
    "\n",
    "%load_ext autoreload\n",
    "%autoreload 2"
   ]
  },
  {
   "cell_type": "code",
   "execution_count": 3,
   "id": "34ca5d5e-aa6d-4722-a511-8cf0d4445017",
   "metadata": {},
   "outputs": [],
   "source": [
    "with open(\"small_lematbulk.pkl\", \"rb\") as f:\n",
    "    test_lemat = pickle.load(f)"
   ]
  },
  {
   "cell_type": "code",
   "execution_count": 4,
   "id": "c013bc3e-2e91-44ef-ba42-e89c170d96bc",
   "metadata": {},
   "outputs": [
    {
     "name": "stderr",
     "output_type": "stream",
     "text": [
      "C:\\Users\\samue\\AppData\\Local\\Temp\\ipykernel_49648\\2264363178.py:1: FutureWarning: PymatgenTest is deprecated, and will be removed on 2026-01-01\n",
      "Use MatSciTest in pymatgen.util.testing instead.\n",
      "  test = PymatgenTest()\n"
     ]
    }
   ],
   "source": [
    "test = PymatgenTest()\n",
    "\n",
    "filename = \"CsBr.cif\"\n",
    "structure = Structure.from_file(filename)\n",
    "structure = structure.remove_oxidation_states()\n",
    "\n",
    "filename2 = \"CsPbBr3.cif\"\n",
    "structure2 = Structure.from_file(filename2)\n",
    "structure2 = structure2.remove_oxidation_states()\n",
    "\n",
    "structures = [\n",
    "    structure,\n",
    "    structure2,\n",
    "    test.get_structure(\"Si\"),\n",
    "    test.get_structure(\"LiFePO4\"),\n",
    "]"
   ]
  },
  {
   "cell_type": "code",
   "execution_count": null,
   "id": "ac803dcc-bef0-482b-bb3c-1e8c25f1b2c0",
   "metadata": {},
   "outputs": [],
   "source": []
  },
  {
   "cell_type": "code",
   "execution_count": 5,
   "id": "156a7ef5-e054-45f5-a407-619d8350264c",
   "metadata": {},
   "outputs": [],
   "source": [
    "distribution_preprocessor = DistributionPreprocessor()\n",
    "preprocessor_result = distribution_preprocessor(structures)"
   ]
  },
  {
   "cell_type": "code",
   "execution_count": 10,
   "id": "b565ecd0-f79c-4554-a430-01e5236559d6",
   "metadata": {},
   "outputs": [],
   "source": [
    "test_df = pd.DataFrame(preprocessor_result.processed_structures, columns = [\"Volume\", \"Density(g/cm^3)\", \"Density(atoms/A^3)\", \n",
    "                                                                            \"SpaceGroup\", \"CrystalSystem\", \"CompositionCounts\",\n",
    "                                                                            \"Composition\"])"
   ]
  },
  {
   "cell_type": "code",
   "execution_count": 8,
   "id": "2c0ccaf7-e94d-4372-9518-262e964072f2",
   "metadata": {},
   "outputs": [],
   "source": [
    "benchmark = DistributionBenchmark(test_lemat)"
   ]
  },
  {
   "cell_type": "code",
   "execution_count": 11,
   "id": "ab57bdfc-c85a-4d08-afb7-513b7286fd93",
   "metadata": {},
   "outputs": [
    {
     "data": {
      "text/html": [
       "<pre style=\"white-space:pre;overflow-x:auto;line-height:normal;font-family:Menlo,'DejaVu Sans Mono',consolas,'Courier New',monospace\"><span style=\"color: #7fbfbf; text-decoration-color: #7fbfbf\">[13:42:23] </span><span style=\"color: #808000; text-decoration-color: #808000\">WARNING </span> Failed to compute metric for structure <span style=\"color: #008080; text-decoration-color: #008080; font-weight: bold\">0</span>                                            <a href=\"file://C:\\Users\\samue\\lematerial-forgebench\\src\\lematerial_forgebench\\metrics\\base.py\" target=\"_blank\"><span style=\"color: #7f7f7f; text-decoration-color: #7f7f7f\">base.py</span></a><span style=\"color: #7f7f7f; text-decoration-color: #7f7f7f\">:</span><a href=\"file://C:\\Users\\samue\\lematerial-forgebench\\src\\lematerial_forgebench\\metrics\\base.py#349\" target=\"_blank\"><span style=\"color: #7f7f7f; text-decoration-color: #7f7f7f\">349</span></a>\n",
       "<span style=\"color: #7fbfbf; text-decoration-color: #7fbfbf\">           </span>         <span style=\"color: #800000; text-decoration-color: #800000\">╭─────────────────────── </span><span style=\"color: #800000; text-decoration-color: #800000; font-weight: bold\">Traceback </span><span style=\"color: #bf7f7f; text-decoration-color: #bf7f7f; font-weight: bold\">(most recent call last)</span><span style=\"color: #800000; text-decoration-color: #800000\"> ───────────────────────╮</span> <span style=\"color: #7f7f7f; text-decoration-color: #7f7f7f\">           </span>\n",
       "<span style=\"color: #7fbfbf; text-decoration-color: #7fbfbf\">           </span>         <span style=\"color: #800000; text-decoration-color: #800000\">│</span> <span style=\"color: #808000; text-decoration-color: #808000\">C:\\Users\\samue\\lematerial-forgebench\\src\\lematerial_forgebench\\metrics\\base.py</span>: <span style=\"color: #800000; text-decoration-color: #800000\">│</span> <span style=\"color: #7f7f7f; text-decoration-color: #7f7f7f\">           </span>\n",
       "<span style=\"color: #7fbfbf; text-decoration-color: #7fbfbf\">           </span>         <span style=\"color: #800000; text-decoration-color: #800000\">│</span> <span style=\"color: #0000ff; text-decoration-color: #0000ff\">341</span> in <span style=\"color: #00ff00; text-decoration-color: #00ff00\">compute</span>                                                                  <span style=\"color: #800000; text-decoration-color: #800000\">│</span> <span style=\"color: #7f7f7f; text-decoration-color: #7f7f7f\">           </span>\n",
       "<span style=\"color: #7fbfbf; text-decoration-color: #7fbfbf\">           </span>         <span style=\"color: #800000; text-decoration-color: #800000\">│</span>                                                                                 <span style=\"color: #800000; text-decoration-color: #800000\">│</span> <span style=\"color: #7f7f7f; text-decoration-color: #7f7f7f\">           </span>\n",
       "<span style=\"color: #7fbfbf; text-decoration-color: #7fbfbf\">           </span>         <span style=\"color: #800000; text-decoration-color: #800000\">│</span>   <span style=\"color: #7f7f7f; text-decoration-color: #7f7f7f\">338 </span><span style=\"color: #7f7f7f; text-decoration-color: #7f7f7f\">│   │   │   │   </span><span style=\"color: #7f7f7f; text-decoration-color: #7f7f7f\"># Serial computation</span>                                      <span style=\"color: #800000; text-decoration-color: #800000\">│</span> <span style=\"color: #7f7f7f; text-decoration-color: #7f7f7f\">           </span>\n",
       "<span style=\"color: #7fbfbf; text-decoration-color: #7fbfbf\">           </span>         <span style=\"color: #800000; text-decoration-color: #800000\">│</span>   <span style=\"color: #7f7f7f; text-decoration-color: #7f7f7f\">339 </span><span style=\"color: #7f7f7f; text-decoration-color: #7f7f7f\">│   │   │   │   </span><span style=\"color: #0000ff; text-decoration-color: #0000ff\">for</span> idx, structure <span style=\"color: #ff00ff; text-decoration-color: #ff00ff\">in</span> <span style=\"color: #00ffff; text-decoration-color: #00ffff\">enumerate</span>(structures):              <span style=\"color: #800000; text-decoration-color: #800000\">│</span> <span style=\"color: #7f7f7f; text-decoration-color: #7f7f7f\">           </span>\n",
       "<span style=\"color: #7fbfbf; text-decoration-color: #7fbfbf\">           </span>         <span style=\"color: #800000; text-decoration-color: #800000\">│</span>   <span style=\"color: #7f7f7f; text-decoration-color: #7f7f7f\">340 </span><span style=\"color: #7f7f7f; text-decoration-color: #7f7f7f\">│   │   │   │   │   </span><span style=\"color: #0000ff; text-decoration-color: #0000ff\">try</span>:                                                  <span style=\"color: #800000; text-decoration-color: #800000\">│</span> <span style=\"color: #7f7f7f; text-decoration-color: #7f7f7f\">           </span>\n",
       "<span style=\"color: #7fbfbf; text-decoration-color: #7fbfbf\">           </span>         <span style=\"color: #800000; text-decoration-color: #800000\">│</span> <span style=\"color: #800000; text-decoration-color: #800000\">❱ </span>341 <span style=\"color: #7f7f7f; text-decoration-color: #7f7f7f\">│   │   │   │   │   │   </span>value = <span style=\"color: #00ffff; text-decoration-color: #00ffff\">self</span>.compute_structure(structure, **compu <span style=\"color: #800000; text-decoration-color: #800000\">│</span> <span style=\"color: #7f7f7f; text-decoration-color: #7f7f7f\">           </span>\n",
       "<span style=\"color: #7fbfbf; text-decoration-color: #7fbfbf\">           </span>         <span style=\"color: #800000; text-decoration-color: #800000\">│</span>   <span style=\"color: #7f7f7f; text-decoration-color: #7f7f7f\">342 </span><span style=\"color: #7f7f7f; text-decoration-color: #7f7f7f\">│   │   │   │   │   │   </span>values.append(value)                              <span style=\"color: #800000; text-decoration-color: #800000\">│</span> <span style=\"color: #7f7f7f; text-decoration-color: #7f7f7f\">           </span>\n",
       "<span style=\"color: #7fbfbf; text-decoration-color: #7fbfbf\">           </span>         <span style=\"color: #800000; text-decoration-color: #800000\">│</span>   <span style=\"color: #7f7f7f; text-decoration-color: #7f7f7f\">343 </span><span style=\"color: #7f7f7f; text-decoration-color: #7f7f7f\">│   │   │   │   │   </span><span style=\"color: #0000ff; text-decoration-color: #0000ff\">except</span> <span style=\"color: #00ffff; text-decoration-color: #00ffff\">Exception</span> <span style=\"color: #0000ff; text-decoration-color: #0000ff\">as</span> e:                                <span style=\"color: #800000; text-decoration-color: #800000\">│</span> <span style=\"color: #7f7f7f; text-decoration-color: #7f7f7f\">           </span>\n",
       "<span style=\"color: #7fbfbf; text-decoration-color: #7fbfbf\">           </span>         <span style=\"color: #800000; text-decoration-color: #800000\">│</span>   <span style=\"color: #7f7f7f; text-decoration-color: #7f7f7f\">344 </span><span style=\"color: #7f7f7f; text-decoration-color: #7f7f7f\">│   │   │   │   │   │   </span>failed_indices.append(idx)                        <span style=\"color: #800000; text-decoration-color: #800000\">│</span> <span style=\"color: #7f7f7f; text-decoration-color: #7f7f7f\">           </span>\n",
       "<span style=\"color: #7fbfbf; text-decoration-color: #7fbfbf\">           </span>         <span style=\"color: #800000; text-decoration-color: #800000\">│</span>                                                                                 <span style=\"color: #800000; text-decoration-color: #800000\">│</span> <span style=\"color: #7f7f7f; text-decoration-color: #7f7f7f\">           </span>\n",
       "<span style=\"color: #7fbfbf; text-decoration-color: #7fbfbf\">           </span>         <span style=\"color: #800000; text-decoration-color: #800000\">│</span> <span style=\"color: #808000; text-decoration-color: #808000\">C:\\Users\\samue\\lematerial-forgebench\\src\\lematerial_forgebench\\metrics\\distribu</span> <span style=\"color: #800000; text-decoration-color: #800000\">│</span> <span style=\"color: #7f7f7f; text-decoration-color: #7f7f7f\">           </span>\n",
       "<span style=\"color: #7fbfbf; text-decoration-color: #7fbfbf\">           </span>         <span style=\"color: #800000; text-decoration-color: #800000\">│</span> <span style=\"color: #808000; text-decoration-color: #808000\">tion_metrics.py</span>:<span style=\"color: #0000ff; text-decoration-color: #0000ff\">134</span> in <span style=\"color: #00ff00; text-decoration-color: #00ff00\">compute_structure</span>                                        <span style=\"color: #800000; text-decoration-color: #800000\">│</span> <span style=\"color: #7f7f7f; text-decoration-color: #7f7f7f\">           </span>\n",
       "<span style=\"color: #7fbfbf; text-decoration-color: #7fbfbf\">           </span>         <span style=\"color: #800000; text-decoration-color: #800000\">│</span>                                                                                 <span style=\"color: #800000; text-decoration-color: #800000\">│</span> <span style=\"color: #7f7f7f; text-decoration-color: #7f7f7f\">           </span>\n",
       "<span style=\"color: #7fbfbf; text-decoration-color: #7fbfbf\">           </span>         <span style=\"color: #800000; text-decoration-color: #800000\">│</span>   <span style=\"color: #7f7f7f; text-decoration-color: #7f7f7f\">131 </span><span style=\"color: #7f7f7f; text-decoration-color: #7f7f7f\">│   │   │   │   │   </span>dist_metrics[quant] = js                              <span style=\"color: #800000; text-decoration-color: #800000\">│</span> <span style=\"color: #7f7f7f; text-decoration-color: #7f7f7f\">           </span>\n",
       "<span style=\"color: #7fbfbf; text-decoration-color: #7fbfbf\">           </span>         <span style=\"color: #800000; text-decoration-color: #800000\">│</span>   <span style=\"color: #7f7f7f; text-decoration-color: #7f7f7f\">132 </span><span style=\"color: #7f7f7f; text-decoration-color: #7f7f7f\">│   │   </span>                                                                  <span style=\"color: #800000; text-decoration-color: #800000\">│</span> <span style=\"color: #7f7f7f; text-decoration-color: #7f7f7f\">           </span>\n",
       "<span style=\"color: #7fbfbf; text-decoration-color: #7fbfbf\">           </span>         <span style=\"color: #800000; text-decoration-color: #800000\">│</span>   <span style=\"color: #7f7f7f; text-decoration-color: #7f7f7f\">133 </span><span style=\"color: #7f7f7f; text-decoration-color: #7f7f7f\">│   │   </span><span style=\"color: #0000ff; text-decoration-color: #0000ff\">for</span> quant <span style=\"color: #ff00ff; text-decoration-color: #ff00ff\">in</span> [<span style=\"color: #808000; text-decoration-color: #808000\">\"CompositionCounts\"</span>, <span style=\"color: #808000; text-decoration-color: #808000\">\"Composition\"</span>]:                <span style=\"color: #800000; text-decoration-color: #800000\">│</span> <span style=\"color: #7f7f7f; text-decoration-color: #7f7f7f\">           </span>\n",
       "<span style=\"color: #7fbfbf; text-decoration-color: #7fbfbf\">           </span>         <span style=\"color: #800000; text-decoration-color: #800000\">│</span> <span style=\"color: #800000; text-decoration-color: #800000\">❱ </span>134 <span style=\"color: #7f7f7f; text-decoration-color: #7f7f7f\">│   │   │   </span>js = compute_jensen_shannon_distance(                         <span style=\"color: #800000; text-decoration-color: #800000\">│</span> <span style=\"color: #7f7f7f; text-decoration-color: #7f7f7f\">           </span>\n",
       "<span style=\"color: #7fbfbf; text-decoration-color: #7fbfbf\">           </span>         <span style=\"color: #800000; text-decoration-color: #800000\">│</span>   <span style=\"color: #7f7f7f; text-decoration-color: #7f7f7f\">135 </span><span style=\"color: #7f7f7f; text-decoration-color: #7f7f7f\">│   │   │   │   </span>reference_df,                                             <span style=\"color: #800000; text-decoration-color: #800000\">│</span> <span style=\"color: #7f7f7f; text-decoration-color: #7f7f7f\">           </span>\n",
       "<span style=\"color: #7fbfbf; text-decoration-color: #7fbfbf\">           </span>         <span style=\"color: #800000; text-decoration-color: #800000\">│</span>   <span style=\"color: #7f7f7f; text-decoration-color: #7f7f7f\">136 </span><span style=\"color: #7f7f7f; text-decoration-color: #7f7f7f\">│   │   │   │   </span>structure,                                                <span style=\"color: #800000; text-decoration-color: #800000\">│</span> <span style=\"color: #7f7f7f; text-decoration-color: #7f7f7f\">           </span>\n",
       "<span style=\"color: #7fbfbf; text-decoration-color: #7fbfbf\">           </span>         <span style=\"color: #800000; text-decoration-color: #800000\">│</span>   <span style=\"color: #7f7f7f; text-decoration-color: #7f7f7f\">137 </span><span style=\"color: #7f7f7f; text-decoration-color: #7f7f7f\">│   │   │   │   </span>quant,                                                    <span style=\"color: #800000; text-decoration-color: #800000\">│</span> <span style=\"color: #7f7f7f; text-decoration-color: #7f7f7f\">           </span>\n",
       "<span style=\"color: #7fbfbf; text-decoration-color: #7fbfbf\">           </span>         <span style=\"color: #800000; text-decoration-color: #800000\">│</span>                                                                                 <span style=\"color: #800000; text-decoration-color: #800000\">│</span> <span style=\"color: #7f7f7f; text-decoration-color: #7f7f7f\">           </span>\n",
       "<span style=\"color: #7fbfbf; text-decoration-color: #7fbfbf\">           </span>         <span style=\"color: #800000; text-decoration-color: #800000\">│</span> <span style=\"color: #808000; text-decoration-color: #808000\">C:\\Users\\samue\\lematerial-forgebench\\src\\lematerial_forgebench\\utils\\distributi</span> <span style=\"color: #800000; text-decoration-color: #800000\">│</span> <span style=\"color: #7f7f7f; text-decoration-color: #7f7f7f\">           </span>\n",
       "<span style=\"color: #7fbfbf; text-decoration-color: #7fbfbf\">           </span>         <span style=\"color: #800000; text-decoration-color: #800000\">│</span> <span style=\"color: #808000; text-decoration-color: #808000\">on_utils.py</span>:<span style=\"color: #0000ff; text-decoration-color: #0000ff\">118</span> in <span style=\"color: #00ff00; text-decoration-color: #00ff00\">compute_jensen_shannon_distance</span>                              <span style=\"color: #800000; text-decoration-color: #800000\">│</span> <span style=\"color: #7f7f7f; text-decoration-color: #7f7f7f\">           </span>\n",
       "<span style=\"color: #7fbfbf; text-decoration-color: #7fbfbf\">           </span>         <span style=\"color: #800000; text-decoration-color: #800000\">│</span>                                                                                 <span style=\"color: #800000; text-decoration-color: #800000\">│</span> <span style=\"color: #7f7f7f; text-decoration-color: #7f7f7f\">           </span>\n",
       "<span style=\"color: #7fbfbf; text-decoration-color: #7fbfbf\">           </span>         <span style=\"color: #800000; text-decoration-color: #800000\">│</span>   <span style=\"color: #7f7f7f; text-decoration-color: #7f7f7f\">115 </span><span style=\"color: #7f7f7f; text-decoration-color: #7f7f7f\">│   │   </span>)                                                                 <span style=\"color: #800000; text-decoration-color: #800000\">│</span> <span style=\"color: #7f7f7f; text-decoration-color: #7f7f7f\">           </span>\n",
       "<span style=\"color: #7fbfbf; text-decoration-color: #7fbfbf\">           </span>         <span style=\"color: #800000; text-decoration-color: #800000\">│</span>   <span style=\"color: #7f7f7f; text-decoration-color: #7f7f7f\">116 </span><span style=\"color: #7f7f7f; text-decoration-color: #7f7f7f\">│   </span>                                                                      <span style=\"color: #800000; text-decoration-color: #800000\">│</span> <span style=\"color: #7f7f7f; text-decoration-color: #7f7f7f\">           </span>\n",
       "<span style=\"color: #7fbfbf; text-decoration-color: #7fbfbf\">           </span>         <span style=\"color: #800000; text-decoration-color: #800000\">│</span>   <span style=\"color: #7f7f7f; text-decoration-color: #7f7f7f\">117 </span><span style=\"color: #7f7f7f; text-decoration-color: #7f7f7f\">│   </span><span style=\"color: #0000ff; text-decoration-color: #0000ff\">elif</span> crystal_param == <span style=\"color: #808000; text-decoration-color: #808000\">\"CompositionCounts\"</span>:                            <span style=\"color: #800000; text-decoration-color: #800000\">│</span> <span style=\"color: #7f7f7f; text-decoration-color: #7f7f7f\">           </span>\n",
       "<span style=\"color: #7fbfbf; text-decoration-color: #7fbfbf\">           </span>         <span style=\"color: #800000; text-decoration-color: #800000\">│</span> <span style=\"color: #800000; text-decoration-color: #800000\">❱ </span>118 <span style=\"color: #7f7f7f; text-decoration-color: #7f7f7f\">│   │   </span><span style=\"color: #0000ff; text-decoration-color: #0000ff\">with</span> <span style=\"color: #00ffff; text-decoration-color: #00ffff; font-weight: bold; text-decoration: underline\">open</span><span style=\"font-weight: bold; text-decoration: underline\">(</span><span style=\"color: #808000; text-decoration-color: #808000; font-weight: bold; text-decoration: underline\">\"data/lematbulk_composition_counts_distribution.json\"</span><span style=\"font-weight: bold; text-decoration: underline\">, </span> <span style=\"color: #800000; text-decoration-color: #800000\">│</span> <span style=\"color: #7f7f7f; text-decoration-color: #7f7f7f\">           </span>\n",
       "<span style=\"color: #7fbfbf; text-decoration-color: #7fbfbf\">           </span>         <span style=\"color: #800000; text-decoration-color: #800000\">│</span>   <span style=\"color: #7f7f7f; text-decoration-color: #7f7f7f\">119 </span><span style=\"color: #7f7f7f; text-decoration-color: #7f7f7f\">│   │   │   </span>reference_data_dist = json.load(file)                         <span style=\"color: #800000; text-decoration-color: #800000\">│</span> <span style=\"color: #7f7f7f; text-decoration-color: #7f7f7f\">           </span>\n",
       "<span style=\"color: #7fbfbf; text-decoration-color: #7fbfbf\">           </span>         <span style=\"color: #800000; text-decoration-color: #800000\">│</span>   <span style=\"color: #7f7f7f; text-decoration-color: #7f7f7f\">120 </span><span style=\"color: #7f7f7f; text-decoration-color: #7f7f7f\">│   </span><span style=\"color: #0000ff; text-decoration-color: #0000ff\">elif</span> crystal_param == <span style=\"color: #808000; text-decoration-color: #808000\">\"Composition\"</span>:                                  <span style=\"color: #800000; text-decoration-color: #800000\">│</span> <span style=\"color: #7f7f7f; text-decoration-color: #7f7f7f\">           </span>\n",
       "<span style=\"color: #7fbfbf; text-decoration-color: #7fbfbf\">           </span>         <span style=\"color: #800000; text-decoration-color: #800000\">│</span>   <span style=\"color: #7f7f7f; text-decoration-color: #7f7f7f\">121 </span><span style=\"color: #7f7f7f; text-decoration-color: #7f7f7f\">│   │   </span><span style=\"color: #0000ff; text-decoration-color: #0000ff\">with</span> <span style=\"color: #00ffff; text-decoration-color: #00ffff\">open</span>(<span style=\"color: #808000; text-decoration-color: #808000\">\"data/lematbulk_composition_distribution.json\"</span>, <span style=\"color: #808000; text-decoration-color: #808000\">\"r\"</span>) <span style=\"color: #0000ff; text-decoration-color: #0000ff\">as</span> <span style=\"color: #800000; text-decoration-color: #800000\">│</span> <span style=\"color: #7f7f7f; text-decoration-color: #7f7f7f\">           </span>\n",
       "<span style=\"color: #7fbfbf; text-decoration-color: #7fbfbf\">           </span>         <span style=\"color: #800000; text-decoration-color: #800000\">╰─────────────────────────────────────────────────────────────────────────────────╯</span> <span style=\"color: #7f7f7f; text-decoration-color: #7f7f7f\">           </span>\n",
       "<span style=\"color: #7fbfbf; text-decoration-color: #7fbfbf\">           </span>         <span style=\"color: #ff0000; text-decoration-color: #ff0000; font-weight: bold\">FileNotFoundError: </span><span style=\"font-weight: bold\">[</span>Errno <span style=\"color: #008080; text-decoration-color: #008080; font-weight: bold\">2</span><span style=\"font-weight: bold\">]</span> No such file or directory:                             <span style=\"color: #7f7f7f; text-decoration-color: #7f7f7f\">           </span>\n",
       "<span style=\"color: #7fbfbf; text-decoration-color: #7fbfbf\">           </span>         <span style=\"color: #008000; text-decoration-color: #008000\">'data/lematbulk_composition_counts_distribution.json'</span>                               <span style=\"color: #7f7f7f; text-decoration-color: #7f7f7f\">           </span>\n",
       "</pre>\n"
      ],
      "text/plain": [
       "\u001b[2;36m[13:42:23]\u001b[0m\u001b[2;36m \u001b[0m\u001b[33mWARNING \u001b[0m Failed to compute metric for structure \u001b[1;36m0\u001b[0m                                            \u001b]8;id=658320;file://C:\\Users\\samue\\lematerial-forgebench\\src\\lematerial_forgebench\\metrics\\base.py\u001b\\\u001b[2mbase.py\u001b[0m\u001b]8;;\u001b\\\u001b[2m:\u001b[0m\u001b]8;id=763406;file://C:\\Users\\samue\\lematerial-forgebench\\src\\lematerial_forgebench\\metrics\\base.py#349\u001b\\\u001b[2m349\u001b[0m\u001b]8;;\u001b\\\n",
       "\u001b[2;36m           \u001b[0m         \u001b[31m╭─\u001b[0m\u001b[31m──────────────────────\u001b[0m\u001b[31m \u001b[0m\u001b[1;31mTraceback \u001b[0m\u001b[1;2;31m(most recent call last)\u001b[0m\u001b[31m \u001b[0m\u001b[31m──────────────────────\u001b[0m\u001b[31m─╮\u001b[0m \u001b[2m           \u001b[0m\n",
       "\u001b[2;36m           \u001b[0m         \u001b[31m│\u001b[0m \u001b[33mC:\\Users\\samue\\lematerial-forgebench\\src\\lematerial_forgebench\\metrics\\base.py\u001b[0m: \u001b[31m│\u001b[0m \u001b[2m           \u001b[0m\n",
       "\u001b[2;36m           \u001b[0m         \u001b[31m│\u001b[0m \u001b[94m341\u001b[0m in \u001b[92mcompute\u001b[0m                                                                  \u001b[31m│\u001b[0m \u001b[2m           \u001b[0m\n",
       "\u001b[2;36m           \u001b[0m         \u001b[31m│\u001b[0m                                                                                 \u001b[31m│\u001b[0m \u001b[2m           \u001b[0m\n",
       "\u001b[2;36m           \u001b[0m         \u001b[31m│\u001b[0m   \u001b[2m338 \u001b[0m\u001b[2m│   │   │   │   \u001b[0m\u001b[2m# Serial computation\u001b[0m                                      \u001b[31m│\u001b[0m \u001b[2m           \u001b[0m\n",
       "\u001b[2;36m           \u001b[0m         \u001b[31m│\u001b[0m   \u001b[2m339 \u001b[0m\u001b[2m│   │   │   │   \u001b[0m\u001b[94mfor\u001b[0m idx, structure \u001b[95min\u001b[0m \u001b[96menumerate\u001b[0m(structures):              \u001b[31m│\u001b[0m \u001b[2m           \u001b[0m\n",
       "\u001b[2;36m           \u001b[0m         \u001b[31m│\u001b[0m   \u001b[2m340 \u001b[0m\u001b[2m│   │   │   │   │   \u001b[0m\u001b[94mtry\u001b[0m:                                                  \u001b[31m│\u001b[0m \u001b[2m           \u001b[0m\n",
       "\u001b[2;36m           \u001b[0m         \u001b[31m│\u001b[0m \u001b[31m❱ \u001b[0m341 \u001b[2m│   │   │   │   │   │   \u001b[0mvalue = \u001b[96mself\u001b[0m.compute_structure(structure, **compu \u001b[31m│\u001b[0m \u001b[2m           \u001b[0m\n",
       "\u001b[2;36m           \u001b[0m         \u001b[31m│\u001b[0m   \u001b[2m342 \u001b[0m\u001b[2m│   │   │   │   │   │   \u001b[0mvalues.append(value)                              \u001b[31m│\u001b[0m \u001b[2m           \u001b[0m\n",
       "\u001b[2;36m           \u001b[0m         \u001b[31m│\u001b[0m   \u001b[2m343 \u001b[0m\u001b[2m│   │   │   │   │   \u001b[0m\u001b[94mexcept\u001b[0m \u001b[96mException\u001b[0m \u001b[94mas\u001b[0m e:                                \u001b[31m│\u001b[0m \u001b[2m           \u001b[0m\n",
       "\u001b[2;36m           \u001b[0m         \u001b[31m│\u001b[0m   \u001b[2m344 \u001b[0m\u001b[2m│   │   │   │   │   │   \u001b[0mfailed_indices.append(idx)                        \u001b[31m│\u001b[0m \u001b[2m           \u001b[0m\n",
       "\u001b[2;36m           \u001b[0m         \u001b[31m│\u001b[0m                                                                                 \u001b[31m│\u001b[0m \u001b[2m           \u001b[0m\n",
       "\u001b[2;36m           \u001b[0m         \u001b[31m│\u001b[0m \u001b[33mC:\\Users\\samue\\lematerial-forgebench\\src\\lematerial_forgebench\\metrics\\distribu\u001b[0m \u001b[31m│\u001b[0m \u001b[2m           \u001b[0m\n",
       "\u001b[2;36m           \u001b[0m         \u001b[31m│\u001b[0m \u001b[33mtion_metrics.py\u001b[0m:\u001b[94m134\u001b[0m in \u001b[92mcompute_structure\u001b[0m                                        \u001b[31m│\u001b[0m \u001b[2m           \u001b[0m\n",
       "\u001b[2;36m           \u001b[0m         \u001b[31m│\u001b[0m                                                                                 \u001b[31m│\u001b[0m \u001b[2m           \u001b[0m\n",
       "\u001b[2;36m           \u001b[0m         \u001b[31m│\u001b[0m   \u001b[2m131 \u001b[0m\u001b[2m│   │   │   │   │   \u001b[0mdist_metrics[quant] = js                              \u001b[31m│\u001b[0m \u001b[2m           \u001b[0m\n",
       "\u001b[2;36m           \u001b[0m         \u001b[31m│\u001b[0m   \u001b[2m132 \u001b[0m\u001b[2m│   │   \u001b[0m                                                                  \u001b[31m│\u001b[0m \u001b[2m           \u001b[0m\n",
       "\u001b[2;36m           \u001b[0m         \u001b[31m│\u001b[0m   \u001b[2m133 \u001b[0m\u001b[2m│   │   \u001b[0m\u001b[94mfor\u001b[0m quant \u001b[95min\u001b[0m [\u001b[33m\"\u001b[0m\u001b[33mCompositionCounts\u001b[0m\u001b[33m\"\u001b[0m, \u001b[33m\"\u001b[0m\u001b[33mComposition\u001b[0m\u001b[33m\"\u001b[0m]:                \u001b[31m│\u001b[0m \u001b[2m           \u001b[0m\n",
       "\u001b[2;36m           \u001b[0m         \u001b[31m│\u001b[0m \u001b[31m❱ \u001b[0m134 \u001b[2m│   │   │   \u001b[0mjs = compute_jensen_shannon_distance(                         \u001b[31m│\u001b[0m \u001b[2m           \u001b[0m\n",
       "\u001b[2;36m           \u001b[0m         \u001b[31m│\u001b[0m   \u001b[2m135 \u001b[0m\u001b[2m│   │   │   │   \u001b[0mreference_df,                                             \u001b[31m│\u001b[0m \u001b[2m           \u001b[0m\n",
       "\u001b[2;36m           \u001b[0m         \u001b[31m│\u001b[0m   \u001b[2m136 \u001b[0m\u001b[2m│   │   │   │   \u001b[0mstructure,                                                \u001b[31m│\u001b[0m \u001b[2m           \u001b[0m\n",
       "\u001b[2;36m           \u001b[0m         \u001b[31m│\u001b[0m   \u001b[2m137 \u001b[0m\u001b[2m│   │   │   │   \u001b[0mquant,                                                    \u001b[31m│\u001b[0m \u001b[2m           \u001b[0m\n",
       "\u001b[2;36m           \u001b[0m         \u001b[31m│\u001b[0m                                                                                 \u001b[31m│\u001b[0m \u001b[2m           \u001b[0m\n",
       "\u001b[2;36m           \u001b[0m         \u001b[31m│\u001b[0m \u001b[33mC:\\Users\\samue\\lematerial-forgebench\\src\\lematerial_forgebench\\utils\\distributi\u001b[0m \u001b[31m│\u001b[0m \u001b[2m           \u001b[0m\n",
       "\u001b[2;36m           \u001b[0m         \u001b[31m│\u001b[0m \u001b[33mon_utils.py\u001b[0m:\u001b[94m118\u001b[0m in \u001b[92mcompute_jensen_shannon_distance\u001b[0m                              \u001b[31m│\u001b[0m \u001b[2m           \u001b[0m\n",
       "\u001b[2;36m           \u001b[0m         \u001b[31m│\u001b[0m                                                                                 \u001b[31m│\u001b[0m \u001b[2m           \u001b[0m\n",
       "\u001b[2;36m           \u001b[0m         \u001b[31m│\u001b[0m   \u001b[2m115 \u001b[0m\u001b[2m│   │   \u001b[0m)                                                                 \u001b[31m│\u001b[0m \u001b[2m           \u001b[0m\n",
       "\u001b[2;36m           \u001b[0m         \u001b[31m│\u001b[0m   \u001b[2m116 \u001b[0m\u001b[2m│   \u001b[0m                                                                      \u001b[31m│\u001b[0m \u001b[2m           \u001b[0m\n",
       "\u001b[2;36m           \u001b[0m         \u001b[31m│\u001b[0m   \u001b[2m117 \u001b[0m\u001b[2m│   \u001b[0m\u001b[94melif\u001b[0m crystal_param == \u001b[33m\"\u001b[0m\u001b[33mCompositionCounts\u001b[0m\u001b[33m\"\u001b[0m:                            \u001b[31m│\u001b[0m \u001b[2m           \u001b[0m\n",
       "\u001b[2;36m           \u001b[0m         \u001b[31m│\u001b[0m \u001b[31m❱ \u001b[0m118 \u001b[2m│   │   \u001b[0m\u001b[94mwith\u001b[0m \u001b[1;4;96mopen\u001b[0m\u001b[1;4m(\u001b[0m\u001b[1;4;33m\"\u001b[0m\u001b[1;4;33mdata/lematbulk_composition_counts_distribution.json\u001b[0m\u001b[1;4;33m\"\u001b[0m\u001b[1;4m, \u001b[0m \u001b[31m│\u001b[0m \u001b[2m           \u001b[0m\n",
       "\u001b[2;36m           \u001b[0m         \u001b[31m│\u001b[0m   \u001b[2m119 \u001b[0m\u001b[2m│   │   │   \u001b[0mreference_data_dist = json.load(file)                         \u001b[31m│\u001b[0m \u001b[2m           \u001b[0m\n",
       "\u001b[2;36m           \u001b[0m         \u001b[31m│\u001b[0m   \u001b[2m120 \u001b[0m\u001b[2m│   \u001b[0m\u001b[94melif\u001b[0m crystal_param == \u001b[33m\"\u001b[0m\u001b[33mComposition\u001b[0m\u001b[33m\"\u001b[0m:                                  \u001b[31m│\u001b[0m \u001b[2m           \u001b[0m\n",
       "\u001b[2;36m           \u001b[0m         \u001b[31m│\u001b[0m   \u001b[2m121 \u001b[0m\u001b[2m│   │   \u001b[0m\u001b[94mwith\u001b[0m \u001b[96mopen\u001b[0m(\u001b[33m\"\u001b[0m\u001b[33mdata/lematbulk_composition_distribution.json\u001b[0m\u001b[33m\"\u001b[0m, \u001b[33m\"\u001b[0m\u001b[33mr\u001b[0m\u001b[33m\"\u001b[0m) \u001b[94mas\u001b[0m \u001b[31m│\u001b[0m \u001b[2m           \u001b[0m\n",
       "\u001b[2;36m           \u001b[0m         \u001b[31m╰─────────────────────────────────────────────────────────────────────────────────╯\u001b[0m \u001b[2m           \u001b[0m\n",
       "\u001b[2;36m           \u001b[0m         \u001b[1;91mFileNotFoundError: \u001b[0m\u001b[1m[\u001b[0mErrno \u001b[1;36m2\u001b[0m\u001b[1m]\u001b[0m No such file or directory:                             \u001b[2m           \u001b[0m\n",
       "\u001b[2;36m           \u001b[0m         \u001b[32m'data/lematbulk_composition_counts_distribution.json'\u001b[0m                               \u001b[2m           \u001b[0m\n"
      ]
     },
     "metadata": {},
     "output_type": "display_data"
    },
    {
     "data": {
      "text/html": [
       "<pre style=\"white-space:pre;overflow-x:auto;line-height:normal;font-family:Menlo,'DejaVu Sans Mono',consolas,'Courier New',monospace\"><span style=\"color: #7fbfbf; text-decoration-color: #7fbfbf\">           </span><span style=\"color: #808000; text-decoration-color: #808000\">WARNING </span> Failed to compute metric for structure <span style=\"color: #008080; text-decoration-color: #008080; font-weight: bold\">0</span>                                            <a href=\"file://C:\\Users\\samue\\lematerial-forgebench\\src\\lematerial_forgebench\\metrics\\base.py\" target=\"_blank\"><span style=\"color: #7f7f7f; text-decoration-color: #7f7f7f\">base.py</span></a><span style=\"color: #7f7f7f; text-decoration-color: #7f7f7f\">:</span><a href=\"file://C:\\Users\\samue\\lematerial-forgebench\\src\\lematerial_forgebench\\metrics\\base.py#349\" target=\"_blank\"><span style=\"color: #7f7f7f; text-decoration-color: #7f7f7f\">349</span></a>\n",
       "<span style=\"color: #7fbfbf; text-decoration-color: #7fbfbf\">           </span>         <span style=\"color: #800000; text-decoration-color: #800000\">╭─────────────────────── </span><span style=\"color: #800000; text-decoration-color: #800000; font-weight: bold\">Traceback </span><span style=\"color: #bf7f7f; text-decoration-color: #bf7f7f; font-weight: bold\">(most recent call last)</span><span style=\"color: #800000; text-decoration-color: #800000\"> ───────────────────────╮</span> <span style=\"color: #7f7f7f; text-decoration-color: #7f7f7f\">           </span>\n",
       "<span style=\"color: #7fbfbf; text-decoration-color: #7fbfbf\">           </span>         <span style=\"color: #800000; text-decoration-color: #800000\">│</span> <span style=\"color: #808000; text-decoration-color: #808000\">C:\\Users\\samue\\lematerial-forgebench\\src\\lematerial_forgebench\\metrics\\base.py</span>: <span style=\"color: #800000; text-decoration-color: #800000\">│</span> <span style=\"color: #7f7f7f; text-decoration-color: #7f7f7f\">           </span>\n",
       "<span style=\"color: #7fbfbf; text-decoration-color: #7fbfbf\">           </span>         <span style=\"color: #800000; text-decoration-color: #800000\">│</span> <span style=\"color: #0000ff; text-decoration-color: #0000ff\">341</span> in <span style=\"color: #00ff00; text-decoration-color: #00ff00\">compute</span>                                                                  <span style=\"color: #800000; text-decoration-color: #800000\">│</span> <span style=\"color: #7f7f7f; text-decoration-color: #7f7f7f\">           </span>\n",
       "<span style=\"color: #7fbfbf; text-decoration-color: #7fbfbf\">           </span>         <span style=\"color: #800000; text-decoration-color: #800000\">│</span>                                                                                 <span style=\"color: #800000; text-decoration-color: #800000\">│</span> <span style=\"color: #7f7f7f; text-decoration-color: #7f7f7f\">           </span>\n",
       "<span style=\"color: #7fbfbf; text-decoration-color: #7fbfbf\">           </span>         <span style=\"color: #800000; text-decoration-color: #800000\">│</span>   <span style=\"color: #7f7f7f; text-decoration-color: #7f7f7f\">338 </span><span style=\"color: #7f7f7f; text-decoration-color: #7f7f7f\">│   │   │   │   </span><span style=\"color: #7f7f7f; text-decoration-color: #7f7f7f\"># Serial computation</span>                                      <span style=\"color: #800000; text-decoration-color: #800000\">│</span> <span style=\"color: #7f7f7f; text-decoration-color: #7f7f7f\">           </span>\n",
       "<span style=\"color: #7fbfbf; text-decoration-color: #7fbfbf\">           </span>         <span style=\"color: #800000; text-decoration-color: #800000\">│</span>   <span style=\"color: #7f7f7f; text-decoration-color: #7f7f7f\">339 </span><span style=\"color: #7f7f7f; text-decoration-color: #7f7f7f\">│   │   │   │   </span><span style=\"color: #0000ff; text-decoration-color: #0000ff\">for</span> idx, structure <span style=\"color: #ff00ff; text-decoration-color: #ff00ff\">in</span> <span style=\"color: #00ffff; text-decoration-color: #00ffff\">enumerate</span>(structures):              <span style=\"color: #800000; text-decoration-color: #800000\">│</span> <span style=\"color: #7f7f7f; text-decoration-color: #7f7f7f\">           </span>\n",
       "<span style=\"color: #7fbfbf; text-decoration-color: #7fbfbf\">           </span>         <span style=\"color: #800000; text-decoration-color: #800000\">│</span>   <span style=\"color: #7f7f7f; text-decoration-color: #7f7f7f\">340 </span><span style=\"color: #7f7f7f; text-decoration-color: #7f7f7f\">│   │   │   │   │   </span><span style=\"color: #0000ff; text-decoration-color: #0000ff\">try</span>:                                                  <span style=\"color: #800000; text-decoration-color: #800000\">│</span> <span style=\"color: #7f7f7f; text-decoration-color: #7f7f7f\">           </span>\n",
       "<span style=\"color: #7fbfbf; text-decoration-color: #7fbfbf\">           </span>         <span style=\"color: #800000; text-decoration-color: #800000\">│</span> <span style=\"color: #800000; text-decoration-color: #800000\">❱ </span>341 <span style=\"color: #7f7f7f; text-decoration-color: #7f7f7f\">│   │   │   │   │   │   </span>value = <span style=\"color: #00ffff; text-decoration-color: #00ffff\">self</span>.compute_structure(structure, **compu <span style=\"color: #800000; text-decoration-color: #800000\">│</span> <span style=\"color: #7f7f7f; text-decoration-color: #7f7f7f\">           </span>\n",
       "<span style=\"color: #7fbfbf; text-decoration-color: #7fbfbf\">           </span>         <span style=\"color: #800000; text-decoration-color: #800000\">│</span>   <span style=\"color: #7f7f7f; text-decoration-color: #7f7f7f\">342 </span><span style=\"color: #7f7f7f; text-decoration-color: #7f7f7f\">│   │   │   │   │   │   </span>values.append(value)                              <span style=\"color: #800000; text-decoration-color: #800000\">│</span> <span style=\"color: #7f7f7f; text-decoration-color: #7f7f7f\">           </span>\n",
       "<span style=\"color: #7fbfbf; text-decoration-color: #7fbfbf\">           </span>         <span style=\"color: #800000; text-decoration-color: #800000\">│</span>   <span style=\"color: #7f7f7f; text-decoration-color: #7f7f7f\">343 </span><span style=\"color: #7f7f7f; text-decoration-color: #7f7f7f\">│   │   │   │   │   </span><span style=\"color: #0000ff; text-decoration-color: #0000ff\">except</span> <span style=\"color: #00ffff; text-decoration-color: #00ffff\">Exception</span> <span style=\"color: #0000ff; text-decoration-color: #0000ff\">as</span> e:                                <span style=\"color: #800000; text-decoration-color: #800000\">│</span> <span style=\"color: #7f7f7f; text-decoration-color: #7f7f7f\">           </span>\n",
       "<span style=\"color: #7fbfbf; text-decoration-color: #7fbfbf\">           </span>         <span style=\"color: #800000; text-decoration-color: #800000\">│</span>   <span style=\"color: #7f7f7f; text-decoration-color: #7f7f7f\">344 </span><span style=\"color: #7f7f7f; text-decoration-color: #7f7f7f\">│   │   │   │   │   │   </span>failed_indices.append(idx)                        <span style=\"color: #800000; text-decoration-color: #800000\">│</span> <span style=\"color: #7f7f7f; text-decoration-color: #7f7f7f\">           </span>\n",
       "<span style=\"color: #7fbfbf; text-decoration-color: #7fbfbf\">           </span>         <span style=\"color: #800000; text-decoration-color: #800000\">│</span>                                                                                 <span style=\"color: #800000; text-decoration-color: #800000\">│</span> <span style=\"color: #7f7f7f; text-decoration-color: #7f7f7f\">           </span>\n",
       "<span style=\"color: #7fbfbf; text-decoration-color: #7fbfbf\">           </span>         <span style=\"color: #800000; text-decoration-color: #800000\">│</span> <span style=\"color: #808000; text-decoration-color: #808000\">C:\\Users\\samue\\lematerial-forgebench\\src\\lematerial_forgebench\\metrics\\distribu</span> <span style=\"color: #800000; text-decoration-color: #800000\">│</span> <span style=\"color: #7f7f7f; text-decoration-color: #7f7f7f\">           </span>\n",
       "<span style=\"color: #7fbfbf; text-decoration-color: #7fbfbf\">           </span>         <span style=\"color: #800000; text-decoration-color: #800000\">│</span> <span style=\"color: #808000; text-decoration-color: #808000\">tion_metrics.py</span>:<span style=\"color: #0000ff; text-decoration-color: #0000ff\">345</span> in <span style=\"color: #00ff00; text-decoration-color: #00ff00\">compute_structure</span>                                        <span style=\"color: #800000; text-decoration-color: #800000\">│</span> <span style=\"color: #7f7f7f; text-decoration-color: #7f7f7f\">           </span>\n",
       "<span style=\"color: #7fbfbf; text-decoration-color: #7fbfbf\">           </span>         <span style=\"color: #800000; text-decoration-color: #800000\">│</span>                                                                                 <span style=\"color: #800000; text-decoration-color: #800000\">│</span> <span style=\"color: #7f7f7f; text-decoration-color: #7f7f7f\">           </span>\n",
       "<span style=\"color: #7fbfbf; text-decoration-color: #7fbfbf\">           </span>         <span style=\"color: #800000; text-decoration-color: #800000\">│</span>   <span style=\"color: #7f7f7f; text-decoration-color: #7f7f7f\">342 </span><span style=\"color: #7f7f7f; text-decoration-color: #7f7f7f\">│   │   </span>quantities = structure.columns                                    <span style=\"color: #800000; text-decoration-color: #800000\">│</span> <span style=\"color: #7f7f7f; text-decoration-color: #7f7f7f\">           </span>\n",
       "<span style=\"color: #7fbfbf; text-decoration-color: #7fbfbf\">           </span>         <span style=\"color: #800000; text-decoration-color: #800000\">│</span>   <span style=\"color: #7f7f7f; text-decoration-color: #7f7f7f\">343 </span><span style=\"color: #7f7f7f; text-decoration-color: #7f7f7f\">│   │   </span><span style=\"color: #0000ff; text-decoration-color: #0000ff\">for</span> quant <span style=\"color: #ff00ff; text-decoration-color: #ff00ff\">in</span> quantities:                                          <span style=\"color: #800000; text-decoration-color: #800000\">│</span> <span style=\"color: #7f7f7f; text-decoration-color: #7f7f7f\">           </span>\n",
       "<span style=\"color: #7fbfbf; text-decoration-color: #7fbfbf\">           </span>         <span style=\"color: #800000; text-decoration-color: #800000\">│</span>   <span style=\"color: #7f7f7f; text-decoration-color: #7f7f7f\">344 </span><span style=\"color: #7f7f7f; text-decoration-color: #7f7f7f\">│   │   │   </span><span style=\"color: #0000ff; text-decoration-color: #0000ff\">if</span> quant <span style=\"color: #ff00ff; text-decoration-color: #ff00ff\">in</span> reference_df.columns:                             <span style=\"color: #800000; text-decoration-color: #800000\">│</span> <span style=\"color: #7f7f7f; text-decoration-color: #7f7f7f\">           </span>\n",
       "<span style=\"color: #7fbfbf; text-decoration-color: #7fbfbf\">           </span>         <span style=\"color: #800000; text-decoration-color: #800000\">│</span> <span style=\"color: #800000; text-decoration-color: #800000\">❱ </span>345 <span style=\"color: #7f7f7f; text-decoration-color: #7f7f7f\">│   │   │   │   </span>frechetdist = <span style=\"font-weight: bold; text-decoration: underline\">compute_frechetdist(reference_df, structure</span> <span style=\"color: #800000; text-decoration-color: #800000\">│</span> <span style=\"color: #7f7f7f; text-decoration-color: #7f7f7f\">           </span>\n",
       "<span style=\"color: #7fbfbf; text-decoration-color: #7fbfbf\">           </span>         <span style=\"color: #800000; text-decoration-color: #800000\">│</span>   <span style=\"color: #7f7f7f; text-decoration-color: #7f7f7f\">346 </span><span style=\"color: #7f7f7f; text-decoration-color: #7f7f7f\">│   │   │   │   </span>dist_metrics[quant] = frechetdist                         <span style=\"color: #800000; text-decoration-color: #800000\">│</span> <span style=\"color: #7f7f7f; text-decoration-color: #7f7f7f\">           </span>\n",
       "<span style=\"color: #7fbfbf; text-decoration-color: #7fbfbf\">           </span>         <span style=\"color: #800000; text-decoration-color: #800000\">│</span>   <span style=\"color: #7f7f7f; text-decoration-color: #7f7f7f\">347 </span><span style=\"color: #7f7f7f; text-decoration-color: #7f7f7f\">│   │   </span>                                                                  <span style=\"color: #800000; text-decoration-color: #800000\">│</span> <span style=\"color: #7f7f7f; text-decoration-color: #7f7f7f\">           </span>\n",
       "<span style=\"color: #7fbfbf; text-decoration-color: #7fbfbf\">           </span>         <span style=\"color: #800000; text-decoration-color: #800000\">│</span>   <span style=\"color: #7f7f7f; text-decoration-color: #7f7f7f\">348 </span><span style=\"color: #7f7f7f; text-decoration-color: #7f7f7f\">│   │   </span><span style=\"color: #0000ff; text-decoration-color: #0000ff\">return</span> dist_metrics                                               <span style=\"color: #800000; text-decoration-color: #800000\">│</span> <span style=\"color: #7f7f7f; text-decoration-color: #7f7f7f\">           </span>\n",
       "<span style=\"color: #7fbfbf; text-decoration-color: #7fbfbf\">           </span>         <span style=\"color: #800000; text-decoration-color: #800000\">│</span>                                                                                 <span style=\"color: #800000; text-decoration-color: #800000\">│</span> <span style=\"color: #7f7f7f; text-decoration-color: #7f7f7f\">           </span>\n",
       "<span style=\"color: #7fbfbf; text-decoration-color: #7fbfbf\">           </span>         <span style=\"color: #800000; text-decoration-color: #800000\">│</span> <span style=\"color: #808000; text-decoration-color: #808000\">C:\\Users\\samue\\lematerial-forgebench\\src\\lematerial_forgebench\\utils\\distributi</span> <span style=\"color: #800000; text-decoration-color: #800000\">│</span> <span style=\"color: #7f7f7f; text-decoration-color: #7f7f7f\">           </span>\n",
       "<span style=\"color: #7fbfbf; text-decoration-color: #7fbfbf\">           </span>         <span style=\"color: #800000; text-decoration-color: #800000\">│</span> <span style=\"color: #808000; text-decoration-color: #808000\">on_utils.py</span>:<span style=\"color: #0000ff; text-decoration-color: #0000ff\">156</span> in <span style=\"color: #00ff00; text-decoration-color: #00ff00\">compute_frechetdist</span>                                          <span style=\"color: #800000; text-decoration-color: #800000\">│</span> <span style=\"color: #7f7f7f; text-decoration-color: #7f7f7f\">           </span>\n",
       "<span style=\"color: #7fbfbf; text-decoration-color: #7fbfbf\">           </span>         <span style=\"color: #800000; text-decoration-color: #800000\">│</span>                                                                                 <span style=\"color: #800000; text-decoration-color: #800000\">│</span> <span style=\"color: #7f7f7f; text-decoration-color: #7f7f7f\">           </span>\n",
       "<span style=\"color: #7fbfbf; text-decoration-color: #7fbfbf\">           </span>         <span style=\"color: #800000; text-decoration-color: #800000\">│</span>   <span style=\"color: #7f7f7f; text-decoration-color: #7f7f7f\">153 </span><span style=\"color: #7f7f7f; text-decoration-color: #7f7f7f\">│   │   </span>reference_data, metric=crystal_param, return_2d_array=<span style=\"color: #0000ff; text-decoration-color: #0000ff\">True</span>        <span style=\"color: #800000; text-decoration-color: #800000\">│</span> <span style=\"color: #7f7f7f; text-decoration-color: #7f7f7f\">           </span>\n",
       "<span style=\"color: #7fbfbf; text-decoration-color: #7fbfbf\">           </span>         <span style=\"color: #800000; text-decoration-color: #800000\">│</span>   <span style=\"color: #7f7f7f; text-decoration-color: #7f7f7f\">154 </span><span style=\"color: #7f7f7f; text-decoration-color: #7f7f7f\">│   </span>)                                                                     <span style=\"color: #800000; text-decoration-color: #800000\">│</span> <span style=\"color: #7f7f7f; text-decoration-color: #7f7f7f\">           </span>\n",
       "<span style=\"color: #7fbfbf; text-decoration-color: #7fbfbf\">           </span>         <span style=\"color: #800000; text-decoration-color: #800000\">│</span>   <span style=\"color: #7f7f7f; text-decoration-color: #7f7f7f\">155 </span><span style=\"color: #7f7f7f; text-decoration-color: #7f7f7f\">│   </span>                                                                      <span style=\"color: #800000; text-decoration-color: #800000\">│</span> <span style=\"color: #7f7f7f; text-decoration-color: #7f7f7f\">           </span>\n",
       "<span style=\"color: #7fbfbf; text-decoration-color: #7fbfbf\">           </span>         <span style=\"color: #800000; text-decoration-color: #800000\">│</span> <span style=\"color: #800000; text-decoration-color: #800000\">❱ </span>156 <span style=\"color: #7f7f7f; text-decoration-color: #7f7f7f\">│   </span>distance = <span style=\"font-weight: bold; text-decoration: underline\">frdist(reference_data_dist, generated_crystals_dist)</span>       <span style=\"color: #800000; text-decoration-color: #800000\">│</span> <span style=\"color: #7f7f7f; text-decoration-color: #7f7f7f\">           </span>\n",
       "<span style=\"color: #7fbfbf; text-decoration-color: #7fbfbf\">           </span>         <span style=\"color: #800000; text-decoration-color: #800000\">│</span>   <span style=\"color: #7f7f7f; text-decoration-color: #7f7f7f\">157 </span><span style=\"color: #7f7f7f; text-decoration-color: #7f7f7f\">│   </span><span style=\"color: #0000ff; text-decoration-color: #0000ff\">return</span> distance                                                       <span style=\"color: #800000; text-decoration-color: #800000\">│</span> <span style=\"color: #7f7f7f; text-decoration-color: #7f7f7f\">           </span>\n",
       "<span style=\"color: #7fbfbf; text-decoration-color: #7fbfbf\">           </span>         <span style=\"color: #800000; text-decoration-color: #800000\">│</span>   <span style=\"color: #7f7f7f; text-decoration-color: #7f7f7f\">158 </span>                                                                          <span style=\"color: #800000; text-decoration-color: #800000\">│</span> <span style=\"color: #7f7f7f; text-decoration-color: #7f7f7f\">           </span>\n",
       "<span style=\"color: #7fbfbf; text-decoration-color: #7fbfbf\">           </span>         <span style=\"color: #800000; text-decoration-color: #800000\">│</span>                                                                                 <span style=\"color: #800000; text-decoration-color: #800000\">│</span> <span style=\"color: #7f7f7f; text-decoration-color: #7f7f7f\">           </span>\n",
       "<span style=\"color: #7fbfbf; text-decoration-color: #7fbfbf\">           </span>         <span style=\"color: #800000; text-decoration-color: #800000\">│</span> <span style=\"color: #808000; text-decoration-color: #808000\">C:\\Users\\samue\\lematerial-forgebench\\.venv\\Lib\\site-packages\\frechetdist.py</span>:<span style=\"color: #0000ff; text-decoration-color: #0000ff\">103</span> <span style=\"color: #800000; text-decoration-color: #800000\">│</span> <span style=\"color: #7f7f7f; text-decoration-color: #7f7f7f\">           </span>\n",
       "<span style=\"color: #7fbfbf; text-decoration-color: #7fbfbf\">           </span>         <span style=\"color: #800000; text-decoration-color: #800000\">│</span> in <span style=\"color: #00ff00; text-decoration-color: #00ff00\">frdist</span>                                                                       <span style=\"color: #800000; text-decoration-color: #800000\">│</span> <span style=\"color: #7f7f7f; text-decoration-color: #7f7f7f\">           </span>\n",
       "<span style=\"color: #7fbfbf; text-decoration-color: #7fbfbf\">           </span>         <span style=\"color: #800000; text-decoration-color: #800000\">│</span>                                                                                 <span style=\"color: #800000; text-decoration-color: #800000\">│</span> <span style=\"color: #7f7f7f; text-decoration-color: #7f7f7f\">           </span>\n",
       "<span style=\"color: #7fbfbf; text-decoration-color: #7fbfbf\">           </span>         <span style=\"color: #800000; text-decoration-color: #800000\">│</span>   <span style=\"color: #7f7f7f; text-decoration-color: #7f7f7f\">100 </span><span style=\"color: #7f7f7f; text-decoration-color: #7f7f7f\">│   │   </span><span style=\"color: #0000ff; text-decoration-color: #0000ff\">raise</span> <span style=\"color: #00ffff; text-decoration-color: #00ffff\">ValueError</span>(<span style=\"color: #808000; text-decoration-color: #808000\">'Input curves are empty.'</span>)                       <span style=\"color: #800000; text-decoration-color: #800000\">│</span> <span style=\"color: #7f7f7f; text-decoration-color: #7f7f7f\">           </span>\n",
       "<span style=\"color: #7fbfbf; text-decoration-color: #7fbfbf\">           </span>         <span style=\"color: #800000; text-decoration-color: #800000\">│</span>   <span style=\"color: #7f7f7f; text-decoration-color: #7f7f7f\">101 </span><span style=\"color: #7f7f7f; text-decoration-color: #7f7f7f\">│   </span>                                                                      <span style=\"color: #800000; text-decoration-color: #800000\">│</span> <span style=\"color: #7f7f7f; text-decoration-color: #7f7f7f\">           </span>\n",
       "<span style=\"color: #7fbfbf; text-decoration-color: #7fbfbf\">           </span>         <span style=\"color: #800000; text-decoration-color: #800000\">│</span>   <span style=\"color: #7f7f7f; text-decoration-color: #7f7f7f\">102 </span><span style=\"color: #7f7f7f; text-decoration-color: #7f7f7f\">│   </span><span style=\"color: #0000ff; text-decoration-color: #0000ff\">if</span> len_p != len_q <span style=\"color: #ff00ff; text-decoration-color: #ff00ff\">or</span> <span style=\"color: #00ffff; text-decoration-color: #00ffff\">len</span>(p[<span style=\"color: #0000ff; text-decoration-color: #0000ff\">0</span>]) != <span style=\"color: #00ffff; text-decoration-color: #00ffff\">len</span>(q[<span style=\"color: #0000ff; text-decoration-color: #0000ff\">0</span>]):                          <span style=\"color: #800000; text-decoration-color: #800000\">│</span> <span style=\"color: #7f7f7f; text-decoration-color: #7f7f7f\">           </span>\n",
       "<span style=\"color: #7fbfbf; text-decoration-color: #7fbfbf\">           </span>         <span style=\"color: #800000; text-decoration-color: #800000\">│</span> <span style=\"color: #800000; text-decoration-color: #800000\">❱ </span>103 <span style=\"color: #7f7f7f; text-decoration-color: #7f7f7f\">│   │   </span><span style=\"color: #0000ff; text-decoration-color: #0000ff; font-weight: bold; text-decoration: underline\">raise</span><span style=\"font-weight: bold; text-decoration: underline\"> </span><span style=\"color: #00ffff; text-decoration-color: #00ffff; font-weight: bold; text-decoration: underline\">ValueError</span><span style=\"font-weight: bold; text-decoration: underline\">(</span><span style=\"color: #808000; text-decoration-color: #808000; font-weight: bold; text-decoration: underline\">'Input curves do not have the same dimensions.'</span><span style=\"font-weight: bold; text-decoration: underline\">)</span> <span style=\"color: #800000; text-decoration-color: #800000\">│</span> <span style=\"color: #7f7f7f; text-decoration-color: #7f7f7f\">           </span>\n",
       "<span style=\"color: #7fbfbf; text-decoration-color: #7fbfbf\">           </span>         <span style=\"color: #800000; text-decoration-color: #800000\">│</span>   <span style=\"color: #7f7f7f; text-decoration-color: #7f7f7f\">104 </span><span style=\"color: #7f7f7f; text-decoration-color: #7f7f7f\">│   </span>                                                                      <span style=\"color: #800000; text-decoration-color: #800000\">│</span> <span style=\"color: #7f7f7f; text-decoration-color: #7f7f7f\">           </span>\n",
       "<span style=\"color: #7fbfbf; text-decoration-color: #7fbfbf\">           </span>         <span style=\"color: #800000; text-decoration-color: #800000\">│</span>   <span style=\"color: #7f7f7f; text-decoration-color: #7f7f7f\">105 </span><span style=\"color: #7f7f7f; text-decoration-color: #7f7f7f\">│   </span>ca = (np.ones((len_p, len_q), dtype=np.float64) * -<span style=\"color: #0000ff; text-decoration-color: #0000ff\">1</span>)                 <span style=\"color: #800000; text-decoration-color: #800000\">│</span> <span style=\"color: #7f7f7f; text-decoration-color: #7f7f7f\">           </span>\n",
       "<span style=\"color: #7fbfbf; text-decoration-color: #7fbfbf\">           </span>         <span style=\"color: #800000; text-decoration-color: #800000\">│</span>   <span style=\"color: #7f7f7f; text-decoration-color: #7f7f7f\">106 </span>                                                                          <span style=\"color: #800000; text-decoration-color: #800000\">│</span> <span style=\"color: #7f7f7f; text-decoration-color: #7f7f7f\">           </span>\n",
       "<span style=\"color: #7fbfbf; text-decoration-color: #7fbfbf\">           </span>         <span style=\"color: #800000; text-decoration-color: #800000\">╰─────────────────────────────────────────────────────────────────────────────────╯</span> <span style=\"color: #7f7f7f; text-decoration-color: #7f7f7f\">           </span>\n",
       "<span style=\"color: #7fbfbf; text-decoration-color: #7fbfbf\">           </span>         <span style=\"color: #ff0000; text-decoration-color: #ff0000; font-weight: bold\">ValueError: </span>Input curves do not have the same dimensions.                           <span style=\"color: #7f7f7f; text-decoration-color: #7f7f7f\">           </span>\n",
       "</pre>\n"
      ],
      "text/plain": [
       "\u001b[2;36m          \u001b[0m\u001b[2;36m \u001b[0m\u001b[33mWARNING \u001b[0m Failed to compute metric for structure \u001b[1;36m0\u001b[0m                                            \u001b]8;id=614259;file://C:\\Users\\samue\\lematerial-forgebench\\src\\lematerial_forgebench\\metrics\\base.py\u001b\\\u001b[2mbase.py\u001b[0m\u001b]8;;\u001b\\\u001b[2m:\u001b[0m\u001b]8;id=169555;file://C:\\Users\\samue\\lematerial-forgebench\\src\\lematerial_forgebench\\metrics\\base.py#349\u001b\\\u001b[2m349\u001b[0m\u001b]8;;\u001b\\\n",
       "\u001b[2;36m           \u001b[0m         \u001b[31m╭─\u001b[0m\u001b[31m──────────────────────\u001b[0m\u001b[31m \u001b[0m\u001b[1;31mTraceback \u001b[0m\u001b[1;2;31m(most recent call last)\u001b[0m\u001b[31m \u001b[0m\u001b[31m──────────────────────\u001b[0m\u001b[31m─╮\u001b[0m \u001b[2m           \u001b[0m\n",
       "\u001b[2;36m           \u001b[0m         \u001b[31m│\u001b[0m \u001b[33mC:\\Users\\samue\\lematerial-forgebench\\src\\lematerial_forgebench\\metrics\\base.py\u001b[0m: \u001b[31m│\u001b[0m \u001b[2m           \u001b[0m\n",
       "\u001b[2;36m           \u001b[0m         \u001b[31m│\u001b[0m \u001b[94m341\u001b[0m in \u001b[92mcompute\u001b[0m                                                                  \u001b[31m│\u001b[0m \u001b[2m           \u001b[0m\n",
       "\u001b[2;36m           \u001b[0m         \u001b[31m│\u001b[0m                                                                                 \u001b[31m│\u001b[0m \u001b[2m           \u001b[0m\n",
       "\u001b[2;36m           \u001b[0m         \u001b[31m│\u001b[0m   \u001b[2m338 \u001b[0m\u001b[2m│   │   │   │   \u001b[0m\u001b[2m# Serial computation\u001b[0m                                      \u001b[31m│\u001b[0m \u001b[2m           \u001b[0m\n",
       "\u001b[2;36m           \u001b[0m         \u001b[31m│\u001b[0m   \u001b[2m339 \u001b[0m\u001b[2m│   │   │   │   \u001b[0m\u001b[94mfor\u001b[0m idx, structure \u001b[95min\u001b[0m \u001b[96menumerate\u001b[0m(structures):              \u001b[31m│\u001b[0m \u001b[2m           \u001b[0m\n",
       "\u001b[2;36m           \u001b[0m         \u001b[31m│\u001b[0m   \u001b[2m340 \u001b[0m\u001b[2m│   │   │   │   │   \u001b[0m\u001b[94mtry\u001b[0m:                                                  \u001b[31m│\u001b[0m \u001b[2m           \u001b[0m\n",
       "\u001b[2;36m           \u001b[0m         \u001b[31m│\u001b[0m \u001b[31m❱ \u001b[0m341 \u001b[2m│   │   │   │   │   │   \u001b[0mvalue = \u001b[96mself\u001b[0m.compute_structure(structure, **compu \u001b[31m│\u001b[0m \u001b[2m           \u001b[0m\n",
       "\u001b[2;36m           \u001b[0m         \u001b[31m│\u001b[0m   \u001b[2m342 \u001b[0m\u001b[2m│   │   │   │   │   │   \u001b[0mvalues.append(value)                              \u001b[31m│\u001b[0m \u001b[2m           \u001b[0m\n",
       "\u001b[2;36m           \u001b[0m         \u001b[31m│\u001b[0m   \u001b[2m343 \u001b[0m\u001b[2m│   │   │   │   │   \u001b[0m\u001b[94mexcept\u001b[0m \u001b[96mException\u001b[0m \u001b[94mas\u001b[0m e:                                \u001b[31m│\u001b[0m \u001b[2m           \u001b[0m\n",
       "\u001b[2;36m           \u001b[0m         \u001b[31m│\u001b[0m   \u001b[2m344 \u001b[0m\u001b[2m│   │   │   │   │   │   \u001b[0mfailed_indices.append(idx)                        \u001b[31m│\u001b[0m \u001b[2m           \u001b[0m\n",
       "\u001b[2;36m           \u001b[0m         \u001b[31m│\u001b[0m                                                                                 \u001b[31m│\u001b[0m \u001b[2m           \u001b[0m\n",
       "\u001b[2;36m           \u001b[0m         \u001b[31m│\u001b[0m \u001b[33mC:\\Users\\samue\\lematerial-forgebench\\src\\lematerial_forgebench\\metrics\\distribu\u001b[0m \u001b[31m│\u001b[0m \u001b[2m           \u001b[0m\n",
       "\u001b[2;36m           \u001b[0m         \u001b[31m│\u001b[0m \u001b[33mtion_metrics.py\u001b[0m:\u001b[94m345\u001b[0m in \u001b[92mcompute_structure\u001b[0m                                        \u001b[31m│\u001b[0m \u001b[2m           \u001b[0m\n",
       "\u001b[2;36m           \u001b[0m         \u001b[31m│\u001b[0m                                                                                 \u001b[31m│\u001b[0m \u001b[2m           \u001b[0m\n",
       "\u001b[2;36m           \u001b[0m         \u001b[31m│\u001b[0m   \u001b[2m342 \u001b[0m\u001b[2m│   │   \u001b[0mquantities = structure.columns                                    \u001b[31m│\u001b[0m \u001b[2m           \u001b[0m\n",
       "\u001b[2;36m           \u001b[0m         \u001b[31m│\u001b[0m   \u001b[2m343 \u001b[0m\u001b[2m│   │   \u001b[0m\u001b[94mfor\u001b[0m quant \u001b[95min\u001b[0m quantities:                                          \u001b[31m│\u001b[0m \u001b[2m           \u001b[0m\n",
       "\u001b[2;36m           \u001b[0m         \u001b[31m│\u001b[0m   \u001b[2m344 \u001b[0m\u001b[2m│   │   │   \u001b[0m\u001b[94mif\u001b[0m quant \u001b[95min\u001b[0m reference_df.columns:                             \u001b[31m│\u001b[0m \u001b[2m           \u001b[0m\n",
       "\u001b[2;36m           \u001b[0m         \u001b[31m│\u001b[0m \u001b[31m❱ \u001b[0m345 \u001b[2m│   │   │   │   \u001b[0mfrechetdist = \u001b[1;4mcompute_frechetdist(reference_df, structure\u001b[0m \u001b[31m│\u001b[0m \u001b[2m           \u001b[0m\n",
       "\u001b[2;36m           \u001b[0m         \u001b[31m│\u001b[0m   \u001b[2m346 \u001b[0m\u001b[2m│   │   │   │   \u001b[0mdist_metrics[quant] = frechetdist                         \u001b[31m│\u001b[0m \u001b[2m           \u001b[0m\n",
       "\u001b[2;36m           \u001b[0m         \u001b[31m│\u001b[0m   \u001b[2m347 \u001b[0m\u001b[2m│   │   \u001b[0m                                                                  \u001b[31m│\u001b[0m \u001b[2m           \u001b[0m\n",
       "\u001b[2;36m           \u001b[0m         \u001b[31m│\u001b[0m   \u001b[2m348 \u001b[0m\u001b[2m│   │   \u001b[0m\u001b[94mreturn\u001b[0m dist_metrics                                               \u001b[31m│\u001b[0m \u001b[2m           \u001b[0m\n",
       "\u001b[2;36m           \u001b[0m         \u001b[31m│\u001b[0m                                                                                 \u001b[31m│\u001b[0m \u001b[2m           \u001b[0m\n",
       "\u001b[2;36m           \u001b[0m         \u001b[31m│\u001b[0m \u001b[33mC:\\Users\\samue\\lematerial-forgebench\\src\\lematerial_forgebench\\utils\\distributi\u001b[0m \u001b[31m│\u001b[0m \u001b[2m           \u001b[0m\n",
       "\u001b[2;36m           \u001b[0m         \u001b[31m│\u001b[0m \u001b[33mon_utils.py\u001b[0m:\u001b[94m156\u001b[0m in \u001b[92mcompute_frechetdist\u001b[0m                                          \u001b[31m│\u001b[0m \u001b[2m           \u001b[0m\n",
       "\u001b[2;36m           \u001b[0m         \u001b[31m│\u001b[0m                                                                                 \u001b[31m│\u001b[0m \u001b[2m           \u001b[0m\n",
       "\u001b[2;36m           \u001b[0m         \u001b[31m│\u001b[0m   \u001b[2m153 \u001b[0m\u001b[2m│   │   \u001b[0mreference_data, metric=crystal_param, return_2d_array=\u001b[94mTrue\u001b[0m        \u001b[31m│\u001b[0m \u001b[2m           \u001b[0m\n",
       "\u001b[2;36m           \u001b[0m         \u001b[31m│\u001b[0m   \u001b[2m154 \u001b[0m\u001b[2m│   \u001b[0m)                                                                     \u001b[31m│\u001b[0m \u001b[2m           \u001b[0m\n",
       "\u001b[2;36m           \u001b[0m         \u001b[31m│\u001b[0m   \u001b[2m155 \u001b[0m\u001b[2m│   \u001b[0m                                                                      \u001b[31m│\u001b[0m \u001b[2m           \u001b[0m\n",
       "\u001b[2;36m           \u001b[0m         \u001b[31m│\u001b[0m \u001b[31m❱ \u001b[0m156 \u001b[2m│   \u001b[0mdistance = \u001b[1;4mfrdist(reference_data_dist, generated_crystals_dist)\u001b[0m       \u001b[31m│\u001b[0m \u001b[2m           \u001b[0m\n",
       "\u001b[2;36m           \u001b[0m         \u001b[31m│\u001b[0m   \u001b[2m157 \u001b[0m\u001b[2m│   \u001b[0m\u001b[94mreturn\u001b[0m distance                                                       \u001b[31m│\u001b[0m \u001b[2m           \u001b[0m\n",
       "\u001b[2;36m           \u001b[0m         \u001b[31m│\u001b[0m   \u001b[2m158 \u001b[0m                                                                          \u001b[31m│\u001b[0m \u001b[2m           \u001b[0m\n",
       "\u001b[2;36m           \u001b[0m         \u001b[31m│\u001b[0m                                                                                 \u001b[31m│\u001b[0m \u001b[2m           \u001b[0m\n",
       "\u001b[2;36m           \u001b[0m         \u001b[31m│\u001b[0m \u001b[33mC:\\Users\\samue\\lematerial-forgebench\\.venv\\Lib\\site-packages\\frechetdist.py\u001b[0m:\u001b[94m103\u001b[0m \u001b[31m│\u001b[0m \u001b[2m           \u001b[0m\n",
       "\u001b[2;36m           \u001b[0m         \u001b[31m│\u001b[0m in \u001b[92mfrdist\u001b[0m                                                                       \u001b[31m│\u001b[0m \u001b[2m           \u001b[0m\n",
       "\u001b[2;36m           \u001b[0m         \u001b[31m│\u001b[0m                                                                                 \u001b[31m│\u001b[0m \u001b[2m           \u001b[0m\n",
       "\u001b[2;36m           \u001b[0m         \u001b[31m│\u001b[0m   \u001b[2m100 \u001b[0m\u001b[2m│   │   \u001b[0m\u001b[94mraise\u001b[0m \u001b[96mValueError\u001b[0m(\u001b[33m'\u001b[0m\u001b[33mInput curves are empty.\u001b[0m\u001b[33m'\u001b[0m)                       \u001b[31m│\u001b[0m \u001b[2m           \u001b[0m\n",
       "\u001b[2;36m           \u001b[0m         \u001b[31m│\u001b[0m   \u001b[2m101 \u001b[0m\u001b[2m│   \u001b[0m                                                                      \u001b[31m│\u001b[0m \u001b[2m           \u001b[0m\n",
       "\u001b[2;36m           \u001b[0m         \u001b[31m│\u001b[0m   \u001b[2m102 \u001b[0m\u001b[2m│   \u001b[0m\u001b[94mif\u001b[0m len_p != len_q \u001b[95mor\u001b[0m \u001b[96mlen\u001b[0m(p[\u001b[94m0\u001b[0m]) != \u001b[96mlen\u001b[0m(q[\u001b[94m0\u001b[0m]):                          \u001b[31m│\u001b[0m \u001b[2m           \u001b[0m\n",
       "\u001b[2;36m           \u001b[0m         \u001b[31m│\u001b[0m \u001b[31m❱ \u001b[0m103 \u001b[2m│   │   \u001b[0m\u001b[1;4;94mraise\u001b[0m\u001b[1;4m \u001b[0m\u001b[1;4;96mValueError\u001b[0m\u001b[1;4m(\u001b[0m\u001b[1;4;33m'\u001b[0m\u001b[1;4;33mInput curves do not have the same dimensions.\u001b[0m\u001b[1;4;33m'\u001b[0m\u001b[1;4m)\u001b[0m \u001b[31m│\u001b[0m \u001b[2m           \u001b[0m\n",
       "\u001b[2;36m           \u001b[0m         \u001b[31m│\u001b[0m   \u001b[2m104 \u001b[0m\u001b[2m│   \u001b[0m                                                                      \u001b[31m│\u001b[0m \u001b[2m           \u001b[0m\n",
       "\u001b[2;36m           \u001b[0m         \u001b[31m│\u001b[0m   \u001b[2m105 \u001b[0m\u001b[2m│   \u001b[0mca = (np.ones((len_p, len_q), dtype=np.float64) * -\u001b[94m1\u001b[0m)                 \u001b[31m│\u001b[0m \u001b[2m           \u001b[0m\n",
       "\u001b[2;36m           \u001b[0m         \u001b[31m│\u001b[0m   \u001b[2m106 \u001b[0m                                                                          \u001b[31m│\u001b[0m \u001b[2m           \u001b[0m\n",
       "\u001b[2;36m           \u001b[0m         \u001b[31m╰─────────────────────────────────────────────────────────────────────────────────╯\u001b[0m \u001b[2m           \u001b[0m\n",
       "\u001b[2;36m           \u001b[0m         \u001b[1;91mValueError: \u001b[0mInput curves do not have the same dimensions.                           \u001b[2m           \u001b[0m\n"
      ]
     },
     "metadata": {},
     "output_type": "display_data"
    },
    {
     "name": "stdout",
     "output_type": "stream",
     "text": [
      "MMD_results\n"
     ]
    }
   ],
   "source": [
    "benchmark_result = benchmark.evaluate([test_df])"
   ]
  },
  {
   "cell_type": "code",
   "execution_count": 215,
   "id": "953a52f4-c396-436a-b3b7-22c35cb7d81f",
   "metadata": {},
   "outputs": [
    {
     "data": {
      "text/plain": [
       "{'SpaceGroup': np.float64(0.8325546111576977),\n",
       " 'CrystalSystem': np.float64(0.2788095948658411),\n",
       " 'CompositionCounts': np.float64(0.6901659684588751),\n",
       " 'Composition': np.float64(0.713320308611451)}"
      ]
     },
     "execution_count": 215,
     "metadata": {},
     "output_type": "execute_result"
    }
   ],
   "source": [
    "benchmark_result.evaluator_results[\"JSDistance\"][\"JSDistance_value\"]"
   ]
  },
  {
   "cell_type": "code",
   "execution_count": 216,
   "id": "ff9c5632-fc2b-4b29-a45a-d961a25d5bea",
   "metadata": {},
   "outputs": [
    {
     "data": {
      "text/plain": [
       "{'Volume': np.float64(0.3578373686257075),\n",
       " 'Density(g/cm^3)': np.float64(0.16174021104526248),\n",
       " 'Density(atoms/A^3)': np.float64(0.0003819190830129937)}"
      ]
     },
     "execution_count": 216,
     "metadata": {},
     "output_type": "execute_result"
    }
   ],
   "source": [
    "benchmark_result.evaluator_results[\"MMD\"][\"MMD_value\"]"
   ]
  },
  {
   "cell_type": "code",
   "execution_count": null,
   "id": "c4e6ac0c-549a-4513-a8e2-8e43b4aaa75b",
   "metadata": {},
   "outputs": [],
   "source": []
  }
 ],
 "metadata": {
  "kernelspec": {
   "display_name": "Python 3 (ipykernel)",
   "language": "python",
   "name": "python3"
  },
  "language_info": {
   "codemirror_mode": {
    "name": "ipython",
    "version": 3
   },
   "file_extension": ".py",
   "mimetype": "text/x-python",
   "name": "python",
   "nbconvert_exporter": "python",
   "pygments_lexer": "ipython3",
   "version": "3.11.11"
  }
 },
 "nbformat": 4,
 "nbformat_minor": 5
}
