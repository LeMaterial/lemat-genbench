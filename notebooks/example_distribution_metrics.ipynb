{
 "cells": [
  {
   "cell_type": "code",
   "execution_count": 42,
   "id": "8b9a431a-ddf9-4b97-874f-571dd1bc4bfb",
   "metadata": {},
   "outputs": [
    {
     "name": "stdout",
     "output_type": "stream",
     "text": [
      "The autoreload extension is already loaded. To reload it, use:\n",
      "  %reload_ext autoreload\n"
     ]
    }
   ],
   "source": [
    "from pymatgen.core import Structure\n",
    "from datasets import load_dataset\n",
    "import pandas as pd\n",
    "from scipy.spatial.distance import jensenshannon\n",
    "import matplotlib.pyplot as plt\n",
    "import numpy as np\n",
    "from lematerial_forgebench.preprocess.distribution_preprocess import DistributionPreprocessor\n",
    "from lematerial_forgebench.metrics.distribution_metrics import JSDistance, MMD\n",
    "from pymatgen.util.testing import PymatgenTest\n",
    "\n",
    "%load_ext autoreload\n",
    "%autoreload 2"
   ]
  },
  {
   "cell_type": "code",
   "execution_count": 37,
   "id": "ce958b82-b0a5-4ad5-bd61-e3292f5e2ae3",
   "metadata": {},
   "outputs": [],
   "source": [
    "reference_df_1 = pd.read_csv(\"lematbulk_scaled.csv\")"
   ]
  },
  {
   "cell_type": "code",
   "execution_count": 60,
   "id": "406aabbc-0d58-4f48-85a9-95706787f31f",
   "metadata": {},
   "outputs": [],
   "source": [
    "reference_df_2 = pd.read_csv(\"lematbulk_composition.csv\")"
   ]
  },
  {
   "cell_type": "code",
   "execution_count": 39,
   "id": "aa072057-5703-42a8-94fd-c41ade8c3db7",
   "metadata": {},
   "outputs": [],
   "source": [
    "reference_df_final = pd.concat([reference_df_1, reference_df_2])"
   ]
  },
  {
   "cell_type": "code",
   "execution_count": 50,
   "id": "9d5835d3-390c-4756-9385-8e751946d4af",
   "metadata": {},
   "outputs": [],
   "source": [
    "reference_df_density = pd.read_csv(\"lematbulk_density.csv\")"
   ]
  },
  {
   "cell_type": "code",
   "execution_count": 55,
   "id": "567d404a-6be3-46ff-99f0-c3eba3faf9a0",
   "metadata": {},
   "outputs": [],
   "source": [
    "reference_df_density.rename(columns = {\"density\":\"Density(atoms/A^3)\"}, inplace = True)"
   ]
  },
  {
   "cell_type": "code",
   "execution_count": 56,
   "id": "9cb950ce-43f2-4ef6-b95f-a1a0f30758ac",
   "metadata": {
    "scrolled": true
   },
   "outputs": [
    {
     "data": {
      "text/plain": [
       "{'Density(atoms/A^3)': np.float64(0.05325134883413285)}"
      ]
     },
     "execution_count": 56,
     "metadata": {},
     "output_type": "execute_result"
    }
   ],
   "source": [
    "MMD.compute_structure(test_df, reference_df_density)"
   ]
  },
  {
   "cell_type": "code",
   "execution_count": 4,
   "id": "d0d6ae4f-94e6-4b86-9128-130a8fdbc8fa",
   "metadata": {},
   "outputs": [],
   "source": [
    "def generate_probabilities(df, show_hist = True):\n",
    "    # create an empty list of space groups/crystal systems/compositions and fill in proportions/counts\n",
    "    # depending on the application (as some samples will have zero of space group 1 etc) \n",
    "    \n",
    "    probs = np.asarray(df.value_counts(\"SpaceGroup\")/len(df))\n",
    "    indicies = np.asarray(df.value_counts(\"SpaceGroup\").index)\n",
    "    strut_list = np.concatenate(([indicies], [probs]), axis = 0).T\n",
    "    strut_list = strut_list[strut_list[:, 0].argsort()]\n",
    "    # strut_list = np.flip(strut_list)\n",
    "    if show_hist:     \n",
    "        plt.bar(strut_list.T[0], strut_list.T[1])\n",
    "        plt.show()\n",
    "\n",
    "    return strut_list # 2d array with col1 = crystal descriptor and col2 = probability"
   ]
  },
  {
   "cell_type": "code",
   "execution_count": 3,
   "id": "a57b93eb-6e69-43fc-9a4d-a9670e2da8fe",
   "metadata": {},
   "outputs": [
    {
     "data": {
      "application/vnd.jupyter.widget-view+json": {
       "model_id": "5ab410750d53462c9e2957c674a3bde8",
       "version_major": 2,
       "version_minor": 0
      },
      "text/plain": [
       "Resolving data files:   0%|          | 0/17 [00:00<?, ?it/s]"
      ]
     },
     "metadata": {},
     "output_type": "display_data"
    },
    {
     "data": {
      "application/vnd.jupyter.widget-view+json": {
       "model_id": "a0219312fe624f2a9ca168bddfce6678",
       "version_major": 2,
       "version_minor": 0
      },
      "text/plain": [
       "Resolving data files:   0%|          | 0/17 [00:00<?, ?it/s]"
      ]
     },
     "metadata": {},
     "output_type": "display_data"
    },
    {
     "data": {
      "application/vnd.jupyter.widget-view+json": {
       "model_id": "24695df3ae4e436bb9dd775304f309cb",
       "version_major": 2,
       "version_minor": 0
      },
      "text/plain": [
       "Loading dataset shards:   0%|          | 0/17 [00:00<?, ?it/s]"
      ]
     },
     "metadata": {},
     "output_type": "display_data"
    }
   ],
   "source": [
    "dataset_name = \"Lematerial/LeMat-Bulk\"\n",
    "name = \"compatible_pbe\"\n",
    "split = \"train\"\n",
    "dataset = load_dataset(dataset_name, name=name, split=split, streaming=False)"
   ]
  },
  {
   "cell_type": "code",
   "execution_count": 12,
   "id": "c3d42f58-5d7c-4593-9a2b-c5bd34c2b5e1",
   "metadata": {},
   "outputs": [
    {
     "data": {
      "text/plain": [
       "Index(['elements', 'nsites', 'chemical_formula_anonymous',\n",
       "       'chemical_formula_reduced', 'chemical_formula_descriptive', 'nelements',\n",
       "       'dimension_types', 'nperiodic_dimensions', 'lattice_vectors',\n",
       "       'immutable_id', 'cartesian_site_positions', 'species',\n",
       "       'species_at_sites', 'last_modified', 'elements_ratios', 'stress_tensor',\n",
       "       'energy', 'magnetic_moments', 'forces', 'total_magnetization', 'dos_ef',\n",
       "       'functional', 'cross_compatibility', 'entalpic_fingerprint'],\n",
       "      dtype='object')"
      ]
     },
     "execution_count": 12,
     "metadata": {},
     "output_type": "execute_result"
    }
   ],
   "source": [
    "pd.DataFrame(dataset.select(range(0, 10))).columns"
   ]
  },
  {
   "cell_type": "code",
   "execution_count": 11,
   "id": "c013bc3e-2e91-44ef-ba42-e89c170d96bc",
   "metadata": {},
   "outputs": [
    {
     "name": "stderr",
     "output_type": "stream",
     "text": [
      "C:\\Users\\samue\\AppData\\Local\\Temp\\ipykernel_43488\\2264363178.py:1: FutureWarning: PymatgenTest is deprecated, and will be removed on 2026-01-01\n",
      "Use MatSciTest in pymatgen.util.testing instead.\n",
      "  test = PymatgenTest()\n"
     ]
    }
   ],
   "source": [
    "test = PymatgenTest()\n",
    "\n",
    "filename = \"CsBr.cif\"\n",
    "structure = Structure.from_file(filename)\n",
    "structure = structure.remove_oxidation_states()\n",
    "\n",
    "filename2 = \"CsPbBr3.cif\"\n",
    "structure2 = Structure.from_file(filename2)\n",
    "structure2 = structure2.remove_oxidation_states()\n",
    "\n",
    "structures = [\n",
    "    structure,\n",
    "    structure2,\n",
    "    test.get_structure(\"Si\"),\n",
    "    test.get_structure(\"LiFePO4\"),\n",
    "]"
   ]
  },
  {
   "cell_type": "code",
   "execution_count": 33,
   "id": "156a7ef5-e054-45f5-a407-619d8350264c",
   "metadata": {},
   "outputs": [],
   "source": [
    "distribution_preprocessor = DistributionPreprocessor()\n",
    "preprocessor_result = distribution_preprocessor(structures)"
   ]
  },
  {
   "cell_type": "code",
   "execution_count": null,
   "id": "6cce1fc3-a0c9-4a4a-9e61-26a95e16200e",
   "metadata": {},
   "outputs": [],
   "source": []
  },
  {
   "cell_type": "code",
   "execution_count": 34,
   "id": "c2e80f09-69f2-4256-bbb5-85116cc6db4b",
   "metadata": {},
   "outputs": [],
   "source": [
    "test_df = pd.DataFrame(preprocessor_result.processed_structures, columns = [\"SpaceGroup\", \"Volume\", \"Density(atoms/A^3)\", \"Composition\", \"CompositionCounts\"])"
   ]
  },
  {
   "cell_type": "code",
   "execution_count": 35,
   "id": "bb599d3b-ef25-4568-b663-fefac9876a11",
   "metadata": {},
   "outputs": [
    {
     "data": {
      "text/plain": [
       "numpy.ndarray"
      ]
     },
     "execution_count": 35,
     "metadata": {},
     "output_type": "execute_result"
    }
   ],
   "source": [
    "type(test_df.Composition.iloc[0])"
   ]
  },
  {
   "cell_type": "code",
   "execution_count": 36,
   "id": "5ca61aa3-3a49-46c1-82b8-4aaee53ca31d",
   "metadata": {},
   "outputs": [
    {
     "data": {
      "text/html": [
       "<div>\n",
       "<style scoped>\n",
       "    .dataframe tbody tr th:only-of-type {\n",
       "        vertical-align: middle;\n",
       "    }\n",
       "\n",
       "    .dataframe tbody tr th {\n",
       "        vertical-align: top;\n",
       "    }\n",
       "\n",
       "    .dataframe thead th {\n",
       "        text-align: right;\n",
       "    }\n",
       "</style>\n",
       "<table border=\"1\" class=\"dataframe\">\n",
       "  <thead>\n",
       "    <tr style=\"text-align: right;\">\n",
       "      <th></th>\n",
       "      <th>SpaceGroup</th>\n",
       "      <th>Volume</th>\n",
       "      <th>Density(atoms/A^3)</th>\n",
       "      <th>Composition</th>\n",
       "      <th>CompositionCounts</th>\n",
       "    </tr>\n",
       "  </thead>\n",
       "  <tbody>\n",
       "    <tr>\n",
       "      <th>0</th>\n",
       "      <td>225</td>\n",
       "      <td>392.556028</td>\n",
       "      <td>0.020379</td>\n",
       "      <td>[0.0, 0.0, 0.0, 0.0, 0.0, 0.0, 0.0, 0.0, 0.0, ...</td>\n",
       "      <td>[0.0, 0.0, 0.0, 0.0, 0.0, 0.0, 0.0, 0.0, 0.0, ...</td>\n",
       "    </tr>\n",
       "    <tr>\n",
       "      <th>1</th>\n",
       "      <td>62</td>\n",
       "      <td>769.207176</td>\n",
       "      <td>0.026001</td>\n",
       "      <td>[0.0, 0.0, 0.0, 0.0, 0.0, 0.0, 0.0, 0.0, 0.0, ...</td>\n",
       "      <td>[0.0, 0.0, 0.0, 0.0, 0.0, 0.0, 0.0, 0.0, 0.0, ...</td>\n",
       "    </tr>\n",
       "    <tr>\n",
       "      <th>2</th>\n",
       "      <td>227</td>\n",
       "      <td>40.044795</td>\n",
       "      <td>0.049944</td>\n",
       "      <td>[0.0, 0.0, 0.0, 0.0, 0.0, 0.0, 0.0, 0.0, 0.0, ...</td>\n",
       "      <td>[0.0, 0.0, 0.0, 0.0, 0.0, 0.0, 0.0, 0.0, 0.0, ...</td>\n",
       "    </tr>\n",
       "    <tr>\n",
       "      <th>3</th>\n",
       "      <td>14</td>\n",
       "      <td>299.607968</td>\n",
       "      <td>0.093455</td>\n",
       "      <td>[0.0, 0.0, 4.0, 0.0, 0.0, 0.0, 0.0, 16.0, 0.0,...</td>\n",
       "      <td>[0.0, 0.0, 1.0, 0.0, 0.0, 0.0, 0.0, 1.0, 0.0, ...</td>\n",
       "    </tr>\n",
       "  </tbody>\n",
       "</table>\n",
       "</div>"
      ],
      "text/plain": [
       "   SpaceGroup      Volume  Density(atoms/A^3)  \\\n",
       "0         225  392.556028            0.020379   \n",
       "1          62  769.207176            0.026001   \n",
       "2         227   40.044795            0.049944   \n",
       "3          14  299.607968            0.093455   \n",
       "\n",
       "                                         Composition  \\\n",
       "0  [0.0, 0.0, 0.0, 0.0, 0.0, 0.0, 0.0, 0.0, 0.0, ...   \n",
       "1  [0.0, 0.0, 0.0, 0.0, 0.0, 0.0, 0.0, 0.0, 0.0, ...   \n",
       "2  [0.0, 0.0, 0.0, 0.0, 0.0, 0.0, 0.0, 0.0, 0.0, ...   \n",
       "3  [0.0, 0.0, 4.0, 0.0, 0.0, 0.0, 0.0, 16.0, 0.0,...   \n",
       "\n",
       "                                   CompositionCounts  \n",
       "0  [0.0, 0.0, 0.0, 0.0, 0.0, 0.0, 0.0, 0.0, 0.0, ...  \n",
       "1  [0.0, 0.0, 0.0, 0.0, 0.0, 0.0, 0.0, 0.0, 0.0, ...  \n",
       "2  [0.0, 0.0, 0.0, 0.0, 0.0, 0.0, 0.0, 0.0, 0.0, ...  \n",
       "3  [0.0, 0.0, 1.0, 0.0, 0.0, 0.0, 0.0, 1.0, 0.0, ...  "
      ]
     },
     "execution_count": 36,
     "metadata": {},
     "output_type": "execute_result"
    }
   ],
   "source": [
    "test_df"
   ]
  },
  {
   "cell_type": "code",
   "execution_count": null,
   "id": "c4e6ac0c-549a-4513-a8e2-8e43b4aaa75b",
   "metadata": {},
   "outputs": [],
   "source": []
  }
 ],
 "metadata": {
  "kernelspec": {
   "display_name": "Python 3 (ipykernel)",
   "language": "python",
   "name": "python3"
  },
  "language_info": {
   "codemirror_mode": {
    "name": "ipython",
    "version": 3
   },
   "file_extension": ".py",
   "mimetype": "text/x-python",
   "name": "python",
   "nbconvert_exporter": "python",
   "pygments_lexer": "ipython3",
   "version": "3.11.11"
  }
 },
 "nbformat": 4,
 "nbformat_minor": 5
}
