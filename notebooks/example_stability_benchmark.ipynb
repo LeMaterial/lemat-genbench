{
 "cells": [
  {
   "cell_type": "code",
   "execution_count": 72,
   "id": "495e6499-b0d4-429f-8ac3-febaaa06abc5",
   "metadata": {},
   "outputs": [
    {
     "name": "stdout",
     "output_type": "stream",
     "text": [
      "The autoreload extension is already loaded. To reload it, use:\n",
      "  %reload_ext autoreload\n"
     ]
    }
   ],
   "source": [
    "import pandas as pd\n",
    "import numpy as np\n",
    "from pymatgen.core import Structure\n",
    "from pymatgen.util.testing import PymatgenTest\n",
    "\n",
    "from lematerial_forgebench.benchmarks.stability_benchmark import StabilityBenchmark\n",
    "from lematerial_forgebench.benchmarks.validity_benchmark import ValidityBenchmark\n",
    "from lematerial_forgebench.metrics.stability_metrics import StabilityMetric\n",
    "from lematerial_forgebench.preprocess.reference_energies import (\n",
    "    get_energy_above_hull,\n",
    "    get_formation_energy_from_composition_energy,\n",
    ")\n",
    "from lematerial_forgebench.preprocess.stability_preprocess import (\n",
    "    EnergyAboveHull,\n",
    "    OrbFormationEnergy,\n",
    "    StabilityPreprocessor,\n",
    ")\n",
    "from datasets import load_dataset\n",
    "from pymatgen.core import Composition, Element\n",
    "\n",
    "%load_ext autoreload\n",
    "%autoreload 2"
   ]
  },
  {
   "cell_type": "code",
   "execution_count": 73,
   "id": "b344162e-9448-40d3-b748-f52f52ff798e",
   "metadata": {},
   "outputs": [
    {
     "name": "stderr",
     "output_type": "stream",
     "text": [
      "C:\\Users\\samue\\AppData\\Local\\Temp\\ipykernel_30488\\2301446376.py:1: FutureWarning: PymatgenTest is deprecated, and will be removed on 2026-01-01\n",
      "Use MatSciTest in pymatgen.util.testing instead.\n",
      "  test = PymatgenTest()\n"
     ]
    }
   ],
   "source": [
    "test = PymatgenTest()\n",
    "\n",
    "filename = 'CsBr.cif'\n",
    "structure = Structure.from_file(filename)\n",
    "structure = structure.remove_oxidation_states()\n",
    "\n",
    "filename2 = 'CsPbBr3.cif'\n",
    "structure2 = Structure.from_file(filename2)\n",
    "structure2 = structure2.remove_oxidation_states()\n",
    "\n",
    "structures = [structure, structure2, test.get_structure(\"Si\"), test.get_structure(\"LiFePO4\")]"
   ]
  },
  {
   "cell_type": "code",
   "execution_count": 81,
   "id": "ed5a490e-bfb0-443e-a730-c00dcdd85140",
   "metadata": {
    "scrolled": true
   },
   "outputs": [
    {
     "name": "stdout",
     "output_type": "stream",
     "text": [
      "cpu\n",
      "energy_above_hull : 0.0\n",
      "energy_above_hull relaxed : 0.0\n",
      "energy_above_hull : 0.0322531480375976\n",
      "energy_above_hull relaxed : 0.028652646023437534\n",
      "energy_above_hull : 0.010958068559570044\n",
      "energy_above_hull relaxed : 0.009661548326415748\n",
      "energy_above_hull : 0.24325226729073446\n",
      "energy_above_hull relaxed : 0.24249804714564505\n"
     ]
    }
   ],
   "source": [
    "stability_preprocessor = StabilityPreprocessor()\n",
    "preprocessor_result = stability_preprocessor(structures)"
   ]
  },
  {
   "cell_type": "code",
   "execution_count": 79,
   "id": "e5c29520-f78c-4a5a-bede-f700b5ab8f7e",
   "metadata": {
    "scrolled": true
   },
   "outputs": [
    {
     "data": {
      "text/plain": [
       "{'relaxed_structure': Structure Summary\n",
       " Lattice\n",
       "     abc : 4.755940218671973 6.076102612517623 10.484207495173267\n",
       "  angles : 90.21749581353959 90.00226148791631 90.00675269060281\n",
       "  volume : 302.9660478946557\n",
       "       A : np.float64(-8.605307158745643e-05) np.float64(0.0001305365991170298) np.float64(-4.755940216102036)\n",
       "       B : np.float64(-0.038241528037821375) np.float64(-6.0759822449411525) np.float64(0.0005500333633519402)\n",
       "       C : np.float64(10.48417478779725) np.float64(-0.026187226979330545) np.float64(0.0002233985562976699)\n",
       "     pbc : True True True\n",
       " PeriodicSite: Li (10.45, -6.103, 0.001331) [-0.0001172, 1.0, 0.9999]\n",
       " PeriodicSite: Li (-0.0192, -3.038, -4.756) [1.0, 0.5, 8.345e-07]\n",
       " PeriodicSite: Li (5.204, -6.089, -2.378) [0.5001, 1.0, 0.5]\n",
       " PeriodicSite: Li (5.223, -3.051, -2.377) [0.4999, 0.5001, 0.5]\n",
       " PeriodicSite: Fe (2.286, -1.527, -2.488) [0.5231, 0.2504, 0.219]\n",
       " PeriodicSite: Fe (2.917, -4.562, -0.1095) [0.02313, 0.7496, 0.281]\n",
       " PeriodicSite: Fe (7.528, -1.539, -4.646) [0.9769, 0.2502, 0.719]\n",
       " PeriodicSite: Fe (8.16, -4.574, -2.268) [0.4769, 0.7495, 0.7811]\n",
       " PeriodicSite: P (0.9586, -4.561, -2.765) [0.5815, 0.7503, 0.09418]\n",
       " PeriodicSite: P (4.245, -1.528, -0.3874) [0.08151, 0.2497, 0.4058]\n",
       " PeriodicSite: P (6.2, -4.574, -4.368) [0.9186, 0.7502, 0.5941]\n",
       " PeriodicSite: P (9.487, -1.541, -1.99) [0.4185, 0.2497, 0.9058]\n",
       " PeriodicSite: O (0.441, -1.525, -1.4) [0.2944, 0.2507, 0.04298]\n",
       " PeriodicSite: O (0.9875, -4.56, -1.228) [0.2583, 0.7501, 0.09693]\n",
       " PeriodicSite: O (1.688, -5.803, -3.399) [0.7148, 0.9544, 0.1645]\n",
       " PeriodicSite: O (1.708, -3.331, -3.4) [0.7149, 0.5476, 0.1649]\n",
       " PeriodicSite: O (3.497, -2.758, -1.022) [0.2149, 0.4525, 0.3352]\n",
       " PeriodicSite: O (3.516, -0.2862, -1.021) [0.2148, 0.04567, 0.3355]\n",
       " PeriodicSite: O (4.216, -1.528, -3.606) [0.7583, 0.2498, 0.4031]\n",
       " PeriodicSite: O (4.762, -4.565, -3.778) [0.7946, 0.7493, 0.457]\n",
       " PeriodicSite: O (5.683, -1.537, -0.9774) [0.2056, 0.2506, 0.543]\n",
       " PeriodicSite: O (6.23, -4.573, -1.149) [0.2417, 0.7501, 0.5969]\n",
       " PeriodicSite: O (6.93, -5.815, -3.734) [0.7852, 0.9542, 0.6645]\n",
       " PeriodicSite: O (6.949, -3.343, -3.734) [0.7851, 0.5474, 0.6648]\n",
       " PeriodicSite: O (8.738, -2.772, -1.356) [0.2852, 0.4525, 0.8351]\n",
       " PeriodicSite: O (8.758, -0.2998, -1.356) [0.2851, 0.04575, 0.8355]\n",
       " PeriodicSite: O (9.459, -1.542, -3.527) [0.7417, 0.2499, 0.9031]\n",
       " PeriodicSite: O (10.0, -4.578, -3.354) [0.7054, 0.7493, 0.957],\n",
       " 'e_above_hull': np.float64(0.24325226729073446),\n",
       " 'formation_energy': -12.061907388726752,\n",
       " 'relaxed_e_above_hull': np.float64(0.24249804714564505),\n",
       " 'relaxed_formation_energy': -12.067186929742377,\n",
       " 'MLIP': 'Orb'}"
      ]
     },
     "execution_count": 79,
     "metadata": {},
     "output_type": "execute_result"
    }
   ],
   "source": [
    "preprocessor_result.processed_structures[3].properties"
   ]
  },
  {
   "cell_type": "code",
   "execution_count": 122,
   "id": "34e1ae49-7e44-4ea5-a826-073f2b23d01d",
   "metadata": {
    "scrolled": true
   },
   "outputs": [
    {
     "name": "stdout",
     "output_type": "stream",
     "text": [
      "{'stability': MetricResult(metrics={'stable_ratio': np.float64(0.25)}, primary_metric='stable_ratio', uncertainties={}, config=MetricConfig(name='StabilityMetric', description='Evaluates structure stability from precomputed e_above_hull', lower_is_better=False, n_jobs=1), computation_time=0.0, n_structures=4, individual_values=[0.0, 0.0322531480375976, 0.010958068559570044, 0.24325226729073446], failed_indices=[], warnings=[])}\n",
      "0.25\n",
      "<class 'lematerial_forgebench.evaluator.EvaluationResult'>\n",
      "{'mean_e_above_hull': MetricResult(metrics={'mean_e_above_hull': np.float64(0.07161587097197553)}, primary_metric='mean_e_above_hull', uncertainties={'e_above_hull_std': {'std': np.float64(0.09977058492696603)}}, config=MetricConfig(name='StabilityMetric', description='Evaluates structure stability from precomputed e_above_hull', lower_is_better=False, n_jobs=1), computation_time=0.0, n_structures=4, individual_values=[0.0, 0.0322531480375976, 0.010958068559570044, 0.24325226729073446], failed_indices=[], warnings=[])}\n",
      "0.07161587097197553\n",
      "<class 'lematerial_forgebench.evaluator.EvaluationResult'>\n",
      "{'metastability': MetricResult(metrics={'metastable_ratio': np.float64(0.75)}, primary_metric='metastable_ratio', uncertainties={}, config=MetricConfig(name='MetastabilityMetric', description='Evaluates structure metastability from precomputed e_above_hull', lower_is_better=True, n_jobs=1), computation_time=0.0, n_structures=4, individual_values=[0.0, 0.0322531480375976, 0.010958068559570044, 0.24325226729073446], failed_indices=[], warnings=[])}\n",
      "0.75\n",
      "<class 'lematerial_forgebench.evaluator.EvaluationResult'>\n",
      "Cs4 Br4 Formation Energy : -7.149936223230794\n",
      "Cs4 Pb4 Br12 Formation Energy : -8.492938243082682\n",
      "Si2 Formation Energy : 0.02191613711914009\n",
      "Li4 Fe4 P4 O16 Formation Energy : -12.061907388726752\n",
      "{'formation_energy': MetricResult(metrics={'mean_formation_energy': np.float64(-6.920716429480272)}, primary_metric='mean_formation_energy', uncertainties={'formation_energy_std': {'std': np.float64(4.3919362068243535)}}, config=MetricConfig(name='FormationEnergyMetric', description='Evaluates structure formation energy using the specified MLIP', lower_is_better=False, n_jobs=1), computation_time=0.0, n_structures=4, individual_values=[-7.149936223230794, -8.492938243082682, 0.02191613711914009, -12.061907388726752], failed_indices=[], warnings=[])}\n",
      "-6.920716429480272\n",
      "<class 'lematerial_forgebench.evaluator.EvaluationResult'>\n",
      "Cs4 Br4 Relaxation Stability RMSE : 0.030938683711402914\n",
      "Cs4 Pb4 Br12 Relaxation Stability RMSE : 0.18214184543102457\n",
      "Si2 Relaxation Stability RMSE : 0.022634037275015083\n",
      "Li4 Fe4 P4 O16 Relaxation Stability RMSE : 0.05637670082592471\n",
      "{'relaxation_stability': MetricResult(metrics={'mean_RMSE_values': np.float64(0.07302281681084181)}, primary_metric='mean_RMSE_values', uncertainties={'std': np.float64(0.0642147937515901)}, config=MetricConfig(name='RelaxationStabilityMetric', description='Evaluates RMSE between relaxed and unrelaxed structures', lower_is_better=True, n_jobs=1), computation_time=0.0, n_structures=4, individual_values=[np.float64(0.030938683711402914), np.float64(0.18214184543102457), np.float64(0.022634037275015083), np.float64(0.05637670082592471)], failed_indices=[], warnings=[])}\n",
      "0.07302281681084181\n",
      "<class 'lematerial_forgebench.evaluator.EvaluationResult'>\n",
      "{'stability': {'combined_value': np.float64(0.25), 'stability_value': np.float64(0.25), 'metric_results': {'stability': MetricResult(metrics={'stable_ratio': np.float64(0.25)}, primary_metric='stable_ratio', uncertainties={}, config=MetricConfig(name='StabilityMetric', description='Evaluates structure stability from precomputed e_above_hull', lower_is_better=False, n_jobs=1), computation_time=0.0, n_structures=4, individual_values=[0.0, 0.0322531480375976, 0.010958068559570044, 0.24325226729073446], failed_indices=[], warnings=[])}}, 'mean_e_above_hull': {'combined_value': np.float64(0.07161587097197553), 'mean_e_above_hull_value': np.float64(0.07161587097197553), 'metric_results': {'mean_e_above_hull': MetricResult(metrics={'mean_e_above_hull': np.float64(0.07161587097197553)}, primary_metric='mean_e_above_hull', uncertainties={'e_above_hull_std': {'std': np.float64(0.09977058492696603)}}, config=MetricConfig(name='StabilityMetric', description='Evaluates structure stability from precomputed e_above_hull', lower_is_better=False, n_jobs=1), computation_time=0.0, n_structures=4, individual_values=[0.0, 0.0322531480375976, 0.010958068559570044, 0.24325226729073446], failed_indices=[], warnings=[])}}, 'metastability': {'combined_value': np.float64(0.75), 'metastability_value': np.float64(0.75), 'metric_results': {'metastability': MetricResult(metrics={'metastable_ratio': np.float64(0.75)}, primary_metric='metastable_ratio', uncertainties={}, config=MetricConfig(name='MetastabilityMetric', description='Evaluates structure metastability from precomputed e_above_hull', lower_is_better=True, n_jobs=1), computation_time=0.0, n_structures=4, individual_values=[0.0, 0.0322531480375976, 0.010958068559570044, 0.24325226729073446], failed_indices=[], warnings=[])}}, 'formation_energy': {'combined_value': np.float64(-6.920716429480272), 'formation_energy_value': np.float64(-6.920716429480272), 'metric_results': {'formation_energy': MetricResult(metrics={'mean_formation_energy': np.float64(-6.920716429480272)}, primary_metric='mean_formation_energy', uncertainties={'formation_energy_std': {'std': np.float64(4.3919362068243535)}}, config=MetricConfig(name='FormationEnergyMetric', description='Evaluates structure formation energy using the specified MLIP', lower_is_better=False, n_jobs=1), computation_time=0.0, n_structures=4, individual_values=[-7.149936223230794, -8.492938243082682, 0.02191613711914009, -12.061907388726752], failed_indices=[], warnings=[])}}, 'relaxation_stability': {'combined_value': np.float64(0.07302281681084181), 'relaxation_stability_value': np.float64(0.07302281681084181), 'metric_results': {'relaxation_stability': MetricResult(metrics={'mean_RMSE_values': np.float64(0.07302281681084181)}, primary_metric='mean_RMSE_values', uncertainties={'std': np.float64(0.0642147937515901)}, config=MetricConfig(name='RelaxationStabilityMetric', description='Evaluates RMSE between relaxed and unrelaxed structures', lower_is_better=True, n_jobs=1), computation_time=0.0, n_structures=4, individual_values=[np.float64(0.030938683711402914), np.float64(0.18214184543102457), np.float64(0.022634037275015083), np.float64(0.05637670082592471)], failed_indices=[], warnings=[])}}}\n",
      "{'combined_value': np.float64(-6.920716429480272), 'formation_energy_value': np.float64(-6.920716429480272), 'metric_results': {'formation_energy': MetricResult(metrics={'mean_formation_energy': np.float64(-6.920716429480272)}, primary_metric='mean_formation_energy', uncertainties={'formation_energy_std': {'std': np.float64(4.3919362068243535)}}, config=MetricConfig(name='FormationEnergyMetric', description='Evaluates structure formation energy using the specified MLIP', lower_is_better=False, n_jobs=1), computation_time=0.0, n_structures=4, individual_values=[-7.149936223230794, -8.492938243082682, 0.02191613711914009, -12.061907388726752], failed_indices=[], warnings=[])}}\n",
      "{'stable_ratio': 0.25, 'metastable_ratio': 0.75, 'mean_e_above_hull': 0.07161587097197553, 'mean_formation_energy': -6.920716429480272, 'mean_relaxation_RMSE': 0.07302281681084181}\n"
     ]
    }
   ],
   "source": [
    "benchmark = StabilityBenchmark()\n",
    "benchmark_result= benchmark.evaluate(preprocessor_result.processed_structures)"
   ]
  },
  {
   "cell_type": "code",
   "execution_count": 123,
   "id": "aa87ce40-480e-40f2-9a27-7701fa89cbc3",
   "metadata": {
    "scrolled": true
   },
   "outputs": [
    {
     "data": {
      "text/plain": [
       "{'stable_ratio': 0.25,\n",
       " 'metastable_ratio': 0.75,\n",
       " 'mean_e_above_hull': 0.07161587097197553,\n",
       " 'mean_formation_energy': -6.920716429480272,\n",
       " 'mean_relaxation_RMSE': 0.07302281681084181}"
      ]
     },
     "execution_count": 123,
     "metadata": {},
     "output_type": "execute_result"
    }
   ],
   "source": [
    "benchmark_result.final_scores"
   ]
  },
  {
   "cell_type": "code",
   "execution_count": 185,
   "id": "95077997-201c-458d-ac28-6c72d20298ca",
   "metadata": {},
   "outputs": [],
   "source": [
    "\"\"\"Tests for stability benchmark.\"\"\"\n",
    "\n",
    "from pymatgen.util.testing import PymatgenTest\n",
    "import numpy as np\n",
    "from lematerial_forgebench.benchmarks.stability_benchmark import StabilityBenchmark\n",
    "from lematerial_forgebench.preprocess.stability_preprocess import (\n",
    "    StabilityPreprocessor,\n",
    ")\n",
    "\n",
    "\n",
    "class TestStabilityBenchmark:\n",
    "    \"\"\"Test suite for StabilityBenchmark class.\"\"\"\n",
    "\n",
    "    def test_initialization_default(self):\n",
    "        \"\"\"Test initialization with default parameters.\"\"\"\n",
    "        benchmark = StabilityBenchmark()\n",
    "\n",
    "        # Check name and properties\n",
    "        assert benchmark.config.name == \"StabilityBenchmark\"\n",
    "        assert \"version\" in benchmark.config.metadata\n",
    "        assert benchmark.config.metadata[\"category\"] == \"stability\"\n",
    "\n",
    "        # Check correct evaluator\n",
    "        assert len(benchmark.evaluators) == 5\n",
    "        assert \"stability\" in benchmark.evaluators\n",
    "\n",
    "    def test_initialization_custom(self):\n",
    "        \"\"\"Test initialization with custom relaxer configuration.\"\"\"\n",
    "\n",
    "        benchmark = StabilityBenchmark(\n",
    "            name=\"Custom Stability Benchmark\",\n",
    "            description=\"Custom description\",\n",
    "            metadata={\"test_key\": \"test_value\"},\n",
    "        )\n",
    "\n",
    "        # Check custom values\n",
    "        assert benchmark.config.name == \"Custom Stability Benchmark\"\n",
    "        assert benchmark.config.description == \"Custom description\"\n",
    "        assert benchmark.config.metadata[\"test_key\"] == \"test_value\"\n",
    "\n",
    "    def test_evaluate_with_mp_entries(self):\n",
    "        \"\"\"Test benchmark evaluation on structures\"\"\"\n",
    "        benchmark = StabilityBenchmark()\n",
    "\n",
    "        # Create test structures\n",
    "        test = PymatgenTest()\n",
    "        structures = [test.get_structure(\"Si\"), test.get_structure(\"LiFePO4\")]\n",
    "\n",
    "        # first, we need to preprocess the structures\n",
    "        stability_preprocessor = StabilityPreprocessor()\n",
    "        preprocessor_result = stability_preprocessor(structures)\n",
    "        structures = preprocessor_result.processed_structures\n",
    "\n",
    "        # Run benchmark\n",
    "        result = benchmark.evaluate(structures)\n",
    "\n",
    "        # Check result format\n",
    "        assert len(result.evaluator_results) == 5\n",
    "        assert \"stability\" in result.evaluator_results\n",
    "        assert \"stable_ratio\" in result.final_scores\n",
    "\n",
    "        # Check score types\n",
    "        assert isinstance(result.final_scores[\"stable_ratio\"], (int, float))\n",
    "        assert isinstance(result.final_scores[\"metastable_ratio\"], (int, float))\n",
    "        assert isinstance(result.final_scores[\"mean_e_above_hull\"], (int, float))\n",
    "        assert isinstance(result.final_scores[\"mean_formation_energy\"], (int, float))\n",
    "        assert isinstance(result.final_scores[\"mean_relaxation_RMSE\"], (int, float))\n",
    "\n",
    "    def test_empty_structures(self):\n",
    "        \"\"\"Test behavior with empty structure list.\"\"\"\n",
    "        benchmark = StabilityBenchmark()\n",
    "\n",
    "        # Test behavior with no structures - should not raise error\n",
    "        result = benchmark.evaluate([])\n",
    "\n",
    "        # Should get default values        \n",
    "        assert result.final_scores[\"stable_ratio\"] is None\n",
    "        assert result.final_scores[\"metastable_ratio\"] is None\n",
    "        assert result.final_scores[\"mean_e_above_hull\"] is None\n",
    "        assert result.final_scores[\"mean_formation_energy\"] is None\n",
    "        assert result.final_scores[\"mean_relaxation_RMSE\"] is None\n",
    "\n",
    "    def test_aggregate_evaluator_results(self):\n",
    "        \"\"\"Test result aggregation logic.\"\"\"\n",
    "        benchmark = StabilityBenchmark()\n",
    "\n",
    "        # Mock evaluator_results as passed by BaseBenchmark.evaluate\n",
    "        # It contains the evaluator's combined_value and the primary metric value\n",
    "        # of each metric configured for that evaluator (e.g., \"metric_name_value\").\n",
    "        mock_evaluator_results_from_base = {\n",
    "            \"stability\": {  # Name of the evaluator\n",
    "                \"combined_value\": 0.75,  # Evaluator's combined score\n",
    "                \"metric_results\": {\"stability\": {\"metrics\": {\"stable_ratio\": 0.75}}}},\n",
    "            \"metastability\": {\"combined_value\": 0.85},\n",
    "            \"formation_energy\": {\"combined_value\": -6.7},\n",
    "            \"mean_e_above_hull\": {\"combined_value\": 0.1},\n",
    "            \"relaxation_stability\": {\"combined_value\": 0.01}}\n",
    "        # Aggregate results\n",
    "        scores = benchmark.aggregate_evaluator_results(mock_evaluator_results_from_base)\n",
    "        # Check scores\n",
    "        # aggregate_evaluator_results should pick up combined_value as stability_score\n",
    "        # and stability_value as stable_ratio.\n",
    "        # mean_e_above_hull and metastable_ratio will be defaults (nan, 0.0) because\n",
    "        # they are not present in the input dict.\n",
    "        assert scores[\"stable_ratio\"] == 0.75\n",
    "        assert scores[\"metastable_ratio\"] == 0.85\n",
    "        assert scores[\"mean_e_above_hull\"] == 0.1\n",
    "        assert scores[\"mean_formation_energy\"] == -6.7\n",
    "        assert scores[\"mean_relaxation_RMSE\"] == 0.01\n",
    "\n",
    "    def test_benchmark_metadata(self):\n",
    "        \"\"\"Test benchmark metadata structure.\"\"\"\n",
    "        benchmark = StabilityBenchmark()\n",
    "\n",
    "        metadata = benchmark.config.metadata\n",
    "\n",
    "        # Check required metadata fields\n",
    "        assert metadata[\"version\"] == \"0.1.0\"\n",
    "        assert metadata[\"category\"] == \"stability\"\n",
    "\n",
    "\n",
    "def test_evaluator_configuration():\n",
    "    \"\"\"Test that evaluator is properly configured.\"\"\"\n",
    "    benchmark = StabilityBenchmark()\n",
    "\n",
    "    # Check evaluator configuration\n",
    "    stability_evaluator = benchmark.evaluators[\"stability\"]\n",
    "    # print(stability_evaluator)\n",
    "    assert stability_evaluator.config.name == \"stability\"\n",
    "    assert stability_evaluator.config.weights == {\"stability\": 1.0}\n",
    "    assert stability_evaluator.config.aggregation_method == \"weighted_mean\"\n"
   ]
  },
  {
   "cell_type": "code",
   "execution_count": 186,
   "id": "8fd24663-90fc-4855-a87d-67ded6cd21f3",
   "metadata": {},
   "outputs": [],
   "source": [
    "test = TestStabilityBenchmark()"
   ]
  },
  {
   "cell_type": "code",
   "execution_count": 187,
   "id": "d303651c-fce4-4e52-8963-c68730e3d410",
   "metadata": {},
   "outputs": [
    {
     "name": "stdout",
     "output_type": "stream",
     "text": [
      "{'stable_ratio': None, 'metastable_ratio': None, 'mean_e_above_hull': None, 'mean_formation_energy': None, 'mean_relaxation_RMSE': None}\n",
      "None\n"
     ]
    }
   ],
   "source": [
    "test.test_empty_structures()"
   ]
  },
  {
   "cell_type": "code",
   "execution_count": null,
   "id": "f10bfb01-e55d-465b-bb91-3274255f8bad",
   "metadata": {},
   "outputs": [],
   "source": []
  }
 ],
 "metadata": {
  "kernelspec": {
   "display_name": "Python 3 (ipykernel)",
   "language": "python",
   "name": "python3"
  },
  "language_info": {
   "codemirror_mode": {
    "name": "ipython",
    "version": 3
   },
   "file_extension": ".py",
   "mimetype": "text/x-python",
   "name": "python",
   "nbconvert_exporter": "python",
   "pygments_lexer": "ipython3",
   "version": "3.11.11"
  }
 },
 "nbformat": 4,
 "nbformat_minor": 5
}
