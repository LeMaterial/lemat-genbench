{
 "cells": [
  {
   "cell_type": "code",
   "execution_count": 5,
   "id": "495e6499-b0d4-429f-8ac3-febaaa06abc5",
   "metadata": {},
   "outputs": [
    {
     "name": "stdout",
     "output_type": "stream",
     "text": [
      "The autoreload extension is already loaded. To reload it, use:\n",
      "  %reload_ext autoreload\n"
     ]
    }
   ],
   "source": [
    "from pymatgen.core import Structure\n",
    "from lematerial_forgebench.preprocess.stability_preprocess import (\n",
    "    OrbFormationEnergy,\n",
    "    EnergyAboveHull,\n",
    "    StabilityPreprocessor\n",
    ")\n",
    "from lematerial_forgebench.preprocess.reference_energies import (\n",
    "    get_energy_above_hull,\n",
    "    get_formation_energy_from_composition_energy,\n",
    ")\n",
    "from pymatgen.util.testing import PymatgenTest\n",
    "import pandas as pd\n",
    "\n",
    "from lematerial_forgebench.benchmarks.stability_benchmark import StabilityBenchmark\n",
    "%load_ext autoreload\n",
    "%autoreload 2"
   ]
  },
  {
   "cell_type": "code",
   "execution_count": 11,
   "id": "cb6aab83-7594-43cc-b94b-4cf861f5850b",
   "metadata": {},
   "outputs": [
    {
     "name": "stderr",
     "output_type": "stream",
     "text": [
      "C:\\Users\\samue\\AppData\\Local\\Temp\\ipykernel_25484\\2301446376.py:1: FutureWarning: PymatgenTest is deprecated, and will be removed on 2026-01-01\n",
      "Use MatSciTest in pymatgen.util.testing instead.\n",
      "  test = PymatgenTest()\n"
     ]
    }
   ],
   "source": [
    "test = PymatgenTest()\n",
    "\n",
    "filename = 'CsBr.cif'\n",
    "structure = Structure.from_file(filename)\n",
    "structure = structure.remove_oxidation_states()\n",
    "\n",
    "filename2 = 'CsPbBr3.cif'\n",
    "structure2 = Structure.from_file(filename2)\n",
    "structure2 = structure2.remove_oxidation_states()\n",
    "\n",
    "structures = [structure, structure2, test.get_structure(\"Si\"), test.get_structure(\"LiFePO4\")]"
   ]
  },
  {
   "cell_type": "code",
   "execution_count": 12,
   "id": "ed5a490e-bfb0-443e-a730-c00dcdd85140",
   "metadata": {},
   "outputs": [
    {
     "name": "stdout",
     "output_type": "stream",
     "text": [
      "cpu\n",
      "Cs4 Br4\n",
      "energy_above_hull unrelaxed : 0.0\n",
      "energy_above_hull relaxed : 0.0\n",
      "Cs4 Pb4 Br12\n",
      "energy_above_hull unrelaxed : 0.0322531480375976\n",
      "energy_above_hull relaxed : 0.028652646023437534\n",
      "Si2\n",
      "energy_above_hull unrelaxed : 0.010958068559570044\n",
      "energy_above_hull relaxed : 0.009661548326415748\n",
      "Li4 Fe4 P4 O16\n",
      "energy_above_hull unrelaxed : 0.24325226729073446\n",
      "energy_above_hull relaxed : 0.24249804714564505\n"
     ]
    }
   ],
   "source": [
    "stability_preprocessor = StabilityPreprocessor()\n",
    "preprocessor_result = stability_preprocessor(structures)"
   ]
  },
  {
   "cell_type": "code",
   "execution_count": 13,
   "id": "34e1ae49-7e44-4ea5-a826-073f2b23d01d",
   "metadata": {},
   "outputs": [
    {
     "name": "stdout",
     "output_type": "stream",
     "text": [
      "Cs4 Br4 Formation Energy : -7.149936223230794\n",
      "Cs4 Pb4 Br12 Formation Energy : -8.492938243082682\n",
      "Si2 Formation Energy : 0.02191613711914009\n",
      "Li4 Fe4 P4 O16 Formation Energy : -12.061907388726752\n",
      "Cs4 Br4 Relaxation Stability RMSE : 0.03093876609527998\n",
      "Cs4 Pb4 Br12 Relaxation Stability RMSE : 0.18214189589417767\n",
      "Si2 Relaxation Stability RMSE : 0.022634037275015083\n",
      "Li4 Fe4 P4 O16 Relaxation Stability RMSE : 0.05637823642725702\n",
      "{'stable_ratio': 0.25, 'metastable_ratio': 0.75, 'mean_e_above_hull': 0.07161587097197553, 'mean_formation_energy': -6.920716429480272, 'mean_relaxation_RMSE': 0.07302323392293245}\n"
     ]
    }
   ],
   "source": [
    "benchmark = StabilityBenchmark()\n",
    "benchmark_result = benchmark.evaluate(preprocessor_result.processed_structures)"
   ]
  },
  {
   "cell_type": "code",
   "execution_count": 14,
   "id": "aa87ce40-480e-40f2-9a27-7701fa89cbc3",
   "metadata": {},
   "outputs": [
    {
     "data": {
      "text/plain": [
       "{'stable_ratio': 0.25,\n",
       " 'metastable_ratio': 0.75,\n",
       " 'mean_e_above_hull': 0.07161587097197553,\n",
       " 'mean_formation_energy': -6.920716429480272,\n",
       " 'mean_relaxation_RMSE': 0.07302323392293245}"
      ]
     },
     "execution_count": 14,
     "metadata": {},
     "output_type": "execute_result"
    }
   ],
   "source": [
    "benchmark_result.final_scores"
   ]
  },
  {
   "cell_type": "code",
   "execution_count": null,
   "id": "dcfcd5f7-afa3-4803-8aec-77ae1aafea38",
   "metadata": {},
   "outputs": [],
   "source": []
  }
 ],
 "metadata": {
  "kernelspec": {
   "display_name": "Python 3 (ipykernel)",
   "language": "python",
   "name": "python3"
  },
  "language_info": {
   "codemirror_mode": {
    "name": "ipython",
    "version": 3
   },
   "file_extension": ".py",
   "mimetype": "text/x-python",
   "name": "python",
   "nbconvert_exporter": "python",
   "pygments_lexer": "ipython3",
   "version": "3.11.11"
  }
 },
 "nbformat": 4,
 "nbformat_minor": 5
}
