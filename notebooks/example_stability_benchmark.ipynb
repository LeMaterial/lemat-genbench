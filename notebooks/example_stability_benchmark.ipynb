{
 "cells": [
  {
   "cell_type": "code",
   "execution_count": 21,
   "id": "495e6499-b0d4-429f-8ac3-febaaa06abc5",
   "metadata": {},
   "outputs": [
    {
     "name": "stdout",
     "output_type": "stream",
     "text": [
      "The autoreload extension is already loaded. To reload it, use:\n",
      "  %reload_ext autoreload\n"
     ]
    }
   ],
   "source": [
    "import pandas as pd\n",
    "from pymatgen.core import Structure\n",
    "from pymatgen.util.testing import PymatgenTest\n",
    "\n",
    "from lematerial_forgebench.benchmarks.stability_benchmark import StabilityBenchmark\n",
    "from lematerial_forgebench.benchmarks.validity_benchmark import ValidityBenchmark\n",
    "from lematerial_forgebench.metrics.stability_metrics import StabilityMetric\n",
    "from lematerial_forgebench.preprocess.reference_energies import (\n",
    "    get_energy_above_hull,\n",
    "    get_formation_energy_from_composition_energy,\n",
    ")\n",
    "from lematerial_forgebench.preprocess.stability_preprocess import (\n",
    "    EnergyAboveHull,\n",
    "    OrbFormationEnergy,\n",
    "    StabilityPreprocessor,\n",
    ")\n",
    "\n",
    "%load_ext autoreload\n",
    "%autoreload 2"
   ]
  },
  {
   "cell_type": "code",
   "execution_count": 31,
   "id": "c13ef336-7c0f-4e51-844b-bb8c04b8075f",
   "metadata": {},
   "outputs": [],
   "source": [
    "def test_stability_metric(test_structures):\n",
    "    metric = StabilityMetric(\n",
    "        relaxer_type=\"orb\",\n",
    "        # relaxer_config={\"steps\": 500, \"fmax\": 0.02},\n",
    "    )\n",
    "\n",
    "    result = metric(test_structures)\n",
    "\n",
    "    # Check that computation ran (may have failed indices due to no MP entries)\n",
    "    assert len(result.individual_values) == len(test_structures)\n",
    "\n",
    "    # Check result structure\n",
    "    print(result.metrics)\n",
    "    assert \"mean_e_above_hull\" in result.metrics\n",
    "    assert \"stable_ratio\" in result.metrics\n",
    "    assert result.primary_metric == \"stable_ratio\"\n",
    "\n",
    "    assert result.metrics[\"stable_ratio\"] >= 0.0"
   ]
  },
  {
   "cell_type": "code",
   "execution_count": 32,
   "id": "1e216bd8-2376-44ed-8aef-50a6137823d6",
   "metadata": {},
   "outputs": [
    {
     "name": "stdout",
     "output_type": "stream",
     "text": [
      "{'stable_ratio': np.float64(0.5), 'mean_e_above_hull': np.float64(0.025)}\n"
     ]
    }
   ],
   "source": [
    "test_stability_metric(structures)"
   ]
  },
  {
   "cell_type": "code",
   "execution_count": 23,
   "id": "467f54ac-25ba-435a-b6b7-7ad5446d0c85",
   "metadata": {},
   "outputs": [
    {
     "name": "stderr",
     "output_type": "stream",
     "text": [
      "C:\\Users\\samue\\AppData\\Local\\Temp\\ipykernel_45704\\2378555641.py:1: FutureWarning: PymatgenTest is deprecated, and will be removed on 2026-01-01\n",
      "Use MatSciTest in pymatgen.util.testing instead.\n",
      "  test = PymatgenTest()\n"
     ]
    }
   ],
   "source": [
    "test = PymatgenTest()\n",
    "structures = [\n",
    "    test.get_structure(\"Si\"),\n",
    "    test.get_structure(\"LiFePO4\"),\n",
    "]\n",
    "\n",
    "# Add precomputed e_above_hull values to structure properties\n",
    "e_above_hull_values = [0.05, 0.0]  # Mix of stable and metastable\n",
    "\n",
    "for structure, e_above_hull in zip(structures, e_above_hull_values):\n",
    "    structure.properties[\"e_above_hull\"] = e_above_hull\n"
   ]
  },
  {
   "cell_type": "code",
   "execution_count": 25,
   "id": "e158d399-78f4-458c-9855-e1fb43e1058f",
   "metadata": {},
   "outputs": [],
   "source": [
    "metric = StabilityMetric(\n",
    "    relaxer_type=\"orb\",\n",
    "    # relaxer_config={\"steps\": 500, \"fmax\": 0.02},\n",
    ")\n",
    "\n",
    "result = metric(structures)"
   ]
  },
  {
   "cell_type": "code",
   "execution_count": 28,
   "id": "a9fdb4a2-faec-46a7-ac49-d60577a5bfff",
   "metadata": {},
   "outputs": [
    {
     "data": {
      "text/plain": [
       "MetricResult(metrics={'stable_ratio': np.float64(0.5), 'mean_e_above_hull': np.float64(0.025)}, primary_metric='stable_ratio', uncertainties={'e_above_hull_std': {'std': np.float64(0.025)}}, config=MetricConfig(name='StabilityMetric', description='Evaluates structure stability from precomputed e_above_hull', lower_is_better=False, n_jobs=1), computation_time=0.0, n_structures=2, individual_values=[0.05, 0.0], failed_indices=[], warnings=[])"
      ]
     },
     "execution_count": 28,
     "metadata": {},
     "output_type": "execute_result"
    }
   ],
   "source": [
    "result"
   ]
  },
  {
   "cell_type": "code",
   "execution_count": 27,
   "id": "832b3a5f-3d7a-4622-87f8-f3f82cd722ae",
   "metadata": {},
   "outputs": [
    {
     "ename": "AssertionError",
     "evalue": "",
     "output_type": "error",
     "traceback": [
      "\u001b[31m---------------------------------------------------------------------------\u001b[39m",
      "\u001b[31mAssertionError\u001b[39m                            Traceback (most recent call last)",
      "\u001b[36mCell\u001b[39m\u001b[36m \u001b[39m\u001b[32mIn[27]\u001b[39m\u001b[32m, line 3\u001b[39m\n\u001b[32m      1\u001b[39m \u001b[38;5;28;01massert\u001b[39;00m \u001b[33m\"\u001b[39m\u001b[33mmean_e_above_hull\u001b[39m\u001b[33m\"\u001b[39m \u001b[38;5;129;01min\u001b[39;00m result.metrics\n\u001b[32m      2\u001b[39m \u001b[38;5;28;01massert\u001b[39;00m \u001b[33m\"\u001b[39m\u001b[33mstable_ratio\u001b[39m\u001b[33m\"\u001b[39m \u001b[38;5;129;01min\u001b[39;00m result.metrics\n\u001b[32m----> \u001b[39m\u001b[32m3\u001b[39m \u001b[38;5;28;01massert\u001b[39;00m \u001b[33m\"\u001b[39m\u001b[33mmetastable_ratio\u001b[39m\u001b[33m\"\u001b[39m \u001b[38;5;129;01min\u001b[39;00m result.metrics\n\u001b[32m      4\u001b[39m \u001b[38;5;28;01massert\u001b[39;00m result.primary_metric == \u001b[33m\"\u001b[39m\u001b[33mstable_ratio\u001b[39m\u001b[33m\"\u001b[39m\n",
      "\u001b[31mAssertionError\u001b[39m: "
     ]
    }
   ],
   "source": [
    "assert \"mean_e_above_hull\" in result.metrics\n",
    "assert \"stable_ratio\" in result.metrics\n",
    "assert \"metastable_ratio\" in result.metrics\n",
    "assert result.primary_metric == \"stable_ratio\""
   ]
  },
  {
   "cell_type": "code",
   "execution_count": 10,
   "id": "b344162e-9448-40d3-b748-f52f52ff798e",
   "metadata": {},
   "outputs": [
    {
     "name": "stderr",
     "output_type": "stream",
     "text": [
      "C:\\Users\\samue\\AppData\\Local\\Temp\\ipykernel_45704\\2301446376.py:1: FutureWarning: PymatgenTest is deprecated, and will be removed on 2026-01-01\n",
      "Use MatSciTest in pymatgen.util.testing instead.\n",
      "  test = PymatgenTest()\n"
     ]
    }
   ],
   "source": [
    "test = PymatgenTest()\n",
    "\n",
    "filename = 'CsBr.cif'\n",
    "structure = Structure.from_file(filename)\n",
    "structure = structure.remove_oxidation_states()\n",
    "\n",
    "filename2 = 'CsPbBr3.cif'\n",
    "structure2 = Structure.from_file(filename2)\n",
    "structure2 = structure2.remove_oxidation_states()\n",
    "\n",
    "structures = [structure, structure2, test.get_structure(\"Si\"), test.get_structure(\"LiFePO4\")]"
   ]
  },
  {
   "cell_type": "code",
   "execution_count": 18,
   "id": "d663c22b-1c3a-4b16-96cf-f3d8297a1839",
   "metadata": {
    "scrolled": true
   },
   "outputs": [
    {
     "name": "stderr",
     "output_type": "stream",
     "text": [
      "C:\\Users\\samue\\lematerial-forgebench\\.venv\\Lib\\site-packages\\pymatgen\\analysis\\local_env.py:4022: UserWarning: No oxidation states specified on sites! For better results, set the site oxidation states in the structure.\n",
      "  r1 = _get_radius(structure[n])\n",
      "C:\\Users\\samue\\lematerial-forgebench\\.venv\\Lib\\site-packages\\pymatgen\\analysis\\local_env.py:4024: UserWarning: No oxidation states specified on sites! For better results, set the site oxidation states in the structure.\n",
      "  r2 = _get_radius(entry[\"site\"])\n",
      "C:\\Users\\samue\\lematerial-forgebench\\.venv\\Lib\\site-packages\\pymatgen\\analysis\\local_env.py:3936: UserWarning: CrystalNN: cannot locate an appropriate radius, covalent or atomic radii will be used, this can lead to non-optimal results.\n",
      "  nn_data = self.get_nn_data(structure, n)\n",
      "C:\\Users\\samue\\lematerial-forgebench\\src\\lematerial_forgebench\\metrics\\validity_metrics.py:882: UserWarning: Site labels are not unique, which is not compliant with the CIF spec (https://www.iucr.org/__data/iucr/cifdic_html/1/cif_core.dic/Iatom_site_label.html):`['Cs0', 'Cs0', 'Cs0', 'Cs0', 'Br1', 'Br1', 'Br1', 'Br1']`.\n",
      "  cif_writer = CifWriter(structure)\n",
      "C:\\Users\\samue\\lematerial-forgebench\\src\\lematerial_forgebench\\metrics\\validity_metrics.py:882: UserWarning: Site labels are not unique, which is not compliant with the CIF spec (https://www.iucr.org/__data/iucr/cifdic_html/1/cif_core.dic/Iatom_site_label.html):`['Cs0', 'Cs0', 'Cs0', 'Cs0', 'Pb1', 'Pb1', 'Pb1', 'Pb1', 'Br2', 'Br2', 'Br2', 'Br2', 'Br3', 'Br3', 'Br3', 'Br3', 'Br4', 'Br4', 'Br4', 'Br4']`.\n",
      "  cif_writer = CifWriter(structure)\n",
      "C:\\Users\\samue\\lematerial-forgebench\\.venv\\Lib\\site-packages\\pymatgen\\analysis\\local_env.py:4022: UserWarning: No oxidation states specified on sites! For better results, set the site oxidation states in the structure.\n",
      "  r1 = _get_radius(structure[n])\n",
      "C:\\Users\\samue\\lematerial-forgebench\\.venv\\Lib\\site-packages\\pymatgen\\analysis\\local_env.py:4024: UserWarning: No oxidation states specified on sites! For better results, set the site oxidation states in the structure.\n",
      "  r2 = _get_radius(entry[\"site\"])\n",
      "C:\\Users\\samue\\lematerial-forgebench\\.venv\\Lib\\site-packages\\pymatgen\\analysis\\local_env.py:3936: UserWarning: CrystalNN: cannot locate an appropriate radius, covalent or atomic radii will be used, this can lead to non-optimal results.\n",
      "  nn_data = self.get_nn_data(structure, n)\n"
     ]
    },
    {
     "name": "stdout",
     "output_type": "stream",
     "text": [
      "MetricResult(metrics={'validity_score': np.float64(0.6125), 'valid_structures_ratio': 0.0}, primary_metric='validity_score', uncertainties={'validity_score': {'std': np.float64(0.1030776406404415)}}, config=CompositeValidityConfig(name='CompositeValidity', description='Combined measure of structure validity', lower_is_better=False, n_jobs=1, metrics={'charge_neutrality': ChargeNeutralityConfig(name='ChargeNeutrality', description='Measures how close a structure is to charge neutrality', lower_is_better=True, n_jobs=1, tolerance=0.1, strict=False), 'min_distance': MinimumInteratomicDistanceConfig(name='MinimumInteratomicDistance', description='Evaluates if interatomic distances are physically reasonable', lower_is_better=False, n_jobs=1, element_radii=None, scaling_factor=0.5), 'coordination': CoordinationEnvironmentConfig(name='CoordinationEnvironment', description='Evaluates if coordination environments match chemical expectations', lower_is_better=False, n_jobs=1, environment_database=None, nn_method='crystalnn', tolerance=0.2), 'physical_plausibility': PhysicalPlausibilityConfig(name='PhysicalPlausibility', description='Evaluates basic physical plausibility of structures', lower_is_better=False, n_jobs=1, min_density=1.0, max_density=25.0, check_format=True, check_symmetry=True)}, weights={'charge_neutrality': 0.25, 'min_distance': 0.25, 'coordination': 0.25, 'physical_plausibility': 0.25}, threshold=0.7), computation_time=0.61911940574646, n_structures=4, individual_values=[0.4375, 0.6375, 0.6875, 0.6875], failed_indices=[], warnings=[])\n",
      " \n",
      "{'validity_score': np.float64(0.6125), 'valid_structures_ratio': 0.0}\n",
      " \n",
      "0.0\n"
     ]
    },
    {
     "name": "stderr",
     "output_type": "stream",
     "text": [
      "C:\\Users\\samue\\lematerial-forgebench\\src\\lematerial_forgebench\\metrics\\validity_metrics.py:882: UserWarning: Site labels are not unique, which is not compliant with the CIF spec (https://www.iucr.org/__data/iucr/cifdic_html/1/cif_core.dic/Iatom_site_label.html):`['Cs0', 'Cs0', 'Cs0', 'Cs0', 'Br1', 'Br1', 'Br1', 'Br1']`.\n",
      "  cif_writer = CifWriter(structure)\n",
      "C:\\Users\\samue\\lematerial-forgebench\\src\\lematerial_forgebench\\metrics\\validity_metrics.py:882: UserWarning: Site labels are not unique, which is not compliant with the CIF spec (https://www.iucr.org/__data/iucr/cifdic_html/1/cif_core.dic/Iatom_site_label.html):`['Cs0', 'Cs0', 'Cs0', 'Cs0', 'Pb1', 'Pb1', 'Pb1', 'Pb1', 'Br2', 'Br2', 'Br2', 'Br2', 'Br3', 'Br3', 'Br3', 'Br3', 'Br4', 'Br4', 'Br4', 'Br4']`.\n",
      "  cif_writer = CifWriter(structure)\n"
     ]
    }
   ],
   "source": [
    "benchmark = ValidityBenchmark()\n",
    "benchmark_result = benchmark.evaluate(structures) "
   ]
  },
  {
   "cell_type": "code",
   "execution_count": 19,
   "id": "b4ed72ad-849d-4ade-8d74-6308ac8c5617",
   "metadata": {},
   "outputs": [
    {
     "data": {
      "text/plain": [
       "BenchmarkResult(evaluator_results={'charge_neutrality': {'combined_value': np.float64(0.0), 'charge_neutrality_value': np.float64(0.0), 'metric_results': {'charge_neutrality': MetricResult(metrics={'charge_neutrality_error': np.float64(0.0), 'charge_neutral_ratio': 1.0}, primary_metric='charge_neutrality_error', uncertainties={'charge_neutrality_error': {'std': np.float64(0.0)}}, config=ChargeNeutralityConfig(name='ChargeNeutrality', description='Measures how close a structure is to charge neutrality', lower_is_better=True, n_jobs=1, tolerance=0.1, strict=False), computation_time=0.09488987922668457, n_structures=4, individual_values=[0.0, 0.0, 0.0, 0.0], failed_indices=[], warnings=[])}}, 'interatomic_distance': {'combined_value': np.float64(1.0), 'min_distance_value': np.float64(1.0), 'metric_results': {'min_distance': MetricResult(metrics={'min_distance_score': np.float64(1.0), 'valid_structures_ratio': 1.0}, primary_metric='min_distance_score', uncertainties={'min_distance_score': {'std': np.float64(0.0)}}, config=MinimumInteratomicDistanceConfig(name='MinimumInteratomicDistance', description='Evaluates if interatomic distances are physically reasonable', lower_is_better=False, n_jobs=1, element_radii=None, scaling_factor=0.5), computation_time=0.03174185752868652, n_structures=4, individual_values=[1.0, 1.0, 1.0, 1.0], failed_indices=[], warnings=[])}}, 'coordination_environment': {'combined_value': np.float64(0.7), 'coordination_value': np.float64(0.7), 'metric_results': {'coordination': MetricResult(metrics={'coordination_score': np.float64(0.7), 'valid_structures_ratio': 0.75}, primary_metric='coordination_score', uncertainties={'coordination_score': {'std': np.float64(0.412310562561766)}}, config=CoordinationEnvironmentConfig(name='CoordinationEnvironment', description='Evaluates if coordination environments match chemical expectations', lower_is_better=False, n_jobs=1, environment_database=None, nn_method='crystalnn', tolerance=0.2), computation_time=0.4893016815185547, n_structures=4, individual_values=[0.0, 0.8, 1.0, 1.0], failed_indices=[], warnings=[])}}, 'physical_plausibility': {'combined_value': np.float64(0.75), 'plausibility_value': np.float64(0.75), 'metric_results': {'plausibility': MetricResult(metrics={'physical_plausibility_score': np.float64(0.75), 'fully_plausible_ratio': 0.0}, primary_metric='physical_plausibility_score', uncertainties={'physical_plausibility_score': {'std': np.float64(0.0)}}, config=PhysicalPlausibilityConfig(name='PhysicalPlausibility', description='Evaluates basic physical plausibility of structures', lower_is_better=False, n_jobs=1, min_density=1.0, max_density=25.0, check_format=True, check_symmetry=True), computation_time=0.004000425338745117, n_structures=4, individual_values=[0.75, 0.75, 0.75, 0.75], failed_indices=[], warnings=[])}}, 'overall_validity': {'combined_value': np.float64(0.6125), 'composite_value': np.float64(0.6125), 'metric_results': {'composite': MetricResult(metrics={'validity_score': np.float64(0.6125), 'valid_structures_ratio': 0.0}, primary_metric='validity_score', uncertainties={'validity_score': {'std': np.float64(0.1030776406404415)}}, config=CompositeValidityConfig(name='CompositeValidity', description='Combined measure of structure validity', lower_is_better=False, n_jobs=1, metrics={'charge_neutrality': ChargeNeutralityConfig(name='ChargeNeutrality', description='Measures how close a structure is to charge neutrality', lower_is_better=True, n_jobs=1, tolerance=0.1, strict=False), 'min_distance': MinimumInteratomicDistanceConfig(name='MinimumInteratomicDistance', description='Evaluates if interatomic distances are physically reasonable', lower_is_better=False, n_jobs=1, element_radii=None, scaling_factor=0.5), 'coordination': CoordinationEnvironmentConfig(name='CoordinationEnvironment', description='Evaluates if coordination environments match chemical expectations', lower_is_better=False, n_jobs=1, environment_database=None, nn_method='crystalnn', tolerance=0.2), 'physical_plausibility': PhysicalPlausibilityConfig(name='PhysicalPlausibility', description='Evaluates basic physical plausibility of structures', lower_is_better=False, n_jobs=1, min_density=1.0, max_density=25.0, check_format=True, check_symmetry=True)}, weights={'charge_neutrality': 0.25, 'min_distance': 0.25, 'coordination': 0.25, 'physical_plausibility': 0.25}, threshold=0.7), computation_time=0.61911940574646, n_structures=4, individual_values=[0.4375, 0.6375, 0.6875, 0.6875], failed_indices=[], warnings=[])}}}, final_scores={'overall_validity_score': np.float64(0.6125), 'charge_neutrality_score': np.float64(0.0), 'interatomic_distance_score': np.float64(1.0), 'coordination_environment_score': np.float64(0.7), 'physical_plausibility_score': np.float64(0.75), 'valid_structures_ratio': 0.0}, metadata={'benchmark_name': 'ValidityBenchmark', 'benchmark_description': 'Evaluates the validity of crystal structures based on physical and chemical principles including charge neutrality, interatomic distances, coordination environments, and physical plausibility.', 'n_structures': 4, 'n_evaluators': 5, 'version': '0.1.0', 'category': 'validity', 'weights': {'charge_neutrality': 0.25, 'interatomic_distance': 0.25, 'coordination_environment': 0.25, 'physical_plausibility': 0.25}})"
      ]
     },
     "execution_count": 19,
     "metadata": {},
     "output_type": "execute_result"
    }
   ],
   "source": [
    "benchmark_result"
   ]
  },
  {
   "cell_type": "code",
   "execution_count": 3,
   "id": "cb6aab83-7594-43cc-b94b-4cf861f5850b",
   "metadata": {},
   "outputs": [
    {
     "name": "stderr",
     "output_type": "stream",
     "text": [
      "C:\\Users\\samue\\AppData\\Local\\Temp\\ipykernel_45704\\2301446376.py:1: FutureWarning: PymatgenTest is deprecated, and will be removed on 2026-01-01\n",
      "Use MatSciTest in pymatgen.util.testing instead.\n",
      "  test = PymatgenTest()\n"
     ]
    }
   ],
   "source": []
  },
  {
   "cell_type": "code",
   "execution_count": 4,
   "id": "ed5a490e-bfb0-443e-a730-c00dcdd85140",
   "metadata": {},
   "outputs": [
    {
     "name": "stdout",
     "output_type": "stream",
     "text": [
      "cpu\n"
     ]
    },
    {
     "name": "stderr",
     "output_type": "stream",
     "text": [
      "C:\\Users\\samue\\lematerial-forgebench\\.venv\\Lib\\site-packages\\orb_models\\utils.py:30: UserWarning: Setting global torch default dtype to torch.float32.\n",
      "  warnings.warn(f\"Setting global torch default dtype to {torch_dtype}.\")\n"
     ]
    },
    {
     "name": "stdout",
     "output_type": "stream",
     "text": [
      "energy_above_hull relaxed : 0.0\n"
     ]
    },
    {
     "name": "stderr",
     "output_type": "stream",
     "text": [
      "C:\\Users\\samue\\lematerial-forgebench\\.venv\\Lib\\site-packages\\orb_models\\utils.py:30: UserWarning: Setting global torch default dtype to torch.float32.\n",
      "  warnings.warn(f\"Setting global torch default dtype to {torch_dtype}.\")\n"
     ]
    },
    {
     "name": "stdout",
     "output_type": "stream",
     "text": [
      "energy_above_hull relaxed : 0.028652646023437534\n",
      "energy_above_hull relaxed : 0.009661548326415748\n",
      "energy_above_hull relaxed : 0.24249804714564505\n"
     ]
    }
   ],
   "source": [
    "stability_preprocessor = StabilityPreprocessor()\n",
    "preprocessor_result = stability_preprocessor(structures)"
   ]
  },
  {
   "cell_type": "code",
   "execution_count": 5,
   "id": "34e1ae49-7e44-4ea5-a826-073f2b23d01d",
   "metadata": {},
   "outputs": [
    {
     "name": "stdout",
     "output_type": "stream",
     "text": [
      "Cs4 Br4 Formation Energy : -7.149936223230794\n",
      "Cs4 Pb4 Br12 Formation Energy : -8.492938243082682\n",
      "Si2 Formation Energy : 0.02191613711914009\n",
      "Li4 Fe4 P4 O16 Formation Energy : -12.061907388726752\n",
      "Cs4 Br4 Relaxation Stability RMSE : 0.03093874998560804\n",
      "Cs4 Pb4 Br12 Relaxation Stability RMSE : 0.18214181382134303\n",
      "Si2 Relaxation Stability RMSE : 0.022634037275015083\n",
      "Li4 Fe4 P4 O16 Relaxation Stability RMSE : 0.05637589515774106\n",
      "{'stable_ratio': 0.25, 'metastable_ratio': 0.75, 'mean_e_above_hull': 0.07161587097197553, 'mean_formation_energy': -6.920716429480272, 'mean_relaxation_RMSE': 0.07302262405992681}\n"
     ]
    }
   ],
   "source": [
    "benchmark = StabilityBenchmark()\n",
    "benchmark_result = benchmark.evaluate(preprocessor_result.processed_structures)"
   ]
  },
  {
   "cell_type": "code",
   "execution_count": 7,
   "id": "aa87ce40-480e-40f2-9a27-7701fa89cbc3",
   "metadata": {},
   "outputs": [
    {
     "data": {
      "text/plain": [
       "{'stable_ratio': 0.25,\n",
       " 'metastable_ratio': 0.75,\n",
       " 'mean_e_above_hull': 0.07161587097197553,\n",
       " 'mean_formation_energy': -6.920716429480272,\n",
       " 'mean_relaxation_RMSE': 0.07302262405992681}"
      ]
     },
     "execution_count": 7,
     "metadata": {},
     "output_type": "execute_result"
    }
   ],
   "source": [
    "benchmark_result.final_scores"
   ]
  },
  {
   "cell_type": "code",
   "execution_count": null,
   "id": "95077997-201c-458d-ac28-6c72d20298ca",
   "metadata": {},
   "outputs": [],
   "source": []
  }
 ],
 "metadata": {
  "kernelspec": {
   "display_name": "Python 3 (ipykernel)",
   "language": "python",
   "name": "python3"
  },
  "language_info": {
   "codemirror_mode": {
    "name": "ipython",
    "version": 3
   },
   "file_extension": ".py",
   "mimetype": "text/x-python",
   "name": "python",
   "nbconvert_exporter": "python",
   "pygments_lexer": "ipython3",
   "version": "3.11.11"
  }
 },
 "nbformat": 4,
 "nbformat_minor": 5
}
